{
 "cells": [
  {
   "cell_type": "code",
   "execution_count": 203,
   "id": "efd6a722",
   "metadata": {},
   "outputs": [],
   "source": [
    "#Create a logistic Regrassion model using titanic dataset"
   ]
  },
  {
   "cell_type": "code",
   "execution_count": 204,
   "id": "5e61d8ca",
   "metadata": {},
   "outputs": [],
   "source": [
    "import numpy as np\n",
    "import pandas as pd\n",
    "import matplotlib.pyplot as plt"
   ]
  },
  {
   "cell_type": "code",
   "execution_count": 205,
   "id": "3f6f2394",
   "metadata": {},
   "outputs": [],
   "source": [
    "%matplotlib inline\n",
    "import seaborn as sns"
   ]
  },
  {
   "cell_type": "code",
   "execution_count": 206,
   "id": "355de2bb",
   "metadata": {},
   "outputs": [],
   "source": [
    "data= pd.read_excel(\"D:\\\\machine learning\\\\Datasets\\\\titanic3.xls\")"
   ]
  },
  {
   "cell_type": "code",
   "execution_count": 207,
   "id": "b9cb7801",
   "metadata": {},
   "outputs": [
    {
     "data": {
      "text/html": [
       "<div>\n",
       "<style scoped>\n",
       "    .dataframe tbody tr th:only-of-type {\n",
       "        vertical-align: middle;\n",
       "    }\n",
       "\n",
       "    .dataframe tbody tr th {\n",
       "        vertical-align: top;\n",
       "    }\n",
       "\n",
       "    .dataframe thead th {\n",
       "        text-align: right;\n",
       "    }\n",
       "</style>\n",
       "<table border=\"1\" class=\"dataframe\">\n",
       "  <thead>\n",
       "    <tr style=\"text-align: right;\">\n",
       "      <th></th>\n",
       "      <th>pclass</th>\n",
       "      <th>survived</th>\n",
       "      <th>name</th>\n",
       "      <th>sex</th>\n",
       "      <th>age</th>\n",
       "      <th>sibsp</th>\n",
       "      <th>parch</th>\n",
       "      <th>ticket</th>\n",
       "      <th>fare</th>\n",
       "      <th>cabin</th>\n",
       "      <th>embarked</th>\n",
       "      <th>boat</th>\n",
       "      <th>body</th>\n",
       "      <th>home.dest</th>\n",
       "    </tr>\n",
       "  </thead>\n",
       "  <tbody>\n",
       "    <tr>\n",
       "      <th>0</th>\n",
       "      <td>1</td>\n",
       "      <td>1</td>\n",
       "      <td>Allen, Miss. Elisabeth Walton</td>\n",
       "      <td>female</td>\n",
       "      <td>29.0000</td>\n",
       "      <td>0</td>\n",
       "      <td>0</td>\n",
       "      <td>24160</td>\n",
       "      <td>211.3375</td>\n",
       "      <td>B5</td>\n",
       "      <td>S</td>\n",
       "      <td>2</td>\n",
       "      <td>NaN</td>\n",
       "      <td>St Louis, MO</td>\n",
       "    </tr>\n",
       "    <tr>\n",
       "      <th>1</th>\n",
       "      <td>1</td>\n",
       "      <td>1</td>\n",
       "      <td>Allison, Master. Hudson Trevor</td>\n",
       "      <td>male</td>\n",
       "      <td>0.9167</td>\n",
       "      <td>1</td>\n",
       "      <td>2</td>\n",
       "      <td>113781</td>\n",
       "      <td>151.5500</td>\n",
       "      <td>C22 C26</td>\n",
       "      <td>S</td>\n",
       "      <td>11</td>\n",
       "      <td>NaN</td>\n",
       "      <td>Montreal, PQ / Chesterville, ON</td>\n",
       "    </tr>\n",
       "    <tr>\n",
       "      <th>2</th>\n",
       "      <td>1</td>\n",
       "      <td>0</td>\n",
       "      <td>Allison, Miss. Helen Loraine</td>\n",
       "      <td>female</td>\n",
       "      <td>2.0000</td>\n",
       "      <td>1</td>\n",
       "      <td>2</td>\n",
       "      <td>113781</td>\n",
       "      <td>151.5500</td>\n",
       "      <td>C22 C26</td>\n",
       "      <td>S</td>\n",
       "      <td>NaN</td>\n",
       "      <td>NaN</td>\n",
       "      <td>Montreal, PQ / Chesterville, ON</td>\n",
       "    </tr>\n",
       "    <tr>\n",
       "      <th>3</th>\n",
       "      <td>1</td>\n",
       "      <td>0</td>\n",
       "      <td>Allison, Mr. Hudson Joshua Creighton</td>\n",
       "      <td>male</td>\n",
       "      <td>30.0000</td>\n",
       "      <td>1</td>\n",
       "      <td>2</td>\n",
       "      <td>113781</td>\n",
       "      <td>151.5500</td>\n",
       "      <td>C22 C26</td>\n",
       "      <td>S</td>\n",
       "      <td>NaN</td>\n",
       "      <td>135.0</td>\n",
       "      <td>Montreal, PQ / Chesterville, ON</td>\n",
       "    </tr>\n",
       "    <tr>\n",
       "      <th>4</th>\n",
       "      <td>1</td>\n",
       "      <td>0</td>\n",
       "      <td>Allison, Mrs. Hudson J C (Bessie Waldo Daniels)</td>\n",
       "      <td>female</td>\n",
       "      <td>25.0000</td>\n",
       "      <td>1</td>\n",
       "      <td>2</td>\n",
       "      <td>113781</td>\n",
       "      <td>151.5500</td>\n",
       "      <td>C22 C26</td>\n",
       "      <td>S</td>\n",
       "      <td>NaN</td>\n",
       "      <td>NaN</td>\n",
       "      <td>Montreal, PQ / Chesterville, ON</td>\n",
       "    </tr>\n",
       "  </tbody>\n",
       "</table>\n",
       "</div>"
      ],
      "text/plain": [
       "   pclass  survived                                             name     sex  \\\n",
       "0       1         1                    Allen, Miss. Elisabeth Walton  female   \n",
       "1       1         1                   Allison, Master. Hudson Trevor    male   \n",
       "2       1         0                     Allison, Miss. Helen Loraine  female   \n",
       "3       1         0             Allison, Mr. Hudson Joshua Creighton    male   \n",
       "4       1         0  Allison, Mrs. Hudson J C (Bessie Waldo Daniels)  female   \n",
       "\n",
       "       age  sibsp  parch  ticket      fare    cabin embarked boat   body  \\\n",
       "0  29.0000      0      0   24160  211.3375       B5        S    2    NaN   \n",
       "1   0.9167      1      2  113781  151.5500  C22 C26        S   11    NaN   \n",
       "2   2.0000      1      2  113781  151.5500  C22 C26        S  NaN    NaN   \n",
       "3  30.0000      1      2  113781  151.5500  C22 C26        S  NaN  135.0   \n",
       "4  25.0000      1      2  113781  151.5500  C22 C26        S  NaN    NaN   \n",
       "\n",
       "                         home.dest  \n",
       "0                     St Louis, MO  \n",
       "1  Montreal, PQ / Chesterville, ON  \n",
       "2  Montreal, PQ / Chesterville, ON  \n",
       "3  Montreal, PQ / Chesterville, ON  \n",
       "4  Montreal, PQ / Chesterville, ON  "
      ]
     },
     "execution_count": 207,
     "metadata": {},
     "output_type": "execute_result"
    }
   ],
   "source": [
    "data.head()"
   ]
  },
  {
   "cell_type": "code",
   "execution_count": 208,
   "id": "f7fac4a5",
   "metadata": {},
   "outputs": [
    {
     "name": "stdout",
     "output_type": "stream",
     "text": [
      "<class 'pandas.core.frame.DataFrame'>\n",
      "RangeIndex: 1309 entries, 0 to 1308\n",
      "Data columns (total 14 columns):\n",
      " #   Column     Non-Null Count  Dtype  \n",
      "---  ------     --------------  -----  \n",
      " 0   pclass     1309 non-null   int64  \n",
      " 1   survived   1309 non-null   int64  \n",
      " 2   name       1309 non-null   object \n",
      " 3   sex        1309 non-null   object \n",
      " 4   age        1046 non-null   float64\n",
      " 5   sibsp      1309 non-null   int64  \n",
      " 6   parch      1309 non-null   int64  \n",
      " 7   ticket     1309 non-null   object \n",
      " 8   fare       1308 non-null   float64\n",
      " 9   cabin      295 non-null    object \n",
      " 10  embarked   1307 non-null   object \n",
      " 11  boat       486 non-null    object \n",
      " 12  body       121 non-null    float64\n",
      " 13  home.dest  745 non-null    object \n",
      "dtypes: float64(3), int64(4), object(7)\n",
      "memory usage: 143.3+ KB\n"
     ]
    }
   ],
   "source": [
    "data.info()"
   ]
  },
  {
   "cell_type": "code",
   "execution_count": 209,
   "id": "db23737d",
   "metadata": {},
   "outputs": [
    {
     "data": {
      "text/plain": [
       "<AxesSubplot:>"
      ]
     },
     "execution_count": 209,
     "metadata": {},
     "output_type": "execute_result"
    },
    {
     "data": {
      "image/png": "[encoded data removed]",
      "text/plain": [
       "<Figure size 640x480 with 1 Axes>"
      ]
     },
     "metadata": {},
     "output_type": "display_data"
    }
   ],
   "source": [
    "#Using heatmap graph we basically show which coloum have missing value\n",
    "sns.heatmap(data.isnull(), yticklabels=False, cbar= False, cmap=\"viridis\")"
   ]
  },
  {
   "cell_type": "code",
   "execution_count": 210,
   "id": "99567b92",
   "metadata": {},
   "outputs": [
    {
     "data": {
      "text/plain": [
       "<AxesSubplot:xlabel='survived', ylabel='count'>"
      ]
     },
     "execution_count": 210,
     "metadata": {},
     "output_type": "execute_result"
    },
    {
     "data": {
      "image/png": "[encoded data removed]",
      "text/plain": [
       "<Figure size 640x480 with 1 Axes>"
      ]
     },
     "metadata": {},
     "output_type": "display_data"
    }
   ],
   "source": [
    "sns.set_style(\"whitegrid\")\n",
    "sns.countplot(x=\"survived\", data= data)"
   ]
  },
  {
   "cell_type": "code",
   "execution_count": 211,
   "id": "fbfb412a",
   "metadata": {},
   "outputs": [
    {
     "data": {
      "text/plain": [
       "<AxesSubplot:xlabel='survived', ylabel='count'>"
      ]
     },
     "execution_count": 211,
     "metadata": {},
     "output_type": "execute_result"
    },
    {
     "data": {
      "image/png": "[encoded data removed]",
      "text/plain": [
       "<Figure size 640x480 with 1 Axes>"
      ]
     },
     "metadata": {},
     "output_type": "display_data"
    }
   ],
   "source": [
    "sns.countplot(x= \"survived\", hue= \"sex\", data= data)"
   ]
  },
  {
   "cell_type": "code",
   "execution_count": 212,
   "id": "1e2acd37",
   "metadata": {},
   "outputs": [
    {
     "data": {
      "text/plain": [
       "<AxesSubplot:xlabel='survived', ylabel='count'>"
      ]
     },
     "execution_count": 212,
     "metadata": {},
     "output_type": "execute_result"
    },
    {
     "data": {
      "image/png": "[encoded data removed]",
      "text/plain": [
       "<Figure size 640x480 with 1 Axes>"
      ]
     },
     "metadata": {},
     "output_type": "display_data"
    }
   ],
   "source": [
    "sns.countplot(x= \"survived\", hue= \"pclass\", data= data)"
   ]
  },
  {
   "cell_type": "code",
   "execution_count": 213,
   "id": "e9e9e8f9",
   "metadata": {},
   "outputs": [
    {
     "data": {
      "text/plain": [
       "<seaborn.axisgrid.FacetGrid at 0x26c16a49730>"
      ]
     },
     "execution_count": 213,
     "metadata": {},
     "output_type": "execute_result"
    },
    {
     "data": {
      "image/png": "[encoded data removed]",
      "text/plain": [
       "<Figure size 500x500 with 1 Axes>"
      ]
     },
     "metadata": {},
     "output_type": "display_data"
    }
   ],
   "source": [
    "sns.displot(data[\"age\"], bins= 50)"
   ]
  },
  {
   "cell_type": "code",
   "execution_count": 214,
   "id": "72945743",
   "metadata": {},
   "outputs": [
    {
     "data": {
      "text/html": [
       "        <script type=\"text/javascript\">\n",
       "        window.PlotlyConfig = {MathJaxConfig: 'local'};\n",
       "        if (window.MathJax && window.MathJax.Hub && window.MathJax.Hub.Config) {window.MathJax.Hub.Config({SVG: {font: \"STIX-Web\"}});}\n",
       "        if (typeof require !== 'undefined') {\n",
       "        require.undef(\"plotly\");\n",
       "        requirejs.config({\n",
       "            paths: {\n",
       "                'plotly': ['https://cdn.plot.ly/plotly-2.12.1.min']\n",
       "            }\n",
       "        });\n",
       "        require(['plotly'], function(Plotly) {\n",
       "            window._Plotly = Plotly;\n",
       "        });\n",
       "        }\n",
       "        </script>\n",
       "        "
      ]
     },
     "metadata": {},
     "output_type": "display_data"
    }
   ],
   "source": [
    "import cufflinks as cf\n",
    "cf.go_offline()"
   ]
  },
  {
   "cell_type": "code",
   "execution_count": null,
   "id": "9eed58db",
   "metadata": {},
   "outputs": [],
   "source": []
  },
  {
   "cell_type": "code",
   "execution_count": 215,
   "id": "2ee601e9",
   "metadata": {},
   "outputs": [
    {
     "data": {
      "application/vnd.plotly.v1+json": {
       "config": {
        "linkText": "Export to plot.ly",
        "plotlyServerURL": "https://plot.ly",
        "showLink": true
       },
       "data": [
        {
         "histfunc": "count",
         "histnorm": "",
         "marker": {
          "color": "rgba(255, 153, 51, 1.0)",
          "line": {
           "color": "#4D5663",
           "width": 1.3
          }
         },
         "name": "fare",
         "opacity": 0.8,
         "orientation": "v",
         "type": "histogram",
         "x": [
          211.3375,
          151.55,
          151.55,
          151.55,
          151.55,
          26.55,
          77.9583,
          0,
          51.4792,
          49.5042,
          227.525,
          227.525,
          69.3,
          78.85,
          30,
          25.925,
          247.5208,
          247.5208,
          76.2917,
          75.2417,
          52.5542,
          52.5542,
          30,
          227.525,
          221.7792,
          26,
          91.0792,
          91.0792,
          135.6333,
          26.55,
          35.5,
          31,
          164.8667,
          26.55,
          26.55,
          262.375,
          55,
          26.55,
          30.5,
          50.4958,
          39.6,
          27.7208,
          51.4792,
          76.2917,
          134.5,
          26.55,
          31,
          26.2875,
          27.4458,
          512.3292,
          512.3292,
          5,
          47.1,
          47.1,
          120,
          120,
          120,
          120,
          26,
          27.7208,
          78.85,
          78.85,
          61.175,
          61.175,
          53.1,
          53.1,
          262.375,
          86.5,
          29.7,
          55,
          0,
          136.7792,
          136.7792,
          151.55,
          52,
          25.5875,
          83.1583,
          83.1583,
          83.1583,
          25.7,
          26.55,
          71,
          71,
          26.55,
          71.2833,
          71.2833,
          26.55,
          30.5,
          151.55,
          52,
          52,
          57,
          57,
          81.8583,
          81.8583,
          81.8583,
          106.425,
          247.5208,
          106.425,
          39.6,
          56.9292,
          29.7,
          83.1583,
          227.525,
          78.2667,
          31.6792,
          221.7792,
          31.6833,
          110.8833,
          26.3875,
          27.75,
          263,
          263,
          263,
          263,
          263,
          263,
          56.9292,
          26.55,
          133.65,
          27.7208,
          133.65,
          49.5,
          79.2,
          79.2,
          0,
          53.1,
          53.1,
          38.5,
          211.5,
          59.4,
          59.4,
          79.2,
          89.1042,
          89.1042,
          34.6542,
          28.5,
          30,
          153.4625,
          153.4625,
          63.3583,
          63.3583,
          79.2,
          55.4417,
          55.4417,
          76.7292,
          76.7292,
          42.4,
          83.475,
          83.475,
          0,
          76.7292,
          30,
          83.1583,
          93.5,
          93.5,
          42.5,
          51.8625,
          50,
          57.9792,
          57.9792,
          77.9583,
          52,
          52,
          26.55,
          90,
          30.6958,
          90,
          80,
          28.7125,
          0,
          26,
          26,
          211.5,
          29.7,
          51.8625,
          51.8625,
          52.5542,
          52.5542,
          26.55,
          211.3375,
          25.9292,
          106.425,
          512.3292,
          27.7208,
          26.55,
          27.7208,
          39.4,
          39.4,
          30,
          77.9583,
          45.5,
          146.5208,
          211.3375,
          26,
          86.5,
          29.7,
          53.1,
          53.1,
          49.5042,
          75.2417,
          51.8625,
          26.2875,
          82.1708,
          82.1708,
          26.55,
          90,
          90,
          90,
          57.75,
          30.5,
          42.4,
          29.7,
          113.275,
          113.275,
          113.275,
          26.2833,
          26,
          108.9,
          25.7417,
          61.9792,
          61.9792,
          27.7208,
          0,
          28.5,
          93.5,
          66.6,
          66.6,
          108.9,
          108.9,
          93.5,
          30.5,
          52,
          83.1583,
          0,
          39.6,
          135.6333,
          227.525,
          211.3375,
          50.4958,
          26.55,
          50,
          27.7208,
          79.2,
          40.125,
          86.5,
          59.4,
          59.4,
          26.55,
          262.375,
          262.375,
          262.375,
          262.375,
          262.375,
          30.5,
          69.3,
          26,
          57.75,
          31,
          26.55,
          153.4625,
          26.2875,
          55.9,
          55.9,
          35.5,
          35.5,
          26.55,
          30.6958,
          60,
          26,
          60,
          82.2667,
          82.2667,
          134.5,
          134.5,
          134.5,
          146.5208,
          146.5208,
          30.5,
          26.55,
          55.4417,
          55.4417,
          78.2667,
          27.7208,
          80,
          221.7792,
          221.7792,
          32.3208,
          25.9292,
          79.65,
          79.65,
          79.65,
          52,
          52,
          110.8833,
          110.8833,
          110.8833,
          79.2,
          28.5375,
          27.7208,
          33.5,
          34.0208,
          512.3292,
          75.25,
          75.25,
          26.55,
          77.2875,
          77.2875,
          135.6333,
          164.8667,
          164.8667,
          164.8667,
          211.5,
          211.5,
          211.5,
          26.55,
          61.3792,
          61.3792,
          35,
          134.5,
          35.5,
          26.55,
          135.6333,
          24,
          24,
          13,
          11.5,
          10.5,
          26,
          26,
          13,
          11.5,
          10.5,
          13,
          10.5,
          12.525,
          26,
          26,
          26,
          39,
          39,
          39,
          39,
          13,
          13,
          13,
          13,
          13,
          13,
          13,
          39,
          39,
          39,
          26,
          26,
          13,
          13,
          13,
          13,
          29,
          29,
          29,
          21,
          0,
          13,
          26,
          26,
          13.5,
          26,
          26,
          30,
          30,
          26,
          26,
          10.5,
          13,
          10.5,
          26.25,
          26.25,
          26.25,
          10.5,
          13,
          21,
          11.5,
          0,
          36.75,
          73.5,
          36.75,
          13,
          13,
          73.5,
          27.7208,
          27.7208,
          31.5,
          73.5,
          23,
          23,
          26,
          32.5,
          32.5,
          32.5,
          13.8583,
          13.8583,
          13,
          13,
          13,
          26,
          26,
          10.5,
          13,
          0,
          13,
          26,
          21,
          21,
          13,
          26,
          10.5,
          10.5,
          11.5,
          11.5,
          13.5,
          13,
          13,
          13,
          13,
          13,
          14.5,
          14.5,
          13,
          33,
          33,
          10.5,
          10.5,
          26.25,
          26.25,
          26.25,
          65,
          65,
          65,
          65,
          16,
          73.5,
          73.5,
          73.5,
          13,
          23,
          11.5,
          13,
          23,
          13,
          26,
          26,
          73.5,
          13,
          26,
          26,
          12.275,
          10.5,
          27,
          27,
          15,
          31.5,
          31.5,
          10.5,
          13.7917,
          26,
          26,
          21,
          12.35,
          12.35,
          13.5,
          12.35,
          0,
          10.5,
          26,
          26,
          10.7083,
          41.5792,
          41.5792,
          41.5792,
          41.5792,
          12,
          33,
          10.5,
          12.875,
          10.5,
          12.35,
          26,
          26,
          10.5,
          15.0458,
          37.0042,
          37.0042,
          37.0042,
          15.5792,
          13,
          16,
          13.5,
          13,
          26,
          19.5,
          19.5,
          10.5,
          13,
          13,
          10.5,
          13,
          14,
          26,
          10.5,
          9.6875,
          30.0708,
          30.0708,
          26,
          26,
          26,
          13,
          36.75,
          13.5,
          13.8625,
          10.5,
          13,
          10.5,
          13.8625,
          10.5,
          13.8583,
          10.5,
          0,
          26,
          10.5,
          15.05,
          13,
          21,
          26,
          21,
          13,
          13,
          12.7375,
          15.0333,
          26,
          26,
          26,
          10.5,
          21,
          21,
          13,
          15.0458,
          18.75,
          18.75,
          18.75,
          10.5,
          10.5,
          10.5,
          13,
          13,
          26,
          26,
          13,
          36.75,
          13,
          13.5,
          12.35,
          10.5,
          13,
          13,
          15.0458,
          10.5,
          13,
          65,
          10.5,
          13,
          12.65,
          10.5,
          21,
          21,
          13,
          21,
          21,
          10.5,
          21,
          0,
          15.75,
          15.75,
          13,
          26,
          26,
          23,
          23,
          23,
          27.75,
          27.75,
          27.75,
          27.75,
          10.5,
          12.875,
          13,
          13,
          13.5,
          13,
          7.55,
          20.25,
          20.25,
          20.25,
          7.65,
          7.65,
          7.925,
          7.2292,
          7.25,
          8.05,
          9.475,
          9.35,
          9.35,
          18.7875,
          7.8875,
          7.925,
          7.05,
          7.05,
          8.05,
          8.3,
          22.525,
          7.8542,
          31.275,
          31.275,
          31.275,
          7.925,
          7.775,
          31.275,
          31.275,
          31.275,
          7.7958,
          7.775,
          31.275,
          7.8542,
          7.8958,
          17.8,
          17.8,
          7.775,
          7.05,
          31.3875,
          31.3875,
          31.3875,
          31.3875,
          31.3875,
          31.3875,
          7.7958,
          31.3875,
          7.225,
          7.225,
          7.05,
          14.4583,
          7.225,
          7.8542,
          7.2292,
          7.225,
          15.85,
          15.85,
          19.2583,
          19.2583,
          19.2583,
          19.2583,
          8.05,
          7.225,
          7.8958,
          7.2292,
          14.4542,
          14.4542,
          7.8792,
          8.05,
          8.05,
          7.775,
          9.35,
          7.2292,
          4.0125,
          56.4958,
          7.775,
          7.75,
          7.8958,
          15.2458,
          15.2458,
          7.225,
          15.2458,
          7.75,
          15.5,
          15.5,
          16.1,
          7.725,
          7.8542,
          7.0458,
          7.25,
          7.7958,
          8.05,
          7.2833,
          7.8208,
          6.75,
          7.8792,
          8.6625,
          8.6625,
          8.6625,
          8.6625,
          8.6625,
          8.6625,
          7.75,
          7.75,
          8.05,
          14.4583,
          14.4583,
          7.7958,
          7.8542,
          7.75,
          7.75,
          7.25,
          8.05,
          7.7333,
          56.4958,
          8.05,
          14.4542,
          14.4542,
          7.05,
          8.05,
          7.25,
          7.4958,
          7.4958,
          7.7333,
          7.75,
          7.75,
          7.6292,
          7.75,
          8.05,
          7.8958,
          7.8958,
          7.8958,
          8.05,
          15.9,
          15.9,
          15.9,
          7.25,
          8.1583,
          16.1,
          16.1,
          8.6625,
          7.225,
          8.05,
          10.5167,
          10.1708,
          6.95,
          7.75,
          14.4,
          14.4,
          14.4,
          7.8958,
          7.8958,
          24.15,
          8.05,
          24.15,
          8.05,
          16.1,
          16.1,
          17.4,
          17.4,
          9.5,
          9.5,
          20.575,
          20.575,
          20.575,
          20.575,
          7.8958,
          7.8958,
          7.8958,
          7.25,
          7.25,
          7.8792,
          7.8958,
          8.6625,
          7.8958,
          7.2292,
          7.75,
          8.05,
          12.475,
          7.75,
          8.05,
          7.8958,
          7.75,
          7.55,
          13.9,
          13.9,
          7.775,
          7.775,
          6.975,
          7.225,
          7.2292,
          7.2292,
          7.2292,
          7.25,
          12.475,
          7.225,
          15.1,
          7.75,
          7.05,
          7.7958,
          7.75,
          7.75,
          6.95,
          7.8792,
          7.75,
          56.4958,
          34.375,
          34.375,
          8.05,
          34.375,
          34.375,
          34.375,
          7.75,
          7.25,
          7.7417,
          14.5,
          7.8958,
          8.05,
          7.7333,
          7.75,
          20.525,
          20.525,
          7.85,
          20.525,
          7.05,
          46.9,
          46.9,
          46.9,
          46.9,
          46.9,
          46.9,
          46.9,
          46.9,
          8.05,
          8.3625,
          8.05,
          9.8458,
          7.925,
          7.925,
          7.775,
          8.85,
          7.7333,
          19.9667,
          19.9667,
          15.85,
          15.85,
          9.5,
          7.2292,
          14.1083,
          7.8542,
          7.8542,
          14.1083,
          7.55,
          7.25,
          6.8583,
          18.7875,
          7.75,
          6.975,
          56.4958,
          6.75,
          7.925,
          7.925,
          8.9625,
          7.8958,
          7.775,
          7.75,
          12.2875,
          12.2875,
          6.45,
          22.525,
          7.925,
          7.75,
          8.05,
          7.65,
          7.8875,
          7.2292,
          7.8958,
          7.925,
          7.925,
          7.8958,
          7.8958,
          7.7958,
          7.05,
          7.8542,
          7.8542,
          7.0542,
          7.75,
          8.1125,
          6.4958,
          7.775,
          7.7958,
          8.6542,
          7.775,
          7.8542,
          11.1333,
          11.1333,
          0,
          7.775,
          0,
          11.1333,
          23.45,
          23.45,
          23.45,
          23.45,
          7.8958,
          7.8542,
          7.8542,
          9.825,
          9.825,
          7.925,
          7.125,
          8.4333,
          7.8958,
          7.7958,
          7.8542,
          7.5208,
          13.4167,
          13.4167,
          7.2292,
          7.2292,
          7.75,
          7.25,
          7.75,
          7.75,
          7.8292,
          8.05,
          7.75,
          14.4542,
          14.4542,
          7.75,
          7.75,
          7.7375,
          8.6625,
          8.6625,
          22.025,
          22.025,
          22.025,
          12.1833,
          7.8542,
          12.1833,
          7.8958,
          7.2292,
          7.225,
          9.5875,
          7.8958,
          56.4958,
          56.4958,
          7.25,
          7.75,
          56.4958,
          9.4833,
          7.775,
          7.775,
          7.225,
          25.4667,
          25.4667,
          25.4667,
          25.4667,
          25.4667,
          7.925,
          6.4375,
          15.5,
          15.5,
          0,
          24.15,
          9.5,
          7.775,
          7.75,
          15.55,
          15.55,
          7.925,
          7.8792,
          56.4958,
          7.55,
          16.1,
          16.1,
          7.8792,
          7.25,
          8.6625,
          7.0542,
          7.8542,
          7.5792,
          7.8958,
          7.55,
          7.75,
          7.1417,
          7.125,
          7.8792,
          7.75,
          8.05,
          7.925,
          7.2292,
          7.75,
          7.7375,
          7.2292,
          7.8958,
          7.8958,
          7.225,
          7.8958,
          7.75,
          7.75,
          23.25,
          23.25,
          23.25,
          7.7875,
          15.5,
          7.8792,
          8.0292,
          7.75,
          7.75,
          16.1,
          16.1,
          7.75,
          8.05,
          8.05,
          8.05,
          7.75,
          7.775,
          8.05,
          7.8958,
          7.8958,
          7.8958,
          7.8958,
          7.8792,
          7.65,
          12.475,
          12.475,
          8.05,
          24.15,
          24.15,
          8.4583,
          8.05,
          7.75,
          7.775,
          15.2458,
          15.2458,
          15.2458,
          7.2292,
          8.05,
          7.7333,
          7.75,
          8.05,
          15.5,
          15.5,
          15.5,
          7.75,
          7.8958,
          7.225,
          15.7417,
          15.7417,
          15.7417,
          8.05,
          7.8958,
          7.2292,
          7.75,
          7.8958,
          11.2417,
          11.2417,
          7.925,
          8.05,
          7.775,
          7.8542,
          7.8542,
          7.125,
          7.925,
          7.8,
          7.2292,
          7.75,
          6.2375,
          15.5,
          7.8292,
          15.5,
          7.7333,
          7.75,
          7.75,
          9.225,
          7.75,
          7.75,
          7.8792,
          7.775,
          7.75,
          7.8292,
          3.1708,
          22.525,
          8.4042,
          7.3125,
          7.8542,
          7.8542,
          7.775,
          9.225,
          8.6625,
          8.6625,
          8.6625,
          9.2167,
          8.6833,
          7.6292,
          21.075,
          21.075,
          21.075,
          21.075,
          21.075,
          39.6875,
          39.6875,
          39.6875,
          39.6875,
          39.6875,
          39.6875,
          8.6625,
          14.5,
          8.7125,
          7.8958,
          13.775,
          13.775,
          13.775,
          7,
          7.775,
          8.05,
          7.925,
          7.925,
          7.25,
          7.775,
          22.3583,
          22.3583,
          22.3583,
          8.1375,
          8.05,
          7.8958,
          7.8958,
          7.8958,
          7.775,
          7.775,
          8.05,
          7.8958,
          8.6625,
          8.6625,
          7.8958,
          8.1125,
          7.2292,
          7.25,
          7.8958,
          8.05,
          29.125,
          29.125,
          29.125,
          29.125,
          29.125,
          29.125,
          39.6875,
          7.125,
          7.7208,
          14.5,
          14.5,
          14.5,
          14.5,
          8.05,
          7.775,
          20.2125,
          20.2125,
          20.2125,
          8.05,
          8.05,
          8.05,
          7.75,
          24.15,
          7.2292,
          7.225,
          7.225,
          7.7292,
          7.575,
          7.25,
          69.55,
          69.55,
          69.55,
          69.55,
          69.55,
          69.55,
          69.55,
          69.55,
          69.55,
          69.55,
          69.55,
          9.325,
          7.65,
          7.925,
          21.6792,
          21.6792,
          21.6792,
          16.7,
          16.7,
          16.7,
          9.5,
          8.05,
          8.05,
          7.725,
          7.8958,
          7.75,
          9.5,
          15.1,
          7.7792,
          8.05,
          8.05,
          7.2292,
          8.05,
          7.8958,
          7.925,
          7.4958,
          27.9,
          27.9,
          27.9,
          27.9,
          27.9,
          27.9,
          7.8958,
          8.05,
          8.6625,
          7.75,
          7.7333,
          7.65,
          8.05,
          8.05,
          8.05,
          7.8958,
          8.6625,
          7.55,
          8.05,
          null,
          7.8958,
          9.8375,
          7.925,
          8.6625,
          10.4625,
          10.4625,
          8.05,
          7.925,
          7.05,
          7.775,
          9.225,
          7.7958,
          7.7958,
          8.05,
          8.5167,
          6.4375,
          6.4375,
          7.225,
          8.5167,
          8.05,
          16.1,
          16.1,
          7.925,
          7.75,
          7.8958,
          8.05,
          8.05,
          7.2292,
          0,
          7.2292,
          15.2458,
          15.2458,
          15.2458,
          7.8958,
          9.8417,
          9.5875,
          14.5,
          14.5,
          14.5,
          24.15,
          24.15,
          24.15,
          9.5,
          9.5,
          9.5,
          9.5,
          9,
          18,
          18,
          18,
          18,
          7.225,
          7.8542,
          7.8542,
          7.8958,
          9,
          8.05,
          7.55,
          8.05,
          9.5,
          7.2292,
          7.75,
          6.4958,
          6.4958,
          7,
          8.7125,
          7.55,
          8.05,
          16.1,
          7.25,
          8.6625,
          7.25,
          9.5,
          14.4542,
          14.4542,
          7.225,
          7.225,
          14.4583,
          14.4542,
          14.4542,
          7.225,
          7.225,
          7.875
         ]
        }
       ],
       "layout": {
        "barmode": "overlay",
        "legend": {
         "bgcolor": "#F5F6F9",
         "font": {
          "color": "#4D5663"
         }
        },
        "paper_bgcolor": "#F5F6F9",
        "plot_bgcolor": "#F5F6F9",
        "template": {
         "data": {
          "bar": [
           {
            "error_x": {
             "color": "#2a3f5f"
            },
            "error_y": {
             "color": "#2a3f5f"
            },
            "marker": {
             "line": {
              "color": "#E5ECF6",
              "width": 0.5
             },
             "pattern": {
              "fillmode": "overlay",
              "size": 10,
              "solidity": 0.2
             }
            },
            "type": "bar"
           }
          ],
          "barpolar": [
           {
            "marker": {
             "line": {
              "color": "#E5ECF6",
              "width": 0.5
             },
             "pattern": {
              "fillmode": "overlay",
              "size": 10,
              "solidity": 0.2
             }
            },
            "type": "barpolar"
           }
          ],
          "carpet": [
           {
            "aaxis": {
             "endlinecolor": "#2a3f5f",
             "gridcolor": "white",
             "linecolor": "white",
             "minorgridcolor": "white",
             "startlinecolor": "#2a3f5f"
            },
            "baxis": {
             "endlinecolor": "#2a3f5f",
             "gridcolor": "white",
             "linecolor": "white",
             "minorgridcolor": "white",
             "startlinecolor": "#2a3f5f"
            },
            "type": "carpet"
           }
          ],
          "choropleth": [
           {
            "colorbar": {
             "outlinewidth": 0,
             "ticks": ""
            },
            "type": "choropleth"
           }
          ],
          "contour": [
           {
            "colorbar": {
             "outlinewidth": 0,
             "ticks": ""
            },
            "colorscale": [
             [
              0,
              "#0d0887"
             ],
             [
              0.1111111111111111,
              "#46039f"
             ],
             [
              0.2222222222222222,
              "#7201a8"
             ],
             [
              0.3333333333333333,
              "#9c179e"
             ],
             [
              0.4444444444444444,
              "#bd3786"
             ],
             [
              0.5555555555555556,
              "#d8576b"
             ],
             [
              0.6666666666666666,
              "#ed7953"
             ],
             [
              0.7777777777777778,
              "#fb9f3a"
             ],
             [
              0.8888888888888888,
              "#fdca26"
             ],
             [
              1,
              "#f0f921"
             ]
            ],
            "type": "contour"
           }
          ],
          "contourcarpet": [
           {
            "colorbar": {
             "outlinewidth": 0,
             "ticks": ""
            },
            "type": "contourcarpet"
           }
          ],
          "heatmap": [
           {
            "colorbar": {
             "outlinewidth": 0,
             "ticks": ""
            },
            "colorscale": [
             [
              0,
              "#0d0887"
             ],
             [
              0.1111111111111111,
              "#46039f"
             ],
             [
              0.2222222222222222,
              "#7201a8"
             ],
             [
              0.3333333333333333,
              "#9c179e"
             ],
             [
              0.4444444444444444,
              "#bd3786"
             ],
             [
              0.5555555555555556,
              "#d8576b"
             ],
             [
              0.6666666666666666,
              "#ed7953"
             ],
             [
              0.7777777777777778,
              "#fb9f3a"
             ],
             [
              0.8888888888888888,
              "#fdca26"
             ],
             [
              1,
              "#f0f921"
             ]
            ],
            "type": "heatmap"
           }
          ],
          "heatmapgl": [
           {
            "colorbar": {
             "outlinewidth": 0,
             "ticks": ""
            },
            "colorscale": [
             [
              0,
              "#0d0887"
             ],
             [
              0.1111111111111111,
              "#46039f"
             ],
             [
              0.2222222222222222,
              "#7201a8"
             ],
             [
              0.3333333333333333,
              "#9c179e"
             ],
             [
              0.4444444444444444,
              "#bd3786"
             ],
             [
              0.5555555555555556,
              "#d8576b"
             ],
             [
              0.6666666666666666,
              "#ed7953"
             ],
             [
              0.7777777777777778,
              "#fb9f3a"
             ],
             [
              0.8888888888888888,
              "#fdca26"
             ],
             [
              1,
              "#f0f921"
             ]
            ],
            "type": "heatmapgl"
           }
          ],
          "histogram": [
           {
            "marker": {
             "pattern": {
              "fillmode": "overlay",
              "size": 10,
              "solidity": 0.2
             }
            },
            "type": "histogram"
           }
          ],
          "histogram2d": [
           {
            "colorbar": {
             "outlinewidth": 0,
             "ticks": ""
            },
            "colorscale": [
             [
              0,
              "#0d0887"
             ],
             [
              0.1111111111111111,
              "#46039f"
             ],
             [
              0.2222222222222222,
              "#7201a8"
             ],
             [
              0.3333333333333333,
              "#9c179e"
             ],
             [
              0.4444444444444444,
              "#bd3786"
             ],
             [
              0.5555555555555556,
              "#d8576b"
             ],
             [
              0.6666666666666666,
              "#ed7953"
             ],
             [
              0.7777777777777778,
              "#fb9f3a"
             ],
             [
              0.8888888888888888,
              "#fdca26"
             ],
             [
              1,
              "#f0f921"
             ]
            ],
            "type": "histogram2d"
           }
          ],
          "histogram2dcontour": [
           {
            "colorbar": {
             "outlinewidth": 0,
             "ticks": ""
            },
            "colorscale": [
             [
              0,
              "#0d0887"
             ],
             [
              0.1111111111111111,
              "#46039f"
             ],
             [
              0.2222222222222222,
              "#7201a8"
             ],
             [
              0.3333333333333333,
              "#9c179e"
             ],
             [
              0.4444444444444444,
              "#bd3786"
             ],
             [
              0.5555555555555556,
              "#d8576b"
             ],
             [
              0.6666666666666666,
              "#ed7953"
             ],
             [
              0.7777777777777778,
              "#fb9f3a"
             ],
             [
              0.8888888888888888,
              "#fdca26"
             ],
             [
              1,
              "#f0f921"
             ]
            ],
            "type": "histogram2dcontour"
           }
          ],
          "mesh3d": [
           {
            "colorbar": {
             "outlinewidth": 0,
             "ticks": ""
            },
            "type": "mesh3d"
           }
          ],
          "parcoords": [
           {
            "line": {
             "colorbar": {
              "outlinewidth": 0,
              "ticks": ""
             }
            },
            "type": "parcoords"
           }
          ],
          "pie": [
           {
            "automargin": true,
            "type": "pie"
           }
          ],
          "scatter": [
           {
            "fillpattern": {
             "fillmode": "overlay",
             "size": 10,
             "solidity": 0.2
            },
            "type": "scatter"
           }
          ],
          "scatter3d": [
           {
            "line": {
             "colorbar": {
              "outlinewidth": 0,
              "ticks": ""
             }
            },
            "marker": {
             "colorbar": {
              "outlinewidth": 0,
              "ticks": ""
             }
            },
            "type": "scatter3d"
           }
          ],
          "scattercarpet": [
           {
            "marker": {
             "colorbar": {
              "outlinewidth": 0,
              "ticks": ""
             }
            },
            "type": "scattercarpet"
           }
          ],
          "scattergeo": [
           {
            "marker": {
             "colorbar": {
              "outlinewidth": 0,
              "ticks": ""
             }
            },
            "type": "scattergeo"
           }
          ],
          "scattergl": [
           {
            "marker": {
             "colorbar": {
              "outlinewidth": 0,
              "ticks": ""
             }
            },
            "type": "scattergl"
           }
          ],
          "scattermapbox": [
           {
            "marker": {
             "colorbar": {
              "outlinewidth": 0,
              "ticks": ""
             }
            },
            "type": "scattermapbox"
           }
          ],
          "scatterpolar": [
           {
            "marker": {
             "colorbar": {
              "outlinewidth": 0,
              "ticks": ""
             }
            },
            "type": "scatterpolar"
           }
          ],
          "scatterpolargl": [
           {
            "marker": {
             "colorbar": {
              "outlinewidth": 0,
              "ticks": ""
             }
            },
            "type": "scatterpolargl"
           }
          ],
          "scatterternary": [
           {
            "marker": {
             "colorbar": {
              "outlinewidth": 0,
              "ticks": ""
             }
            },
            "type": "scatterternary"
           }
          ],
          "surface": [
           {
            "colorbar": {
             "outlinewidth": 0,
             "ticks": ""
            },
            "colorscale": [
             [
              0,
              "#0d0887"
             ],
             [
              0.1111111111111111,
              "#46039f"
             ],
             [
              0.2222222222222222,
              "#7201a8"
             ],
             [
              0.3333333333333333,
              "#9c179e"
             ],
             [
              0.4444444444444444,
              "#bd3786"
             ],
             [
              0.5555555555555556,
              "#d8576b"
             ],
             [
              0.6666666666666666,
              "#ed7953"
             ],
             [
              0.7777777777777778,
              "#fb9f3a"
             ],
             [
              0.8888888888888888,
              "#fdca26"
             ],
             [
              1,
              "#f0f921"
             ]
            ],
            "type": "surface"
           }
          ],
          "table": [
           {
            "cells": {
             "fill": {
              "color": "#EBF0F8"
             },
             "line": {
              "color": "white"
             }
            },
            "header": {
             "fill": {
              "color": "#C8D4E3"
             },
             "line": {
              "color": "white"
             }
            },
            "type": "table"
           }
          ]
         },
         "layout": {
          "annotationdefaults": {
           "arrowcolor": "#2a3f5f",
           "arrowhead": 0,
           "arrowwidth": 1
          },
          "autotypenumbers": "strict",
          "coloraxis": {
           "colorbar": {
            "outlinewidth": 0,
            "ticks": ""
           }
          },
          "colorscale": {
           "diverging": [
            [
             0,
             "#8e0152"
            ],
            [
             0.1,
             "#c51b7d"
            ],
            [
             0.2,
             "#de77ae"
            ],
            [
             0.3,
             "#f1b6da"
            ],
            [
             0.4,
             "#fde0ef"
            ],
            [
             0.5,
             "#f7f7f7"
            ],
            [
             0.6,
             "#e6f5d0"
            ],
            [
             0.7,
             "#b8e186"
            ],
            [
             0.8,
             "#7fbc41"
            ],
            [
             0.9,
             "#4d9221"
            ],
            [
             1,
             "#276419"
            ]
           ],
           "sequential": [
            [
             0,
             "#0d0887"
            ],
            [
             0.1111111111111111,
             "#46039f"
            ],
            [
             0.2222222222222222,
             "#7201a8"
            ],
            [
             0.3333333333333333,
             "#9c179e"
            ],
            [
             0.4444444444444444,
             "#bd3786"
            ],
            [
             0.5555555555555556,
             "#d8576b"
            ],
            [
             0.6666666666666666,
             "#ed7953"
            ],
            [
             0.7777777777777778,
             "#fb9f3a"
            ],
            [
             0.8888888888888888,
             "#fdca26"
            ],
            [
             1,
             "#f0f921"
            ]
           ],
           "sequentialminus": [
            [
             0,
             "#0d0887"
            ],
            [
             0.1111111111111111,
             "#46039f"
            ],
            [
             0.2222222222222222,
             "#7201a8"
            ],
            [
             0.3333333333333333,
             "#9c179e"
            ],
            [
             0.4444444444444444,
             "#bd3786"
            ],
            [
             0.5555555555555556,
             "#d8576b"
            ],
            [
             0.6666666666666666,
             "#ed7953"
            ],
            [
             0.7777777777777778,
             "#fb9f3a"
            ],
            [
             0.8888888888888888,
             "#fdca26"
            ],
            [
             1,
             "#f0f921"
            ]
           ]
          },
          "colorway": [
           "#636efa",
           "#EF553B",
           "#00cc96",
           "#ab63fa",
           "#FFA15A",
           "#19d3f3",
           "#FF6692",
           "#B6E880",
           "#FF97FF",
           "#FECB52"
          ],
          "font": {
           "color": "#2a3f5f"
          },
          "geo": {
           "bgcolor": "white",
           "lakecolor": "white",
           "landcolor": "#E5ECF6",
           "showlakes": true,
           "showland": true,
           "subunitcolor": "white"
          },
          "hoverlabel": {
           "align": "left"
          },
          "hovermode": "closest",
          "mapbox": {
           "style": "light"
          },
          "paper_bgcolor": "white",
          "plot_bgcolor": "#E5ECF6",
          "polar": {
           "angularaxis": {
            "gridcolor": "white",
            "linecolor": "white",
            "ticks": ""
           },
           "bgcolor": "#E5ECF6",
           "radialaxis": {
            "gridcolor": "white",
            "linecolor": "white",
            "ticks": ""
           }
          },
          "scene": {
           "xaxis": {
            "backgroundcolor": "#E5ECF6",
            "gridcolor": "white",
            "gridwidth": 2,
            "linecolor": "white",
            "showbackground": true,
            "ticks": "",
            "zerolinecolor": "white"
           },
           "yaxis": {
            "backgroundcolor": "#E5ECF6",
            "gridcolor": "white",
            "gridwidth": 2,
            "linecolor": "white",
            "showbackground": true,
            "ticks": "",
            "zerolinecolor": "white"
           },
           "zaxis": {
            "backgroundcolor": "#E5ECF6",
            "gridcolor": "white",
            "gridwidth": 2,
            "linecolor": "white",
            "showbackground": true,
            "ticks": "",
            "zerolinecolor": "white"
           }
          },
          "shapedefaults": {
           "line": {
            "color": "#2a3f5f"
           }
          },
          "ternary": {
           "aaxis": {
            "gridcolor": "white",
            "linecolor": "white",
            "ticks": ""
           },
           "baxis": {
            "gridcolor": "white",
            "linecolor": "white",
            "ticks": ""
           },
           "bgcolor": "#E5ECF6",
           "caxis": {
            "gridcolor": "white",
            "linecolor": "white",
            "ticks": ""
           }
          },
          "title": {
           "x": 0.05
          },
          "xaxis": {
           "automargin": true,
           "gridcolor": "white",
           "linecolor": "white",
           "ticks": "",
           "title": {
            "standoff": 15
           },
           "zerolinecolor": "white",
           "zerolinewidth": 2
          },
          "yaxis": {
           "automargin": true,
           "gridcolor": "white",
           "linecolor": "white",
           "ticks": "",
           "title": {
            "standoff": 15
           },
           "zerolinecolor": "white",
           "zerolinewidth": 2
          }
         }
        },
        "title": {
         "font": {
          "color": "#4D5663"
         }
        },
        "xaxis": {
         "gridcolor": "#E1E5ED",
         "showgrid": true,
         "tickfont": {
          "color": "#4D5663"
         },
         "title": {
          "font": {
           "color": "#4D5663"
          },
          "text": ""
         },
         "zerolinecolor": "#E1E5ED"
        },
        "yaxis": {
         "gridcolor": "#E1E5ED",
         "showgrid": true,
         "tickfont": {
          "color": "#4D5663"
         },
         "title": {
          "font": {
           "color": "#4D5663"
          },
          "text": ""
         },
         "zerolinecolor": "#E1E5ED"
        }
       }
      },
      "text/html": [
       "<div>                            <div id=\"93cb7cf9-41c1-4c46-9b2d-6fc41f5155f0\" class=\"plotly-graph-div\" style=\"height:525px; width:100%;\"></div>            <script type=\"text/javascript\">                require([\"plotly\"], function(Plotly) {                    window.PLOTLYENV=window.PLOTLYENV || {};\n",
       "                    window.PLOTLYENV.BASE_URL='https://plot.ly';                                    if (document.getElementById(\"93cb7cf9-41c1-4c46-9b2d-6fc41f5155f0\")) {                    Plotly.newPlot(                        \"93cb7cf9-41c1-4c46-9b2d-6fc41f5155f0\",                        [{\"histfunc\":\"count\",\"histnorm\":\"\",\"marker\":{\"color\":\"rgba(255, 153, 51, 1.0)\",\"line\":{\"color\":\"#4D5663\",\"width\":1.3}},\"name\":\"fare\",\"opacity\":0.8,\"orientation\":\"v\",\"x\":[211.3375,151.55,151.55,151.55,151.55,26.55,77.9583,0.0,51.4792,49.5042,227.525,227.525,69.3,78.85,30.0,25.925,247.5208,247.5208,76.2917,75.2417,52.5542,52.5542,30.0,227.525,221.7792,26.0,91.0792,91.0792,135.6333,26.55,35.5,31.0,164.8667,26.55,26.55,262.375,55.0,26.55,30.5,50.4958,39.6,27.7208,51.4792,76.2917,134.5,26.55,31.0,26.2875,27.4458,512.3292,512.3292,5.0,47.1,47.1,120.0,120.0,120.0,120.0,26.0,27.7208,78.85,78.85,61.175,61.175,53.1,53.1,262.375,86.5,29.7,55.0,0.0,136.7792,136.7792,151.55,52.0,25.5875,83.1583,83.1583,83.1583,25.7,26.55,71.0,71.0,26.55,71.2833,71.2833,26.55,30.5,151.55,52.0,52.0,57.0,57.0,81.8583,81.8583,81.8583,106.425,247.5208,106.425,39.6,56.9292,29.7,83.1583,227.525,78.2667,31.6792,221.7792,31.6833,110.8833,26.3875,27.75,263.0,263.0,263.0,263.0,263.0,263.0,56.9292,26.55,133.65,27.7208,133.65,49.5,79.2,79.2,0.0,53.1,53.1,38.5,211.5,59.4,59.4,79.2,89.1042,89.1042,34.6542,28.5,30.0,153.4625,153.4625,63.3583,63.3583,79.2,55.4417,55.4417,76.7292,76.7292,42.4,83.475,83.475,0.0,76.7292,30.0,83.1583,93.5,93.5,42.5,51.8625,50.0,57.9792,57.9792,77.9583,52.0,52.0,26.55,90.0,30.6958,90.0,80.0,28.7125,0.0,26.0,26.0,211.5,29.7,51.8625,51.8625,52.5542,52.5542,26.55,211.3375,25.9292,106.425,512.3292,27.7208,26.55,27.7208,39.4,39.4,30.0,77.9583,45.5,146.5208,211.3375,26.0,86.5,29.7,53.1,53.1,49.5042,75.2417,51.8625,26.2875,82.1708,82.1708,26.55,90.0,90.0,90.0,57.75,30.5,42.4,29.7,113.275,113.275,113.275,26.2833,26.0,108.9,25.7417,61.9792,61.9792,27.7208,0.0,28.5,93.5,66.6,66.6,108.9,108.9,93.5,30.5,52.0,83.1583,0.0,39.6,135.6333,227.525,211.3375,50.4958,26.55,50.0,27.7208,79.2,40.125,86.5,59.4,59.4,26.55,262.375,262.375,262.375,262.375,262.375,30.5,69.3,26.0,57.75,31.0,26.55,153.4625,26.2875,55.9,55.9,35.5,35.5,26.55,30.6958,60.0,26.0,60.0,82.2667,82.2667,134.5,134.5,134.5,146.5208,146.5208,30.5,26.55,55.4417,55.4417,78.2667,27.7208,80.0,221.7792,221.7792,32.3208,25.9292,79.65,79.65,79.65,52.0,52.0,110.8833,110.8833,110.8833,79.2,28.5375,27.7208,33.5,34.0208,512.3292,75.25,75.25,26.55,77.2875,77.2875,135.6333,164.8667,164.8667,164.8667,211.5,211.5,211.5,26.55,61.3792,61.3792,35.0,134.5,35.5,26.55,135.6333,24.0,24.0,13.0,11.5,10.5,26.0,26.0,13.0,11.5,10.5,13.0,10.5,12.525,26.0,26.0,26.0,39.0,39.0,39.0,39.0,13.0,13.0,13.0,13.0,13.0,13.0,13.0,39.0,39.0,39.0,26.0,26.0,13.0,13.0,13.0,13.0,29.0,29.0,29.0,21.0,0.0,13.0,26.0,26.0,13.5,26.0,26.0,30.0,30.0,26.0,26.0,10.5,13.0,10.5,26.25,26.25,26.25,10.5,13.0,21.0,11.5,0.0,36.75,73.5,36.75,13.0,13.0,73.5,27.7208,27.7208,31.5,73.5,23.0,23.0,26.0,32.5,32.5,32.5,13.8583,13.8583,13.0,13.0,13.0,26.0,26.0,10.5,13.0,0.0,13.0,26.0,21.0,21.0,13.0,26.0,10.5,10.5,11.5,11.5,13.5,13.0,13.0,13.0,13.0,13.0,14.5,14.5,13.0,33.0,33.0,10.5,10.5,26.25,26.25,26.25,65.0,65.0,65.0,65.0,16.0,73.5,73.5,73.5,13.0,23.0,11.5,13.0,23.0,13.0,26.0,26.0,73.5,13.0,26.0,26.0,12.275,10.5,27.0,27.0,15.0,31.5,31.5,10.5,13.7917,26.0,26.0,21.0,12.35,12.35,13.5,12.35,0.0,10.5,26.0,26.0,10.7083,41.5792,41.5792,41.5792,41.5792,12.0,33.0,10.5,12.875,10.5,12.35,26.0,26.0,10.5,15.0458,37.0042,37.0042,37.0042,15.5792,13.0,16.0,13.5,13.0,26.0,19.5,19.5,10.5,13.0,13.0,10.5,13.0,14.0,26.0,10.5,9.6875,30.0708,30.0708,26.0,26.0,26.0,13.0,36.75,13.5,13.8625,10.5,13.0,10.5,13.8625,10.5,13.8583,10.5,0.0,26.0,10.5,15.05,13.0,21.0,26.0,21.0,13.0,13.0,12.7375,15.0333,26.0,26.0,26.0,10.5,21.0,21.0,13.0,15.0458,18.75,18.75,18.75,10.5,10.5,10.5,13.0,13.0,26.0,26.0,13.0,36.75,13.0,13.5,12.35,10.5,13.0,13.0,15.0458,10.5,13.0,65.0,10.5,13.0,12.65,10.5,21.0,21.0,13.0,21.0,21.0,10.5,21.0,0.0,15.75,15.75,13.0,26.0,26.0,23.0,23.0,23.0,27.75,27.75,27.75,27.75,10.5,12.875,13.0,13.0,13.5,13.0,7.55,20.25,20.25,20.25,7.65,7.65,7.925,7.2292,7.25,8.05,9.475,9.35,9.35,18.7875,7.8875,7.925,7.05,7.05,8.05,8.3,22.525,7.8542,31.275,31.275,31.275,7.925,7.775,31.275,31.275,31.275,7.7958,7.775,31.275,7.8542,7.8958,17.8,17.8,7.775,7.05,31.3875,31.3875,31.3875,31.3875,31.3875,31.3875,7.7958,31.3875,7.225,7.225,7.05,14.4583,7.225,7.8542,7.2292,7.225,15.85,15.85,19.2583,19.2583,19.2583,19.2583,8.05,7.225,7.8958,7.2292,14.4542,14.4542,7.8792,8.05,8.05,7.775,9.35,7.2292,4.0125,56.4958,7.775,7.75,7.8958,15.2458,15.2458,7.225,15.2458,7.75,15.5,15.5,16.1,7.725,7.8542,7.0458,7.25,7.7958,8.05,7.2833,7.8208,6.75,7.8792,8.6625,8.6625,8.6625,8.6625,8.6625,8.6625,7.75,7.75,8.05,14.4583,14.4583,7.7958,7.8542,7.75,7.75,7.25,8.05,7.7333,56.4958,8.05,14.4542,14.4542,7.05,8.05,7.25,7.4958,7.4958,7.7333,7.75,7.75,7.6292,7.75,8.05,7.8958,7.8958,7.8958,8.05,15.9,15.9,15.9,7.25,8.1583,16.1,16.1,8.6625,7.225,8.05,10.5167,10.1708,6.95,7.75,14.4,14.4,14.4,7.8958,7.8958,24.15,8.05,24.15,8.05,16.1,16.1,17.4,17.4,9.5,9.5,20.575,20.575,20.575,20.575,7.8958,7.8958,7.8958,7.25,7.25,7.8792,7.8958,8.6625,7.8958,7.2292,7.75,8.05,12.475,7.75,8.05,7.8958,7.75,7.55,13.9,13.9,7.775,7.775,6.975,7.225,7.2292,7.2292,7.2292,7.25,12.475,7.225,15.1,7.75,7.05,7.7958,7.75,7.75,6.95,7.8792,7.75,56.4958,34.375,34.375,8.05,34.375,34.375,34.375,7.75,7.25,7.7417,14.5,7.8958,8.05,7.7333,7.75,20.525,20.525,7.85,20.525,7.05,46.9,46.9,46.9,46.9,46.9,46.9,46.9,46.9,8.05,8.3625,8.05,9.8458,7.925,7.925,7.775,8.85,7.7333,19.9667,19.9667,15.85,15.85,9.5,7.2292,14.1083,7.8542,7.8542,14.1083,7.55,7.25,6.8583,18.7875,7.75,6.975,56.4958,6.75,7.925,7.925,8.9625,7.8958,7.775,7.75,12.2875,12.2875,6.45,22.525,7.925,7.75,8.05,7.65,7.8875,7.2292,7.8958,7.925,7.925,7.8958,7.8958,7.7958,7.05,7.8542,7.8542,7.0542,7.75,8.1125,6.4958,7.775,7.7958,8.6542,7.775,7.8542,11.1333,11.1333,0.0,7.775,0.0,11.1333,23.45,23.45,23.45,23.45,7.8958,7.8542,7.8542,9.825,9.825,7.925,7.125,8.4333,7.8958,7.7958,7.8542,7.5208,13.4167,13.4167,7.2292,7.2292,7.75,7.25,7.75,7.75,7.8292,8.05,7.75,14.4542,14.4542,7.75,7.75,7.7375,8.6625,8.6625,22.025,22.025,22.025,12.1833,7.8542,12.1833,7.8958,7.2292,7.225,9.5875,7.8958,56.4958,56.4958,7.25,7.75,56.4958,9.4833,7.775,7.775,7.225,25.4667,25.4667,25.4667,25.4667,25.4667,7.925,6.4375,15.5,15.5,0.0,24.15,9.5,7.775,7.75,15.55,15.55,7.925,7.8792,56.4958,7.55,16.1,16.1,7.8792,7.25,8.6625,7.0542,7.8542,7.5792,7.8958,7.55,7.75,7.1417,7.125,7.8792,7.75,8.05,7.925,7.2292,7.75,7.7375,7.2292,7.8958,7.8958,7.225,7.8958,7.75,7.75,23.25,23.25,23.25,7.7875,15.5,7.8792,8.0292,7.75,7.75,16.1,16.1,7.75,8.05,8.05,8.05,7.75,7.775,8.05,7.8958,7.8958,7.8958,7.8958,7.8792,7.65,12.475,12.475,8.05,24.15,24.15,8.4583,8.05,7.75,7.775,15.2458,15.2458,15.2458,7.2292,8.05,7.7333,7.75,8.05,15.5,15.5,15.5,7.75,7.8958,7.225,15.7417,15.7417,15.7417,8.05,7.8958,7.2292,7.75,7.8958,11.2417,11.2417,7.925,8.05,7.775,7.8542,7.8542,7.125,7.925,7.8,7.2292,7.75,6.2375,15.5,7.8292,15.5,7.7333,7.75,7.75,9.225,7.75,7.75,7.8792,7.775,7.75,7.8292,3.1708,22.525,8.4042,7.3125,7.8542,7.8542,7.775,9.225,8.6625,8.6625,8.6625,9.2167,8.6833,7.6292,21.075,21.075,21.075,21.075,21.075,39.6875,39.6875,39.6875,39.6875,39.6875,39.6875,8.6625,14.5,8.7125,7.8958,13.775,13.775,13.775,7.0,7.775,8.05,7.925,7.925,7.25,7.775,22.3583,22.3583,22.3583,8.1375,8.05,7.8958,7.8958,7.8958,7.775,7.775,8.05,7.8958,8.6625,8.6625,7.8958,8.1125,7.2292,7.25,7.8958,8.05,29.125,29.125,29.125,29.125,29.125,29.125,39.6875,7.125,7.7208,14.5,14.5,14.5,14.5,8.05,7.775,20.2125,20.2125,20.2125,8.05,8.05,8.05,7.75,24.15,7.2292,7.225,7.225,7.7292,7.575,7.25,69.55,69.55,69.55,69.55,69.55,69.55,69.55,69.55,69.55,69.55,69.55,9.325,7.65,7.925,21.6792,21.6792,21.6792,16.7,16.7,16.7,9.5,8.05,8.05,7.725,7.8958,7.75,9.5,15.1,7.7792,8.05,8.05,7.2292,8.05,7.8958,7.925,7.4958,27.9,27.9,27.9,27.9,27.9,27.9,7.8958,8.05,8.6625,7.75,7.7333,7.65,8.05,8.05,8.05,7.8958,8.6625,7.55,8.05,null,7.8958,9.8375,7.925,8.6625,10.4625,10.4625,8.05,7.925,7.05,7.775,9.225,7.7958,7.7958,8.05,8.5167,6.4375,6.4375,7.225,8.5167,8.05,16.1,16.1,7.925,7.75,7.8958,8.05,8.05,7.2292,0.0,7.2292,15.2458,15.2458,15.2458,7.8958,9.8417,9.5875,14.5,14.5,14.5,24.15,24.15,24.15,9.5,9.5,9.5,9.5,9.0,18.0,18.0,18.0,18.0,7.225,7.8542,7.8542,7.8958,9.0,8.05,7.55,8.05,9.5,7.2292,7.75,6.4958,6.4958,7.0,8.7125,7.55,8.05,16.1,7.25,8.6625,7.25,9.5,14.4542,14.4542,7.225,7.225,14.4583,14.4542,14.4542,7.225,7.225,7.875],\"type\":\"histogram\"}],                        {\"barmode\":\"overlay\",\"legend\":{\"bgcolor\":\"#F5F6F9\",\"font\":{\"color\":\"#4D5663\"}},\"paper_bgcolor\":\"#F5F6F9\",\"plot_bgcolor\":\"#F5F6F9\",\"template\":{\"data\":{\"barpolar\":[{\"marker\":{\"line\":{\"color\":\"#E5ECF6\",\"width\":0.5},\"pattern\":{\"fillmode\":\"overlay\",\"size\":10,\"solidity\":0.2}},\"type\":\"barpolar\"}],\"bar\":[{\"error_x\":{\"color\":\"#2a3f5f\"},\"error_y\":{\"color\":\"#2a3f5f\"},\"marker\":{\"line\":{\"color\":\"#E5ECF6\",\"width\":0.5},\"pattern\":{\"fillmode\":\"overlay\",\"size\":10,\"solidity\":0.2}},\"type\":\"bar\"}],\"carpet\":[{\"aaxis\":{\"endlinecolor\":\"#2a3f5f\",\"gridcolor\":\"white\",\"linecolor\":\"white\",\"minorgridcolor\":\"white\",\"startlinecolor\":\"#2a3f5f\"},\"baxis\":{\"endlinecolor\":\"#2a3f5f\",\"gridcolor\":\"white\",\"linecolor\":\"white\",\"minorgridcolor\":\"white\",\"startlinecolor\":\"#2a3f5f\"},\"type\":\"carpet\"}],\"choropleth\":[{\"colorbar\":{\"outlinewidth\":0,\"ticks\":\"\"},\"type\":\"choropleth\"}],\"contourcarpet\":[{\"colorbar\":{\"outlinewidth\":0,\"ticks\":\"\"},\"type\":\"contourcarpet\"}],\"contour\":[{\"colorbar\":{\"outlinewidth\":0,\"ticks\":\"\"},\"colorscale\":[[0.0,\"#0d0887\"],[0.1111111111111111,\"#46039f\"],[0.2222222222222222,\"#7201a8\"],[0.3333333333333333,\"#9c179e\"],[0.4444444444444444,\"#bd3786\"],[0.5555555555555556,\"#d8576b\"],[0.6666666666666666,\"#ed7953\"],[0.7777777777777778,\"#fb9f3a\"],[0.8888888888888888,\"#fdca26\"],[1.0,\"#f0f921\"]],\"type\":\"contour\"}],\"heatmapgl\":[{\"colorbar\":{\"outlinewidth\":0,\"ticks\":\"\"},\"colorscale\":[[0.0,\"#0d0887\"],[0.1111111111111111,\"#46039f\"],[0.2222222222222222,\"#7201a8\"],[0.3333333333333333,\"#9c179e\"],[0.4444444444444444,\"#bd3786\"],[0.5555555555555556,\"#d8576b\"],[0.6666666666666666,\"#ed7953\"],[0.7777777777777778,\"#fb9f3a\"],[0.8888888888888888,\"#fdca26\"],[1.0,\"#f0f921\"]],\"type\":\"heatmapgl\"}],\"heatmap\":[{\"colorbar\":{\"outlinewidth\":0,\"ticks\":\"\"},\"colorscale\":[[0.0,\"#0d0887\"],[0.1111111111111111,\"#46039f\"],[0.2222222222222222,\"#7201a8\"],[0.3333333333333333,\"#9c179e\"],[0.4444444444444444,\"#bd3786\"],[0.5555555555555556,\"#d8576b\"],[0.6666666666666666,\"#ed7953\"],[0.7777777777777778,\"#fb9f3a\"],[0.8888888888888888,\"#fdca26\"],[1.0,\"#f0f921\"]],\"type\":\"heatmap\"}],\"histogram2dcontour\":[{\"colorbar\":{\"outlinewidth\":0,\"ticks\":\"\"},\"colorscale\":[[0.0,\"#0d0887\"],[0.1111111111111111,\"#46039f\"],[0.2222222222222222,\"#7201a8\"],[0.3333333333333333,\"#9c179e\"],[0.4444444444444444,\"#bd3786\"],[0.5555555555555556,\"#d8576b\"],[0.6666666666666666,\"#ed7953\"],[0.7777777777777778,\"#fb9f3a\"],[0.8888888888888888,\"#fdca26\"],[1.0,\"#f0f921\"]],\"type\":\"histogram2dcontour\"}],\"histogram2d\":[{\"colorbar\":{\"outlinewidth\":0,\"ticks\":\"\"},\"colorscale\":[[0.0,\"#0d0887\"],[0.1111111111111111,\"#46039f\"],[0.2222222222222222,\"#7201a8\"],[0.3333333333333333,\"#9c179e\"],[0.4444444444444444,\"#bd3786\"],[0.5555555555555556,\"#d8576b\"],[0.6666666666666666,\"#ed7953\"],[0.7777777777777778,\"#fb9f3a\"],[0.8888888888888888,\"#fdca26\"],[1.0,\"#f0f921\"]],\"type\":\"histogram2d\"}],\"histogram\":[{\"marker\":{\"pattern\":{\"fillmode\":\"overlay\",\"size\":10,\"solidity\":0.2}},\"type\":\"histogram\"}],\"mesh3d\":[{\"colorbar\":{\"outlinewidth\":0,\"ticks\":\"\"},\"type\":\"mesh3d\"}],\"parcoords\":[{\"line\":{\"colorbar\":{\"outlinewidth\":0,\"ticks\":\"\"}},\"type\":\"parcoords\"}],\"pie\":[{\"automargin\":true,\"type\":\"pie\"}],\"scatter3d\":[{\"line\":{\"colorbar\":{\"outlinewidth\":0,\"ticks\":\"\"}},\"marker\":{\"colorbar\":{\"outlinewidth\":0,\"ticks\":\"\"}},\"type\":\"scatter3d\"}],\"scattercarpet\":[{\"marker\":{\"colorbar\":{\"outlinewidth\":0,\"ticks\":\"\"}},\"type\":\"scattercarpet\"}],\"scattergeo\":[{\"marker\":{\"colorbar\":{\"outlinewidth\":0,\"ticks\":\"\"}},\"type\":\"scattergeo\"}],\"scattergl\":[{\"marker\":{\"colorbar\":{\"outlinewidth\":0,\"ticks\":\"\"}},\"type\":\"scattergl\"}],\"scattermapbox\":[{\"marker\":{\"colorbar\":{\"outlinewidth\":0,\"ticks\":\"\"}},\"type\":\"scattermapbox\"}],\"scatterpolargl\":[{\"marker\":{\"colorbar\":{\"outlinewidth\":0,\"ticks\":\"\"}},\"type\":\"scatterpolargl\"}],\"scatterpolar\":[{\"marker\":{\"colorbar\":{\"outlinewidth\":0,\"ticks\":\"\"}},\"type\":\"scatterpolar\"}],\"scatter\":[{\"fillpattern\":{\"fillmode\":\"overlay\",\"size\":10,\"solidity\":0.2},\"type\":\"scatter\"}],\"scatterternary\":[{\"marker\":{\"colorbar\":{\"outlinewidth\":0,\"ticks\":\"\"}},\"type\":\"scatterternary\"}],\"surface\":[{\"colorbar\":{\"outlinewidth\":0,\"ticks\":\"\"},\"colorscale\":[[0.0,\"#0d0887\"],[0.1111111111111111,\"#46039f\"],[0.2222222222222222,\"#7201a8\"],[0.3333333333333333,\"#9c179e\"],[0.4444444444444444,\"#bd3786\"],[0.5555555555555556,\"#d8576b\"],[0.6666666666666666,\"#ed7953\"],[0.7777777777777778,\"#fb9f3a\"],[0.8888888888888888,\"#fdca26\"],[1.0,\"#f0f921\"]],\"type\":\"surface\"}],\"table\":[{\"cells\":{\"fill\":{\"color\":\"#EBF0F8\"},\"line\":{\"color\":\"white\"}},\"header\":{\"fill\":{\"color\":\"#C8D4E3\"},\"line\":{\"color\":\"white\"}},\"type\":\"table\"}]},\"layout\":{\"annotationdefaults\":{\"arrowcolor\":\"#2a3f5f\",\"arrowhead\":0,\"arrowwidth\":1},\"autotypenumbers\":\"strict\",\"coloraxis\":{\"colorbar\":{\"outlinewidth\":0,\"ticks\":\"\"}},\"colorscale\":{\"diverging\":[[0,\"#8e0152\"],[0.1,\"#c51b7d\"],[0.2,\"#de77ae\"],[0.3,\"#f1b6da\"],[0.4,\"#fde0ef\"],[0.5,\"#f7f7f7\"],[0.6,\"#e6f5d0\"],[0.7,\"#b8e186\"],[0.8,\"#7fbc41\"],[0.9,\"#4d9221\"],[1,\"#276419\"]],\"sequential\":[[0.0,\"#0d0887\"],[0.1111111111111111,\"#46039f\"],[0.2222222222222222,\"#7201a8\"],[0.3333333333333333,\"#9c179e\"],[0.4444444444444444,\"#bd3786\"],[0.5555555555555556,\"#d8576b\"],[0.6666666666666666,\"#ed7953\"],[0.7777777777777778,\"#fb9f3a\"],[0.8888888888888888,\"#fdca26\"],[1.0,\"#f0f921\"]],\"sequentialminus\":[[0.0,\"#0d0887\"],[0.1111111111111111,\"#46039f\"],[0.2222222222222222,\"#7201a8\"],[0.3333333333333333,\"#9c179e\"],[0.4444444444444444,\"#bd3786\"],[0.5555555555555556,\"#d8576b\"],[0.6666666666666666,\"#ed7953\"],[0.7777777777777778,\"#fb9f3a\"],[0.8888888888888888,\"#fdca26\"],[1.0,\"#f0f921\"]]},\"colorway\":[\"#636efa\",\"#EF553B\",\"#00cc96\",\"#ab63fa\",\"#FFA15A\",\"#19d3f3\",\"#FF6692\",\"#B6E880\",\"#FF97FF\",\"#FECB52\"],\"font\":{\"color\":\"#2a3f5f\"},\"geo\":{\"bgcolor\":\"white\",\"lakecolor\":\"white\",\"landcolor\":\"#E5ECF6\",\"showlakes\":true,\"showland\":true,\"subunitcolor\":\"white\"},\"hoverlabel\":{\"align\":\"left\"},\"hovermode\":\"closest\",\"mapbox\":{\"style\":\"light\"},\"paper_bgcolor\":\"white\",\"plot_bgcolor\":\"#E5ECF6\",\"polar\":{\"angularaxis\":{\"gridcolor\":\"white\",\"linecolor\":\"white\",\"ticks\":\"\"},\"bgcolor\":\"#E5ECF6\",\"radialaxis\":{\"gridcolor\":\"white\",\"linecolor\":\"white\",\"ticks\":\"\"}},\"scene\":{\"xaxis\":{\"backgroundcolor\":\"#E5ECF6\",\"gridcolor\":\"white\",\"gridwidth\":2,\"linecolor\":\"white\",\"showbackground\":true,\"ticks\":\"\",\"zerolinecolor\":\"white\"},\"yaxis\":{\"backgroundcolor\":\"#E5ECF6\",\"gridcolor\":\"white\",\"gridwidth\":2,\"linecolor\":\"white\",\"showbackground\":true,\"ticks\":\"\",\"zerolinecolor\":\"white\"},\"zaxis\":{\"backgroundcolor\":\"#E5ECF6\",\"gridcolor\":\"white\",\"gridwidth\":2,\"linecolor\":\"white\",\"showbackground\":true,\"ticks\":\"\",\"zerolinecolor\":\"white\"}},\"shapedefaults\":{\"line\":{\"color\":\"#2a3f5f\"}},\"ternary\":{\"aaxis\":{\"gridcolor\":\"white\",\"linecolor\":\"white\",\"ticks\":\"\"},\"baxis\":{\"gridcolor\":\"white\",\"linecolor\":\"white\",\"ticks\":\"\"},\"bgcolor\":\"#E5ECF6\",\"caxis\":{\"gridcolor\":\"white\",\"linecolor\":\"white\",\"ticks\":\"\"}},\"title\":{\"x\":0.05},\"xaxis\":{\"automargin\":true,\"gridcolor\":\"white\",\"linecolor\":\"white\",\"ticks\":\"\",\"title\":{\"standoff\":15},\"zerolinecolor\":\"white\",\"zerolinewidth\":2},\"yaxis\":{\"automargin\":true,\"gridcolor\":\"white\",\"linecolor\":\"white\",\"ticks\":\"\",\"title\":{\"standoff\":15},\"zerolinecolor\":\"white\",\"zerolinewidth\":2}}},\"title\":{\"font\":{\"color\":\"#4D5663\"}},\"xaxis\":{\"gridcolor\":\"#E1E5ED\",\"showgrid\":true,\"tickfont\":{\"color\":\"#4D5663\"},\"title\":{\"font\":{\"color\":\"#4D5663\"},\"text\":\"\"},\"zerolinecolor\":\"#E1E5ED\"},\"yaxis\":{\"gridcolor\":\"#E1E5ED\",\"showgrid\":true,\"tickfont\":{\"color\":\"#4D5663\"},\"title\":{\"font\":{\"color\":\"#4D5663\"},\"text\":\"\"},\"zerolinecolor\":\"#E1E5ED\"}},                        {\"showLink\": true, \"linkText\": \"Export to plot.ly\", \"plotlyServerURL\": \"https://plot.ly\", \"responsive\": true}                    ).then(function(){\n",
       "                            \n",
       "var gd = document.getElementById('93cb7cf9-41c1-4c46-9b2d-6fc41f5155f0');\n",
       "var x = new MutationObserver(function (mutations, observer) {{\n",
       "        var display = window.getComputedStyle(gd).display;\n",
       "        if (!display || display === 'none') {{\n",
       "            console.log([gd, 'removed!']);\n",
       "            Plotly.purge(gd);\n",
       "            observer.disconnect();\n",
       "        }}\n",
       "}});\n",
       "\n",
       "// Listen for the removal of the full notebook cells\n",
       "var notebookContainer = gd.closest('#notebook-container');\n",
       "if (notebookContainer) {{\n",
       "    x.observe(notebookContainer, {childList: true});\n",
       "}}\n",
       "\n",
       "// Listen for the clearing of the current output cell\n",
       "var outputEl = gd.closest('.output');\n",
       "if (outputEl) {{\n",
       "    x.observe(outputEl, {childList: true});\n",
       "}}\n",
       "\n",
       "                        })                };                });            </script>        </div>"
      ]
     },
     "metadata": {},
     "output_type": "display_data"
    }
   ],
   "source": [
    "data[\"fare\"].iplot(kind=\"hist\")"
   ]
  },
  {
   "cell_type": "code",
   "execution_count": 216,
   "id": "d3c16844",
   "metadata": {},
   "outputs": [
    {
     "data": {
      "text/plain": [
       "<AxesSubplot:xlabel='pclass', ylabel='age'>"
      ]
     },
     "execution_count": 216,
     "metadata": {},
     "output_type": "execute_result"
    },
    {
     "data": {
      "image/png": "[encoded data removed]",
      "text/plain": [
       "<Figure size 640x480 with 1 Axes>"
      ]
     },
     "metadata": {},
     "output_type": "display_data"
    }
   ],
   "source": [
    "\n",
    "sns.boxplot(data= data,  x=\"pclass\", y=\"age\")"
   ]
  },
  {
   "cell_type": "code",
   "execution_count": 217,
   "id": "97f3bf56",
   "metadata": {},
   "outputs": [],
   "source": [
    "#Start data preprossing "
   ]
  },
  {
   "cell_type": "code",
   "execution_count": 218,
   "id": "2000adc7",
   "metadata": {},
   "outputs": [],
   "source": [
    "#fill missing value from boxplot graph, i take passenger class average age to fill this misssing value\n",
    "def impute_age(cols):\n",
    "    age= cols[0]\n",
    "    pclass= cols[1]\n",
    "    if pd.isnull(age):\n",
    "        if pclass==1:\n",
    "            return 39\n",
    "        elif pclass==2:\n",
    "            return 29\n",
    "        else: \n",
    "            return 24\n",
    "    \n",
    "    else: \n",
    "        return age"
   ]
  },
  {
   "cell_type": "code",
   "execution_count": 219,
   "id": "8ce103b9",
   "metadata": {},
   "outputs": [],
   "source": [
    "data[\"age\"]= data[[\"age\", \"pclass\"]].apply(impute_age, axis=1)"
   ]
  },
  {
   "cell_type": "code",
   "execution_count": 220,
   "id": "253f67ee",
   "metadata": {},
   "outputs": [
    {
     "data": {
      "text/plain": [
       "<AxesSubplot:>"
      ]
     },
     "execution_count": 220,
     "metadata": {},
     "output_type": "execute_result"
    },
    {
     "data": {
      "image/png": "[encoded data removed]",
      "text/plain": [
       "<Figure size 640x480 with 1 Axes>"
      ]
     },
     "metadata": {},
     "output_type": "display_data"
    }
   ],
   "source": [
    "#just see this graph there were no missig value in age coloum\n",
    "sns.heatmap(data.isnull(), yticklabels=False, cbar= False, cmap=\"viridis\")"
   ]
  },
  {
   "cell_type": "code",
   "execution_count": 221,
   "id": "36633900",
   "metadata": {},
   "outputs": [
    {
     "name": "stdout",
     "output_type": "stream",
     "text": [
      "<class 'pandas.core.frame.DataFrame'>\n",
      "RangeIndex: 1309 entries, 0 to 1308\n",
      "Data columns (total 14 columns):\n",
      " #   Column     Non-Null Count  Dtype  \n",
      "---  ------     --------------  -----  \n",
      " 0   pclass     1309 non-null   int64  \n",
      " 1   survived   1309 non-null   int64  \n",
      " 2   name       1309 non-null   object \n",
      " 3   sex        1309 non-null   object \n",
      " 4   age        1309 non-null   float64\n",
      " 5   sibsp      1309 non-null   int64  \n",
      " 6   parch      1309 non-null   int64  \n",
      " 7   ticket     1309 non-null   object \n",
      " 8   fare       1308 non-null   float64\n",
      " 9   cabin      295 non-null    object \n",
      " 10  embarked   1307 non-null   object \n",
      " 11  boat       486 non-null    object \n",
      " 12  body       121 non-null    float64\n",
      " 13  home.dest  745 non-null    object \n",
      "dtypes: float64(3), int64(4), object(7)\n",
      "memory usage: 143.3+ KB\n"
     ]
    }
   ],
   "source": [
    "data.info()"
   ]
  },
  {
   "cell_type": "code",
   "execution_count": 222,
   "id": "2a1cad0a",
   "metadata": {},
   "outputs": [],
   "source": [
    "#this coloum has too much misssing value thats why i deleted this coloum\n",
    "data.drop(columns=[\"cabin\", \"boat\",\"body\",\"home.dest\"], axis=1, inplace=True)"
   ]
  },
  {
   "cell_type": "code",
   "execution_count": 223,
   "id": "5a294e4a",
   "metadata": {},
   "outputs": [
    {
     "data": {
      "text/html": [
       "<div>\n",
       "<style scoped>\n",
       "    .dataframe tbody tr th:only-of-type {\n",
       "        vertical-align: middle;\n",
       "    }\n",
       "\n",
       "    .dataframe tbody tr th {\n",
       "        vertical-align: top;\n",
       "    }\n",
       "\n",
       "    .dataframe thead th {\n",
       "        text-align: right;\n",
       "    }\n",
       "</style>\n",
       "<table border=\"1\" class=\"dataframe\">\n",
       "  <thead>\n",
       "    <tr style=\"text-align: right;\">\n",
       "      <th></th>\n",
       "      <th>pclass</th>\n",
       "      <th>survived</th>\n",
       "      <th>name</th>\n",
       "      <th>sex</th>\n",
       "      <th>age</th>\n",
       "      <th>sibsp</th>\n",
       "      <th>parch</th>\n",
       "      <th>ticket</th>\n",
       "      <th>fare</th>\n",
       "      <th>embarked</th>\n",
       "    </tr>\n",
       "  </thead>\n",
       "  <tbody>\n",
       "    <tr>\n",
       "      <th>0</th>\n",
       "      <td>1</td>\n",
       "      <td>1</td>\n",
       "      <td>Allen, Miss. Elisabeth Walton</td>\n",
       "      <td>female</td>\n",
       "      <td>29.0000</td>\n",
       "      <td>0</td>\n",
       "      <td>0</td>\n",
       "      <td>24160</td>\n",
       "      <td>211.3375</td>\n",
       "      <td>S</td>\n",
       "    </tr>\n",
       "    <tr>\n",
       "      <th>1</th>\n",
       "      <td>1</td>\n",
       "      <td>1</td>\n",
       "      <td>Allison, Master. Hudson Trevor</td>\n",
       "      <td>male</td>\n",
       "      <td>0.9167</td>\n",
       "      <td>1</td>\n",
       "      <td>2</td>\n",
       "      <td>113781</td>\n",
       "      <td>151.5500</td>\n",
       "      <td>S</td>\n",
       "    </tr>\n",
       "    <tr>\n",
       "      <th>2</th>\n",
       "      <td>1</td>\n",
       "      <td>0</td>\n",
       "      <td>Allison, Miss. Helen Loraine</td>\n",
       "      <td>female</td>\n",
       "      <td>2.0000</td>\n",
       "      <td>1</td>\n",
       "      <td>2</td>\n",
       "      <td>113781</td>\n",
       "      <td>151.5500</td>\n",
       "      <td>S</td>\n",
       "    </tr>\n",
       "    <tr>\n",
       "      <th>3</th>\n",
       "      <td>1</td>\n",
       "      <td>0</td>\n",
       "      <td>Allison, Mr. Hudson Joshua Creighton</td>\n",
       "      <td>male</td>\n",
       "      <td>30.0000</td>\n",
       "      <td>1</td>\n",
       "      <td>2</td>\n",
       "      <td>113781</td>\n",
       "      <td>151.5500</td>\n",
       "      <td>S</td>\n",
       "    </tr>\n",
       "    <tr>\n",
       "      <th>4</th>\n",
       "      <td>1</td>\n",
       "      <td>0</td>\n",
       "      <td>Allison, Mrs. Hudson J C (Bessie Waldo Daniels)</td>\n",
       "      <td>female</td>\n",
       "      <td>25.0000</td>\n",
       "      <td>1</td>\n",
       "      <td>2</td>\n",
       "      <td>113781</td>\n",
       "      <td>151.5500</td>\n",
       "      <td>S</td>\n",
       "    </tr>\n",
       "  </tbody>\n",
       "</table>\n",
       "</div>"
      ],
      "text/plain": [
       "   pclass  survived                                             name     sex  \\\n",
       "0       1         1                    Allen, Miss. Elisabeth Walton  female   \n",
       "1       1         1                   Allison, Master. Hudson Trevor    male   \n",
       "2       1         0                     Allison, Miss. Helen Loraine  female   \n",
       "3       1         0             Allison, Mr. Hudson Joshua Creighton    male   \n",
       "4       1         0  Allison, Mrs. Hudson J C (Bessie Waldo Daniels)  female   \n",
       "\n",
       "       age  sibsp  parch  ticket      fare embarked  \n",
       "0  29.0000      0      0   24160  211.3375        S  \n",
       "1   0.9167      1      2  113781  151.5500        S  \n",
       "2   2.0000      1      2  113781  151.5500        S  \n",
       "3  30.0000      1      2  113781  151.5500        S  \n",
       "4  25.0000      1      2  113781  151.5500        S  "
      ]
     },
     "execution_count": 223,
     "metadata": {},
     "output_type": "execute_result"
    }
   ],
   "source": [
    "data.head()"
   ]
  },
  {
   "cell_type": "code",
   "execution_count": 224,
   "id": "54ea3192",
   "metadata": {},
   "outputs": [
    {
     "data": {
      "text/plain": [
       "<AxesSubplot:>"
      ]
     },
     "execution_count": 224,
     "metadata": {},
     "output_type": "execute_result"
    },
    {
     "data": {
      "image/png": "[encoded data removed]",
      "text/plain": [
       "<Figure size 640x480 with 1 Axes>"
      ]
     },
     "metadata": {},
     "output_type": "display_data"
    }
   ],
   "source": [
    "sns.heatmap(data.isnull(), yticklabels=False, cbar= False, cmap=\"viridis\")"
   ]
  },
  {
   "cell_type": "code",
   "execution_count": 225,
   "id": "2c802cdf",
   "metadata": {},
   "outputs": [
    {
     "name": "stdout",
     "output_type": "stream",
     "text": [
      "pclass      0\n",
      "survived    0\n",
      "name        0\n",
      "sex         0\n",
      "age         0\n",
      "sibsp       0\n",
      "parch       0\n",
      "ticket      0\n",
      "fare        1\n",
      "embarked    2\n",
      "dtype: int64\n"
     ]
    }
   ],
   "source": [
    "#check missing vallue coloum there were some missing value in fare and embarked coloum\n",
    "print(data.isnull().sum())"
   ]
  },
  {
   "cell_type": "code",
   "execution_count": 226,
   "id": "56d3c4f3",
   "metadata": {},
   "outputs": [
    {
     "name": "stdout",
     "output_type": "stream",
     "text": [
      "Missing value indices: [168, 284, 1225]\n"
     ]
    }
   ],
   "source": [
    "#find missig value index number\n",
    "missing_value_mask = data.isnull()\n",
    "\n",
    "# Get the index numbers where missing values are True\n",
    "missing_value_indices = data.index[missing_value_mask.any(axis=1)].tolist()\n",
    "\n",
    "print(\"Missing value indices:\", missing_value_indices)"
   ]
  },
  {
   "cell_type": "code",
   "execution_count": 227,
   "id": "36c4ff68",
   "metadata": {},
   "outputs": [],
   "source": [
    "#delete missing value row from dataset you can also delete missing value from a coloum\n",
    "data.dropna(inplace=True)"
   ]
  },
  {
   "cell_type": "code",
   "execution_count": 228,
   "id": "bf44677b",
   "metadata": {},
   "outputs": [],
   "source": [
    "#covert categorical variablle to numeric variale\n",
    "sex= pd.get_dummies(data[\"sex\"], drop_first=True)\n",
    "embark= pd.get_dummies(data[\"embarked\"], drop_first=True)"
   ]
  },
  {
   "cell_type": "code",
   "execution_count": 229,
   "id": "795a6e46",
   "metadata": {},
   "outputs": [
    {
     "data": {
      "text/html": [
       "<div>\n",
       "<style scoped>\n",
       "    .dataframe tbody tr th:only-of-type {\n",
       "        vertical-align: middle;\n",
       "    }\n",
       "\n",
       "    .dataframe tbody tr th {\n",
       "        vertical-align: top;\n",
       "    }\n",
       "\n",
       "    .dataframe thead th {\n",
       "        text-align: right;\n",
       "    }\n",
       "</style>\n",
       "<table border=\"1\" class=\"dataframe\">\n",
       "  <thead>\n",
       "    <tr style=\"text-align: right;\">\n",
       "      <th></th>\n",
       "      <th>male</th>\n",
       "    </tr>\n",
       "  </thead>\n",
       "  <tbody>\n",
       "    <tr>\n",
       "      <th>0</th>\n",
       "      <td>0</td>\n",
       "    </tr>\n",
       "    <tr>\n",
       "      <th>1</th>\n",
       "      <td>1</td>\n",
       "    </tr>\n",
       "    <tr>\n",
       "      <th>2</th>\n",
       "      <td>0</td>\n",
       "    </tr>\n",
       "    <tr>\n",
       "      <th>3</th>\n",
       "      <td>1</td>\n",
       "    </tr>\n",
       "    <tr>\n",
       "      <th>4</th>\n",
       "      <td>0</td>\n",
       "    </tr>\n",
       "    <tr>\n",
       "      <th>...</th>\n",
       "      <td>...</td>\n",
       "    </tr>\n",
       "    <tr>\n",
       "      <th>1304</th>\n",
       "      <td>0</td>\n",
       "    </tr>\n",
       "    <tr>\n",
       "      <th>1305</th>\n",
       "      <td>0</td>\n",
       "    </tr>\n",
       "    <tr>\n",
       "      <th>1306</th>\n",
       "      <td>1</td>\n",
       "    </tr>\n",
       "    <tr>\n",
       "      <th>1307</th>\n",
       "      <td>1</td>\n",
       "    </tr>\n",
       "    <tr>\n",
       "      <th>1308</th>\n",
       "      <td>1</td>\n",
       "    </tr>\n",
       "  </tbody>\n",
       "</table>\n",
       "<p>1306 rows × 1 columns</p>\n",
       "</div>"
      ],
      "text/plain": [
       "      male\n",
       "0        0\n",
       "1        1\n",
       "2        0\n",
       "3        1\n",
       "4        0\n",
       "...    ...\n",
       "1304     0\n",
       "1305     0\n",
       "1306     1\n",
       "1307     1\n",
       "1308     1\n",
       "\n",
       "[1306 rows x 1 columns]"
      ]
     },
     "execution_count": 229,
     "metadata": {},
     "output_type": "execute_result"
    }
   ],
   "source": [
    "sex"
   ]
  },
  {
   "cell_type": "code",
   "execution_count": 230,
   "id": "0d5816fb",
   "metadata": {},
   "outputs": [
    {
     "data": {
      "text/html": [
       "<div>\n",
       "<style scoped>\n",
       "    .dataframe tbody tr th:only-of-type {\n",
       "        vertical-align: middle;\n",
       "    }\n",
       "\n",
       "    .dataframe tbody tr th {\n",
       "        vertical-align: top;\n",
       "    }\n",
       "\n",
       "    .dataframe thead th {\n",
       "        text-align: right;\n",
       "    }\n",
       "</style>\n",
       "<table border=\"1\" class=\"dataframe\">\n",
       "  <thead>\n",
       "    <tr style=\"text-align: right;\">\n",
       "      <th></th>\n",
       "      <th>Q</th>\n",
       "      <th>S</th>\n",
       "    </tr>\n",
       "  </thead>\n",
       "  <tbody>\n",
       "    <tr>\n",
       "      <th>0</th>\n",
       "      <td>0</td>\n",
       "      <td>1</td>\n",
       "    </tr>\n",
       "    <tr>\n",
       "      <th>1</th>\n",
       "      <td>0</td>\n",
       "      <td>1</td>\n",
       "    </tr>\n",
       "    <tr>\n",
       "      <th>2</th>\n",
       "      <td>0</td>\n",
       "      <td>1</td>\n",
       "    </tr>\n",
       "    <tr>\n",
       "      <th>3</th>\n",
       "      <td>0</td>\n",
       "      <td>1</td>\n",
       "    </tr>\n",
       "    <tr>\n",
       "      <th>4</th>\n",
       "      <td>0</td>\n",
       "      <td>1</td>\n",
       "    </tr>\n",
       "    <tr>\n",
       "      <th>...</th>\n",
       "      <td>...</td>\n",
       "      <td>...</td>\n",
       "    </tr>\n",
       "    <tr>\n",
       "      <th>1304</th>\n",
       "      <td>0</td>\n",
       "      <td>0</td>\n",
       "    </tr>\n",
       "    <tr>\n",
       "      <th>1305</th>\n",
       "      <td>0</td>\n",
       "      <td>0</td>\n",
       "    </tr>\n",
       "    <tr>\n",
       "      <th>1306</th>\n",
       "      <td>0</td>\n",
       "      <td>0</td>\n",
       "    </tr>\n",
       "    <tr>\n",
       "      <th>1307</th>\n",
       "      <td>0</td>\n",
       "      <td>0</td>\n",
       "    </tr>\n",
       "    <tr>\n",
       "      <th>1308</th>\n",
       "      <td>0</td>\n",
       "      <td>1</td>\n",
       "    </tr>\n",
       "  </tbody>\n",
       "</table>\n",
       "<p>1306 rows × 2 columns</p>\n",
       "</div>"
      ],
      "text/plain": [
       "      Q  S\n",
       "0     0  1\n",
       "1     0  1\n",
       "2     0  1\n",
       "3     0  1\n",
       "4     0  1\n",
       "...  .. ..\n",
       "1304  0  0\n",
       "1305  0  0\n",
       "1306  0  0\n",
       "1307  0  0\n",
       "1308  0  1\n",
       "\n",
       "[1306 rows x 2 columns]"
      ]
     },
     "execution_count": 230,
     "metadata": {},
     "output_type": "execute_result"
    }
   ],
   "source": [
    "embark"
   ]
  },
  {
   "cell_type": "code",
   "execution_count": 231,
   "id": "85804d2d",
   "metadata": {},
   "outputs": [],
   "source": [
    "#jon this converted numerical coloum into dataset\n",
    "data= pd.concat([data, sex, embark], axis=1)"
   ]
  },
  {
   "cell_type": "code",
   "execution_count": 232,
   "id": "a63bf79f",
   "metadata": {},
   "outputs": [
    {
     "data": {
      "text/html": [
       "<div>\n",
       "<style scoped>\n",
       "    .dataframe tbody tr th:only-of-type {\n",
       "        vertical-align: middle;\n",
       "    }\n",
       "\n",
       "    .dataframe tbody tr th {\n",
       "        vertical-align: top;\n",
       "    }\n",
       "\n",
       "    .dataframe thead th {\n",
       "        text-align: right;\n",
       "    }\n",
       "</style>\n",
       "<table border=\"1\" class=\"dataframe\">\n",
       "  <thead>\n",
       "    <tr style=\"text-align: right;\">\n",
       "      <th></th>\n",
       "      <th>pclass</th>\n",
       "      <th>survived</th>\n",
       "      <th>name</th>\n",
       "      <th>sex</th>\n",
       "      <th>age</th>\n",
       "      <th>sibsp</th>\n",
       "      <th>parch</th>\n",
       "      <th>ticket</th>\n",
       "      <th>fare</th>\n",
       "      <th>embarked</th>\n",
       "      <th>male</th>\n",
       "      <th>Q</th>\n",
       "      <th>S</th>\n",
       "    </tr>\n",
       "  </thead>\n",
       "  <tbody>\n",
       "    <tr>\n",
       "      <th>0</th>\n",
       "      <td>1</td>\n",
       "      <td>1</td>\n",
       "      <td>Allen, Miss. Elisabeth Walton</td>\n",
       "      <td>female</td>\n",
       "      <td>29.0000</td>\n",
       "      <td>0</td>\n",
       "      <td>0</td>\n",
       "      <td>24160</td>\n",
       "      <td>211.3375</td>\n",
       "      <td>S</td>\n",
       "      <td>0</td>\n",
       "      <td>0</td>\n",
       "      <td>1</td>\n",
       "    </tr>\n",
       "    <tr>\n",
       "      <th>1</th>\n",
       "      <td>1</td>\n",
       "      <td>1</td>\n",
       "      <td>Allison, Master. Hudson Trevor</td>\n",
       "      <td>male</td>\n",
       "      <td>0.9167</td>\n",
       "      <td>1</td>\n",
       "      <td>2</td>\n",
       "      <td>113781</td>\n",
       "      <td>151.5500</td>\n",
       "      <td>S</td>\n",
       "      <td>1</td>\n",
       "      <td>0</td>\n",
       "      <td>1</td>\n",
       "    </tr>\n",
       "    <tr>\n",
       "      <th>2</th>\n",
       "      <td>1</td>\n",
       "      <td>0</td>\n",
       "      <td>Allison, Miss. Helen Loraine</td>\n",
       "      <td>female</td>\n",
       "      <td>2.0000</td>\n",
       "      <td>1</td>\n",
       "      <td>2</td>\n",
       "      <td>113781</td>\n",
       "      <td>151.5500</td>\n",
       "      <td>S</td>\n",
       "      <td>0</td>\n",
       "      <td>0</td>\n",
       "      <td>1</td>\n",
       "    </tr>\n",
       "    <tr>\n",
       "      <th>3</th>\n",
       "      <td>1</td>\n",
       "      <td>0</td>\n",
       "      <td>Allison, Mr. Hudson Joshua Creighton</td>\n",
       "      <td>male</td>\n",
       "      <td>30.0000</td>\n",
       "      <td>1</td>\n",
       "      <td>2</td>\n",
       "      <td>113781</td>\n",
       "      <td>151.5500</td>\n",
       "      <td>S</td>\n",
       "      <td>1</td>\n",
       "      <td>0</td>\n",
       "      <td>1</td>\n",
       "    </tr>\n",
       "    <tr>\n",
       "      <th>4</th>\n",
       "      <td>1</td>\n",
       "      <td>0</td>\n",
       "      <td>Allison, Mrs. Hudson J C (Bessie Waldo Daniels)</td>\n",
       "      <td>female</td>\n",
       "      <td>25.0000</td>\n",
       "      <td>1</td>\n",
       "      <td>2</td>\n",
       "      <td>113781</td>\n",
       "      <td>151.5500</td>\n",
       "      <td>S</td>\n",
       "      <td>0</td>\n",
       "      <td>0</td>\n",
       "      <td>1</td>\n",
       "    </tr>\n",
       "  </tbody>\n",
       "</table>\n",
       "</div>"
      ],
      "text/plain": [
       "   pclass  survived                                             name     sex  \\\n",
       "0       1         1                    Allen, Miss. Elisabeth Walton  female   \n",
       "1       1         1                   Allison, Master. Hudson Trevor    male   \n",
       "2       1         0                     Allison, Miss. Helen Loraine  female   \n",
       "3       1         0             Allison, Mr. Hudson Joshua Creighton    male   \n",
       "4       1         0  Allison, Mrs. Hudson J C (Bessie Waldo Daniels)  female   \n",
       "\n",
       "       age  sibsp  parch  ticket      fare embarked  male  Q  S  \n",
       "0  29.0000      0      0   24160  211.3375        S     0  0  1  \n",
       "1   0.9167      1      2  113781  151.5500        S     1  0  1  \n",
       "2   2.0000      1      2  113781  151.5500        S     0  0  1  \n",
       "3  30.0000      1      2  113781  151.5500        S     1  0  1  \n",
       "4  25.0000      1      2  113781  151.5500        S     0  0  1  "
      ]
     },
     "execution_count": 232,
     "metadata": {},
     "output_type": "execute_result"
    }
   ],
   "source": [
    "data.head()"
   ]
  },
  {
   "cell_type": "code",
   "execution_count": 233,
   "id": "105ebb0f",
   "metadata": {},
   "outputs": [],
   "source": [
    "data.drop([\"sex\", \"name\", \"ticket\", \"embarked\"], axis=1, inplace=True)"
   ]
  },
  {
   "cell_type": "code",
   "execution_count": 234,
   "id": "44890637",
   "metadata": {},
   "outputs": [
    {
     "data": {
      "text/html": [
       "<div>\n",
       "<style scoped>\n",
       "    .dataframe tbody tr th:only-of-type {\n",
       "        vertical-align: middle;\n",
       "    }\n",
       "\n",
       "    .dataframe tbody tr th {\n",
       "        vertical-align: top;\n",
       "    }\n",
       "\n",
       "    .dataframe thead th {\n",
       "        text-align: right;\n",
       "    }\n",
       "</style>\n",
       "<table border=\"1\" class=\"dataframe\">\n",
       "  <thead>\n",
       "    <tr style=\"text-align: right;\">\n",
       "      <th></th>\n",
       "      <th>pclass</th>\n",
       "      <th>survived</th>\n",
       "      <th>age</th>\n",
       "      <th>sibsp</th>\n",
       "      <th>parch</th>\n",
       "      <th>fare</th>\n",
       "      <th>male</th>\n",
       "      <th>Q</th>\n",
       "      <th>S</th>\n",
       "    </tr>\n",
       "  </thead>\n",
       "  <tbody>\n",
       "    <tr>\n",
       "      <th>0</th>\n",
       "      <td>1</td>\n",
       "      <td>1</td>\n",
       "      <td>29.0000</td>\n",
       "      <td>0</td>\n",
       "      <td>0</td>\n",
       "      <td>211.3375</td>\n",
       "      <td>0</td>\n",
       "      <td>0</td>\n",
       "      <td>1</td>\n",
       "    </tr>\n",
       "    <tr>\n",
       "      <th>1</th>\n",
       "      <td>1</td>\n",
       "      <td>1</td>\n",
       "      <td>0.9167</td>\n",
       "      <td>1</td>\n",
       "      <td>2</td>\n",
       "      <td>151.5500</td>\n",
       "      <td>1</td>\n",
       "      <td>0</td>\n",
       "      <td>1</td>\n",
       "    </tr>\n",
       "    <tr>\n",
       "      <th>2</th>\n",
       "      <td>1</td>\n",
       "      <td>0</td>\n",
       "      <td>2.0000</td>\n",
       "      <td>1</td>\n",
       "      <td>2</td>\n",
       "      <td>151.5500</td>\n",
       "      <td>0</td>\n",
       "      <td>0</td>\n",
       "      <td>1</td>\n",
       "    </tr>\n",
       "    <tr>\n",
       "      <th>3</th>\n",
       "      <td>1</td>\n",
       "      <td>0</td>\n",
       "      <td>30.0000</td>\n",
       "      <td>1</td>\n",
       "      <td>2</td>\n",
       "      <td>151.5500</td>\n",
       "      <td>1</td>\n",
       "      <td>0</td>\n",
       "      <td>1</td>\n",
       "    </tr>\n",
       "    <tr>\n",
       "      <th>4</th>\n",
       "      <td>1</td>\n",
       "      <td>0</td>\n",
       "      <td>25.0000</td>\n",
       "      <td>1</td>\n",
       "      <td>2</td>\n",
       "      <td>151.5500</td>\n",
       "      <td>0</td>\n",
       "      <td>0</td>\n",
       "      <td>1</td>\n",
       "    </tr>\n",
       "  </tbody>\n",
       "</table>\n",
       "</div>"
      ],
      "text/plain": [
       "   pclass  survived      age  sibsp  parch      fare  male  Q  S\n",
       "0       1         1  29.0000      0      0  211.3375     0  0  1\n",
       "1       1         1   0.9167      1      2  151.5500     1  0  1\n",
       "2       1         0   2.0000      1      2  151.5500     0  0  1\n",
       "3       1         0  30.0000      1      2  151.5500     1  0  1\n",
       "4       1         0  25.0000      1      2  151.5500     0  0  1"
      ]
     },
     "execution_count": 234,
     "metadata": {},
     "output_type": "execute_result"
    }
   ],
   "source": [
    "data.head()"
   ]
  },
  {
   "cell_type": "code",
   "execution_count": 235,
   "id": "6e5daaae",
   "metadata": {},
   "outputs": [],
   "source": [
    "#here y our predicted variable that is survived coloum, and all feature variable\n",
    "X= data.drop(\"survived\", axis=1)\n",
    "y= data[\"survived\"]"
   ]
  },
  {
   "cell_type": "code",
   "execution_count": 236,
   "id": "029d13ae",
   "metadata": {},
   "outputs": [],
   "source": [
    "from sklearn.model_selection import train_test_split"
   ]
  },
  {
   "cell_type": "code",
   "execution_count": 237,
   "id": "59bedd23",
   "metadata": {},
   "outputs": [],
   "source": [
    "X_train, X_test, y_train, y_test = train_test_split(X, y, test_size=0.30, random_state=42)"
   ]
  },
  {
   "cell_type": "code",
   "execution_count": 238,
   "id": "cd46ac22",
   "metadata": {},
   "outputs": [],
   "source": [
    "from sklearn.linear_model import LogisticRegression"
   ]
  },
  {
   "cell_type": "code",
   "execution_count": 239,
   "id": "d1125400",
   "metadata": {},
   "outputs": [],
   "source": [
    "lgmodel= LogisticRegression()"
   ]
  },
  {
   "cell_type": "code",
   "execution_count": null,
   "id": "91c47511",
   "metadata": {},
   "outputs": [],
   "source": []
  },
  {
   "cell_type": "code",
   "execution_count": 240,
   "id": "dd22106b",
   "metadata": {},
   "outputs": [
    {
     "name": "stderr",
     "output_type": "stream",
     "text": [
      "C:\\Users\\Laptop\\anaconda3\\lib\\site-packages\\sklearn\\linear_model\\_logistic.py:814: ConvergenceWarning:\n",
      "\n",
      "lbfgs failed to converge (status=1):\n",
      "STOP: TOTAL NO. of ITERATIONS REACHED LIMIT.\n",
      "\n",
      "Increase the number of iterations (max_iter) or scale the data as shown in:\n",
      "    https://scikit-learn.org/stable/modules/preprocessing.html\n",
      "Please also refer to the documentation for alternative solver options:\n",
      "    https://scikit-learn.org/stable/modules/linear_model.html#logistic-regression\n",
      "\n"
     ]
    },
    {
     "data": {
      "text/plain": [
       "LogisticRegression()"
      ]
     },
     "execution_count": 240,
     "metadata": {},
     "output_type": "execute_result"
    }
   ],
   "source": [
    "lgmodel.fit(X_train, y_train)"
   ]
  },
  {
   "cell_type": "code",
   "execution_count": 241,
   "id": "eb4ff547",
   "metadata": {},
   "outputs": [],
   "source": [
    "prediction= lgmodel.predict(X_test)"
   ]
  },
  {
   "cell_type": "code",
   "execution_count": 242,
   "id": "381a0d1c",
   "metadata": {},
   "outputs": [],
   "source": [
    "#model evalueation\n",
    "from sklearn.metrics import classification_report"
   ]
  },
  {
   "cell_type": "code",
   "execution_count": 243,
   "id": "428e3cee",
   "metadata": {},
   "outputs": [
    {
     "name": "stdout",
     "output_type": "stream",
     "text": [
      "              precision    recall  f1-score   support\n",
      "\n",
      "           0       0.81      0.86      0.83       239\n",
      "           1       0.76      0.69      0.72       153\n",
      "\n",
      "    accuracy                           0.79       392\n",
      "   macro avg       0.78      0.77      0.78       392\n",
      "weighted avg       0.79      0.79      0.79       392\n",
      "\n"
     ]
    }
   ],
   "source": [
    "print(classification_report(y_test, prediction))"
   ]
  },
  {
   "cell_type": "code",
   "execution_count": 244,
   "id": "1fe78141",
   "metadata": {},
   "outputs": [],
   "source": [
    "from sklearn.metrics import confusion_matrix"
   ]
  },
  {
   "cell_type": "code",
   "execution_count": 245,
   "id": "657298d2",
   "metadata": {},
   "outputs": [],
   "source": [
    "cm= confusion_matrix(y_test, prediction)"
   ]
  },
  {
   "cell_type": "code",
   "execution_count": 246,
   "id": "2d7ca93b",
   "metadata": {},
   "outputs": [
    {
     "data": {
      "text/plain": [
       "<AxesSubplot:>"
      ]
     },
     "execution_count": 246,
     "metadata": {},
     "output_type": "execute_result"
    },
    {
     "data": {
      "image/png": "[encoded data removed]",
      "text/plain": [
       "<Figure size 640x480 with 1 Axes>"
      ]
     },
     "metadata": {},
     "output_type": "display_data"
    }
   ],
   "source": [
    "sns.heatmap(cm, annot=True, fmt='d', cmap='Blues', cbar=False)"
   ]
  },
  {
   "cell_type": "code",
   "execution_count": null,
   "id": "b7c55aed",
   "metadata": {},
   "outputs": [],
   "source": []
  }
 ],
 "metadata": {
  "kernelspec": {
   "display_name": "Python 3 (ipykernel)",
   "language": "python",
   "name": "python3"
  },
  "language_info": {
   "codemirror_mode": {
    "name": "ipython",
    "version": 3
   },
   "file_extension": ".py",
   "mimetype": "text/x-python",
   "name": "python",
   "nbconvert_exporter": "python",
   "pygments_lexer": "ipython3",
   "version": "3.9.13"
  }
 },
 "nbformat": 4,
 "nbformat_minor": 5
}
