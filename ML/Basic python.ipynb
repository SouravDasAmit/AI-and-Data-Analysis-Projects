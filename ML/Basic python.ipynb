{
 "cells": [
  {
   "cell_type": "code",
   "execution_count": 1,
   "id": "b857df41",
   "metadata": {},
   "outputs": [
    {
     "data": {
      "text/plain": [
       "'2.0.1'"
      ]
     },
     "execution_count": 1,
     "metadata": {},
     "output_type": "execute_result"
    }
   ],
   "source": [
    "#check vrtsion\n",
    "import markupsafe\n",
    "markupsafe.__version__"
   ]
  },
  {
   "cell_type": "code",
   "execution_count": 2,
   "id": "eb12d1ce",
   "metadata": {},
   "outputs": [
    {
     "name": "stdout",
     "output_type": "stream",
     "text": [
      "amar sunar bangla\n"
     ]
    }
   ],
   "source": [
    "print(\"amar sunar bangla\")"
   ]
  },
  {
   "cell_type": "code",
   "execution_count": 3,
   "id": "a1afdefa",
   "metadata": {},
   "outputs": [
    {
     "name": "stdout",
     "output_type": "stream",
     "text": [
      "integer= 5, string= string\n"
     ]
    }
   ],
   "source": [
    "a= 5\n",
    "b= \"string\"\n",
    "print(f\"integer= {a}, string= {b}\")"
   ]
  },
  {
   "cell_type": "code",
   "execution_count": 4,
   "id": "8faf3f1f",
   "metadata": {},
   "outputs": [
    {
     "name": "stdout",
     "output_type": "stream",
     "text": [
      "[3, 5, 6, 12, 5]\n"
     ]
    }
   ],
   "source": [
    "#list\n",
    "a= [ 3, 5, 6, 12, 5]\n",
    "print(a)"
   ]
  },
  {
   "cell_type": "code",
   "execution_count": 5,
   "id": "15a3b126",
   "metadata": {},
   "outputs": [
    {
     "name": "stdout",
     "output_type": "stream",
     "text": [
      "9\n"
     ]
    }
   ],
   "source": [
    "sum= a[2]+ a[0]\n",
    "print(sum)"
   ]
  },
  {
   "cell_type": "code",
   "execution_count": 8,
   "id": "e2bf52c3",
   "metadata": {},
   "outputs": [],
   "source": [
    "a[0]= \"karim\""
   ]
  },
  {
   "cell_type": "code",
   "execution_count": 7,
   "id": "3b86ab72",
   "metadata": {},
   "outputs": [
    {
     "name": "stdout",
     "output_type": "stream",
     "text": [
      "['karim', 5, 6, 12, 5]\n"
     ]
    }
   ],
   "source": [
    "print(a)"
   ]
  },
  {
   "cell_type": "code",
   "execution_count": 9,
   "id": "50979bb6",
   "metadata": {},
   "outputs": [
    {
     "name": "stdout",
     "output_type": "stream",
     "text": [
      "['karim', 5, 6, 12, 5, 'jabber']\n"
     ]
    }
   ],
   "source": [
    "a.append(\"jabber\")\n",
    "print(a)"
   ]
  },
  {
   "cell_type": "code",
   "execution_count": 10,
   "id": "038cee0c",
   "metadata": {},
   "outputs": [
    {
     "name": "stdout",
     "output_type": "stream",
     "text": [
      "['karim', 5, 6, 12, 5, 'jabber', [4, 'rahim']]\n"
     ]
    }
   ],
   "source": [
    "#nested list\n",
    "a.append([4, \"rahim\"])\n",
    "print(a)"
   ]
  },
  {
   "cell_type": "code",
   "execution_count": 11,
   "id": "c2242575",
   "metadata": {},
   "outputs": [
    {
     "name": "stdout",
     "output_type": "stream",
     "text": [
      "4 rahim\n"
     ]
    }
   ],
   "source": [
    "print(a[6][0], a[6][1]) "
   ]
  },
  {
   "cell_type": "code",
   "execution_count": 12,
   "id": "812aa924",
   "metadata": {},
   "outputs": [
    {
     "name": "stdout",
     "output_type": "stream",
     "text": [
      "{'b', 2, 'a', 12}\n"
     ]
    }
   ],
   "source": [
    "#set is just like a list but dublicate value are not allow in set\n",
    "seet= {\"a\", \"b\", \"a\", 2, 2, 12}\n",
    "print(seet)"
   ]
  },
  {
   "cell_type": "code",
   "execution_count": 16,
   "id": "21494c35",
   "metadata": {},
   "outputs": [
    {
     "name": "stdout",
     "output_type": "stream",
     "text": [
      "111\n"
     ]
    }
   ],
   "source": [
    "x= int(input())"
   ]
  },
  {
   "cell_type": "code",
   "execution_count": 17,
   "id": "18f9897a",
   "metadata": {},
   "outputs": [
    {
     "name": "stdout",
     "output_type": "stream",
     "text": [
      "give wrong number\n"
     ]
    }
   ],
   "source": [
    "#condition\n",
    "if x<=100:\n",
    "    if (x >= 80):\n",
    "        print(\"you got A+\")\n",
    "    elif x>=60:\n",
    "        print(\"you got A\")\n",
    "    else:\n",
    "        print(\"Your are failer\")\n",
    "else:\n",
    "    print(\"give wrong number\")\n",
    "    "
   ]
  },
  {
   "cell_type": "code",
   "execution_count": 30,
   "id": "46e9119c",
   "metadata": {},
   "outputs": [
    {
     "name": "stdout",
     "output_type": "stream",
     "text": [
      "5\n",
      "5 is a prime number\n"
     ]
    }
   ],
   "source": [
    "#loop\n",
    "#find prime number\n",
    "x= int(input())\n",
    "for i in range (2, x-1):\n",
    "    if x % i != 0:\n",
    "        catch= 1\n",
    "    else:\n",
    "        catch= 0\n",
    "if catch==1:\n",
    "    print(f\"{x} is a prime number\")\n",
    "else:\n",
    "    print(f\"{x} is not prime\")"
   ]
  },
  {
   "cell_type": "code",
   "execution_count": 2,
   "id": "11a5bc4f",
   "metadata": {},
   "outputs": [
    {
     "name": "stdout",
     "output_type": "stream",
     "text": [
      "0\n",
      "1\n",
      "2\n",
      "3\n",
      "4\n"
     ]
    }
   ],
   "source": [
    "#while loop\n",
    "j=0\n",
    "while j<5:\n",
    "    print(j)\n",
    "    j= j+1"
   ]
  },
  {
   "cell_type": "code",
   "execution_count": 6,
   "id": "019f0e6b",
   "metadata": {},
   "outputs": [
    {
     "name": "stdout",
     "output_type": "stream",
     "text": [
      "dict_keys(['a', 'b'])\n"
     ]
    },
    {
     "data": {
      "text/plain": [
       "dict_items([('a', 'mangoes'), ('b', 'licy')])"
      ]
     },
     "execution_count": 6,
     "metadata": {},
     "output_type": "execute_result"
    }
   ],
   "source": [
    "#dictonary \n",
    "d= {'a': 'mangoes', 'b': 'licy', 'a'='fdks', }\n",
    "print(d.keys())\n",
    "d.items()"
   ]
  },
  {
   "cell_type": "code",
   "execution_count": null,
   "id": "724cc83c",
   "metadata": {},
   "outputs": [],
   "source": []
  }
 ],
 "metadata": {
  "kernelspec": {
   "display_name": "Python 3 (ipykernel)",
   "language": "python",
   "name": "python3"
  },
  "language_info": {
   "codemirror_mode": {
    "name": "ipython",
    "version": 3
   },
   "file_extension": ".py",
   "mimetype": "text/x-python",
   "name": "python",
   "nbconvert_exporter": "python",
   "pygments_lexer": "ipython3",
   "version": "3.9.17"
  }
 },
 "nbformat": 4,
 "nbformat_minor": 5
}
