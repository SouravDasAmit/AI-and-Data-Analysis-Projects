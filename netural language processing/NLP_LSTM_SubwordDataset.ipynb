{
  "nbformat": 4,
  "nbformat_minor": 0,
  "metadata": {
    "colab": {
      "provenance": []
    },
    "kernelspec": {
      "name": "python3",
      "display_name": "Python 3"
    },
    "language_info": {
      "name": "python"
    }
  },
  "cells": [
    {
      "cell_type": "markdown",
      "source": [
        "# Imports"
      ],
      "metadata": {
        "id": "oBQXoHIn5Eyj"
      }
    },
    {
      "cell_type": "code",
      "execution_count": null,
      "metadata": {
        "id": "y4ueOWts5Dqr"
      },
      "outputs": [],
      "source": [
        "import numpy as np\n",
        "import pandas as pd\n",
        "import tensorflow as tf\n",
        "from tensorflow.keras.preprocessing.sequence import pad_sequences"
      ]
    },
    {
      "cell_type": "markdown",
      "source": [
        "# Dataset"
      ],
      "metadata": {
        "id": "biFvWPsH5hu5"
      }
    },
    {
      "cell_type": "code",
      "source": [
        "!wget --no-check-certificate \\\n",
        "    https://drive.google.com/uc?id=13ySLC_ue6Umt9RJYSeM2t-V0kCv-4C-P -O /tmp/sentiment.csv"
      ],
      "metadata": {
        "colab": {
          "base_uri": "https://localhost:8080/"
        },
        "id": "CtKfcfJY5f_8",
        "outputId": "1bb64dac-7ab3-405e-cd1e-012cf438b7d9"
      },
      "execution_count": null,
      "outputs": [
        {
          "output_type": "stream",
          "name": "stdout",
          "text": [
            "--2023-09-19 05:28:05--  https://drive.google.com/uc?id=13ySLC_ue6Umt9RJYSeM2t-V0kCv-4C-P\n",
            "Resolving drive.google.com (drive.google.com)... 108.177.12.102, 108.177.12.138, 108.177.12.101, ...\n",
            "Connecting to drive.google.com (drive.google.com)|108.177.12.102|:443... connected.\n",
            "HTTP request sent, awaiting response... 303 See Other\n",
            "Location: https://doc-08-ak-docs.googleusercontent.com/docs/securesc/ha0ro937gcuc7l7deffksulhg5h7mbp1/8hkiacblsv2o4iq6739461v697m6gt0c/1695101250000/11118900490791463723/*/13ySLC_ue6Umt9RJYSeM2t-V0kCv-4C-P?uuid=ef9dd4b2-46f4-4504-89ba-f011901d6ef2 [following]\n",
            "Warning: wildcards not supported in HTTP.\n",
            "--2023-09-19 05:28:05--  https://doc-08-ak-docs.googleusercontent.com/docs/securesc/ha0ro937gcuc7l7deffksulhg5h7mbp1/8hkiacblsv2o4iq6739461v697m6gt0c/1695101250000/11118900490791463723/*/13ySLC_ue6Umt9RJYSeM2t-V0kCv-4C-P?uuid=ef9dd4b2-46f4-4504-89ba-f011901d6ef2\n",
            "Resolving doc-08-ak-docs.googleusercontent.com (doc-08-ak-docs.googleusercontent.com)... 108.177.13.132, 2607:f8b0:400c:c09::84\n",
            "Connecting to doc-08-ak-docs.googleusercontent.com (doc-08-ak-docs.googleusercontent.com)|108.177.13.132|:443... connected.\n",
            "HTTP request sent, awaiting response... 200 OK\n",
            "Length: 127831 (125K) [text/csv]\n",
            "Saving to: ‘/tmp/sentiment.csv’\n",
            "\n",
            "/tmp/sentiment.csv  100%[===================>] 124.83K  --.-KB/s    in 0.001s  \n",
            "\n",
            "2023-09-19 05:28:05 (141 MB/s) - ‘/tmp/sentiment.csv’ saved [127831/127831]\n",
            "\n"
          ]
        }
      ]
    },
    {
      "cell_type": "code",
      "source": [
        "dataset= pd.read_csv('/tmp/sentiment.csv')\n",
        "#extract label and sentence\n",
        "sentences= dataset[\"text\"].tolist()\n",
        "labels= dataset[\"sentiment\"].tolist()"
      ],
      "metadata": {
        "id": "kjIwRLES6PHK"
      },
      "execution_count": null,
      "outputs": []
    },
    {
      "cell_type": "code",
      "source": [
        "#print some example\n",
        "for x in range(2):\n",
        "  print(sentences[x])\n",
        "  print(labels[x])\n",
        "  print(\"\\n\")"
      ],
      "metadata": {
        "colab": {
          "base_uri": "https://localhost:8080/"
        },
        "id": "nRZScIOy6vpB",
        "outputId": "4d72a3c4-08c7-4676-bc5f-2489952babeb"
      },
      "execution_count": null,
      "outputs": [
        {
          "output_type": "stream",
          "name": "stdout",
          "text": [
            "So there is no way for me to plug it in here in the US unless I go by a converter.\n",
            "0\n",
            "\n",
            "\n",
            "Good case Excellent value.\n",
            "1\n",
            "\n",
            "\n"
          ]
        }
      ]
    },
    {
      "cell_type": "markdown",
      "source": [
        "# Create subwords dataset"
      ],
      "metadata": {
        "id": "cibUS0rt7IDC"
      }
    },
    {
      "cell_type": "code",
      "source": [
        "import tensorflow_datasets as tfds\n",
        "\n",
        "vocab_size= 1000\n",
        "tokenizer= tfds.deprecated.text.SubwordTextEncoder.build_from_corpus(\n",
        "    sentences, vocab_size, max_subword_length= 5\n",
        ")\n",
        "print(\"vocab size= \", tokenizer.vocab_size)"
      ],
      "metadata": {
        "colab": {
          "base_uri": "https://localhost:8080/"
        },
        "id": "vwBtI87p7FL2",
        "outputId": "d591ce39-d0fb-43f4-d883-dddb0d445a11"
      },
      "execution_count": null,
      "outputs": [
        {
          "output_type": "stream",
          "name": "stdout",
          "text": [
            "vocab size=  999\n"
          ]
        }
      ]
    },
    {
      "cell_type": "code",
      "source": [
        "# Check that the tokenizer works appropriately\n",
        "num = 5\n",
        "print(sentences[num])\n",
        "encoded = tokenizer.encode(sentences[num])\n",
        "print(encoded)"
      ],
      "metadata": {
        "colab": {
          "base_uri": "https://localhost:8080/"
        },
        "id": "vrhz-L3-8TXv",
        "outputId": "15165a81-b4b2-44d6-ac7f-8abfa0726075"
      },
      "execution_count": null,
      "outputs": [
        {
          "output_type": "stream",
          "name": "stdout",
          "text": [
            "I have to jiggle the plug to get it to line up right to get decent volume.\n",
            "[4, 31, 6, 849, 162, 450, 12, 1, 600, 438, 775, 6, 175, 14, 6, 55, 213, 159, 474, 775, 6, 175, 614, 380, 295, 148, 72, 789]\n"
          ]
        }
      ]
    },
    {
      "cell_type": "code",
      "source": [
        "# Separately print out each subword, decoded\n",
        "for i in encoded:\n",
        "  print(tokenizer.decode([i]))"
      ],
      "metadata": {
        "colab": {
          "base_uri": "https://localhost:8080/"
        },
        "id": "WXRjEplG8zGD",
        "outputId": "20cb8e27-f21f-49de-9e68-714f0448f706"
      },
      "execution_count": null,
      "outputs": [
        {
          "output_type": "stream",
          "name": "stdout",
          "text": [
            "I \n",
            "have \n",
            "to \n",
            "j\n",
            "ig\n",
            "gl\n",
            "e \n",
            "the \n",
            "pl\n",
            "ug\n",
            " \n",
            "to \n",
            "get \n",
            "it \n",
            "to \n",
            "li\n",
            "ne \n",
            "up \n",
            "right\n",
            " \n",
            "to \n",
            "get \n",
            "dec\n",
            "ent \n",
            "vo\n",
            "lu\n",
            "me\n",
            ".\n"
          ]
        }
      ]
    },
    {
      "cell_type": "markdown",
      "source": [
        "# Replace sentence data with encoded subwords"
      ],
      "metadata": {
        "id": "2JeY-2wT9OHU"
      }
    },
    {
      "cell_type": "code",
      "source": [
        "for i, sentence in enumerate(sentences):\n",
        "  sentences[i] = tokenizer.encode(sentence)"
      ],
      "metadata": {
        "id": "YO9iLpq788PT"
      },
      "execution_count": null,
      "outputs": []
    },
    {
      "cell_type": "code",
      "source": [
        "# Check the sentences are appropriately replaced\n",
        "print(sentences[5])"
      ],
      "metadata": {
        "colab": {
          "base_uri": "https://localhost:8080/"
        },
        "id": "dqg9d1NT9Z66",
        "outputId": "ef19c975-ebb3-4ff1-fb60-c2ff300a939d"
      },
      "execution_count": null,
      "outputs": [
        {
          "output_type": "stream",
          "name": "stdout",
          "text": [
            "[4, 31, 6, 849, 162, 450, 12, 1, 600, 438, 775, 6, 175, 14, 6, 55, 213, 159, 474, 775, 6, 175, 614, 380, 295, 148, 72, 789]\n"
          ]
        }
      ]
    },
    {
      "cell_type": "markdown",
      "source": [
        "## Final pre-processing"
      ],
      "metadata": {
        "id": "MzA6rBvY9q7N"
      }
    },
    {
      "cell_type": "code",
      "source": [
        "max_length = 50\n",
        "trunc_type='post'\n",
        "padding_type='post'\n",
        "\n",
        "# Pad all sequences\n",
        "sequences_padded = pad_sequences(sentences, maxlen=max_length,\n",
        "                                 padding=padding_type, truncating=trunc_type)\n",
        "\n",
        "# Separate out the sentences and labels into training and test sets\n",
        "training_size = int(len(sentences) * 0.8)\n",
        "\n",
        "training_sequences = sequences_padded[0:training_size]\n",
        "testing_sequences = sequences_padded[training_size:]\n",
        "training_labels = labels[0:training_size]\n",
        "testing_labels = labels[training_size:]\n",
        "\n",
        "# Make labels into numpy arrays for use with the network later\n",
        "training_labels_final = np.array(training_labels)\n",
        "testing_labels_final = np.array(testing_labels)"
      ],
      "metadata": {
        "id": "hAh9aZt99ifn"
      },
      "execution_count": null,
      "outputs": []
    },
    {
      "cell_type": "markdown",
      "source": [
        "# Create the model using an Embedding"
      ],
      "metadata": {
        "id": "xjWeD79u-Ew3"
      }
    },
    {
      "cell_type": "code",
      "source": [
        "embedding_dim = 16\n",
        "\n",
        "model = tf.keras.Sequential([\n",
        "    tf.keras.layers.Embedding(vocab_size, embedding_dim, input_length=max_length),\n",
        "    tf.keras.layers.GlobalAveragePooling1D(),\n",
        "    tf.keras.layers.Dense(6, activation='relu'),\n",
        "    tf.keras.layers.Dense(1, activation='sigmoid')\n",
        "])\n",
        "\n",
        "model.summary()"
      ],
      "metadata": {
        "colab": {
          "base_uri": "https://localhost:8080/"
        },
        "id": "fSSTVN1c96Q0",
        "outputId": "1851a399-3c1b-42a3-cb39-31dcb260ea5b"
      },
      "execution_count": null,
      "outputs": [
        {
          "output_type": "stream",
          "name": "stdout",
          "text": [
            "Model: \"sequential\"\n",
            "_________________________________________________________________\n",
            " Layer (type)                Output Shape              Param #   \n",
            "=================================================================\n",
            " embedding (Embedding)       (None, 50, 16)            16000     \n",
            "                                                                 \n",
            " global_average_pooling1d (  (None, 16)                0         \n",
            " GlobalAveragePooling1D)                                         \n",
            "                                                                 \n",
            " dense (Dense)               (None, 6)                 102       \n",
            "                                                                 \n",
            " dense_1 (Dense)             (None, 1)                 7         \n",
            "                                                                 \n",
            "=================================================================\n",
            "Total params: 16109 (62.93 KB)\n",
            "Trainable params: 16109 (62.93 KB)\n",
            "Non-trainable params: 0 (0.00 Byte)\n",
            "_________________________________________________________________\n"
          ]
        }
      ]
    },
    {
      "cell_type": "code",
      "source": [
        "num_epochs = 30\n",
        "model.compile(loss='binary_crossentropy',optimizer='adam',metrics=['accuracy'])\n",
        "history = model.fit(training_sequences, training_labels_final, epochs=num_epochs, validation_data=(testing_sequences, testing_labels_final))\n"
      ],
      "metadata": {
        "colab": {
          "base_uri": "https://localhost:8080/"
        },
        "id": "SvZwOZke-ELA",
        "outputId": "713c5dab-89bc-4091-b76c-03b64dea0c29"
      },
      "execution_count": null,
      "outputs": [
        {
          "output_type": "stream",
          "name": "stdout",
          "text": [
            "Epoch 1/30\n",
            "50/50 [==============================] - 4s 33ms/step - loss: 0.6919 - accuracy: 0.5468 - val_loss: 0.6927 - val_accuracy: 0.5063\n",
            "Epoch 2/30\n",
            "50/50 [==============================] - 1s 14ms/step - loss: 0.6868 - accuracy: 0.5725 - val_loss: 0.6892 - val_accuracy: 0.5589\n",
            "Epoch 3/30\n",
            "50/50 [==============================] - 0s 4ms/step - loss: 0.6792 - accuracy: 0.6547 - val_loss: 0.6852 - val_accuracy: 0.5539\n",
            "Epoch 4/30\n",
            "50/50 [==============================] - 0s 3ms/step - loss: 0.6669 - accuracy: 0.6962 - val_loss: 0.6733 - val_accuracy: 0.6266\n",
            "Epoch 5/30\n",
            "50/50 [==============================] - 0s 3ms/step - loss: 0.6482 - accuracy: 0.7407 - val_loss: 0.6537 - val_accuracy: 0.7243\n",
            "Epoch 6/30\n",
            "50/50 [==============================] - 0s 3ms/step - loss: 0.6220 - accuracy: 0.7746 - val_loss: 0.6323 - val_accuracy: 0.7569\n",
            "Epoch 7/30\n",
            "50/50 [==============================] - 0s 3ms/step - loss: 0.5888 - accuracy: 0.8079 - val_loss: 0.6174 - val_accuracy: 0.7093\n",
            "Epoch 8/30\n",
            "50/50 [==============================] - 0s 4ms/step - loss: 0.5521 - accuracy: 0.8180 - val_loss: 0.5854 - val_accuracy: 0.7744\n",
            "Epoch 9/30\n",
            "50/50 [==============================] - 0s 4ms/step - loss: 0.5138 - accuracy: 0.8299 - val_loss: 0.5676 - val_accuracy: 0.7594\n",
            "Epoch 10/30\n",
            "50/50 [==============================] - 0s 4ms/step - loss: 0.4773 - accuracy: 0.8431 - val_loss: 0.5532 - val_accuracy: 0.7494\n",
            "Epoch 11/30\n",
            "50/50 [==============================] - 0s 4ms/step - loss: 0.4408 - accuracy: 0.8625 - val_loss: 0.5367 - val_accuracy: 0.7569\n",
            "Epoch 12/30\n",
            "50/50 [==============================] - 0s 3ms/step - loss: 0.4103 - accuracy: 0.8625 - val_loss: 0.5185 - val_accuracy: 0.7644\n",
            "Epoch 13/30\n",
            "50/50 [==============================] - 0s 5ms/step - loss: 0.3800 - accuracy: 0.8770 - val_loss: 0.5012 - val_accuracy: 0.7870\n",
            "Epoch 14/30\n",
            "50/50 [==============================] - 0s 5ms/step - loss: 0.3572 - accuracy: 0.8851 - val_loss: 0.5081 - val_accuracy: 0.7594\n",
            "Epoch 15/30\n",
            "50/50 [==============================] - 0s 5ms/step - loss: 0.3357 - accuracy: 0.8826 - val_loss: 0.5059 - val_accuracy: 0.7569\n",
            "Epoch 16/30\n",
            "50/50 [==============================] - 0s 4ms/step - loss: 0.3147 - accuracy: 0.8901 - val_loss: 0.5164 - val_accuracy: 0.7419\n",
            "Epoch 17/30\n",
            "50/50 [==============================] - 0s 4ms/step - loss: 0.2986 - accuracy: 0.8977 - val_loss: 0.5093 - val_accuracy: 0.7569\n",
            "Epoch 18/30\n",
            "50/50 [==============================] - 0s 4ms/step - loss: 0.2825 - accuracy: 0.9046 - val_loss: 0.4989 - val_accuracy: 0.7594\n",
            "Epoch 19/30\n",
            "50/50 [==============================] - 0s 4ms/step - loss: 0.2699 - accuracy: 0.9040 - val_loss: 0.5136 - val_accuracy: 0.7494\n",
            "Epoch 20/30\n",
            "50/50 [==============================] - 0s 3ms/step - loss: 0.2584 - accuracy: 0.9090 - val_loss: 0.5067 - val_accuracy: 0.7544\n",
            "Epoch 21/30\n",
            "50/50 [==============================] - 0s 4ms/step - loss: 0.2452 - accuracy: 0.9146 - val_loss: 0.5070 - val_accuracy: 0.7769\n",
            "Epoch 22/30\n",
            "50/50 [==============================] - 0s 4ms/step - loss: 0.2360 - accuracy: 0.9190 - val_loss: 0.5367 - val_accuracy: 0.7494\n",
            "Epoch 23/30\n",
            "50/50 [==============================] - 0s 4ms/step - loss: 0.2253 - accuracy: 0.9259 - val_loss: 0.5255 - val_accuracy: 0.7444\n",
            "Epoch 24/30\n",
            "50/50 [==============================] - 0s 3ms/step - loss: 0.2166 - accuracy: 0.9272 - val_loss: 0.5296 - val_accuracy: 0.7544\n",
            "Epoch 25/30\n",
            "50/50 [==============================] - 0s 3ms/step - loss: 0.2056 - accuracy: 0.9309 - val_loss: 0.5480 - val_accuracy: 0.7444\n",
            "Epoch 26/30\n",
            "50/50 [==============================] - 0s 3ms/step - loss: 0.1982 - accuracy: 0.9347 - val_loss: 0.5562 - val_accuracy: 0.7444\n",
            "Epoch 27/30\n",
            "50/50 [==============================] - 0s 3ms/step - loss: 0.1928 - accuracy: 0.9353 - val_loss: 0.5620 - val_accuracy: 0.7569\n",
            "Epoch 28/30\n",
            "50/50 [==============================] - 0s 3ms/step - loss: 0.1893 - accuracy: 0.9341 - val_loss: 0.5687 - val_accuracy: 0.7544\n",
            "Epoch 29/30\n",
            "50/50 [==============================] - 0s 3ms/step - loss: 0.1750 - accuracy: 0.9466 - val_loss: 0.5716 - val_accuracy: 0.7669\n",
            "Epoch 30/30\n",
            "50/50 [==============================] - 0s 3ms/step - loss: 0.1717 - accuracy: 0.9510 - val_loss: 0.5921 - val_accuracy: 0.7544\n"
          ]
        }
      ]
    },
    {
      "cell_type": "code",
      "source": [
        "import matplotlib.pyplot as plt\n",
        "\n",
        "def plot_graphs(history, string):\n",
        "  plt.plot(history.history[string])\n",
        "  plt.plot(history.history['val_'+string])\n",
        "  plt.xlabel(\"Epochs\")\n",
        "  plt.ylabel(string)\n",
        "  plt.legend([string, 'val_'+string])\n",
        "  plt.show()\n",
        "\n",
        "plot_graphs(history, \"accuracy\")\n",
        "plot_graphs(history, \"loss\")"
      ],
      "metadata": {
        "colab": {
          "base_uri": "https://localhost:8080/",
          "height": 881
        },
        "id": "HqfPKORF-Ldu",
        "outputId": "8691480b-9ee9-46e9-e853-8fdced11158f"
      },
      "execution_count": null,
      "outputs": [
        {
          "output_type": "display_data",
          "data": {
            "text/plain": [
              "<Figure size 640x480 with 1 Axes>"
            ],
            "image/png": "[encoded data removed]"
          },
          "metadata": {}
        },
        {
          "output_type": "display_data",
          "data": {
            "text/plain": [
              "<Figure size 640x480 with 1 Axes>"
            ],
            "image/png": "[encoded data removed]"
          },
          "metadata": {}
        }
      ]
    },
    {
      "cell_type": "markdown",
      "source": [
        "## Define a function to predict the sentiment of reviews"
      ],
      "metadata": {
        "id": "zINFOXaB_qKI"
      }
    },
    {
      "cell_type": "code",
      "source": [
        "# Define a function to take a series of reviews\n",
        "# and predict whether each one is a positive or negative review\n",
        "\n",
        "# max_length = 100 # previously defined\n",
        "\n",
        "def predict_review(model, new_sentences, maxlen=max_length, show_padded_sequence=True ):\n",
        "  # Keep the original sentences so that we can keep using them later\n",
        "  # Create an array to hold the encoded sequences\n",
        "  new_sequences = []\n",
        "\n",
        "  # Convert the new reviews to sequences\n",
        "  for i, frvw in enumerate(new_sentences):\n",
        "    new_sequences.append(tokenizer.encode(frvw))\n",
        "\n",
        "  trunc_type='post'\n",
        "  padding_type='post'\n",
        "\n",
        "  # Pad all sequences for the new reviews\n",
        "  new_reviews_padded = pad_sequences(new_sequences, maxlen=max_length,\n",
        "                                 padding=padding_type, truncating=trunc_type)\n",
        "\n",
        "  classes = model.predict(new_reviews_padded)\n",
        "\n",
        "  # The closer the class is to 1, the more positive the review is\n",
        "  for x in range(len(new_sentences)):\n",
        "\n",
        "    # We can see the padded sequence if desired\n",
        "    # Print the sequence\n",
        "    if (show_padded_sequence):\n",
        "      print(new_reviews_padded[x])\n",
        "    # Print the review as text\n",
        "    print(new_sentences[x])\n",
        "    # Print its predicted class\n",
        "    print(classes[x])\n",
        "    print(\"\\n\")"
      ],
      "metadata": {
        "id": "1klXX2Eo-eeo"
      },
      "execution_count": null,
      "outputs": []
    },
    {
      "cell_type": "code",
      "source": [
        "# Use the model to predict some reviews\n",
        "fake_reviews = [\"I love this phone\",\n",
        "                \"Everything was cold\",\n",
        "                \"Everything was hot exactly as I wanted\",\n",
        "                \"Everything was green\",\n",
        "                \"the host seated us immediately\",\n",
        "                \"they gave us free chocolate cake\",\n",
        "                \"we couldn't hear each other talk because of the shouting in the kitchen\"\n",
        "              ]\n",
        "\n",
        "predict_review(model, fake_reviews)\n"
      ],
      "metadata": {
        "colab": {
          "base_uri": "https://localhost:8080/"
        },
        "id": "tYp2uvA6_end",
        "outputId": "2c519046-4fb6-4ec7-9211-e7082946b13a"
      },
      "execution_count": null,
      "outputs": [
        {
          "output_type": "stream",
          "name": "stdout",
          "text": [
            "1/1 [==============================] - 0s 106ms/step\n",
            "[  4 281  16  25   0   0   0   0   0   0   0   0   0   0   0   0   0   0\n",
            "   0   0   0   0   0   0   0   0   0   0   0   0   0   0   0   0   0   0\n",
            "   0   0   0   0   0   0   0   0   0   0   0   0   0   0]\n",
            "I love this phone\n",
            "[0.8819039]\n",
            "\n",
            "\n",
            "[812 227 864 100 775   9 525 843   0   0   0   0   0   0   0   0   0   0\n",
            "   0   0   0   0   0   0   0   0   0   0   0   0   0   0   0   0   0   0\n",
            "   0   0   0   0   0   0   0   0   0   0   0   0   0   0]\n",
            "Everything was cold\n",
            "[0.0935009]\n",
            "\n",
            "\n",
            "[812 227 864 100 775   9 109   8 333 731  24  61   4 171  59  77   0   0\n",
            "   0   0   0   0   0   0   0   0   0   0   0   0   0   0   0   0   0   0\n",
            "   0   0   0   0   0   0   0   0   0   0   0   0   0   0]\n",
            "Everything was hot exactly as I wanted\n",
            "[0.29350612]\n",
            "\n",
            "\n",
            "[812 227 864 100 775   9 157 359 853   0   0   0   0   0   0   0   0   0\n",
            "   0   0   0   0   0   0   0   0   0   0   0   0   0   0   0   0   0   0\n",
            "   0   0   0   0   0   0   0   0   0   0   0   0   0   0]\n",
            "Everything was green\n",
            "[0.08465144]\n",
            "\n",
            "\n",
            "[  1 109 228 540 237 635 241 423 340  89 298   0   0   0   0   0   0   0\n",
            "   0   0   0   0   0   0   0   0   0   0   0   0   0   0   0   0   0   0\n",
            "   0   0   0   0   0   0   0   0   0   0   0   0   0   0]\n",
            "the host seated us immediately\n",
            "[0.4412841]\n",
            "\n",
            "\n",
            "[154 242  47 635 341  12 569 547 147 319 775 125  85   0   0   0   0   0\n",
            "   0   0   0   0   0   0   0   0   0   0   0   0   0   0   0   0   0   0\n",
            "   0   0   0   0   0   0   0   0   0   0   0   0   0   0]\n",
            "they gave us free chocolate cake\n",
            "[0.6896996]\n",
            "\n",
            "\n",
            "[158 190 853 782   8 607 775 210 232 146 775 470  67 305 101  15   1 328\n",
            " 296  26  19   1 661 641 195   0   0   0   0   0   0   0   0   0   0   0\n",
            "   0   0   0   0   0   0   0   0   0   0   0   0   0   0]\n",
            "we couldn't hear each other talk because of the shouting in the kitchen\n",
            "[0.01280527]\n",
            "\n",
            "\n"
          ]
        }
      ]
    },
    {
      "cell_type": "code",
      "source": [
        "def fit_model_now (model, sentences) :\n",
        "  model.compile(loss='binary_crossentropy',optimizer='adam',metrics=['accuracy'])\n",
        "  model.summary()\n",
        "  history = model.fit(training_sequences, training_labels_final, epochs=num_epochs,\n",
        "                      validation_data=(testing_sequences, testing_labels_final))\n",
        "  return history\n",
        "\n",
        "def plot_results (history):\n",
        "  plot_graphs(history, \"accuracy\")\n",
        "  plot_graphs(history, \"loss\")\n",
        "\n",
        "def fit_model_and_show_results (model, sentences):\n",
        "  history = fit_model_now(model, sentences)\n",
        "  plot_results(history)\n",
        "  predict_review(model, sentences)"
      ],
      "metadata": {
        "id": "rxTkOjXf_iNz"
      },
      "execution_count": null,
      "outputs": []
    },
    {
      "cell_type": "markdown",
      "source": [
        "# Use multiple bidirectional layers"
      ],
      "metadata": {
        "id": "ae4SOFTcOTkl"
      }
    },
    {
      "cell_type": "code",
      "source": [
        "# Define the model\n",
        "model_bidi_lstm = tf.keras.Sequential([\n",
        "    tf.keras.layers.Embedding(vocab_size, embedding_dim, input_length=max_length),\n",
        "    tf.keras.layers.Bidirectional(tf.keras.layers.LSTM(embedding_dim)),\n",
        "    tf.keras.layers.Dense(6, activation='relu'),\n",
        "    tf.keras.layers.Dense(1, activation='sigmoid')\n",
        "])\n",
        "\n",
        "# Compile and train the model and then show the predictions for our extra sentences\n",
        "fit_model_and_show_results(model_bidi_lstm, fake_reviews)\n"
      ],
      "metadata": {
        "colab": {
          "base_uri": "https://localhost:8080/",
          "height": 1000
        },
        "id": "RgvI6EI2OVzG",
        "outputId": "9cfbded1-50cf-49c4-c368-a3aef0cf488c"
      },
      "execution_count": null,
      "outputs": [
        {
          "output_type": "stream",
          "name": "stdout",
          "text": [
            "Model: \"sequential_2\"\n",
            "_________________________________________________________________\n",
            " Layer (type)                Output Shape              Param #   \n",
            "=================================================================\n",
            " embedding_2 (Embedding)     (None, 50, 16)            16000     \n",
            "                                                                 \n",
            " bidirectional_2 (Bidirecti  (None, 32)                4224      \n",
            " onal)                                                           \n",
            "                                                                 \n",
            " dense_4 (Dense)             (None, 6)                 198       \n",
            "                                                                 \n",
            " dense_5 (Dense)             (None, 1)                 7         \n",
            "                                                                 \n",
            "=================================================================\n",
            "Total params: 20429 (79.80 KB)\n",
            "Trainable params: 20429 (79.80 KB)\n",
            "Non-trainable params: 0 (0.00 Byte)\n",
            "_________________________________________________________________\n",
            "Epoch 1/30\n",
            "50/50 [==============================] - 9s 67ms/step - loss: 0.6907 - accuracy: 0.5273 - val_loss: 0.6960 - val_accuracy: 0.4236\n",
            "Epoch 2/30\n",
            "50/50 [==============================] - 2s 39ms/step - loss: 0.6496 - accuracy: 0.6591 - val_loss: 0.6348 - val_accuracy: 0.6341\n",
            "Epoch 3/30\n",
            "50/50 [==============================] - 2s 41ms/step - loss: 0.4688 - accuracy: 0.7954 - val_loss: 0.5424 - val_accuracy: 0.7268\n",
            "Epoch 4/30\n",
            "50/50 [==============================] - 2s 39ms/step - loss: 0.3525 - accuracy: 0.8493 - val_loss: 0.5529 - val_accuracy: 0.7368\n",
            "Epoch 5/30\n",
            "50/50 [==============================] - 2s 43ms/step - loss: 0.2731 - accuracy: 0.8945 - val_loss: 0.6200 - val_accuracy: 0.7519\n",
            "Epoch 6/30\n",
            "50/50 [==============================] - 3s 59ms/step - loss: 0.2275 - accuracy: 0.9159 - val_loss: 0.5609 - val_accuracy: 0.7594\n",
            "Epoch 7/30\n",
            "50/50 [==============================] - 2s 35ms/step - loss: 0.1958 - accuracy: 0.9353 - val_loss: 0.6702 - val_accuracy: 0.7519\n",
            "Epoch 8/30\n",
            "50/50 [==============================] - 2s 37ms/step - loss: 0.1675 - accuracy: 0.9479 - val_loss: 0.6542 - val_accuracy: 0.7619\n",
            "Epoch 9/30\n",
            "50/50 [==============================] - 2s 38ms/step - loss: 0.1416 - accuracy: 0.9573 - val_loss: 0.7943 - val_accuracy: 0.7594\n",
            "Epoch 10/30\n",
            "50/50 [==============================] - 2s 37ms/step - loss: 0.1276 - accuracy: 0.9598 - val_loss: 0.9102 - val_accuracy: 0.7569\n",
            "Epoch 11/30\n",
            "50/50 [==============================] - 2s 36ms/step - loss: 0.1216 - accuracy: 0.9655 - val_loss: 0.7580 - val_accuracy: 0.7594\n",
            "Epoch 12/30\n",
            "50/50 [==============================] - 3s 65ms/step - loss: 0.1130 - accuracy: 0.9680 - val_loss: 0.8412 - val_accuracy: 0.7619\n",
            "Epoch 13/30\n",
            "50/50 [==============================] - 2s 38ms/step - loss: 0.0923 - accuracy: 0.9761 - val_loss: 0.9516 - val_accuracy: 0.7619\n",
            "Epoch 14/30\n",
            "50/50 [==============================] - 2s 37ms/step - loss: 0.0757 - accuracy: 0.9831 - val_loss: 0.9820 - val_accuracy: 0.7644\n",
            "Epoch 15/30\n",
            "50/50 [==============================] - 2s 37ms/step - loss: 0.0647 - accuracy: 0.9862 - val_loss: 1.0112 - val_accuracy: 0.7594\n",
            "Epoch 16/30\n",
            "50/50 [==============================] - 2s 37ms/step - loss: 0.0588 - accuracy: 0.9893 - val_loss: 1.0708 - val_accuracy: 0.7619\n",
            "Epoch 17/30\n",
            "50/50 [==============================] - 2s 40ms/step - loss: 0.0511 - accuracy: 0.9906 - val_loss: 1.1264 - val_accuracy: 0.7544\n",
            "Epoch 18/30\n",
            "50/50 [==============================] - 3s 67ms/step - loss: 0.0461 - accuracy: 0.9925 - val_loss: 1.2355 - val_accuracy: 0.7519\n",
            "Epoch 19/30\n",
            "50/50 [==============================] - 2s 40ms/step - loss: 0.0441 - accuracy: 0.9925 - val_loss: 1.2901 - val_accuracy: 0.7494\n",
            "Epoch 20/30\n",
            "50/50 [==============================] - 2s 40ms/step - loss: 0.0737 - accuracy: 0.9799 - val_loss: 0.9974 - val_accuracy: 0.7494\n",
            "Epoch 21/30\n",
            "50/50 [==============================] - 2s 37ms/step - loss: 0.0749 - accuracy: 0.9768 - val_loss: 1.1567 - val_accuracy: 0.7469\n",
            "Epoch 22/30\n",
            "50/50 [==============================] - 2s 38ms/step - loss: 0.0504 - accuracy: 0.9881 - val_loss: 1.2808 - val_accuracy: 0.7494\n",
            "Epoch 23/30\n",
            "50/50 [==============================] - 2s 39ms/step - loss: 0.0390 - accuracy: 0.9925 - val_loss: 1.3558 - val_accuracy: 0.7368\n",
            "Epoch 24/30\n",
            "50/50 [==============================] - 3s 66ms/step - loss: 0.0353 - accuracy: 0.9950 - val_loss: 1.3940 - val_accuracy: 0.7419\n",
            "Epoch 25/30\n",
            "50/50 [==============================] - 2s 43ms/step - loss: 0.0297 - accuracy: 0.9950 - val_loss: 1.4174 - val_accuracy: 0.7419\n",
            "Epoch 26/30\n",
            "50/50 [==============================] - 2s 38ms/step - loss: 0.0282 - accuracy: 0.9956 - val_loss: 1.4622 - val_accuracy: 0.7469\n",
            "Epoch 27/30\n",
            "50/50 [==============================] - 2s 40ms/step - loss: 0.0270 - accuracy: 0.9956 - val_loss: 1.5121 - val_accuracy: 0.7444\n",
            "Epoch 28/30\n",
            "50/50 [==============================] - 2s 39ms/step - loss: 0.0263 - accuracy: 0.9956 - val_loss: 1.5440 - val_accuracy: 0.7444\n",
            "Epoch 29/30\n",
            "50/50 [==============================] - 2s 38ms/step - loss: 0.0254 - accuracy: 0.9956 - val_loss: 1.4741 - val_accuracy: 0.7368\n",
            "Epoch 30/30\n",
            "50/50 [==============================] - 3s 65ms/step - loss: 0.0243 - accuracy: 0.9956 - val_loss: 1.5392 - val_accuracy: 0.7318\n"
          ]
        },
        {
          "output_type": "display_data",
          "data": {
            "text/plain": [
              "<Figure size 640x480 with 1 Axes>"
            ],
            "image/png": "[encoded data removed]"
          },
          "metadata": {}
        },
        {
          "output_type": "display_data",
          "data": {
            "text/plain": [
              "<Figure size 640x480 with 1 Axes>"
            ],
            "image/png": "[encoded data removed]"
          },
          "metadata": {}
        },
        {
          "output_type": "stream",
          "name": "stdout",
          "text": [
            "1/1 [==============================] - 1s 835ms/step\n",
            "[  4 281  16  25   0   0   0   0   0   0   0   0   0   0   0   0   0   0\n",
            "   0   0   0   0   0   0   0   0   0   0   0   0   0   0   0   0   0   0\n",
            "   0   0   0   0   0   0   0   0   0   0   0   0   0   0]\n",
            "I love this phone\n",
            "[0.9996933]\n",
            "\n",
            "\n",
            "[812 227 864 100 775   9 525 843   0   0   0   0   0   0   0   0   0   0\n",
            "   0   0   0   0   0   0   0   0   0   0   0   0   0   0   0   0   0   0\n",
            "   0   0   0   0   0   0   0   0   0   0   0   0   0   0]\n",
            "Everything was cold\n",
            "[0.01295164]\n",
            "\n",
            "\n",
            "[812 227 864 100 775   9 109   8 333 731  24  61   4 171  59  77   0   0\n",
            "   0   0   0   0   0   0   0   0   0   0   0   0   0   0   0   0   0   0\n",
            "   0   0   0   0   0   0   0   0   0   0   0   0   0   0]\n",
            "Everything was hot exactly as I wanted\n",
            "[0.96714634]\n",
            "\n",
            "\n",
            "[812 227 864 100 775   9 157 359 853   0   0   0   0   0   0   0   0   0\n",
            "   0   0   0   0   0   0   0   0   0   0   0   0   0   0   0   0   0   0\n",
            "   0   0   0   0   0   0   0   0   0   0   0   0   0   0]\n",
            "Everything was green\n",
            "[0.08706328]\n",
            "\n",
            "\n",
            "[  1 109 228 540 237 635 241 423 340  89 298   0   0   0   0   0   0   0\n",
            "   0   0   0   0   0   0   0   0   0   0   0   0   0   0   0   0   0   0\n",
            "   0   0   0   0   0   0   0   0   0   0   0   0   0   0]\n",
            "the host seated us immediately\n",
            "[0.99984556]\n",
            "\n",
            "\n",
            "[154 242  47 635 341  12 569 547 147 319 775 125  85   0   0   0   0   0\n",
            "   0   0   0   0   0   0   0   0   0   0   0   0   0   0   0   0   0   0\n",
            "   0   0   0   0   0   0   0   0   0   0   0   0   0   0]\n",
            "they gave us free chocolate cake\n",
            "[0.9999505]\n",
            "\n",
            "\n",
            "[158 190 853 782   8 607 775 210 232 146 775 470  67 305 101  15   1 328\n",
            " 296  26  19   1 661 641 195   0   0   0   0   0   0   0   0   0   0   0\n",
            "   0   0   0   0   0   0   0   0   0   0   0   0   0   0]\n",
            "we couldn't hear each other talk because of the shouting in the kitchen\n",
            "[0.00415434]\n",
            "\n",
            "\n"
          ]
        }
      ]
    },
    {
      "cell_type": "markdown",
      "source": [
        "# Use multiple bidirectional layers\n",
        "check any improvments to adding bidirectional layer"
      ],
      "metadata": {
        "id": "ZU9IUe6JB44S"
      }
    },
    {
      "cell_type": "code",
      "source": [
        "model_multiple_bidi_lstm = tf.keras.Sequential([\n",
        "    tf.keras.layers.Embedding(vocab_size, embedding_dim, input_length=max_length),\n",
        "    tf.keras.layers.Bidirectional(tf.keras.layers.LSTM(embedding_dim,\n",
        "                                                       return_sequences=True)),\n",
        "    tf.keras.layers.Bidirectional(tf.keras.layers.LSTM(embedding_dim)),\n",
        "    tf.keras.layers.Dense(6, activation='relu'),\n",
        "    tf.keras.layers.Dense(1, activation='sigmoid')\n",
        "])\n",
        "\n",
        "fit_model_and_show_results(model_multiple_bidi_lstm, fake_reviews)"
      ],
      "metadata": {
        "colab": {
          "base_uri": "https://localhost:8080/",
          "height": 1000
        },
        "id": "0tMnbkbeBgPv",
        "outputId": "5e5bc413-6d73-4205-b701-7962f639554d"
      },
      "execution_count": null,
      "outputs": [
        {
          "output_type": "stream",
          "name": "stdout",
          "text": [
            "Model: \"sequential_1\"\n",
            "_________________________________________________________________\n",
            " Layer (type)                Output Shape              Param #   \n",
            "=================================================================\n",
            " embedding_1 (Embedding)     (None, 50, 16)            16000     \n",
            "                                                                 \n",
            " bidirectional (Bidirection  (None, 50, 32)            4224      \n",
            " al)                                                             \n",
            "                                                                 \n",
            " bidirectional_1 (Bidirecti  (None, 32)                6272      \n",
            " onal)                                                           \n",
            "                                                                 \n",
            " dense_2 (Dense)             (None, 6)                 198       \n",
            "                                                                 \n",
            " dense_3 (Dense)             (None, 1)                 7         \n",
            "                                                                 \n",
            "=================================================================\n",
            "Total params: 26701 (104.30 KB)\n",
            "Trainable params: 26701 (104.30 KB)\n",
            "Non-trainable params: 0 (0.00 Byte)\n",
            "_________________________________________________________________\n",
            "Epoch 1/30\n",
            "50/50 [==============================] - 20s 211ms/step - loss: 0.6908 - accuracy: 0.5148 - val_loss: 0.6978 - val_accuracy: 0.4160\n",
            "Epoch 2/30\n",
            "50/50 [==============================] - 4s 74ms/step - loss: 0.6084 - accuracy: 0.6698 - val_loss: 0.5531 - val_accuracy: 0.7669\n",
            "Epoch 3/30\n",
            "50/50 [==============================] - 5s 107ms/step - loss: 0.4040 - accuracy: 0.8468 - val_loss: 0.5231 - val_accuracy: 0.7594\n",
            "Epoch 4/30\n",
            "50/50 [==============================] - 4s 79ms/step - loss: 0.3234 - accuracy: 0.8757 - val_loss: 0.5572 - val_accuracy: 0.7569\n",
            "Epoch 5/30\n",
            "50/50 [==============================] - 4s 74ms/step - loss: 0.2645 - accuracy: 0.9027 - val_loss: 0.5675 - val_accuracy: 0.7569\n",
            "Epoch 6/30\n",
            "50/50 [==============================] - 5s 107ms/step - loss: 0.2299 - accuracy: 0.9222 - val_loss: 0.7199 - val_accuracy: 0.7444\n",
            "Epoch 7/30\n",
            "50/50 [==============================] - 5s 97ms/step - loss: 0.1913 - accuracy: 0.9416 - val_loss: 0.7368 - val_accuracy: 0.7594\n",
            "Epoch 8/30\n",
            "50/50 [==============================] - 4s 77ms/step - loss: 0.1838 - accuracy: 0.9435 - val_loss: 0.7316 - val_accuracy: 0.7644\n",
            "Epoch 9/30\n",
            "50/50 [==============================] - 5s 106ms/step - loss: 0.1698 - accuracy: 0.9448 - val_loss: 0.7146 - val_accuracy: 0.7569\n",
            "Epoch 10/30\n",
            "50/50 [==============================] - 4s 74ms/step - loss: 0.1509 - accuracy: 0.9529 - val_loss: 0.9972 - val_accuracy: 0.6942\n",
            "Epoch 11/30\n",
            "50/50 [==============================] - 4s 79ms/step - loss: 0.1499 - accuracy: 0.9561 - val_loss: 0.8825 - val_accuracy: 0.7268\n",
            "Epoch 12/30\n",
            "50/50 [==============================] - 5s 108ms/step - loss: 0.1266 - accuracy: 0.9661 - val_loss: 0.8960 - val_accuracy: 0.7469\n",
            "Epoch 13/30\n",
            "50/50 [==============================] - 4s 74ms/step - loss: 0.1267 - accuracy: 0.9623 - val_loss: 1.1411 - val_accuracy: 0.7143\n",
            "Epoch 14/30\n",
            "50/50 [==============================] - 3s 70ms/step - loss: 0.1231 - accuracy: 0.9655 - val_loss: 0.9138 - val_accuracy: 0.7393\n",
            "Epoch 15/30\n",
            "50/50 [==============================] - 6s 111ms/step - loss: 0.1097 - accuracy: 0.9718 - val_loss: 1.1679 - val_accuracy: 0.7218\n",
            "Epoch 16/30\n",
            "50/50 [==============================] - 4s 76ms/step - loss: 0.1041 - accuracy: 0.9730 - val_loss: 0.8758 - val_accuracy: 0.7544\n",
            "Epoch 17/30\n",
            "50/50 [==============================] - 4s 70ms/step - loss: 0.0873 - accuracy: 0.9818 - val_loss: 1.0240 - val_accuracy: 0.7494\n",
            "Epoch 18/30\n",
            "50/50 [==============================] - 5s 98ms/step - loss: 0.1113 - accuracy: 0.9692 - val_loss: 0.9012 - val_accuracy: 0.7419\n",
            "Epoch 19/30\n",
            "50/50 [==============================] - 4s 71ms/step - loss: 0.1013 - accuracy: 0.9749 - val_loss: 0.9469 - val_accuracy: 0.7343\n",
            "Epoch 20/30\n",
            "50/50 [==============================] - 3s 69ms/step - loss: 0.0989 - accuracy: 0.9749 - val_loss: 1.0660 - val_accuracy: 0.7268\n",
            "Epoch 21/30\n",
            "50/50 [==============================] - 4s 87ms/step - loss: 0.0915 - accuracy: 0.9768 - val_loss: 1.0256 - val_accuracy: 0.7469\n",
            "Epoch 22/30\n",
            "50/50 [==============================] - 4s 84ms/step - loss: 0.0954 - accuracy: 0.9761 - val_loss: 1.0967 - val_accuracy: 0.7293\n",
            "Epoch 23/30\n",
            "50/50 [==============================] - 4s 73ms/step - loss: 0.0769 - accuracy: 0.9849 - val_loss: 1.1244 - val_accuracy: 0.7343\n",
            "Epoch 24/30\n",
            "50/50 [==============================] - 4s 74ms/step - loss: 0.0699 - accuracy: 0.9862 - val_loss: 1.1635 - val_accuracy: 0.7268\n",
            "Epoch 25/30\n",
            "50/50 [==============================] - 5s 97ms/step - loss: 0.0664 - accuracy: 0.9868 - val_loss: 1.2141 - val_accuracy: 0.7268\n",
            "Epoch 26/30\n",
            "50/50 [==============================] - 3s 68ms/step - loss: 0.0661 - accuracy: 0.9868 - val_loss: 1.1961 - val_accuracy: 0.7243\n",
            "Epoch 27/30\n",
            "50/50 [==============================] - 4s 77ms/step - loss: 0.0657 - accuracy: 0.9868 - val_loss: 1.2121 - val_accuracy: 0.7293\n",
            "Epoch 28/30\n",
            "50/50 [==============================] - 5s 105ms/step - loss: 0.0666 - accuracy: 0.9868 - val_loss: 1.1827 - val_accuracy: 0.7293\n",
            "Epoch 29/30\n",
            "50/50 [==============================] - 4s 76ms/step - loss: 0.0661 - accuracy: 0.9868 - val_loss: 1.2003 - val_accuracy: 0.7268\n",
            "Epoch 30/30\n",
            "50/50 [==============================] - 3s 67ms/step - loss: 0.0657 - accuracy: 0.9868 - val_loss: 1.1788 - val_accuracy: 0.7268\n"
          ]
        },
        {
          "output_type": "display_data",
          "data": {
            "text/plain": [
              "<Figure size 640x480 with 1 Axes>"
            ],
            "image/png": "[encoded data removed]"
          },
          "metadata": {}
        },
        {
          "output_type": "display_data",
          "data": {
            "text/plain": [
              "<Figure size 640x480 with 1 Axes>"
            ],
            "image/png": "[encoded data removed]"
          },
          "metadata": {}
        },
        {
          "output_type": "stream",
          "name": "stdout",
          "text": [
            "1/1 [==============================] - 2s 2s/step\n",
            "[  4 281  16  25   0   0   0   0   0   0   0   0   0   0   0   0   0   0\n",
            "   0   0   0   0   0   0   0   0   0   0   0   0   0   0   0   0   0   0\n",
            "   0   0   0   0   0   0   0   0   0   0   0   0   0   0]\n",
            "I love this phone\n",
            "[0.99635375]\n",
            "\n",
            "\n",
            "[812 227 864 100 775   9 525 843   0   0   0   0   0   0   0   0   0   0\n",
            "   0   0   0   0   0   0   0   0   0   0   0   0   0   0   0   0   0   0\n",
            "   0   0   0   0   0   0   0   0   0   0   0   0   0   0]\n",
            "Everything was cold\n",
            "[0.02215968]\n",
            "\n",
            "\n",
            "[812 227 864 100 775   9 109   8 333 731  24  61   4 171  59  77   0   0\n",
            "   0   0   0   0   0   0   0   0   0   0   0   0   0   0   0   0   0   0\n",
            "   0   0   0   0   0   0   0   0   0   0   0   0   0   0]\n",
            "Everything was hot exactly as I wanted\n",
            "[0.02343031]\n",
            "\n",
            "\n",
            "[812 227 864 100 775   9 157 359 853   0   0   0   0   0   0   0   0   0\n",
            "   0   0   0   0   0   0   0   0   0   0   0   0   0   0   0   0   0   0\n",
            "   0   0   0   0   0   0   0   0   0   0   0   0   0   0]\n",
            "Everything was green\n",
            "[0.02227149]\n",
            "\n",
            "\n",
            "[  1 109 228 540 237 635 241 423 340  89 298   0   0   0   0   0   0   0\n",
            "   0   0   0   0   0   0   0   0   0   0   0   0   0   0   0   0   0   0\n",
            "   0   0   0   0   0   0   0   0   0   0   0   0   0   0]\n",
            "the host seated us immediately\n",
            "[0.02367563]\n",
            "\n",
            "\n",
            "[154 242  47 635 341  12 569 547 147 319 775 125  85   0   0   0   0   0\n",
            "   0   0   0   0   0   0   0   0   0   0   0   0   0   0   0   0   0   0\n",
            "   0   0   0   0   0   0   0   0   0   0   0   0   0   0]\n",
            "they gave us free chocolate cake\n",
            "[0.99592763]\n",
            "\n",
            "\n",
            "[158 190 853 782   8 607 775 210 232 146 775 470  67 305 101  15   1 328\n",
            " 296  26  19   1 661 641 195   0   0   0   0   0   0   0   0   0   0   0\n",
            "   0   0   0   0   0   0   0   0   0   0   0   0   0   0]\n",
            "we couldn't hear each other talk because of the shouting in the kitchen\n",
            "[0.02121556]\n",
            "\n",
            "\n"
          ]
        }
      ]
    },
    {
      "cell_type": "markdown",
      "source": [
        "# Compare predictions for all the models"
      ],
      "metadata": {
        "id": "FeAunV1JPgq-"
      }
    },
    {
      "cell_type": "code",
      "source": [
        "my_reviews =[\"lovely\", \"dreadful\", \"stay away\",\n",
        "             \"everything was hot exactly as I wanted\",\n",
        "             \"everything was not exactly as I wanted\",\n",
        "             \"they gave us free chocolate cake\",\n",
        "             \"I've never eaten anything so spicy in my life, my throat burned for hours\",\n",
        "             \"for a phone that is as expensive as this one I expect it to be much easier to use than this thing is\",\n",
        "             \"we left there very full for a low price so I'd say you just can't go wrong at this place\",\n",
        "             \"that place does not have quality meals and it isn't a good place to go for dinner\",\n",
        "             ]"
      ],
      "metadata": {
        "id": "6uP9ymlxCMVH"
      },
      "execution_count": null,
      "outputs": []
    },
    {
      "cell_type": "code",
      "source": [
        "print(\"===================================\\n\",\"Embeddings only:\\n\")\n",
        "predict_review(model, my_reviews, show_padded_sequence=False)"
      ],
      "metadata": {
        "colab": {
          "base_uri": "https://localhost:8080/"
        },
        "id": "uaVcR5YQPmXu",
        "outputId": "ac8621b3-5405-49a5-b2ff-90ee50a16cc8"
      },
      "execution_count": null,
      "outputs": [
        {
          "output_type": "stream",
          "name": "stdout",
          "text": [
            "===================================\n",
            " Embeddings only:\n",
            "\n",
            "1/1 [==============================] - 0s 24ms/step\n",
            "lovely\n",
            "[0.9234564]\n",
            "\n",
            "\n",
            "dreadful\n",
            "[0.28010246]\n",
            "\n",
            "\n",
            "stay away\n",
            "[0.64185125]\n",
            "\n",
            "\n",
            "everything was hot exactly as I wanted\n",
            "[0.7279889]\n",
            "\n",
            "\n",
            "everything was not exactly as I wanted\n",
            "[0.5055517]\n",
            "\n",
            "\n",
            "they gave us free chocolate cake\n",
            "[0.6896996]\n",
            "\n",
            "\n",
            "I've never eaten anything so spicy in my life, my throat burned for hours\n",
            "[0.01927402]\n",
            "\n",
            "\n",
            "for a phone that is as expensive as this one I expect it to be much easier to use than this thing is\n",
            "[0.58314496]\n",
            "\n",
            "\n",
            "we left there very full for a low price so I'd say you just can't go wrong at this place\n",
            "[0.79448116]\n",
            "\n",
            "\n",
            "that place does not have quality meals and it isn't a good place to go for dinner\n",
            "[0.8580946]\n",
            "\n",
            "\n"
          ]
        }
      ]
    },
    {
      "cell_type": "code",
      "source": [
        "print(\"===================================\\n\", \"With a single bidirectional LSTM:\\n\", \"===================================\")\n",
        "predict_review(model_bidi_lstm, my_reviews, show_padded_sequence=False)"
      ],
      "metadata": {
        "colab": {
          "base_uri": "https://localhost:8080/"
        },
        "id": "7V7kT987Psv7",
        "outputId": "43450830-047e-4ec9-d533-497faa4c8c57"
      },
      "execution_count": null,
      "outputs": [
        {
          "output_type": "stream",
          "name": "stdout",
          "text": [
            "===================================\n",
            " With a single bidirectional LSTM:\n",
            " ===================================\n",
            "1/1 [==============================] - 0s 30ms/step\n",
            "lovely\n",
            "[0.9991909]\n",
            "\n",
            "\n",
            "dreadful\n",
            "[0.01374488]\n",
            "\n",
            "\n",
            "stay away\n",
            "[0.03063303]\n",
            "\n",
            "\n",
            "everything was hot exactly as I wanted\n",
            "[0.99841696]\n",
            "\n",
            "\n",
            "everything was not exactly as I wanted\n",
            "[0.01831927]\n",
            "\n",
            "\n",
            "they gave us free chocolate cake\n",
            "[0.9999505]\n",
            "\n",
            "\n",
            "I've never eaten anything so spicy in my life, my throat burned for hours\n",
            "[0.9544165]\n",
            "\n",
            "\n",
            "for a phone that is as expensive as this one I expect it to be much easier to use than this thing is\n",
            "[0.00968188]\n",
            "\n",
            "\n",
            "we left there very full for a low price so I'd say you just can't go wrong at this place\n",
            "[0.998629]\n",
            "\n",
            "\n",
            "that place does not have quality meals and it isn't a good place to go for dinner\n",
            "[0.9995921]\n",
            "\n",
            "\n"
          ]
        }
      ]
    },
    {
      "cell_type": "code",
      "source": [
        "print(\"===================================\\n\",\"With two bidirectional LSTMs:\\n\", \"===================================\")\n",
        "predict_review(model_multiple_bidi_lstm, my_reviews, show_padded_sequence=False)"
      ],
      "metadata": {
        "colab": {
          "base_uri": "https://localhost:8080/"
        },
        "id": "-C2N6cljPw6b",
        "outputId": "74275adb-68a8-4600-eafc-1d9aa8e0e929"
      },
      "execution_count": null,
      "outputs": [
        {
          "output_type": "stream",
          "name": "stdout",
          "text": [
            "===================================\n",
            " With two bidirectional LSTMs:\n",
            " ===================================\n",
            "1/1 [==============================] - 0s 52ms/step\n",
            "lovely\n",
            "[0.99646366]\n",
            "\n",
            "\n",
            "dreadful\n",
            "[0.02521536]\n",
            "\n",
            "\n",
            "stay away\n",
            "[0.9834038]\n",
            "\n",
            "\n",
            "everything was hot exactly as I wanted\n",
            "[0.9931414]\n",
            "\n",
            "\n",
            "everything was not exactly as I wanted\n",
            "[0.40046483]\n",
            "\n",
            "\n",
            "they gave us free chocolate cake\n",
            "[0.99592763]\n",
            "\n",
            "\n",
            "I've never eaten anything so spicy in my life, my throat burned for hours\n",
            "[0.02199854]\n",
            "\n",
            "\n",
            "for a phone that is as expensive as this one I expect it to be much easier to use than this thing is\n",
            "[0.02577014]\n",
            "\n",
            "\n",
            "we left there very full for a low price so I'd say you just can't go wrong at this place\n",
            "[0.02255509]\n",
            "\n",
            "\n",
            "that place does not have quality meals and it isn't a good place to go for dinner\n",
            "[0.0268003]\n",
            "\n",
            "\n"
          ]
        }
      ]
    },
    {
      "cell_type": "code",
      "source": [],
      "metadata": {
        "id": "Cz3WECynP0yZ"
      },
      "execution_count": null,
      "outputs": []
    }
  ]
}