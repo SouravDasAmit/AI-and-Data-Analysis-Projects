{
  "nbformat": 4,
  "nbformat_minor": 0,
  "metadata": {
    "colab": {
      "provenance": []
    },
    "kernelspec": {
      "name": "python3",
      "display_name": "Python 3"
    },
    "language_info": {
      "name": "python"
    }
  },
  "cells": [
    {
      "cell_type": "code",
      "execution_count": null,
      "metadata": {
        "id": "L_ZlG2ICm0CF"
      },
      "outputs": [],
      "source": [
        "import numpy as np\n",
        "import pandas as pd\n",
        "import tensorflow as tf\n",
        "from tensorflow import keras\n",
        "from tensorflow.keras.preprocessing.sequence import pad_sequences"
      ]
    },
    {
      "cell_type": "code",
      "source": [
        "!wget --no-check-certificate \\\n",
        "    https://drive.google.com/uc?id=13ySLC_ue6Umt9RJYSeM2t-V0kCv-4C-P \\\n",
        "    -O /tmp/sentiment.csv"
      ],
      "metadata": {
        "colab": {
          "base_uri": "https://localhost:8080/"
        },
        "id": "862RmqvgtXDO",
        "outputId": "8132fafc-4224-4186-e65e-918a6d8e5d42"
      },
      "execution_count": null,
      "outputs": [
        {
          "output_type": "stream",
          "name": "stdout",
          "text": [
            "--2023-09-19 04:29:53--  https://drive.google.com/uc?id=13ySLC_ue6Umt9RJYSeM2t-V0kCv-4C-P\n",
            "Resolving drive.google.com (drive.google.com)... 64.233.181.139, 64.233.181.102, 64.233.181.101, ...\n",
            "Connecting to drive.google.com (drive.google.com)|64.233.181.139|:443... connected.\n",
            "HTTP request sent, awaiting response... 303 See Other\n",
            "Location: https://doc-08-ak-docs.googleusercontent.com/docs/securesc/ha0ro937gcuc7l7deffksulhg5h7mbp1/8ggl8nku0p57o8ppmcpq1qpm4a5stdak/1695097725000/11118900490791463723/*/13ySLC_ue6Umt9RJYSeM2t-V0kCv-4C-P?uuid=2c95574c-a3b2-4538-b11b-d15eca711522 [following]\n",
            "Warning: wildcards not supported in HTTP.\n",
            "--2023-09-19 04:29:53--  https://doc-08-ak-docs.googleusercontent.com/docs/securesc/ha0ro937gcuc7l7deffksulhg5h7mbp1/8ggl8nku0p57o8ppmcpq1qpm4a5stdak/1695097725000/11118900490791463723/*/13ySLC_ue6Umt9RJYSeM2t-V0kCv-4C-P?uuid=2c95574c-a3b2-4538-b11b-d15eca711522\n",
            "Resolving doc-08-ak-docs.googleusercontent.com (doc-08-ak-docs.googleusercontent.com)... 173.194.194.132, 2607:f8b0:4001:c10::84\n",
            "Connecting to doc-08-ak-docs.googleusercontent.com (doc-08-ak-docs.googleusercontent.com)|173.194.194.132|:443... connected.\n",
            "HTTP request sent, awaiting response... 200 OK\n",
            "Length: 127831 (125K) [text/csv]\n",
            "Saving to: ‘/tmp/sentiment.csv’\n",
            "\n",
            "/tmp/sentiment.csv  100%[===================>] 124.83K  --.-KB/s    in 0.001s  \n",
            "\n",
            "2023-09-19 04:29:53 (106 MB/s) - ‘/tmp/sentiment.csv’ saved [127831/127831]\n",
            "\n"
          ]
        }
      ]
    },
    {
      "cell_type": "code",
      "source": [
        "dataset = pd.read_csv('/tmp/sentiment.csv')"
      ],
      "metadata": {
        "id": "nMoCjggctzPC"
      },
      "execution_count": null,
      "outputs": []
    },
    {
      "cell_type": "code",
      "source": [
        "dataset.head()"
      ],
      "metadata": {
        "colab": {
          "base_uri": "https://localhost:8080/",
          "height": 206
        },
        "id": "CLFfHqkQuDV6",
        "outputId": "1b5bfa55-dcdf-4743-a5a5-d4a8a1b8e940"
      },
      "execution_count": null,
      "outputs": [
        {
          "output_type": "execute_result",
          "data": {
            "text/plain": [
              "   Unnamed: 0                                               text  sentiment\n",
              "0           0  So there is no way for me to plug it in here i...          0\n",
              "1           1                         Good case Excellent value.          1\n",
              "2           2                             Great for the jawbone.          1\n",
              "3           3  Tied to charger for conversations lasting more...          0\n",
              "4           4                                  The mic is great.          1"
            ],
            "text/html": [
              "\n",
              "  <div id=\"df-5af306ce-228a-4bdb-8fcf-ef920a1ad558\" class=\"colab-df-container\">\n",
              "    <div>\n",
              "<style scoped>\n",
              "    .dataframe tbody tr th:only-of-type {\n",
              "        vertical-align: middle;\n",
              "    }\n",
              "\n",
              "    .dataframe tbody tr th {\n",
              "        vertical-align: top;\n",
              "    }\n",
              "\n",
              "    .dataframe thead th {\n",
              "        text-align: right;\n",
              "    }\n",
              "</style>\n",
              "<table border=\"1\" class=\"dataframe\">\n",
              "  <thead>\n",
              "    <tr style=\"text-align: right;\">\n",
              "      <th></th>\n",
              "      <th>Unnamed: 0</th>\n",
              "      <th>text</th>\n",
              "      <th>sentiment</th>\n",
              "    </tr>\n",
              "  </thead>\n",
              "  <tbody>\n",
              "    <tr>\n",
              "      <th>0</th>\n",
              "      <td>0</td>\n",
              "      <td>So there is no way for me to plug it in here i...</td>\n",
              "      <td>0</td>\n",
              "    </tr>\n",
              "    <tr>\n",
              "      <th>1</th>\n",
              "      <td>1</td>\n",
              "      <td>Good case Excellent value.</td>\n",
              "      <td>1</td>\n",
              "    </tr>\n",
              "    <tr>\n",
              "      <th>2</th>\n",
              "      <td>2</td>\n",
              "      <td>Great for the jawbone.</td>\n",
              "      <td>1</td>\n",
              "    </tr>\n",
              "    <tr>\n",
              "      <th>3</th>\n",
              "      <td>3</td>\n",
              "      <td>Tied to charger for conversations lasting more...</td>\n",
              "      <td>0</td>\n",
              "    </tr>\n",
              "    <tr>\n",
              "      <th>4</th>\n",
              "      <td>4</td>\n",
              "      <td>The mic is great.</td>\n",
              "      <td>1</td>\n",
              "    </tr>\n",
              "  </tbody>\n",
              "</table>\n",
              "</div>\n",
              "    <div class=\"colab-df-buttons\">\n",
              "\n",
              "  <div class=\"colab-df-container\">\n",
              "    <button class=\"colab-df-convert\" onclick=\"convertToInteractive('df-5af306ce-228a-4bdb-8fcf-ef920a1ad558')\"\n",
              "            title=\"Convert this dataframe to an interactive table.\"\n",
              "            style=\"display:none;\">\n",
              "\n",
              "  <svg xmlns=\"http://www.w3.org/2000/svg\" height=\"24px\" viewBox=\"0 -960 960 960\">\n",
              "    <path d=\"M120-120v-720h720v720H120Zm60-500h600v-160H180v160Zm220 220h160v-160H400v160Zm0 220h160v-160H400v160ZM180-400h160v-160H180v160Zm440 0h160v-160H620v160ZM180-180h160v-160H180v160Zm440 0h160v-160H620v160Z\"/>\n",
              "  </svg>\n",
              "    </button>\n",
              "\n",
              "  <style>\n",
              "    .colab-df-container {\n",
              "      display:flex;\n",
              "      gap: 12px;\n",
              "    }\n",
              "\n",
              "    .colab-df-convert {\n",
              "      background-color: #E8F0FE;\n",
              "      border: none;\n",
              "      border-radius: 50%;\n",
              "      cursor: pointer;\n",
              "      display: none;\n",
              "      fill: #1967D2;\n",
              "      height: 32px;\n",
              "      padding: 0 0 0 0;\n",
              "      width: 32px;\n",
              "    }\n",
              "\n",
              "    .colab-df-convert:hover {\n",
              "      background-color: #E2EBFA;\n",
              "      box-shadow: 0px 1px 2px rgba(60, 64, 67, 0.3), 0px 1px 3px 1px rgba(60, 64, 67, 0.15);\n",
              "      fill: #174EA6;\n",
              "    }\n",
              "\n",
              "    .colab-df-buttons div {\n",
              "      margin-bottom: 4px;\n",
              "    }\n",
              "\n",
              "    [theme=dark] .colab-df-convert {\n",
              "      background-color: #3B4455;\n",
              "      fill: #D2E3FC;\n",
              "    }\n",
              "\n",
              "    [theme=dark] .colab-df-convert:hover {\n",
              "      background-color: #434B5C;\n",
              "      box-shadow: 0px 1px 3px 1px rgba(0, 0, 0, 0.15);\n",
              "      filter: drop-shadow(0px 1px 2px rgba(0, 0, 0, 0.3));\n",
              "      fill: #FFFFFF;\n",
              "    }\n",
              "  </style>\n",
              "\n",
              "    <script>\n",
              "      const buttonEl =\n",
              "        document.querySelector('#df-5af306ce-228a-4bdb-8fcf-ef920a1ad558 button.colab-df-convert');\n",
              "      buttonEl.style.display =\n",
              "        google.colab.kernel.accessAllowed ? 'block' : 'none';\n",
              "\n",
              "      async function convertToInteractive(key) {\n",
              "        const element = document.querySelector('#df-5af306ce-228a-4bdb-8fcf-ef920a1ad558');\n",
              "        const dataTable =\n",
              "          await google.colab.kernel.invokeFunction('convertToInteractive',\n",
              "                                                    [key], {});\n",
              "        if (!dataTable) return;\n",
              "\n",
              "        const docLinkHtml = 'Like what you see? Visit the ' +\n",
              "          '<a target=\"_blank\" href=https://colab.research.google.com/notebooks/data_table.ipynb>data table notebook</a>'\n",
              "          + ' to learn more about interactive tables.';\n",
              "        element.innerHTML = '';\n",
              "        dataTable['output_type'] = 'display_data';\n",
              "        await google.colab.output.renderOutput(dataTable, element);\n",
              "        const docLink = document.createElement('div');\n",
              "        docLink.innerHTML = docLinkHtml;\n",
              "        element.appendChild(docLink);\n",
              "      }\n",
              "    </script>\n",
              "  </div>\n",
              "\n",
              "\n",
              "<div id=\"df-a8f40916-a153-4f5d-8d94-1cc193492662\">\n",
              "  <button class=\"colab-df-quickchart\" onclick=\"quickchart('df-a8f40916-a153-4f5d-8d94-1cc193492662')\"\n",
              "            title=\"Suggest charts.\"\n",
              "            style=\"display:none;\">\n",
              "\n",
              "<svg xmlns=\"http://www.w3.org/2000/svg\" height=\"24px\"viewBox=\"0 0 24 24\"\n",
              "     width=\"24px\">\n",
              "    <g>\n",
              "        <path d=\"M19 3H5c-1.1 0-2 .9-2 2v14c0 1.1.9 2 2 2h14c1.1 0 2-.9 2-2V5c0-1.1-.9-2-2-2zM9 17H7v-7h2v7zm4 0h-2V7h2v10zm4 0h-2v-4h2v4z\"/>\n",
              "    </g>\n",
              "</svg>\n",
              "  </button>\n",
              "\n",
              "<style>\n",
              "  .colab-df-quickchart {\n",
              "      --bg-color: #E8F0FE;\n",
              "      --fill-color: #1967D2;\n",
              "      --hover-bg-color: #E2EBFA;\n",
              "      --hover-fill-color: #174EA6;\n",
              "      --disabled-fill-color: #AAA;\n",
              "      --disabled-bg-color: #DDD;\n",
              "  }\n",
              "\n",
              "  [theme=dark] .colab-df-quickchart {\n",
              "      --bg-color: #3B4455;\n",
              "      --fill-color: #D2E3FC;\n",
              "      --hover-bg-color: #434B5C;\n",
              "      --hover-fill-color: #FFFFFF;\n",
              "      --disabled-bg-color: #3B4455;\n",
              "      --disabled-fill-color: #666;\n",
              "  }\n",
              "\n",
              "  .colab-df-quickchart {\n",
              "    background-color: var(--bg-color);\n",
              "    border: none;\n",
              "    border-radius: 50%;\n",
              "    cursor: pointer;\n",
              "    display: none;\n",
              "    fill: var(--fill-color);\n",
              "    height: 32px;\n",
              "    padding: 0;\n",
              "    width: 32px;\n",
              "  }\n",
              "\n",
              "  .colab-df-quickchart:hover {\n",
              "    background-color: var(--hover-bg-color);\n",
              "    box-shadow: 0 1px 2px rgba(60, 64, 67, 0.3), 0 1px 3px 1px rgba(60, 64, 67, 0.15);\n",
              "    fill: var(--button-hover-fill-color);\n",
              "  }\n",
              "\n",
              "  .colab-df-quickchart-complete:disabled,\n",
              "  .colab-df-quickchart-complete:disabled:hover {\n",
              "    background-color: var(--disabled-bg-color);\n",
              "    fill: var(--disabled-fill-color);\n",
              "    box-shadow: none;\n",
              "  }\n",
              "\n",
              "  .colab-df-spinner {\n",
              "    border: 2px solid var(--fill-color);\n",
              "    border-color: transparent;\n",
              "    border-bottom-color: var(--fill-color);\n",
              "    animation:\n",
              "      spin 1s steps(1) infinite;\n",
              "  }\n",
              "\n",
              "  @keyframes spin {\n",
              "    0% {\n",
              "      border-color: transparent;\n",
              "      border-bottom-color: var(--fill-color);\n",
              "      border-left-color: var(--fill-color);\n",
              "    }\n",
              "    20% {\n",
              "      border-color: transparent;\n",
              "      border-left-color: var(--fill-color);\n",
              "      border-top-color: var(--fill-color);\n",
              "    }\n",
              "    30% {\n",
              "      border-color: transparent;\n",
              "      border-left-color: var(--fill-color);\n",
              "      border-top-color: var(--fill-color);\n",
              "      border-right-color: var(--fill-color);\n",
              "    }\n",
              "    40% {\n",
              "      border-color: transparent;\n",
              "      border-right-color: var(--fill-color);\n",
              "      border-top-color: var(--fill-color);\n",
              "    }\n",
              "    60% {\n",
              "      border-color: transparent;\n",
              "      border-right-color: var(--fill-color);\n",
              "    }\n",
              "    80% {\n",
              "      border-color: transparent;\n",
              "      border-right-color: var(--fill-color);\n",
              "      border-bottom-color: var(--fill-color);\n",
              "    }\n",
              "    90% {\n",
              "      border-color: transparent;\n",
              "      border-bottom-color: var(--fill-color);\n",
              "    }\n",
              "  }\n",
              "</style>\n",
              "\n",
              "  <script>\n",
              "    async function quickchart(key) {\n",
              "      const quickchartButtonEl =\n",
              "        document.querySelector('#' + key + ' button');\n",
              "      quickchartButtonEl.disabled = true;  // To prevent multiple clicks.\n",
              "      quickchartButtonEl.classList.add('colab-df-spinner');\n",
              "      try {\n",
              "        const charts = await google.colab.kernel.invokeFunction(\n",
              "            'suggestCharts', [key], {});\n",
              "      } catch (error) {\n",
              "        console.error('Error during call to suggestCharts:', error);\n",
              "      }\n",
              "      quickchartButtonEl.classList.remove('colab-df-spinner');\n",
              "      quickchartButtonEl.classList.add('colab-df-quickchart-complete');\n",
              "    }\n",
              "    (() => {\n",
              "      let quickchartButtonEl =\n",
              "        document.querySelector('#df-a8f40916-a153-4f5d-8d94-1cc193492662 button');\n",
              "      quickchartButtonEl.style.display =\n",
              "        google.colab.kernel.accessAllowed ? 'block' : 'none';\n",
              "    })();\n",
              "  </script>\n",
              "</div>\n",
              "    </div>\n",
              "  </div>\n"
            ]
          },
          "metadata": {},
          "execution_count": 4
        }
      ]
    },
    {
      "cell_type": "code",
      "source": [
        "from typing_extensions import Text\n",
        "sentences= dataset[\"text\"].tolist()\n",
        "labels= dataset[\"sentiment\"].tolist()"
      ],
      "metadata": {
        "id": "2Comgm62uI8S"
      },
      "execution_count": null,
      "outputs": []
    },
    {
      "cell_type": "markdown",
      "source": [
        "# Create a subwords dataset"
      ],
      "metadata": {
        "id": "netSVqnuvrPz"
      }
    },
    {
      "cell_type": "code",
      "source": [
        "import tensorflow_datasets as tfds"
      ],
      "metadata": {
        "id": "3kSIgHKxueCv"
      },
      "execution_count": null,
      "outputs": []
    },
    {
      "cell_type": "code",
      "source": [
        "vocab_size= 1000\n",
        "tokenizer= tfds.deprecated.text.SubwordTextEncoder.build_from_corpus(sentences, vocab_size, max_subword_length=5)"
      ],
      "metadata": {
        "id": "Il-kstZMwFqp"
      },
      "execution_count": null,
      "outputs": []
    },
    {
      "cell_type": "code",
      "source": [
        "print(tokenizer)"
      ],
      "metadata": {
        "colab": {
          "base_uri": "https://localhost:8080/"
        },
        "id": "5MEiDclnwuBU",
        "outputId": "66f656c7-d640-4f87-b1a2-709b4ff6df65"
      },
      "execution_count": null,
      "outputs": [
        {
          "output_type": "stream",
          "name": "stdout",
          "text": [
            "<SubwordTextEncoder vocab_size=999>\n"
          ]
        }
      ]
    },
    {
      "cell_type": "code",
      "source": [
        "#check that the tokenizer works appropriately\n",
        "num= 5\n",
        "print(sentences[5])\n",
        "encoded= tokenizer.encode(sentences[num])\n",
        "print(encoded)"
      ],
      "metadata": {
        "colab": {
          "base_uri": "https://localhost:8080/"
        },
        "id": "XxKoBL2Owz4g",
        "outputId": "2f4190c0-0f17-4e52-a3be-8130ee243a5e"
      },
      "execution_count": null,
      "outputs": [
        {
          "output_type": "stream",
          "name": "stdout",
          "text": [
            "I have to jiggle the plug to get it to line up right to get decent volume.\n",
            "[4, 31, 6, 849, 162, 450, 12, 1, 600, 438, 775, 6, 175, 14, 6, 55, 213, 159, 474, 775, 6, 175, 614, 380, 295, 148, 72, 789]\n"
          ]
        }
      ]
    },
    {
      "cell_type": "code",
      "source": [
        "#separately print out each subword, decode\n",
        "for i in encoded:\n",
        "  print(tokenizer.decode([i]))"
      ],
      "metadata": {
        "colab": {
          "base_uri": "https://localhost:8080/"
        },
        "id": "yimGUGdDyNiO",
        "outputId": "ab745e94-d2d6-4d92-872c-c47f580f6ea4"
      },
      "execution_count": null,
      "outputs": [
        {
          "output_type": "stream",
          "name": "stdout",
          "text": [
            "I \n",
            "have \n",
            "to \n",
            "j\n",
            "ig\n",
            "gl\n",
            "e \n",
            "the \n",
            "pl\n",
            "ug\n",
            " \n",
            "to \n",
            "get \n",
            "it \n",
            "to \n",
            "li\n",
            "ne \n",
            "up \n",
            "right\n",
            " \n",
            "to \n",
            "get \n",
            "dec\n",
            "ent \n",
            "vo\n",
            "lu\n",
            "me\n",
            ".\n"
          ]
        }
      ]
    },
    {
      "cell_type": "markdown",
      "source": [
        "# Replace sentence data with encoded subwords\n",
        "Now, we'll re-create the dataset to be used for training by actually encoding each of the individual sentences. This is equivalent to text_to_sequences with the Tokenizer we used in earlier exercises."
      ],
      "metadata": {
        "id": "mrGZQErBz50-"
      }
    },
    {
      "cell_type": "code",
      "source": [
        "for i, sentence in enumerate(sentences):\n",
        "  sentences[i] = tokenizer.encode(sentence)"
      ],
      "metadata": {
        "id": "J78IRXgCytRl"
      },
      "execution_count": null,
      "outputs": []
    },
    {
      "cell_type": "code",
      "source": [
        "print(sentences[1])"
      ],
      "metadata": {
        "colab": {
          "base_uri": "https://localhost:8080/"
        },
        "id": "vLW927K70d-5",
        "outputId": "4e13425f-5f7f-493b-98d4-ec6494595051"
      },
      "execution_count": null,
      "outputs": [
        {
          "output_type": "stream",
          "name": "stdout",
          "text": [
            "[625, 677, 626, 274, 380, 633, 148, 844, 789]\n"
          ]
        }
      ]
    },
    {
      "cell_type": "markdown",
      "source": [
        "# Final pre-processing\n",
        "Before training, we still need to pad the sequences, as well as split into training and test sets.\n",
        "\n"
      ],
      "metadata": {
        "id": "2VVfJKkYwIjJ"
      }
    },
    {
      "cell_type": "code",
      "source": [
        "#define variable\n",
        "max_len= 50\n",
        "trunc_type= \"post\"\n",
        "padding_type=\"post\""
      ],
      "metadata": {
        "id": "83ikSxB4swe4"
      },
      "execution_count": null,
      "outputs": []
    },
    {
      "cell_type": "code",
      "source": [
        "#pad all sentence\n",
        "sen_padded= pad_sequences(sentences, maxlen= max_len, padding= padding_type, truncating= trunc_type)"
      ],
      "metadata": {
        "id": "kwSXL11Xzkx7"
      },
      "execution_count": null,
      "outputs": []
    },
    {
      "cell_type": "code",
      "source": [
        "#data split\n",
        "training_size= int(len(sentences)*.8)\n",
        "\n",
        "training_sen= sen_padded[0:training_size]\n",
        "testing_sen= sen_padded[training_size:]\n",
        "\n",
        "training_lab= labels[0: training_size]\n",
        "testing_lab= labels[training_size:]\n",
        "\n",
        "#make labels into numpy array\n",
        "training_lab= np.array(training_lab)\n",
        "testing_lab= np.array(testing_lab)"
      ],
      "metadata": {
        "id": "chF8TQDp0VrE"
      },
      "execution_count": null,
      "outputs": []
    },
    {
      "cell_type": "markdown",
      "source": [
        "# Make a sentiment model"
      ],
      "metadata": {
        "id": "2WUphsLu1zIL"
      }
    },
    {
      "cell_type": "code",
      "source": [
        "embedding_dim= 16\n",
        "model= tf.keras.Sequential([\n",
        "  tf.keras.layers.Embedding(vocab_size, embedding_dim, input_length= max_len),\n",
        "  tf.keras.layers.GlobalAveragePooling1D(),\n",
        "  tf.keras.layers.Dense(6, activation= \"relu\"),\n",
        "  tf.keras.layers.Dense(1, activation= \"sigmoid\")\n",
        "])"
      ],
      "metadata": {
        "id": "6eIF625j0hWU"
      },
      "execution_count": null,
      "outputs": []
    },
    {
      "cell_type": "code",
      "source": [
        "epoch= 30\n",
        "model.compile(loss= \"binary_crossentropy\", optimizer=\"adam\", metrics=[\"accuracy\"])\n",
        "history= model.fit(training_sen, training_lab, epochs= epoch, validation_data=(testing_sen, testing_lab))"
      ],
      "metadata": {
        "colab": {
          "base_uri": "https://localhost:8080/"
        },
        "id": "dcST-Y3Yu1Fq",
        "outputId": "1fae8c11-5af1-4a31-b993-5e42329ed477"
      },
      "execution_count": null,
      "outputs": [
        {
          "output_type": "stream",
          "name": "stdout",
          "text": [
            "Epoch 1/30\n",
            "50/50 [==============================] - 1s 7ms/step - loss: 0.6929 - accuracy: 0.5135 - val_loss: 0.6923 - val_accuracy: 0.5388\n",
            "Epoch 2/30\n",
            "50/50 [==============================] - 0s 4ms/step - loss: 0.6895 - accuracy: 0.6152 - val_loss: 0.6931 - val_accuracy: 0.4812\n",
            "Epoch 3/30\n",
            "50/50 [==============================] - 0s 3ms/step - loss: 0.6819 - accuracy: 0.6315 - val_loss: 0.6870 - val_accuracy: 0.5313\n",
            "Epoch 4/30\n",
            "50/50 [==============================] - 0s 3ms/step - loss: 0.6683 - accuracy: 0.6830 - val_loss: 0.6776 - val_accuracy: 0.5539\n",
            "Epoch 5/30\n",
            "50/50 [==============================] - 0s 3ms/step - loss: 0.6452 - accuracy: 0.7188 - val_loss: 0.6578 - val_accuracy: 0.6341\n",
            "Epoch 6/30\n",
            "50/50 [==============================] - 0s 3ms/step - loss: 0.6139 - accuracy: 0.7621 - val_loss: 0.6352 - val_accuracy: 0.6617\n",
            "Epoch 7/30\n",
            "50/50 [==============================] - 0s 3ms/step - loss: 0.5762 - accuracy: 0.7935 - val_loss: 0.6089 - val_accuracy: 0.7018\n",
            "Epoch 8/30\n",
            "50/50 [==============================] - 0s 3ms/step - loss: 0.5360 - accuracy: 0.8217 - val_loss: 0.5788 - val_accuracy: 0.7744\n",
            "Epoch 9/30\n",
            "50/50 [==============================] - 0s 3ms/step - loss: 0.4965 - accuracy: 0.8393 - val_loss: 0.5629 - val_accuracy: 0.7544\n",
            "Epoch 10/30\n",
            "50/50 [==============================] - 0s 3ms/step - loss: 0.4600 - accuracy: 0.8443 - val_loss: 0.5468 - val_accuracy: 0.7444\n",
            "Epoch 11/30\n",
            "50/50 [==============================] - 0s 3ms/step - loss: 0.4265 - accuracy: 0.8525 - val_loss: 0.5385 - val_accuracy: 0.7444\n",
            "Epoch 12/30\n",
            "50/50 [==============================] - 0s 4ms/step - loss: 0.3941 - accuracy: 0.8682 - val_loss: 0.5202 - val_accuracy: 0.7544\n",
            "Epoch 13/30\n",
            "50/50 [==============================] - 0s 5ms/step - loss: 0.3655 - accuracy: 0.8757 - val_loss: 0.5216 - val_accuracy: 0.7519\n",
            "Epoch 14/30\n",
            "50/50 [==============================] - 0s 5ms/step - loss: 0.3409 - accuracy: 0.8814 - val_loss: 0.5057 - val_accuracy: 0.7519\n",
            "Epoch 15/30\n",
            "50/50 [==============================] - 0s 4ms/step - loss: 0.3204 - accuracy: 0.8895 - val_loss: 0.4981 - val_accuracy: 0.7619\n",
            "Epoch 16/30\n",
            "50/50 [==============================] - 0s 4ms/step - loss: 0.3020 - accuracy: 0.8970 - val_loss: 0.5098 - val_accuracy: 0.7569\n",
            "Epoch 17/30\n",
            "50/50 [==============================] - 0s 5ms/step - loss: 0.2873 - accuracy: 0.8977 - val_loss: 0.4969 - val_accuracy: 0.7594\n",
            "Epoch 18/30\n",
            "50/50 [==============================] - 0s 4ms/step - loss: 0.2718 - accuracy: 0.9014 - val_loss: 0.5152 - val_accuracy: 0.7544\n",
            "Epoch 19/30\n",
            "50/50 [==============================] - 0s 5ms/step - loss: 0.2571 - accuracy: 0.9071 - val_loss: 0.5110 - val_accuracy: 0.7594\n",
            "Epoch 20/30\n",
            "50/50 [==============================] - 0s 5ms/step - loss: 0.2445 - accuracy: 0.9184 - val_loss: 0.5315 - val_accuracy: 0.7444\n",
            "Epoch 21/30\n",
            "50/50 [==============================] - 0s 5ms/step - loss: 0.2348 - accuracy: 0.9165 - val_loss: 0.5211 - val_accuracy: 0.7544\n",
            "Epoch 22/30\n",
            "50/50 [==============================] - 0s 4ms/step - loss: 0.2236 - accuracy: 0.9222 - val_loss: 0.5409 - val_accuracy: 0.7544\n",
            "Epoch 23/30\n",
            "50/50 [==============================] - 0s 5ms/step - loss: 0.2150 - accuracy: 0.9303 - val_loss: 0.5278 - val_accuracy: 0.7544\n",
            "Epoch 24/30\n",
            "50/50 [==============================] - 0s 3ms/step - loss: 0.2084 - accuracy: 0.9316 - val_loss: 0.5598 - val_accuracy: 0.7444\n",
            "Epoch 25/30\n",
            "50/50 [==============================] - 0s 3ms/step - loss: 0.1986 - accuracy: 0.9353 - val_loss: 0.5500 - val_accuracy: 0.7469\n",
            "Epoch 26/30\n",
            "50/50 [==============================] - 0s 3ms/step - loss: 0.1896 - accuracy: 0.9416 - val_loss: 0.5681 - val_accuracy: 0.7469\n",
            "Epoch 27/30\n",
            "50/50 [==============================] - 0s 3ms/step - loss: 0.1827 - accuracy: 0.9454 - val_loss: 0.5658 - val_accuracy: 0.7544\n",
            "Epoch 28/30\n",
            "50/50 [==============================] - 0s 3ms/step - loss: 0.1753 - accuracy: 0.9492 - val_loss: 0.5696 - val_accuracy: 0.7519\n",
            "Epoch 29/30\n",
            "50/50 [==============================] - 0s 3ms/step - loss: 0.1696 - accuracy: 0.9485 - val_loss: 0.6140 - val_accuracy: 0.7419\n",
            "Epoch 30/30\n",
            "50/50 [==============================] - 0s 3ms/step - loss: 0.1646 - accuracy: 0.9498 - val_loss: 0.5962 - val_accuracy: 0.7544\n"
          ]
        }
      ]
    },
    {
      "cell_type": "markdown",
      "source": [
        "Visualize accuracy and loss graph"
      ],
      "metadata": {
        "id": "AOT_QPTXx5Gy"
      }
    },
    {
      "cell_type": "code",
      "source": [
        "import matplotlib.pyplot as plt\n",
        "\n",
        "def plot_graph(history, string):\n",
        "  plt.plot(history.history[string])\n",
        "  plt.plot(history.history['val_' +string])\n",
        "  plt.xlabel(\"Epochs\")\n",
        "  plt.ylabel(string)\n",
        "  plt.legend([string, \"val_\"+string])\n",
        "  plt.show()\n",
        "\n",
        "plot_graph(history, \"accuracy\")\n",
        "plot_graph(history, \"loss\")"
      ],
      "metadata": {
        "colab": {
          "base_uri": "https://localhost:8080/",
          "height": 881
        },
        "id": "vbu0jhcvxW2W",
        "outputId": "dc506708-d8a0-4438-b5e1-c807d547c7a1"
      },
      "execution_count": null,
      "outputs": [
        {
          "output_type": "display_data",
          "data": {
            "text/plain": [
              "<Figure size 640x480 with 1 Axes>"
            ],
            "image/png": "[encoded data removed]"
          },
          "metadata": {}
        },
        {
          "output_type": "display_data",
          "data": {
            "text/plain": [
              "<Figure size 640x480 with 1 Axes>"
            ],
            "image/png": "[encoded data removed]"
          },
          "metadata": {}
        }
      ]
    },
    {
      "cell_type": "code",
      "source": [],
      "metadata": {
        "id": "HobrH8ZlzAFz"
      },
      "execution_count": null,
      "outputs": []
    }
  ]
}