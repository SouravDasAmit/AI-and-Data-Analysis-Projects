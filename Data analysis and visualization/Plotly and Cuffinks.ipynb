{
 "cells": [
  {
   "cell_type": "code",
   "execution_count": null,
   "id": "9436af6a",
   "metadata": {},
   "outputs": [],
   "source": [
    "#If you want to more lerarn about plotly them visit URL: https://plotly.com/python/reference/#choropleth"
   ]
  },
  {
   "cell_type": "code",
   "execution_count": 1,
   "id": "8e32d7fd",
   "metadata": {},
   "outputs": [],
   "source": [
    "import pandas as pd\n",
    "import numpy as np"
   ]
  },
  {
   "cell_type": "code",
   "execution_count": 2,
   "id": "fcc836db",
   "metadata": {},
   "outputs": [
    {
     "name": "stdout",
     "output_type": "stream",
     "text": [
      "5.9.0\n"
     ]
    }
   ],
   "source": [
    "from plotly import __version__\n",
    "print(__version__)"
   ]
  },
  {
   "cell_type": "code",
   "execution_count": 24,
   "id": "f64b8d3b",
   "metadata": {},
   "outputs": [],
   "source": [
    "%matplotlib inline"
   ]
  },
  {
   "cell_type": "code",
   "execution_count": 5,
   "id": "2c300a2b",
   "metadata": {},
   "outputs": [],
   "source": [
    "import cufflinks as cf"
   ]
  },
  {
   "cell_type": "code",
   "execution_count": 8,
   "id": "63fc2fbf",
   "metadata": {},
   "outputs": [],
   "source": [
    "from plotly.offline import download_plotlyjs, init_notebook_mode, plot, iplot"
   ]
  },
  {
   "cell_type": "code",
   "execution_count": 9,
   "id": "beefbd38",
   "metadata": {},
   "outputs": [
    {
     "data": {
      "text/html": [
       "        <script type=\"text/javascript\">\n",
       "        window.PlotlyConfig = {MathJaxConfig: 'local'};\n",
       "        if (window.MathJax && window.MathJax.Hub && window.MathJax.Hub.Config) {window.MathJax.Hub.Config({SVG: {font: \"STIX-Web\"}});}\n",
       "        if (typeof require !== 'undefined') {\n",
       "        require.undef(\"plotly\");\n",
       "        requirejs.config({\n",
       "            paths: {\n",
       "                'plotly': ['https://cdn.plot.ly/plotly-2.12.1.min']\n",
       "            }\n",
       "        });\n",
       "        require(['plotly'], function(Plotly) {\n",
       "            window._Plotly = Plotly;\n",
       "        });\n",
       "        }\n",
       "        </script>\n",
       "        "
      ]
     },
     "metadata": {},
     "output_type": "display_data"
    }
   ],
   "source": [
    " cf.go_offline()"
   ]
  },
  {
   "cell_type": "code",
   "execution_count": 10,
   "id": "7dd3e244",
   "metadata": {},
   "outputs": [],
   "source": [
    "#Data\n",
    "df1= pd.DataFrame(np.random.randn(100, 4), columns=[\"A\", \"B\", \"C\", \"D\"])"
   ]
  },
  {
   "cell_type": "code",
   "execution_count": 11,
   "id": "993e5720",
   "metadata": {},
   "outputs": [
    {
     "data": {
      "text/html": [
       "<div>\n",
       "<style scoped>\n",
       "    .dataframe tbody tr th:only-of-type {\n",
       "        vertical-align: middle;\n",
       "    }\n",
       "\n",
       "    .dataframe tbody tr th {\n",
       "        vertical-align: top;\n",
       "    }\n",
       "\n",
       "    .dataframe thead th {\n",
       "        text-align: right;\n",
       "    }\n",
       "</style>\n",
       "<table border=\"1\" class=\"dataframe\">\n",
       "  <thead>\n",
       "    <tr style=\"text-align: right;\">\n",
       "      <th></th>\n",
       "      <th>A</th>\n",
       "      <th>B</th>\n",
       "      <th>C</th>\n",
       "      <th>D</th>\n",
       "    </tr>\n",
       "  </thead>\n",
       "  <tbody>\n",
       "    <tr>\n",
       "      <th>0</th>\n",
       "      <td>0.224957</td>\n",
       "      <td>0.772933</td>\n",
       "      <td>-1.407704</td>\n",
       "      <td>0.687401</td>\n",
       "    </tr>\n",
       "    <tr>\n",
       "      <th>1</th>\n",
       "      <td>-0.142614</td>\n",
       "      <td>-0.295004</td>\n",
       "      <td>0.514033</td>\n",
       "      <td>1.292329</td>\n",
       "    </tr>\n",
       "    <tr>\n",
       "      <th>2</th>\n",
       "      <td>-0.255069</td>\n",
       "      <td>0.095209</td>\n",
       "      <td>1.313116</td>\n",
       "      <td>-1.445155</td>\n",
       "    </tr>\n",
       "    <tr>\n",
       "      <th>3</th>\n",
       "      <td>0.685613</td>\n",
       "      <td>1.441071</td>\n",
       "      <td>-2.212929</td>\n",
       "      <td>2.421265</td>\n",
       "    </tr>\n",
       "    <tr>\n",
       "      <th>4</th>\n",
       "      <td>1.669638</td>\n",
       "      <td>0.101665</td>\n",
       "      <td>0.517356</td>\n",
       "      <td>-0.599025</td>\n",
       "    </tr>\n",
       "  </tbody>\n",
       "</table>\n",
       "</div>"
      ],
      "text/plain": [
       "          A         B         C         D\n",
       "0  0.224957  0.772933 -1.407704  0.687401\n",
       "1 -0.142614 -0.295004  0.514033  1.292329\n",
       "2 -0.255069  0.095209  1.313116 -1.445155\n",
       "3  0.685613  1.441071 -2.212929  2.421265\n",
       "4  1.669638  0.101665  0.517356 -0.599025"
      ]
     },
     "execution_count": 11,
     "metadata": {},
     "output_type": "execute_result"
    }
   ],
   "source": [
    "df1.head()"
   ]
  },
  {
   "cell_type": "code",
   "execution_count": 22,
   "id": "13785ad0",
   "metadata": {},
   "outputs": [],
   "source": [
    "df2= pd.DataFrame({\"category\":[\"a\", \"b\", 'c','d','e','f', 'g', 'h','i','j'], \n",
    "                   \"value\": np.random.randint(0, 100, 10)})"
   ]
  },
  {
   "cell_type": "code",
   "execution_count": 23,
   "id": "ecfb522b",
   "metadata": {},
   "outputs": [
    {
     "data": {
      "text/html": [
       "<div>\n",
       "<style scoped>\n",
       "    .dataframe tbody tr th:only-of-type {\n",
       "        vertical-align: middle;\n",
       "    }\n",
       "\n",
       "    .dataframe tbody tr th {\n",
       "        vertical-align: top;\n",
       "    }\n",
       "\n",
       "    .dataframe thead th {\n",
       "        text-align: right;\n",
       "    }\n",
       "</style>\n",
       "<table border=\"1\" class=\"dataframe\">\n",
       "  <thead>\n",
       "    <tr style=\"text-align: right;\">\n",
       "      <th></th>\n",
       "      <th>category</th>\n",
       "      <th>value</th>\n",
       "    </tr>\n",
       "  </thead>\n",
       "  <tbody>\n",
       "    <tr>\n",
       "      <th>0</th>\n",
       "      <td>a</td>\n",
       "      <td>6</td>\n",
       "    </tr>\n",
       "    <tr>\n",
       "      <th>1</th>\n",
       "      <td>b</td>\n",
       "      <td>57</td>\n",
       "    </tr>\n",
       "    <tr>\n",
       "      <th>2</th>\n",
       "      <td>c</td>\n",
       "      <td>0</td>\n",
       "    </tr>\n",
       "    <tr>\n",
       "      <th>3</th>\n",
       "      <td>d</td>\n",
       "      <td>3</td>\n",
       "    </tr>\n",
       "    <tr>\n",
       "      <th>4</th>\n",
       "      <td>e</td>\n",
       "      <td>28</td>\n",
       "    </tr>\n",
       "    <tr>\n",
       "      <th>5</th>\n",
       "      <td>f</td>\n",
       "      <td>71</td>\n",
       "    </tr>\n",
       "    <tr>\n",
       "      <th>6</th>\n",
       "      <td>g</td>\n",
       "      <td>83</td>\n",
       "    </tr>\n",
       "    <tr>\n",
       "      <th>7</th>\n",
       "      <td>h</td>\n",
       "      <td>1</td>\n",
       "    </tr>\n",
       "    <tr>\n",
       "      <th>8</th>\n",
       "      <td>i</td>\n",
       "      <td>75</td>\n",
       "    </tr>\n",
       "    <tr>\n",
       "      <th>9</th>\n",
       "      <td>j</td>\n",
       "      <td>38</td>\n",
       "    </tr>\n",
       "  </tbody>\n",
       "</table>\n",
       "</div>"
      ],
      "text/plain": [
       "  category  value\n",
       "0        a      6\n",
       "1        b     57\n",
       "2        c      0\n",
       "3        d      3\n",
       "4        e     28\n",
       "5        f     71\n",
       "6        g     83\n",
       "7        h      1\n",
       "8        i     75\n",
       "9        j     38"
      ]
     },
     "execution_count": 23,
     "metadata": {},
     "output_type": "execute_result"
    }
   ],
   "source": [
    "df2"
   ]
  },
  {
   "cell_type": "code",
   "execution_count": 27,
   "id": "9cb451a8",
   "metadata": {},
   "outputs": [
    {
     "data": {
      "text/plain": [
       "<AxesSubplot:>"
      ]
     },
     "execution_count": 27,
     "metadata": {},
     "output_type": "execute_result"
    },
    {
     "data": {
      "image/png": "[encoded data removed]",
      "text/plain": [
       "<Figure size 500x300 with 1 Axes>"
      ]
     },
     "metadata": {},
     "output_type": "display_data"
    }
   ],
   "source": [
    "df1.plot(figsize=(5,3))"
   ]
  },
  {
   "cell_type": "code",
   "execution_count": 35,
   "id": "a1591de4",
   "metadata": {},
   "outputs": [],
   "source": [
    "import matplotlib.pyplot as plt"
   ]
  },
  {
   "cell_type": "code",
   "execution_count": 36,
   "id": "5a3b0f83",
   "metadata": {},
   "outputs": [
    {
     "data": {
      "application/vnd.plotly.v1+json": {
       "config": {
        "linkText": "Export to plot.ly",
        "plotlyServerURL": "https://plot.ly",
        "showLink": true
       },
       "data": [
        {
         "line": {
          "color": "rgba(255, 153, 51, 1.0)",
          "dash": "solid",
          "shape": "linear",
          "width": 1.3
         },
         "mode": "lines",
         "name": "A",
         "text": "",
         "type": "scatter",
         "x": [
          0,
          1,
          2,
          3,
          4,
          5,
          6,
          7,
          8,
          9,
          10,
          11,
          12,
          13,
          14,
          15,
          16,
          17,
          18,
          19,
          20,
          21,
          22,
          23,
          24,
          25,
          26,
          27,
          28,
          29,
          30,
          31,
          32,
          33,
          34,
          35,
          36,
          37,
          38,
          39,
          40,
          41,
          42,
          43,
          44,
          45,
          46,
          47,
          48,
          49,
          50,
          51,
          52,
          53,
          54,
          55,
          56,
          57,
          58,
          59,
          60,
          61,
          62,
          63,
          64,
          65,
          66,
          67,
          68,
          69,
          70,
          71,
          72,
          73,
          74,
          75,
          76,
          77,
          78,
          79,
          80,
          81,
          82,
          83,
          84,
          85,
          86,
          87,
          88,
          89,
          90,
          91,
          92,
          93,
          94,
          95,
          96,
          97,
          98,
          99
         ],
         "y": [
          0.2249574122485187,
          -0.14261442417502293,
          -0.2550693898234665,
          0.685612907940947,
          1.6696377029416647,
          -0.6276630448948421,
          -0.3675932197581956,
          0.8601065321997801,
          0.3029584160575629,
          1.4871959331592248,
          -1.1402052303681383,
          -0.10363052533320498,
          -1.227114249882769,
          1.0517098065952517,
          0.18111386197406235,
          -0.6224553189786596,
          -1.1914704485957508,
          0.6505610670402162,
          -1.0311546827111027,
          -0.3220045091127159,
          0.6201846864041929,
          -0.3136670563097545,
          0.3122077103270754,
          0.9019905430898144,
          0.7314170684298197,
          -0.840305166395734,
          -1.1196562155436376,
          0.22835011296288307,
          -0.21548374150626115,
          -0.07777464559266904,
          -2.197928658415042,
          -0.28835600690837554,
          -0.12235519259126607,
          -1.3580351035282827,
          0.2132605551579515,
          0.46070651683040154,
          0.7963444611084912,
          0.1094805824159229,
          -0.6102506779738078,
          1.1329129967541405,
          -0.5065961707940483,
          0.3745901537387485,
          0.7946114378721225,
          1.1465167276749233,
          -2.0553288125734057,
          0.10100751854400598,
          0.6645436919180743,
          -2.412988684855048,
          0.5122070039497443,
          1.4030992357915617,
          0.24913590252340764,
          -1.4870597006201085,
          -1.3661838507640083,
          -0.1519904820928337,
          0.4088874943908349,
          0.28921834149417314,
          -0.5477050903562732,
          -1.00334077408219,
          -1.9782068285772612,
          -1.559539636679243,
          1.1878319779769697,
          -0.5514926543266923,
          -1.239928895872855,
          1.361883671248535,
          0.6178324441029704,
          0.9377043609805684,
          0.403641750993754,
          -1.9264422169236457,
          -0.39329684106780577,
          -0.18962422021135977,
          0.4309102642418277,
          0.13416483620471115,
          -1.8475271675664917,
          1.276656958413032,
          0.5536066672322233,
          0.7451250480407975,
          -1.1885494428288137,
          0.808597310965037,
          -0.049207908473800556,
          0.1822632839586508,
          1.09853989816661,
          -1.9058038090611038,
          -0.538794190231828,
          0.28458672788291245,
          -1.7107356167627255,
          0.35184119723705537,
          -1.3012008916908282,
          -0.9108700963300996,
          -0.838242587698326,
          1.5118378297958461,
          -0.525715085033998,
          -0.5280227761153535,
          1.5009480547986114,
          -1.1882945291476716,
          -1.2722134708587935,
          -0.25068439424681555,
          -1.0076209780516017,
          -0.742483026883699,
          -0.5971237711770452,
          -0.06812184219397695
         ]
        },
        {
         "line": {
          "color": "rgba(55, 128, 191, 1.0)",
          "dash": "solid",
          "shape": "linear",
          "width": 1.3
         },
         "mode": "lines",
         "name": "B",
         "text": "",
         "type": "scatter",
         "x": [
          0,
          1,
          2,
          3,
          4,
          5,
          6,
          7,
          8,
          9,
          10,
          11,
          12,
          13,
          14,
          15,
          16,
          17,
          18,
          19,
          20,
          21,
          22,
          23,
          24,
          25,
          26,
          27,
          28,
          29,
          30,
          31,
          32,
          33,
          34,
          35,
          36,
          37,
          38,
          39,
          40,
          41,
          42,
          43,
          44,
          45,
          46,
          47,
          48,
          49,
          50,
          51,
          52,
          53,
          54,
          55,
          56,
          57,
          58,
          59,
          60,
          61,
          62,
          63,
          64,
          65,
          66,
          67,
          68,
          69,
          70,
          71,
          72,
          73,
          74,
          75,
          76,
          77,
          78,
          79,
          80,
          81,
          82,
          83,
          84,
          85,
          86,
          87,
          88,
          89,
          90,
          91,
          92,
          93,
          94,
          95,
          96,
          97,
          98,
          99
         ],
         "y": [
          0.7729328845998267,
          -0.2950040513273714,
          0.09520908744315867,
          1.441071495404537,
          0.10166534711461274,
          -0.8693316971690324,
          0.979562167355205,
          -0.8654708786854032,
          -0.2870011317161067,
          -1.5300959310749473,
          0.8368972285896891,
          1.8496175673476036,
          -1.2477780681015862,
          0.4215338133150978,
          0.4917663948454245,
          0.9781736006519686,
          0.9347198820348527,
          -0.36365393310839655,
          -1.5200057839806334,
          -0.8670452957430184,
          -0.788241493679069,
          -0.5477438420825249,
          0.04336683059551982,
          0.18091119066448572,
          0.10213061681864892,
          0.9561820138080441,
          0.6360305156843183,
          0.8148193265235719,
          -0.7243357866209025,
          -1.7094201272778604,
          0.7049069031486167,
          -1.6929017104546837,
          -1.351434770601901,
          0.5400726790334075,
          -0.9089948988816058,
          0.6865655449142279,
          0.07603430008983052,
          -0.9119736366526259,
          1.1017361476428449,
          0.3310632043893103,
          -0.668250051067514,
          0.485161547116454,
          0.3774165281634454,
          1.2433965952711497,
          -0.8535662136692201,
          0.9651085753827604,
          -0.12577055249933197,
          0.2315793282956873,
          1.094271953610481,
          0.45475229561547326,
          -0.1926373637868699,
          -0.32561960234374177,
          -2.1906627063088835,
          2.337836470426464,
          -0.8169000173085379,
          -1.0567080408048166,
          -2.137216564597913,
          2.8063834954575566,
          -0.9480034566417574,
          0.07441797086764544,
          -1.9894922466089366,
          1.6497669533081567,
          -0.12560768412915277,
          1.0167088823279065,
          1.2651059424362803,
          1.218624446338318,
          -2.5148357286791554,
          -0.6143555014834721,
          -2.1475638559430856,
          -0.9632014475924506,
          0.14276846625931602,
          0.35315951521897926,
          -0.4451647014676167,
          -1.344538665604799,
          1.5703460188585443,
          1.1649900207213846,
          -1.1327050573844177,
          0.30148592567161836,
          0.33369126307640595,
          -1.2513016080325425,
          -1.3740431730549505,
          0.6582137883417819,
          -0.3898943074688618,
          0.36245937168862513,
          0.47462451095442765,
          -2.077087683940318,
          -0.03158422387106401,
          0.3412955156808295,
          0.4860490073614476,
          -0.42109861637466595,
          1.2486711513798276,
          0.6810153620726337,
          0.21709393315480308,
          -0.7575392105538545,
          0.12553478007756078,
          0.33217504596304537,
          0.5983073107261221,
          -2.2161251644675217,
          0.5324550065592877,
          -0.5973104555594871
         ]
        },
        {
         "line": {
          "color": "rgba(50, 171, 96, 1.0)",
          "dash": "solid",
          "shape": "linear",
          "width": 1.3
         },
         "mode": "lines",
         "name": "C",
         "text": "",
         "type": "scatter",
         "x": [
          0,
          1,
          2,
          3,
          4,
          5,
          6,
          7,
          8,
          9,
          10,
          11,
          12,
          13,
          14,
          15,
          16,
          17,
          18,
          19,
          20,
          21,
          22,
          23,
          24,
          25,
          26,
          27,
          28,
          29,
          30,
          31,
          32,
          33,
          34,
          35,
          36,
          37,
          38,
          39,
          40,
          41,
          42,
          43,
          44,
          45,
          46,
          47,
          48,
          49,
          50,
          51,
          52,
          53,
          54,
          55,
          56,
          57,
          58,
          59,
          60,
          61,
          62,
          63,
          64,
          65,
          66,
          67,
          68,
          69,
          70,
          71,
          72,
          73,
          74,
          75,
          76,
          77,
          78,
          79,
          80,
          81,
          82,
          83,
          84,
          85,
          86,
          87,
          88,
          89,
          90,
          91,
          92,
          93,
          94,
          95,
          96,
          97,
          98,
          99
         ],
         "y": [
          -1.407703631343671,
          0.5140329231436118,
          1.3131158131992584,
          -2.212928852152698,
          0.5173563987333515,
          0.34706084032851675,
          -0.5929210703964634,
          0.13813863792706588,
          0.7003144907738252,
          0.8797191494749702,
          0.29137863584603657,
          0.412210553403753,
          -0.7917919162256702,
          0.23380419921599765,
          0.7006363554579161,
          -0.19401780265160595,
          0.0871652750797159,
          0.12109102906606106,
          -0.4856774751621975,
          -0.33503656199224263,
          0.989305797207836,
          0.15082348550530683,
          0.4704807568828661,
          1.0831894299838418,
          0.3586295958501063,
          0.1915945076598596,
          -1.5022291531005783,
          1.4038913461155493,
          -2.3201172843085103,
          -0.7850084055935527,
          1.6416898072599189,
          0.8740064232601772,
          0.5855214404280811,
          0.14953267259073877,
          -0.7168148311985317,
          -0.5110533822942064,
          -0.6965664504104578,
          -0.19578700620630154,
          0.14780867769351586,
          1.1463301563682267,
          -0.45084299243755643,
          -1.432352328786134,
          -2.0578758871075524,
          -0.6875762164963011,
          0.5095140262897756,
          -0.13186026363396183,
          -0.13804039155615058,
          0.41595434931612085,
          0.39940419070713673,
          0.1720714416492082,
          1.2358173790766753,
          0.2564077760910809,
          1.1783928031922872,
          -0.32641311365649067,
          0.23858826873596783,
          -0.14203601038533445,
          -0.3645621499967152,
          0.18016270082759867,
          -0.6928018108236371,
          -2.104313369439946,
          -0.3633633809793382,
          0.3020055011942023,
          0.7122464940533162,
          -0.8554495413250128,
          -0.01817109422354125,
          -1.0072561535251414,
          0.007045125592761505,
          -0.8047034046048044,
          -0.8133706531485041,
          -0.026216939791767715,
          -1.8034397312235693,
          0.13761848980876704,
          2.2825978897893187,
          0.0944423889260254,
          -0.6335379203958453,
          0.5293411405886458,
          -1.8191640037863301,
          0.26903546964548747,
          1.2290653193686019,
          -0.05392103233269685,
          -1.021614999145513,
          0.2492397807664952,
          0.5700615041724898,
          0.8501408763354436,
          -0.3152259965012949,
          2.080110221272923,
          -0.6302027942250683,
          0.8567247070030546,
          0.3127734152662034,
          1.2741981219816176,
          0.9127376031649637,
          0.5166083951090601,
          0.2475442944341499,
          -0.4239327618190913,
          -1.2485199555196693,
          0.47098675354359276,
          -0.6394284322963346,
          -2.755316239582588,
          0.9120545301067184,
          -0.7607109933566386
         ]
        },
        {
         "line": {
          "color": "rgba(128, 0, 128, 1.0)",
          "dash": "solid",
          "shape": "linear",
          "width": 1.3
         },
         "mode": "lines",
         "name": "D",
         "text": "",
         "type": "scatter",
         "x": [
          0,
          1,
          2,
          3,
          4,
          5,
          6,
          7,
          8,
          9,
          10,
          11,
          12,
          13,
          14,
          15,
          16,
          17,
          18,
          19,
          20,
          21,
          22,
          23,
          24,
          25,
          26,
          27,
          28,
          29,
          30,
          31,
          32,
          33,
          34,
          35,
          36,
          37,
          38,
          39,
          40,
          41,
          42,
          43,
          44,
          45,
          46,
          47,
          48,
          49,
          50,
          51,
          52,
          53,
          54,
          55,
          56,
          57,
          58,
          59,
          60,
          61,
          62,
          63,
          64,
          65,
          66,
          67,
          68,
          69,
          70,
          71,
          72,
          73,
          74,
          75,
          76,
          77,
          78,
          79,
          80,
          81,
          82,
          83,
          84,
          85,
          86,
          87,
          88,
          89,
          90,
          91,
          92,
          93,
          94,
          95,
          96,
          97,
          98,
          99
         ],
         "y": [
          0.687400710884295,
          1.292329185879667,
          -1.4451549140024476,
          2.4212652941715733,
          -0.5990245298654623,
          -0.14312718252640605,
          1.0341838284171945,
          0.9168533072372855,
          -0.5239881601798092,
          -3.4614694117290363,
          -0.547162749247495,
          -0.2954205384119188,
          -0.6762104379883643,
          0.17942177831626702,
          -0.446784254558779,
          3.152472667088559,
          0.05366938922946379,
          0.2925464108958577,
          -0.9260514076904133,
          0.8666434042745934,
          -0.6788493093657786,
          -0.928452920672083,
          0.7490743212798445,
          -0.9910217690371543,
          -0.5099780597741604,
          -0.7729878731471892,
          0.1261095837182957,
          -2.173997852739537,
          0.13380187326526857,
          -0.03383492214686325,
          -1.0540827763670386,
          0.5722797189713448,
          -0.10047293394388912,
          -1.4115711035698897,
          -1.123541015090475,
          -0.7485896007773215,
          1.1621777066193428,
          0.31034667529675075,
          -0.5478548465244522,
          1.1053754476640354,
          0.6724786658427715,
          1.417592390164073,
          0.1763335278094863,
          -0.4759008789741875,
          -0.529021806162886,
          -0.8780406205670047,
          -0.4670899375138714,
          0.12021124416462858,
          -1.1638589701666413,
          -0.2718286124947359,
          0.4944119559453498,
          0.612862017516745,
          2.0620936369339837,
          -0.5498957432666844,
          0.21091506283573025,
          0.8960109115496354,
          -0.08446203183891707,
          1.495063178165726,
          0.7921963932506242,
          0.9706531868794951,
          0.5442650593702897,
          -0.06695152379828094,
          -0.031671739135709996,
          -0.3282615102156579,
          -0.8570800998138681,
          -1.1631087687318071,
          1.319037497800597,
          0.010885976841033509,
          -0.16632739692236823,
          0.2784643719376399,
          -0.06477373031704924,
          -0.8110155425857067,
          0.46462041479311506,
          -0.29344170889783944,
          0.9418749445032143,
          -0.9145351980427542,
          1.5989467259671475,
          -0.3123143304487573,
          -1.7312174953372057,
          -0.9701391400874365,
          -1.263680840458927,
          1.6221377826941585,
          -1.929638890370037,
          -0.00807621149389771,
          -1.1116686536071216,
          -1.3142471793168062,
          -0.2677781320562748,
          -0.029451177327852074,
          0.6886728047322884,
          0.6228839741607755,
          1.048817636224244,
          -1.2720622979819218,
          -0.16208924811986883,
          -0.3442025567829724,
          0.05865786141098669,
          0.33630770910042346,
          -0.021898720384863044,
          -0.9402976316913524,
          -0.7092448432651228,
          0.6306365246150188
         ]
        }
       ],
       "layout": {
        "legend": {
         "bgcolor": "#F5F6F9",
         "font": {
          "color": "#4D5663"
         }
        },
        "paper_bgcolor": "#F5F6F9",
        "plot_bgcolor": "#F5F6F9",
        "template": {
         "data": {
          "bar": [
           {
            "error_x": {
             "color": "#2a3f5f"
            },
            "error_y": {
             "color": "#2a3f5f"
            },
            "marker": {
             "line": {
              "color": "#E5ECF6",
              "width": 0.5
             },
             "pattern": {
              "fillmode": "overlay",
              "size": 10,
              "solidity": 0.2
             }
            },
            "type": "bar"
           }
          ],
          "barpolar": [
           {
            "marker": {
             "line": {
              "color": "#E5ECF6",
              "width": 0.5
             },
             "pattern": {
              "fillmode": "overlay",
              "size": 10,
              "solidity": 0.2
             }
            },
            "type": "barpolar"
           }
          ],
          "carpet": [
           {
            "aaxis": {
             "endlinecolor": "#2a3f5f",
             "gridcolor": "white",
             "linecolor": "white",
             "minorgridcolor": "white",
             "startlinecolor": "#2a3f5f"
            },
            "baxis": {
             "endlinecolor": "#2a3f5f",
             "gridcolor": "white",
             "linecolor": "white",
             "minorgridcolor": "white",
             "startlinecolor": "#2a3f5f"
            },
            "type": "carpet"
           }
          ],
          "choropleth": [
           {
            "colorbar": {
             "outlinewidth": 0,
             "ticks": ""
            },
            "type": "choropleth"
           }
          ],
          "contour": [
           {
            "colorbar": {
             "outlinewidth": 0,
             "ticks": ""
            },
            "colorscale": [
             [
              0,
              "#0d0887"
             ],
             [
              0.1111111111111111,
              "#46039f"
             ],
             [
              0.2222222222222222,
              "#7201a8"
             ],
             [
              0.3333333333333333,
              "#9c179e"
             ],
             [
              0.4444444444444444,
              "#bd3786"
             ],
             [
              0.5555555555555556,
              "#d8576b"
             ],
             [
              0.6666666666666666,
              "#ed7953"
             ],
             [
              0.7777777777777778,
              "#fb9f3a"
             ],
             [
              0.8888888888888888,
              "#fdca26"
             ],
             [
              1,
              "#f0f921"
             ]
            ],
            "type": "contour"
           }
          ],
          "contourcarpet": [
           {
            "colorbar": {
             "outlinewidth": 0,
             "ticks": ""
            },
            "type": "contourcarpet"
           }
          ],
          "heatmap": [
           {
            "colorbar": {
             "outlinewidth": 0,
             "ticks": ""
            },
            "colorscale": [
             [
              0,
              "#0d0887"
             ],
             [
              0.1111111111111111,
              "#46039f"
             ],
             [
              0.2222222222222222,
              "#7201a8"
             ],
             [
              0.3333333333333333,
              "#9c179e"
             ],
             [
              0.4444444444444444,
              "#bd3786"
             ],
             [
              0.5555555555555556,
              "#d8576b"
             ],
             [
              0.6666666666666666,
              "#ed7953"
             ],
             [
              0.7777777777777778,
              "#fb9f3a"
             ],
             [
              0.8888888888888888,
              "#fdca26"
             ],
             [
              1,
              "#f0f921"
             ]
            ],
            "type": "heatmap"
           }
          ],
          "heatmapgl": [
           {
            "colorbar": {
             "outlinewidth": 0,
             "ticks": ""
            },
            "colorscale": [
             [
              0,
              "#0d0887"
             ],
             [
              0.1111111111111111,
              "#46039f"
             ],
             [
              0.2222222222222222,
              "#7201a8"
             ],
             [
              0.3333333333333333,
              "#9c179e"
             ],
             [
              0.4444444444444444,
              "#bd3786"
             ],
             [
              0.5555555555555556,
              "#d8576b"
             ],
             [
              0.6666666666666666,
              "#ed7953"
             ],
             [
              0.7777777777777778,
              "#fb9f3a"
             ],
             [
              0.8888888888888888,
              "#fdca26"
             ],
             [
              1,
              "#f0f921"
             ]
            ],
            "type": "heatmapgl"
           }
          ],
          "histogram": [
           {
            "marker": {
             "pattern": {
              "fillmode": "overlay",
              "size": 10,
              "solidity": 0.2
             }
            },
            "type": "histogram"
           }
          ],
          "histogram2d": [
           {
            "colorbar": {
             "outlinewidth": 0,
             "ticks": ""
            },
            "colorscale": [
             [
              0,
              "#0d0887"
             ],
             [
              0.1111111111111111,
              "#46039f"
             ],
             [
              0.2222222222222222,
              "#7201a8"
             ],
             [
              0.3333333333333333,
              "#9c179e"
             ],
             [
              0.4444444444444444,
              "#bd3786"
             ],
             [
              0.5555555555555556,
              "#d8576b"
             ],
             [
              0.6666666666666666,
              "#ed7953"
             ],
             [
              0.7777777777777778,
              "#fb9f3a"
             ],
             [
              0.8888888888888888,
              "#fdca26"
             ],
             [
              1,
              "#f0f921"
             ]
            ],
            "type": "histogram2d"
           }
          ],
          "histogram2dcontour": [
           {
            "colorbar": {
             "outlinewidth": 0,
             "ticks": ""
            },
            "colorscale": [
             [
              0,
              "#0d0887"
             ],
             [
              0.1111111111111111,
              "#46039f"
             ],
             [
              0.2222222222222222,
              "#7201a8"
             ],
             [
              0.3333333333333333,
              "#9c179e"
             ],
             [
              0.4444444444444444,
              "#bd3786"
             ],
             [
              0.5555555555555556,
              "#d8576b"
             ],
             [
              0.6666666666666666,
              "#ed7953"
             ],
             [
              0.7777777777777778,
              "#fb9f3a"
             ],
             [
              0.8888888888888888,
              "#fdca26"
             ],
             [
              1,
              "#f0f921"
             ]
            ],
            "type": "histogram2dcontour"
           }
          ],
          "mesh3d": [
           {
            "colorbar": {
             "outlinewidth": 0,
             "ticks": ""
            },
            "type": "mesh3d"
           }
          ],
          "parcoords": [
           {
            "line": {
             "colorbar": {
              "outlinewidth": 0,
              "ticks": ""
             }
            },
            "type": "parcoords"
           }
          ],
          "pie": [
           {
            "automargin": true,
            "type": "pie"
           }
          ],
          "scatter": [
           {
            "fillpattern": {
             "fillmode": "overlay",
             "size": 10,
             "solidity": 0.2
            },
            "type": "scatter"
           }
          ],
          "scatter3d": [
           {
            "line": {
             "colorbar": {
              "outlinewidth": 0,
              "ticks": ""
             }
            },
            "marker": {
             "colorbar": {
              "outlinewidth": 0,
              "ticks": ""
             }
            },
            "type": "scatter3d"
           }
          ],
          "scattercarpet": [
           {
            "marker": {
             "colorbar": {
              "outlinewidth": 0,
              "ticks": ""
             }
            },
            "type": "scattercarpet"
           }
          ],
          "scattergeo": [
           {
            "marker": {
             "colorbar": {
              "outlinewidth": 0,
              "ticks": ""
             }
            },
            "type": "scattergeo"
           }
          ],
          "scattergl": [
           {
            "marker": {
             "colorbar": {
              "outlinewidth": 0,
              "ticks": ""
             }
            },
            "type": "scattergl"
           }
          ],
          "scattermapbox": [
           {
            "marker": {
             "colorbar": {
              "outlinewidth": 0,
              "ticks": ""
             }
            },
            "type": "scattermapbox"
           }
          ],
          "scatterpolar": [
           {
            "marker": {
             "colorbar": {
              "outlinewidth": 0,
              "ticks": ""
             }
            },
            "type": "scatterpolar"
           }
          ],
          "scatterpolargl": [
           {
            "marker": {
             "colorbar": {
              "outlinewidth": 0,
              "ticks": ""
             }
            },
            "type": "scatterpolargl"
           }
          ],
          "scatterternary": [
           {
            "marker": {
             "colorbar": {
              "outlinewidth": 0,
              "ticks": ""
             }
            },
            "type": "scatterternary"
           }
          ],
          "surface": [
           {
            "colorbar": {
             "outlinewidth": 0,
             "ticks": ""
            },
            "colorscale": [
             [
              0,
              "#0d0887"
             ],
             [
              0.1111111111111111,
              "#46039f"
             ],
             [
              0.2222222222222222,
              "#7201a8"
             ],
             [
              0.3333333333333333,
              "#9c179e"
             ],
             [
              0.4444444444444444,
              "#bd3786"
             ],
             [
              0.5555555555555556,
              "#d8576b"
             ],
             [
              0.6666666666666666,
              "#ed7953"
             ],
             [
              0.7777777777777778,
              "#fb9f3a"
             ],
             [
              0.8888888888888888,
              "#fdca26"
             ],
             [
              1,
              "#f0f921"
             ]
            ],
            "type": "surface"
           }
          ],
          "table": [
           {
            "cells": {
             "fill": {
              "color": "#EBF0F8"
             },
             "line": {
              "color": "white"
             }
            },
            "header": {
             "fill": {
              "color": "#C8D4E3"
             },
             "line": {
              "color": "white"
             }
            },
            "type": "table"
           }
          ]
         },
         "layout": {
          "annotationdefaults": {
           "arrowcolor": "#2a3f5f",
           "arrowhead": 0,
           "arrowwidth": 1
          },
          "autotypenumbers": "strict",
          "coloraxis": {
           "colorbar": {
            "outlinewidth": 0,
            "ticks": ""
           }
          },
          "colorscale": {
           "diverging": [
            [
             0,
             "#8e0152"
            ],
            [
             0.1,
             "#c51b7d"
            ],
            [
             0.2,
             "#de77ae"
            ],
            [
             0.3,
             "#f1b6da"
            ],
            [
             0.4,
             "#fde0ef"
            ],
            [
             0.5,
             "#f7f7f7"
            ],
            [
             0.6,
             "#e6f5d0"
            ],
            [
             0.7,
             "#b8e186"
            ],
            [
             0.8,
             "#7fbc41"
            ],
            [
             0.9,
             "#4d9221"
            ],
            [
             1,
             "#276419"
            ]
           ],
           "sequential": [
            [
             0,
             "#0d0887"
            ],
            [
             0.1111111111111111,
             "#46039f"
            ],
            [
             0.2222222222222222,
             "#7201a8"
            ],
            [
             0.3333333333333333,
             "#9c179e"
            ],
            [
             0.4444444444444444,
             "#bd3786"
            ],
            [
             0.5555555555555556,
             "#d8576b"
            ],
            [
             0.6666666666666666,
             "#ed7953"
            ],
            [
             0.7777777777777778,
             "#fb9f3a"
            ],
            [
             0.8888888888888888,
             "#fdca26"
            ],
            [
             1,
             "#f0f921"
            ]
           ],
           "sequentialminus": [
            [
             0,
             "#0d0887"
            ],
            [
             0.1111111111111111,
             "#46039f"
            ],
            [
             0.2222222222222222,
             "#7201a8"
            ],
            [
             0.3333333333333333,
             "#9c179e"
            ],
            [
             0.4444444444444444,
             "#bd3786"
            ],
            [
             0.5555555555555556,
             "#d8576b"
            ],
            [
             0.6666666666666666,
             "#ed7953"
            ],
            [
             0.7777777777777778,
             "#fb9f3a"
            ],
            [
             0.8888888888888888,
             "#fdca26"
            ],
            [
             1,
             "#f0f921"
            ]
           ]
          },
          "colorway": [
           "#636efa",
           "#EF553B",
           "#00cc96",
           "#ab63fa",
           "#FFA15A",
           "#19d3f3",
           "#FF6692",
           "#B6E880",
           "#FF97FF",
           "#FECB52"
          ],
          "font": {
           "color": "#2a3f5f"
          },
          "geo": {
           "bgcolor": "white",
           "lakecolor": "white",
           "landcolor": "#E5ECF6",
           "showlakes": true,
           "showland": true,
           "subunitcolor": "white"
          },
          "hoverlabel": {
           "align": "left"
          },
          "hovermode": "closest",
          "mapbox": {
           "style": "light"
          },
          "paper_bgcolor": "white",
          "plot_bgcolor": "#E5ECF6",
          "polar": {
           "angularaxis": {
            "gridcolor": "white",
            "linecolor": "white",
            "ticks": ""
           },
           "bgcolor": "#E5ECF6",
           "radialaxis": {
            "gridcolor": "white",
            "linecolor": "white",
            "ticks": ""
           }
          },
          "scene": {
           "xaxis": {
            "backgroundcolor": "#E5ECF6",
            "gridcolor": "white",
            "gridwidth": 2,
            "linecolor": "white",
            "showbackground": true,
            "ticks": "",
            "zerolinecolor": "white"
           },
           "yaxis": {
            "backgroundcolor": "#E5ECF6",
            "gridcolor": "white",
            "gridwidth": 2,
            "linecolor": "white",
            "showbackground": true,
            "ticks": "",
            "zerolinecolor": "white"
           },
           "zaxis": {
            "backgroundcolor": "#E5ECF6",
            "gridcolor": "white",
            "gridwidth": 2,
            "linecolor": "white",
            "showbackground": true,
            "ticks": "",
            "zerolinecolor": "white"
           }
          },
          "shapedefaults": {
           "line": {
            "color": "#2a3f5f"
           }
          },
          "ternary": {
           "aaxis": {
            "gridcolor": "white",
            "linecolor": "white",
            "ticks": ""
           },
           "baxis": {
            "gridcolor": "white",
            "linecolor": "white",
            "ticks": ""
           },
           "bgcolor": "#E5ECF6",
           "caxis": {
            "gridcolor": "white",
            "linecolor": "white",
            "ticks": ""
           }
          },
          "title": {
           "x": 0.05
          },
          "xaxis": {
           "automargin": true,
           "gridcolor": "white",
           "linecolor": "white",
           "ticks": "",
           "title": {
            "standoff": 15
           },
           "zerolinecolor": "white",
           "zerolinewidth": 2
          },
          "yaxis": {
           "automargin": true,
           "gridcolor": "white",
           "linecolor": "white",
           "ticks": "",
           "title": {
            "standoff": 15
           },
           "zerolinecolor": "white",
           "zerolinewidth": 2
          }
         }
        },
        "title": {
         "font": {
          "color": "#4D5663"
         }
        },
        "xaxis": {
         "gridcolor": "#E1E5ED",
         "showgrid": true,
         "tickfont": {
          "color": "#4D5663"
         },
         "title": {
          "font": {
           "color": "#4D5663"
          },
          "text": ""
         },
         "zerolinecolor": "#E1E5ED"
        },
        "yaxis": {
         "gridcolor": "#E1E5ED",
         "showgrid": true,
         "tickfont": {
          "color": "#4D5663"
         },
         "title": {
          "font": {
           "color": "#4D5663"
          },
          "text": ""
         },
         "zerolinecolor": "#E1E5ED"
        }
       }
      },
      "text/html": [
       "<div>                            <div id=\"7f78de6a-7530-498c-a02e-f9c182e2b393\" class=\"plotly-graph-div\" style=\"height:525px; width:100%;\"></div>            <script type=\"text/javascript\">                require([\"plotly\"], function(Plotly) {                    window.PLOTLYENV=window.PLOTLYENV || {};\n",
       "                    window.PLOTLYENV.BASE_URL='https://plot.ly';                                    if (document.getElementById(\"7f78de6a-7530-498c-a02e-f9c182e2b393\")) {                    Plotly.newPlot(                        \"7f78de6a-7530-498c-a02e-f9c182e2b393\",                        [{\"line\":{\"color\":\"rgba(255, 153, 51, 1.0)\",\"dash\":\"solid\",\"shape\":\"linear\",\"width\":1.3},\"mode\":\"lines\",\"name\":\"A\",\"text\":\"\",\"x\":[0,1,2,3,4,5,6,7,8,9,10,11,12,13,14,15,16,17,18,19,20,21,22,23,24,25,26,27,28,29,30,31,32,33,34,35,36,37,38,39,40,41,42,43,44,45,46,47,48,49,50,51,52,53,54,55,56,57,58,59,60,61,62,63,64,65,66,67,68,69,70,71,72,73,74,75,76,77,78,79,80,81,82,83,84,85,86,87,88,89,90,91,92,93,94,95,96,97,98,99],\"y\":[0.2249574122485187,-0.14261442417502293,-0.2550693898234665,0.685612907940947,1.6696377029416647,-0.6276630448948421,-0.3675932197581956,0.8601065321997801,0.3029584160575629,1.4871959331592248,-1.1402052303681383,-0.10363052533320498,-1.227114249882769,1.0517098065952517,0.18111386197406235,-0.6224553189786596,-1.1914704485957508,0.6505610670402162,-1.0311546827111027,-0.3220045091127159,0.6201846864041929,-0.3136670563097545,0.3122077103270754,0.9019905430898144,0.7314170684298197,-0.840305166395734,-1.1196562155436376,0.22835011296288307,-0.21548374150626115,-0.07777464559266904,-2.197928658415042,-0.28835600690837554,-0.12235519259126607,-1.3580351035282827,0.2132605551579515,0.46070651683040154,0.7963444611084912,0.1094805824159229,-0.6102506779738078,1.1329129967541405,-0.5065961707940483,0.3745901537387485,0.7946114378721225,1.1465167276749233,-2.0553288125734057,0.10100751854400598,0.6645436919180743,-2.412988684855048,0.5122070039497443,1.4030992357915617,0.24913590252340764,-1.4870597006201085,-1.3661838507640083,-0.1519904820928337,0.4088874943908349,0.28921834149417314,-0.5477050903562732,-1.00334077408219,-1.9782068285772612,-1.559539636679243,1.1878319779769697,-0.5514926543266923,-1.239928895872855,1.361883671248535,0.6178324441029704,0.9377043609805684,0.403641750993754,-1.9264422169236457,-0.39329684106780577,-0.18962422021135977,0.4309102642418277,0.13416483620471115,-1.8475271675664917,1.276656958413032,0.5536066672322233,0.7451250480407975,-1.1885494428288137,0.808597310965037,-0.049207908473800556,0.1822632839586508,1.09853989816661,-1.9058038090611038,-0.538794190231828,0.28458672788291245,-1.7107356167627255,0.35184119723705537,-1.3012008916908282,-0.9108700963300996,-0.838242587698326,1.5118378297958461,-0.525715085033998,-0.5280227761153535,1.5009480547986114,-1.1882945291476716,-1.2722134708587935,-0.25068439424681555,-1.0076209780516017,-0.742483026883699,-0.5971237711770452,-0.06812184219397695],\"type\":\"scatter\"},{\"line\":{\"color\":\"rgba(55, 128, 191, 1.0)\",\"dash\":\"solid\",\"shape\":\"linear\",\"width\":1.3},\"mode\":\"lines\",\"name\":\"B\",\"text\":\"\",\"x\":[0,1,2,3,4,5,6,7,8,9,10,11,12,13,14,15,16,17,18,19,20,21,22,23,24,25,26,27,28,29,30,31,32,33,34,35,36,37,38,39,40,41,42,43,44,45,46,47,48,49,50,51,52,53,54,55,56,57,58,59,60,61,62,63,64,65,66,67,68,69,70,71,72,73,74,75,76,77,78,79,80,81,82,83,84,85,86,87,88,89,90,91,92,93,94,95,96,97,98,99],\"y\":[0.7729328845998267,-0.2950040513273714,0.09520908744315867,1.441071495404537,0.10166534711461274,-0.8693316971690324,0.979562167355205,-0.8654708786854032,-0.2870011317161067,-1.5300959310749473,0.8368972285896891,1.8496175673476036,-1.2477780681015862,0.4215338133150978,0.4917663948454245,0.9781736006519686,0.9347198820348527,-0.36365393310839655,-1.5200057839806334,-0.8670452957430184,-0.788241493679069,-0.5477438420825249,0.04336683059551982,0.18091119066448572,0.10213061681864892,0.9561820138080441,0.6360305156843183,0.8148193265235719,-0.7243357866209025,-1.7094201272778604,0.7049069031486167,-1.6929017104546837,-1.351434770601901,0.5400726790334075,-0.9089948988816058,0.6865655449142279,0.07603430008983052,-0.9119736366526259,1.1017361476428449,0.3310632043893103,-0.668250051067514,0.485161547116454,0.3774165281634454,1.2433965952711497,-0.8535662136692201,0.9651085753827604,-0.12577055249933197,0.2315793282956873,1.094271953610481,0.45475229561547326,-0.1926373637868699,-0.32561960234374177,-2.1906627063088835,2.337836470426464,-0.8169000173085379,-1.0567080408048166,-2.137216564597913,2.8063834954575566,-0.9480034566417574,0.07441797086764544,-1.9894922466089366,1.6497669533081567,-0.12560768412915277,1.0167088823279065,1.2651059424362803,1.218624446338318,-2.5148357286791554,-0.6143555014834721,-2.1475638559430856,-0.9632014475924506,0.14276846625931602,0.35315951521897926,-0.4451647014676167,-1.344538665604799,1.5703460188585443,1.1649900207213846,-1.1327050573844177,0.30148592567161836,0.33369126307640595,-1.2513016080325425,-1.3740431730549505,0.6582137883417819,-0.3898943074688618,0.36245937168862513,0.47462451095442765,-2.077087683940318,-0.03158422387106401,0.3412955156808295,0.4860490073614476,-0.42109861637466595,1.2486711513798276,0.6810153620726337,0.21709393315480308,-0.7575392105538545,0.12553478007756078,0.33217504596304537,0.5983073107261221,-2.2161251644675217,0.5324550065592877,-0.5973104555594871],\"type\":\"scatter\"},{\"line\":{\"color\":\"rgba(50, 171, 96, 1.0)\",\"dash\":\"solid\",\"shape\":\"linear\",\"width\":1.3},\"mode\":\"lines\",\"name\":\"C\",\"text\":\"\",\"x\":[0,1,2,3,4,5,6,7,8,9,10,11,12,13,14,15,16,17,18,19,20,21,22,23,24,25,26,27,28,29,30,31,32,33,34,35,36,37,38,39,40,41,42,43,44,45,46,47,48,49,50,51,52,53,54,55,56,57,58,59,60,61,62,63,64,65,66,67,68,69,70,71,72,73,74,75,76,77,78,79,80,81,82,83,84,85,86,87,88,89,90,91,92,93,94,95,96,97,98,99],\"y\":[-1.407703631343671,0.5140329231436118,1.3131158131992584,-2.212928852152698,0.5173563987333515,0.34706084032851675,-0.5929210703964634,0.13813863792706588,0.7003144907738252,0.8797191494749702,0.29137863584603657,0.412210553403753,-0.7917919162256702,0.23380419921599765,0.7006363554579161,-0.19401780265160595,0.0871652750797159,0.12109102906606106,-0.4856774751621975,-0.33503656199224263,0.989305797207836,0.15082348550530683,0.4704807568828661,1.0831894299838418,0.3586295958501063,0.1915945076598596,-1.5022291531005783,1.4038913461155493,-2.3201172843085103,-0.7850084055935527,1.6416898072599189,0.8740064232601772,0.5855214404280811,0.14953267259073877,-0.7168148311985317,-0.5110533822942064,-0.6965664504104578,-0.19578700620630154,0.14780867769351586,1.1463301563682267,-0.45084299243755643,-1.432352328786134,-2.0578758871075524,-0.6875762164963011,0.5095140262897756,-0.13186026363396183,-0.13804039155615058,0.41595434931612085,0.39940419070713673,0.1720714416492082,1.2358173790766753,0.2564077760910809,1.1783928031922872,-0.32641311365649067,0.23858826873596783,-0.14203601038533445,-0.3645621499967152,0.18016270082759867,-0.6928018108236371,-2.104313369439946,-0.3633633809793382,0.3020055011942023,0.7122464940533162,-0.8554495413250128,-0.01817109422354125,-1.0072561535251414,0.007045125592761505,-0.8047034046048044,-0.8133706531485041,-0.026216939791767715,-1.8034397312235693,0.13761848980876704,2.2825978897893187,0.0944423889260254,-0.6335379203958453,0.5293411405886458,-1.8191640037863301,0.26903546964548747,1.2290653193686019,-0.05392103233269685,-1.021614999145513,0.2492397807664952,0.5700615041724898,0.8501408763354436,-0.3152259965012949,2.080110221272923,-0.6302027942250683,0.8567247070030546,0.3127734152662034,1.2741981219816176,0.9127376031649637,0.5166083951090601,0.2475442944341499,-0.4239327618190913,-1.2485199555196693,0.47098675354359276,-0.6394284322963346,-2.755316239582588,0.9120545301067184,-0.7607109933566386],\"type\":\"scatter\"},{\"line\":{\"color\":\"rgba(128, 0, 128, 1.0)\",\"dash\":\"solid\",\"shape\":\"linear\",\"width\":1.3},\"mode\":\"lines\",\"name\":\"D\",\"text\":\"\",\"x\":[0,1,2,3,4,5,6,7,8,9,10,11,12,13,14,15,16,17,18,19,20,21,22,23,24,25,26,27,28,29,30,31,32,33,34,35,36,37,38,39,40,41,42,43,44,45,46,47,48,49,50,51,52,53,54,55,56,57,58,59,60,61,62,63,64,65,66,67,68,69,70,71,72,73,74,75,76,77,78,79,80,81,82,83,84,85,86,87,88,89,90,91,92,93,94,95,96,97,98,99],\"y\":[0.687400710884295,1.292329185879667,-1.4451549140024476,2.4212652941715733,-0.5990245298654623,-0.14312718252640605,1.0341838284171945,0.9168533072372855,-0.5239881601798092,-3.4614694117290363,-0.547162749247495,-0.2954205384119188,-0.6762104379883643,0.17942177831626702,-0.446784254558779,3.152472667088559,0.05366938922946379,0.2925464108958577,-0.9260514076904133,0.8666434042745934,-0.6788493093657786,-0.928452920672083,0.7490743212798445,-0.9910217690371543,-0.5099780597741604,-0.7729878731471892,0.1261095837182957,-2.173997852739537,0.13380187326526857,-0.03383492214686325,-1.0540827763670386,0.5722797189713448,-0.10047293394388912,-1.4115711035698897,-1.123541015090475,-0.7485896007773215,1.1621777066193428,0.31034667529675075,-0.5478548465244522,1.1053754476640354,0.6724786658427715,1.417592390164073,0.1763335278094863,-0.4759008789741875,-0.529021806162886,-0.8780406205670047,-0.4670899375138714,0.12021124416462858,-1.1638589701666413,-0.2718286124947359,0.4944119559453498,0.612862017516745,2.0620936369339837,-0.5498957432666844,0.21091506283573025,0.8960109115496354,-0.08446203183891707,1.495063178165726,0.7921963932506242,0.9706531868794951,0.5442650593702897,-0.06695152379828094,-0.031671739135709996,-0.3282615102156579,-0.8570800998138681,-1.1631087687318071,1.319037497800597,0.010885976841033509,-0.16632739692236823,0.2784643719376399,-0.06477373031704924,-0.8110155425857067,0.46462041479311506,-0.29344170889783944,0.9418749445032143,-0.9145351980427542,1.5989467259671475,-0.3123143304487573,-1.7312174953372057,-0.9701391400874365,-1.263680840458927,1.6221377826941585,-1.929638890370037,-0.00807621149389771,-1.1116686536071216,-1.3142471793168062,-0.2677781320562748,-0.029451177327852074,0.6886728047322884,0.6228839741607755,1.048817636224244,-1.2720622979819218,-0.16208924811986883,-0.3442025567829724,0.05865786141098669,0.33630770910042346,-0.021898720384863044,-0.9402976316913524,-0.7092448432651228,0.6306365246150188],\"type\":\"scatter\"}],                        {\"legend\":{\"bgcolor\":\"#F5F6F9\",\"font\":{\"color\":\"#4D5663\"}},\"paper_bgcolor\":\"#F5F6F9\",\"plot_bgcolor\":\"#F5F6F9\",\"template\":{\"data\":{\"barpolar\":[{\"marker\":{\"line\":{\"color\":\"#E5ECF6\",\"width\":0.5},\"pattern\":{\"fillmode\":\"overlay\",\"size\":10,\"solidity\":0.2}},\"type\":\"barpolar\"}],\"bar\":[{\"error_x\":{\"color\":\"#2a3f5f\"},\"error_y\":{\"color\":\"#2a3f5f\"},\"marker\":{\"line\":{\"color\":\"#E5ECF6\",\"width\":0.5},\"pattern\":{\"fillmode\":\"overlay\",\"size\":10,\"solidity\":0.2}},\"type\":\"bar\"}],\"carpet\":[{\"aaxis\":{\"endlinecolor\":\"#2a3f5f\",\"gridcolor\":\"white\",\"linecolor\":\"white\",\"minorgridcolor\":\"white\",\"startlinecolor\":\"#2a3f5f\"},\"baxis\":{\"endlinecolor\":\"#2a3f5f\",\"gridcolor\":\"white\",\"linecolor\":\"white\",\"minorgridcolor\":\"white\",\"startlinecolor\":\"#2a3f5f\"},\"type\":\"carpet\"}],\"choropleth\":[{\"colorbar\":{\"outlinewidth\":0,\"ticks\":\"\"},\"type\":\"choropleth\"}],\"contourcarpet\":[{\"colorbar\":{\"outlinewidth\":0,\"ticks\":\"\"},\"type\":\"contourcarpet\"}],\"contour\":[{\"colorbar\":{\"outlinewidth\":0,\"ticks\":\"\"},\"colorscale\":[[0.0,\"#0d0887\"],[0.1111111111111111,\"#46039f\"],[0.2222222222222222,\"#7201a8\"],[0.3333333333333333,\"#9c179e\"],[0.4444444444444444,\"#bd3786\"],[0.5555555555555556,\"#d8576b\"],[0.6666666666666666,\"#ed7953\"],[0.7777777777777778,\"#fb9f3a\"],[0.8888888888888888,\"#fdca26\"],[1.0,\"#f0f921\"]],\"type\":\"contour\"}],\"heatmapgl\":[{\"colorbar\":{\"outlinewidth\":0,\"ticks\":\"\"},\"colorscale\":[[0.0,\"#0d0887\"],[0.1111111111111111,\"#46039f\"],[0.2222222222222222,\"#7201a8\"],[0.3333333333333333,\"#9c179e\"],[0.4444444444444444,\"#bd3786\"],[0.5555555555555556,\"#d8576b\"],[0.6666666666666666,\"#ed7953\"],[0.7777777777777778,\"#fb9f3a\"],[0.8888888888888888,\"#fdca26\"],[1.0,\"#f0f921\"]],\"type\":\"heatmapgl\"}],\"heatmap\":[{\"colorbar\":{\"outlinewidth\":0,\"ticks\":\"\"},\"colorscale\":[[0.0,\"#0d0887\"],[0.1111111111111111,\"#46039f\"],[0.2222222222222222,\"#7201a8\"],[0.3333333333333333,\"#9c179e\"],[0.4444444444444444,\"#bd3786\"],[0.5555555555555556,\"#d8576b\"],[0.6666666666666666,\"#ed7953\"],[0.7777777777777778,\"#fb9f3a\"],[0.8888888888888888,\"#fdca26\"],[1.0,\"#f0f921\"]],\"type\":\"heatmap\"}],\"histogram2dcontour\":[{\"colorbar\":{\"outlinewidth\":0,\"ticks\":\"\"},\"colorscale\":[[0.0,\"#0d0887\"],[0.1111111111111111,\"#46039f\"],[0.2222222222222222,\"#7201a8\"],[0.3333333333333333,\"#9c179e\"],[0.4444444444444444,\"#bd3786\"],[0.5555555555555556,\"#d8576b\"],[0.6666666666666666,\"#ed7953\"],[0.7777777777777778,\"#fb9f3a\"],[0.8888888888888888,\"#fdca26\"],[1.0,\"#f0f921\"]],\"type\":\"histogram2dcontour\"}],\"histogram2d\":[{\"colorbar\":{\"outlinewidth\":0,\"ticks\":\"\"},\"colorscale\":[[0.0,\"#0d0887\"],[0.1111111111111111,\"#46039f\"],[0.2222222222222222,\"#7201a8\"],[0.3333333333333333,\"#9c179e\"],[0.4444444444444444,\"#bd3786\"],[0.5555555555555556,\"#d8576b\"],[0.6666666666666666,\"#ed7953\"],[0.7777777777777778,\"#fb9f3a\"],[0.8888888888888888,\"#fdca26\"],[1.0,\"#f0f921\"]],\"type\":\"histogram2d\"}],\"histogram\":[{\"marker\":{\"pattern\":{\"fillmode\":\"overlay\",\"size\":10,\"solidity\":0.2}},\"type\":\"histogram\"}],\"mesh3d\":[{\"colorbar\":{\"outlinewidth\":0,\"ticks\":\"\"},\"type\":\"mesh3d\"}],\"parcoords\":[{\"line\":{\"colorbar\":{\"outlinewidth\":0,\"ticks\":\"\"}},\"type\":\"parcoords\"}],\"pie\":[{\"automargin\":true,\"type\":\"pie\"}],\"scatter3d\":[{\"line\":{\"colorbar\":{\"outlinewidth\":0,\"ticks\":\"\"}},\"marker\":{\"colorbar\":{\"outlinewidth\":0,\"ticks\":\"\"}},\"type\":\"scatter3d\"}],\"scattercarpet\":[{\"marker\":{\"colorbar\":{\"outlinewidth\":0,\"ticks\":\"\"}},\"type\":\"scattercarpet\"}],\"scattergeo\":[{\"marker\":{\"colorbar\":{\"outlinewidth\":0,\"ticks\":\"\"}},\"type\":\"scattergeo\"}],\"scattergl\":[{\"marker\":{\"colorbar\":{\"outlinewidth\":0,\"ticks\":\"\"}},\"type\":\"scattergl\"}],\"scattermapbox\":[{\"marker\":{\"colorbar\":{\"outlinewidth\":0,\"ticks\":\"\"}},\"type\":\"scattermapbox\"}],\"scatterpolargl\":[{\"marker\":{\"colorbar\":{\"outlinewidth\":0,\"ticks\":\"\"}},\"type\":\"scatterpolargl\"}],\"scatterpolar\":[{\"marker\":{\"colorbar\":{\"outlinewidth\":0,\"ticks\":\"\"}},\"type\":\"scatterpolar\"}],\"scatter\":[{\"fillpattern\":{\"fillmode\":\"overlay\",\"size\":10,\"solidity\":0.2},\"type\":\"scatter\"}],\"scatterternary\":[{\"marker\":{\"colorbar\":{\"outlinewidth\":0,\"ticks\":\"\"}},\"type\":\"scatterternary\"}],\"surface\":[{\"colorbar\":{\"outlinewidth\":0,\"ticks\":\"\"},\"colorscale\":[[0.0,\"#0d0887\"],[0.1111111111111111,\"#46039f\"],[0.2222222222222222,\"#7201a8\"],[0.3333333333333333,\"#9c179e\"],[0.4444444444444444,\"#bd3786\"],[0.5555555555555556,\"#d8576b\"],[0.6666666666666666,\"#ed7953\"],[0.7777777777777778,\"#fb9f3a\"],[0.8888888888888888,\"#fdca26\"],[1.0,\"#f0f921\"]],\"type\":\"surface\"}],\"table\":[{\"cells\":{\"fill\":{\"color\":\"#EBF0F8\"},\"line\":{\"color\":\"white\"}},\"header\":{\"fill\":{\"color\":\"#C8D4E3\"},\"line\":{\"color\":\"white\"}},\"type\":\"table\"}]},\"layout\":{\"annotationdefaults\":{\"arrowcolor\":\"#2a3f5f\",\"arrowhead\":0,\"arrowwidth\":1},\"autotypenumbers\":\"strict\",\"coloraxis\":{\"colorbar\":{\"outlinewidth\":0,\"ticks\":\"\"}},\"colorscale\":{\"diverging\":[[0,\"#8e0152\"],[0.1,\"#c51b7d\"],[0.2,\"#de77ae\"],[0.3,\"#f1b6da\"],[0.4,\"#fde0ef\"],[0.5,\"#f7f7f7\"],[0.6,\"#e6f5d0\"],[0.7,\"#b8e186\"],[0.8,\"#7fbc41\"],[0.9,\"#4d9221\"],[1,\"#276419\"]],\"sequential\":[[0.0,\"#0d0887\"],[0.1111111111111111,\"#46039f\"],[0.2222222222222222,\"#7201a8\"],[0.3333333333333333,\"#9c179e\"],[0.4444444444444444,\"#bd3786\"],[0.5555555555555556,\"#d8576b\"],[0.6666666666666666,\"#ed7953\"],[0.7777777777777778,\"#fb9f3a\"],[0.8888888888888888,\"#fdca26\"],[1.0,\"#f0f921\"]],\"sequentialminus\":[[0.0,\"#0d0887\"],[0.1111111111111111,\"#46039f\"],[0.2222222222222222,\"#7201a8\"],[0.3333333333333333,\"#9c179e\"],[0.4444444444444444,\"#bd3786\"],[0.5555555555555556,\"#d8576b\"],[0.6666666666666666,\"#ed7953\"],[0.7777777777777778,\"#fb9f3a\"],[0.8888888888888888,\"#fdca26\"],[1.0,\"#f0f921\"]]},\"colorway\":[\"#636efa\",\"#EF553B\",\"#00cc96\",\"#ab63fa\",\"#FFA15A\",\"#19d3f3\",\"#FF6692\",\"#B6E880\",\"#FF97FF\",\"#FECB52\"],\"font\":{\"color\":\"#2a3f5f\"},\"geo\":{\"bgcolor\":\"white\",\"lakecolor\":\"white\",\"landcolor\":\"#E5ECF6\",\"showlakes\":true,\"showland\":true,\"subunitcolor\":\"white\"},\"hoverlabel\":{\"align\":\"left\"},\"hovermode\":\"closest\",\"mapbox\":{\"style\":\"light\"},\"paper_bgcolor\":\"white\",\"plot_bgcolor\":\"#E5ECF6\",\"polar\":{\"angularaxis\":{\"gridcolor\":\"white\",\"linecolor\":\"white\",\"ticks\":\"\"},\"bgcolor\":\"#E5ECF6\",\"radialaxis\":{\"gridcolor\":\"white\",\"linecolor\":\"white\",\"ticks\":\"\"}},\"scene\":{\"xaxis\":{\"backgroundcolor\":\"#E5ECF6\",\"gridcolor\":\"white\",\"gridwidth\":2,\"linecolor\":\"white\",\"showbackground\":true,\"ticks\":\"\",\"zerolinecolor\":\"white\"},\"yaxis\":{\"backgroundcolor\":\"#E5ECF6\",\"gridcolor\":\"white\",\"gridwidth\":2,\"linecolor\":\"white\",\"showbackground\":true,\"ticks\":\"\",\"zerolinecolor\":\"white\"},\"zaxis\":{\"backgroundcolor\":\"#E5ECF6\",\"gridcolor\":\"white\",\"gridwidth\":2,\"linecolor\":\"white\",\"showbackground\":true,\"ticks\":\"\",\"zerolinecolor\":\"white\"}},\"shapedefaults\":{\"line\":{\"color\":\"#2a3f5f\"}},\"ternary\":{\"aaxis\":{\"gridcolor\":\"white\",\"linecolor\":\"white\",\"ticks\":\"\"},\"baxis\":{\"gridcolor\":\"white\",\"linecolor\":\"white\",\"ticks\":\"\"},\"bgcolor\":\"#E5ECF6\",\"caxis\":{\"gridcolor\":\"white\",\"linecolor\":\"white\",\"ticks\":\"\"}},\"title\":{\"x\":0.05},\"xaxis\":{\"automargin\":true,\"gridcolor\":\"white\",\"linecolor\":\"white\",\"ticks\":\"\",\"title\":{\"standoff\":15},\"zerolinecolor\":\"white\",\"zerolinewidth\":2},\"yaxis\":{\"automargin\":true,\"gridcolor\":\"white\",\"linecolor\":\"white\",\"ticks\":\"\",\"title\":{\"standoff\":15},\"zerolinecolor\":\"white\",\"zerolinewidth\":2}}},\"title\":{\"font\":{\"color\":\"#4D5663\"}},\"xaxis\":{\"gridcolor\":\"#E1E5ED\",\"showgrid\":true,\"tickfont\":{\"color\":\"#4D5663\"},\"title\":{\"font\":{\"color\":\"#4D5663\"},\"text\":\"\"},\"zerolinecolor\":\"#E1E5ED\"},\"yaxis\":{\"gridcolor\":\"#E1E5ED\",\"showgrid\":true,\"tickfont\":{\"color\":\"#4D5663\"},\"title\":{\"font\":{\"color\":\"#4D5663\"},\"text\":\"\"},\"zerolinecolor\":\"#E1E5ED\"}},                        {\"showLink\": true, \"linkText\": \"Export to plot.ly\", \"plotlyServerURL\": \"https://plot.ly\", \"responsive\": true}                    ).then(function(){\n",
       "                            \n",
       "var gd = document.getElementById('7f78de6a-7530-498c-a02e-f9c182e2b393');\n",
       "var x = new MutationObserver(function (mutations, observer) {{\n",
       "        var display = window.getComputedStyle(gd).display;\n",
       "        if (!display || display === 'none') {{\n",
       "            console.log([gd, 'removed!']);\n",
       "            Plotly.purge(gd);\n",
       "            observer.disconnect();\n",
       "        }}\n",
       "}});\n",
       "\n",
       "// Listen for the removal of the full notebook cells\n",
       "var notebookContainer = gd.closest('#notebook-container');\n",
       "if (notebookContainer) {{\n",
       "    x.observe(notebookContainer, {childList: true});\n",
       "}}\n",
       "\n",
       "// Listen for the clearing of the current output cell\n",
       "var outputEl = gd.closest('.output');\n",
       "if (outputEl) {{\n",
       "    x.observe(outputEl, {childList: true});\n",
       "}}\n",
       "\n",
       "                        })                };                });            </script>        </div>"
      ]
     },
     "metadata": {},
     "output_type": "display_data"
    },
    {
     "data": {
      "text/plain": [
       "<Figure size 500x300 with 0 Axes>"
      ]
     },
     "metadata": {},
     "output_type": "display_data"
    }
   ],
   "source": [
    "df1.iplot()"
   ]
  },
  {
   "cell_type": "code",
   "execution_count": 40,
   "id": "03c85d16",
   "metadata": {},
   "outputs": [
    {
     "data": {
      "application/vnd.plotly.v1+json": {
       "config": {
        "linkText": "Export to plot.ly",
        "plotlyServerURL": "https://plot.ly",
        "showLink": true
       },
       "data": [
        {
         "line": {
          "color": "rgba(255, 153, 51, 1.0)",
          "dash": "solid",
          "shape": "linear",
          "width": 1.3
         },
         "marker": {
          "size": 12,
          "symbol": "circle"
         },
         "mode": "markers",
         "name": "B",
         "text": "",
         "type": "scatter",
         "x": [
          0.2249574122485187,
          -0.14261442417502293,
          -0.2550693898234665,
          0.685612907940947,
          1.6696377029416647,
          -0.6276630448948421,
          -0.3675932197581956,
          0.8601065321997801,
          0.3029584160575629,
          1.4871959331592248,
          -1.1402052303681383,
          -0.10363052533320498,
          -1.227114249882769,
          1.0517098065952517,
          0.18111386197406235,
          -0.6224553189786596,
          -1.1914704485957508,
          0.6505610670402162,
          -1.0311546827111027,
          -0.3220045091127159,
          0.6201846864041929,
          -0.3136670563097545,
          0.3122077103270754,
          0.9019905430898144,
          0.7314170684298197,
          -0.840305166395734,
          -1.1196562155436376,
          0.22835011296288307,
          -0.21548374150626115,
          -0.07777464559266904,
          -2.197928658415042,
          -0.28835600690837554,
          -0.12235519259126607,
          -1.3580351035282827,
          0.2132605551579515,
          0.46070651683040154,
          0.7963444611084912,
          0.1094805824159229,
          -0.6102506779738078,
          1.1329129967541405,
          -0.5065961707940483,
          0.3745901537387485,
          0.7946114378721225,
          1.1465167276749233,
          -2.0553288125734057,
          0.10100751854400598,
          0.6645436919180743,
          -2.412988684855048,
          0.5122070039497443,
          1.4030992357915617,
          0.24913590252340764,
          -1.4870597006201085,
          -1.3661838507640083,
          -0.1519904820928337,
          0.4088874943908349,
          0.28921834149417314,
          -0.5477050903562732,
          -1.00334077408219,
          -1.9782068285772612,
          -1.559539636679243,
          1.1878319779769697,
          -0.5514926543266923,
          -1.239928895872855,
          1.361883671248535,
          0.6178324441029704,
          0.9377043609805684,
          0.403641750993754,
          -1.9264422169236457,
          -0.39329684106780577,
          -0.18962422021135977,
          0.4309102642418277,
          0.13416483620471115,
          -1.8475271675664917,
          1.276656958413032,
          0.5536066672322233,
          0.7451250480407975,
          -1.1885494428288137,
          0.808597310965037,
          -0.049207908473800556,
          0.1822632839586508,
          1.09853989816661,
          -1.9058038090611038,
          -0.538794190231828,
          0.28458672788291245,
          -1.7107356167627255,
          0.35184119723705537,
          -1.3012008916908282,
          -0.9108700963300996,
          -0.838242587698326,
          1.5118378297958461,
          -0.525715085033998,
          -0.5280227761153535,
          1.5009480547986114,
          -1.1882945291476716,
          -1.2722134708587935,
          -0.25068439424681555,
          -1.0076209780516017,
          -0.742483026883699,
          -0.5971237711770452,
          -0.06812184219397695
         ],
         "y": [
          0.7729328845998267,
          -0.2950040513273714,
          0.09520908744315867,
          1.441071495404537,
          0.10166534711461274,
          -0.8693316971690324,
          0.979562167355205,
          -0.8654708786854032,
          -0.2870011317161067,
          -1.5300959310749473,
          0.8368972285896891,
          1.8496175673476036,
          -1.2477780681015862,
          0.4215338133150978,
          0.4917663948454245,
          0.9781736006519686,
          0.9347198820348527,
          -0.36365393310839655,
          -1.5200057839806334,
          -0.8670452957430184,
          -0.788241493679069,
          -0.5477438420825249,
          0.04336683059551982,
          0.18091119066448572,
          0.10213061681864892,
          0.9561820138080441,
          0.6360305156843183,
          0.8148193265235719,
          -0.7243357866209025,
          -1.7094201272778604,
          0.7049069031486167,
          -1.6929017104546837,
          -1.351434770601901,
          0.5400726790334075,
          -0.9089948988816058,
          0.6865655449142279,
          0.07603430008983052,
          -0.9119736366526259,
          1.1017361476428449,
          0.3310632043893103,
          -0.668250051067514,
          0.485161547116454,
          0.3774165281634454,
          1.2433965952711497,
          -0.8535662136692201,
          0.9651085753827604,
          -0.12577055249933197,
          0.2315793282956873,
          1.094271953610481,
          0.45475229561547326,
          -0.1926373637868699,
          -0.32561960234374177,
          -2.1906627063088835,
          2.337836470426464,
          -0.8169000173085379,
          -1.0567080408048166,
          -2.137216564597913,
          2.8063834954575566,
          -0.9480034566417574,
          0.07441797086764544,
          -1.9894922466089366,
          1.6497669533081567,
          -0.12560768412915277,
          1.0167088823279065,
          1.2651059424362803,
          1.218624446338318,
          -2.5148357286791554,
          -0.6143555014834721,
          -2.1475638559430856,
          -0.9632014475924506,
          0.14276846625931602,
          0.35315951521897926,
          -0.4451647014676167,
          -1.344538665604799,
          1.5703460188585443,
          1.1649900207213846,
          -1.1327050573844177,
          0.30148592567161836,
          0.33369126307640595,
          -1.2513016080325425,
          -1.3740431730549505,
          0.6582137883417819,
          -0.3898943074688618,
          0.36245937168862513,
          0.47462451095442765,
          -2.077087683940318,
          -0.03158422387106401,
          0.3412955156808295,
          0.4860490073614476,
          -0.42109861637466595,
          1.2486711513798276,
          0.6810153620726337,
          0.21709393315480308,
          -0.7575392105538545,
          0.12553478007756078,
          0.33217504596304537,
          0.5983073107261221,
          -2.2161251644675217,
          0.5324550065592877,
          -0.5973104555594871
         ]
        }
       ],
       "layout": {
        "legend": {
         "bgcolor": "#F5F6F9",
         "font": {
          "color": "#4D5663"
         }
        },
        "paper_bgcolor": "#F5F6F9",
        "plot_bgcolor": "#F5F6F9",
        "template": {
         "data": {
          "bar": [
           {
            "error_x": {
             "color": "#2a3f5f"
            },
            "error_y": {
             "color": "#2a3f5f"
            },
            "marker": {
             "line": {
              "color": "#E5ECF6",
              "width": 0.5
             },
             "pattern": {
              "fillmode": "overlay",
              "size": 10,
              "solidity": 0.2
             }
            },
            "type": "bar"
           }
          ],
          "barpolar": [
           {
            "marker": {
             "line": {
              "color": "#E5ECF6",
              "width": 0.5
             },
             "pattern": {
              "fillmode": "overlay",
              "size": 10,
              "solidity": 0.2
             }
            },
            "type": "barpolar"
           }
          ],
          "carpet": [
           {
            "aaxis": {
             "endlinecolor": "#2a3f5f",
             "gridcolor": "white",
             "linecolor": "white",
             "minorgridcolor": "white",
             "startlinecolor": "#2a3f5f"
            },
            "baxis": {
             "endlinecolor": "#2a3f5f",
             "gridcolor": "white",
             "linecolor": "white",
             "minorgridcolor": "white",
             "startlinecolor": "#2a3f5f"
            },
            "type": "carpet"
           }
          ],
          "choropleth": [
           {
            "colorbar": {
             "outlinewidth": 0,
             "ticks": ""
            },
            "type": "choropleth"
           }
          ],
          "contour": [
           {
            "colorbar": {
             "outlinewidth": 0,
             "ticks": ""
            },
            "colorscale": [
             [
              0,
              "#0d0887"
             ],
             [
              0.1111111111111111,
              "#46039f"
             ],
             [
              0.2222222222222222,
              "#7201a8"
             ],
             [
              0.3333333333333333,
              "#9c179e"
             ],
             [
              0.4444444444444444,
              "#bd3786"
             ],
             [
              0.5555555555555556,
              "#d8576b"
             ],
             [
              0.6666666666666666,
              "#ed7953"
             ],
             [
              0.7777777777777778,
              "#fb9f3a"
             ],
             [
              0.8888888888888888,
              "#fdca26"
             ],
             [
              1,
              "#f0f921"
             ]
            ],
            "type": "contour"
           }
          ],
          "contourcarpet": [
           {
            "colorbar": {
             "outlinewidth": 0,
             "ticks": ""
            },
            "type": "contourcarpet"
           }
          ],
          "heatmap": [
           {
            "colorbar": {
             "outlinewidth": 0,
             "ticks": ""
            },
            "colorscale": [
             [
              0,
              "#0d0887"
             ],
             [
              0.1111111111111111,
              "#46039f"
             ],
             [
              0.2222222222222222,
              "#7201a8"
             ],
             [
              0.3333333333333333,
              "#9c179e"
             ],
             [
              0.4444444444444444,
              "#bd3786"
             ],
             [
              0.5555555555555556,
              "#d8576b"
             ],
             [
              0.6666666666666666,
              "#ed7953"
             ],
             [
              0.7777777777777778,
              "#fb9f3a"
             ],
             [
              0.8888888888888888,
              "#fdca26"
             ],
             [
              1,
              "#f0f921"
             ]
            ],
            "type": "heatmap"
           }
          ],
          "heatmapgl": [
           {
            "colorbar": {
             "outlinewidth": 0,
             "ticks": ""
            },
            "colorscale": [
             [
              0,
              "#0d0887"
             ],
             [
              0.1111111111111111,
              "#46039f"
             ],
             [
              0.2222222222222222,
              "#7201a8"
             ],
             [
              0.3333333333333333,
              "#9c179e"
             ],
             [
              0.4444444444444444,
              "#bd3786"
             ],
             [
              0.5555555555555556,
              "#d8576b"
             ],
             [
              0.6666666666666666,
              "#ed7953"
             ],
             [
              0.7777777777777778,
              "#fb9f3a"
             ],
             [
              0.8888888888888888,
              "#fdca26"
             ],
             [
              1,
              "#f0f921"
             ]
            ],
            "type": "heatmapgl"
           }
          ],
          "histogram": [
           {
            "marker": {
             "pattern": {
              "fillmode": "overlay",
              "size": 10,
              "solidity": 0.2
             }
            },
            "type": "histogram"
           }
          ],
          "histogram2d": [
           {
            "colorbar": {
             "outlinewidth": 0,
             "ticks": ""
            },
            "colorscale": [
             [
              0,
              "#0d0887"
             ],
             [
              0.1111111111111111,
              "#46039f"
             ],
             [
              0.2222222222222222,
              "#7201a8"
             ],
             [
              0.3333333333333333,
              "#9c179e"
             ],
             [
              0.4444444444444444,
              "#bd3786"
             ],
             [
              0.5555555555555556,
              "#d8576b"
             ],
             [
              0.6666666666666666,
              "#ed7953"
             ],
             [
              0.7777777777777778,
              "#fb9f3a"
             ],
             [
              0.8888888888888888,
              "#fdca26"
             ],
             [
              1,
              "#f0f921"
             ]
            ],
            "type": "histogram2d"
           }
          ],
          "histogram2dcontour": [
           {
            "colorbar": {
             "outlinewidth": 0,
             "ticks": ""
            },
            "colorscale": [
             [
              0,
              "#0d0887"
             ],
             [
              0.1111111111111111,
              "#46039f"
             ],
             [
              0.2222222222222222,
              "#7201a8"
             ],
             [
              0.3333333333333333,
              "#9c179e"
             ],
             [
              0.4444444444444444,
              "#bd3786"
             ],
             [
              0.5555555555555556,
              "#d8576b"
             ],
             [
              0.6666666666666666,
              "#ed7953"
             ],
             [
              0.7777777777777778,
              "#fb9f3a"
             ],
             [
              0.8888888888888888,
              "#fdca26"
             ],
             [
              1,
              "#f0f921"
             ]
            ],
            "type": "histogram2dcontour"
           }
          ],
          "mesh3d": [
           {
            "colorbar": {
             "outlinewidth": 0,
             "ticks": ""
            },
            "type": "mesh3d"
           }
          ],
          "parcoords": [
           {
            "line": {
             "colorbar": {
              "outlinewidth": 0,
              "ticks": ""
             }
            },
            "type": "parcoords"
           }
          ],
          "pie": [
           {
            "automargin": true,
            "type": "pie"
           }
          ],
          "scatter": [
           {
            "fillpattern": {
             "fillmode": "overlay",
             "size": 10,
             "solidity": 0.2
            },
            "type": "scatter"
           }
          ],
          "scatter3d": [
           {
            "line": {
             "colorbar": {
              "outlinewidth": 0,
              "ticks": ""
             }
            },
            "marker": {
             "colorbar": {
              "outlinewidth": 0,
              "ticks": ""
             }
            },
            "type": "scatter3d"
           }
          ],
          "scattercarpet": [
           {
            "marker": {
             "colorbar": {
              "outlinewidth": 0,
              "ticks": ""
             }
            },
            "type": "scattercarpet"
           }
          ],
          "scattergeo": [
           {
            "marker": {
             "colorbar": {
              "outlinewidth": 0,
              "ticks": ""
             }
            },
            "type": "scattergeo"
           }
          ],
          "scattergl": [
           {
            "marker": {
             "colorbar": {
              "outlinewidth": 0,
              "ticks": ""
             }
            },
            "type": "scattergl"
           }
          ],
          "scattermapbox": [
           {
            "marker": {
             "colorbar": {
              "outlinewidth": 0,
              "ticks": ""
             }
            },
            "type": "scattermapbox"
           }
          ],
          "scatterpolar": [
           {
            "marker": {
             "colorbar": {
              "outlinewidth": 0,
              "ticks": ""
             }
            },
            "type": "scatterpolar"
           }
          ],
          "scatterpolargl": [
           {
            "marker": {
             "colorbar": {
              "outlinewidth": 0,
              "ticks": ""
             }
            },
            "type": "scatterpolargl"
           }
          ],
          "scatterternary": [
           {
            "marker": {
             "colorbar": {
              "outlinewidth": 0,
              "ticks": ""
             }
            },
            "type": "scatterternary"
           }
          ],
          "surface": [
           {
            "colorbar": {
             "outlinewidth": 0,
             "ticks": ""
            },
            "colorscale": [
             [
              0,
              "#0d0887"
             ],
             [
              0.1111111111111111,
              "#46039f"
             ],
             [
              0.2222222222222222,
              "#7201a8"
             ],
             [
              0.3333333333333333,
              "#9c179e"
             ],
             [
              0.4444444444444444,
              "#bd3786"
             ],
             [
              0.5555555555555556,
              "#d8576b"
             ],
             [
              0.6666666666666666,
              "#ed7953"
             ],
             [
              0.7777777777777778,
              "#fb9f3a"
             ],
             [
              0.8888888888888888,
              "#fdca26"
             ],
             [
              1,
              "#f0f921"
             ]
            ],
            "type": "surface"
           }
          ],
          "table": [
           {
            "cells": {
             "fill": {
              "color": "#EBF0F8"
             },
             "line": {
              "color": "white"
             }
            },
            "header": {
             "fill": {
              "color": "#C8D4E3"
             },
             "line": {
              "color": "white"
             }
            },
            "type": "table"
           }
          ]
         },
         "layout": {
          "annotationdefaults": {
           "arrowcolor": "#2a3f5f",
           "arrowhead": 0,
           "arrowwidth": 1
          },
          "autotypenumbers": "strict",
          "coloraxis": {
           "colorbar": {
            "outlinewidth": 0,
            "ticks": ""
           }
          },
          "colorscale": {
           "diverging": [
            [
             0,
             "#8e0152"
            ],
            [
             0.1,
             "#c51b7d"
            ],
            [
             0.2,
             "#de77ae"
            ],
            [
             0.3,
             "#f1b6da"
            ],
            [
             0.4,
             "#fde0ef"
            ],
            [
             0.5,
             "#f7f7f7"
            ],
            [
             0.6,
             "#e6f5d0"
            ],
            [
             0.7,
             "#b8e186"
            ],
            [
             0.8,
             "#7fbc41"
            ],
            [
             0.9,
             "#4d9221"
            ],
            [
             1,
             "#276419"
            ]
           ],
           "sequential": [
            [
             0,
             "#0d0887"
            ],
            [
             0.1111111111111111,
             "#46039f"
            ],
            [
             0.2222222222222222,
             "#7201a8"
            ],
            [
             0.3333333333333333,
             "#9c179e"
            ],
            [
             0.4444444444444444,
             "#bd3786"
            ],
            [
             0.5555555555555556,
             "#d8576b"
            ],
            [
             0.6666666666666666,
             "#ed7953"
            ],
            [
             0.7777777777777778,
             "#fb9f3a"
            ],
            [
             0.8888888888888888,
             "#fdca26"
            ],
            [
             1,
             "#f0f921"
            ]
           ],
           "sequentialminus": [
            [
             0,
             "#0d0887"
            ],
            [
             0.1111111111111111,
             "#46039f"
            ],
            [
             0.2222222222222222,
             "#7201a8"
            ],
            [
             0.3333333333333333,
             "#9c179e"
            ],
            [
             0.4444444444444444,
             "#bd3786"
            ],
            [
             0.5555555555555556,
             "#d8576b"
            ],
            [
             0.6666666666666666,
             "#ed7953"
            ],
            [
             0.7777777777777778,
             "#fb9f3a"
            ],
            [
             0.8888888888888888,
             "#fdca26"
            ],
            [
             1,
             "#f0f921"
            ]
           ]
          },
          "colorway": [
           "#636efa",
           "#EF553B",
           "#00cc96",
           "#ab63fa",
           "#FFA15A",
           "#19d3f3",
           "#FF6692",
           "#B6E880",
           "#FF97FF",
           "#FECB52"
          ],
          "font": {
           "color": "#2a3f5f"
          },
          "geo": {
           "bgcolor": "white",
           "lakecolor": "white",
           "landcolor": "#E5ECF6",
           "showlakes": true,
           "showland": true,
           "subunitcolor": "white"
          },
          "hoverlabel": {
           "align": "left"
          },
          "hovermode": "closest",
          "mapbox": {
           "style": "light"
          },
          "paper_bgcolor": "white",
          "plot_bgcolor": "#E5ECF6",
          "polar": {
           "angularaxis": {
            "gridcolor": "white",
            "linecolor": "white",
            "ticks": ""
           },
           "bgcolor": "#E5ECF6",
           "radialaxis": {
            "gridcolor": "white",
            "linecolor": "white",
            "ticks": ""
           }
          },
          "scene": {
           "xaxis": {
            "backgroundcolor": "#E5ECF6",
            "gridcolor": "white",
            "gridwidth": 2,
            "linecolor": "white",
            "showbackground": true,
            "ticks": "",
            "zerolinecolor": "white"
           },
           "yaxis": {
            "backgroundcolor": "#E5ECF6",
            "gridcolor": "white",
            "gridwidth": 2,
            "linecolor": "white",
            "showbackground": true,
            "ticks": "",
            "zerolinecolor": "white"
           },
           "zaxis": {
            "backgroundcolor": "#E5ECF6",
            "gridcolor": "white",
            "gridwidth": 2,
            "linecolor": "white",
            "showbackground": true,
            "ticks": "",
            "zerolinecolor": "white"
           }
          },
          "shapedefaults": {
           "line": {
            "color": "#2a3f5f"
           }
          },
          "ternary": {
           "aaxis": {
            "gridcolor": "white",
            "linecolor": "white",
            "ticks": ""
           },
           "baxis": {
            "gridcolor": "white",
            "linecolor": "white",
            "ticks": ""
           },
           "bgcolor": "#E5ECF6",
           "caxis": {
            "gridcolor": "white",
            "linecolor": "white",
            "ticks": ""
           }
          },
          "title": {
           "x": 0.05
          },
          "xaxis": {
           "automargin": true,
           "gridcolor": "white",
           "linecolor": "white",
           "ticks": "",
           "title": {
            "standoff": 15
           },
           "zerolinecolor": "white",
           "zerolinewidth": 2
          },
          "yaxis": {
           "automargin": true,
           "gridcolor": "white",
           "linecolor": "white",
           "ticks": "",
           "title": {
            "standoff": 15
           },
           "zerolinecolor": "white",
           "zerolinewidth": 2
          }
         }
        },
        "title": {
         "font": {
          "color": "#4D5663"
         }
        },
        "xaxis": {
         "gridcolor": "#E1E5ED",
         "showgrid": true,
         "tickfont": {
          "color": "#4D5663"
         },
         "title": {
          "font": {
           "color": "#4D5663"
          },
          "text": ""
         },
         "zerolinecolor": "#E1E5ED"
        },
        "yaxis": {
         "gridcolor": "#E1E5ED",
         "showgrid": true,
         "tickfont": {
          "color": "#4D5663"
         },
         "title": {
          "font": {
           "color": "#4D5663"
          },
          "text": ""
         },
         "zerolinecolor": "#E1E5ED"
        }
       }
      },
      "text/html": [
       "<div>                            <div id=\"219761cf-0920-4fab-bc05-aecafe9e46d7\" class=\"plotly-graph-div\" style=\"height:525px; width:100%;\"></div>            <script type=\"text/javascript\">                require([\"plotly\"], function(Plotly) {                    window.PLOTLYENV=window.PLOTLYENV || {};\n",
       "                    window.PLOTLYENV.BASE_URL='https://plot.ly';                                    if (document.getElementById(\"219761cf-0920-4fab-bc05-aecafe9e46d7\")) {                    Plotly.newPlot(                        \"219761cf-0920-4fab-bc05-aecafe9e46d7\",                        [{\"line\":{\"color\":\"rgba(255, 153, 51, 1.0)\",\"dash\":\"solid\",\"shape\":\"linear\",\"width\":1.3},\"marker\":{\"size\":12,\"symbol\":\"circle\"},\"mode\":\"markers\",\"name\":\"B\",\"text\":\"\",\"x\":[0.2249574122485187,-0.14261442417502293,-0.2550693898234665,0.685612907940947,1.6696377029416647,-0.6276630448948421,-0.3675932197581956,0.8601065321997801,0.3029584160575629,1.4871959331592248,-1.1402052303681383,-0.10363052533320498,-1.227114249882769,1.0517098065952517,0.18111386197406235,-0.6224553189786596,-1.1914704485957508,0.6505610670402162,-1.0311546827111027,-0.3220045091127159,0.6201846864041929,-0.3136670563097545,0.3122077103270754,0.9019905430898144,0.7314170684298197,-0.840305166395734,-1.1196562155436376,0.22835011296288307,-0.21548374150626115,-0.07777464559266904,-2.197928658415042,-0.28835600690837554,-0.12235519259126607,-1.3580351035282827,0.2132605551579515,0.46070651683040154,0.7963444611084912,0.1094805824159229,-0.6102506779738078,1.1329129967541405,-0.5065961707940483,0.3745901537387485,0.7946114378721225,1.1465167276749233,-2.0553288125734057,0.10100751854400598,0.6645436919180743,-2.412988684855048,0.5122070039497443,1.4030992357915617,0.24913590252340764,-1.4870597006201085,-1.3661838507640083,-0.1519904820928337,0.4088874943908349,0.28921834149417314,-0.5477050903562732,-1.00334077408219,-1.9782068285772612,-1.559539636679243,1.1878319779769697,-0.5514926543266923,-1.239928895872855,1.361883671248535,0.6178324441029704,0.9377043609805684,0.403641750993754,-1.9264422169236457,-0.39329684106780577,-0.18962422021135977,0.4309102642418277,0.13416483620471115,-1.8475271675664917,1.276656958413032,0.5536066672322233,0.7451250480407975,-1.1885494428288137,0.808597310965037,-0.049207908473800556,0.1822632839586508,1.09853989816661,-1.9058038090611038,-0.538794190231828,0.28458672788291245,-1.7107356167627255,0.35184119723705537,-1.3012008916908282,-0.9108700963300996,-0.838242587698326,1.5118378297958461,-0.525715085033998,-0.5280227761153535,1.5009480547986114,-1.1882945291476716,-1.2722134708587935,-0.25068439424681555,-1.0076209780516017,-0.742483026883699,-0.5971237711770452,-0.06812184219397695],\"y\":[0.7729328845998267,-0.2950040513273714,0.09520908744315867,1.441071495404537,0.10166534711461274,-0.8693316971690324,0.979562167355205,-0.8654708786854032,-0.2870011317161067,-1.5300959310749473,0.8368972285896891,1.8496175673476036,-1.2477780681015862,0.4215338133150978,0.4917663948454245,0.9781736006519686,0.9347198820348527,-0.36365393310839655,-1.5200057839806334,-0.8670452957430184,-0.788241493679069,-0.5477438420825249,0.04336683059551982,0.18091119066448572,0.10213061681864892,0.9561820138080441,0.6360305156843183,0.8148193265235719,-0.7243357866209025,-1.7094201272778604,0.7049069031486167,-1.6929017104546837,-1.351434770601901,0.5400726790334075,-0.9089948988816058,0.6865655449142279,0.07603430008983052,-0.9119736366526259,1.1017361476428449,0.3310632043893103,-0.668250051067514,0.485161547116454,0.3774165281634454,1.2433965952711497,-0.8535662136692201,0.9651085753827604,-0.12577055249933197,0.2315793282956873,1.094271953610481,0.45475229561547326,-0.1926373637868699,-0.32561960234374177,-2.1906627063088835,2.337836470426464,-0.8169000173085379,-1.0567080408048166,-2.137216564597913,2.8063834954575566,-0.9480034566417574,0.07441797086764544,-1.9894922466089366,1.6497669533081567,-0.12560768412915277,1.0167088823279065,1.2651059424362803,1.218624446338318,-2.5148357286791554,-0.6143555014834721,-2.1475638559430856,-0.9632014475924506,0.14276846625931602,0.35315951521897926,-0.4451647014676167,-1.344538665604799,1.5703460188585443,1.1649900207213846,-1.1327050573844177,0.30148592567161836,0.33369126307640595,-1.2513016080325425,-1.3740431730549505,0.6582137883417819,-0.3898943074688618,0.36245937168862513,0.47462451095442765,-2.077087683940318,-0.03158422387106401,0.3412955156808295,0.4860490073614476,-0.42109861637466595,1.2486711513798276,0.6810153620726337,0.21709393315480308,-0.7575392105538545,0.12553478007756078,0.33217504596304537,0.5983073107261221,-2.2161251644675217,0.5324550065592877,-0.5973104555594871],\"type\":\"scatter\"}],                        {\"legend\":{\"bgcolor\":\"#F5F6F9\",\"font\":{\"color\":\"#4D5663\"}},\"paper_bgcolor\":\"#F5F6F9\",\"plot_bgcolor\":\"#F5F6F9\",\"template\":{\"data\":{\"barpolar\":[{\"marker\":{\"line\":{\"color\":\"#E5ECF6\",\"width\":0.5},\"pattern\":{\"fillmode\":\"overlay\",\"size\":10,\"solidity\":0.2}},\"type\":\"barpolar\"}],\"bar\":[{\"error_x\":{\"color\":\"#2a3f5f\"},\"error_y\":{\"color\":\"#2a3f5f\"},\"marker\":{\"line\":{\"color\":\"#E5ECF6\",\"width\":0.5},\"pattern\":{\"fillmode\":\"overlay\",\"size\":10,\"solidity\":0.2}},\"type\":\"bar\"}],\"carpet\":[{\"aaxis\":{\"endlinecolor\":\"#2a3f5f\",\"gridcolor\":\"white\",\"linecolor\":\"white\",\"minorgridcolor\":\"white\",\"startlinecolor\":\"#2a3f5f\"},\"baxis\":{\"endlinecolor\":\"#2a3f5f\",\"gridcolor\":\"white\",\"linecolor\":\"white\",\"minorgridcolor\":\"white\",\"startlinecolor\":\"#2a3f5f\"},\"type\":\"carpet\"}],\"choropleth\":[{\"colorbar\":{\"outlinewidth\":0,\"ticks\":\"\"},\"type\":\"choropleth\"}],\"contourcarpet\":[{\"colorbar\":{\"outlinewidth\":0,\"ticks\":\"\"},\"type\":\"contourcarpet\"}],\"contour\":[{\"colorbar\":{\"outlinewidth\":0,\"ticks\":\"\"},\"colorscale\":[[0.0,\"#0d0887\"],[0.1111111111111111,\"#46039f\"],[0.2222222222222222,\"#7201a8\"],[0.3333333333333333,\"#9c179e\"],[0.4444444444444444,\"#bd3786\"],[0.5555555555555556,\"#d8576b\"],[0.6666666666666666,\"#ed7953\"],[0.7777777777777778,\"#fb9f3a\"],[0.8888888888888888,\"#fdca26\"],[1.0,\"#f0f921\"]],\"type\":\"contour\"}],\"heatmapgl\":[{\"colorbar\":{\"outlinewidth\":0,\"ticks\":\"\"},\"colorscale\":[[0.0,\"#0d0887\"],[0.1111111111111111,\"#46039f\"],[0.2222222222222222,\"#7201a8\"],[0.3333333333333333,\"#9c179e\"],[0.4444444444444444,\"#bd3786\"],[0.5555555555555556,\"#d8576b\"],[0.6666666666666666,\"#ed7953\"],[0.7777777777777778,\"#fb9f3a\"],[0.8888888888888888,\"#fdca26\"],[1.0,\"#f0f921\"]],\"type\":\"heatmapgl\"}],\"heatmap\":[{\"colorbar\":{\"outlinewidth\":0,\"ticks\":\"\"},\"colorscale\":[[0.0,\"#0d0887\"],[0.1111111111111111,\"#46039f\"],[0.2222222222222222,\"#7201a8\"],[0.3333333333333333,\"#9c179e\"],[0.4444444444444444,\"#bd3786\"],[0.5555555555555556,\"#d8576b\"],[0.6666666666666666,\"#ed7953\"],[0.7777777777777778,\"#fb9f3a\"],[0.8888888888888888,\"#fdca26\"],[1.0,\"#f0f921\"]],\"type\":\"heatmap\"}],\"histogram2dcontour\":[{\"colorbar\":{\"outlinewidth\":0,\"ticks\":\"\"},\"colorscale\":[[0.0,\"#0d0887\"],[0.1111111111111111,\"#46039f\"],[0.2222222222222222,\"#7201a8\"],[0.3333333333333333,\"#9c179e\"],[0.4444444444444444,\"#bd3786\"],[0.5555555555555556,\"#d8576b\"],[0.6666666666666666,\"#ed7953\"],[0.7777777777777778,\"#fb9f3a\"],[0.8888888888888888,\"#fdca26\"],[1.0,\"#f0f921\"]],\"type\":\"histogram2dcontour\"}],\"histogram2d\":[{\"colorbar\":{\"outlinewidth\":0,\"ticks\":\"\"},\"colorscale\":[[0.0,\"#0d0887\"],[0.1111111111111111,\"#46039f\"],[0.2222222222222222,\"#7201a8\"],[0.3333333333333333,\"#9c179e\"],[0.4444444444444444,\"#bd3786\"],[0.5555555555555556,\"#d8576b\"],[0.6666666666666666,\"#ed7953\"],[0.7777777777777778,\"#fb9f3a\"],[0.8888888888888888,\"#fdca26\"],[1.0,\"#f0f921\"]],\"type\":\"histogram2d\"}],\"histogram\":[{\"marker\":{\"pattern\":{\"fillmode\":\"overlay\",\"size\":10,\"solidity\":0.2}},\"type\":\"histogram\"}],\"mesh3d\":[{\"colorbar\":{\"outlinewidth\":0,\"ticks\":\"\"},\"type\":\"mesh3d\"}],\"parcoords\":[{\"line\":{\"colorbar\":{\"outlinewidth\":0,\"ticks\":\"\"}},\"type\":\"parcoords\"}],\"pie\":[{\"automargin\":true,\"type\":\"pie\"}],\"scatter3d\":[{\"line\":{\"colorbar\":{\"outlinewidth\":0,\"ticks\":\"\"}},\"marker\":{\"colorbar\":{\"outlinewidth\":0,\"ticks\":\"\"}},\"type\":\"scatter3d\"}],\"scattercarpet\":[{\"marker\":{\"colorbar\":{\"outlinewidth\":0,\"ticks\":\"\"}},\"type\":\"scattercarpet\"}],\"scattergeo\":[{\"marker\":{\"colorbar\":{\"outlinewidth\":0,\"ticks\":\"\"}},\"type\":\"scattergeo\"}],\"scattergl\":[{\"marker\":{\"colorbar\":{\"outlinewidth\":0,\"ticks\":\"\"}},\"type\":\"scattergl\"}],\"scattermapbox\":[{\"marker\":{\"colorbar\":{\"outlinewidth\":0,\"ticks\":\"\"}},\"type\":\"scattermapbox\"}],\"scatterpolargl\":[{\"marker\":{\"colorbar\":{\"outlinewidth\":0,\"ticks\":\"\"}},\"type\":\"scatterpolargl\"}],\"scatterpolar\":[{\"marker\":{\"colorbar\":{\"outlinewidth\":0,\"ticks\":\"\"}},\"type\":\"scatterpolar\"}],\"scatter\":[{\"fillpattern\":{\"fillmode\":\"overlay\",\"size\":10,\"solidity\":0.2},\"type\":\"scatter\"}],\"scatterternary\":[{\"marker\":{\"colorbar\":{\"outlinewidth\":0,\"ticks\":\"\"}},\"type\":\"scatterternary\"}],\"surface\":[{\"colorbar\":{\"outlinewidth\":0,\"ticks\":\"\"},\"colorscale\":[[0.0,\"#0d0887\"],[0.1111111111111111,\"#46039f\"],[0.2222222222222222,\"#7201a8\"],[0.3333333333333333,\"#9c179e\"],[0.4444444444444444,\"#bd3786\"],[0.5555555555555556,\"#d8576b\"],[0.6666666666666666,\"#ed7953\"],[0.7777777777777778,\"#fb9f3a\"],[0.8888888888888888,\"#fdca26\"],[1.0,\"#f0f921\"]],\"type\":\"surface\"}],\"table\":[{\"cells\":{\"fill\":{\"color\":\"#EBF0F8\"},\"line\":{\"color\":\"white\"}},\"header\":{\"fill\":{\"color\":\"#C8D4E3\"},\"line\":{\"color\":\"white\"}},\"type\":\"table\"}]},\"layout\":{\"annotationdefaults\":{\"arrowcolor\":\"#2a3f5f\",\"arrowhead\":0,\"arrowwidth\":1},\"autotypenumbers\":\"strict\",\"coloraxis\":{\"colorbar\":{\"outlinewidth\":0,\"ticks\":\"\"}},\"colorscale\":{\"diverging\":[[0,\"#8e0152\"],[0.1,\"#c51b7d\"],[0.2,\"#de77ae\"],[0.3,\"#f1b6da\"],[0.4,\"#fde0ef\"],[0.5,\"#f7f7f7\"],[0.6,\"#e6f5d0\"],[0.7,\"#b8e186\"],[0.8,\"#7fbc41\"],[0.9,\"#4d9221\"],[1,\"#276419\"]],\"sequential\":[[0.0,\"#0d0887\"],[0.1111111111111111,\"#46039f\"],[0.2222222222222222,\"#7201a8\"],[0.3333333333333333,\"#9c179e\"],[0.4444444444444444,\"#bd3786\"],[0.5555555555555556,\"#d8576b\"],[0.6666666666666666,\"#ed7953\"],[0.7777777777777778,\"#fb9f3a\"],[0.8888888888888888,\"#fdca26\"],[1.0,\"#f0f921\"]],\"sequentialminus\":[[0.0,\"#0d0887\"],[0.1111111111111111,\"#46039f\"],[0.2222222222222222,\"#7201a8\"],[0.3333333333333333,\"#9c179e\"],[0.4444444444444444,\"#bd3786\"],[0.5555555555555556,\"#d8576b\"],[0.6666666666666666,\"#ed7953\"],[0.7777777777777778,\"#fb9f3a\"],[0.8888888888888888,\"#fdca26\"],[1.0,\"#f0f921\"]]},\"colorway\":[\"#636efa\",\"#EF553B\",\"#00cc96\",\"#ab63fa\",\"#FFA15A\",\"#19d3f3\",\"#FF6692\",\"#B6E880\",\"#FF97FF\",\"#FECB52\"],\"font\":{\"color\":\"#2a3f5f\"},\"geo\":{\"bgcolor\":\"white\",\"lakecolor\":\"white\",\"landcolor\":\"#E5ECF6\",\"showlakes\":true,\"showland\":true,\"subunitcolor\":\"white\"},\"hoverlabel\":{\"align\":\"left\"},\"hovermode\":\"closest\",\"mapbox\":{\"style\":\"light\"},\"paper_bgcolor\":\"white\",\"plot_bgcolor\":\"#E5ECF6\",\"polar\":{\"angularaxis\":{\"gridcolor\":\"white\",\"linecolor\":\"white\",\"ticks\":\"\"},\"bgcolor\":\"#E5ECF6\",\"radialaxis\":{\"gridcolor\":\"white\",\"linecolor\":\"white\",\"ticks\":\"\"}},\"scene\":{\"xaxis\":{\"backgroundcolor\":\"#E5ECF6\",\"gridcolor\":\"white\",\"gridwidth\":2,\"linecolor\":\"white\",\"showbackground\":true,\"ticks\":\"\",\"zerolinecolor\":\"white\"},\"yaxis\":{\"backgroundcolor\":\"#E5ECF6\",\"gridcolor\":\"white\",\"gridwidth\":2,\"linecolor\":\"white\",\"showbackground\":true,\"ticks\":\"\",\"zerolinecolor\":\"white\"},\"zaxis\":{\"backgroundcolor\":\"#E5ECF6\",\"gridcolor\":\"white\",\"gridwidth\":2,\"linecolor\":\"white\",\"showbackground\":true,\"ticks\":\"\",\"zerolinecolor\":\"white\"}},\"shapedefaults\":{\"line\":{\"color\":\"#2a3f5f\"}},\"ternary\":{\"aaxis\":{\"gridcolor\":\"white\",\"linecolor\":\"white\",\"ticks\":\"\"},\"baxis\":{\"gridcolor\":\"white\",\"linecolor\":\"white\",\"ticks\":\"\"},\"bgcolor\":\"#E5ECF6\",\"caxis\":{\"gridcolor\":\"white\",\"linecolor\":\"white\",\"ticks\":\"\"}},\"title\":{\"x\":0.05},\"xaxis\":{\"automargin\":true,\"gridcolor\":\"white\",\"linecolor\":\"white\",\"ticks\":\"\",\"title\":{\"standoff\":15},\"zerolinecolor\":\"white\",\"zerolinewidth\":2},\"yaxis\":{\"automargin\":true,\"gridcolor\":\"white\",\"linecolor\":\"white\",\"ticks\":\"\",\"title\":{\"standoff\":15},\"zerolinecolor\":\"white\",\"zerolinewidth\":2}}},\"title\":{\"font\":{\"color\":\"#4D5663\"}},\"xaxis\":{\"gridcolor\":\"#E1E5ED\",\"showgrid\":true,\"tickfont\":{\"color\":\"#4D5663\"},\"title\":{\"font\":{\"color\":\"#4D5663\"},\"text\":\"\"},\"zerolinecolor\":\"#E1E5ED\"},\"yaxis\":{\"gridcolor\":\"#E1E5ED\",\"showgrid\":true,\"tickfont\":{\"color\":\"#4D5663\"},\"title\":{\"font\":{\"color\":\"#4D5663\"},\"text\":\"\"},\"zerolinecolor\":\"#E1E5ED\"}},                        {\"showLink\": true, \"linkText\": \"Export to plot.ly\", \"plotlyServerURL\": \"https://plot.ly\", \"responsive\": true}                    ).then(function(){\n",
       "                            \n",
       "var gd = document.getElementById('219761cf-0920-4fab-bc05-aecafe9e46d7');\n",
       "var x = new MutationObserver(function (mutations, observer) {{\n",
       "        var display = window.getComputedStyle(gd).display;\n",
       "        if (!display || display === 'none') {{\n",
       "            console.log([gd, 'removed!']);\n",
       "            Plotly.purge(gd);\n",
       "            observer.disconnect();\n",
       "        }}\n",
       "}});\n",
       "\n",
       "// Listen for the removal of the full notebook cells\n",
       "var notebookContainer = gd.closest('#notebook-container');\n",
       "if (notebookContainer) {{\n",
       "    x.observe(notebookContainer, {childList: true});\n",
       "}}\n",
       "\n",
       "// Listen for the clearing of the current output cell\n",
       "var outputEl = gd.closest('.output');\n",
       "if (outputEl) {{\n",
       "    x.observe(outputEl, {childList: true});\n",
       "}}\n",
       "\n",
       "                        })                };                });            </script>        </div>"
      ]
     },
     "metadata": {},
     "output_type": "display_data"
    }
   ],
   "source": [
    " df1.iplot(kind=\"scatter\", x=\"A\", y=\"B\", mode=\"markers\")"
   ]
  },
  {
   "cell_type": "code",
   "execution_count": 43,
   "id": "d50530f7",
   "metadata": {},
   "outputs": [
    {
     "data": {
      "application/vnd.plotly.v1+json": {
       "config": {
        "linkText": "Export to plot.ly",
        "plotlyServerURL": "https://plot.ly",
        "showLink": true
       },
       "data": [
        {
         "marker": {
          "color": "rgba(255, 153, 51, 0.6)",
          "line": {
           "color": "rgba(255, 153, 51, 1.0)",
           "width": 1
          }
         },
         "name": "value",
         "orientation": "v",
         "text": "",
         "type": "bar",
         "x": [
          "a",
          "b",
          "c",
          "d",
          "e",
          "f",
          "g",
          "h",
          "i",
          "j"
         ],
         "y": [
          6,
          57,
          0,
          3,
          28,
          71,
          83,
          1,
          75,
          38
         ]
        }
       ],
       "layout": {
        "legend": {
         "bgcolor": "#F5F6F9",
         "font": {
          "color": "#4D5663"
         }
        },
        "paper_bgcolor": "#F5F6F9",
        "plot_bgcolor": "#F5F6F9",
        "template": {
         "data": {
          "bar": [
           {
            "error_x": {
             "color": "#2a3f5f"
            },
            "error_y": {
             "color": "#2a3f5f"
            },
            "marker": {
             "line": {
              "color": "#E5ECF6",
              "width": 0.5
             },
             "pattern": {
              "fillmode": "overlay",
              "size": 10,
              "solidity": 0.2
             }
            },
            "type": "bar"
           }
          ],
          "barpolar": [
           {
            "marker": {
             "line": {
              "color": "#E5ECF6",
              "width": 0.5
             },
             "pattern": {
              "fillmode": "overlay",
              "size": 10,
              "solidity": 0.2
             }
            },
            "type": "barpolar"
           }
          ],
          "carpet": [
           {
            "aaxis": {
             "endlinecolor": "#2a3f5f",
             "gridcolor": "white",
             "linecolor": "white",
             "minorgridcolor": "white",
             "startlinecolor": "#2a3f5f"
            },
            "baxis": {
             "endlinecolor": "#2a3f5f",
             "gridcolor": "white",
             "linecolor": "white",
             "minorgridcolor": "white",
             "startlinecolor": "#2a3f5f"
            },
            "type": "carpet"
           }
          ],
          "choropleth": [
           {
            "colorbar": {
             "outlinewidth": 0,
             "ticks": ""
            },
            "type": "choropleth"
           }
          ],
          "contour": [
           {
            "colorbar": {
             "outlinewidth": 0,
             "ticks": ""
            },
            "colorscale": [
             [
              0,
              "#0d0887"
             ],
             [
              0.1111111111111111,
              "#46039f"
             ],
             [
              0.2222222222222222,
              "#7201a8"
             ],
             [
              0.3333333333333333,
              "#9c179e"
             ],
             [
              0.4444444444444444,
              "#bd3786"
             ],
             [
              0.5555555555555556,
              "#d8576b"
             ],
             [
              0.6666666666666666,
              "#ed7953"
             ],
             [
              0.7777777777777778,
              "#fb9f3a"
             ],
             [
              0.8888888888888888,
              "#fdca26"
             ],
             [
              1,
              "#f0f921"
             ]
            ],
            "type": "contour"
           }
          ],
          "contourcarpet": [
           {
            "colorbar": {
             "outlinewidth": 0,
             "ticks": ""
            },
            "type": "contourcarpet"
           }
          ],
          "heatmap": [
           {
            "colorbar": {
             "outlinewidth": 0,
             "ticks": ""
            },
            "colorscale": [
             [
              0,
              "#0d0887"
             ],
             [
              0.1111111111111111,
              "#46039f"
             ],
             [
              0.2222222222222222,
              "#7201a8"
             ],
             [
              0.3333333333333333,
              "#9c179e"
             ],
             [
              0.4444444444444444,
              "#bd3786"
             ],
             [
              0.5555555555555556,
              "#d8576b"
             ],
             [
              0.6666666666666666,
              "#ed7953"
             ],
             [
              0.7777777777777778,
              "#fb9f3a"
             ],
             [
              0.8888888888888888,
              "#fdca26"
             ],
             [
              1,
              "#f0f921"
             ]
            ],
            "type": "heatmap"
           }
          ],
          "heatmapgl": [
           {
            "colorbar": {
             "outlinewidth": 0,
             "ticks": ""
            },
            "colorscale": [
             [
              0,
              "#0d0887"
             ],
             [
              0.1111111111111111,
              "#46039f"
             ],
             [
              0.2222222222222222,
              "#7201a8"
             ],
             [
              0.3333333333333333,
              "#9c179e"
             ],
             [
              0.4444444444444444,
              "#bd3786"
             ],
             [
              0.5555555555555556,
              "#d8576b"
             ],
             [
              0.6666666666666666,
              "#ed7953"
             ],
             [
              0.7777777777777778,
              "#fb9f3a"
             ],
             [
              0.8888888888888888,
              "#fdca26"
             ],
             [
              1,
              "#f0f921"
             ]
            ],
            "type": "heatmapgl"
           }
          ],
          "histogram": [
           {
            "marker": {
             "pattern": {
              "fillmode": "overlay",
              "size": 10,
              "solidity": 0.2
             }
            },
            "type": "histogram"
           }
          ],
          "histogram2d": [
           {
            "colorbar": {
             "outlinewidth": 0,
             "ticks": ""
            },
            "colorscale": [
             [
              0,
              "#0d0887"
             ],
             [
              0.1111111111111111,
              "#46039f"
             ],
             [
              0.2222222222222222,
              "#7201a8"
             ],
             [
              0.3333333333333333,
              "#9c179e"
             ],
             [
              0.4444444444444444,
              "#bd3786"
             ],
             [
              0.5555555555555556,
              "#d8576b"
             ],
             [
              0.6666666666666666,
              "#ed7953"
             ],
             [
              0.7777777777777778,
              "#fb9f3a"
             ],
             [
              0.8888888888888888,
              "#fdca26"
             ],
             [
              1,
              "#f0f921"
             ]
            ],
            "type": "histogram2d"
           }
          ],
          "histogram2dcontour": [
           {
            "colorbar": {
             "outlinewidth": 0,
             "ticks": ""
            },
            "colorscale": [
             [
              0,
              "#0d0887"
             ],
             [
              0.1111111111111111,
              "#46039f"
             ],
             [
              0.2222222222222222,
              "#7201a8"
             ],
             [
              0.3333333333333333,
              "#9c179e"
             ],
             [
              0.4444444444444444,
              "#bd3786"
             ],
             [
              0.5555555555555556,
              "#d8576b"
             ],
             [
              0.6666666666666666,
              "#ed7953"
             ],
             [
              0.7777777777777778,
              "#fb9f3a"
             ],
             [
              0.8888888888888888,
              "#fdca26"
             ],
             [
              1,
              "#f0f921"
             ]
            ],
            "type": "histogram2dcontour"
           }
          ],
          "mesh3d": [
           {
            "colorbar": {
             "outlinewidth": 0,
             "ticks": ""
            },
            "type": "mesh3d"
           }
          ],
          "parcoords": [
           {
            "line": {
             "colorbar": {
              "outlinewidth": 0,
              "ticks": ""
             }
            },
            "type": "parcoords"
           }
          ],
          "pie": [
           {
            "automargin": true,
            "type": "pie"
           }
          ],
          "scatter": [
           {
            "fillpattern": {
             "fillmode": "overlay",
             "size": 10,
             "solidity": 0.2
            },
            "type": "scatter"
           }
          ],
          "scatter3d": [
           {
            "line": {
             "colorbar": {
              "outlinewidth": 0,
              "ticks": ""
             }
            },
            "marker": {
             "colorbar": {
              "outlinewidth": 0,
              "ticks": ""
             }
            },
            "type": "scatter3d"
           }
          ],
          "scattercarpet": [
           {
            "marker": {
             "colorbar": {
              "outlinewidth": 0,
              "ticks": ""
             }
            },
            "type": "scattercarpet"
           }
          ],
          "scattergeo": [
           {
            "marker": {
             "colorbar": {
              "outlinewidth": 0,
              "ticks": ""
             }
            },
            "type": "scattergeo"
           }
          ],
          "scattergl": [
           {
            "marker": {
             "colorbar": {
              "outlinewidth": 0,
              "ticks": ""
             }
            },
            "type": "scattergl"
           }
          ],
          "scattermapbox": [
           {
            "marker": {
             "colorbar": {
              "outlinewidth": 0,
              "ticks": ""
             }
            },
            "type": "scattermapbox"
           }
          ],
          "scatterpolar": [
           {
            "marker": {
             "colorbar": {
              "outlinewidth": 0,
              "ticks": ""
             }
            },
            "type": "scatterpolar"
           }
          ],
          "scatterpolargl": [
           {
            "marker": {
             "colorbar": {
              "outlinewidth": 0,
              "ticks": ""
             }
            },
            "type": "scatterpolargl"
           }
          ],
          "scatterternary": [
           {
            "marker": {
             "colorbar": {
              "outlinewidth": 0,
              "ticks": ""
             }
            },
            "type": "scatterternary"
           }
          ],
          "surface": [
           {
            "colorbar": {
             "outlinewidth": 0,
             "ticks": ""
            },
            "colorscale": [
             [
              0,
              "#0d0887"
             ],
             [
              0.1111111111111111,
              "#46039f"
             ],
             [
              0.2222222222222222,
              "#7201a8"
             ],
             [
              0.3333333333333333,
              "#9c179e"
             ],
             [
              0.4444444444444444,
              "#bd3786"
             ],
             [
              0.5555555555555556,
              "#d8576b"
             ],
             [
              0.6666666666666666,
              "#ed7953"
             ],
             [
              0.7777777777777778,
              "#fb9f3a"
             ],
             [
              0.8888888888888888,
              "#fdca26"
             ],
             [
              1,
              "#f0f921"
             ]
            ],
            "type": "surface"
           }
          ],
          "table": [
           {
            "cells": {
             "fill": {
              "color": "#EBF0F8"
             },
             "line": {
              "color": "white"
             }
            },
            "header": {
             "fill": {
              "color": "#C8D4E3"
             },
             "line": {
              "color": "white"
             }
            },
            "type": "table"
           }
          ]
         },
         "layout": {
          "annotationdefaults": {
           "arrowcolor": "#2a3f5f",
           "arrowhead": 0,
           "arrowwidth": 1
          },
          "autotypenumbers": "strict",
          "coloraxis": {
           "colorbar": {
            "outlinewidth": 0,
            "ticks": ""
           }
          },
          "colorscale": {
           "diverging": [
            [
             0,
             "#8e0152"
            ],
            [
             0.1,
             "#c51b7d"
            ],
            [
             0.2,
             "#de77ae"
            ],
            [
             0.3,
             "#f1b6da"
            ],
            [
             0.4,
             "#fde0ef"
            ],
            [
             0.5,
             "#f7f7f7"
            ],
            [
             0.6,
             "#e6f5d0"
            ],
            [
             0.7,
             "#b8e186"
            ],
            [
             0.8,
             "#7fbc41"
            ],
            [
             0.9,
             "#4d9221"
            ],
            [
             1,
             "#276419"
            ]
           ],
           "sequential": [
            [
             0,
             "#0d0887"
            ],
            [
             0.1111111111111111,
             "#46039f"
            ],
            [
             0.2222222222222222,
             "#7201a8"
            ],
            [
             0.3333333333333333,
             "#9c179e"
            ],
            [
             0.4444444444444444,
             "#bd3786"
            ],
            [
             0.5555555555555556,
             "#d8576b"
            ],
            [
             0.6666666666666666,
             "#ed7953"
            ],
            [
             0.7777777777777778,
             "#fb9f3a"
            ],
            [
             0.8888888888888888,
             "#fdca26"
            ],
            [
             1,
             "#f0f921"
            ]
           ],
           "sequentialminus": [
            [
             0,
             "#0d0887"
            ],
            [
             0.1111111111111111,
             "#46039f"
            ],
            [
             0.2222222222222222,
             "#7201a8"
            ],
            [
             0.3333333333333333,
             "#9c179e"
            ],
            [
             0.4444444444444444,
             "#bd3786"
            ],
            [
             0.5555555555555556,
             "#d8576b"
            ],
            [
             0.6666666666666666,
             "#ed7953"
            ],
            [
             0.7777777777777778,
             "#fb9f3a"
            ],
            [
             0.8888888888888888,
             "#fdca26"
            ],
            [
             1,
             "#f0f921"
            ]
           ]
          },
          "colorway": [
           "#636efa",
           "#EF553B",
           "#00cc96",
           "#ab63fa",
           "#FFA15A",
           "#19d3f3",
           "#FF6692",
           "#B6E880",
           "#FF97FF",
           "#FECB52"
          ],
          "font": {
           "color": "#2a3f5f"
          },
          "geo": {
           "bgcolor": "white",
           "lakecolor": "white",
           "landcolor": "#E5ECF6",
           "showlakes": true,
           "showland": true,
           "subunitcolor": "white"
          },
          "hoverlabel": {
           "align": "left"
          },
          "hovermode": "closest",
          "mapbox": {
           "style": "light"
          },
          "paper_bgcolor": "white",
          "plot_bgcolor": "#E5ECF6",
          "polar": {
           "angularaxis": {
            "gridcolor": "white",
            "linecolor": "white",
            "ticks": ""
           },
           "bgcolor": "#E5ECF6",
           "radialaxis": {
            "gridcolor": "white",
            "linecolor": "white",
            "ticks": ""
           }
          },
          "scene": {
           "xaxis": {
            "backgroundcolor": "#E5ECF6",
            "gridcolor": "white",
            "gridwidth": 2,
            "linecolor": "white",
            "showbackground": true,
            "ticks": "",
            "zerolinecolor": "white"
           },
           "yaxis": {
            "backgroundcolor": "#E5ECF6",
            "gridcolor": "white",
            "gridwidth": 2,
            "linecolor": "white",
            "showbackground": true,
            "ticks": "",
            "zerolinecolor": "white"
           },
           "zaxis": {
            "backgroundcolor": "#E5ECF6",
            "gridcolor": "white",
            "gridwidth": 2,
            "linecolor": "white",
            "showbackground": true,
            "ticks": "",
            "zerolinecolor": "white"
           }
          },
          "shapedefaults": {
           "line": {
            "color": "#2a3f5f"
           }
          },
          "ternary": {
           "aaxis": {
            "gridcolor": "white",
            "linecolor": "white",
            "ticks": ""
           },
           "baxis": {
            "gridcolor": "white",
            "linecolor": "white",
            "ticks": ""
           },
           "bgcolor": "#E5ECF6",
           "caxis": {
            "gridcolor": "white",
            "linecolor": "white",
            "ticks": ""
           }
          },
          "title": {
           "x": 0.05
          },
          "xaxis": {
           "automargin": true,
           "gridcolor": "white",
           "linecolor": "white",
           "ticks": "",
           "title": {
            "standoff": 15
           },
           "zerolinecolor": "white",
           "zerolinewidth": 2
          },
          "yaxis": {
           "automargin": true,
           "gridcolor": "white",
           "linecolor": "white",
           "ticks": "",
           "title": {
            "standoff": 15
           },
           "zerolinecolor": "white",
           "zerolinewidth": 2
          }
         }
        },
        "title": {
         "font": {
          "color": "#4D5663"
         }
        },
        "xaxis": {
         "gridcolor": "#E1E5ED",
         "showgrid": true,
         "tickfont": {
          "color": "#4D5663"
         },
         "title": {
          "font": {
           "color": "#4D5663"
          },
          "text": ""
         },
         "zerolinecolor": "#E1E5ED"
        },
        "yaxis": {
         "gridcolor": "#E1E5ED",
         "showgrid": true,
         "tickfont": {
          "color": "#4D5663"
         },
         "title": {
          "font": {
           "color": "#4D5663"
          },
          "text": ""
         },
         "zerolinecolor": "#E1E5ED"
        }
       }
      },
      "text/html": [
       "<div>                            <div id=\"4915c75f-3a35-4404-92a8-646ccf7b7c12\" class=\"plotly-graph-div\" style=\"height:525px; width:100%;\"></div>            <script type=\"text/javascript\">                require([\"plotly\"], function(Plotly) {                    window.PLOTLYENV=window.PLOTLYENV || {};\n",
       "                    window.PLOTLYENV.BASE_URL='https://plot.ly';                                    if (document.getElementById(\"4915c75f-3a35-4404-92a8-646ccf7b7c12\")) {                    Plotly.newPlot(                        \"4915c75f-3a35-4404-92a8-646ccf7b7c12\",                        [{\"marker\":{\"color\":\"rgba(255, 153, 51, 0.6)\",\"line\":{\"color\":\"rgba(255, 153, 51, 1.0)\",\"width\":1}},\"name\":\"value\",\"orientation\":\"v\",\"text\":\"\",\"x\":[\"a\",\"b\",\"c\",\"d\",\"e\",\"f\",\"g\",\"h\",\"i\",\"j\"],\"y\":[6,57,0,3,28,71,83,1,75,38],\"type\":\"bar\"}],                        {\"legend\":{\"bgcolor\":\"#F5F6F9\",\"font\":{\"color\":\"#4D5663\"}},\"paper_bgcolor\":\"#F5F6F9\",\"plot_bgcolor\":\"#F5F6F9\",\"template\":{\"data\":{\"barpolar\":[{\"marker\":{\"line\":{\"color\":\"#E5ECF6\",\"width\":0.5},\"pattern\":{\"fillmode\":\"overlay\",\"size\":10,\"solidity\":0.2}},\"type\":\"barpolar\"}],\"bar\":[{\"error_x\":{\"color\":\"#2a3f5f\"},\"error_y\":{\"color\":\"#2a3f5f\"},\"marker\":{\"line\":{\"color\":\"#E5ECF6\",\"width\":0.5},\"pattern\":{\"fillmode\":\"overlay\",\"size\":10,\"solidity\":0.2}},\"type\":\"bar\"}],\"carpet\":[{\"aaxis\":{\"endlinecolor\":\"#2a3f5f\",\"gridcolor\":\"white\",\"linecolor\":\"white\",\"minorgridcolor\":\"white\",\"startlinecolor\":\"#2a3f5f\"},\"baxis\":{\"endlinecolor\":\"#2a3f5f\",\"gridcolor\":\"white\",\"linecolor\":\"white\",\"minorgridcolor\":\"white\",\"startlinecolor\":\"#2a3f5f\"},\"type\":\"carpet\"}],\"choropleth\":[{\"colorbar\":{\"outlinewidth\":0,\"ticks\":\"\"},\"type\":\"choropleth\"}],\"contourcarpet\":[{\"colorbar\":{\"outlinewidth\":0,\"ticks\":\"\"},\"type\":\"contourcarpet\"}],\"contour\":[{\"colorbar\":{\"outlinewidth\":0,\"ticks\":\"\"},\"colorscale\":[[0.0,\"#0d0887\"],[0.1111111111111111,\"#46039f\"],[0.2222222222222222,\"#7201a8\"],[0.3333333333333333,\"#9c179e\"],[0.4444444444444444,\"#bd3786\"],[0.5555555555555556,\"#d8576b\"],[0.6666666666666666,\"#ed7953\"],[0.7777777777777778,\"#fb9f3a\"],[0.8888888888888888,\"#fdca26\"],[1.0,\"#f0f921\"]],\"type\":\"contour\"}],\"heatmapgl\":[{\"colorbar\":{\"outlinewidth\":0,\"ticks\":\"\"},\"colorscale\":[[0.0,\"#0d0887\"],[0.1111111111111111,\"#46039f\"],[0.2222222222222222,\"#7201a8\"],[0.3333333333333333,\"#9c179e\"],[0.4444444444444444,\"#bd3786\"],[0.5555555555555556,\"#d8576b\"],[0.6666666666666666,\"#ed7953\"],[0.7777777777777778,\"#fb9f3a\"],[0.8888888888888888,\"#fdca26\"],[1.0,\"#f0f921\"]],\"type\":\"heatmapgl\"}],\"heatmap\":[{\"colorbar\":{\"outlinewidth\":0,\"ticks\":\"\"},\"colorscale\":[[0.0,\"#0d0887\"],[0.1111111111111111,\"#46039f\"],[0.2222222222222222,\"#7201a8\"],[0.3333333333333333,\"#9c179e\"],[0.4444444444444444,\"#bd3786\"],[0.5555555555555556,\"#d8576b\"],[0.6666666666666666,\"#ed7953\"],[0.7777777777777778,\"#fb9f3a\"],[0.8888888888888888,\"#fdca26\"],[1.0,\"#f0f921\"]],\"type\":\"heatmap\"}],\"histogram2dcontour\":[{\"colorbar\":{\"outlinewidth\":0,\"ticks\":\"\"},\"colorscale\":[[0.0,\"#0d0887\"],[0.1111111111111111,\"#46039f\"],[0.2222222222222222,\"#7201a8\"],[0.3333333333333333,\"#9c179e\"],[0.4444444444444444,\"#bd3786\"],[0.5555555555555556,\"#d8576b\"],[0.6666666666666666,\"#ed7953\"],[0.7777777777777778,\"#fb9f3a\"],[0.8888888888888888,\"#fdca26\"],[1.0,\"#f0f921\"]],\"type\":\"histogram2dcontour\"}],\"histogram2d\":[{\"colorbar\":{\"outlinewidth\":0,\"ticks\":\"\"},\"colorscale\":[[0.0,\"#0d0887\"],[0.1111111111111111,\"#46039f\"],[0.2222222222222222,\"#7201a8\"],[0.3333333333333333,\"#9c179e\"],[0.4444444444444444,\"#bd3786\"],[0.5555555555555556,\"#d8576b\"],[0.6666666666666666,\"#ed7953\"],[0.7777777777777778,\"#fb9f3a\"],[0.8888888888888888,\"#fdca26\"],[1.0,\"#f0f921\"]],\"type\":\"histogram2d\"}],\"histogram\":[{\"marker\":{\"pattern\":{\"fillmode\":\"overlay\",\"size\":10,\"solidity\":0.2}},\"type\":\"histogram\"}],\"mesh3d\":[{\"colorbar\":{\"outlinewidth\":0,\"ticks\":\"\"},\"type\":\"mesh3d\"}],\"parcoords\":[{\"line\":{\"colorbar\":{\"outlinewidth\":0,\"ticks\":\"\"}},\"type\":\"parcoords\"}],\"pie\":[{\"automargin\":true,\"type\":\"pie\"}],\"scatter3d\":[{\"line\":{\"colorbar\":{\"outlinewidth\":0,\"ticks\":\"\"}},\"marker\":{\"colorbar\":{\"outlinewidth\":0,\"ticks\":\"\"}},\"type\":\"scatter3d\"}],\"scattercarpet\":[{\"marker\":{\"colorbar\":{\"outlinewidth\":0,\"ticks\":\"\"}},\"type\":\"scattercarpet\"}],\"scattergeo\":[{\"marker\":{\"colorbar\":{\"outlinewidth\":0,\"ticks\":\"\"}},\"type\":\"scattergeo\"}],\"scattergl\":[{\"marker\":{\"colorbar\":{\"outlinewidth\":0,\"ticks\":\"\"}},\"type\":\"scattergl\"}],\"scattermapbox\":[{\"marker\":{\"colorbar\":{\"outlinewidth\":0,\"ticks\":\"\"}},\"type\":\"scattermapbox\"}],\"scatterpolargl\":[{\"marker\":{\"colorbar\":{\"outlinewidth\":0,\"ticks\":\"\"}},\"type\":\"scatterpolargl\"}],\"scatterpolar\":[{\"marker\":{\"colorbar\":{\"outlinewidth\":0,\"ticks\":\"\"}},\"type\":\"scatterpolar\"}],\"scatter\":[{\"fillpattern\":{\"fillmode\":\"overlay\",\"size\":10,\"solidity\":0.2},\"type\":\"scatter\"}],\"scatterternary\":[{\"marker\":{\"colorbar\":{\"outlinewidth\":0,\"ticks\":\"\"}},\"type\":\"scatterternary\"}],\"surface\":[{\"colorbar\":{\"outlinewidth\":0,\"ticks\":\"\"},\"colorscale\":[[0.0,\"#0d0887\"],[0.1111111111111111,\"#46039f\"],[0.2222222222222222,\"#7201a8\"],[0.3333333333333333,\"#9c179e\"],[0.4444444444444444,\"#bd3786\"],[0.5555555555555556,\"#d8576b\"],[0.6666666666666666,\"#ed7953\"],[0.7777777777777778,\"#fb9f3a\"],[0.8888888888888888,\"#fdca26\"],[1.0,\"#f0f921\"]],\"type\":\"surface\"}],\"table\":[{\"cells\":{\"fill\":{\"color\":\"#EBF0F8\"},\"line\":{\"color\":\"white\"}},\"header\":{\"fill\":{\"color\":\"#C8D4E3\"},\"line\":{\"color\":\"white\"}},\"type\":\"table\"}]},\"layout\":{\"annotationdefaults\":{\"arrowcolor\":\"#2a3f5f\",\"arrowhead\":0,\"arrowwidth\":1},\"autotypenumbers\":\"strict\",\"coloraxis\":{\"colorbar\":{\"outlinewidth\":0,\"ticks\":\"\"}},\"colorscale\":{\"diverging\":[[0,\"#8e0152\"],[0.1,\"#c51b7d\"],[0.2,\"#de77ae\"],[0.3,\"#f1b6da\"],[0.4,\"#fde0ef\"],[0.5,\"#f7f7f7\"],[0.6,\"#e6f5d0\"],[0.7,\"#b8e186\"],[0.8,\"#7fbc41\"],[0.9,\"#4d9221\"],[1,\"#276419\"]],\"sequential\":[[0.0,\"#0d0887\"],[0.1111111111111111,\"#46039f\"],[0.2222222222222222,\"#7201a8\"],[0.3333333333333333,\"#9c179e\"],[0.4444444444444444,\"#bd3786\"],[0.5555555555555556,\"#d8576b\"],[0.6666666666666666,\"#ed7953\"],[0.7777777777777778,\"#fb9f3a\"],[0.8888888888888888,\"#fdca26\"],[1.0,\"#f0f921\"]],\"sequentialminus\":[[0.0,\"#0d0887\"],[0.1111111111111111,\"#46039f\"],[0.2222222222222222,\"#7201a8\"],[0.3333333333333333,\"#9c179e\"],[0.4444444444444444,\"#bd3786\"],[0.5555555555555556,\"#d8576b\"],[0.6666666666666666,\"#ed7953\"],[0.7777777777777778,\"#fb9f3a\"],[0.8888888888888888,\"#fdca26\"],[1.0,\"#f0f921\"]]},\"colorway\":[\"#636efa\",\"#EF553B\",\"#00cc96\",\"#ab63fa\",\"#FFA15A\",\"#19d3f3\",\"#FF6692\",\"#B6E880\",\"#FF97FF\",\"#FECB52\"],\"font\":{\"color\":\"#2a3f5f\"},\"geo\":{\"bgcolor\":\"white\",\"lakecolor\":\"white\",\"landcolor\":\"#E5ECF6\",\"showlakes\":true,\"showland\":true,\"subunitcolor\":\"white\"},\"hoverlabel\":{\"align\":\"left\"},\"hovermode\":\"closest\",\"mapbox\":{\"style\":\"light\"},\"paper_bgcolor\":\"white\",\"plot_bgcolor\":\"#E5ECF6\",\"polar\":{\"angularaxis\":{\"gridcolor\":\"white\",\"linecolor\":\"white\",\"ticks\":\"\"},\"bgcolor\":\"#E5ECF6\",\"radialaxis\":{\"gridcolor\":\"white\",\"linecolor\":\"white\",\"ticks\":\"\"}},\"scene\":{\"xaxis\":{\"backgroundcolor\":\"#E5ECF6\",\"gridcolor\":\"white\",\"gridwidth\":2,\"linecolor\":\"white\",\"showbackground\":true,\"ticks\":\"\",\"zerolinecolor\":\"white\"},\"yaxis\":{\"backgroundcolor\":\"#E5ECF6\",\"gridcolor\":\"white\",\"gridwidth\":2,\"linecolor\":\"white\",\"showbackground\":true,\"ticks\":\"\",\"zerolinecolor\":\"white\"},\"zaxis\":{\"backgroundcolor\":\"#E5ECF6\",\"gridcolor\":\"white\",\"gridwidth\":2,\"linecolor\":\"white\",\"showbackground\":true,\"ticks\":\"\",\"zerolinecolor\":\"white\"}},\"shapedefaults\":{\"line\":{\"color\":\"#2a3f5f\"}},\"ternary\":{\"aaxis\":{\"gridcolor\":\"white\",\"linecolor\":\"white\",\"ticks\":\"\"},\"baxis\":{\"gridcolor\":\"white\",\"linecolor\":\"white\",\"ticks\":\"\"},\"bgcolor\":\"#E5ECF6\",\"caxis\":{\"gridcolor\":\"white\",\"linecolor\":\"white\",\"ticks\":\"\"}},\"title\":{\"x\":0.05},\"xaxis\":{\"automargin\":true,\"gridcolor\":\"white\",\"linecolor\":\"white\",\"ticks\":\"\",\"title\":{\"standoff\":15},\"zerolinecolor\":\"white\",\"zerolinewidth\":2},\"yaxis\":{\"automargin\":true,\"gridcolor\":\"white\",\"linecolor\":\"white\",\"ticks\":\"\",\"title\":{\"standoff\":15},\"zerolinecolor\":\"white\",\"zerolinewidth\":2}}},\"title\":{\"font\":{\"color\":\"#4D5663\"}},\"xaxis\":{\"gridcolor\":\"#E1E5ED\",\"showgrid\":true,\"tickfont\":{\"color\":\"#4D5663\"},\"title\":{\"font\":{\"color\":\"#4D5663\"},\"text\":\"\"},\"zerolinecolor\":\"#E1E5ED\"},\"yaxis\":{\"gridcolor\":\"#E1E5ED\",\"showgrid\":true,\"tickfont\":{\"color\":\"#4D5663\"},\"title\":{\"font\":{\"color\":\"#4D5663\"},\"text\":\"\"},\"zerolinecolor\":\"#E1E5ED\"}},                        {\"showLink\": true, \"linkText\": \"Export to plot.ly\", \"plotlyServerURL\": \"https://plot.ly\", \"responsive\": true}                    ).then(function(){\n",
       "                            \n",
       "var gd = document.getElementById('4915c75f-3a35-4404-92a8-646ccf7b7c12');\n",
       "var x = new MutationObserver(function (mutations, observer) {{\n",
       "        var display = window.getComputedStyle(gd).display;\n",
       "        if (!display || display === 'none') {{\n",
       "            console.log([gd, 'removed!']);\n",
       "            Plotly.purge(gd);\n",
       "            observer.disconnect();\n",
       "        }}\n",
       "}});\n",
       "\n",
       "// Listen for the removal of the full notebook cells\n",
       "var notebookContainer = gd.closest('#notebook-container');\n",
       "if (notebookContainer) {{\n",
       "    x.observe(notebookContainer, {childList: true});\n",
       "}}\n",
       "\n",
       "// Listen for the clearing of the current output cell\n",
       "var outputEl = gd.closest('.output');\n",
       "if (outputEl) {{\n",
       "    x.observe(outputEl, {childList: true});\n",
       "}}\n",
       "\n",
       "                        })                };                });            </script>        </div>"
      ]
     },
     "metadata": {},
     "output_type": "display_data"
    }
   ],
   "source": [
    "df2.iplot(kind=\"bar\", x=\"category\", y=\"value\")"
   ]
  },
  {
   "cell_type": "code",
   "execution_count": 44,
   "id": "0296187d",
   "metadata": {},
   "outputs": [
    {
     "data": {
      "application/vnd.plotly.v1+json": {
       "config": {
        "linkText": "Export to plot.ly",
        "plotlyServerURL": "https://plot.ly",
        "showLink": true
       },
       "data": [
        {
         "marker": {
          "color": "rgba(255, 153, 51, 0.6)",
          "line": {
           "color": "rgba(255, 153, 51, 1.0)",
           "width": 1
          }
         },
         "name": "None",
         "orientation": "v",
         "text": "",
         "type": "bar",
         "x": [
          "A",
          "B",
          "C",
          "D"
         ],
         "y": [
          -16.063225288772824,
          -5.967381218003385,
          -2.418155028673424,
          -6.501918979113533
         ]
        }
       ],
       "layout": {
        "legend": {
         "bgcolor": "#F5F6F9",
         "font": {
          "color": "#4D5663"
         }
        },
        "paper_bgcolor": "#F5F6F9",
        "plot_bgcolor": "#F5F6F9",
        "template": {
         "data": {
          "bar": [
           {
            "error_x": {
             "color": "#2a3f5f"
            },
            "error_y": {
             "color": "#2a3f5f"
            },
            "marker": {
             "line": {
              "color": "#E5ECF6",
              "width": 0.5
             },
             "pattern": {
              "fillmode": "overlay",
              "size": 10,
              "solidity": 0.2
             }
            },
            "type": "bar"
           }
          ],
          "barpolar": [
           {
            "marker": {
             "line": {
              "color": "#E5ECF6",
              "width": 0.5
             },
             "pattern": {
              "fillmode": "overlay",
              "size": 10,
              "solidity": 0.2
             }
            },
            "type": "barpolar"
           }
          ],
          "carpet": [
           {
            "aaxis": {
             "endlinecolor": "#2a3f5f",
             "gridcolor": "white",
             "linecolor": "white",
             "minorgridcolor": "white",
             "startlinecolor": "#2a3f5f"
            },
            "baxis": {
             "endlinecolor": "#2a3f5f",
             "gridcolor": "white",
             "linecolor": "white",
             "minorgridcolor": "white",
             "startlinecolor": "#2a3f5f"
            },
            "type": "carpet"
           }
          ],
          "choropleth": [
           {
            "colorbar": {
             "outlinewidth": 0,
             "ticks": ""
            },
            "type": "choropleth"
           }
          ],
          "contour": [
           {
            "colorbar": {
             "outlinewidth": 0,
             "ticks": ""
            },
            "colorscale": [
             [
              0,
              "#0d0887"
             ],
             [
              0.1111111111111111,
              "#46039f"
             ],
             [
              0.2222222222222222,
              "#7201a8"
             ],
             [
              0.3333333333333333,
              "#9c179e"
             ],
             [
              0.4444444444444444,
              "#bd3786"
             ],
             [
              0.5555555555555556,
              "#d8576b"
             ],
             [
              0.6666666666666666,
              "#ed7953"
             ],
             [
              0.7777777777777778,
              "#fb9f3a"
             ],
             [
              0.8888888888888888,
              "#fdca26"
             ],
             [
              1,
              "#f0f921"
             ]
            ],
            "type": "contour"
           }
          ],
          "contourcarpet": [
           {
            "colorbar": {
             "outlinewidth": 0,
             "ticks": ""
            },
            "type": "contourcarpet"
           }
          ],
          "heatmap": [
           {
            "colorbar": {
             "outlinewidth": 0,
             "ticks": ""
            },
            "colorscale": [
             [
              0,
              "#0d0887"
             ],
             [
              0.1111111111111111,
              "#46039f"
             ],
             [
              0.2222222222222222,
              "#7201a8"
             ],
             [
              0.3333333333333333,
              "#9c179e"
             ],
             [
              0.4444444444444444,
              "#bd3786"
             ],
             [
              0.5555555555555556,
              "#d8576b"
             ],
             [
              0.6666666666666666,
              "#ed7953"
             ],
             [
              0.7777777777777778,
              "#fb9f3a"
             ],
             [
              0.8888888888888888,
              "#fdca26"
             ],
             [
              1,
              "#f0f921"
             ]
            ],
            "type": "heatmap"
           }
          ],
          "heatmapgl": [
           {
            "colorbar": {
             "outlinewidth": 0,
             "ticks": ""
            },
            "colorscale": [
             [
              0,
              "#0d0887"
             ],
             [
              0.1111111111111111,
              "#46039f"
             ],
             [
              0.2222222222222222,
              "#7201a8"
             ],
             [
              0.3333333333333333,
              "#9c179e"
             ],
             [
              0.4444444444444444,
              "#bd3786"
             ],
             [
              0.5555555555555556,
              "#d8576b"
             ],
             [
              0.6666666666666666,
              "#ed7953"
             ],
             [
              0.7777777777777778,
              "#fb9f3a"
             ],
             [
              0.8888888888888888,
              "#fdca26"
             ],
             [
              1,
              "#f0f921"
             ]
            ],
            "type": "heatmapgl"
           }
          ],
          "histogram": [
           {
            "marker": {
             "pattern": {
              "fillmode": "overlay",
              "size": 10,
              "solidity": 0.2
             }
            },
            "type": "histogram"
           }
          ],
          "histogram2d": [
           {
            "colorbar": {
             "outlinewidth": 0,
             "ticks": ""
            },
            "colorscale": [
             [
              0,
              "#0d0887"
             ],
             [
              0.1111111111111111,
              "#46039f"
             ],
             [
              0.2222222222222222,
              "#7201a8"
             ],
             [
              0.3333333333333333,
              "#9c179e"
             ],
             [
              0.4444444444444444,
              "#bd3786"
             ],
             [
              0.5555555555555556,
              "#d8576b"
             ],
             [
              0.6666666666666666,
              "#ed7953"
             ],
             [
              0.7777777777777778,
              "#fb9f3a"
             ],
             [
              0.8888888888888888,
              "#fdca26"
             ],
             [
              1,
              "#f0f921"
             ]
            ],
            "type": "histogram2d"
           }
          ],
          "histogram2dcontour": [
           {
            "colorbar": {
             "outlinewidth": 0,
             "ticks": ""
            },
            "colorscale": [
             [
              0,
              "#0d0887"
             ],
             [
              0.1111111111111111,
              "#46039f"
             ],
             [
              0.2222222222222222,
              "#7201a8"
             ],
             [
              0.3333333333333333,
              "#9c179e"
             ],
             [
              0.4444444444444444,
              "#bd3786"
             ],
             [
              0.5555555555555556,
              "#d8576b"
             ],
             [
              0.6666666666666666,
              "#ed7953"
             ],
             [
              0.7777777777777778,
              "#fb9f3a"
             ],
             [
              0.8888888888888888,
              "#fdca26"
             ],
             [
              1,
              "#f0f921"
             ]
            ],
            "type": "histogram2dcontour"
           }
          ],
          "mesh3d": [
           {
            "colorbar": {
             "outlinewidth": 0,
             "ticks": ""
            },
            "type": "mesh3d"
           }
          ],
          "parcoords": [
           {
            "line": {
             "colorbar": {
              "outlinewidth": 0,
              "ticks": ""
             }
            },
            "type": "parcoords"
           }
          ],
          "pie": [
           {
            "automargin": true,
            "type": "pie"
           }
          ],
          "scatter": [
           {
            "fillpattern": {
             "fillmode": "overlay",
             "size": 10,
             "solidity": 0.2
            },
            "type": "scatter"
           }
          ],
          "scatter3d": [
           {
            "line": {
             "colorbar": {
              "outlinewidth": 0,
              "ticks": ""
             }
            },
            "marker": {
             "colorbar": {
              "outlinewidth": 0,
              "ticks": ""
             }
            },
            "type": "scatter3d"
           }
          ],
          "scattercarpet": [
           {
            "marker": {
             "colorbar": {
              "outlinewidth": 0,
              "ticks": ""
             }
            },
            "type": "scattercarpet"
           }
          ],
          "scattergeo": [
           {
            "marker": {
             "colorbar": {
              "outlinewidth": 0,
              "ticks": ""
             }
            },
            "type": "scattergeo"
           }
          ],
          "scattergl": [
           {
            "marker": {
             "colorbar": {
              "outlinewidth": 0,
              "ticks": ""
             }
            },
            "type": "scattergl"
           }
          ],
          "scattermapbox": [
           {
            "marker": {
             "colorbar": {
              "outlinewidth": 0,
              "ticks": ""
             }
            },
            "type": "scattermapbox"
           }
          ],
          "scatterpolar": [
           {
            "marker": {
             "colorbar": {
              "outlinewidth": 0,
              "ticks": ""
             }
            },
            "type": "scatterpolar"
           }
          ],
          "scatterpolargl": [
           {
            "marker": {
             "colorbar": {
              "outlinewidth": 0,
              "ticks": ""
             }
            },
            "type": "scatterpolargl"
           }
          ],
          "scatterternary": [
           {
            "marker": {
             "colorbar": {
              "outlinewidth": 0,
              "ticks": ""
             }
            },
            "type": "scatterternary"
           }
          ],
          "surface": [
           {
            "colorbar": {
             "outlinewidth": 0,
             "ticks": ""
            },
            "colorscale": [
             [
              0,
              "#0d0887"
             ],
             [
              0.1111111111111111,
              "#46039f"
             ],
             [
              0.2222222222222222,
              "#7201a8"
             ],
             [
              0.3333333333333333,
              "#9c179e"
             ],
             [
              0.4444444444444444,
              "#bd3786"
             ],
             [
              0.5555555555555556,
              "#d8576b"
             ],
             [
              0.6666666666666666,
              "#ed7953"
             ],
             [
              0.7777777777777778,
              "#fb9f3a"
             ],
             [
              0.8888888888888888,
              "#fdca26"
             ],
             [
              1,
              "#f0f921"
             ]
            ],
            "type": "surface"
           }
          ],
          "table": [
           {
            "cells": {
             "fill": {
              "color": "#EBF0F8"
             },
             "line": {
              "color": "white"
             }
            },
            "header": {
             "fill": {
              "color": "#C8D4E3"
             },
             "line": {
              "color": "white"
             }
            },
            "type": "table"
           }
          ]
         },
         "layout": {
          "annotationdefaults": {
           "arrowcolor": "#2a3f5f",
           "arrowhead": 0,
           "arrowwidth": 1
          },
          "autotypenumbers": "strict",
          "coloraxis": {
           "colorbar": {
            "outlinewidth": 0,
            "ticks": ""
           }
          },
          "colorscale": {
           "diverging": [
            [
             0,
             "#8e0152"
            ],
            [
             0.1,
             "#c51b7d"
            ],
            [
             0.2,
             "#de77ae"
            ],
            [
             0.3,
             "#f1b6da"
            ],
            [
             0.4,
             "#fde0ef"
            ],
            [
             0.5,
             "#f7f7f7"
            ],
            [
             0.6,
             "#e6f5d0"
            ],
            [
             0.7,
             "#b8e186"
            ],
            [
             0.8,
             "#7fbc41"
            ],
            [
             0.9,
             "#4d9221"
            ],
            [
             1,
             "#276419"
            ]
           ],
           "sequential": [
            [
             0,
             "#0d0887"
            ],
            [
             0.1111111111111111,
             "#46039f"
            ],
            [
             0.2222222222222222,
             "#7201a8"
            ],
            [
             0.3333333333333333,
             "#9c179e"
            ],
            [
             0.4444444444444444,
             "#bd3786"
            ],
            [
             0.5555555555555556,
             "#d8576b"
            ],
            [
             0.6666666666666666,
             "#ed7953"
            ],
            [
             0.7777777777777778,
             "#fb9f3a"
            ],
            [
             0.8888888888888888,
             "#fdca26"
            ],
            [
             1,
             "#f0f921"
            ]
           ],
           "sequentialminus": [
            [
             0,
             "#0d0887"
            ],
            [
             0.1111111111111111,
             "#46039f"
            ],
            [
             0.2222222222222222,
             "#7201a8"
            ],
            [
             0.3333333333333333,
             "#9c179e"
            ],
            [
             0.4444444444444444,
             "#bd3786"
            ],
            [
             0.5555555555555556,
             "#d8576b"
            ],
            [
             0.6666666666666666,
             "#ed7953"
            ],
            [
             0.7777777777777778,
             "#fb9f3a"
            ],
            [
             0.8888888888888888,
             "#fdca26"
            ],
            [
             1,
             "#f0f921"
            ]
           ]
          },
          "colorway": [
           "#636efa",
           "#EF553B",
           "#00cc96",
           "#ab63fa",
           "#FFA15A",
           "#19d3f3",
           "#FF6692",
           "#B6E880",
           "#FF97FF",
           "#FECB52"
          ],
          "font": {
           "color": "#2a3f5f"
          },
          "geo": {
           "bgcolor": "white",
           "lakecolor": "white",
           "landcolor": "#E5ECF6",
           "showlakes": true,
           "showland": true,
           "subunitcolor": "white"
          },
          "hoverlabel": {
           "align": "left"
          },
          "hovermode": "closest",
          "mapbox": {
           "style": "light"
          },
          "paper_bgcolor": "white",
          "plot_bgcolor": "#E5ECF6",
          "polar": {
           "angularaxis": {
            "gridcolor": "white",
            "linecolor": "white",
            "ticks": ""
           },
           "bgcolor": "#E5ECF6",
           "radialaxis": {
            "gridcolor": "white",
            "linecolor": "white",
            "ticks": ""
           }
          },
          "scene": {
           "xaxis": {
            "backgroundcolor": "#E5ECF6",
            "gridcolor": "white",
            "gridwidth": 2,
            "linecolor": "white",
            "showbackground": true,
            "ticks": "",
            "zerolinecolor": "white"
           },
           "yaxis": {
            "backgroundcolor": "#E5ECF6",
            "gridcolor": "white",
            "gridwidth": 2,
            "linecolor": "white",
            "showbackground": true,
            "ticks": "",
            "zerolinecolor": "white"
           },
           "zaxis": {
            "backgroundcolor": "#E5ECF6",
            "gridcolor": "white",
            "gridwidth": 2,
            "linecolor": "white",
            "showbackground": true,
            "ticks": "",
            "zerolinecolor": "white"
           }
          },
          "shapedefaults": {
           "line": {
            "color": "#2a3f5f"
           }
          },
          "ternary": {
           "aaxis": {
            "gridcolor": "white",
            "linecolor": "white",
            "ticks": ""
           },
           "baxis": {
            "gridcolor": "white",
            "linecolor": "white",
            "ticks": ""
           },
           "bgcolor": "#E5ECF6",
           "caxis": {
            "gridcolor": "white",
            "linecolor": "white",
            "ticks": ""
           }
          },
          "title": {
           "x": 0.05
          },
          "xaxis": {
           "automargin": true,
           "gridcolor": "white",
           "linecolor": "white",
           "ticks": "",
           "title": {
            "standoff": 15
           },
           "zerolinecolor": "white",
           "zerolinewidth": 2
          },
          "yaxis": {
           "automargin": true,
           "gridcolor": "white",
           "linecolor": "white",
           "ticks": "",
           "title": {
            "standoff": 15
           },
           "zerolinecolor": "white",
           "zerolinewidth": 2
          }
         }
        },
        "title": {
         "font": {
          "color": "#4D5663"
         }
        },
        "xaxis": {
         "gridcolor": "#E1E5ED",
         "showgrid": true,
         "tickfont": {
          "color": "#4D5663"
         },
         "title": {
          "font": {
           "color": "#4D5663"
          },
          "text": ""
         },
         "zerolinecolor": "#E1E5ED"
        },
        "yaxis": {
         "gridcolor": "#E1E5ED",
         "showgrid": true,
         "tickfont": {
          "color": "#4D5663"
         },
         "title": {
          "font": {
           "color": "#4D5663"
          },
          "text": ""
         },
         "zerolinecolor": "#E1E5ED"
        }
       }
      },
      "text/html": [
       "<div>                            <div id=\"ee06153c-c21a-4a31-be35-400188116f1e\" class=\"plotly-graph-div\" style=\"height:525px; width:100%;\"></div>            <script type=\"text/javascript\">                require([\"plotly\"], function(Plotly) {                    window.PLOTLYENV=window.PLOTLYENV || {};\n",
       "                    window.PLOTLYENV.BASE_URL='https://plot.ly';                                    if (document.getElementById(\"ee06153c-c21a-4a31-be35-400188116f1e\")) {                    Plotly.newPlot(                        \"ee06153c-c21a-4a31-be35-400188116f1e\",                        [{\"marker\":{\"color\":\"rgba(255, 153, 51, 0.6)\",\"line\":{\"color\":\"rgba(255, 153, 51, 1.0)\",\"width\":1}},\"name\":\"None\",\"orientation\":\"v\",\"text\":\"\",\"x\":[\"A\",\"B\",\"C\",\"D\"],\"y\":[-16.063225288772824,-5.967381218003385,-2.418155028673424,-6.501918979113533],\"type\":\"bar\"}],                        {\"legend\":{\"bgcolor\":\"#F5F6F9\",\"font\":{\"color\":\"#4D5663\"}},\"paper_bgcolor\":\"#F5F6F9\",\"plot_bgcolor\":\"#F5F6F9\",\"template\":{\"data\":{\"barpolar\":[{\"marker\":{\"line\":{\"color\":\"#E5ECF6\",\"width\":0.5},\"pattern\":{\"fillmode\":\"overlay\",\"size\":10,\"solidity\":0.2}},\"type\":\"barpolar\"}],\"bar\":[{\"error_x\":{\"color\":\"#2a3f5f\"},\"error_y\":{\"color\":\"#2a3f5f\"},\"marker\":{\"line\":{\"color\":\"#E5ECF6\",\"width\":0.5},\"pattern\":{\"fillmode\":\"overlay\",\"size\":10,\"solidity\":0.2}},\"type\":\"bar\"}],\"carpet\":[{\"aaxis\":{\"endlinecolor\":\"#2a3f5f\",\"gridcolor\":\"white\",\"linecolor\":\"white\",\"minorgridcolor\":\"white\",\"startlinecolor\":\"#2a3f5f\"},\"baxis\":{\"endlinecolor\":\"#2a3f5f\",\"gridcolor\":\"white\",\"linecolor\":\"white\",\"minorgridcolor\":\"white\",\"startlinecolor\":\"#2a3f5f\"},\"type\":\"carpet\"}],\"choropleth\":[{\"colorbar\":{\"outlinewidth\":0,\"ticks\":\"\"},\"type\":\"choropleth\"}],\"contourcarpet\":[{\"colorbar\":{\"outlinewidth\":0,\"ticks\":\"\"},\"type\":\"contourcarpet\"}],\"contour\":[{\"colorbar\":{\"outlinewidth\":0,\"ticks\":\"\"},\"colorscale\":[[0.0,\"#0d0887\"],[0.1111111111111111,\"#46039f\"],[0.2222222222222222,\"#7201a8\"],[0.3333333333333333,\"#9c179e\"],[0.4444444444444444,\"#bd3786\"],[0.5555555555555556,\"#d8576b\"],[0.6666666666666666,\"#ed7953\"],[0.7777777777777778,\"#fb9f3a\"],[0.8888888888888888,\"#fdca26\"],[1.0,\"#f0f921\"]],\"type\":\"contour\"}],\"heatmapgl\":[{\"colorbar\":{\"outlinewidth\":0,\"ticks\":\"\"},\"colorscale\":[[0.0,\"#0d0887\"],[0.1111111111111111,\"#46039f\"],[0.2222222222222222,\"#7201a8\"],[0.3333333333333333,\"#9c179e\"],[0.4444444444444444,\"#bd3786\"],[0.5555555555555556,\"#d8576b\"],[0.6666666666666666,\"#ed7953\"],[0.7777777777777778,\"#fb9f3a\"],[0.8888888888888888,\"#fdca26\"],[1.0,\"#f0f921\"]],\"type\":\"heatmapgl\"}],\"heatmap\":[{\"colorbar\":{\"outlinewidth\":0,\"ticks\":\"\"},\"colorscale\":[[0.0,\"#0d0887\"],[0.1111111111111111,\"#46039f\"],[0.2222222222222222,\"#7201a8\"],[0.3333333333333333,\"#9c179e\"],[0.4444444444444444,\"#bd3786\"],[0.5555555555555556,\"#d8576b\"],[0.6666666666666666,\"#ed7953\"],[0.7777777777777778,\"#fb9f3a\"],[0.8888888888888888,\"#fdca26\"],[1.0,\"#f0f921\"]],\"type\":\"heatmap\"}],\"histogram2dcontour\":[{\"colorbar\":{\"outlinewidth\":0,\"ticks\":\"\"},\"colorscale\":[[0.0,\"#0d0887\"],[0.1111111111111111,\"#46039f\"],[0.2222222222222222,\"#7201a8\"],[0.3333333333333333,\"#9c179e\"],[0.4444444444444444,\"#bd3786\"],[0.5555555555555556,\"#d8576b\"],[0.6666666666666666,\"#ed7953\"],[0.7777777777777778,\"#fb9f3a\"],[0.8888888888888888,\"#fdca26\"],[1.0,\"#f0f921\"]],\"type\":\"histogram2dcontour\"}],\"histogram2d\":[{\"colorbar\":{\"outlinewidth\":0,\"ticks\":\"\"},\"colorscale\":[[0.0,\"#0d0887\"],[0.1111111111111111,\"#46039f\"],[0.2222222222222222,\"#7201a8\"],[0.3333333333333333,\"#9c179e\"],[0.4444444444444444,\"#bd3786\"],[0.5555555555555556,\"#d8576b\"],[0.6666666666666666,\"#ed7953\"],[0.7777777777777778,\"#fb9f3a\"],[0.8888888888888888,\"#fdca26\"],[1.0,\"#f0f921\"]],\"type\":\"histogram2d\"}],\"histogram\":[{\"marker\":{\"pattern\":{\"fillmode\":\"overlay\",\"size\":10,\"solidity\":0.2}},\"type\":\"histogram\"}],\"mesh3d\":[{\"colorbar\":{\"outlinewidth\":0,\"ticks\":\"\"},\"type\":\"mesh3d\"}],\"parcoords\":[{\"line\":{\"colorbar\":{\"outlinewidth\":0,\"ticks\":\"\"}},\"type\":\"parcoords\"}],\"pie\":[{\"automargin\":true,\"type\":\"pie\"}],\"scatter3d\":[{\"line\":{\"colorbar\":{\"outlinewidth\":0,\"ticks\":\"\"}},\"marker\":{\"colorbar\":{\"outlinewidth\":0,\"ticks\":\"\"}},\"type\":\"scatter3d\"}],\"scattercarpet\":[{\"marker\":{\"colorbar\":{\"outlinewidth\":0,\"ticks\":\"\"}},\"type\":\"scattercarpet\"}],\"scattergeo\":[{\"marker\":{\"colorbar\":{\"outlinewidth\":0,\"ticks\":\"\"}},\"type\":\"scattergeo\"}],\"scattergl\":[{\"marker\":{\"colorbar\":{\"outlinewidth\":0,\"ticks\":\"\"}},\"type\":\"scattergl\"}],\"scattermapbox\":[{\"marker\":{\"colorbar\":{\"outlinewidth\":0,\"ticks\":\"\"}},\"type\":\"scattermapbox\"}],\"scatterpolargl\":[{\"marker\":{\"colorbar\":{\"outlinewidth\":0,\"ticks\":\"\"}},\"type\":\"scatterpolargl\"}],\"scatterpolar\":[{\"marker\":{\"colorbar\":{\"outlinewidth\":0,\"ticks\":\"\"}},\"type\":\"scatterpolar\"}],\"scatter\":[{\"fillpattern\":{\"fillmode\":\"overlay\",\"size\":10,\"solidity\":0.2},\"type\":\"scatter\"}],\"scatterternary\":[{\"marker\":{\"colorbar\":{\"outlinewidth\":0,\"ticks\":\"\"}},\"type\":\"scatterternary\"}],\"surface\":[{\"colorbar\":{\"outlinewidth\":0,\"ticks\":\"\"},\"colorscale\":[[0.0,\"#0d0887\"],[0.1111111111111111,\"#46039f\"],[0.2222222222222222,\"#7201a8\"],[0.3333333333333333,\"#9c179e\"],[0.4444444444444444,\"#bd3786\"],[0.5555555555555556,\"#d8576b\"],[0.6666666666666666,\"#ed7953\"],[0.7777777777777778,\"#fb9f3a\"],[0.8888888888888888,\"#fdca26\"],[1.0,\"#f0f921\"]],\"type\":\"surface\"}],\"table\":[{\"cells\":{\"fill\":{\"color\":\"#EBF0F8\"},\"line\":{\"color\":\"white\"}},\"header\":{\"fill\":{\"color\":\"#C8D4E3\"},\"line\":{\"color\":\"white\"}},\"type\":\"table\"}]},\"layout\":{\"annotationdefaults\":{\"arrowcolor\":\"#2a3f5f\",\"arrowhead\":0,\"arrowwidth\":1},\"autotypenumbers\":\"strict\",\"coloraxis\":{\"colorbar\":{\"outlinewidth\":0,\"ticks\":\"\"}},\"colorscale\":{\"diverging\":[[0,\"#8e0152\"],[0.1,\"#c51b7d\"],[0.2,\"#de77ae\"],[0.3,\"#f1b6da\"],[0.4,\"#fde0ef\"],[0.5,\"#f7f7f7\"],[0.6,\"#e6f5d0\"],[0.7,\"#b8e186\"],[0.8,\"#7fbc41\"],[0.9,\"#4d9221\"],[1,\"#276419\"]],\"sequential\":[[0.0,\"#0d0887\"],[0.1111111111111111,\"#46039f\"],[0.2222222222222222,\"#7201a8\"],[0.3333333333333333,\"#9c179e\"],[0.4444444444444444,\"#bd3786\"],[0.5555555555555556,\"#d8576b\"],[0.6666666666666666,\"#ed7953\"],[0.7777777777777778,\"#fb9f3a\"],[0.8888888888888888,\"#fdca26\"],[1.0,\"#f0f921\"]],\"sequentialminus\":[[0.0,\"#0d0887\"],[0.1111111111111111,\"#46039f\"],[0.2222222222222222,\"#7201a8\"],[0.3333333333333333,\"#9c179e\"],[0.4444444444444444,\"#bd3786\"],[0.5555555555555556,\"#d8576b\"],[0.6666666666666666,\"#ed7953\"],[0.7777777777777778,\"#fb9f3a\"],[0.8888888888888888,\"#fdca26\"],[1.0,\"#f0f921\"]]},\"colorway\":[\"#636efa\",\"#EF553B\",\"#00cc96\",\"#ab63fa\",\"#FFA15A\",\"#19d3f3\",\"#FF6692\",\"#B6E880\",\"#FF97FF\",\"#FECB52\"],\"font\":{\"color\":\"#2a3f5f\"},\"geo\":{\"bgcolor\":\"white\",\"lakecolor\":\"white\",\"landcolor\":\"#E5ECF6\",\"showlakes\":true,\"showland\":true,\"subunitcolor\":\"white\"},\"hoverlabel\":{\"align\":\"left\"},\"hovermode\":\"closest\",\"mapbox\":{\"style\":\"light\"},\"paper_bgcolor\":\"white\",\"plot_bgcolor\":\"#E5ECF6\",\"polar\":{\"angularaxis\":{\"gridcolor\":\"white\",\"linecolor\":\"white\",\"ticks\":\"\"},\"bgcolor\":\"#E5ECF6\",\"radialaxis\":{\"gridcolor\":\"white\",\"linecolor\":\"white\",\"ticks\":\"\"}},\"scene\":{\"xaxis\":{\"backgroundcolor\":\"#E5ECF6\",\"gridcolor\":\"white\",\"gridwidth\":2,\"linecolor\":\"white\",\"showbackground\":true,\"ticks\":\"\",\"zerolinecolor\":\"white\"},\"yaxis\":{\"backgroundcolor\":\"#E5ECF6\",\"gridcolor\":\"white\",\"gridwidth\":2,\"linecolor\":\"white\",\"showbackground\":true,\"ticks\":\"\",\"zerolinecolor\":\"white\"},\"zaxis\":{\"backgroundcolor\":\"#E5ECF6\",\"gridcolor\":\"white\",\"gridwidth\":2,\"linecolor\":\"white\",\"showbackground\":true,\"ticks\":\"\",\"zerolinecolor\":\"white\"}},\"shapedefaults\":{\"line\":{\"color\":\"#2a3f5f\"}},\"ternary\":{\"aaxis\":{\"gridcolor\":\"white\",\"linecolor\":\"white\",\"ticks\":\"\"},\"baxis\":{\"gridcolor\":\"white\",\"linecolor\":\"white\",\"ticks\":\"\"},\"bgcolor\":\"#E5ECF6\",\"caxis\":{\"gridcolor\":\"white\",\"linecolor\":\"white\",\"ticks\":\"\"}},\"title\":{\"x\":0.05},\"xaxis\":{\"automargin\":true,\"gridcolor\":\"white\",\"linecolor\":\"white\",\"ticks\":\"\",\"title\":{\"standoff\":15},\"zerolinecolor\":\"white\",\"zerolinewidth\":2},\"yaxis\":{\"automargin\":true,\"gridcolor\":\"white\",\"linecolor\":\"white\",\"ticks\":\"\",\"title\":{\"standoff\":15},\"zerolinecolor\":\"white\",\"zerolinewidth\":2}}},\"title\":{\"font\":{\"color\":\"#4D5663\"}},\"xaxis\":{\"gridcolor\":\"#E1E5ED\",\"showgrid\":true,\"tickfont\":{\"color\":\"#4D5663\"},\"title\":{\"font\":{\"color\":\"#4D5663\"},\"text\":\"\"},\"zerolinecolor\":\"#E1E5ED\"},\"yaxis\":{\"gridcolor\":\"#E1E5ED\",\"showgrid\":true,\"tickfont\":{\"color\":\"#4D5663\"},\"title\":{\"font\":{\"color\":\"#4D5663\"},\"text\":\"\"},\"zerolinecolor\":\"#E1E5ED\"}},                        {\"showLink\": true, \"linkText\": \"Export to plot.ly\", \"plotlyServerURL\": \"https://plot.ly\", \"responsive\": true}                    ).then(function(){\n",
       "                            \n",
       "var gd = document.getElementById('ee06153c-c21a-4a31-be35-400188116f1e');\n",
       "var x = new MutationObserver(function (mutations, observer) {{\n",
       "        var display = window.getComputedStyle(gd).display;\n",
       "        if (!display || display === 'none') {{\n",
       "            console.log([gd, 'removed!']);\n",
       "            Plotly.purge(gd);\n",
       "            observer.disconnect();\n",
       "        }}\n",
       "}});\n",
       "\n",
       "// Listen for the removal of the full notebook cells\n",
       "var notebookContainer = gd.closest('#notebook-container');\n",
       "if (notebookContainer) {{\n",
       "    x.observe(notebookContainer, {childList: true});\n",
       "}}\n",
       "\n",
       "// Listen for the clearing of the current output cell\n",
       "var outputEl = gd.closest('.output');\n",
       "if (outputEl) {{\n",
       "    x.observe(outputEl, {childList: true});\n",
       "}}\n",
       "\n",
       "                        })                };                });            </script>        </div>"
      ]
     },
     "metadata": {},
     "output_type": "display_data"
    }
   ],
   "source": [
    "df1.sum().iplot(kind=\"bar\")"
   ]
  },
  {
   "cell_type": "code",
   "execution_count": 45,
   "id": "9e1aa7ae",
   "metadata": {},
   "outputs": [
    {
     "data": {
      "application/vnd.plotly.v1+json": {
       "config": {
        "linkText": "Export to plot.ly",
        "plotlyServerURL": "https://plot.ly",
        "showLink": true
       },
       "data": [
        {
         "boxpoints": false,
         "line": {
          "width": 1.3
         },
         "marker": {
          "color": "rgba(255, 153, 51, 1.0)"
         },
         "name": "A",
         "orientation": "v",
         "type": "box",
         "y": [
          0.2249574122485187,
          -0.14261442417502293,
          -0.2550693898234665,
          0.685612907940947,
          1.6696377029416647,
          -0.6276630448948421,
          -0.3675932197581956,
          0.8601065321997801,
          0.3029584160575629,
          1.4871959331592248,
          -1.1402052303681383,
          -0.10363052533320498,
          -1.227114249882769,
          1.0517098065952517,
          0.18111386197406235,
          -0.6224553189786596,
          -1.1914704485957508,
          0.6505610670402162,
          -1.0311546827111027,
          -0.3220045091127159,
          0.6201846864041929,
          -0.3136670563097545,
          0.3122077103270754,
          0.9019905430898144,
          0.7314170684298197,
          -0.840305166395734,
          -1.1196562155436376,
          0.22835011296288307,
          -0.21548374150626115,
          -0.07777464559266904,
          -2.197928658415042,
          -0.28835600690837554,
          -0.12235519259126607,
          -1.3580351035282827,
          0.2132605551579515,
          0.46070651683040154,
          0.7963444611084912,
          0.1094805824159229,
          -0.6102506779738078,
          1.1329129967541405,
          -0.5065961707940483,
          0.3745901537387485,
          0.7946114378721225,
          1.1465167276749233,
          -2.0553288125734057,
          0.10100751854400598,
          0.6645436919180743,
          -2.412988684855048,
          0.5122070039497443,
          1.4030992357915617,
          0.24913590252340764,
          -1.4870597006201085,
          -1.3661838507640083,
          -0.1519904820928337,
          0.4088874943908349,
          0.28921834149417314,
          -0.5477050903562732,
          -1.00334077408219,
          -1.9782068285772612,
          -1.559539636679243,
          1.1878319779769697,
          -0.5514926543266923,
          -1.239928895872855,
          1.361883671248535,
          0.6178324441029704,
          0.9377043609805684,
          0.403641750993754,
          -1.9264422169236457,
          -0.39329684106780577,
          -0.18962422021135977,
          0.4309102642418277,
          0.13416483620471115,
          -1.8475271675664917,
          1.276656958413032,
          0.5536066672322233,
          0.7451250480407975,
          -1.1885494428288137,
          0.808597310965037,
          -0.049207908473800556,
          0.1822632839586508,
          1.09853989816661,
          -1.9058038090611038,
          -0.538794190231828,
          0.28458672788291245,
          -1.7107356167627255,
          0.35184119723705537,
          -1.3012008916908282,
          -0.9108700963300996,
          -0.838242587698326,
          1.5118378297958461,
          -0.525715085033998,
          -0.5280227761153535,
          1.5009480547986114,
          -1.1882945291476716,
          -1.2722134708587935,
          -0.25068439424681555,
          -1.0076209780516017,
          -0.742483026883699,
          -0.5971237711770452,
          -0.06812184219397695
         ]
        },
        {
         "boxpoints": false,
         "line": {
          "width": 1.3
         },
         "marker": {
          "color": "rgba(55, 128, 191, 1.0)"
         },
         "name": "B",
         "orientation": "v",
         "type": "box",
         "y": [
          0.7729328845998267,
          -0.2950040513273714,
          0.09520908744315867,
          1.441071495404537,
          0.10166534711461274,
          -0.8693316971690324,
          0.979562167355205,
          -0.8654708786854032,
          -0.2870011317161067,
          -1.5300959310749473,
          0.8368972285896891,
          1.8496175673476036,
          -1.2477780681015862,
          0.4215338133150978,
          0.4917663948454245,
          0.9781736006519686,
          0.9347198820348527,
          -0.36365393310839655,
          -1.5200057839806334,
          -0.8670452957430184,
          -0.788241493679069,
          -0.5477438420825249,
          0.04336683059551982,
          0.18091119066448572,
          0.10213061681864892,
          0.9561820138080441,
          0.6360305156843183,
          0.8148193265235719,
          -0.7243357866209025,
          -1.7094201272778604,
          0.7049069031486167,
          -1.6929017104546837,
          -1.351434770601901,
          0.5400726790334075,
          -0.9089948988816058,
          0.6865655449142279,
          0.07603430008983052,
          -0.9119736366526259,
          1.1017361476428449,
          0.3310632043893103,
          -0.668250051067514,
          0.485161547116454,
          0.3774165281634454,
          1.2433965952711497,
          -0.8535662136692201,
          0.9651085753827604,
          -0.12577055249933197,
          0.2315793282956873,
          1.094271953610481,
          0.45475229561547326,
          -0.1926373637868699,
          -0.32561960234374177,
          -2.1906627063088835,
          2.337836470426464,
          -0.8169000173085379,
          -1.0567080408048166,
          -2.137216564597913,
          2.8063834954575566,
          -0.9480034566417574,
          0.07441797086764544,
          -1.9894922466089366,
          1.6497669533081567,
          -0.12560768412915277,
          1.0167088823279065,
          1.2651059424362803,
          1.218624446338318,
          -2.5148357286791554,
          -0.6143555014834721,
          -2.1475638559430856,
          -0.9632014475924506,
          0.14276846625931602,
          0.35315951521897926,
          -0.4451647014676167,
          -1.344538665604799,
          1.5703460188585443,
          1.1649900207213846,
          -1.1327050573844177,
          0.30148592567161836,
          0.33369126307640595,
          -1.2513016080325425,
          -1.3740431730549505,
          0.6582137883417819,
          -0.3898943074688618,
          0.36245937168862513,
          0.47462451095442765,
          -2.077087683940318,
          -0.03158422387106401,
          0.3412955156808295,
          0.4860490073614476,
          -0.42109861637466595,
          1.2486711513798276,
          0.6810153620726337,
          0.21709393315480308,
          -0.7575392105538545,
          0.12553478007756078,
          0.33217504596304537,
          0.5983073107261221,
          -2.2161251644675217,
          0.5324550065592877,
          -0.5973104555594871
         ]
        },
        {
         "boxpoints": false,
         "line": {
          "width": 1.3
         },
         "marker": {
          "color": "rgba(50, 171, 96, 1.0)"
         },
         "name": "C",
         "orientation": "v",
         "type": "box",
         "y": [
          -1.407703631343671,
          0.5140329231436118,
          1.3131158131992584,
          -2.212928852152698,
          0.5173563987333515,
          0.34706084032851675,
          -0.5929210703964634,
          0.13813863792706588,
          0.7003144907738252,
          0.8797191494749702,
          0.29137863584603657,
          0.412210553403753,
          -0.7917919162256702,
          0.23380419921599765,
          0.7006363554579161,
          -0.19401780265160595,
          0.0871652750797159,
          0.12109102906606106,
          -0.4856774751621975,
          -0.33503656199224263,
          0.989305797207836,
          0.15082348550530683,
          0.4704807568828661,
          1.0831894299838418,
          0.3586295958501063,
          0.1915945076598596,
          -1.5022291531005783,
          1.4038913461155493,
          -2.3201172843085103,
          -0.7850084055935527,
          1.6416898072599189,
          0.8740064232601772,
          0.5855214404280811,
          0.14953267259073877,
          -0.7168148311985317,
          -0.5110533822942064,
          -0.6965664504104578,
          -0.19578700620630154,
          0.14780867769351586,
          1.1463301563682267,
          -0.45084299243755643,
          -1.432352328786134,
          -2.0578758871075524,
          -0.6875762164963011,
          0.5095140262897756,
          -0.13186026363396183,
          -0.13804039155615058,
          0.41595434931612085,
          0.39940419070713673,
          0.1720714416492082,
          1.2358173790766753,
          0.2564077760910809,
          1.1783928031922872,
          -0.32641311365649067,
          0.23858826873596783,
          -0.14203601038533445,
          -0.3645621499967152,
          0.18016270082759867,
          -0.6928018108236371,
          -2.104313369439946,
          -0.3633633809793382,
          0.3020055011942023,
          0.7122464940533162,
          -0.8554495413250128,
          -0.01817109422354125,
          -1.0072561535251414,
          0.007045125592761505,
          -0.8047034046048044,
          -0.8133706531485041,
          -0.026216939791767715,
          -1.8034397312235693,
          0.13761848980876704,
          2.2825978897893187,
          0.0944423889260254,
          -0.6335379203958453,
          0.5293411405886458,
          -1.8191640037863301,
          0.26903546964548747,
          1.2290653193686019,
          -0.05392103233269685,
          -1.021614999145513,
          0.2492397807664952,
          0.5700615041724898,
          0.8501408763354436,
          -0.3152259965012949,
          2.080110221272923,
          -0.6302027942250683,
          0.8567247070030546,
          0.3127734152662034,
          1.2741981219816176,
          0.9127376031649637,
          0.5166083951090601,
          0.2475442944341499,
          -0.4239327618190913,
          -1.2485199555196693,
          0.47098675354359276,
          -0.6394284322963346,
          -2.755316239582588,
          0.9120545301067184,
          -0.7607109933566386
         ]
        },
        {
         "boxpoints": false,
         "line": {
          "width": 1.3
         },
         "marker": {
          "color": "rgba(128, 0, 128, 1.0)"
         },
         "name": "D",
         "orientation": "v",
         "type": "box",
         "y": [
          0.687400710884295,
          1.292329185879667,
          -1.4451549140024476,
          2.4212652941715733,
          -0.5990245298654623,
          -0.14312718252640605,
          1.0341838284171945,
          0.9168533072372855,
          -0.5239881601798092,
          -3.4614694117290363,
          -0.547162749247495,
          -0.2954205384119188,
          -0.6762104379883643,
          0.17942177831626702,
          -0.446784254558779,
          3.152472667088559,
          0.05366938922946379,
          0.2925464108958577,
          -0.9260514076904133,
          0.8666434042745934,
          -0.6788493093657786,
          -0.928452920672083,
          0.7490743212798445,
          -0.9910217690371543,
          -0.5099780597741604,
          -0.7729878731471892,
          0.1261095837182957,
          -2.173997852739537,
          0.13380187326526857,
          -0.03383492214686325,
          -1.0540827763670386,
          0.5722797189713448,
          -0.10047293394388912,
          -1.4115711035698897,
          -1.123541015090475,
          -0.7485896007773215,
          1.1621777066193428,
          0.31034667529675075,
          -0.5478548465244522,
          1.1053754476640354,
          0.6724786658427715,
          1.417592390164073,
          0.1763335278094863,
          -0.4759008789741875,
          -0.529021806162886,
          -0.8780406205670047,
          -0.4670899375138714,
          0.12021124416462858,
          -1.1638589701666413,
          -0.2718286124947359,
          0.4944119559453498,
          0.612862017516745,
          2.0620936369339837,
          -0.5498957432666844,
          0.21091506283573025,
          0.8960109115496354,
          -0.08446203183891707,
          1.495063178165726,
          0.7921963932506242,
          0.9706531868794951,
          0.5442650593702897,
          -0.06695152379828094,
          -0.031671739135709996,
          -0.3282615102156579,
          -0.8570800998138681,
          -1.1631087687318071,
          1.319037497800597,
          0.010885976841033509,
          -0.16632739692236823,
          0.2784643719376399,
          -0.06477373031704924,
          -0.8110155425857067,
          0.46462041479311506,
          -0.29344170889783944,
          0.9418749445032143,
          -0.9145351980427542,
          1.5989467259671475,
          -0.3123143304487573,
          -1.7312174953372057,
          -0.9701391400874365,
          -1.263680840458927,
          1.6221377826941585,
          -1.929638890370037,
          -0.00807621149389771,
          -1.1116686536071216,
          -1.3142471793168062,
          -0.2677781320562748,
          -0.029451177327852074,
          0.6886728047322884,
          0.6228839741607755,
          1.048817636224244,
          -1.2720622979819218,
          -0.16208924811986883,
          -0.3442025567829724,
          0.05865786141098669,
          0.33630770910042346,
          -0.021898720384863044,
          -0.9402976316913524,
          -0.7092448432651228,
          0.6306365246150188
         ]
        }
       ],
       "layout": {
        "legend": {
         "bgcolor": "#F5F6F9",
         "font": {
          "color": "#4D5663"
         }
        },
        "paper_bgcolor": "#F5F6F9",
        "plot_bgcolor": "#F5F6F9",
        "template": {
         "data": {
          "bar": [
           {
            "error_x": {
             "color": "#2a3f5f"
            },
            "error_y": {
             "color": "#2a3f5f"
            },
            "marker": {
             "line": {
              "color": "#E5ECF6",
              "width": 0.5
             },
             "pattern": {
              "fillmode": "overlay",
              "size": 10,
              "solidity": 0.2
             }
            },
            "type": "bar"
           }
          ],
          "barpolar": [
           {
            "marker": {
             "line": {
              "color": "#E5ECF6",
              "width": 0.5
             },
             "pattern": {
              "fillmode": "overlay",
              "size": 10,
              "solidity": 0.2
             }
            },
            "type": "barpolar"
           }
          ],
          "carpet": [
           {
            "aaxis": {
             "endlinecolor": "#2a3f5f",
             "gridcolor": "white",
             "linecolor": "white",
             "minorgridcolor": "white",
             "startlinecolor": "#2a3f5f"
            },
            "baxis": {
             "endlinecolor": "#2a3f5f",
             "gridcolor": "white",
             "linecolor": "white",
             "minorgridcolor": "white",
             "startlinecolor": "#2a3f5f"
            },
            "type": "carpet"
           }
          ],
          "choropleth": [
           {
            "colorbar": {
             "outlinewidth": 0,
             "ticks": ""
            },
            "type": "choropleth"
           }
          ],
          "contour": [
           {
            "colorbar": {
             "outlinewidth": 0,
             "ticks": ""
            },
            "colorscale": [
             [
              0,
              "#0d0887"
             ],
             [
              0.1111111111111111,
              "#46039f"
             ],
             [
              0.2222222222222222,
              "#7201a8"
             ],
             [
              0.3333333333333333,
              "#9c179e"
             ],
             [
              0.4444444444444444,
              "#bd3786"
             ],
             [
              0.5555555555555556,
              "#d8576b"
             ],
             [
              0.6666666666666666,
              "#ed7953"
             ],
             [
              0.7777777777777778,
              "#fb9f3a"
             ],
             [
              0.8888888888888888,
              "#fdca26"
             ],
             [
              1,
              "#f0f921"
             ]
            ],
            "type": "contour"
           }
          ],
          "contourcarpet": [
           {
            "colorbar": {
             "outlinewidth": 0,
             "ticks": ""
            },
            "type": "contourcarpet"
           }
          ],
          "heatmap": [
           {
            "colorbar": {
             "outlinewidth": 0,
             "ticks": ""
            },
            "colorscale": [
             [
              0,
              "#0d0887"
             ],
             [
              0.1111111111111111,
              "#46039f"
             ],
             [
              0.2222222222222222,
              "#7201a8"
             ],
             [
              0.3333333333333333,
              "#9c179e"
             ],
             [
              0.4444444444444444,
              "#bd3786"
             ],
             [
              0.5555555555555556,
              "#d8576b"
             ],
             [
              0.6666666666666666,
              "#ed7953"
             ],
             [
              0.7777777777777778,
              "#fb9f3a"
             ],
             [
              0.8888888888888888,
              "#fdca26"
             ],
             [
              1,
              "#f0f921"
             ]
            ],
            "type": "heatmap"
           }
          ],
          "heatmapgl": [
           {
            "colorbar": {
             "outlinewidth": 0,
             "ticks": ""
            },
            "colorscale": [
             [
              0,
              "#0d0887"
             ],
             [
              0.1111111111111111,
              "#46039f"
             ],
             [
              0.2222222222222222,
              "#7201a8"
             ],
             [
              0.3333333333333333,
              "#9c179e"
             ],
             [
              0.4444444444444444,
              "#bd3786"
             ],
             [
              0.5555555555555556,
              "#d8576b"
             ],
             [
              0.6666666666666666,
              "#ed7953"
             ],
             [
              0.7777777777777778,
              "#fb9f3a"
             ],
             [
              0.8888888888888888,
              "#fdca26"
             ],
             [
              1,
              "#f0f921"
             ]
            ],
            "type": "heatmapgl"
           }
          ],
          "histogram": [
           {
            "marker": {
             "pattern": {
              "fillmode": "overlay",
              "size": 10,
              "solidity": 0.2
             }
            },
            "type": "histogram"
           }
          ],
          "histogram2d": [
           {
            "colorbar": {
             "outlinewidth": 0,
             "ticks": ""
            },
            "colorscale": [
             [
              0,
              "#0d0887"
             ],
             [
              0.1111111111111111,
              "#46039f"
             ],
             [
              0.2222222222222222,
              "#7201a8"
             ],
             [
              0.3333333333333333,
              "#9c179e"
             ],
             [
              0.4444444444444444,
              "#bd3786"
             ],
             [
              0.5555555555555556,
              "#d8576b"
             ],
             [
              0.6666666666666666,
              "#ed7953"
             ],
             [
              0.7777777777777778,
              "#fb9f3a"
             ],
             [
              0.8888888888888888,
              "#fdca26"
             ],
             [
              1,
              "#f0f921"
             ]
            ],
            "type": "histogram2d"
           }
          ],
          "histogram2dcontour": [
           {
            "colorbar": {
             "outlinewidth": 0,
             "ticks": ""
            },
            "colorscale": [
             [
              0,
              "#0d0887"
             ],
             [
              0.1111111111111111,
              "#46039f"
             ],
             [
              0.2222222222222222,
              "#7201a8"
             ],
             [
              0.3333333333333333,
              "#9c179e"
             ],
             [
              0.4444444444444444,
              "#bd3786"
             ],
             [
              0.5555555555555556,
              "#d8576b"
             ],
             [
              0.6666666666666666,
              "#ed7953"
             ],
             [
              0.7777777777777778,
              "#fb9f3a"
             ],
             [
              0.8888888888888888,
              "#fdca26"
             ],
             [
              1,
              "#f0f921"
             ]
            ],
            "type": "histogram2dcontour"
           }
          ],
          "mesh3d": [
           {
            "colorbar": {
             "outlinewidth": 0,
             "ticks": ""
            },
            "type": "mesh3d"
           }
          ],
          "parcoords": [
           {
            "line": {
             "colorbar": {
              "outlinewidth": 0,
              "ticks": ""
             }
            },
            "type": "parcoords"
           }
          ],
          "pie": [
           {
            "automargin": true,
            "type": "pie"
           }
          ],
          "scatter": [
           {
            "fillpattern": {
             "fillmode": "overlay",
             "size": 10,
             "solidity": 0.2
            },
            "type": "scatter"
           }
          ],
          "scatter3d": [
           {
            "line": {
             "colorbar": {
              "outlinewidth": 0,
              "ticks": ""
             }
            },
            "marker": {
             "colorbar": {
              "outlinewidth": 0,
              "ticks": ""
             }
            },
            "type": "scatter3d"
           }
          ],
          "scattercarpet": [
           {
            "marker": {
             "colorbar": {
              "outlinewidth": 0,
              "ticks": ""
             }
            },
            "type": "scattercarpet"
           }
          ],
          "scattergeo": [
           {
            "marker": {
             "colorbar": {
              "outlinewidth": 0,
              "ticks": ""
             }
            },
            "type": "scattergeo"
           }
          ],
          "scattergl": [
           {
            "marker": {
             "colorbar": {
              "outlinewidth": 0,
              "ticks": ""
             }
            },
            "type": "scattergl"
           }
          ],
          "scattermapbox": [
           {
            "marker": {
             "colorbar": {
              "outlinewidth": 0,
              "ticks": ""
             }
            },
            "type": "scattermapbox"
           }
          ],
          "scatterpolar": [
           {
            "marker": {
             "colorbar": {
              "outlinewidth": 0,
              "ticks": ""
             }
            },
            "type": "scatterpolar"
           }
          ],
          "scatterpolargl": [
           {
            "marker": {
             "colorbar": {
              "outlinewidth": 0,
              "ticks": ""
             }
            },
            "type": "scatterpolargl"
           }
          ],
          "scatterternary": [
           {
            "marker": {
             "colorbar": {
              "outlinewidth": 0,
              "ticks": ""
             }
            },
            "type": "scatterternary"
           }
          ],
          "surface": [
           {
            "colorbar": {
             "outlinewidth": 0,
             "ticks": ""
            },
            "colorscale": [
             [
              0,
              "#0d0887"
             ],
             [
              0.1111111111111111,
              "#46039f"
             ],
             [
              0.2222222222222222,
              "#7201a8"
             ],
             [
              0.3333333333333333,
              "#9c179e"
             ],
             [
              0.4444444444444444,
              "#bd3786"
             ],
             [
              0.5555555555555556,
              "#d8576b"
             ],
             [
              0.6666666666666666,
              "#ed7953"
             ],
             [
              0.7777777777777778,
              "#fb9f3a"
             ],
             [
              0.8888888888888888,
              "#fdca26"
             ],
             [
              1,
              "#f0f921"
             ]
            ],
            "type": "surface"
           }
          ],
          "table": [
           {
            "cells": {
             "fill": {
              "color": "#EBF0F8"
             },
             "line": {
              "color": "white"
             }
            },
            "header": {
             "fill": {
              "color": "#C8D4E3"
             },
             "line": {
              "color": "white"
             }
            },
            "type": "table"
           }
          ]
         },
         "layout": {
          "annotationdefaults": {
           "arrowcolor": "#2a3f5f",
           "arrowhead": 0,
           "arrowwidth": 1
          },
          "autotypenumbers": "strict",
          "coloraxis": {
           "colorbar": {
            "outlinewidth": 0,
            "ticks": ""
           }
          },
          "colorscale": {
           "diverging": [
            [
             0,
             "#8e0152"
            ],
            [
             0.1,
             "#c51b7d"
            ],
            [
             0.2,
             "#de77ae"
            ],
            [
             0.3,
             "#f1b6da"
            ],
            [
             0.4,
             "#fde0ef"
            ],
            [
             0.5,
             "#f7f7f7"
            ],
            [
             0.6,
             "#e6f5d0"
            ],
            [
             0.7,
             "#b8e186"
            ],
            [
             0.8,
             "#7fbc41"
            ],
            [
             0.9,
             "#4d9221"
            ],
            [
             1,
             "#276419"
            ]
           ],
           "sequential": [
            [
             0,
             "#0d0887"
            ],
            [
             0.1111111111111111,
             "#46039f"
            ],
            [
             0.2222222222222222,
             "#7201a8"
            ],
            [
             0.3333333333333333,
             "#9c179e"
            ],
            [
             0.4444444444444444,
             "#bd3786"
            ],
            [
             0.5555555555555556,
             "#d8576b"
            ],
            [
             0.6666666666666666,
             "#ed7953"
            ],
            [
             0.7777777777777778,
             "#fb9f3a"
            ],
            [
             0.8888888888888888,
             "#fdca26"
            ],
            [
             1,
             "#f0f921"
            ]
           ],
           "sequentialminus": [
            [
             0,
             "#0d0887"
            ],
            [
             0.1111111111111111,
             "#46039f"
            ],
            [
             0.2222222222222222,
             "#7201a8"
            ],
            [
             0.3333333333333333,
             "#9c179e"
            ],
            [
             0.4444444444444444,
             "#bd3786"
            ],
            [
             0.5555555555555556,
             "#d8576b"
            ],
            [
             0.6666666666666666,
             "#ed7953"
            ],
            [
             0.7777777777777778,
             "#fb9f3a"
            ],
            [
             0.8888888888888888,
             "#fdca26"
            ],
            [
             1,
             "#f0f921"
            ]
           ]
          },
          "colorway": [
           "#636efa",
           "#EF553B",
           "#00cc96",
           "#ab63fa",
           "#FFA15A",
           "#19d3f3",
           "#FF6692",
           "#B6E880",
           "#FF97FF",
           "#FECB52"
          ],
          "font": {
           "color": "#2a3f5f"
          },
          "geo": {
           "bgcolor": "white",
           "lakecolor": "white",
           "landcolor": "#E5ECF6",
           "showlakes": true,
           "showland": true,
           "subunitcolor": "white"
          },
          "hoverlabel": {
           "align": "left"
          },
          "hovermode": "closest",
          "mapbox": {
           "style": "light"
          },
          "paper_bgcolor": "white",
          "plot_bgcolor": "#E5ECF6",
          "polar": {
           "angularaxis": {
            "gridcolor": "white",
            "linecolor": "white",
            "ticks": ""
           },
           "bgcolor": "#E5ECF6",
           "radialaxis": {
            "gridcolor": "white",
            "linecolor": "white",
            "ticks": ""
           }
          },
          "scene": {
           "xaxis": {
            "backgroundcolor": "#E5ECF6",
            "gridcolor": "white",
            "gridwidth": 2,
            "linecolor": "white",
            "showbackground": true,
            "ticks": "",
            "zerolinecolor": "white"
           },
           "yaxis": {
            "backgroundcolor": "#E5ECF6",
            "gridcolor": "white",
            "gridwidth": 2,
            "linecolor": "white",
            "showbackground": true,
            "ticks": "",
            "zerolinecolor": "white"
           },
           "zaxis": {
            "backgroundcolor": "#E5ECF6",
            "gridcolor": "white",
            "gridwidth": 2,
            "linecolor": "white",
            "showbackground": true,
            "ticks": "",
            "zerolinecolor": "white"
           }
          },
          "shapedefaults": {
           "line": {
            "color": "#2a3f5f"
           }
          },
          "ternary": {
           "aaxis": {
            "gridcolor": "white",
            "linecolor": "white",
            "ticks": ""
           },
           "baxis": {
            "gridcolor": "white",
            "linecolor": "white",
            "ticks": ""
           },
           "bgcolor": "#E5ECF6",
           "caxis": {
            "gridcolor": "white",
            "linecolor": "white",
            "ticks": ""
           }
          },
          "title": {
           "x": 0.05
          },
          "xaxis": {
           "automargin": true,
           "gridcolor": "white",
           "linecolor": "white",
           "ticks": "",
           "title": {
            "standoff": 15
           },
           "zerolinecolor": "white",
           "zerolinewidth": 2
          },
          "yaxis": {
           "automargin": true,
           "gridcolor": "white",
           "linecolor": "white",
           "ticks": "",
           "title": {
            "standoff": 15
           },
           "zerolinecolor": "white",
           "zerolinewidth": 2
          }
         }
        },
        "title": {
         "font": {
          "color": "#4D5663"
         }
        },
        "xaxis": {
         "gridcolor": "#E1E5ED",
         "showgrid": true,
         "tickfont": {
          "color": "#4D5663"
         },
         "title": {
          "font": {
           "color": "#4D5663"
          },
          "text": ""
         },
         "zerolinecolor": "#E1E5ED"
        },
        "yaxis": {
         "gridcolor": "#E1E5ED",
         "showgrid": true,
         "tickfont": {
          "color": "#4D5663"
         },
         "title": {
          "font": {
           "color": "#4D5663"
          },
          "text": ""
         },
         "zerolinecolor": "#E1E5ED"
        }
       }
      },
      "text/html": [
       "<div>                            <div id=\"9f17188c-8edf-455e-b2d5-af714c0212b0\" class=\"plotly-graph-div\" style=\"height:525px; width:100%;\"></div>            <script type=\"text/javascript\">                require([\"plotly\"], function(Plotly) {                    window.PLOTLYENV=window.PLOTLYENV || {};\n",
       "                    window.PLOTLYENV.BASE_URL='https://plot.ly';                                    if (document.getElementById(\"9f17188c-8edf-455e-b2d5-af714c0212b0\")) {                    Plotly.newPlot(                        \"9f17188c-8edf-455e-b2d5-af714c0212b0\",                        [{\"boxpoints\":false,\"line\":{\"width\":1.3},\"marker\":{\"color\":\"rgba(255, 153, 51, 1.0)\"},\"name\":\"A\",\"orientation\":\"v\",\"y\":[0.2249574122485187,-0.14261442417502293,-0.2550693898234665,0.685612907940947,1.6696377029416647,-0.6276630448948421,-0.3675932197581956,0.8601065321997801,0.3029584160575629,1.4871959331592248,-1.1402052303681383,-0.10363052533320498,-1.227114249882769,1.0517098065952517,0.18111386197406235,-0.6224553189786596,-1.1914704485957508,0.6505610670402162,-1.0311546827111027,-0.3220045091127159,0.6201846864041929,-0.3136670563097545,0.3122077103270754,0.9019905430898144,0.7314170684298197,-0.840305166395734,-1.1196562155436376,0.22835011296288307,-0.21548374150626115,-0.07777464559266904,-2.197928658415042,-0.28835600690837554,-0.12235519259126607,-1.3580351035282827,0.2132605551579515,0.46070651683040154,0.7963444611084912,0.1094805824159229,-0.6102506779738078,1.1329129967541405,-0.5065961707940483,0.3745901537387485,0.7946114378721225,1.1465167276749233,-2.0553288125734057,0.10100751854400598,0.6645436919180743,-2.412988684855048,0.5122070039497443,1.4030992357915617,0.24913590252340764,-1.4870597006201085,-1.3661838507640083,-0.1519904820928337,0.4088874943908349,0.28921834149417314,-0.5477050903562732,-1.00334077408219,-1.9782068285772612,-1.559539636679243,1.1878319779769697,-0.5514926543266923,-1.239928895872855,1.361883671248535,0.6178324441029704,0.9377043609805684,0.403641750993754,-1.9264422169236457,-0.39329684106780577,-0.18962422021135977,0.4309102642418277,0.13416483620471115,-1.8475271675664917,1.276656958413032,0.5536066672322233,0.7451250480407975,-1.1885494428288137,0.808597310965037,-0.049207908473800556,0.1822632839586508,1.09853989816661,-1.9058038090611038,-0.538794190231828,0.28458672788291245,-1.7107356167627255,0.35184119723705537,-1.3012008916908282,-0.9108700963300996,-0.838242587698326,1.5118378297958461,-0.525715085033998,-0.5280227761153535,1.5009480547986114,-1.1882945291476716,-1.2722134708587935,-0.25068439424681555,-1.0076209780516017,-0.742483026883699,-0.5971237711770452,-0.06812184219397695],\"type\":\"box\"},{\"boxpoints\":false,\"line\":{\"width\":1.3},\"marker\":{\"color\":\"rgba(55, 128, 191, 1.0)\"},\"name\":\"B\",\"orientation\":\"v\",\"y\":[0.7729328845998267,-0.2950040513273714,0.09520908744315867,1.441071495404537,0.10166534711461274,-0.8693316971690324,0.979562167355205,-0.8654708786854032,-0.2870011317161067,-1.5300959310749473,0.8368972285896891,1.8496175673476036,-1.2477780681015862,0.4215338133150978,0.4917663948454245,0.9781736006519686,0.9347198820348527,-0.36365393310839655,-1.5200057839806334,-0.8670452957430184,-0.788241493679069,-0.5477438420825249,0.04336683059551982,0.18091119066448572,0.10213061681864892,0.9561820138080441,0.6360305156843183,0.8148193265235719,-0.7243357866209025,-1.7094201272778604,0.7049069031486167,-1.6929017104546837,-1.351434770601901,0.5400726790334075,-0.9089948988816058,0.6865655449142279,0.07603430008983052,-0.9119736366526259,1.1017361476428449,0.3310632043893103,-0.668250051067514,0.485161547116454,0.3774165281634454,1.2433965952711497,-0.8535662136692201,0.9651085753827604,-0.12577055249933197,0.2315793282956873,1.094271953610481,0.45475229561547326,-0.1926373637868699,-0.32561960234374177,-2.1906627063088835,2.337836470426464,-0.8169000173085379,-1.0567080408048166,-2.137216564597913,2.8063834954575566,-0.9480034566417574,0.07441797086764544,-1.9894922466089366,1.6497669533081567,-0.12560768412915277,1.0167088823279065,1.2651059424362803,1.218624446338318,-2.5148357286791554,-0.6143555014834721,-2.1475638559430856,-0.9632014475924506,0.14276846625931602,0.35315951521897926,-0.4451647014676167,-1.344538665604799,1.5703460188585443,1.1649900207213846,-1.1327050573844177,0.30148592567161836,0.33369126307640595,-1.2513016080325425,-1.3740431730549505,0.6582137883417819,-0.3898943074688618,0.36245937168862513,0.47462451095442765,-2.077087683940318,-0.03158422387106401,0.3412955156808295,0.4860490073614476,-0.42109861637466595,1.2486711513798276,0.6810153620726337,0.21709393315480308,-0.7575392105538545,0.12553478007756078,0.33217504596304537,0.5983073107261221,-2.2161251644675217,0.5324550065592877,-0.5973104555594871],\"type\":\"box\"},{\"boxpoints\":false,\"line\":{\"width\":1.3},\"marker\":{\"color\":\"rgba(50, 171, 96, 1.0)\"},\"name\":\"C\",\"orientation\":\"v\",\"y\":[-1.407703631343671,0.5140329231436118,1.3131158131992584,-2.212928852152698,0.5173563987333515,0.34706084032851675,-0.5929210703964634,0.13813863792706588,0.7003144907738252,0.8797191494749702,0.29137863584603657,0.412210553403753,-0.7917919162256702,0.23380419921599765,0.7006363554579161,-0.19401780265160595,0.0871652750797159,0.12109102906606106,-0.4856774751621975,-0.33503656199224263,0.989305797207836,0.15082348550530683,0.4704807568828661,1.0831894299838418,0.3586295958501063,0.1915945076598596,-1.5022291531005783,1.4038913461155493,-2.3201172843085103,-0.7850084055935527,1.6416898072599189,0.8740064232601772,0.5855214404280811,0.14953267259073877,-0.7168148311985317,-0.5110533822942064,-0.6965664504104578,-0.19578700620630154,0.14780867769351586,1.1463301563682267,-0.45084299243755643,-1.432352328786134,-2.0578758871075524,-0.6875762164963011,0.5095140262897756,-0.13186026363396183,-0.13804039155615058,0.41595434931612085,0.39940419070713673,0.1720714416492082,1.2358173790766753,0.2564077760910809,1.1783928031922872,-0.32641311365649067,0.23858826873596783,-0.14203601038533445,-0.3645621499967152,0.18016270082759867,-0.6928018108236371,-2.104313369439946,-0.3633633809793382,0.3020055011942023,0.7122464940533162,-0.8554495413250128,-0.01817109422354125,-1.0072561535251414,0.007045125592761505,-0.8047034046048044,-0.8133706531485041,-0.026216939791767715,-1.8034397312235693,0.13761848980876704,2.2825978897893187,0.0944423889260254,-0.6335379203958453,0.5293411405886458,-1.8191640037863301,0.26903546964548747,1.2290653193686019,-0.05392103233269685,-1.021614999145513,0.2492397807664952,0.5700615041724898,0.8501408763354436,-0.3152259965012949,2.080110221272923,-0.6302027942250683,0.8567247070030546,0.3127734152662034,1.2741981219816176,0.9127376031649637,0.5166083951090601,0.2475442944341499,-0.4239327618190913,-1.2485199555196693,0.47098675354359276,-0.6394284322963346,-2.755316239582588,0.9120545301067184,-0.7607109933566386],\"type\":\"box\"},{\"boxpoints\":false,\"line\":{\"width\":1.3},\"marker\":{\"color\":\"rgba(128, 0, 128, 1.0)\"},\"name\":\"D\",\"orientation\":\"v\",\"y\":[0.687400710884295,1.292329185879667,-1.4451549140024476,2.4212652941715733,-0.5990245298654623,-0.14312718252640605,1.0341838284171945,0.9168533072372855,-0.5239881601798092,-3.4614694117290363,-0.547162749247495,-0.2954205384119188,-0.6762104379883643,0.17942177831626702,-0.446784254558779,3.152472667088559,0.05366938922946379,0.2925464108958577,-0.9260514076904133,0.8666434042745934,-0.6788493093657786,-0.928452920672083,0.7490743212798445,-0.9910217690371543,-0.5099780597741604,-0.7729878731471892,0.1261095837182957,-2.173997852739537,0.13380187326526857,-0.03383492214686325,-1.0540827763670386,0.5722797189713448,-0.10047293394388912,-1.4115711035698897,-1.123541015090475,-0.7485896007773215,1.1621777066193428,0.31034667529675075,-0.5478548465244522,1.1053754476640354,0.6724786658427715,1.417592390164073,0.1763335278094863,-0.4759008789741875,-0.529021806162886,-0.8780406205670047,-0.4670899375138714,0.12021124416462858,-1.1638589701666413,-0.2718286124947359,0.4944119559453498,0.612862017516745,2.0620936369339837,-0.5498957432666844,0.21091506283573025,0.8960109115496354,-0.08446203183891707,1.495063178165726,0.7921963932506242,0.9706531868794951,0.5442650593702897,-0.06695152379828094,-0.031671739135709996,-0.3282615102156579,-0.8570800998138681,-1.1631087687318071,1.319037497800597,0.010885976841033509,-0.16632739692236823,0.2784643719376399,-0.06477373031704924,-0.8110155425857067,0.46462041479311506,-0.29344170889783944,0.9418749445032143,-0.9145351980427542,1.5989467259671475,-0.3123143304487573,-1.7312174953372057,-0.9701391400874365,-1.263680840458927,1.6221377826941585,-1.929638890370037,-0.00807621149389771,-1.1116686536071216,-1.3142471793168062,-0.2677781320562748,-0.029451177327852074,0.6886728047322884,0.6228839741607755,1.048817636224244,-1.2720622979819218,-0.16208924811986883,-0.3442025567829724,0.05865786141098669,0.33630770910042346,-0.021898720384863044,-0.9402976316913524,-0.7092448432651228,0.6306365246150188],\"type\":\"box\"}],                        {\"legend\":{\"bgcolor\":\"#F5F6F9\",\"font\":{\"color\":\"#4D5663\"}},\"paper_bgcolor\":\"#F5F6F9\",\"plot_bgcolor\":\"#F5F6F9\",\"template\":{\"data\":{\"barpolar\":[{\"marker\":{\"line\":{\"color\":\"#E5ECF6\",\"width\":0.5},\"pattern\":{\"fillmode\":\"overlay\",\"size\":10,\"solidity\":0.2}},\"type\":\"barpolar\"}],\"bar\":[{\"error_x\":{\"color\":\"#2a3f5f\"},\"error_y\":{\"color\":\"#2a3f5f\"},\"marker\":{\"line\":{\"color\":\"#E5ECF6\",\"width\":0.5},\"pattern\":{\"fillmode\":\"overlay\",\"size\":10,\"solidity\":0.2}},\"type\":\"bar\"}],\"carpet\":[{\"aaxis\":{\"endlinecolor\":\"#2a3f5f\",\"gridcolor\":\"white\",\"linecolor\":\"white\",\"minorgridcolor\":\"white\",\"startlinecolor\":\"#2a3f5f\"},\"baxis\":{\"endlinecolor\":\"#2a3f5f\",\"gridcolor\":\"white\",\"linecolor\":\"white\",\"minorgridcolor\":\"white\",\"startlinecolor\":\"#2a3f5f\"},\"type\":\"carpet\"}],\"choropleth\":[{\"colorbar\":{\"outlinewidth\":0,\"ticks\":\"\"},\"type\":\"choropleth\"}],\"contourcarpet\":[{\"colorbar\":{\"outlinewidth\":0,\"ticks\":\"\"},\"type\":\"contourcarpet\"}],\"contour\":[{\"colorbar\":{\"outlinewidth\":0,\"ticks\":\"\"},\"colorscale\":[[0.0,\"#0d0887\"],[0.1111111111111111,\"#46039f\"],[0.2222222222222222,\"#7201a8\"],[0.3333333333333333,\"#9c179e\"],[0.4444444444444444,\"#bd3786\"],[0.5555555555555556,\"#d8576b\"],[0.6666666666666666,\"#ed7953\"],[0.7777777777777778,\"#fb9f3a\"],[0.8888888888888888,\"#fdca26\"],[1.0,\"#f0f921\"]],\"type\":\"contour\"}],\"heatmapgl\":[{\"colorbar\":{\"outlinewidth\":0,\"ticks\":\"\"},\"colorscale\":[[0.0,\"#0d0887\"],[0.1111111111111111,\"#46039f\"],[0.2222222222222222,\"#7201a8\"],[0.3333333333333333,\"#9c179e\"],[0.4444444444444444,\"#bd3786\"],[0.5555555555555556,\"#d8576b\"],[0.6666666666666666,\"#ed7953\"],[0.7777777777777778,\"#fb9f3a\"],[0.8888888888888888,\"#fdca26\"],[1.0,\"#f0f921\"]],\"type\":\"heatmapgl\"}],\"heatmap\":[{\"colorbar\":{\"outlinewidth\":0,\"ticks\":\"\"},\"colorscale\":[[0.0,\"#0d0887\"],[0.1111111111111111,\"#46039f\"],[0.2222222222222222,\"#7201a8\"],[0.3333333333333333,\"#9c179e\"],[0.4444444444444444,\"#bd3786\"],[0.5555555555555556,\"#d8576b\"],[0.6666666666666666,\"#ed7953\"],[0.7777777777777778,\"#fb9f3a\"],[0.8888888888888888,\"#fdca26\"],[1.0,\"#f0f921\"]],\"type\":\"heatmap\"}],\"histogram2dcontour\":[{\"colorbar\":{\"outlinewidth\":0,\"ticks\":\"\"},\"colorscale\":[[0.0,\"#0d0887\"],[0.1111111111111111,\"#46039f\"],[0.2222222222222222,\"#7201a8\"],[0.3333333333333333,\"#9c179e\"],[0.4444444444444444,\"#bd3786\"],[0.5555555555555556,\"#d8576b\"],[0.6666666666666666,\"#ed7953\"],[0.7777777777777778,\"#fb9f3a\"],[0.8888888888888888,\"#fdca26\"],[1.0,\"#f0f921\"]],\"type\":\"histogram2dcontour\"}],\"histogram2d\":[{\"colorbar\":{\"outlinewidth\":0,\"ticks\":\"\"},\"colorscale\":[[0.0,\"#0d0887\"],[0.1111111111111111,\"#46039f\"],[0.2222222222222222,\"#7201a8\"],[0.3333333333333333,\"#9c179e\"],[0.4444444444444444,\"#bd3786\"],[0.5555555555555556,\"#d8576b\"],[0.6666666666666666,\"#ed7953\"],[0.7777777777777778,\"#fb9f3a\"],[0.8888888888888888,\"#fdca26\"],[1.0,\"#f0f921\"]],\"type\":\"histogram2d\"}],\"histogram\":[{\"marker\":{\"pattern\":{\"fillmode\":\"overlay\",\"size\":10,\"solidity\":0.2}},\"type\":\"histogram\"}],\"mesh3d\":[{\"colorbar\":{\"outlinewidth\":0,\"ticks\":\"\"},\"type\":\"mesh3d\"}],\"parcoords\":[{\"line\":{\"colorbar\":{\"outlinewidth\":0,\"ticks\":\"\"}},\"type\":\"parcoords\"}],\"pie\":[{\"automargin\":true,\"type\":\"pie\"}],\"scatter3d\":[{\"line\":{\"colorbar\":{\"outlinewidth\":0,\"ticks\":\"\"}},\"marker\":{\"colorbar\":{\"outlinewidth\":0,\"ticks\":\"\"}},\"type\":\"scatter3d\"}],\"scattercarpet\":[{\"marker\":{\"colorbar\":{\"outlinewidth\":0,\"ticks\":\"\"}},\"type\":\"scattercarpet\"}],\"scattergeo\":[{\"marker\":{\"colorbar\":{\"outlinewidth\":0,\"ticks\":\"\"}},\"type\":\"scattergeo\"}],\"scattergl\":[{\"marker\":{\"colorbar\":{\"outlinewidth\":0,\"ticks\":\"\"}},\"type\":\"scattergl\"}],\"scattermapbox\":[{\"marker\":{\"colorbar\":{\"outlinewidth\":0,\"ticks\":\"\"}},\"type\":\"scattermapbox\"}],\"scatterpolargl\":[{\"marker\":{\"colorbar\":{\"outlinewidth\":0,\"ticks\":\"\"}},\"type\":\"scatterpolargl\"}],\"scatterpolar\":[{\"marker\":{\"colorbar\":{\"outlinewidth\":0,\"ticks\":\"\"}},\"type\":\"scatterpolar\"}],\"scatter\":[{\"fillpattern\":{\"fillmode\":\"overlay\",\"size\":10,\"solidity\":0.2},\"type\":\"scatter\"}],\"scatterternary\":[{\"marker\":{\"colorbar\":{\"outlinewidth\":0,\"ticks\":\"\"}},\"type\":\"scatterternary\"}],\"surface\":[{\"colorbar\":{\"outlinewidth\":0,\"ticks\":\"\"},\"colorscale\":[[0.0,\"#0d0887\"],[0.1111111111111111,\"#46039f\"],[0.2222222222222222,\"#7201a8\"],[0.3333333333333333,\"#9c179e\"],[0.4444444444444444,\"#bd3786\"],[0.5555555555555556,\"#d8576b\"],[0.6666666666666666,\"#ed7953\"],[0.7777777777777778,\"#fb9f3a\"],[0.8888888888888888,\"#fdca26\"],[1.0,\"#f0f921\"]],\"type\":\"surface\"}],\"table\":[{\"cells\":{\"fill\":{\"color\":\"#EBF0F8\"},\"line\":{\"color\":\"white\"}},\"header\":{\"fill\":{\"color\":\"#C8D4E3\"},\"line\":{\"color\":\"white\"}},\"type\":\"table\"}]},\"layout\":{\"annotationdefaults\":{\"arrowcolor\":\"#2a3f5f\",\"arrowhead\":0,\"arrowwidth\":1},\"autotypenumbers\":\"strict\",\"coloraxis\":{\"colorbar\":{\"outlinewidth\":0,\"ticks\":\"\"}},\"colorscale\":{\"diverging\":[[0,\"#8e0152\"],[0.1,\"#c51b7d\"],[0.2,\"#de77ae\"],[0.3,\"#f1b6da\"],[0.4,\"#fde0ef\"],[0.5,\"#f7f7f7\"],[0.6,\"#e6f5d0\"],[0.7,\"#b8e186\"],[0.8,\"#7fbc41\"],[0.9,\"#4d9221\"],[1,\"#276419\"]],\"sequential\":[[0.0,\"#0d0887\"],[0.1111111111111111,\"#46039f\"],[0.2222222222222222,\"#7201a8\"],[0.3333333333333333,\"#9c179e\"],[0.4444444444444444,\"#bd3786\"],[0.5555555555555556,\"#d8576b\"],[0.6666666666666666,\"#ed7953\"],[0.7777777777777778,\"#fb9f3a\"],[0.8888888888888888,\"#fdca26\"],[1.0,\"#f0f921\"]],\"sequentialminus\":[[0.0,\"#0d0887\"],[0.1111111111111111,\"#46039f\"],[0.2222222222222222,\"#7201a8\"],[0.3333333333333333,\"#9c179e\"],[0.4444444444444444,\"#bd3786\"],[0.5555555555555556,\"#d8576b\"],[0.6666666666666666,\"#ed7953\"],[0.7777777777777778,\"#fb9f3a\"],[0.8888888888888888,\"#fdca26\"],[1.0,\"#f0f921\"]]},\"colorway\":[\"#636efa\",\"#EF553B\",\"#00cc96\",\"#ab63fa\",\"#FFA15A\",\"#19d3f3\",\"#FF6692\",\"#B6E880\",\"#FF97FF\",\"#FECB52\"],\"font\":{\"color\":\"#2a3f5f\"},\"geo\":{\"bgcolor\":\"white\",\"lakecolor\":\"white\",\"landcolor\":\"#E5ECF6\",\"showlakes\":true,\"showland\":true,\"subunitcolor\":\"white\"},\"hoverlabel\":{\"align\":\"left\"},\"hovermode\":\"closest\",\"mapbox\":{\"style\":\"light\"},\"paper_bgcolor\":\"white\",\"plot_bgcolor\":\"#E5ECF6\",\"polar\":{\"angularaxis\":{\"gridcolor\":\"white\",\"linecolor\":\"white\",\"ticks\":\"\"},\"bgcolor\":\"#E5ECF6\",\"radialaxis\":{\"gridcolor\":\"white\",\"linecolor\":\"white\",\"ticks\":\"\"}},\"scene\":{\"xaxis\":{\"backgroundcolor\":\"#E5ECF6\",\"gridcolor\":\"white\",\"gridwidth\":2,\"linecolor\":\"white\",\"showbackground\":true,\"ticks\":\"\",\"zerolinecolor\":\"white\"},\"yaxis\":{\"backgroundcolor\":\"#E5ECF6\",\"gridcolor\":\"white\",\"gridwidth\":2,\"linecolor\":\"white\",\"showbackground\":true,\"ticks\":\"\",\"zerolinecolor\":\"white\"},\"zaxis\":{\"backgroundcolor\":\"#E5ECF6\",\"gridcolor\":\"white\",\"gridwidth\":2,\"linecolor\":\"white\",\"showbackground\":true,\"ticks\":\"\",\"zerolinecolor\":\"white\"}},\"shapedefaults\":{\"line\":{\"color\":\"#2a3f5f\"}},\"ternary\":{\"aaxis\":{\"gridcolor\":\"white\",\"linecolor\":\"white\",\"ticks\":\"\"},\"baxis\":{\"gridcolor\":\"white\",\"linecolor\":\"white\",\"ticks\":\"\"},\"bgcolor\":\"#E5ECF6\",\"caxis\":{\"gridcolor\":\"white\",\"linecolor\":\"white\",\"ticks\":\"\"}},\"title\":{\"x\":0.05},\"xaxis\":{\"automargin\":true,\"gridcolor\":\"white\",\"linecolor\":\"white\",\"ticks\":\"\",\"title\":{\"standoff\":15},\"zerolinecolor\":\"white\",\"zerolinewidth\":2},\"yaxis\":{\"automargin\":true,\"gridcolor\":\"white\",\"linecolor\":\"white\",\"ticks\":\"\",\"title\":{\"standoff\":15},\"zerolinecolor\":\"white\",\"zerolinewidth\":2}}},\"title\":{\"font\":{\"color\":\"#4D5663\"}},\"xaxis\":{\"gridcolor\":\"#E1E5ED\",\"showgrid\":true,\"tickfont\":{\"color\":\"#4D5663\"},\"title\":{\"font\":{\"color\":\"#4D5663\"},\"text\":\"\"},\"zerolinecolor\":\"#E1E5ED\"},\"yaxis\":{\"gridcolor\":\"#E1E5ED\",\"showgrid\":true,\"tickfont\":{\"color\":\"#4D5663\"},\"title\":{\"font\":{\"color\":\"#4D5663\"},\"text\":\"\"},\"zerolinecolor\":\"#E1E5ED\"}},                        {\"showLink\": true, \"linkText\": \"Export to plot.ly\", \"plotlyServerURL\": \"https://plot.ly\", \"responsive\": true}                    ).then(function(){\n",
       "                            \n",
       "var gd = document.getElementById('9f17188c-8edf-455e-b2d5-af714c0212b0');\n",
       "var x = new MutationObserver(function (mutations, observer) {{\n",
       "        var display = window.getComputedStyle(gd).display;\n",
       "        if (!display || display === 'none') {{\n",
       "            console.log([gd, 'removed!']);\n",
       "            Plotly.purge(gd);\n",
       "            observer.disconnect();\n",
       "        }}\n",
       "}});\n",
       "\n",
       "// Listen for the removal of the full notebook cells\n",
       "var notebookContainer = gd.closest('#notebook-container');\n",
       "if (notebookContainer) {{\n",
       "    x.observe(notebookContainer, {childList: true});\n",
       "}}\n",
       "\n",
       "// Listen for the clearing of the current output cell\n",
       "var outputEl = gd.closest('.output');\n",
       "if (outputEl) {{\n",
       "    x.observe(outputEl, {childList: true});\n",
       "}}\n",
       "\n",
       "                        })                };                });            </script>        </div>"
      ]
     },
     "metadata": {},
     "output_type": "display_data"
    }
   ],
   "source": [
    " df1.iplot(kind=\"box\")"
   ]
  },
  {
   "cell_type": "code",
   "execution_count": 47,
   "id": "8c9d0b1c",
   "metadata": {},
   "outputs": [],
   "source": [
    "df3= pd.DataFrame({'x': np.random.randint(0, 50, 20), \n",
    "                   \"y\": np.random.randint(20, 70, 20), \n",
    "                   \"z\": np.random.randint(50, 100, 20) })"
   ]
  },
  {
   "cell_type": "code",
   "execution_count": 48,
   "id": "cf834ca2",
   "metadata": {},
   "outputs": [
    {
     "data": {
      "text/html": [
       "<div>\n",
       "<style scoped>\n",
       "    .dataframe tbody tr th:only-of-type {\n",
       "        vertical-align: middle;\n",
       "    }\n",
       "\n",
       "    .dataframe tbody tr th {\n",
       "        vertical-align: top;\n",
       "    }\n",
       "\n",
       "    .dataframe thead th {\n",
       "        text-align: right;\n",
       "    }\n",
       "</style>\n",
       "<table border=\"1\" class=\"dataframe\">\n",
       "  <thead>\n",
       "    <tr style=\"text-align: right;\">\n",
       "      <th></th>\n",
       "      <th>x</th>\n",
       "      <th>y</th>\n",
       "      <th>z</th>\n",
       "    </tr>\n",
       "  </thead>\n",
       "  <tbody>\n",
       "    <tr>\n",
       "      <th>0</th>\n",
       "      <td>33</td>\n",
       "      <td>32</td>\n",
       "      <td>57</td>\n",
       "    </tr>\n",
       "    <tr>\n",
       "      <th>1</th>\n",
       "      <td>23</td>\n",
       "      <td>52</td>\n",
       "      <td>81</td>\n",
       "    </tr>\n",
       "    <tr>\n",
       "      <th>2</th>\n",
       "      <td>11</td>\n",
       "      <td>57</td>\n",
       "      <td>85</td>\n",
       "    </tr>\n",
       "    <tr>\n",
       "      <th>3</th>\n",
       "      <td>5</td>\n",
       "      <td>48</td>\n",
       "      <td>72</td>\n",
       "    </tr>\n",
       "    <tr>\n",
       "      <th>4</th>\n",
       "      <td>40</td>\n",
       "      <td>43</td>\n",
       "      <td>56</td>\n",
       "    </tr>\n",
       "  </tbody>\n",
       "</table>\n",
       "</div>"
      ],
      "text/plain": [
       "    x   y   z\n",
       "0  33  32  57\n",
       "1  23  52  81\n",
       "2  11  57  85\n",
       "3   5  48  72\n",
       "4  40  43  56"
      ]
     },
     "execution_count": 48,
     "metadata": {},
     "output_type": "execute_result"
    }
   ],
   "source": [
    "df3.head()"
   ]
  },
  {
   "cell_type": "code",
   "execution_count": 53,
   "id": "45cb4acb",
   "metadata": {},
   "outputs": [
    {
     "data": {
      "application/vnd.plotly.v1+json": {
       "config": {
        "linkText": "Export to plot.ly",
        "plotlyServerURL": "https://plot.ly",
        "showLink": true
       },
       "data": [
        {
         "colorscale": [
          [
           0,
           "rgb(165,0,38)"
          ],
          [
           0.1,
           "rgb(215,48,39)"
          ],
          [
           0.2,
           "rgb(244,109,67)"
          ],
          [
           0.3,
           "rgb(253,174,97)"
          ],
          [
           0.4,
           "rgb(254,224,144)"
          ],
          [
           0.5,
           "rgb(255,255,191)"
          ],
          [
           0.6,
           "rgb(224,243,248)"
          ],
          [
           0.7,
           "rgb(171,217,233)"
          ],
          [
           0.8,
           "rgb(116,173,209)"
          ],
          [
           0.9,
           "rgb(69,117,180)"
          ],
          [
           1,
           "rgb(49,54,149)"
          ]
         ],
         "type": "surface",
         "x": [
          0,
          1,
          2,
          3,
          4,
          5,
          6,
          7,
          8,
          9,
          10,
          11,
          12,
          13,
          14,
          15,
          16,
          17,
          18,
          19
         ],
         "y": [
          "x",
          "y",
          "z"
         ],
         "z": [
          [
           33,
           23,
           11,
           5,
           40,
           12,
           0,
           16,
           25,
           7,
           28,
           4,
           26,
           28,
           1,
           44,
           13,
           9,
           27,
           40
          ],
          [
           32,
           52,
           57,
           48,
           43,
           64,
           49,
           31,
           65,
           46,
           31,
           34,
           27,
           30,
           48,
           21,
           45,
           39,
           41,
           56
          ],
          [
           57,
           81,
           85,
           72,
           56,
           74,
           83,
           81,
           91,
           60,
           65,
           50,
           70,
           73,
           85,
           74,
           81,
           95,
           56,
           95
          ]
         ]
        }
       ],
       "layout": {
        "legend": {
         "bgcolor": "#F5F6F9",
         "font": {
          "color": "#4D5663"
         }
        },
        "paper_bgcolor": "#F5F6F9",
        "plot_bgcolor": "#F5F6F9",
        "template": {
         "data": {
          "bar": [
           {
            "error_x": {
             "color": "#2a3f5f"
            },
            "error_y": {
             "color": "#2a3f5f"
            },
            "marker": {
             "line": {
              "color": "#E5ECF6",
              "width": 0.5
             },
             "pattern": {
              "fillmode": "overlay",
              "size": 10,
              "solidity": 0.2
             }
            },
            "type": "bar"
           }
          ],
          "barpolar": [
           {
            "marker": {
             "line": {
              "color": "#E5ECF6",
              "width": 0.5
             },
             "pattern": {
              "fillmode": "overlay",
              "size": 10,
              "solidity": 0.2
             }
            },
            "type": "barpolar"
           }
          ],
          "carpet": [
           {
            "aaxis": {
             "endlinecolor": "#2a3f5f",
             "gridcolor": "white",
             "linecolor": "white",
             "minorgridcolor": "white",
             "startlinecolor": "#2a3f5f"
            },
            "baxis": {
             "endlinecolor": "#2a3f5f",
             "gridcolor": "white",
             "linecolor": "white",
             "minorgridcolor": "white",
             "startlinecolor": "#2a3f5f"
            },
            "type": "carpet"
           }
          ],
          "choropleth": [
           {
            "colorbar": {
             "outlinewidth": 0,
             "ticks": ""
            },
            "type": "choropleth"
           }
          ],
          "contour": [
           {
            "colorbar": {
             "outlinewidth": 0,
             "ticks": ""
            },
            "colorscale": [
             [
              0,
              "#0d0887"
             ],
             [
              0.1111111111111111,
              "#46039f"
             ],
             [
              0.2222222222222222,
              "#7201a8"
             ],
             [
              0.3333333333333333,
              "#9c179e"
             ],
             [
              0.4444444444444444,
              "#bd3786"
             ],
             [
              0.5555555555555556,
              "#d8576b"
             ],
             [
              0.6666666666666666,
              "#ed7953"
             ],
             [
              0.7777777777777778,
              "#fb9f3a"
             ],
             [
              0.8888888888888888,
              "#fdca26"
             ],
             [
              1,
              "#f0f921"
             ]
            ],
            "type": "contour"
           }
          ],
          "contourcarpet": [
           {
            "colorbar": {
             "outlinewidth": 0,
             "ticks": ""
            },
            "type": "contourcarpet"
           }
          ],
          "heatmap": [
           {
            "colorbar": {
             "outlinewidth": 0,
             "ticks": ""
            },
            "colorscale": [
             [
              0,
              "#0d0887"
             ],
             [
              0.1111111111111111,
              "#46039f"
             ],
             [
              0.2222222222222222,
              "#7201a8"
             ],
             [
              0.3333333333333333,
              "#9c179e"
             ],
             [
              0.4444444444444444,
              "#bd3786"
             ],
             [
              0.5555555555555556,
              "#d8576b"
             ],
             [
              0.6666666666666666,
              "#ed7953"
             ],
             [
              0.7777777777777778,
              "#fb9f3a"
             ],
             [
              0.8888888888888888,
              "#fdca26"
             ],
             [
              1,
              "#f0f921"
             ]
            ],
            "type": "heatmap"
           }
          ],
          "heatmapgl": [
           {
            "colorbar": {
             "outlinewidth": 0,
             "ticks": ""
            },
            "colorscale": [
             [
              0,
              "#0d0887"
             ],
             [
              0.1111111111111111,
              "#46039f"
             ],
             [
              0.2222222222222222,
              "#7201a8"
             ],
             [
              0.3333333333333333,
              "#9c179e"
             ],
             [
              0.4444444444444444,
              "#bd3786"
             ],
             [
              0.5555555555555556,
              "#d8576b"
             ],
             [
              0.6666666666666666,
              "#ed7953"
             ],
             [
              0.7777777777777778,
              "#fb9f3a"
             ],
             [
              0.8888888888888888,
              "#fdca26"
             ],
             [
              1,
              "#f0f921"
             ]
            ],
            "type": "heatmapgl"
           }
          ],
          "histogram": [
           {
            "marker": {
             "pattern": {
              "fillmode": "overlay",
              "size": 10,
              "solidity": 0.2
             }
            },
            "type": "histogram"
           }
          ],
          "histogram2d": [
           {
            "colorbar": {
             "outlinewidth": 0,
             "ticks": ""
            },
            "colorscale": [
             [
              0,
              "#0d0887"
             ],
             [
              0.1111111111111111,
              "#46039f"
             ],
             [
              0.2222222222222222,
              "#7201a8"
             ],
             [
              0.3333333333333333,
              "#9c179e"
             ],
             [
              0.4444444444444444,
              "#bd3786"
             ],
             [
              0.5555555555555556,
              "#d8576b"
             ],
             [
              0.6666666666666666,
              "#ed7953"
             ],
             [
              0.7777777777777778,
              "#fb9f3a"
             ],
             [
              0.8888888888888888,
              "#fdca26"
             ],
             [
              1,
              "#f0f921"
             ]
            ],
            "type": "histogram2d"
           }
          ],
          "histogram2dcontour": [
           {
            "colorbar": {
             "outlinewidth": 0,
             "ticks": ""
            },
            "colorscale": [
             [
              0,
              "#0d0887"
             ],
             [
              0.1111111111111111,
              "#46039f"
             ],
             [
              0.2222222222222222,
              "#7201a8"
             ],
             [
              0.3333333333333333,
              "#9c179e"
             ],
             [
              0.4444444444444444,
              "#bd3786"
             ],
             [
              0.5555555555555556,
              "#d8576b"
             ],
             [
              0.6666666666666666,
              "#ed7953"
             ],
             [
              0.7777777777777778,
              "#fb9f3a"
             ],
             [
              0.8888888888888888,
              "#fdca26"
             ],
             [
              1,
              "#f0f921"
             ]
            ],
            "type": "histogram2dcontour"
           }
          ],
          "mesh3d": [
           {
            "colorbar": {
             "outlinewidth": 0,
             "ticks": ""
            },
            "type": "mesh3d"
           }
          ],
          "parcoords": [
           {
            "line": {
             "colorbar": {
              "outlinewidth": 0,
              "ticks": ""
             }
            },
            "type": "parcoords"
           }
          ],
          "pie": [
           {
            "automargin": true,
            "type": "pie"
           }
          ],
          "scatter": [
           {
            "fillpattern": {
             "fillmode": "overlay",
             "size": 10,
             "solidity": 0.2
            },
            "type": "scatter"
           }
          ],
          "scatter3d": [
           {
            "line": {
             "colorbar": {
              "outlinewidth": 0,
              "ticks": ""
             }
            },
            "marker": {
             "colorbar": {
              "outlinewidth": 0,
              "ticks": ""
             }
            },
            "type": "scatter3d"
           }
          ],
          "scattercarpet": [
           {
            "marker": {
             "colorbar": {
              "outlinewidth": 0,
              "ticks": ""
             }
            },
            "type": "scattercarpet"
           }
          ],
          "scattergeo": [
           {
            "marker": {
             "colorbar": {
              "outlinewidth": 0,
              "ticks": ""
             }
            },
            "type": "scattergeo"
           }
          ],
          "scattergl": [
           {
            "marker": {
             "colorbar": {
              "outlinewidth": 0,
              "ticks": ""
             }
            },
            "type": "scattergl"
           }
          ],
          "scattermapbox": [
           {
            "marker": {
             "colorbar": {
              "outlinewidth": 0,
              "ticks": ""
             }
            },
            "type": "scattermapbox"
           }
          ],
          "scatterpolar": [
           {
            "marker": {
             "colorbar": {
              "outlinewidth": 0,
              "ticks": ""
             }
            },
            "type": "scatterpolar"
           }
          ],
          "scatterpolargl": [
           {
            "marker": {
             "colorbar": {
              "outlinewidth": 0,
              "ticks": ""
             }
            },
            "type": "scatterpolargl"
           }
          ],
          "scatterternary": [
           {
            "marker": {
             "colorbar": {
              "outlinewidth": 0,
              "ticks": ""
             }
            },
            "type": "scatterternary"
           }
          ],
          "surface": [
           {
            "colorbar": {
             "outlinewidth": 0,
             "ticks": ""
            },
            "colorscale": [
             [
              0,
              "#0d0887"
             ],
             [
              0.1111111111111111,
              "#46039f"
             ],
             [
              0.2222222222222222,
              "#7201a8"
             ],
             [
              0.3333333333333333,
              "#9c179e"
             ],
             [
              0.4444444444444444,
              "#bd3786"
             ],
             [
              0.5555555555555556,
              "#d8576b"
             ],
             [
              0.6666666666666666,
              "#ed7953"
             ],
             [
              0.7777777777777778,
              "#fb9f3a"
             ],
             [
              0.8888888888888888,
              "#fdca26"
             ],
             [
              1,
              "#f0f921"
             ]
            ],
            "type": "surface"
           }
          ],
          "table": [
           {
            "cells": {
             "fill": {
              "color": "#EBF0F8"
             },
             "line": {
              "color": "white"
             }
            },
            "header": {
             "fill": {
              "color": "#C8D4E3"
             },
             "line": {
              "color": "white"
             }
            },
            "type": "table"
           }
          ]
         },
         "layout": {
          "annotationdefaults": {
           "arrowcolor": "#2a3f5f",
           "arrowhead": 0,
           "arrowwidth": 1
          },
          "autotypenumbers": "strict",
          "coloraxis": {
           "colorbar": {
            "outlinewidth": 0,
            "ticks": ""
           }
          },
          "colorscale": {
           "diverging": [
            [
             0,
             "#8e0152"
            ],
            [
             0.1,
             "#c51b7d"
            ],
            [
             0.2,
             "#de77ae"
            ],
            [
             0.3,
             "#f1b6da"
            ],
            [
             0.4,
             "#fde0ef"
            ],
            [
             0.5,
             "#f7f7f7"
            ],
            [
             0.6,
             "#e6f5d0"
            ],
            [
             0.7,
             "#b8e186"
            ],
            [
             0.8,
             "#7fbc41"
            ],
            [
             0.9,
             "#4d9221"
            ],
            [
             1,
             "#276419"
            ]
           ],
           "sequential": [
            [
             0,
             "#0d0887"
            ],
            [
             0.1111111111111111,
             "#46039f"
            ],
            [
             0.2222222222222222,
             "#7201a8"
            ],
            [
             0.3333333333333333,
             "#9c179e"
            ],
            [
             0.4444444444444444,
             "#bd3786"
            ],
            [
             0.5555555555555556,
             "#d8576b"
            ],
            [
             0.6666666666666666,
             "#ed7953"
            ],
            [
             0.7777777777777778,
             "#fb9f3a"
            ],
            [
             0.8888888888888888,
             "#fdca26"
            ],
            [
             1,
             "#f0f921"
            ]
           ],
           "sequentialminus": [
            [
             0,
             "#0d0887"
            ],
            [
             0.1111111111111111,
             "#46039f"
            ],
            [
             0.2222222222222222,
             "#7201a8"
            ],
            [
             0.3333333333333333,
             "#9c179e"
            ],
            [
             0.4444444444444444,
             "#bd3786"
            ],
            [
             0.5555555555555556,
             "#d8576b"
            ],
            [
             0.6666666666666666,
             "#ed7953"
            ],
            [
             0.7777777777777778,
             "#fb9f3a"
            ],
            [
             0.8888888888888888,
             "#fdca26"
            ],
            [
             1,
             "#f0f921"
            ]
           ]
          },
          "colorway": [
           "#636efa",
           "#EF553B",
           "#00cc96",
           "#ab63fa",
           "#FFA15A",
           "#19d3f3",
           "#FF6692",
           "#B6E880",
           "#FF97FF",
           "#FECB52"
          ],
          "font": {
           "color": "#2a3f5f"
          },
          "geo": {
           "bgcolor": "white",
           "lakecolor": "white",
           "landcolor": "#E5ECF6",
           "showlakes": true,
           "showland": true,
           "subunitcolor": "white"
          },
          "hoverlabel": {
           "align": "left"
          },
          "hovermode": "closest",
          "mapbox": {
           "style": "light"
          },
          "paper_bgcolor": "white",
          "plot_bgcolor": "#E5ECF6",
          "polar": {
           "angularaxis": {
            "gridcolor": "white",
            "linecolor": "white",
            "ticks": ""
           },
           "bgcolor": "#E5ECF6",
           "radialaxis": {
            "gridcolor": "white",
            "linecolor": "white",
            "ticks": ""
           }
          },
          "scene": {
           "xaxis": {
            "backgroundcolor": "#E5ECF6",
            "gridcolor": "white",
            "gridwidth": 2,
            "linecolor": "white",
            "showbackground": true,
            "ticks": "",
            "zerolinecolor": "white"
           },
           "yaxis": {
            "backgroundcolor": "#E5ECF6",
            "gridcolor": "white",
            "gridwidth": 2,
            "linecolor": "white",
            "showbackground": true,
            "ticks": "",
            "zerolinecolor": "white"
           },
           "zaxis": {
            "backgroundcolor": "#E5ECF6",
            "gridcolor": "white",
            "gridwidth": 2,
            "linecolor": "white",
            "showbackground": true,
            "ticks": "",
            "zerolinecolor": "white"
           }
          },
          "shapedefaults": {
           "line": {
            "color": "#2a3f5f"
           }
          },
          "ternary": {
           "aaxis": {
            "gridcolor": "white",
            "linecolor": "white",
            "ticks": ""
           },
           "baxis": {
            "gridcolor": "white",
            "linecolor": "white",
            "ticks": ""
           },
           "bgcolor": "#E5ECF6",
           "caxis": {
            "gridcolor": "white",
            "linecolor": "white",
            "ticks": ""
           }
          },
          "title": {
           "x": 0.05
          },
          "xaxis": {
           "automargin": true,
           "gridcolor": "white",
           "linecolor": "white",
           "ticks": "",
           "title": {
            "standoff": 15
           },
           "zerolinecolor": "white",
           "zerolinewidth": 2
          },
          "yaxis": {
           "automargin": true,
           "gridcolor": "white",
           "linecolor": "white",
           "ticks": "",
           "title": {
            "standoff": 15
           },
           "zerolinecolor": "white",
           "zerolinewidth": 2
          }
         }
        },
        "title": {
         "font": {
          "color": "#4D5663"
         }
        },
        "xaxis": {
         "gridcolor": "#E1E5ED",
         "showgrid": true,
         "tickfont": {
          "color": "#4D5663"
         },
         "title": {
          "font": {
           "color": "#4D5663"
          },
          "text": ""
         },
         "zerolinecolor": "#E1E5ED"
        },
        "yaxis": {
         "gridcolor": "#E1E5ED",
         "showgrid": true,
         "tickfont": {
          "color": "#4D5663"
         },
         "title": {
          "font": {
           "color": "#4D5663"
          },
          "text": ""
         },
         "zerolinecolor": "#E1E5ED"
        }
       }
      },
      "text/html": [
       "<div>                            <div id=\"998b2d83-99c4-4caa-91bf-025624a07bbc\" class=\"plotly-graph-div\" style=\"height:525px; width:100%;\"></div>            <script type=\"text/javascript\">                require([\"plotly\"], function(Plotly) {                    window.PLOTLYENV=window.PLOTLYENV || {};\n",
       "                    window.PLOTLYENV.BASE_URL='https://plot.ly';                                    if (document.getElementById(\"998b2d83-99c4-4caa-91bf-025624a07bbc\")) {                    Plotly.newPlot(                        \"998b2d83-99c4-4caa-91bf-025624a07bbc\",                        [{\"colorscale\":[[0.0,\"rgb(165,0,38)\"],[0.1,\"rgb(215,48,39)\"],[0.2,\"rgb(244,109,67)\"],[0.3,\"rgb(253,174,97)\"],[0.4,\"rgb(254,224,144)\"],[0.5,\"rgb(255,255,191)\"],[0.6,\"rgb(224,243,248)\"],[0.7,\"rgb(171,217,233)\"],[0.8,\"rgb(116,173,209)\"],[0.9,\"rgb(69,117,180)\"],[1.0,\"rgb(49,54,149)\"]],\"x\":[0,1,2,3,4,5,6,7,8,9,10,11,12,13,14,15,16,17,18,19],\"y\":[\"x\",\"y\",\"z\"],\"z\":[[33,23,11,5,40,12,0,16,25,7,28,4,26,28,1,44,13,9,27,40],[32,52,57,48,43,64,49,31,65,46,31,34,27,30,48,21,45,39,41,56],[57,81,85,72,56,74,83,81,91,60,65,50,70,73,85,74,81,95,56,95]],\"type\":\"surface\"}],                        {\"legend\":{\"bgcolor\":\"#F5F6F9\",\"font\":{\"color\":\"#4D5663\"}},\"paper_bgcolor\":\"#F5F6F9\",\"plot_bgcolor\":\"#F5F6F9\",\"template\":{\"data\":{\"barpolar\":[{\"marker\":{\"line\":{\"color\":\"#E5ECF6\",\"width\":0.5},\"pattern\":{\"fillmode\":\"overlay\",\"size\":10,\"solidity\":0.2}},\"type\":\"barpolar\"}],\"bar\":[{\"error_x\":{\"color\":\"#2a3f5f\"},\"error_y\":{\"color\":\"#2a3f5f\"},\"marker\":{\"line\":{\"color\":\"#E5ECF6\",\"width\":0.5},\"pattern\":{\"fillmode\":\"overlay\",\"size\":10,\"solidity\":0.2}},\"type\":\"bar\"}],\"carpet\":[{\"aaxis\":{\"endlinecolor\":\"#2a3f5f\",\"gridcolor\":\"white\",\"linecolor\":\"white\",\"minorgridcolor\":\"white\",\"startlinecolor\":\"#2a3f5f\"},\"baxis\":{\"endlinecolor\":\"#2a3f5f\",\"gridcolor\":\"white\",\"linecolor\":\"white\",\"minorgridcolor\":\"white\",\"startlinecolor\":\"#2a3f5f\"},\"type\":\"carpet\"}],\"choropleth\":[{\"colorbar\":{\"outlinewidth\":0,\"ticks\":\"\"},\"type\":\"choropleth\"}],\"contourcarpet\":[{\"colorbar\":{\"outlinewidth\":0,\"ticks\":\"\"},\"type\":\"contourcarpet\"}],\"contour\":[{\"colorbar\":{\"outlinewidth\":0,\"ticks\":\"\"},\"colorscale\":[[0.0,\"#0d0887\"],[0.1111111111111111,\"#46039f\"],[0.2222222222222222,\"#7201a8\"],[0.3333333333333333,\"#9c179e\"],[0.4444444444444444,\"#bd3786\"],[0.5555555555555556,\"#d8576b\"],[0.6666666666666666,\"#ed7953\"],[0.7777777777777778,\"#fb9f3a\"],[0.8888888888888888,\"#fdca26\"],[1.0,\"#f0f921\"]],\"type\":\"contour\"}],\"heatmapgl\":[{\"colorbar\":{\"outlinewidth\":0,\"ticks\":\"\"},\"colorscale\":[[0.0,\"#0d0887\"],[0.1111111111111111,\"#46039f\"],[0.2222222222222222,\"#7201a8\"],[0.3333333333333333,\"#9c179e\"],[0.4444444444444444,\"#bd3786\"],[0.5555555555555556,\"#d8576b\"],[0.6666666666666666,\"#ed7953\"],[0.7777777777777778,\"#fb9f3a\"],[0.8888888888888888,\"#fdca26\"],[1.0,\"#f0f921\"]],\"type\":\"heatmapgl\"}],\"heatmap\":[{\"colorbar\":{\"outlinewidth\":0,\"ticks\":\"\"},\"colorscale\":[[0.0,\"#0d0887\"],[0.1111111111111111,\"#46039f\"],[0.2222222222222222,\"#7201a8\"],[0.3333333333333333,\"#9c179e\"],[0.4444444444444444,\"#bd3786\"],[0.5555555555555556,\"#d8576b\"],[0.6666666666666666,\"#ed7953\"],[0.7777777777777778,\"#fb9f3a\"],[0.8888888888888888,\"#fdca26\"],[1.0,\"#f0f921\"]],\"type\":\"heatmap\"}],\"histogram2dcontour\":[{\"colorbar\":{\"outlinewidth\":0,\"ticks\":\"\"},\"colorscale\":[[0.0,\"#0d0887\"],[0.1111111111111111,\"#46039f\"],[0.2222222222222222,\"#7201a8\"],[0.3333333333333333,\"#9c179e\"],[0.4444444444444444,\"#bd3786\"],[0.5555555555555556,\"#d8576b\"],[0.6666666666666666,\"#ed7953\"],[0.7777777777777778,\"#fb9f3a\"],[0.8888888888888888,\"#fdca26\"],[1.0,\"#f0f921\"]],\"type\":\"histogram2dcontour\"}],\"histogram2d\":[{\"colorbar\":{\"outlinewidth\":0,\"ticks\":\"\"},\"colorscale\":[[0.0,\"#0d0887\"],[0.1111111111111111,\"#46039f\"],[0.2222222222222222,\"#7201a8\"],[0.3333333333333333,\"#9c179e\"],[0.4444444444444444,\"#bd3786\"],[0.5555555555555556,\"#d8576b\"],[0.6666666666666666,\"#ed7953\"],[0.7777777777777778,\"#fb9f3a\"],[0.8888888888888888,\"#fdca26\"],[1.0,\"#f0f921\"]],\"type\":\"histogram2d\"}],\"histogram\":[{\"marker\":{\"pattern\":{\"fillmode\":\"overlay\",\"size\":10,\"solidity\":0.2}},\"type\":\"histogram\"}],\"mesh3d\":[{\"colorbar\":{\"outlinewidth\":0,\"ticks\":\"\"},\"type\":\"mesh3d\"}],\"parcoords\":[{\"line\":{\"colorbar\":{\"outlinewidth\":0,\"ticks\":\"\"}},\"type\":\"parcoords\"}],\"pie\":[{\"automargin\":true,\"type\":\"pie\"}],\"scatter3d\":[{\"line\":{\"colorbar\":{\"outlinewidth\":0,\"ticks\":\"\"}},\"marker\":{\"colorbar\":{\"outlinewidth\":0,\"ticks\":\"\"}},\"type\":\"scatter3d\"}],\"scattercarpet\":[{\"marker\":{\"colorbar\":{\"outlinewidth\":0,\"ticks\":\"\"}},\"type\":\"scattercarpet\"}],\"scattergeo\":[{\"marker\":{\"colorbar\":{\"outlinewidth\":0,\"ticks\":\"\"}},\"type\":\"scattergeo\"}],\"scattergl\":[{\"marker\":{\"colorbar\":{\"outlinewidth\":0,\"ticks\":\"\"}},\"type\":\"scattergl\"}],\"scattermapbox\":[{\"marker\":{\"colorbar\":{\"outlinewidth\":0,\"ticks\":\"\"}},\"type\":\"scattermapbox\"}],\"scatterpolargl\":[{\"marker\":{\"colorbar\":{\"outlinewidth\":0,\"ticks\":\"\"}},\"type\":\"scatterpolargl\"}],\"scatterpolar\":[{\"marker\":{\"colorbar\":{\"outlinewidth\":0,\"ticks\":\"\"}},\"type\":\"scatterpolar\"}],\"scatter\":[{\"fillpattern\":{\"fillmode\":\"overlay\",\"size\":10,\"solidity\":0.2},\"type\":\"scatter\"}],\"scatterternary\":[{\"marker\":{\"colorbar\":{\"outlinewidth\":0,\"ticks\":\"\"}},\"type\":\"scatterternary\"}],\"surface\":[{\"colorbar\":{\"outlinewidth\":0,\"ticks\":\"\"},\"colorscale\":[[0.0,\"#0d0887\"],[0.1111111111111111,\"#46039f\"],[0.2222222222222222,\"#7201a8\"],[0.3333333333333333,\"#9c179e\"],[0.4444444444444444,\"#bd3786\"],[0.5555555555555556,\"#d8576b\"],[0.6666666666666666,\"#ed7953\"],[0.7777777777777778,\"#fb9f3a\"],[0.8888888888888888,\"#fdca26\"],[1.0,\"#f0f921\"]],\"type\":\"surface\"}],\"table\":[{\"cells\":{\"fill\":{\"color\":\"#EBF0F8\"},\"line\":{\"color\":\"white\"}},\"header\":{\"fill\":{\"color\":\"#C8D4E3\"},\"line\":{\"color\":\"white\"}},\"type\":\"table\"}]},\"layout\":{\"annotationdefaults\":{\"arrowcolor\":\"#2a3f5f\",\"arrowhead\":0,\"arrowwidth\":1},\"autotypenumbers\":\"strict\",\"coloraxis\":{\"colorbar\":{\"outlinewidth\":0,\"ticks\":\"\"}},\"colorscale\":{\"diverging\":[[0,\"#8e0152\"],[0.1,\"#c51b7d\"],[0.2,\"#de77ae\"],[0.3,\"#f1b6da\"],[0.4,\"#fde0ef\"],[0.5,\"#f7f7f7\"],[0.6,\"#e6f5d0\"],[0.7,\"#b8e186\"],[0.8,\"#7fbc41\"],[0.9,\"#4d9221\"],[1,\"#276419\"]],\"sequential\":[[0.0,\"#0d0887\"],[0.1111111111111111,\"#46039f\"],[0.2222222222222222,\"#7201a8\"],[0.3333333333333333,\"#9c179e\"],[0.4444444444444444,\"#bd3786\"],[0.5555555555555556,\"#d8576b\"],[0.6666666666666666,\"#ed7953\"],[0.7777777777777778,\"#fb9f3a\"],[0.8888888888888888,\"#fdca26\"],[1.0,\"#f0f921\"]],\"sequentialminus\":[[0.0,\"#0d0887\"],[0.1111111111111111,\"#46039f\"],[0.2222222222222222,\"#7201a8\"],[0.3333333333333333,\"#9c179e\"],[0.4444444444444444,\"#bd3786\"],[0.5555555555555556,\"#d8576b\"],[0.6666666666666666,\"#ed7953\"],[0.7777777777777778,\"#fb9f3a\"],[0.8888888888888888,\"#fdca26\"],[1.0,\"#f0f921\"]]},\"colorway\":[\"#636efa\",\"#EF553B\",\"#00cc96\",\"#ab63fa\",\"#FFA15A\",\"#19d3f3\",\"#FF6692\",\"#B6E880\",\"#FF97FF\",\"#FECB52\"],\"font\":{\"color\":\"#2a3f5f\"},\"geo\":{\"bgcolor\":\"white\",\"lakecolor\":\"white\",\"landcolor\":\"#E5ECF6\",\"showlakes\":true,\"showland\":true,\"subunitcolor\":\"white\"},\"hoverlabel\":{\"align\":\"left\"},\"hovermode\":\"closest\",\"mapbox\":{\"style\":\"light\"},\"paper_bgcolor\":\"white\",\"plot_bgcolor\":\"#E5ECF6\",\"polar\":{\"angularaxis\":{\"gridcolor\":\"white\",\"linecolor\":\"white\",\"ticks\":\"\"},\"bgcolor\":\"#E5ECF6\",\"radialaxis\":{\"gridcolor\":\"white\",\"linecolor\":\"white\",\"ticks\":\"\"}},\"scene\":{\"xaxis\":{\"backgroundcolor\":\"#E5ECF6\",\"gridcolor\":\"white\",\"gridwidth\":2,\"linecolor\":\"white\",\"showbackground\":true,\"ticks\":\"\",\"zerolinecolor\":\"white\"},\"yaxis\":{\"backgroundcolor\":\"#E5ECF6\",\"gridcolor\":\"white\",\"gridwidth\":2,\"linecolor\":\"white\",\"showbackground\":true,\"ticks\":\"\",\"zerolinecolor\":\"white\"},\"zaxis\":{\"backgroundcolor\":\"#E5ECF6\",\"gridcolor\":\"white\",\"gridwidth\":2,\"linecolor\":\"white\",\"showbackground\":true,\"ticks\":\"\",\"zerolinecolor\":\"white\"}},\"shapedefaults\":{\"line\":{\"color\":\"#2a3f5f\"}},\"ternary\":{\"aaxis\":{\"gridcolor\":\"white\",\"linecolor\":\"white\",\"ticks\":\"\"},\"baxis\":{\"gridcolor\":\"white\",\"linecolor\":\"white\",\"ticks\":\"\"},\"bgcolor\":\"#E5ECF6\",\"caxis\":{\"gridcolor\":\"white\",\"linecolor\":\"white\",\"ticks\":\"\"}},\"title\":{\"x\":0.05},\"xaxis\":{\"automargin\":true,\"gridcolor\":\"white\",\"linecolor\":\"white\",\"ticks\":\"\",\"title\":{\"standoff\":15},\"zerolinecolor\":\"white\",\"zerolinewidth\":2},\"yaxis\":{\"automargin\":true,\"gridcolor\":\"white\",\"linecolor\":\"white\",\"ticks\":\"\",\"title\":{\"standoff\":15},\"zerolinecolor\":\"white\",\"zerolinewidth\":2}}},\"title\":{\"font\":{\"color\":\"#4D5663\"}},\"xaxis\":{\"gridcolor\":\"#E1E5ED\",\"showgrid\":true,\"tickfont\":{\"color\":\"#4D5663\"},\"title\":{\"font\":{\"color\":\"#4D5663\"},\"text\":\"\"},\"zerolinecolor\":\"#E1E5ED\"},\"yaxis\":{\"gridcolor\":\"#E1E5ED\",\"showgrid\":true,\"tickfont\":{\"color\":\"#4D5663\"},\"title\":{\"font\":{\"color\":\"#4D5663\"},\"text\":\"\"},\"zerolinecolor\":\"#E1E5ED\"}},                        {\"showLink\": true, \"linkText\": \"Export to plot.ly\", \"plotlyServerURL\": \"https://plot.ly\", \"responsive\": true}                    ).then(function(){\n",
       "                            \n",
       "var gd = document.getElementById('998b2d83-99c4-4caa-91bf-025624a07bbc');\n",
       "var x = new MutationObserver(function (mutations, observer) {{\n",
       "        var display = window.getComputedStyle(gd).display;\n",
       "        if (!display || display === 'none') {{\n",
       "            console.log([gd, 'removed!']);\n",
       "            Plotly.purge(gd);\n",
       "            observer.disconnect();\n",
       "        }}\n",
       "}});\n",
       "\n",
       "// Listen for the removal of the full notebook cells\n",
       "var notebookContainer = gd.closest('#notebook-container');\n",
       "if (notebookContainer) {{\n",
       "    x.observe(notebookContainer, {childList: true});\n",
       "}}\n",
       "\n",
       "// Listen for the clearing of the current output cell\n",
       "var outputEl = gd.closest('.output');\n",
       "if (outputEl) {{\n",
       "    x.observe(outputEl, {childList: true});\n",
       "}}\n",
       "\n",
       "                        })                };                });            </script>        </div>"
      ]
     },
     "metadata": {},
     "output_type": "display_data"
    }
   ],
   "source": [
    "df3.iplot(kind=\"surface\", colorscale=\"rdylbu\")"
   ]
  },
  {
   "cell_type": "code",
   "execution_count": 51,
   "id": "4fbce5d2",
   "metadata": {},
   "outputs": [],
   "source": [
    "df4= pd.DataFrame({'x': np.random.randint(0, 50, 20), \n",
    "                   \"y\": np.random.randint(20, 70, 20), \n",
    "                   \"z\": np.random.randint(50, 100, 20),\n",
    "                   \"k\": np.random.randint(70, 120, 20)})"
   ]
  },
  {
   "cell_type": "code",
   "execution_count": 52,
   "id": "213f2af7",
   "metadata": {},
   "outputs": [
    {
     "data": {
      "application/vnd.plotly.v1+json": {
       "config": {
        "linkText": "Export to plot.ly",
        "plotlyServerURL": "https://plot.ly",
        "showLink": true
       },
       "data": [
        {
         "colorscale": [
          [
           0,
           "rgb(255, 153, 51)"
          ],
          [
           0.1111111111111111,
           "rgb(55, 128, 191)"
          ],
          [
           0.2222222222222222,
           "rgb(50, 171, 96)"
          ],
          [
           0.3333333333333333,
           "rgb(128, 0, 128)"
          ],
          [
           0.4444444444444444,
           "rgb(219, 64, 82)"
          ],
          [
           0.5555555555555556,
           "rgb(0, 128, 128)"
          ],
          [
           0.6666666666666666,
           "rgb(255, 255, 51)"
          ],
          [
           0.7777777777777778,
           "rgb(128, 128, 0)"
          ],
          [
           0.8888888888888888,
           "rgb(251, 128, 114)"
          ],
          [
           1,
           "rgb(128, 177, 211)"
          ]
         ],
         "type": "surface",
         "x": [
          0,
          1,
          2,
          3,
          4,
          5,
          6,
          7,
          8,
          9,
          10,
          11,
          12,
          13,
          14,
          15,
          16,
          17,
          18,
          19
         ],
         "y": [
          "x",
          "y",
          "z",
          "k"
         ],
         "z": [
          [
           5,
           16,
           35,
           46,
           1,
           38,
           16,
           3,
           32,
           43,
           20,
           33,
           11,
           29,
           41,
           2,
           29,
           28,
           7,
           33
          ],
          [
           66,
           61,
           60,
           40,
           26,
           46,
           55,
           62,
           31,
           58,
           46,
           38,
           21,
           55,
           24,
           56,
           40,
           65,
           22,
           59
          ],
          [
           51,
           51,
           64,
           88,
           61,
           91,
           65,
           56,
           62,
           57,
           90,
           86,
           56,
           86,
           97,
           66,
           50,
           65,
           63,
           87
          ],
          [
           91,
           75,
           86,
           91,
           70,
           80,
           97,
           99,
           77,
           106,
           94,
           85,
           83,
           87,
           107,
           73,
           91,
           95,
           104,
           85
          ]
         ]
        }
       ],
       "layout": {
        "legend": {
         "bgcolor": "#F5F6F9",
         "font": {
          "color": "#4D5663"
         }
        },
        "paper_bgcolor": "#F5F6F9",
        "plot_bgcolor": "#F5F6F9",
        "template": {
         "data": {
          "bar": [
           {
            "error_x": {
             "color": "#2a3f5f"
            },
            "error_y": {
             "color": "#2a3f5f"
            },
            "marker": {
             "line": {
              "color": "#E5ECF6",
              "width": 0.5
             },
             "pattern": {
              "fillmode": "overlay",
              "size": 10,
              "solidity": 0.2
             }
            },
            "type": "bar"
           }
          ],
          "barpolar": [
           {
            "marker": {
             "line": {
              "color": "#E5ECF6",
              "width": 0.5
             },
             "pattern": {
              "fillmode": "overlay",
              "size": 10,
              "solidity": 0.2
             }
            },
            "type": "barpolar"
           }
          ],
          "carpet": [
           {
            "aaxis": {
             "endlinecolor": "#2a3f5f",
             "gridcolor": "white",
             "linecolor": "white",
             "minorgridcolor": "white",
             "startlinecolor": "#2a3f5f"
            },
            "baxis": {
             "endlinecolor": "#2a3f5f",
             "gridcolor": "white",
             "linecolor": "white",
             "minorgridcolor": "white",
             "startlinecolor": "#2a3f5f"
            },
            "type": "carpet"
           }
          ],
          "choropleth": [
           {
            "colorbar": {
             "outlinewidth": 0,
             "ticks": ""
            },
            "type": "choropleth"
           }
          ],
          "contour": [
           {
            "colorbar": {
             "outlinewidth": 0,
             "ticks": ""
            },
            "colorscale": [
             [
              0,
              "#0d0887"
             ],
             [
              0.1111111111111111,
              "#46039f"
             ],
             [
              0.2222222222222222,
              "#7201a8"
             ],
             [
              0.3333333333333333,
              "#9c179e"
             ],
             [
              0.4444444444444444,
              "#bd3786"
             ],
             [
              0.5555555555555556,
              "#d8576b"
             ],
             [
              0.6666666666666666,
              "#ed7953"
             ],
             [
              0.7777777777777778,
              "#fb9f3a"
             ],
             [
              0.8888888888888888,
              "#fdca26"
             ],
             [
              1,
              "#f0f921"
             ]
            ],
            "type": "contour"
           }
          ],
          "contourcarpet": [
           {
            "colorbar": {
             "outlinewidth": 0,
             "ticks": ""
            },
            "type": "contourcarpet"
           }
          ],
          "heatmap": [
           {
            "colorbar": {
             "outlinewidth": 0,
             "ticks": ""
            },
            "colorscale": [
             [
              0,
              "#0d0887"
             ],
             [
              0.1111111111111111,
              "#46039f"
             ],
             [
              0.2222222222222222,
              "#7201a8"
             ],
             [
              0.3333333333333333,
              "#9c179e"
             ],
             [
              0.4444444444444444,
              "#bd3786"
             ],
             [
              0.5555555555555556,
              "#d8576b"
             ],
             [
              0.6666666666666666,
              "#ed7953"
             ],
             [
              0.7777777777777778,
              "#fb9f3a"
             ],
             [
              0.8888888888888888,
              "#fdca26"
             ],
             [
              1,
              "#f0f921"
             ]
            ],
            "type": "heatmap"
           }
          ],
          "heatmapgl": [
           {
            "colorbar": {
             "outlinewidth": 0,
             "ticks": ""
            },
            "colorscale": [
             [
              0,
              "#0d0887"
             ],
             [
              0.1111111111111111,
              "#46039f"
             ],
             [
              0.2222222222222222,
              "#7201a8"
             ],
             [
              0.3333333333333333,
              "#9c179e"
             ],
             [
              0.4444444444444444,
              "#bd3786"
             ],
             [
              0.5555555555555556,
              "#d8576b"
             ],
             [
              0.6666666666666666,
              "#ed7953"
             ],
             [
              0.7777777777777778,
              "#fb9f3a"
             ],
             [
              0.8888888888888888,
              "#fdca26"
             ],
             [
              1,
              "#f0f921"
             ]
            ],
            "type": "heatmapgl"
           }
          ],
          "histogram": [
           {
            "marker": {
             "pattern": {
              "fillmode": "overlay",
              "size": 10,
              "solidity": 0.2
             }
            },
            "type": "histogram"
           }
          ],
          "histogram2d": [
           {
            "colorbar": {
             "outlinewidth": 0,
             "ticks": ""
            },
            "colorscale": [
             [
              0,
              "#0d0887"
             ],
             [
              0.1111111111111111,
              "#46039f"
             ],
             [
              0.2222222222222222,
              "#7201a8"
             ],
             [
              0.3333333333333333,
              "#9c179e"
             ],
             [
              0.4444444444444444,
              "#bd3786"
             ],
             [
              0.5555555555555556,
              "#d8576b"
             ],
             [
              0.6666666666666666,
              "#ed7953"
             ],
             [
              0.7777777777777778,
              "#fb9f3a"
             ],
             [
              0.8888888888888888,
              "#fdca26"
             ],
             [
              1,
              "#f0f921"
             ]
            ],
            "type": "histogram2d"
           }
          ],
          "histogram2dcontour": [
           {
            "colorbar": {
             "outlinewidth": 0,
             "ticks": ""
            },
            "colorscale": [
             [
              0,
              "#0d0887"
             ],
             [
              0.1111111111111111,
              "#46039f"
             ],
             [
              0.2222222222222222,
              "#7201a8"
             ],
             [
              0.3333333333333333,
              "#9c179e"
             ],
             [
              0.4444444444444444,
              "#bd3786"
             ],
             [
              0.5555555555555556,
              "#d8576b"
             ],
             [
              0.6666666666666666,
              "#ed7953"
             ],
             [
              0.7777777777777778,
              "#fb9f3a"
             ],
             [
              0.8888888888888888,
              "#fdca26"
             ],
             [
              1,
              "#f0f921"
             ]
            ],
            "type": "histogram2dcontour"
           }
          ],
          "mesh3d": [
           {
            "colorbar": {
             "outlinewidth": 0,
             "ticks": ""
            },
            "type": "mesh3d"
           }
          ],
          "parcoords": [
           {
            "line": {
             "colorbar": {
              "outlinewidth": 0,
              "ticks": ""
             }
            },
            "type": "parcoords"
           }
          ],
          "pie": [
           {
            "automargin": true,
            "type": "pie"
           }
          ],
          "scatter": [
           {
            "fillpattern": {
             "fillmode": "overlay",
             "size": 10,
             "solidity": 0.2
            },
            "type": "scatter"
           }
          ],
          "scatter3d": [
           {
            "line": {
             "colorbar": {
              "outlinewidth": 0,
              "ticks": ""
             }
            },
            "marker": {
             "colorbar": {
              "outlinewidth": 0,
              "ticks": ""
             }
            },
            "type": "scatter3d"
           }
          ],
          "scattercarpet": [
           {
            "marker": {
             "colorbar": {
              "outlinewidth": 0,
              "ticks": ""
             }
            },
            "type": "scattercarpet"
           }
          ],
          "scattergeo": [
           {
            "marker": {
             "colorbar": {
              "outlinewidth": 0,
              "ticks": ""
             }
            },
            "type": "scattergeo"
           }
          ],
          "scattergl": [
           {
            "marker": {
             "colorbar": {
              "outlinewidth": 0,
              "ticks": ""
             }
            },
            "type": "scattergl"
           }
          ],
          "scattermapbox": [
           {
            "marker": {
             "colorbar": {
              "outlinewidth": 0,
              "ticks": ""
             }
            },
            "type": "scattermapbox"
           }
          ],
          "scatterpolar": [
           {
            "marker": {
             "colorbar": {
              "outlinewidth": 0,
              "ticks": ""
             }
            },
            "type": "scatterpolar"
           }
          ],
          "scatterpolargl": [
           {
            "marker": {
             "colorbar": {
              "outlinewidth": 0,
              "ticks": ""
             }
            },
            "type": "scatterpolargl"
           }
          ],
          "scatterternary": [
           {
            "marker": {
             "colorbar": {
              "outlinewidth": 0,
              "ticks": ""
             }
            },
            "type": "scatterternary"
           }
          ],
          "surface": [
           {
            "colorbar": {
             "outlinewidth": 0,
             "ticks": ""
            },
            "colorscale": [
             [
              0,
              "#0d0887"
             ],
             [
              0.1111111111111111,
              "#46039f"
             ],
             [
              0.2222222222222222,
              "#7201a8"
             ],
             [
              0.3333333333333333,
              "#9c179e"
             ],
             [
              0.4444444444444444,
              "#bd3786"
             ],
             [
              0.5555555555555556,
              "#d8576b"
             ],
             [
              0.6666666666666666,
              "#ed7953"
             ],
             [
              0.7777777777777778,
              "#fb9f3a"
             ],
             [
              0.8888888888888888,
              "#fdca26"
             ],
             [
              1,
              "#f0f921"
             ]
            ],
            "type": "surface"
           }
          ],
          "table": [
           {
            "cells": {
             "fill": {
              "color": "#EBF0F8"
             },
             "line": {
              "color": "white"
             }
            },
            "header": {
             "fill": {
              "color": "#C8D4E3"
             },
             "line": {
              "color": "white"
             }
            },
            "type": "table"
           }
          ]
         },
         "layout": {
          "annotationdefaults": {
           "arrowcolor": "#2a3f5f",
           "arrowhead": 0,
           "arrowwidth": 1
          },
          "autotypenumbers": "strict",
          "coloraxis": {
           "colorbar": {
            "outlinewidth": 0,
            "ticks": ""
           }
          },
          "colorscale": {
           "diverging": [
            [
             0,
             "#8e0152"
            ],
            [
             0.1,
             "#c51b7d"
            ],
            [
             0.2,
             "#de77ae"
            ],
            [
             0.3,
             "#f1b6da"
            ],
            [
             0.4,
             "#fde0ef"
            ],
            [
             0.5,
             "#f7f7f7"
            ],
            [
             0.6,
             "#e6f5d0"
            ],
            [
             0.7,
             "#b8e186"
            ],
            [
             0.8,
             "#7fbc41"
            ],
            [
             0.9,
             "#4d9221"
            ],
            [
             1,
             "#276419"
            ]
           ],
           "sequential": [
            [
             0,
             "#0d0887"
            ],
            [
             0.1111111111111111,
             "#46039f"
            ],
            [
             0.2222222222222222,
             "#7201a8"
            ],
            [
             0.3333333333333333,
             "#9c179e"
            ],
            [
             0.4444444444444444,
             "#bd3786"
            ],
            [
             0.5555555555555556,
             "#d8576b"
            ],
            [
             0.6666666666666666,
             "#ed7953"
            ],
            [
             0.7777777777777778,
             "#fb9f3a"
            ],
            [
             0.8888888888888888,
             "#fdca26"
            ],
            [
             1,
             "#f0f921"
            ]
           ],
           "sequentialminus": [
            [
             0,
             "#0d0887"
            ],
            [
             0.1111111111111111,
             "#46039f"
            ],
            [
             0.2222222222222222,
             "#7201a8"
            ],
            [
             0.3333333333333333,
             "#9c179e"
            ],
            [
             0.4444444444444444,
             "#bd3786"
            ],
            [
             0.5555555555555556,
             "#d8576b"
            ],
            [
             0.6666666666666666,
             "#ed7953"
            ],
            [
             0.7777777777777778,
             "#fb9f3a"
            ],
            [
             0.8888888888888888,
             "#fdca26"
            ],
            [
             1,
             "#f0f921"
            ]
           ]
          },
          "colorway": [
           "#636efa",
           "#EF553B",
           "#00cc96",
           "#ab63fa",
           "#FFA15A",
           "#19d3f3",
           "#FF6692",
           "#B6E880",
           "#FF97FF",
           "#FECB52"
          ],
          "font": {
           "color": "#2a3f5f"
          },
          "geo": {
           "bgcolor": "white",
           "lakecolor": "white",
           "landcolor": "#E5ECF6",
           "showlakes": true,
           "showland": true,
           "subunitcolor": "white"
          },
          "hoverlabel": {
           "align": "left"
          },
          "hovermode": "closest",
          "mapbox": {
           "style": "light"
          },
          "paper_bgcolor": "white",
          "plot_bgcolor": "#E5ECF6",
          "polar": {
           "angularaxis": {
            "gridcolor": "white",
            "linecolor": "white",
            "ticks": ""
           },
           "bgcolor": "#E5ECF6",
           "radialaxis": {
            "gridcolor": "white",
            "linecolor": "white",
            "ticks": ""
           }
          },
          "scene": {
           "xaxis": {
            "backgroundcolor": "#E5ECF6",
            "gridcolor": "white",
            "gridwidth": 2,
            "linecolor": "white",
            "showbackground": true,
            "ticks": "",
            "zerolinecolor": "white"
           },
           "yaxis": {
            "backgroundcolor": "#E5ECF6",
            "gridcolor": "white",
            "gridwidth": 2,
            "linecolor": "white",
            "showbackground": true,
            "ticks": "",
            "zerolinecolor": "white"
           },
           "zaxis": {
            "backgroundcolor": "#E5ECF6",
            "gridcolor": "white",
            "gridwidth": 2,
            "linecolor": "white",
            "showbackground": true,
            "ticks": "",
            "zerolinecolor": "white"
           }
          },
          "shapedefaults": {
           "line": {
            "color": "#2a3f5f"
           }
          },
          "ternary": {
           "aaxis": {
            "gridcolor": "white",
            "linecolor": "white",
            "ticks": ""
           },
           "baxis": {
            "gridcolor": "white",
            "linecolor": "white",
            "ticks": ""
           },
           "bgcolor": "#E5ECF6",
           "caxis": {
            "gridcolor": "white",
            "linecolor": "white",
            "ticks": ""
           }
          },
          "title": {
           "x": 0.05
          },
          "xaxis": {
           "automargin": true,
           "gridcolor": "white",
           "linecolor": "white",
           "ticks": "",
           "title": {
            "standoff": 15
           },
           "zerolinecolor": "white",
           "zerolinewidth": 2
          },
          "yaxis": {
           "automargin": true,
           "gridcolor": "white",
           "linecolor": "white",
           "ticks": "",
           "title": {
            "standoff": 15
           },
           "zerolinecolor": "white",
           "zerolinewidth": 2
          }
         }
        },
        "title": {
         "font": {
          "color": "#4D5663"
         }
        },
        "xaxis": {
         "gridcolor": "#E1E5ED",
         "showgrid": true,
         "tickfont": {
          "color": "#4D5663"
         },
         "title": {
          "font": {
           "color": "#4D5663"
          },
          "text": ""
         },
         "zerolinecolor": "#E1E5ED"
        },
        "yaxis": {
         "gridcolor": "#E1E5ED",
         "showgrid": true,
         "tickfont": {
          "color": "#4D5663"
         },
         "title": {
          "font": {
           "color": "#4D5663"
          },
          "text": ""
         },
         "zerolinecolor": "#E1E5ED"
        }
       }
      },
      "text/html": [
       "<div>                            <div id=\"9350f935-be2a-4fa2-8d2b-7919c4c5a1df\" class=\"plotly-graph-div\" style=\"height:525px; width:100%;\"></div>            <script type=\"text/javascript\">                require([\"plotly\"], function(Plotly) {                    window.PLOTLYENV=window.PLOTLYENV || {};\n",
       "                    window.PLOTLYENV.BASE_URL='https://plot.ly';                                    if (document.getElementById(\"9350f935-be2a-4fa2-8d2b-7919c4c5a1df\")) {                    Plotly.newPlot(                        \"9350f935-be2a-4fa2-8d2b-7919c4c5a1df\",                        [{\"colorscale\":[[0.0,\"rgb(255, 153, 51)\"],[0.1111111111111111,\"rgb(55, 128, 191)\"],[0.2222222222222222,\"rgb(50, 171, 96)\"],[0.3333333333333333,\"rgb(128, 0, 128)\"],[0.4444444444444444,\"rgb(219, 64, 82)\"],[0.5555555555555556,\"rgb(0, 128, 128)\"],[0.6666666666666666,\"rgb(255, 255, 51)\"],[0.7777777777777778,\"rgb(128, 128, 0)\"],[0.8888888888888888,\"rgb(251, 128, 114)\"],[1.0,\"rgb(128, 177, 211)\"]],\"x\":[0,1,2,3,4,5,6,7,8,9,10,11,12,13,14,15,16,17,18,19],\"y\":[\"x\",\"y\",\"z\",\"k\"],\"z\":[[5,16,35,46,1,38,16,3,32,43,20,33,11,29,41,2,29,28,7,33],[66,61,60,40,26,46,55,62,31,58,46,38,21,55,24,56,40,65,22,59],[51,51,64,88,61,91,65,56,62,57,90,86,56,86,97,66,50,65,63,87],[91,75,86,91,70,80,97,99,77,106,94,85,83,87,107,73,91,95,104,85]],\"type\":\"surface\"}],                        {\"legend\":{\"bgcolor\":\"#F5F6F9\",\"font\":{\"color\":\"#4D5663\"}},\"paper_bgcolor\":\"#F5F6F9\",\"plot_bgcolor\":\"#F5F6F9\",\"template\":{\"data\":{\"barpolar\":[{\"marker\":{\"line\":{\"color\":\"#E5ECF6\",\"width\":0.5},\"pattern\":{\"fillmode\":\"overlay\",\"size\":10,\"solidity\":0.2}},\"type\":\"barpolar\"}],\"bar\":[{\"error_x\":{\"color\":\"#2a3f5f\"},\"error_y\":{\"color\":\"#2a3f5f\"},\"marker\":{\"line\":{\"color\":\"#E5ECF6\",\"width\":0.5},\"pattern\":{\"fillmode\":\"overlay\",\"size\":10,\"solidity\":0.2}},\"type\":\"bar\"}],\"carpet\":[{\"aaxis\":{\"endlinecolor\":\"#2a3f5f\",\"gridcolor\":\"white\",\"linecolor\":\"white\",\"minorgridcolor\":\"white\",\"startlinecolor\":\"#2a3f5f\"},\"baxis\":{\"endlinecolor\":\"#2a3f5f\",\"gridcolor\":\"white\",\"linecolor\":\"white\",\"minorgridcolor\":\"white\",\"startlinecolor\":\"#2a3f5f\"},\"type\":\"carpet\"}],\"choropleth\":[{\"colorbar\":{\"outlinewidth\":0,\"ticks\":\"\"},\"type\":\"choropleth\"}],\"contourcarpet\":[{\"colorbar\":{\"outlinewidth\":0,\"ticks\":\"\"},\"type\":\"contourcarpet\"}],\"contour\":[{\"colorbar\":{\"outlinewidth\":0,\"ticks\":\"\"},\"colorscale\":[[0.0,\"#0d0887\"],[0.1111111111111111,\"#46039f\"],[0.2222222222222222,\"#7201a8\"],[0.3333333333333333,\"#9c179e\"],[0.4444444444444444,\"#bd3786\"],[0.5555555555555556,\"#d8576b\"],[0.6666666666666666,\"#ed7953\"],[0.7777777777777778,\"#fb9f3a\"],[0.8888888888888888,\"#fdca26\"],[1.0,\"#f0f921\"]],\"type\":\"contour\"}],\"heatmapgl\":[{\"colorbar\":{\"outlinewidth\":0,\"ticks\":\"\"},\"colorscale\":[[0.0,\"#0d0887\"],[0.1111111111111111,\"#46039f\"],[0.2222222222222222,\"#7201a8\"],[0.3333333333333333,\"#9c179e\"],[0.4444444444444444,\"#bd3786\"],[0.5555555555555556,\"#d8576b\"],[0.6666666666666666,\"#ed7953\"],[0.7777777777777778,\"#fb9f3a\"],[0.8888888888888888,\"#fdca26\"],[1.0,\"#f0f921\"]],\"type\":\"heatmapgl\"}],\"heatmap\":[{\"colorbar\":{\"outlinewidth\":0,\"ticks\":\"\"},\"colorscale\":[[0.0,\"#0d0887\"],[0.1111111111111111,\"#46039f\"],[0.2222222222222222,\"#7201a8\"],[0.3333333333333333,\"#9c179e\"],[0.4444444444444444,\"#bd3786\"],[0.5555555555555556,\"#d8576b\"],[0.6666666666666666,\"#ed7953\"],[0.7777777777777778,\"#fb9f3a\"],[0.8888888888888888,\"#fdca26\"],[1.0,\"#f0f921\"]],\"type\":\"heatmap\"}],\"histogram2dcontour\":[{\"colorbar\":{\"outlinewidth\":0,\"ticks\":\"\"},\"colorscale\":[[0.0,\"#0d0887\"],[0.1111111111111111,\"#46039f\"],[0.2222222222222222,\"#7201a8\"],[0.3333333333333333,\"#9c179e\"],[0.4444444444444444,\"#bd3786\"],[0.5555555555555556,\"#d8576b\"],[0.6666666666666666,\"#ed7953\"],[0.7777777777777778,\"#fb9f3a\"],[0.8888888888888888,\"#fdca26\"],[1.0,\"#f0f921\"]],\"type\":\"histogram2dcontour\"}],\"histogram2d\":[{\"colorbar\":{\"outlinewidth\":0,\"ticks\":\"\"},\"colorscale\":[[0.0,\"#0d0887\"],[0.1111111111111111,\"#46039f\"],[0.2222222222222222,\"#7201a8\"],[0.3333333333333333,\"#9c179e\"],[0.4444444444444444,\"#bd3786\"],[0.5555555555555556,\"#d8576b\"],[0.6666666666666666,\"#ed7953\"],[0.7777777777777778,\"#fb9f3a\"],[0.8888888888888888,\"#fdca26\"],[1.0,\"#f0f921\"]],\"type\":\"histogram2d\"}],\"histogram\":[{\"marker\":{\"pattern\":{\"fillmode\":\"overlay\",\"size\":10,\"solidity\":0.2}},\"type\":\"histogram\"}],\"mesh3d\":[{\"colorbar\":{\"outlinewidth\":0,\"ticks\":\"\"},\"type\":\"mesh3d\"}],\"parcoords\":[{\"line\":{\"colorbar\":{\"outlinewidth\":0,\"ticks\":\"\"}},\"type\":\"parcoords\"}],\"pie\":[{\"automargin\":true,\"type\":\"pie\"}],\"scatter3d\":[{\"line\":{\"colorbar\":{\"outlinewidth\":0,\"ticks\":\"\"}},\"marker\":{\"colorbar\":{\"outlinewidth\":0,\"ticks\":\"\"}},\"type\":\"scatter3d\"}],\"scattercarpet\":[{\"marker\":{\"colorbar\":{\"outlinewidth\":0,\"ticks\":\"\"}},\"type\":\"scattercarpet\"}],\"scattergeo\":[{\"marker\":{\"colorbar\":{\"outlinewidth\":0,\"ticks\":\"\"}},\"type\":\"scattergeo\"}],\"scattergl\":[{\"marker\":{\"colorbar\":{\"outlinewidth\":0,\"ticks\":\"\"}},\"type\":\"scattergl\"}],\"scattermapbox\":[{\"marker\":{\"colorbar\":{\"outlinewidth\":0,\"ticks\":\"\"}},\"type\":\"scattermapbox\"}],\"scatterpolargl\":[{\"marker\":{\"colorbar\":{\"outlinewidth\":0,\"ticks\":\"\"}},\"type\":\"scatterpolargl\"}],\"scatterpolar\":[{\"marker\":{\"colorbar\":{\"outlinewidth\":0,\"ticks\":\"\"}},\"type\":\"scatterpolar\"}],\"scatter\":[{\"fillpattern\":{\"fillmode\":\"overlay\",\"size\":10,\"solidity\":0.2},\"type\":\"scatter\"}],\"scatterternary\":[{\"marker\":{\"colorbar\":{\"outlinewidth\":0,\"ticks\":\"\"}},\"type\":\"scatterternary\"}],\"surface\":[{\"colorbar\":{\"outlinewidth\":0,\"ticks\":\"\"},\"colorscale\":[[0.0,\"#0d0887\"],[0.1111111111111111,\"#46039f\"],[0.2222222222222222,\"#7201a8\"],[0.3333333333333333,\"#9c179e\"],[0.4444444444444444,\"#bd3786\"],[0.5555555555555556,\"#d8576b\"],[0.6666666666666666,\"#ed7953\"],[0.7777777777777778,\"#fb9f3a\"],[0.8888888888888888,\"#fdca26\"],[1.0,\"#f0f921\"]],\"type\":\"surface\"}],\"table\":[{\"cells\":{\"fill\":{\"color\":\"#EBF0F8\"},\"line\":{\"color\":\"white\"}},\"header\":{\"fill\":{\"color\":\"#C8D4E3\"},\"line\":{\"color\":\"white\"}},\"type\":\"table\"}]},\"layout\":{\"annotationdefaults\":{\"arrowcolor\":\"#2a3f5f\",\"arrowhead\":0,\"arrowwidth\":1},\"autotypenumbers\":\"strict\",\"coloraxis\":{\"colorbar\":{\"outlinewidth\":0,\"ticks\":\"\"}},\"colorscale\":{\"diverging\":[[0,\"#8e0152\"],[0.1,\"#c51b7d\"],[0.2,\"#de77ae\"],[0.3,\"#f1b6da\"],[0.4,\"#fde0ef\"],[0.5,\"#f7f7f7\"],[0.6,\"#e6f5d0\"],[0.7,\"#b8e186\"],[0.8,\"#7fbc41\"],[0.9,\"#4d9221\"],[1,\"#276419\"]],\"sequential\":[[0.0,\"#0d0887\"],[0.1111111111111111,\"#46039f\"],[0.2222222222222222,\"#7201a8\"],[0.3333333333333333,\"#9c179e\"],[0.4444444444444444,\"#bd3786\"],[0.5555555555555556,\"#d8576b\"],[0.6666666666666666,\"#ed7953\"],[0.7777777777777778,\"#fb9f3a\"],[0.8888888888888888,\"#fdca26\"],[1.0,\"#f0f921\"]],\"sequentialminus\":[[0.0,\"#0d0887\"],[0.1111111111111111,\"#46039f\"],[0.2222222222222222,\"#7201a8\"],[0.3333333333333333,\"#9c179e\"],[0.4444444444444444,\"#bd3786\"],[0.5555555555555556,\"#d8576b\"],[0.6666666666666666,\"#ed7953\"],[0.7777777777777778,\"#fb9f3a\"],[0.8888888888888888,\"#fdca26\"],[1.0,\"#f0f921\"]]},\"colorway\":[\"#636efa\",\"#EF553B\",\"#00cc96\",\"#ab63fa\",\"#FFA15A\",\"#19d3f3\",\"#FF6692\",\"#B6E880\",\"#FF97FF\",\"#FECB52\"],\"font\":{\"color\":\"#2a3f5f\"},\"geo\":{\"bgcolor\":\"white\",\"lakecolor\":\"white\",\"landcolor\":\"#E5ECF6\",\"showlakes\":true,\"showland\":true,\"subunitcolor\":\"white\"},\"hoverlabel\":{\"align\":\"left\"},\"hovermode\":\"closest\",\"mapbox\":{\"style\":\"light\"},\"paper_bgcolor\":\"white\",\"plot_bgcolor\":\"#E5ECF6\",\"polar\":{\"angularaxis\":{\"gridcolor\":\"white\",\"linecolor\":\"white\",\"ticks\":\"\"},\"bgcolor\":\"#E5ECF6\",\"radialaxis\":{\"gridcolor\":\"white\",\"linecolor\":\"white\",\"ticks\":\"\"}},\"scene\":{\"xaxis\":{\"backgroundcolor\":\"#E5ECF6\",\"gridcolor\":\"white\",\"gridwidth\":2,\"linecolor\":\"white\",\"showbackground\":true,\"ticks\":\"\",\"zerolinecolor\":\"white\"},\"yaxis\":{\"backgroundcolor\":\"#E5ECF6\",\"gridcolor\":\"white\",\"gridwidth\":2,\"linecolor\":\"white\",\"showbackground\":true,\"ticks\":\"\",\"zerolinecolor\":\"white\"},\"zaxis\":{\"backgroundcolor\":\"#E5ECF6\",\"gridcolor\":\"white\",\"gridwidth\":2,\"linecolor\":\"white\",\"showbackground\":true,\"ticks\":\"\",\"zerolinecolor\":\"white\"}},\"shapedefaults\":{\"line\":{\"color\":\"#2a3f5f\"}},\"ternary\":{\"aaxis\":{\"gridcolor\":\"white\",\"linecolor\":\"white\",\"ticks\":\"\"},\"baxis\":{\"gridcolor\":\"white\",\"linecolor\":\"white\",\"ticks\":\"\"},\"bgcolor\":\"#E5ECF6\",\"caxis\":{\"gridcolor\":\"white\",\"linecolor\":\"white\",\"ticks\":\"\"}},\"title\":{\"x\":0.05},\"xaxis\":{\"automargin\":true,\"gridcolor\":\"white\",\"linecolor\":\"white\",\"ticks\":\"\",\"title\":{\"standoff\":15},\"zerolinecolor\":\"white\",\"zerolinewidth\":2},\"yaxis\":{\"automargin\":true,\"gridcolor\":\"white\",\"linecolor\":\"white\",\"ticks\":\"\",\"title\":{\"standoff\":15},\"zerolinecolor\":\"white\",\"zerolinewidth\":2}}},\"title\":{\"font\":{\"color\":\"#4D5663\"}},\"xaxis\":{\"gridcolor\":\"#E1E5ED\",\"showgrid\":true,\"tickfont\":{\"color\":\"#4D5663\"},\"title\":{\"font\":{\"color\":\"#4D5663\"},\"text\":\"\"},\"zerolinecolor\":\"#E1E5ED\"},\"yaxis\":{\"gridcolor\":\"#E1E5ED\",\"showgrid\":true,\"tickfont\":{\"color\":\"#4D5663\"},\"title\":{\"font\":{\"color\":\"#4D5663\"},\"text\":\"\"},\"zerolinecolor\":\"#E1E5ED\"}},                        {\"showLink\": true, \"linkText\": \"Export to plot.ly\", \"plotlyServerURL\": \"https://plot.ly\", \"responsive\": true}                    ).then(function(){\n",
       "                            \n",
       "var gd = document.getElementById('9350f935-be2a-4fa2-8d2b-7919c4c5a1df');\n",
       "var x = new MutationObserver(function (mutations, observer) {{\n",
       "        var display = window.getComputedStyle(gd).display;\n",
       "        if (!display || display === 'none') {{\n",
       "            console.log([gd, 'removed!']);\n",
       "            Plotly.purge(gd);\n",
       "            observer.disconnect();\n",
       "        }}\n",
       "}});\n",
       "\n",
       "// Listen for the removal of the full notebook cells\n",
       "var notebookContainer = gd.closest('#notebook-container');\n",
       "if (notebookContainer) {{\n",
       "    x.observe(notebookContainer, {childList: true});\n",
       "}}\n",
       "\n",
       "// Listen for the clearing of the current output cell\n",
       "var outputEl = gd.closest('.output');\n",
       "if (outputEl) {{\n",
       "    x.observe(outputEl, {childList: true});\n",
       "}}\n",
       "\n",
       "                        })                };                });            </script>        </div>"
      ]
     },
     "metadata": {},
     "output_type": "display_data"
    }
   ],
   "source": [
    "df4.iplot(kind=\"surface\")"
   ]
  },
  {
   "cell_type": "code",
   "execution_count": 55,
   "id": "1fce942c",
   "metadata": {},
   "outputs": [
    {
     "data": {
      "application/vnd.plotly.v1+json": {
       "config": {
        "linkText": "Export to plot.ly",
        "plotlyServerURL": "https://plot.ly",
        "showLink": true
       },
       "data": [
        {
         "histfunc": "count",
         "histnorm": "",
         "marker": {
          "color": "rgba(255, 153, 51, 1.0)",
          "line": {
           "color": "#4D5663",
           "width": 1.3
          }
         },
         "name": "A",
         "nbinsx": 50,
         "opacity": 0.8,
         "orientation": "v",
         "type": "histogram",
         "x": [
          0.2249574122485187,
          -0.14261442417502293,
          -0.2550693898234665,
          0.685612907940947,
          1.6696377029416647,
          -0.6276630448948421,
          -0.3675932197581956,
          0.8601065321997801,
          0.3029584160575629,
          1.4871959331592248,
          -1.1402052303681383,
          -0.10363052533320498,
          -1.227114249882769,
          1.0517098065952517,
          0.18111386197406235,
          -0.6224553189786596,
          -1.1914704485957508,
          0.6505610670402162,
          -1.0311546827111027,
          -0.3220045091127159,
          0.6201846864041929,
          -0.3136670563097545,
          0.3122077103270754,
          0.9019905430898144,
          0.7314170684298197,
          -0.840305166395734,
          -1.1196562155436376,
          0.22835011296288307,
          -0.21548374150626115,
          -0.07777464559266904,
          -2.197928658415042,
          -0.28835600690837554,
          -0.12235519259126607,
          -1.3580351035282827,
          0.2132605551579515,
          0.46070651683040154,
          0.7963444611084912,
          0.1094805824159229,
          -0.6102506779738078,
          1.1329129967541405,
          -0.5065961707940483,
          0.3745901537387485,
          0.7946114378721225,
          1.1465167276749233,
          -2.0553288125734057,
          0.10100751854400598,
          0.6645436919180743,
          -2.412988684855048,
          0.5122070039497443,
          1.4030992357915617,
          0.24913590252340764,
          -1.4870597006201085,
          -1.3661838507640083,
          -0.1519904820928337,
          0.4088874943908349,
          0.28921834149417314,
          -0.5477050903562732,
          -1.00334077408219,
          -1.9782068285772612,
          -1.559539636679243,
          1.1878319779769697,
          -0.5514926543266923,
          -1.239928895872855,
          1.361883671248535,
          0.6178324441029704,
          0.9377043609805684,
          0.403641750993754,
          -1.9264422169236457,
          -0.39329684106780577,
          -0.18962422021135977,
          0.4309102642418277,
          0.13416483620471115,
          -1.8475271675664917,
          1.276656958413032,
          0.5536066672322233,
          0.7451250480407975,
          -1.1885494428288137,
          0.808597310965037,
          -0.049207908473800556,
          0.1822632839586508,
          1.09853989816661,
          -1.9058038090611038,
          -0.538794190231828,
          0.28458672788291245,
          -1.7107356167627255,
          0.35184119723705537,
          -1.3012008916908282,
          -0.9108700963300996,
          -0.838242587698326,
          1.5118378297958461,
          -0.525715085033998,
          -0.5280227761153535,
          1.5009480547986114,
          -1.1882945291476716,
          -1.2722134708587935,
          -0.25068439424681555,
          -1.0076209780516017,
          -0.742483026883699,
          -0.5971237711770452,
          -0.06812184219397695
         ]
        }
       ],
       "layout": {
        "barmode": "overlay",
        "legend": {
         "bgcolor": "#F5F6F9",
         "font": {
          "color": "#4D5663"
         }
        },
        "paper_bgcolor": "#F5F6F9",
        "plot_bgcolor": "#F5F6F9",
        "template": {
         "data": {
          "bar": [
           {
            "error_x": {
             "color": "#2a3f5f"
            },
            "error_y": {
             "color": "#2a3f5f"
            },
            "marker": {
             "line": {
              "color": "#E5ECF6",
              "width": 0.5
             },
             "pattern": {
              "fillmode": "overlay",
              "size": 10,
              "solidity": 0.2
             }
            },
            "type": "bar"
           }
          ],
          "barpolar": [
           {
            "marker": {
             "line": {
              "color": "#E5ECF6",
              "width": 0.5
             },
             "pattern": {
              "fillmode": "overlay",
              "size": 10,
              "solidity": 0.2
             }
            },
            "type": "barpolar"
           }
          ],
          "carpet": [
           {
            "aaxis": {
             "endlinecolor": "#2a3f5f",
             "gridcolor": "white",
             "linecolor": "white",
             "minorgridcolor": "white",
             "startlinecolor": "#2a3f5f"
            },
            "baxis": {
             "endlinecolor": "#2a3f5f",
             "gridcolor": "white",
             "linecolor": "white",
             "minorgridcolor": "white",
             "startlinecolor": "#2a3f5f"
            },
            "type": "carpet"
           }
          ],
          "choropleth": [
           {
            "colorbar": {
             "outlinewidth": 0,
             "ticks": ""
            },
            "type": "choropleth"
           }
          ],
          "contour": [
           {
            "colorbar": {
             "outlinewidth": 0,
             "ticks": ""
            },
            "colorscale": [
             [
              0,
              "#0d0887"
             ],
             [
              0.1111111111111111,
              "#46039f"
             ],
             [
              0.2222222222222222,
              "#7201a8"
             ],
             [
              0.3333333333333333,
              "#9c179e"
             ],
             [
              0.4444444444444444,
              "#bd3786"
             ],
             [
              0.5555555555555556,
              "#d8576b"
             ],
             [
              0.6666666666666666,
              "#ed7953"
             ],
             [
              0.7777777777777778,
              "#fb9f3a"
             ],
             [
              0.8888888888888888,
              "#fdca26"
             ],
             [
              1,
              "#f0f921"
             ]
            ],
            "type": "contour"
           }
          ],
          "contourcarpet": [
           {
            "colorbar": {
             "outlinewidth": 0,
             "ticks": ""
            },
            "type": "contourcarpet"
           }
          ],
          "heatmap": [
           {
            "colorbar": {
             "outlinewidth": 0,
             "ticks": ""
            },
            "colorscale": [
             [
              0,
              "#0d0887"
             ],
             [
              0.1111111111111111,
              "#46039f"
             ],
             [
              0.2222222222222222,
              "#7201a8"
             ],
             [
              0.3333333333333333,
              "#9c179e"
             ],
             [
              0.4444444444444444,
              "#bd3786"
             ],
             [
              0.5555555555555556,
              "#d8576b"
             ],
             [
              0.6666666666666666,
              "#ed7953"
             ],
             [
              0.7777777777777778,
              "#fb9f3a"
             ],
             [
              0.8888888888888888,
              "#fdca26"
             ],
             [
              1,
              "#f0f921"
             ]
            ],
            "type": "heatmap"
           }
          ],
          "heatmapgl": [
           {
            "colorbar": {
             "outlinewidth": 0,
             "ticks": ""
            },
            "colorscale": [
             [
              0,
              "#0d0887"
             ],
             [
              0.1111111111111111,
              "#46039f"
             ],
             [
              0.2222222222222222,
              "#7201a8"
             ],
             [
              0.3333333333333333,
              "#9c179e"
             ],
             [
              0.4444444444444444,
              "#bd3786"
             ],
             [
              0.5555555555555556,
              "#d8576b"
             ],
             [
              0.6666666666666666,
              "#ed7953"
             ],
             [
              0.7777777777777778,
              "#fb9f3a"
             ],
             [
              0.8888888888888888,
              "#fdca26"
             ],
             [
              1,
              "#f0f921"
             ]
            ],
            "type": "heatmapgl"
           }
          ],
          "histogram": [
           {
            "marker": {
             "pattern": {
              "fillmode": "overlay",
              "size": 10,
              "solidity": 0.2
             }
            },
            "type": "histogram"
           }
          ],
          "histogram2d": [
           {
            "colorbar": {
             "outlinewidth": 0,
             "ticks": ""
            },
            "colorscale": [
             [
              0,
              "#0d0887"
             ],
             [
              0.1111111111111111,
              "#46039f"
             ],
             [
              0.2222222222222222,
              "#7201a8"
             ],
             [
              0.3333333333333333,
              "#9c179e"
             ],
             [
              0.4444444444444444,
              "#bd3786"
             ],
             [
              0.5555555555555556,
              "#d8576b"
             ],
             [
              0.6666666666666666,
              "#ed7953"
             ],
             [
              0.7777777777777778,
              "#fb9f3a"
             ],
             [
              0.8888888888888888,
              "#fdca26"
             ],
             [
              1,
              "#f0f921"
             ]
            ],
            "type": "histogram2d"
           }
          ],
          "histogram2dcontour": [
           {
            "colorbar": {
             "outlinewidth": 0,
             "ticks": ""
            },
            "colorscale": [
             [
              0,
              "#0d0887"
             ],
             [
              0.1111111111111111,
              "#46039f"
             ],
             [
              0.2222222222222222,
              "#7201a8"
             ],
             [
              0.3333333333333333,
              "#9c179e"
             ],
             [
              0.4444444444444444,
              "#bd3786"
             ],
             [
              0.5555555555555556,
              "#d8576b"
             ],
             [
              0.6666666666666666,
              "#ed7953"
             ],
             [
              0.7777777777777778,
              "#fb9f3a"
             ],
             [
              0.8888888888888888,
              "#fdca26"
             ],
             [
              1,
              "#f0f921"
             ]
            ],
            "type": "histogram2dcontour"
           }
          ],
          "mesh3d": [
           {
            "colorbar": {
             "outlinewidth": 0,
             "ticks": ""
            },
            "type": "mesh3d"
           }
          ],
          "parcoords": [
           {
            "line": {
             "colorbar": {
              "outlinewidth": 0,
              "ticks": ""
             }
            },
            "type": "parcoords"
           }
          ],
          "pie": [
           {
            "automargin": true,
            "type": "pie"
           }
          ],
          "scatter": [
           {
            "fillpattern": {
             "fillmode": "overlay",
             "size": 10,
             "solidity": 0.2
            },
            "type": "scatter"
           }
          ],
          "scatter3d": [
           {
            "line": {
             "colorbar": {
              "outlinewidth": 0,
              "ticks": ""
             }
            },
            "marker": {
             "colorbar": {
              "outlinewidth": 0,
              "ticks": ""
             }
            },
            "type": "scatter3d"
           }
          ],
          "scattercarpet": [
           {
            "marker": {
             "colorbar": {
              "outlinewidth": 0,
              "ticks": ""
             }
            },
            "type": "scattercarpet"
           }
          ],
          "scattergeo": [
           {
            "marker": {
             "colorbar": {
              "outlinewidth": 0,
              "ticks": ""
             }
            },
            "type": "scattergeo"
           }
          ],
          "scattergl": [
           {
            "marker": {
             "colorbar": {
              "outlinewidth": 0,
              "ticks": ""
             }
            },
            "type": "scattergl"
           }
          ],
          "scattermapbox": [
           {
            "marker": {
             "colorbar": {
              "outlinewidth": 0,
              "ticks": ""
             }
            },
            "type": "scattermapbox"
           }
          ],
          "scatterpolar": [
           {
            "marker": {
             "colorbar": {
              "outlinewidth": 0,
              "ticks": ""
             }
            },
            "type": "scatterpolar"
           }
          ],
          "scatterpolargl": [
           {
            "marker": {
             "colorbar": {
              "outlinewidth": 0,
              "ticks": ""
             }
            },
            "type": "scatterpolargl"
           }
          ],
          "scatterternary": [
           {
            "marker": {
             "colorbar": {
              "outlinewidth": 0,
              "ticks": ""
             }
            },
            "type": "scatterternary"
           }
          ],
          "surface": [
           {
            "colorbar": {
             "outlinewidth": 0,
             "ticks": ""
            },
            "colorscale": [
             [
              0,
              "#0d0887"
             ],
             [
              0.1111111111111111,
              "#46039f"
             ],
             [
              0.2222222222222222,
              "#7201a8"
             ],
             [
              0.3333333333333333,
              "#9c179e"
             ],
             [
              0.4444444444444444,
              "#bd3786"
             ],
             [
              0.5555555555555556,
              "#d8576b"
             ],
             [
              0.6666666666666666,
              "#ed7953"
             ],
             [
              0.7777777777777778,
              "#fb9f3a"
             ],
             [
              0.8888888888888888,
              "#fdca26"
             ],
             [
              1,
              "#f0f921"
             ]
            ],
            "type": "surface"
           }
          ],
          "table": [
           {
            "cells": {
             "fill": {
              "color": "#EBF0F8"
             },
             "line": {
              "color": "white"
             }
            },
            "header": {
             "fill": {
              "color": "#C8D4E3"
             },
             "line": {
              "color": "white"
             }
            },
            "type": "table"
           }
          ]
         },
         "layout": {
          "annotationdefaults": {
           "arrowcolor": "#2a3f5f",
           "arrowhead": 0,
           "arrowwidth": 1
          },
          "autotypenumbers": "strict",
          "coloraxis": {
           "colorbar": {
            "outlinewidth": 0,
            "ticks": ""
           }
          },
          "colorscale": {
           "diverging": [
            [
             0,
             "#8e0152"
            ],
            [
             0.1,
             "#c51b7d"
            ],
            [
             0.2,
             "#de77ae"
            ],
            [
             0.3,
             "#f1b6da"
            ],
            [
             0.4,
             "#fde0ef"
            ],
            [
             0.5,
             "#f7f7f7"
            ],
            [
             0.6,
             "#e6f5d0"
            ],
            [
             0.7,
             "#b8e186"
            ],
            [
             0.8,
             "#7fbc41"
            ],
            [
             0.9,
             "#4d9221"
            ],
            [
             1,
             "#276419"
            ]
           ],
           "sequential": [
            [
             0,
             "#0d0887"
            ],
            [
             0.1111111111111111,
             "#46039f"
            ],
            [
             0.2222222222222222,
             "#7201a8"
            ],
            [
             0.3333333333333333,
             "#9c179e"
            ],
            [
             0.4444444444444444,
             "#bd3786"
            ],
            [
             0.5555555555555556,
             "#d8576b"
            ],
            [
             0.6666666666666666,
             "#ed7953"
            ],
            [
             0.7777777777777778,
             "#fb9f3a"
            ],
            [
             0.8888888888888888,
             "#fdca26"
            ],
            [
             1,
             "#f0f921"
            ]
           ],
           "sequentialminus": [
            [
             0,
             "#0d0887"
            ],
            [
             0.1111111111111111,
             "#46039f"
            ],
            [
             0.2222222222222222,
             "#7201a8"
            ],
            [
             0.3333333333333333,
             "#9c179e"
            ],
            [
             0.4444444444444444,
             "#bd3786"
            ],
            [
             0.5555555555555556,
             "#d8576b"
            ],
            [
             0.6666666666666666,
             "#ed7953"
            ],
            [
             0.7777777777777778,
             "#fb9f3a"
            ],
            [
             0.8888888888888888,
             "#fdca26"
            ],
            [
             1,
             "#f0f921"
            ]
           ]
          },
          "colorway": [
           "#636efa",
           "#EF553B",
           "#00cc96",
           "#ab63fa",
           "#FFA15A",
           "#19d3f3",
           "#FF6692",
           "#B6E880",
           "#FF97FF",
           "#FECB52"
          ],
          "font": {
           "color": "#2a3f5f"
          },
          "geo": {
           "bgcolor": "white",
           "lakecolor": "white",
           "landcolor": "#E5ECF6",
           "showlakes": true,
           "showland": true,
           "subunitcolor": "white"
          },
          "hoverlabel": {
           "align": "left"
          },
          "hovermode": "closest",
          "mapbox": {
           "style": "light"
          },
          "paper_bgcolor": "white",
          "plot_bgcolor": "#E5ECF6",
          "polar": {
           "angularaxis": {
            "gridcolor": "white",
            "linecolor": "white",
            "ticks": ""
           },
           "bgcolor": "#E5ECF6",
           "radialaxis": {
            "gridcolor": "white",
            "linecolor": "white",
            "ticks": ""
           }
          },
          "scene": {
           "xaxis": {
            "backgroundcolor": "#E5ECF6",
            "gridcolor": "white",
            "gridwidth": 2,
            "linecolor": "white",
            "showbackground": true,
            "ticks": "",
            "zerolinecolor": "white"
           },
           "yaxis": {
            "backgroundcolor": "#E5ECF6",
            "gridcolor": "white",
            "gridwidth": 2,
            "linecolor": "white",
            "showbackground": true,
            "ticks": "",
            "zerolinecolor": "white"
           },
           "zaxis": {
            "backgroundcolor": "#E5ECF6",
            "gridcolor": "white",
            "gridwidth": 2,
            "linecolor": "white",
            "showbackground": true,
            "ticks": "",
            "zerolinecolor": "white"
           }
          },
          "shapedefaults": {
           "line": {
            "color": "#2a3f5f"
           }
          },
          "ternary": {
           "aaxis": {
            "gridcolor": "white",
            "linecolor": "white",
            "ticks": ""
           },
           "baxis": {
            "gridcolor": "white",
            "linecolor": "white",
            "ticks": ""
           },
           "bgcolor": "#E5ECF6",
           "caxis": {
            "gridcolor": "white",
            "linecolor": "white",
            "ticks": ""
           }
          },
          "title": {
           "x": 0.05
          },
          "xaxis": {
           "automargin": true,
           "gridcolor": "white",
           "linecolor": "white",
           "ticks": "",
           "title": {
            "standoff": 15
           },
           "zerolinecolor": "white",
           "zerolinewidth": 2
          },
          "yaxis": {
           "automargin": true,
           "gridcolor": "white",
           "linecolor": "white",
           "ticks": "",
           "title": {
            "standoff": 15
           },
           "zerolinecolor": "white",
           "zerolinewidth": 2
          }
         }
        },
        "title": {
         "font": {
          "color": "#4D5663"
         }
        },
        "xaxis": {
         "gridcolor": "#E1E5ED",
         "showgrid": true,
         "tickfont": {
          "color": "#4D5663"
         },
         "title": {
          "font": {
           "color": "#4D5663"
          },
          "text": ""
         },
         "zerolinecolor": "#E1E5ED"
        },
        "yaxis": {
         "gridcolor": "#E1E5ED",
         "showgrid": true,
         "tickfont": {
          "color": "#4D5663"
         },
         "title": {
          "font": {
           "color": "#4D5663"
          },
          "text": ""
         },
         "zerolinecolor": "#E1E5ED"
        }
       }
      },
      "text/html": [
       "<div>                            <div id=\"b8e74bec-97ab-4d51-b117-c7d40c73d623\" class=\"plotly-graph-div\" style=\"height:525px; width:100%;\"></div>            <script type=\"text/javascript\">                require([\"plotly\"], function(Plotly) {                    window.PLOTLYENV=window.PLOTLYENV || {};\n",
       "                    window.PLOTLYENV.BASE_URL='https://plot.ly';                                    if (document.getElementById(\"b8e74bec-97ab-4d51-b117-c7d40c73d623\")) {                    Plotly.newPlot(                        \"b8e74bec-97ab-4d51-b117-c7d40c73d623\",                        [{\"histfunc\":\"count\",\"histnorm\":\"\",\"marker\":{\"color\":\"rgba(255, 153, 51, 1.0)\",\"line\":{\"color\":\"#4D5663\",\"width\":1.3}},\"name\":\"A\",\"nbinsx\":50,\"opacity\":0.8,\"orientation\":\"v\",\"x\":[0.2249574122485187,-0.14261442417502293,-0.2550693898234665,0.685612907940947,1.6696377029416647,-0.6276630448948421,-0.3675932197581956,0.8601065321997801,0.3029584160575629,1.4871959331592248,-1.1402052303681383,-0.10363052533320498,-1.227114249882769,1.0517098065952517,0.18111386197406235,-0.6224553189786596,-1.1914704485957508,0.6505610670402162,-1.0311546827111027,-0.3220045091127159,0.6201846864041929,-0.3136670563097545,0.3122077103270754,0.9019905430898144,0.7314170684298197,-0.840305166395734,-1.1196562155436376,0.22835011296288307,-0.21548374150626115,-0.07777464559266904,-2.197928658415042,-0.28835600690837554,-0.12235519259126607,-1.3580351035282827,0.2132605551579515,0.46070651683040154,0.7963444611084912,0.1094805824159229,-0.6102506779738078,1.1329129967541405,-0.5065961707940483,0.3745901537387485,0.7946114378721225,1.1465167276749233,-2.0553288125734057,0.10100751854400598,0.6645436919180743,-2.412988684855048,0.5122070039497443,1.4030992357915617,0.24913590252340764,-1.4870597006201085,-1.3661838507640083,-0.1519904820928337,0.4088874943908349,0.28921834149417314,-0.5477050903562732,-1.00334077408219,-1.9782068285772612,-1.559539636679243,1.1878319779769697,-0.5514926543266923,-1.239928895872855,1.361883671248535,0.6178324441029704,0.9377043609805684,0.403641750993754,-1.9264422169236457,-0.39329684106780577,-0.18962422021135977,0.4309102642418277,0.13416483620471115,-1.8475271675664917,1.276656958413032,0.5536066672322233,0.7451250480407975,-1.1885494428288137,0.808597310965037,-0.049207908473800556,0.1822632839586508,1.09853989816661,-1.9058038090611038,-0.538794190231828,0.28458672788291245,-1.7107356167627255,0.35184119723705537,-1.3012008916908282,-0.9108700963300996,-0.838242587698326,1.5118378297958461,-0.525715085033998,-0.5280227761153535,1.5009480547986114,-1.1882945291476716,-1.2722134708587935,-0.25068439424681555,-1.0076209780516017,-0.742483026883699,-0.5971237711770452,-0.06812184219397695],\"type\":\"histogram\"}],                        {\"barmode\":\"overlay\",\"legend\":{\"bgcolor\":\"#F5F6F9\",\"font\":{\"color\":\"#4D5663\"}},\"paper_bgcolor\":\"#F5F6F9\",\"plot_bgcolor\":\"#F5F6F9\",\"template\":{\"data\":{\"barpolar\":[{\"marker\":{\"line\":{\"color\":\"#E5ECF6\",\"width\":0.5},\"pattern\":{\"fillmode\":\"overlay\",\"size\":10,\"solidity\":0.2}},\"type\":\"barpolar\"}],\"bar\":[{\"error_x\":{\"color\":\"#2a3f5f\"},\"error_y\":{\"color\":\"#2a3f5f\"},\"marker\":{\"line\":{\"color\":\"#E5ECF6\",\"width\":0.5},\"pattern\":{\"fillmode\":\"overlay\",\"size\":10,\"solidity\":0.2}},\"type\":\"bar\"}],\"carpet\":[{\"aaxis\":{\"endlinecolor\":\"#2a3f5f\",\"gridcolor\":\"white\",\"linecolor\":\"white\",\"minorgridcolor\":\"white\",\"startlinecolor\":\"#2a3f5f\"},\"baxis\":{\"endlinecolor\":\"#2a3f5f\",\"gridcolor\":\"white\",\"linecolor\":\"white\",\"minorgridcolor\":\"white\",\"startlinecolor\":\"#2a3f5f\"},\"type\":\"carpet\"}],\"choropleth\":[{\"colorbar\":{\"outlinewidth\":0,\"ticks\":\"\"},\"type\":\"choropleth\"}],\"contourcarpet\":[{\"colorbar\":{\"outlinewidth\":0,\"ticks\":\"\"},\"type\":\"contourcarpet\"}],\"contour\":[{\"colorbar\":{\"outlinewidth\":0,\"ticks\":\"\"},\"colorscale\":[[0.0,\"#0d0887\"],[0.1111111111111111,\"#46039f\"],[0.2222222222222222,\"#7201a8\"],[0.3333333333333333,\"#9c179e\"],[0.4444444444444444,\"#bd3786\"],[0.5555555555555556,\"#d8576b\"],[0.6666666666666666,\"#ed7953\"],[0.7777777777777778,\"#fb9f3a\"],[0.8888888888888888,\"#fdca26\"],[1.0,\"#f0f921\"]],\"type\":\"contour\"}],\"heatmapgl\":[{\"colorbar\":{\"outlinewidth\":0,\"ticks\":\"\"},\"colorscale\":[[0.0,\"#0d0887\"],[0.1111111111111111,\"#46039f\"],[0.2222222222222222,\"#7201a8\"],[0.3333333333333333,\"#9c179e\"],[0.4444444444444444,\"#bd3786\"],[0.5555555555555556,\"#d8576b\"],[0.6666666666666666,\"#ed7953\"],[0.7777777777777778,\"#fb9f3a\"],[0.8888888888888888,\"#fdca26\"],[1.0,\"#f0f921\"]],\"type\":\"heatmapgl\"}],\"heatmap\":[{\"colorbar\":{\"outlinewidth\":0,\"ticks\":\"\"},\"colorscale\":[[0.0,\"#0d0887\"],[0.1111111111111111,\"#46039f\"],[0.2222222222222222,\"#7201a8\"],[0.3333333333333333,\"#9c179e\"],[0.4444444444444444,\"#bd3786\"],[0.5555555555555556,\"#d8576b\"],[0.6666666666666666,\"#ed7953\"],[0.7777777777777778,\"#fb9f3a\"],[0.8888888888888888,\"#fdca26\"],[1.0,\"#f0f921\"]],\"type\":\"heatmap\"}],\"histogram2dcontour\":[{\"colorbar\":{\"outlinewidth\":0,\"ticks\":\"\"},\"colorscale\":[[0.0,\"#0d0887\"],[0.1111111111111111,\"#46039f\"],[0.2222222222222222,\"#7201a8\"],[0.3333333333333333,\"#9c179e\"],[0.4444444444444444,\"#bd3786\"],[0.5555555555555556,\"#d8576b\"],[0.6666666666666666,\"#ed7953\"],[0.7777777777777778,\"#fb9f3a\"],[0.8888888888888888,\"#fdca26\"],[1.0,\"#f0f921\"]],\"type\":\"histogram2dcontour\"}],\"histogram2d\":[{\"colorbar\":{\"outlinewidth\":0,\"ticks\":\"\"},\"colorscale\":[[0.0,\"#0d0887\"],[0.1111111111111111,\"#46039f\"],[0.2222222222222222,\"#7201a8\"],[0.3333333333333333,\"#9c179e\"],[0.4444444444444444,\"#bd3786\"],[0.5555555555555556,\"#d8576b\"],[0.6666666666666666,\"#ed7953\"],[0.7777777777777778,\"#fb9f3a\"],[0.8888888888888888,\"#fdca26\"],[1.0,\"#f0f921\"]],\"type\":\"histogram2d\"}],\"histogram\":[{\"marker\":{\"pattern\":{\"fillmode\":\"overlay\",\"size\":10,\"solidity\":0.2}},\"type\":\"histogram\"}],\"mesh3d\":[{\"colorbar\":{\"outlinewidth\":0,\"ticks\":\"\"},\"type\":\"mesh3d\"}],\"parcoords\":[{\"line\":{\"colorbar\":{\"outlinewidth\":0,\"ticks\":\"\"}},\"type\":\"parcoords\"}],\"pie\":[{\"automargin\":true,\"type\":\"pie\"}],\"scatter3d\":[{\"line\":{\"colorbar\":{\"outlinewidth\":0,\"ticks\":\"\"}},\"marker\":{\"colorbar\":{\"outlinewidth\":0,\"ticks\":\"\"}},\"type\":\"scatter3d\"}],\"scattercarpet\":[{\"marker\":{\"colorbar\":{\"outlinewidth\":0,\"ticks\":\"\"}},\"type\":\"scattercarpet\"}],\"scattergeo\":[{\"marker\":{\"colorbar\":{\"outlinewidth\":0,\"ticks\":\"\"}},\"type\":\"scattergeo\"}],\"scattergl\":[{\"marker\":{\"colorbar\":{\"outlinewidth\":0,\"ticks\":\"\"}},\"type\":\"scattergl\"}],\"scattermapbox\":[{\"marker\":{\"colorbar\":{\"outlinewidth\":0,\"ticks\":\"\"}},\"type\":\"scattermapbox\"}],\"scatterpolargl\":[{\"marker\":{\"colorbar\":{\"outlinewidth\":0,\"ticks\":\"\"}},\"type\":\"scatterpolargl\"}],\"scatterpolar\":[{\"marker\":{\"colorbar\":{\"outlinewidth\":0,\"ticks\":\"\"}},\"type\":\"scatterpolar\"}],\"scatter\":[{\"fillpattern\":{\"fillmode\":\"overlay\",\"size\":10,\"solidity\":0.2},\"type\":\"scatter\"}],\"scatterternary\":[{\"marker\":{\"colorbar\":{\"outlinewidth\":0,\"ticks\":\"\"}},\"type\":\"scatterternary\"}],\"surface\":[{\"colorbar\":{\"outlinewidth\":0,\"ticks\":\"\"},\"colorscale\":[[0.0,\"#0d0887\"],[0.1111111111111111,\"#46039f\"],[0.2222222222222222,\"#7201a8\"],[0.3333333333333333,\"#9c179e\"],[0.4444444444444444,\"#bd3786\"],[0.5555555555555556,\"#d8576b\"],[0.6666666666666666,\"#ed7953\"],[0.7777777777777778,\"#fb9f3a\"],[0.8888888888888888,\"#fdca26\"],[1.0,\"#f0f921\"]],\"type\":\"surface\"}],\"table\":[{\"cells\":{\"fill\":{\"color\":\"#EBF0F8\"},\"line\":{\"color\":\"white\"}},\"header\":{\"fill\":{\"color\":\"#C8D4E3\"},\"line\":{\"color\":\"white\"}},\"type\":\"table\"}]},\"layout\":{\"annotationdefaults\":{\"arrowcolor\":\"#2a3f5f\",\"arrowhead\":0,\"arrowwidth\":1},\"autotypenumbers\":\"strict\",\"coloraxis\":{\"colorbar\":{\"outlinewidth\":0,\"ticks\":\"\"}},\"colorscale\":{\"diverging\":[[0,\"#8e0152\"],[0.1,\"#c51b7d\"],[0.2,\"#de77ae\"],[0.3,\"#f1b6da\"],[0.4,\"#fde0ef\"],[0.5,\"#f7f7f7\"],[0.6,\"#e6f5d0\"],[0.7,\"#b8e186\"],[0.8,\"#7fbc41\"],[0.9,\"#4d9221\"],[1,\"#276419\"]],\"sequential\":[[0.0,\"#0d0887\"],[0.1111111111111111,\"#46039f\"],[0.2222222222222222,\"#7201a8\"],[0.3333333333333333,\"#9c179e\"],[0.4444444444444444,\"#bd3786\"],[0.5555555555555556,\"#d8576b\"],[0.6666666666666666,\"#ed7953\"],[0.7777777777777778,\"#fb9f3a\"],[0.8888888888888888,\"#fdca26\"],[1.0,\"#f0f921\"]],\"sequentialminus\":[[0.0,\"#0d0887\"],[0.1111111111111111,\"#46039f\"],[0.2222222222222222,\"#7201a8\"],[0.3333333333333333,\"#9c179e\"],[0.4444444444444444,\"#bd3786\"],[0.5555555555555556,\"#d8576b\"],[0.6666666666666666,\"#ed7953\"],[0.7777777777777778,\"#fb9f3a\"],[0.8888888888888888,\"#fdca26\"],[1.0,\"#f0f921\"]]},\"colorway\":[\"#636efa\",\"#EF553B\",\"#00cc96\",\"#ab63fa\",\"#FFA15A\",\"#19d3f3\",\"#FF6692\",\"#B6E880\",\"#FF97FF\",\"#FECB52\"],\"font\":{\"color\":\"#2a3f5f\"},\"geo\":{\"bgcolor\":\"white\",\"lakecolor\":\"white\",\"landcolor\":\"#E5ECF6\",\"showlakes\":true,\"showland\":true,\"subunitcolor\":\"white\"},\"hoverlabel\":{\"align\":\"left\"},\"hovermode\":\"closest\",\"mapbox\":{\"style\":\"light\"},\"paper_bgcolor\":\"white\",\"plot_bgcolor\":\"#E5ECF6\",\"polar\":{\"angularaxis\":{\"gridcolor\":\"white\",\"linecolor\":\"white\",\"ticks\":\"\"},\"bgcolor\":\"#E5ECF6\",\"radialaxis\":{\"gridcolor\":\"white\",\"linecolor\":\"white\",\"ticks\":\"\"}},\"scene\":{\"xaxis\":{\"backgroundcolor\":\"#E5ECF6\",\"gridcolor\":\"white\",\"gridwidth\":2,\"linecolor\":\"white\",\"showbackground\":true,\"ticks\":\"\",\"zerolinecolor\":\"white\"},\"yaxis\":{\"backgroundcolor\":\"#E5ECF6\",\"gridcolor\":\"white\",\"gridwidth\":2,\"linecolor\":\"white\",\"showbackground\":true,\"ticks\":\"\",\"zerolinecolor\":\"white\"},\"zaxis\":{\"backgroundcolor\":\"#E5ECF6\",\"gridcolor\":\"white\",\"gridwidth\":2,\"linecolor\":\"white\",\"showbackground\":true,\"ticks\":\"\",\"zerolinecolor\":\"white\"}},\"shapedefaults\":{\"line\":{\"color\":\"#2a3f5f\"}},\"ternary\":{\"aaxis\":{\"gridcolor\":\"white\",\"linecolor\":\"white\",\"ticks\":\"\"},\"baxis\":{\"gridcolor\":\"white\",\"linecolor\":\"white\",\"ticks\":\"\"},\"bgcolor\":\"#E5ECF6\",\"caxis\":{\"gridcolor\":\"white\",\"linecolor\":\"white\",\"ticks\":\"\"}},\"title\":{\"x\":0.05},\"xaxis\":{\"automargin\":true,\"gridcolor\":\"white\",\"linecolor\":\"white\",\"ticks\":\"\",\"title\":{\"standoff\":15},\"zerolinecolor\":\"white\",\"zerolinewidth\":2},\"yaxis\":{\"automargin\":true,\"gridcolor\":\"white\",\"linecolor\":\"white\",\"ticks\":\"\",\"title\":{\"standoff\":15},\"zerolinecolor\":\"white\",\"zerolinewidth\":2}}},\"title\":{\"font\":{\"color\":\"#4D5663\"}},\"xaxis\":{\"gridcolor\":\"#E1E5ED\",\"showgrid\":true,\"tickfont\":{\"color\":\"#4D5663\"},\"title\":{\"font\":{\"color\":\"#4D5663\"},\"text\":\"\"},\"zerolinecolor\":\"#E1E5ED\"},\"yaxis\":{\"gridcolor\":\"#E1E5ED\",\"showgrid\":true,\"tickfont\":{\"color\":\"#4D5663\"},\"title\":{\"font\":{\"color\":\"#4D5663\"},\"text\":\"\"},\"zerolinecolor\":\"#E1E5ED\"}},                        {\"showLink\": true, \"linkText\": \"Export to plot.ly\", \"plotlyServerURL\": \"https://plot.ly\", \"responsive\": true}                    ).then(function(){\n",
       "                            \n",
       "var gd = document.getElementById('b8e74bec-97ab-4d51-b117-c7d40c73d623');\n",
       "var x = new MutationObserver(function (mutations, observer) {{\n",
       "        var display = window.getComputedStyle(gd).display;\n",
       "        if (!display || display === 'none') {{\n",
       "            console.log([gd, 'removed!']);\n",
       "            Plotly.purge(gd);\n",
       "            observer.disconnect();\n",
       "        }}\n",
       "}});\n",
       "\n",
       "// Listen for the removal of the full notebook cells\n",
       "var notebookContainer = gd.closest('#notebook-container');\n",
       "if (notebookContainer) {{\n",
       "    x.observe(notebookContainer, {childList: true});\n",
       "}}\n",
       "\n",
       "// Listen for the clearing of the current output cell\n",
       "var outputEl = gd.closest('.output');\n",
       "if (outputEl) {{\n",
       "    x.observe(outputEl, {childList: true});\n",
       "}}\n",
       "\n",
       "                        })                };                });            </script>        </div>"
      ]
     },
     "metadata": {},
     "output_type": "display_data"
    }
   ],
   "source": [
    "df1[\"A\"].iplot(kind= \"hist\", bins=50)"
   ]
  },
  {
   "cell_type": "code",
   "execution_count": 58,
   "id": "05411b46",
   "metadata": {},
   "outputs": [
    {
     "name": "stderr",
     "output_type": "stream",
     "text": [
      "C:\\Users\\Laptop\\anaconda3\\lib\\site-packages\\cufflinks\\plotlytools.py:849: FutureWarning:\n",
      "\n",
      "The pandas.np module is deprecated and will be removed from pandas in a future version. Import numpy directly instead.\n",
      "\n",
      "C:\\Users\\Laptop\\anaconda3\\lib\\site-packages\\cufflinks\\plotlytools.py:850: FutureWarning:\n",
      "\n",
      "The pandas.np module is deprecated and will be removed from pandas in a future version. Import numpy directly instead.\n",
      "\n"
     ]
    },
    {
     "data": {
      "application/vnd.plotly.v1+json": {
       "config": {
        "linkText": "Export to plot.ly",
        "plotlyServerURL": "https://plot.ly",
        "showLink": true
       },
       "data": [
        {
         "line": {
          "color": "rgba(255, 153, 51, 1.0)",
          "dash": "solid",
          "shape": "linear",
          "width": 1.3
         },
         "mode": "lines",
         "name": "A",
         "text": "",
         "type": "scatter",
         "x": [
          0,
          1,
          2,
          3,
          4,
          5,
          6,
          7,
          8,
          9,
          10,
          11,
          12,
          13,
          14,
          15,
          16,
          17,
          18,
          19,
          20,
          21,
          22,
          23,
          24,
          25,
          26,
          27,
          28,
          29,
          30,
          31,
          32,
          33,
          34,
          35,
          36,
          37,
          38,
          39,
          40,
          41,
          42,
          43,
          44,
          45,
          46,
          47,
          48,
          49,
          50,
          51,
          52,
          53,
          54,
          55,
          56,
          57,
          58,
          59,
          60,
          61,
          62,
          63,
          64,
          65,
          66,
          67,
          68,
          69,
          70,
          71,
          72,
          73,
          74,
          75,
          76,
          77,
          78,
          79,
          80,
          81,
          82,
          83,
          84,
          85,
          86,
          87,
          88,
          89,
          90,
          91,
          92,
          93,
          94,
          95,
          96,
          97,
          98,
          99
         ],
         "y": [
          0.2249574122485187,
          -0.14261442417502293,
          -0.2550693898234665,
          0.685612907940947,
          1.6696377029416647,
          -0.6276630448948421,
          -0.3675932197581956,
          0.8601065321997801,
          0.3029584160575629,
          1.4871959331592248,
          -1.1402052303681383,
          -0.10363052533320498,
          -1.227114249882769,
          1.0517098065952517,
          0.18111386197406235,
          -0.6224553189786596,
          -1.1914704485957508,
          0.6505610670402162,
          -1.0311546827111027,
          -0.3220045091127159,
          0.6201846864041929,
          -0.3136670563097545,
          0.3122077103270754,
          0.9019905430898144,
          0.7314170684298197,
          -0.840305166395734,
          -1.1196562155436376,
          0.22835011296288307,
          -0.21548374150626115,
          -0.07777464559266904,
          -2.197928658415042,
          -0.28835600690837554,
          -0.12235519259126607,
          -1.3580351035282827,
          0.2132605551579515,
          0.46070651683040154,
          0.7963444611084912,
          0.1094805824159229,
          -0.6102506779738078,
          1.1329129967541405,
          -0.5065961707940483,
          0.3745901537387485,
          0.7946114378721225,
          1.1465167276749233,
          -2.0553288125734057,
          0.10100751854400598,
          0.6645436919180743,
          -2.412988684855048,
          0.5122070039497443,
          1.4030992357915617,
          0.24913590252340764,
          -1.4870597006201085,
          -1.3661838507640083,
          -0.1519904820928337,
          0.4088874943908349,
          0.28921834149417314,
          -0.5477050903562732,
          -1.00334077408219,
          -1.9782068285772612,
          -1.559539636679243,
          1.1878319779769697,
          -0.5514926543266923,
          -1.239928895872855,
          1.361883671248535,
          0.6178324441029704,
          0.9377043609805684,
          0.403641750993754,
          -1.9264422169236457,
          -0.39329684106780577,
          -0.18962422021135977,
          0.4309102642418277,
          0.13416483620471115,
          -1.8475271675664917,
          1.276656958413032,
          0.5536066672322233,
          0.7451250480407975,
          -1.1885494428288137,
          0.808597310965037,
          -0.049207908473800556,
          0.1822632839586508,
          1.09853989816661,
          -1.9058038090611038,
          -0.538794190231828,
          0.28458672788291245,
          -1.7107356167627255,
          0.35184119723705537,
          -1.3012008916908282,
          -0.9108700963300996,
          -0.838242587698326,
          1.5118378297958461,
          -0.525715085033998,
          -0.5280227761153535,
          1.5009480547986114,
          -1.1882945291476716,
          -1.2722134708587935,
          -0.25068439424681555,
          -1.0076209780516017,
          -0.742483026883699,
          -0.5971237711770452,
          -0.06812184219397695
         ]
        },
        {
         "line": {
          "color": "rgba(55, 128, 191, 1.0)",
          "dash": "solid",
          "shape": "linear",
          "width": 1.3
         },
         "mode": "lines",
         "name": "B",
         "text": "",
         "type": "scatter",
         "x": [
          0,
          1,
          2,
          3,
          4,
          5,
          6,
          7,
          8,
          9,
          10,
          11,
          12,
          13,
          14,
          15,
          16,
          17,
          18,
          19,
          20,
          21,
          22,
          23,
          24,
          25,
          26,
          27,
          28,
          29,
          30,
          31,
          32,
          33,
          34,
          35,
          36,
          37,
          38,
          39,
          40,
          41,
          42,
          43,
          44,
          45,
          46,
          47,
          48,
          49,
          50,
          51,
          52,
          53,
          54,
          55,
          56,
          57,
          58,
          59,
          60,
          61,
          62,
          63,
          64,
          65,
          66,
          67,
          68,
          69,
          70,
          71,
          72,
          73,
          74,
          75,
          76,
          77,
          78,
          79,
          80,
          81,
          82,
          83,
          84,
          85,
          86,
          87,
          88,
          89,
          90,
          91,
          92,
          93,
          94,
          95,
          96,
          97,
          98,
          99
         ],
         "y": [
          0.7729328845998267,
          -0.2950040513273714,
          0.09520908744315867,
          1.441071495404537,
          0.10166534711461274,
          -0.8693316971690324,
          0.979562167355205,
          -0.8654708786854032,
          -0.2870011317161067,
          -1.5300959310749473,
          0.8368972285896891,
          1.8496175673476036,
          -1.2477780681015862,
          0.4215338133150978,
          0.4917663948454245,
          0.9781736006519686,
          0.9347198820348527,
          -0.36365393310839655,
          -1.5200057839806334,
          -0.8670452957430184,
          -0.788241493679069,
          -0.5477438420825249,
          0.04336683059551982,
          0.18091119066448572,
          0.10213061681864892,
          0.9561820138080441,
          0.6360305156843183,
          0.8148193265235719,
          -0.7243357866209025,
          -1.7094201272778604,
          0.7049069031486167,
          -1.6929017104546837,
          -1.351434770601901,
          0.5400726790334075,
          -0.9089948988816058,
          0.6865655449142279,
          0.07603430008983052,
          -0.9119736366526259,
          1.1017361476428449,
          0.3310632043893103,
          -0.668250051067514,
          0.485161547116454,
          0.3774165281634454,
          1.2433965952711497,
          -0.8535662136692201,
          0.9651085753827604,
          -0.12577055249933197,
          0.2315793282956873,
          1.094271953610481,
          0.45475229561547326,
          -0.1926373637868699,
          -0.32561960234374177,
          -2.1906627063088835,
          2.337836470426464,
          -0.8169000173085379,
          -1.0567080408048166,
          -2.137216564597913,
          2.8063834954575566,
          -0.9480034566417574,
          0.07441797086764544,
          -1.9894922466089366,
          1.6497669533081567,
          -0.12560768412915277,
          1.0167088823279065,
          1.2651059424362803,
          1.218624446338318,
          -2.5148357286791554,
          -0.6143555014834721,
          -2.1475638559430856,
          -0.9632014475924506,
          0.14276846625931602,
          0.35315951521897926,
          -0.4451647014676167,
          -1.344538665604799,
          1.5703460188585443,
          1.1649900207213846,
          -1.1327050573844177,
          0.30148592567161836,
          0.33369126307640595,
          -1.2513016080325425,
          -1.3740431730549505,
          0.6582137883417819,
          -0.3898943074688618,
          0.36245937168862513,
          0.47462451095442765,
          -2.077087683940318,
          -0.03158422387106401,
          0.3412955156808295,
          0.4860490073614476,
          -0.42109861637466595,
          1.2486711513798276,
          0.6810153620726337,
          0.21709393315480308,
          -0.7575392105538545,
          0.12553478007756078,
          0.33217504596304537,
          0.5983073107261221,
          -2.2161251644675217,
          0.5324550065592877,
          -0.5973104555594871
         ]
        },
        {
         "line": {
          "color": "rgba(50, 171, 96, 1.0)",
          "dash": "solid",
          "shape": "linear",
          "width": 1.3
         },
         "mode": "lines",
         "name": "C",
         "text": "",
         "type": "scatter",
         "x": [
          0,
          1,
          2,
          3,
          4,
          5,
          6,
          7,
          8,
          9,
          10,
          11,
          12,
          13,
          14,
          15,
          16,
          17,
          18,
          19,
          20,
          21,
          22,
          23,
          24,
          25,
          26,
          27,
          28,
          29,
          30,
          31,
          32,
          33,
          34,
          35,
          36,
          37,
          38,
          39,
          40,
          41,
          42,
          43,
          44,
          45,
          46,
          47,
          48,
          49,
          50,
          51,
          52,
          53,
          54,
          55,
          56,
          57,
          58,
          59,
          60,
          61,
          62,
          63,
          64,
          65,
          66,
          67,
          68,
          69,
          70,
          71,
          72,
          73,
          74,
          75,
          76,
          77,
          78,
          79,
          80,
          81,
          82,
          83,
          84,
          85,
          86,
          87,
          88,
          89,
          90,
          91,
          92,
          93,
          94,
          95,
          96,
          97,
          98,
          99
         ],
         "y": [
          -1.407703631343671,
          0.5140329231436118,
          1.3131158131992584,
          -2.212928852152698,
          0.5173563987333515,
          0.34706084032851675,
          -0.5929210703964634,
          0.13813863792706588,
          0.7003144907738252,
          0.8797191494749702,
          0.29137863584603657,
          0.412210553403753,
          -0.7917919162256702,
          0.23380419921599765,
          0.7006363554579161,
          -0.19401780265160595,
          0.0871652750797159,
          0.12109102906606106,
          -0.4856774751621975,
          -0.33503656199224263,
          0.989305797207836,
          0.15082348550530683,
          0.4704807568828661,
          1.0831894299838418,
          0.3586295958501063,
          0.1915945076598596,
          -1.5022291531005783,
          1.4038913461155493,
          -2.3201172843085103,
          -0.7850084055935527,
          1.6416898072599189,
          0.8740064232601772,
          0.5855214404280811,
          0.14953267259073877,
          -0.7168148311985317,
          -0.5110533822942064,
          -0.6965664504104578,
          -0.19578700620630154,
          0.14780867769351586,
          1.1463301563682267,
          -0.45084299243755643,
          -1.432352328786134,
          -2.0578758871075524,
          -0.6875762164963011,
          0.5095140262897756,
          -0.13186026363396183,
          -0.13804039155615058,
          0.41595434931612085,
          0.39940419070713673,
          0.1720714416492082,
          1.2358173790766753,
          0.2564077760910809,
          1.1783928031922872,
          -0.32641311365649067,
          0.23858826873596783,
          -0.14203601038533445,
          -0.3645621499967152,
          0.18016270082759867,
          -0.6928018108236371,
          -2.104313369439946,
          -0.3633633809793382,
          0.3020055011942023,
          0.7122464940533162,
          -0.8554495413250128,
          -0.01817109422354125,
          -1.0072561535251414,
          0.007045125592761505,
          -0.8047034046048044,
          -0.8133706531485041,
          -0.026216939791767715,
          -1.8034397312235693,
          0.13761848980876704,
          2.2825978897893187,
          0.0944423889260254,
          -0.6335379203958453,
          0.5293411405886458,
          -1.8191640037863301,
          0.26903546964548747,
          1.2290653193686019,
          -0.05392103233269685,
          -1.021614999145513,
          0.2492397807664952,
          0.5700615041724898,
          0.8501408763354436,
          -0.3152259965012949,
          2.080110221272923,
          -0.6302027942250683,
          0.8567247070030546,
          0.3127734152662034,
          1.2741981219816176,
          0.9127376031649637,
          0.5166083951090601,
          0.2475442944341499,
          -0.4239327618190913,
          -1.2485199555196693,
          0.47098675354359276,
          -0.6394284322963346,
          -2.755316239582588,
          0.9120545301067184,
          -0.7607109933566386
         ]
        },
        {
         "line": {
          "color": "rgba(128, 0, 128, 1.0)",
          "dash": "solid",
          "shape": "linear",
          "width": 1.3
         },
         "mode": "lines",
         "name": "D",
         "text": "",
         "type": "scatter",
         "x": [
          0,
          1,
          2,
          3,
          4,
          5,
          6,
          7,
          8,
          9,
          10,
          11,
          12,
          13,
          14,
          15,
          16,
          17,
          18,
          19,
          20,
          21,
          22,
          23,
          24,
          25,
          26,
          27,
          28,
          29,
          30,
          31,
          32,
          33,
          34,
          35,
          36,
          37,
          38,
          39,
          40,
          41,
          42,
          43,
          44,
          45,
          46,
          47,
          48,
          49,
          50,
          51,
          52,
          53,
          54,
          55,
          56,
          57,
          58,
          59,
          60,
          61,
          62,
          63,
          64,
          65,
          66,
          67,
          68,
          69,
          70,
          71,
          72,
          73,
          74,
          75,
          76,
          77,
          78,
          79,
          80,
          81,
          82,
          83,
          84,
          85,
          86,
          87,
          88,
          89,
          90,
          91,
          92,
          93,
          94,
          95,
          96,
          97,
          98,
          99
         ],
         "y": [
          0.687400710884295,
          1.292329185879667,
          -1.4451549140024476,
          2.4212652941715733,
          -0.5990245298654623,
          -0.14312718252640605,
          1.0341838284171945,
          0.9168533072372855,
          -0.5239881601798092,
          -3.4614694117290363,
          -0.547162749247495,
          -0.2954205384119188,
          -0.6762104379883643,
          0.17942177831626702,
          -0.446784254558779,
          3.152472667088559,
          0.05366938922946379,
          0.2925464108958577,
          -0.9260514076904133,
          0.8666434042745934,
          -0.6788493093657786,
          -0.928452920672083,
          0.7490743212798445,
          -0.9910217690371543,
          -0.5099780597741604,
          -0.7729878731471892,
          0.1261095837182957,
          -2.173997852739537,
          0.13380187326526857,
          -0.03383492214686325,
          -1.0540827763670386,
          0.5722797189713448,
          -0.10047293394388912,
          -1.4115711035698897,
          -1.123541015090475,
          -0.7485896007773215,
          1.1621777066193428,
          0.31034667529675075,
          -0.5478548465244522,
          1.1053754476640354,
          0.6724786658427715,
          1.417592390164073,
          0.1763335278094863,
          -0.4759008789741875,
          -0.529021806162886,
          -0.8780406205670047,
          -0.4670899375138714,
          0.12021124416462858,
          -1.1638589701666413,
          -0.2718286124947359,
          0.4944119559453498,
          0.612862017516745,
          2.0620936369339837,
          -0.5498957432666844,
          0.21091506283573025,
          0.8960109115496354,
          -0.08446203183891707,
          1.495063178165726,
          0.7921963932506242,
          0.9706531868794951,
          0.5442650593702897,
          -0.06695152379828094,
          -0.031671739135709996,
          -0.3282615102156579,
          -0.8570800998138681,
          -1.1631087687318071,
          1.319037497800597,
          0.010885976841033509,
          -0.16632739692236823,
          0.2784643719376399,
          -0.06477373031704924,
          -0.8110155425857067,
          0.46462041479311506,
          -0.29344170889783944,
          0.9418749445032143,
          -0.9145351980427542,
          1.5989467259671475,
          -0.3123143304487573,
          -1.7312174953372057,
          -0.9701391400874365,
          -1.263680840458927,
          1.6221377826941585,
          -1.929638890370037,
          -0.00807621149389771,
          -1.1116686536071216,
          -1.3142471793168062,
          -0.2677781320562748,
          -0.029451177327852074,
          0.6886728047322884,
          0.6228839741607755,
          1.048817636224244,
          -1.2720622979819218,
          -0.16208924811986883,
          -0.3442025567829724,
          0.05865786141098669,
          0.33630770910042346,
          -0.021898720384863044,
          -0.9402976316913524,
          -0.7092448432651228,
          0.6306365246150188
         ]
        },
        {
         "connectgaps": false,
         "fill": "tozeroy",
         "line": {
          "color": "green",
          "dash": "solid",
          "shape": "linear",
          "width": 0.5
         },
         "mode": "lines",
         "name": "Spread",
         "showlegend": false,
         "type": "scatter",
         "x": [
          0,
          1,
          2,
          3,
          4,
          5,
          6,
          7,
          8,
          9,
          10,
          11,
          12,
          13,
          14,
          15,
          16,
          17,
          18,
          19,
          20,
          21,
          22,
          23,
          24,
          25,
          26,
          27,
          28,
          29,
          30,
          31,
          32,
          33,
          34,
          35,
          36,
          37,
          38,
          39,
          40,
          41,
          42,
          43,
          44,
          45,
          46,
          47,
          48,
          49,
          50,
          51,
          52,
          53,
          54,
          55,
          56,
          57,
          58,
          59,
          60,
          61,
          62,
          63,
          64,
          65,
          66,
          67,
          68,
          69,
          70,
          71,
          72,
          73,
          74,
          75,
          76,
          77,
          78,
          79,
          80,
          81,
          82,
          83,
          84,
          85,
          86,
          87,
          88,
          89,
          90,
          91,
          92,
          93,
          94,
          95,
          96,
          97,
          98,
          99
         ],
         "xaxis": "x2",
         "y": [
          "",
          0.15238962715234847,
          "",
          "",
          1.567972355827052,
          0.2416686522741902,
          "",
          1.7255774108851831,
          0.5899595477736697,
          3.0172918642341724,
          "",
          "",
          0.020663818218817243,
          0.6301759932801538,
          "",
          "",
          "",
          1.0142150001486128,
          0.4888511012695307,
          0.5450407866303024,
          1.408426180083262,
          0.2340767857727704,
          0.26884087973155557,
          0.7210793524253287,
          0.6292864516111708,
          "",
          "",
          "",
          0.5088520451146413,
          1.6316454816851913,
          "",
          1.4045457035463083,
          1.229079578010635,
          "",
          1.1222554540395573,
          "",
          0.7203101610186607,
          1.0214542190685487,
          "",
          0.8018497923648302,
          0.16165388027346572,
          "",
          0.4171949097086771,
          "",
          "",
          "",
          0.7903142444174063,
          "",
          "",
          0.9483469401760884,
          0.4417732663102776,
          "",
          0.8244788555448752,
          "",
          1.2257875116993728,
          1.3459263822989898,
          1.5895114742416396,
          "",
          "",
          "",
          3.1773242245859064,
          "",
          "",
          0.3451747889206285,
          "",
          "",
          2.9184774796729096,
          "",
          1.75426701487528,
          0.7735772273810908,
          0.2881417979825117,
          "",
          "",
          2.6211956240178313,
          "",
          "",
          "",
          0.5071113852934186,
          "",
          1.4335648919911934,
          2.4725830712215604,
          "",
          "",
          "",
          "",
          2.4289288811773733,
          "",
          "",
          "",
          1.932936446170512,
          "",
          "",
          1.2838541216438082,
          "",
          "",
          "",
          "",
          1.4736421375838227,
          "",
          0.5291886133655102
         ],
         "yaxis": "y2"
        },
        {
         "connectgaps": false,
         "fill": "tozeroy",
         "line": {
          "color": "red",
          "dash": "solid",
          "shape": "linear",
          "width": 0.5
         },
         "mode": "lines",
         "name": "Spread",
         "showlegend": false,
         "type": "scatter",
         "x": [
          0,
          1,
          2,
          3,
          4,
          5,
          6,
          7,
          8,
          9,
          10,
          11,
          12,
          13,
          14,
          15,
          16,
          17,
          18,
          19,
          20,
          21,
          22,
          23,
          24,
          25,
          26,
          27,
          28,
          29,
          30,
          31,
          32,
          33,
          34,
          35,
          36,
          37,
          38,
          39,
          40,
          41,
          42,
          43,
          44,
          45,
          46,
          47,
          48,
          49,
          50,
          51,
          52,
          53,
          54,
          55,
          56,
          57,
          58,
          59,
          60,
          61,
          62,
          63,
          64,
          65,
          66,
          67,
          68,
          69,
          70,
          71,
          72,
          73,
          74,
          75,
          76,
          77,
          78,
          79,
          80,
          81,
          82,
          83,
          84,
          85,
          86,
          87,
          88,
          89,
          90,
          91,
          92,
          93,
          94,
          95,
          96,
          97,
          98,
          99
         ],
         "xaxis": "x2",
         "y": [
          -0.547975472351308,
          "",
          -0.3502784772666252,
          -0.75545858746359,
          "",
          "",
          -1.3471553871134005,
          "",
          "",
          "",
          -1.9771024589578272,
          -1.9532480926808087,
          "",
          "",
          -0.3106525328713622,
          -1.600628919630628,
          -2.1261903306306036,
          "",
          "",
          "",
          "",
          "",
          "",
          "",
          "",
          -1.796487180203778,
          -1.7556867312279558,
          -0.5864692135606888,
          "",
          "",
          -2.9028355615636587,
          "",
          "",
          -1.89810778256169,
          "",
          -0.2258590280838264,
          "",
          "",
          -1.7119868256166528,
          "",
          "",
          -0.1105713933777055,
          "",
          -0.09687986759622635,
          -1.2017625989041856,
          -0.8641010568387544,
          "",
          -2.6445680131507356,
          -0.5820649496607367,
          "",
          "",
          -1.1614400982763669,
          "",
          -2.4898269525192975,
          "",
          "",
          "",
          -3.8097242695397466,
          -1.0302033719355037,
          -1.6339576075468882,
          "",
          -2.201259607634849,
          -1.1143212117437022,
          "",
          -0.6472734983333098,
          -0.2809200853577496,
          "",
          -1.3120867154401736,
          "",
          "",
          "",
          -0.2189946790142681,
          -1.402362466098875,
          "",
          -1.016739351626321,
          -0.4198649726805871,
          -0.05584438544439596,
          "",
          -0.38289917155020653,
          "",
          "",
          -2.5640175974028856,
          -0.14889988276296617,
          -0.07787264380571268,
          -2.185360127717153,
          "",
          -1.2696166678197642,
          -1.2521656120109292,
          -1.3242915950597736,
          "",
          -1.7743862364138256,
          -1.2090381381879873,
          "",
          -0.4307553185938171,
          -1.3977482509363544,
          -0.5828594402098609,
          -1.6059282887777238,
          "",
          -1.1295787777363329,
          ""
         ],
         "yaxis": "y2"
        }
       ],
       "layout": {
        "hovermode": "x",
        "legend": {
         "bgcolor": "#F5F6F9",
         "font": {
          "color": "#4D5663"
         }
        },
        "paper_bgcolor": "#F5F6F9",
        "plot_bgcolor": "#F5F6F9",
        "template": {
         "data": {
          "bar": [
           {
            "error_x": {
             "color": "#2a3f5f"
            },
            "error_y": {
             "color": "#2a3f5f"
            },
            "marker": {
             "line": {
              "color": "#E5ECF6",
              "width": 0.5
             },
             "pattern": {
              "fillmode": "overlay",
              "size": 10,
              "solidity": 0.2
             }
            },
            "type": "bar"
           }
          ],
          "barpolar": [
           {
            "marker": {
             "line": {
              "color": "#E5ECF6",
              "width": 0.5
             },
             "pattern": {
              "fillmode": "overlay",
              "size": 10,
              "solidity": 0.2
             }
            },
            "type": "barpolar"
           }
          ],
          "carpet": [
           {
            "aaxis": {
             "endlinecolor": "#2a3f5f",
             "gridcolor": "white",
             "linecolor": "white",
             "minorgridcolor": "white",
             "startlinecolor": "#2a3f5f"
            },
            "baxis": {
             "endlinecolor": "#2a3f5f",
             "gridcolor": "white",
             "linecolor": "white",
             "minorgridcolor": "white",
             "startlinecolor": "#2a3f5f"
            },
            "type": "carpet"
           }
          ],
          "choropleth": [
           {
            "colorbar": {
             "outlinewidth": 0,
             "ticks": ""
            },
            "type": "choropleth"
           }
          ],
          "contour": [
           {
            "colorbar": {
             "outlinewidth": 0,
             "ticks": ""
            },
            "colorscale": [
             [
              0,
              "#0d0887"
             ],
             [
              0.1111111111111111,
              "#46039f"
             ],
             [
              0.2222222222222222,
              "#7201a8"
             ],
             [
              0.3333333333333333,
              "#9c179e"
             ],
             [
              0.4444444444444444,
              "#bd3786"
             ],
             [
              0.5555555555555556,
              "#d8576b"
             ],
             [
              0.6666666666666666,
              "#ed7953"
             ],
             [
              0.7777777777777778,
              "#fb9f3a"
             ],
             [
              0.8888888888888888,
              "#fdca26"
             ],
             [
              1,
              "#f0f921"
             ]
            ],
            "type": "contour"
           }
          ],
          "contourcarpet": [
           {
            "colorbar": {
             "outlinewidth": 0,
             "ticks": ""
            },
            "type": "contourcarpet"
           }
          ],
          "heatmap": [
           {
            "colorbar": {
             "outlinewidth": 0,
             "ticks": ""
            },
            "colorscale": [
             [
              0,
              "#0d0887"
             ],
             [
              0.1111111111111111,
              "#46039f"
             ],
             [
              0.2222222222222222,
              "#7201a8"
             ],
             [
              0.3333333333333333,
              "#9c179e"
             ],
             [
              0.4444444444444444,
              "#bd3786"
             ],
             [
              0.5555555555555556,
              "#d8576b"
             ],
             [
              0.6666666666666666,
              "#ed7953"
             ],
             [
              0.7777777777777778,
              "#fb9f3a"
             ],
             [
              0.8888888888888888,
              "#fdca26"
             ],
             [
              1,
              "#f0f921"
             ]
            ],
            "type": "heatmap"
           }
          ],
          "heatmapgl": [
           {
            "colorbar": {
             "outlinewidth": 0,
             "ticks": ""
            },
            "colorscale": [
             [
              0,
              "#0d0887"
             ],
             [
              0.1111111111111111,
              "#46039f"
             ],
             [
              0.2222222222222222,
              "#7201a8"
             ],
             [
              0.3333333333333333,
              "#9c179e"
             ],
             [
              0.4444444444444444,
              "#bd3786"
             ],
             [
              0.5555555555555556,
              "#d8576b"
             ],
             [
              0.6666666666666666,
              "#ed7953"
             ],
             [
              0.7777777777777778,
              "#fb9f3a"
             ],
             [
              0.8888888888888888,
              "#fdca26"
             ],
             [
              1,
              "#f0f921"
             ]
            ],
            "type": "heatmapgl"
           }
          ],
          "histogram": [
           {
            "marker": {
             "pattern": {
              "fillmode": "overlay",
              "size": 10,
              "solidity": 0.2
             }
            },
            "type": "histogram"
           }
          ],
          "histogram2d": [
           {
            "colorbar": {
             "outlinewidth": 0,
             "ticks": ""
            },
            "colorscale": [
             [
              0,
              "#0d0887"
             ],
             [
              0.1111111111111111,
              "#46039f"
             ],
             [
              0.2222222222222222,
              "#7201a8"
             ],
             [
              0.3333333333333333,
              "#9c179e"
             ],
             [
              0.4444444444444444,
              "#bd3786"
             ],
             [
              0.5555555555555556,
              "#d8576b"
             ],
             [
              0.6666666666666666,
              "#ed7953"
             ],
             [
              0.7777777777777778,
              "#fb9f3a"
             ],
             [
              0.8888888888888888,
              "#fdca26"
             ],
             [
              1,
              "#f0f921"
             ]
            ],
            "type": "histogram2d"
           }
          ],
          "histogram2dcontour": [
           {
            "colorbar": {
             "outlinewidth": 0,
             "ticks": ""
            },
            "colorscale": [
             [
              0,
              "#0d0887"
             ],
             [
              0.1111111111111111,
              "#46039f"
             ],
             [
              0.2222222222222222,
              "#7201a8"
             ],
             [
              0.3333333333333333,
              "#9c179e"
             ],
             [
              0.4444444444444444,
              "#bd3786"
             ],
             [
              0.5555555555555556,
              "#d8576b"
             ],
             [
              0.6666666666666666,
              "#ed7953"
             ],
             [
              0.7777777777777778,
              "#fb9f3a"
             ],
             [
              0.8888888888888888,
              "#fdca26"
             ],
             [
              1,
              "#f0f921"
             ]
            ],
            "type": "histogram2dcontour"
           }
          ],
          "mesh3d": [
           {
            "colorbar": {
             "outlinewidth": 0,
             "ticks": ""
            },
            "type": "mesh3d"
           }
          ],
          "parcoords": [
           {
            "line": {
             "colorbar": {
              "outlinewidth": 0,
              "ticks": ""
             }
            },
            "type": "parcoords"
           }
          ],
          "pie": [
           {
            "automargin": true,
            "type": "pie"
           }
          ],
          "scatter": [
           {
            "fillpattern": {
             "fillmode": "overlay",
             "size": 10,
             "solidity": 0.2
            },
            "type": "scatter"
           }
          ],
          "scatter3d": [
           {
            "line": {
             "colorbar": {
              "outlinewidth": 0,
              "ticks": ""
             }
            },
            "marker": {
             "colorbar": {
              "outlinewidth": 0,
              "ticks": ""
             }
            },
            "type": "scatter3d"
           }
          ],
          "scattercarpet": [
           {
            "marker": {
             "colorbar": {
              "outlinewidth": 0,
              "ticks": ""
             }
            },
            "type": "scattercarpet"
           }
          ],
          "scattergeo": [
           {
            "marker": {
             "colorbar": {
              "outlinewidth": 0,
              "ticks": ""
             }
            },
            "type": "scattergeo"
           }
          ],
          "scattergl": [
           {
            "marker": {
             "colorbar": {
              "outlinewidth": 0,
              "ticks": ""
             }
            },
            "type": "scattergl"
           }
          ],
          "scattermapbox": [
           {
            "marker": {
             "colorbar": {
              "outlinewidth": 0,
              "ticks": ""
             }
            },
            "type": "scattermapbox"
           }
          ],
          "scatterpolar": [
           {
            "marker": {
             "colorbar": {
              "outlinewidth": 0,
              "ticks": ""
             }
            },
            "type": "scatterpolar"
           }
          ],
          "scatterpolargl": [
           {
            "marker": {
             "colorbar": {
              "outlinewidth": 0,
              "ticks": ""
             }
            },
            "type": "scatterpolargl"
           }
          ],
          "scatterternary": [
           {
            "marker": {
             "colorbar": {
              "outlinewidth": 0,
              "ticks": ""
             }
            },
            "type": "scatterternary"
           }
          ],
          "surface": [
           {
            "colorbar": {
             "outlinewidth": 0,
             "ticks": ""
            },
            "colorscale": [
             [
              0,
              "#0d0887"
             ],
             [
              0.1111111111111111,
              "#46039f"
             ],
             [
              0.2222222222222222,
              "#7201a8"
             ],
             [
              0.3333333333333333,
              "#9c179e"
             ],
             [
              0.4444444444444444,
              "#bd3786"
             ],
             [
              0.5555555555555556,
              "#d8576b"
             ],
             [
              0.6666666666666666,
              "#ed7953"
             ],
             [
              0.7777777777777778,
              "#fb9f3a"
             ],
             [
              0.8888888888888888,
              "#fdca26"
             ],
             [
              1,
              "#f0f921"
             ]
            ],
            "type": "surface"
           }
          ],
          "table": [
           {
            "cells": {
             "fill": {
              "color": "#EBF0F8"
             },
             "line": {
              "color": "white"
             }
            },
            "header": {
             "fill": {
              "color": "#C8D4E3"
             },
             "line": {
              "color": "white"
             }
            },
            "type": "table"
           }
          ]
         },
         "layout": {
          "annotationdefaults": {
           "arrowcolor": "#2a3f5f",
           "arrowhead": 0,
           "arrowwidth": 1
          },
          "autotypenumbers": "strict",
          "coloraxis": {
           "colorbar": {
            "outlinewidth": 0,
            "ticks": ""
           }
          },
          "colorscale": {
           "diverging": [
            [
             0,
             "#8e0152"
            ],
            [
             0.1,
             "#c51b7d"
            ],
            [
             0.2,
             "#de77ae"
            ],
            [
             0.3,
             "#f1b6da"
            ],
            [
             0.4,
             "#fde0ef"
            ],
            [
             0.5,
             "#f7f7f7"
            ],
            [
             0.6,
             "#e6f5d0"
            ],
            [
             0.7,
             "#b8e186"
            ],
            [
             0.8,
             "#7fbc41"
            ],
            [
             0.9,
             "#4d9221"
            ],
            [
             1,
             "#276419"
            ]
           ],
           "sequential": [
            [
             0,
             "#0d0887"
            ],
            [
             0.1111111111111111,
             "#46039f"
            ],
            [
             0.2222222222222222,
             "#7201a8"
            ],
            [
             0.3333333333333333,
             "#9c179e"
            ],
            [
             0.4444444444444444,
             "#bd3786"
            ],
            [
             0.5555555555555556,
             "#d8576b"
            ],
            [
             0.6666666666666666,
             "#ed7953"
            ],
            [
             0.7777777777777778,
             "#fb9f3a"
            ],
            [
             0.8888888888888888,
             "#fdca26"
            ],
            [
             1,
             "#f0f921"
            ]
           ],
           "sequentialminus": [
            [
             0,
             "#0d0887"
            ],
            [
             0.1111111111111111,
             "#46039f"
            ],
            [
             0.2222222222222222,
             "#7201a8"
            ],
            [
             0.3333333333333333,
             "#9c179e"
            ],
            [
             0.4444444444444444,
             "#bd3786"
            ],
            [
             0.5555555555555556,
             "#d8576b"
            ],
            [
             0.6666666666666666,
             "#ed7953"
            ],
            [
             0.7777777777777778,
             "#fb9f3a"
            ],
            [
             0.8888888888888888,
             "#fdca26"
            ],
            [
             1,
             "#f0f921"
            ]
           ]
          },
          "colorway": [
           "#636efa",
           "#EF553B",
           "#00cc96",
           "#ab63fa",
           "#FFA15A",
           "#19d3f3",
           "#FF6692",
           "#B6E880",
           "#FF97FF",
           "#FECB52"
          ],
          "font": {
           "color": "#2a3f5f"
          },
          "geo": {
           "bgcolor": "white",
           "lakecolor": "white",
           "landcolor": "#E5ECF6",
           "showlakes": true,
           "showland": true,
           "subunitcolor": "white"
          },
          "hoverlabel": {
           "align": "left"
          },
          "hovermode": "closest",
          "mapbox": {
           "style": "light"
          },
          "paper_bgcolor": "white",
          "plot_bgcolor": "#E5ECF6",
          "polar": {
           "angularaxis": {
            "gridcolor": "white",
            "linecolor": "white",
            "ticks": ""
           },
           "bgcolor": "#E5ECF6",
           "radialaxis": {
            "gridcolor": "white",
            "linecolor": "white",
            "ticks": ""
           }
          },
          "scene": {
           "xaxis": {
            "backgroundcolor": "#E5ECF6",
            "gridcolor": "white",
            "gridwidth": 2,
            "linecolor": "white",
            "showbackground": true,
            "ticks": "",
            "zerolinecolor": "white"
           },
           "yaxis": {
            "backgroundcolor": "#E5ECF6",
            "gridcolor": "white",
            "gridwidth": 2,
            "linecolor": "white",
            "showbackground": true,
            "ticks": "",
            "zerolinecolor": "white"
           },
           "zaxis": {
            "backgroundcolor": "#E5ECF6",
            "gridcolor": "white",
            "gridwidth": 2,
            "linecolor": "white",
            "showbackground": true,
            "ticks": "",
            "zerolinecolor": "white"
           }
          },
          "shapedefaults": {
           "line": {
            "color": "#2a3f5f"
           }
          },
          "ternary": {
           "aaxis": {
            "gridcolor": "white",
            "linecolor": "white",
            "ticks": ""
           },
           "baxis": {
            "gridcolor": "white",
            "linecolor": "white",
            "ticks": ""
           },
           "bgcolor": "#E5ECF6",
           "caxis": {
            "gridcolor": "white",
            "linecolor": "white",
            "ticks": ""
           }
          },
          "title": {
           "x": 0.05
          },
          "xaxis": {
           "automargin": true,
           "gridcolor": "white",
           "linecolor": "white",
           "ticks": "",
           "title": {
            "standoff": 15
           },
           "zerolinecolor": "white",
           "zerolinewidth": 2
          },
          "yaxis": {
           "automargin": true,
           "gridcolor": "white",
           "linecolor": "white",
           "ticks": "",
           "title": {
            "standoff": 15
           },
           "zerolinecolor": "white",
           "zerolinewidth": 2
          }
         }
        },
        "title": {
         "font": {
          "color": "#4D5663"
         }
        },
        "xaxis": {
         "gridcolor": "#E1E5ED",
         "showgrid": true,
         "tickfont": {
          "color": "#4D5663"
         },
         "title": {
          "font": {
           "color": "#4D5663"
          },
          "text": ""
         },
         "zerolinecolor": "#E1E5ED"
        },
        "xaxis2": {
         "anchor": "y2",
         "gridcolor": "#E1E5ED",
         "showgrid": true,
         "showticklabels": false,
         "tickfont": {
          "color": "#4D5663"
         },
         "title": {
          "font": {
           "color": "#4D5663"
          },
          "text": ""
         },
         "zerolinecolor": "#E1E5ED"
        },
        "yaxis": {
         "domain": [
          0.3,
          1
         ],
         "gridcolor": "#E1E5ED",
         "showgrid": true,
         "tickfont": {
          "color": "#4D5663"
         },
         "title": {
          "font": {
           "color": "#4D5663"
          },
          "text": ""
         },
         "zerolinecolor": "#E1E5ED"
        },
        "yaxis2": {
         "domain": [
          0,
          0.25
         ],
         "gridcolor": "#E1E5ED",
         "showgrid": true,
         "tickfont": {
          "color": "#4D5663"
         },
         "title": {
          "font": {
           "color": "#4D5663"
          },
          "text": "Spread"
         },
         "zerolinecolor": "#E1E5ED"
        }
       }
      },
      "text/html": [
       "<div>                            <div id=\"cefb8570-6167-4f98-be12-9d3c6eb5bad1\" class=\"plotly-graph-div\" style=\"height:525px; width:100%;\"></div>            <script type=\"text/javascript\">                require([\"plotly\"], function(Plotly) {                    window.PLOTLYENV=window.PLOTLYENV || {};\n",
       "                    window.PLOTLYENV.BASE_URL='https://plot.ly';                                    if (document.getElementById(\"cefb8570-6167-4f98-be12-9d3c6eb5bad1\")) {                    Plotly.newPlot(                        \"cefb8570-6167-4f98-be12-9d3c6eb5bad1\",                        [{\"line\":{\"color\":\"rgba(255, 153, 51, 1.0)\",\"dash\":\"solid\",\"shape\":\"linear\",\"width\":1.3},\"mode\":\"lines\",\"name\":\"A\",\"text\":\"\",\"x\":[0,1,2,3,4,5,6,7,8,9,10,11,12,13,14,15,16,17,18,19,20,21,22,23,24,25,26,27,28,29,30,31,32,33,34,35,36,37,38,39,40,41,42,43,44,45,46,47,48,49,50,51,52,53,54,55,56,57,58,59,60,61,62,63,64,65,66,67,68,69,70,71,72,73,74,75,76,77,78,79,80,81,82,83,84,85,86,87,88,89,90,91,92,93,94,95,96,97,98,99],\"y\":[0.2249574122485187,-0.14261442417502293,-0.2550693898234665,0.685612907940947,1.6696377029416647,-0.6276630448948421,-0.3675932197581956,0.8601065321997801,0.3029584160575629,1.4871959331592248,-1.1402052303681383,-0.10363052533320498,-1.227114249882769,1.0517098065952517,0.18111386197406235,-0.6224553189786596,-1.1914704485957508,0.6505610670402162,-1.0311546827111027,-0.3220045091127159,0.6201846864041929,-0.3136670563097545,0.3122077103270754,0.9019905430898144,0.7314170684298197,-0.840305166395734,-1.1196562155436376,0.22835011296288307,-0.21548374150626115,-0.07777464559266904,-2.197928658415042,-0.28835600690837554,-0.12235519259126607,-1.3580351035282827,0.2132605551579515,0.46070651683040154,0.7963444611084912,0.1094805824159229,-0.6102506779738078,1.1329129967541405,-0.5065961707940483,0.3745901537387485,0.7946114378721225,1.1465167276749233,-2.0553288125734057,0.10100751854400598,0.6645436919180743,-2.412988684855048,0.5122070039497443,1.4030992357915617,0.24913590252340764,-1.4870597006201085,-1.3661838507640083,-0.1519904820928337,0.4088874943908349,0.28921834149417314,-0.5477050903562732,-1.00334077408219,-1.9782068285772612,-1.559539636679243,1.1878319779769697,-0.5514926543266923,-1.239928895872855,1.361883671248535,0.6178324441029704,0.9377043609805684,0.403641750993754,-1.9264422169236457,-0.39329684106780577,-0.18962422021135977,0.4309102642418277,0.13416483620471115,-1.8475271675664917,1.276656958413032,0.5536066672322233,0.7451250480407975,-1.1885494428288137,0.808597310965037,-0.049207908473800556,0.1822632839586508,1.09853989816661,-1.9058038090611038,-0.538794190231828,0.28458672788291245,-1.7107356167627255,0.35184119723705537,-1.3012008916908282,-0.9108700963300996,-0.838242587698326,1.5118378297958461,-0.525715085033998,-0.5280227761153535,1.5009480547986114,-1.1882945291476716,-1.2722134708587935,-0.25068439424681555,-1.0076209780516017,-0.742483026883699,-0.5971237711770452,-0.06812184219397695],\"type\":\"scatter\"},{\"line\":{\"color\":\"rgba(55, 128, 191, 1.0)\",\"dash\":\"solid\",\"shape\":\"linear\",\"width\":1.3},\"mode\":\"lines\",\"name\":\"B\",\"text\":\"\",\"x\":[0,1,2,3,4,5,6,7,8,9,10,11,12,13,14,15,16,17,18,19,20,21,22,23,24,25,26,27,28,29,30,31,32,33,34,35,36,37,38,39,40,41,42,43,44,45,46,47,48,49,50,51,52,53,54,55,56,57,58,59,60,61,62,63,64,65,66,67,68,69,70,71,72,73,74,75,76,77,78,79,80,81,82,83,84,85,86,87,88,89,90,91,92,93,94,95,96,97,98,99],\"y\":[0.7729328845998267,-0.2950040513273714,0.09520908744315867,1.441071495404537,0.10166534711461274,-0.8693316971690324,0.979562167355205,-0.8654708786854032,-0.2870011317161067,-1.5300959310749473,0.8368972285896891,1.8496175673476036,-1.2477780681015862,0.4215338133150978,0.4917663948454245,0.9781736006519686,0.9347198820348527,-0.36365393310839655,-1.5200057839806334,-0.8670452957430184,-0.788241493679069,-0.5477438420825249,0.04336683059551982,0.18091119066448572,0.10213061681864892,0.9561820138080441,0.6360305156843183,0.8148193265235719,-0.7243357866209025,-1.7094201272778604,0.7049069031486167,-1.6929017104546837,-1.351434770601901,0.5400726790334075,-0.9089948988816058,0.6865655449142279,0.07603430008983052,-0.9119736366526259,1.1017361476428449,0.3310632043893103,-0.668250051067514,0.485161547116454,0.3774165281634454,1.2433965952711497,-0.8535662136692201,0.9651085753827604,-0.12577055249933197,0.2315793282956873,1.094271953610481,0.45475229561547326,-0.1926373637868699,-0.32561960234374177,-2.1906627063088835,2.337836470426464,-0.8169000173085379,-1.0567080408048166,-2.137216564597913,2.8063834954575566,-0.9480034566417574,0.07441797086764544,-1.9894922466089366,1.6497669533081567,-0.12560768412915277,1.0167088823279065,1.2651059424362803,1.218624446338318,-2.5148357286791554,-0.6143555014834721,-2.1475638559430856,-0.9632014475924506,0.14276846625931602,0.35315951521897926,-0.4451647014676167,-1.344538665604799,1.5703460188585443,1.1649900207213846,-1.1327050573844177,0.30148592567161836,0.33369126307640595,-1.2513016080325425,-1.3740431730549505,0.6582137883417819,-0.3898943074688618,0.36245937168862513,0.47462451095442765,-2.077087683940318,-0.03158422387106401,0.3412955156808295,0.4860490073614476,-0.42109861637466595,1.2486711513798276,0.6810153620726337,0.21709393315480308,-0.7575392105538545,0.12553478007756078,0.33217504596304537,0.5983073107261221,-2.2161251644675217,0.5324550065592877,-0.5973104555594871],\"type\":\"scatter\"},{\"line\":{\"color\":\"rgba(50, 171, 96, 1.0)\",\"dash\":\"solid\",\"shape\":\"linear\",\"width\":1.3},\"mode\":\"lines\",\"name\":\"C\",\"text\":\"\",\"x\":[0,1,2,3,4,5,6,7,8,9,10,11,12,13,14,15,16,17,18,19,20,21,22,23,24,25,26,27,28,29,30,31,32,33,34,35,36,37,38,39,40,41,42,43,44,45,46,47,48,49,50,51,52,53,54,55,56,57,58,59,60,61,62,63,64,65,66,67,68,69,70,71,72,73,74,75,76,77,78,79,80,81,82,83,84,85,86,87,88,89,90,91,92,93,94,95,96,97,98,99],\"y\":[-1.407703631343671,0.5140329231436118,1.3131158131992584,-2.212928852152698,0.5173563987333515,0.34706084032851675,-0.5929210703964634,0.13813863792706588,0.7003144907738252,0.8797191494749702,0.29137863584603657,0.412210553403753,-0.7917919162256702,0.23380419921599765,0.7006363554579161,-0.19401780265160595,0.0871652750797159,0.12109102906606106,-0.4856774751621975,-0.33503656199224263,0.989305797207836,0.15082348550530683,0.4704807568828661,1.0831894299838418,0.3586295958501063,0.1915945076598596,-1.5022291531005783,1.4038913461155493,-2.3201172843085103,-0.7850084055935527,1.6416898072599189,0.8740064232601772,0.5855214404280811,0.14953267259073877,-0.7168148311985317,-0.5110533822942064,-0.6965664504104578,-0.19578700620630154,0.14780867769351586,1.1463301563682267,-0.45084299243755643,-1.432352328786134,-2.0578758871075524,-0.6875762164963011,0.5095140262897756,-0.13186026363396183,-0.13804039155615058,0.41595434931612085,0.39940419070713673,0.1720714416492082,1.2358173790766753,0.2564077760910809,1.1783928031922872,-0.32641311365649067,0.23858826873596783,-0.14203601038533445,-0.3645621499967152,0.18016270082759867,-0.6928018108236371,-2.104313369439946,-0.3633633809793382,0.3020055011942023,0.7122464940533162,-0.8554495413250128,-0.01817109422354125,-1.0072561535251414,0.007045125592761505,-0.8047034046048044,-0.8133706531485041,-0.026216939791767715,-1.8034397312235693,0.13761848980876704,2.2825978897893187,0.0944423889260254,-0.6335379203958453,0.5293411405886458,-1.8191640037863301,0.26903546964548747,1.2290653193686019,-0.05392103233269685,-1.021614999145513,0.2492397807664952,0.5700615041724898,0.8501408763354436,-0.3152259965012949,2.080110221272923,-0.6302027942250683,0.8567247070030546,0.3127734152662034,1.2741981219816176,0.9127376031649637,0.5166083951090601,0.2475442944341499,-0.4239327618190913,-1.2485199555196693,0.47098675354359276,-0.6394284322963346,-2.755316239582588,0.9120545301067184,-0.7607109933566386],\"type\":\"scatter\"},{\"line\":{\"color\":\"rgba(128, 0, 128, 1.0)\",\"dash\":\"solid\",\"shape\":\"linear\",\"width\":1.3},\"mode\":\"lines\",\"name\":\"D\",\"text\":\"\",\"x\":[0,1,2,3,4,5,6,7,8,9,10,11,12,13,14,15,16,17,18,19,20,21,22,23,24,25,26,27,28,29,30,31,32,33,34,35,36,37,38,39,40,41,42,43,44,45,46,47,48,49,50,51,52,53,54,55,56,57,58,59,60,61,62,63,64,65,66,67,68,69,70,71,72,73,74,75,76,77,78,79,80,81,82,83,84,85,86,87,88,89,90,91,92,93,94,95,96,97,98,99],\"y\":[0.687400710884295,1.292329185879667,-1.4451549140024476,2.4212652941715733,-0.5990245298654623,-0.14312718252640605,1.0341838284171945,0.9168533072372855,-0.5239881601798092,-3.4614694117290363,-0.547162749247495,-0.2954205384119188,-0.6762104379883643,0.17942177831626702,-0.446784254558779,3.152472667088559,0.05366938922946379,0.2925464108958577,-0.9260514076904133,0.8666434042745934,-0.6788493093657786,-0.928452920672083,0.7490743212798445,-0.9910217690371543,-0.5099780597741604,-0.7729878731471892,0.1261095837182957,-2.173997852739537,0.13380187326526857,-0.03383492214686325,-1.0540827763670386,0.5722797189713448,-0.10047293394388912,-1.4115711035698897,-1.123541015090475,-0.7485896007773215,1.1621777066193428,0.31034667529675075,-0.5478548465244522,1.1053754476640354,0.6724786658427715,1.417592390164073,0.1763335278094863,-0.4759008789741875,-0.529021806162886,-0.8780406205670047,-0.4670899375138714,0.12021124416462858,-1.1638589701666413,-0.2718286124947359,0.4944119559453498,0.612862017516745,2.0620936369339837,-0.5498957432666844,0.21091506283573025,0.8960109115496354,-0.08446203183891707,1.495063178165726,0.7921963932506242,0.9706531868794951,0.5442650593702897,-0.06695152379828094,-0.031671739135709996,-0.3282615102156579,-0.8570800998138681,-1.1631087687318071,1.319037497800597,0.010885976841033509,-0.16632739692236823,0.2784643719376399,-0.06477373031704924,-0.8110155425857067,0.46462041479311506,-0.29344170889783944,0.9418749445032143,-0.9145351980427542,1.5989467259671475,-0.3123143304487573,-1.7312174953372057,-0.9701391400874365,-1.263680840458927,1.6221377826941585,-1.929638890370037,-0.00807621149389771,-1.1116686536071216,-1.3142471793168062,-0.2677781320562748,-0.029451177327852074,0.6886728047322884,0.6228839741607755,1.048817636224244,-1.2720622979819218,-0.16208924811986883,-0.3442025567829724,0.05865786141098669,0.33630770910042346,-0.021898720384863044,-0.9402976316913524,-0.7092448432651228,0.6306365246150188],\"type\":\"scatter\"},{\"connectgaps\":false,\"fill\":\"tozeroy\",\"line\":{\"color\":\"green\",\"dash\":\"solid\",\"shape\":\"linear\",\"width\":0.5},\"mode\":\"lines\",\"name\":\"Spread\",\"showlegend\":false,\"x\":[0,1,2,3,4,5,6,7,8,9,10,11,12,13,14,15,16,17,18,19,20,21,22,23,24,25,26,27,28,29,30,31,32,33,34,35,36,37,38,39,40,41,42,43,44,45,46,47,48,49,50,51,52,53,54,55,56,57,58,59,60,61,62,63,64,65,66,67,68,69,70,71,72,73,74,75,76,77,78,79,80,81,82,83,84,85,86,87,88,89,90,91,92,93,94,95,96,97,98,99],\"xaxis\":\"x2\",\"y\":[\"\",0.15238962715234847,\"\",\"\",1.567972355827052,0.2416686522741902,\"\",1.7255774108851831,0.5899595477736697,3.0172918642341724,\"\",\"\",0.020663818218817243,0.6301759932801538,\"\",\"\",\"\",1.0142150001486128,0.4888511012695307,0.5450407866303024,1.408426180083262,0.2340767857727704,0.26884087973155557,0.7210793524253287,0.6292864516111708,\"\",\"\",\"\",0.5088520451146413,1.6316454816851913,\"\",1.4045457035463083,1.229079578010635,\"\",1.1222554540395573,\"\",0.7203101610186607,1.0214542190685487,\"\",0.8018497923648302,0.16165388027346572,\"\",0.4171949097086771,\"\",\"\",\"\",0.7903142444174063,\"\",\"\",0.9483469401760884,0.4417732663102776,\"\",0.8244788555448752,\"\",1.2257875116993728,1.3459263822989898,1.5895114742416396,\"\",\"\",\"\",3.1773242245859064,\"\",\"\",0.3451747889206285,\"\",\"\",2.9184774796729096,\"\",1.75426701487528,0.7735772273810908,0.2881417979825117,\"\",\"\",2.6211956240178313,\"\",\"\",\"\",0.5071113852934186,\"\",1.4335648919911934,2.4725830712215604,\"\",\"\",\"\",\"\",2.4289288811773733,\"\",\"\",\"\",1.932936446170512,\"\",\"\",1.2838541216438082,\"\",\"\",\"\",\"\",1.4736421375838227,\"\",0.5291886133655102],\"yaxis\":\"y2\",\"type\":\"scatter\"},{\"connectgaps\":false,\"fill\":\"tozeroy\",\"line\":{\"color\":\"red\",\"dash\":\"solid\",\"shape\":\"linear\",\"width\":0.5},\"mode\":\"lines\",\"name\":\"Spread\",\"showlegend\":false,\"x\":[0,1,2,3,4,5,6,7,8,9,10,11,12,13,14,15,16,17,18,19,20,21,22,23,24,25,26,27,28,29,30,31,32,33,34,35,36,37,38,39,40,41,42,43,44,45,46,47,48,49,50,51,52,53,54,55,56,57,58,59,60,61,62,63,64,65,66,67,68,69,70,71,72,73,74,75,76,77,78,79,80,81,82,83,84,85,86,87,88,89,90,91,92,93,94,95,96,97,98,99],\"xaxis\":\"x2\",\"y\":[-0.547975472351308,\"\",-0.3502784772666252,-0.75545858746359,\"\",\"\",-1.3471553871134005,\"\",\"\",\"\",-1.9771024589578272,-1.9532480926808087,\"\",\"\",-0.3106525328713622,-1.600628919630628,-2.1261903306306036,\"\",\"\",\"\",\"\",\"\",\"\",\"\",\"\",-1.796487180203778,-1.7556867312279558,-0.5864692135606888,\"\",\"\",-2.9028355615636587,\"\",\"\",-1.89810778256169,\"\",-0.2258590280838264,\"\",\"\",-1.7119868256166528,\"\",\"\",-0.1105713933777055,\"\",-0.09687986759622635,-1.2017625989041856,-0.8641010568387544,\"\",-2.6445680131507356,-0.5820649496607367,\"\",\"\",-1.1614400982763669,\"\",-2.4898269525192975,\"\",\"\",\"\",-3.8097242695397466,-1.0302033719355037,-1.6339576075468882,\"\",-2.201259607634849,-1.1143212117437022,\"\",-0.6472734983333098,-0.2809200853577496,\"\",-1.3120867154401736,\"\",\"\",\"\",-0.2189946790142681,-1.402362466098875,\"\",-1.016739351626321,-0.4198649726805871,-0.05584438544439596,\"\",-0.38289917155020653,\"\",\"\",-2.5640175974028856,-0.14889988276296617,-0.07787264380571268,-2.185360127717153,\"\",-1.2696166678197642,-1.2521656120109292,-1.3242915950597736,\"\",-1.7743862364138256,-1.2090381381879873,\"\",-0.4307553185938171,-1.3977482509363544,-0.5828594402098609,-1.6059282887777238,\"\",-1.1295787777363329,\"\"],\"yaxis\":\"y2\",\"type\":\"scatter\"}],                        {\"hovermode\":\"x\",\"legend\":{\"bgcolor\":\"#F5F6F9\",\"font\":{\"color\":\"#4D5663\"}},\"paper_bgcolor\":\"#F5F6F9\",\"plot_bgcolor\":\"#F5F6F9\",\"template\":{\"data\":{\"barpolar\":[{\"marker\":{\"line\":{\"color\":\"#E5ECF6\",\"width\":0.5},\"pattern\":{\"fillmode\":\"overlay\",\"size\":10,\"solidity\":0.2}},\"type\":\"barpolar\"}],\"bar\":[{\"error_x\":{\"color\":\"#2a3f5f\"},\"error_y\":{\"color\":\"#2a3f5f\"},\"marker\":{\"line\":{\"color\":\"#E5ECF6\",\"width\":0.5},\"pattern\":{\"fillmode\":\"overlay\",\"size\":10,\"solidity\":0.2}},\"type\":\"bar\"}],\"carpet\":[{\"aaxis\":{\"endlinecolor\":\"#2a3f5f\",\"gridcolor\":\"white\",\"linecolor\":\"white\",\"minorgridcolor\":\"white\",\"startlinecolor\":\"#2a3f5f\"},\"baxis\":{\"endlinecolor\":\"#2a3f5f\",\"gridcolor\":\"white\",\"linecolor\":\"white\",\"minorgridcolor\":\"white\",\"startlinecolor\":\"#2a3f5f\"},\"type\":\"carpet\"}],\"choropleth\":[{\"colorbar\":{\"outlinewidth\":0,\"ticks\":\"\"},\"type\":\"choropleth\"}],\"contourcarpet\":[{\"colorbar\":{\"outlinewidth\":0,\"ticks\":\"\"},\"type\":\"contourcarpet\"}],\"contour\":[{\"colorbar\":{\"outlinewidth\":0,\"ticks\":\"\"},\"colorscale\":[[0.0,\"#0d0887\"],[0.1111111111111111,\"#46039f\"],[0.2222222222222222,\"#7201a8\"],[0.3333333333333333,\"#9c179e\"],[0.4444444444444444,\"#bd3786\"],[0.5555555555555556,\"#d8576b\"],[0.6666666666666666,\"#ed7953\"],[0.7777777777777778,\"#fb9f3a\"],[0.8888888888888888,\"#fdca26\"],[1.0,\"#f0f921\"]],\"type\":\"contour\"}],\"heatmapgl\":[{\"colorbar\":{\"outlinewidth\":0,\"ticks\":\"\"},\"colorscale\":[[0.0,\"#0d0887\"],[0.1111111111111111,\"#46039f\"],[0.2222222222222222,\"#7201a8\"],[0.3333333333333333,\"#9c179e\"],[0.4444444444444444,\"#bd3786\"],[0.5555555555555556,\"#d8576b\"],[0.6666666666666666,\"#ed7953\"],[0.7777777777777778,\"#fb9f3a\"],[0.8888888888888888,\"#fdca26\"],[1.0,\"#f0f921\"]],\"type\":\"heatmapgl\"}],\"heatmap\":[{\"colorbar\":{\"outlinewidth\":0,\"ticks\":\"\"},\"colorscale\":[[0.0,\"#0d0887\"],[0.1111111111111111,\"#46039f\"],[0.2222222222222222,\"#7201a8\"],[0.3333333333333333,\"#9c179e\"],[0.4444444444444444,\"#bd3786\"],[0.5555555555555556,\"#d8576b\"],[0.6666666666666666,\"#ed7953\"],[0.7777777777777778,\"#fb9f3a\"],[0.8888888888888888,\"#fdca26\"],[1.0,\"#f0f921\"]],\"type\":\"heatmap\"}],\"histogram2dcontour\":[{\"colorbar\":{\"outlinewidth\":0,\"ticks\":\"\"},\"colorscale\":[[0.0,\"#0d0887\"],[0.1111111111111111,\"#46039f\"],[0.2222222222222222,\"#7201a8\"],[0.3333333333333333,\"#9c179e\"],[0.4444444444444444,\"#bd3786\"],[0.5555555555555556,\"#d8576b\"],[0.6666666666666666,\"#ed7953\"],[0.7777777777777778,\"#fb9f3a\"],[0.8888888888888888,\"#fdca26\"],[1.0,\"#f0f921\"]],\"type\":\"histogram2dcontour\"}],\"histogram2d\":[{\"colorbar\":{\"outlinewidth\":0,\"ticks\":\"\"},\"colorscale\":[[0.0,\"#0d0887\"],[0.1111111111111111,\"#46039f\"],[0.2222222222222222,\"#7201a8\"],[0.3333333333333333,\"#9c179e\"],[0.4444444444444444,\"#bd3786\"],[0.5555555555555556,\"#d8576b\"],[0.6666666666666666,\"#ed7953\"],[0.7777777777777778,\"#fb9f3a\"],[0.8888888888888888,\"#fdca26\"],[1.0,\"#f0f921\"]],\"type\":\"histogram2d\"}],\"histogram\":[{\"marker\":{\"pattern\":{\"fillmode\":\"overlay\",\"size\":10,\"solidity\":0.2}},\"type\":\"histogram\"}],\"mesh3d\":[{\"colorbar\":{\"outlinewidth\":0,\"ticks\":\"\"},\"type\":\"mesh3d\"}],\"parcoords\":[{\"line\":{\"colorbar\":{\"outlinewidth\":0,\"ticks\":\"\"}},\"type\":\"parcoords\"}],\"pie\":[{\"automargin\":true,\"type\":\"pie\"}],\"scatter3d\":[{\"line\":{\"colorbar\":{\"outlinewidth\":0,\"ticks\":\"\"}},\"marker\":{\"colorbar\":{\"outlinewidth\":0,\"ticks\":\"\"}},\"type\":\"scatter3d\"}],\"scattercarpet\":[{\"marker\":{\"colorbar\":{\"outlinewidth\":0,\"ticks\":\"\"}},\"type\":\"scattercarpet\"}],\"scattergeo\":[{\"marker\":{\"colorbar\":{\"outlinewidth\":0,\"ticks\":\"\"}},\"type\":\"scattergeo\"}],\"scattergl\":[{\"marker\":{\"colorbar\":{\"outlinewidth\":0,\"ticks\":\"\"}},\"type\":\"scattergl\"}],\"scattermapbox\":[{\"marker\":{\"colorbar\":{\"outlinewidth\":0,\"ticks\":\"\"}},\"type\":\"scattermapbox\"}],\"scatterpolargl\":[{\"marker\":{\"colorbar\":{\"outlinewidth\":0,\"ticks\":\"\"}},\"type\":\"scatterpolargl\"}],\"scatterpolar\":[{\"marker\":{\"colorbar\":{\"outlinewidth\":0,\"ticks\":\"\"}},\"type\":\"scatterpolar\"}],\"scatter\":[{\"fillpattern\":{\"fillmode\":\"overlay\",\"size\":10,\"solidity\":0.2},\"type\":\"scatter\"}],\"scatterternary\":[{\"marker\":{\"colorbar\":{\"outlinewidth\":0,\"ticks\":\"\"}},\"type\":\"scatterternary\"}],\"surface\":[{\"colorbar\":{\"outlinewidth\":0,\"ticks\":\"\"},\"colorscale\":[[0.0,\"#0d0887\"],[0.1111111111111111,\"#46039f\"],[0.2222222222222222,\"#7201a8\"],[0.3333333333333333,\"#9c179e\"],[0.4444444444444444,\"#bd3786\"],[0.5555555555555556,\"#d8576b\"],[0.6666666666666666,\"#ed7953\"],[0.7777777777777778,\"#fb9f3a\"],[0.8888888888888888,\"#fdca26\"],[1.0,\"#f0f921\"]],\"type\":\"surface\"}],\"table\":[{\"cells\":{\"fill\":{\"color\":\"#EBF0F8\"},\"line\":{\"color\":\"white\"}},\"header\":{\"fill\":{\"color\":\"#C8D4E3\"},\"line\":{\"color\":\"white\"}},\"type\":\"table\"}]},\"layout\":{\"annotationdefaults\":{\"arrowcolor\":\"#2a3f5f\",\"arrowhead\":0,\"arrowwidth\":1},\"autotypenumbers\":\"strict\",\"coloraxis\":{\"colorbar\":{\"outlinewidth\":0,\"ticks\":\"\"}},\"colorscale\":{\"diverging\":[[0,\"#8e0152\"],[0.1,\"#c51b7d\"],[0.2,\"#de77ae\"],[0.3,\"#f1b6da\"],[0.4,\"#fde0ef\"],[0.5,\"#f7f7f7\"],[0.6,\"#e6f5d0\"],[0.7,\"#b8e186\"],[0.8,\"#7fbc41\"],[0.9,\"#4d9221\"],[1,\"#276419\"]],\"sequential\":[[0.0,\"#0d0887\"],[0.1111111111111111,\"#46039f\"],[0.2222222222222222,\"#7201a8\"],[0.3333333333333333,\"#9c179e\"],[0.4444444444444444,\"#bd3786\"],[0.5555555555555556,\"#d8576b\"],[0.6666666666666666,\"#ed7953\"],[0.7777777777777778,\"#fb9f3a\"],[0.8888888888888888,\"#fdca26\"],[1.0,\"#f0f921\"]],\"sequentialminus\":[[0.0,\"#0d0887\"],[0.1111111111111111,\"#46039f\"],[0.2222222222222222,\"#7201a8\"],[0.3333333333333333,\"#9c179e\"],[0.4444444444444444,\"#bd3786\"],[0.5555555555555556,\"#d8576b\"],[0.6666666666666666,\"#ed7953\"],[0.7777777777777778,\"#fb9f3a\"],[0.8888888888888888,\"#fdca26\"],[1.0,\"#f0f921\"]]},\"colorway\":[\"#636efa\",\"#EF553B\",\"#00cc96\",\"#ab63fa\",\"#FFA15A\",\"#19d3f3\",\"#FF6692\",\"#B6E880\",\"#FF97FF\",\"#FECB52\"],\"font\":{\"color\":\"#2a3f5f\"},\"geo\":{\"bgcolor\":\"white\",\"lakecolor\":\"white\",\"landcolor\":\"#E5ECF6\",\"showlakes\":true,\"showland\":true,\"subunitcolor\":\"white\"},\"hoverlabel\":{\"align\":\"left\"},\"hovermode\":\"closest\",\"mapbox\":{\"style\":\"light\"},\"paper_bgcolor\":\"white\",\"plot_bgcolor\":\"#E5ECF6\",\"polar\":{\"angularaxis\":{\"gridcolor\":\"white\",\"linecolor\":\"white\",\"ticks\":\"\"},\"bgcolor\":\"#E5ECF6\",\"radialaxis\":{\"gridcolor\":\"white\",\"linecolor\":\"white\",\"ticks\":\"\"}},\"scene\":{\"xaxis\":{\"backgroundcolor\":\"#E5ECF6\",\"gridcolor\":\"white\",\"gridwidth\":2,\"linecolor\":\"white\",\"showbackground\":true,\"ticks\":\"\",\"zerolinecolor\":\"white\"},\"yaxis\":{\"backgroundcolor\":\"#E5ECF6\",\"gridcolor\":\"white\",\"gridwidth\":2,\"linecolor\":\"white\",\"showbackground\":true,\"ticks\":\"\",\"zerolinecolor\":\"white\"},\"zaxis\":{\"backgroundcolor\":\"#E5ECF6\",\"gridcolor\":\"white\",\"gridwidth\":2,\"linecolor\":\"white\",\"showbackground\":true,\"ticks\":\"\",\"zerolinecolor\":\"white\"}},\"shapedefaults\":{\"line\":{\"color\":\"#2a3f5f\"}},\"ternary\":{\"aaxis\":{\"gridcolor\":\"white\",\"linecolor\":\"white\",\"ticks\":\"\"},\"baxis\":{\"gridcolor\":\"white\",\"linecolor\":\"white\",\"ticks\":\"\"},\"bgcolor\":\"#E5ECF6\",\"caxis\":{\"gridcolor\":\"white\",\"linecolor\":\"white\",\"ticks\":\"\"}},\"title\":{\"x\":0.05},\"xaxis\":{\"automargin\":true,\"gridcolor\":\"white\",\"linecolor\":\"white\",\"ticks\":\"\",\"title\":{\"standoff\":15},\"zerolinecolor\":\"white\",\"zerolinewidth\":2},\"yaxis\":{\"automargin\":true,\"gridcolor\":\"white\",\"linecolor\":\"white\",\"ticks\":\"\",\"title\":{\"standoff\":15},\"zerolinecolor\":\"white\",\"zerolinewidth\":2}}},\"title\":{\"font\":{\"color\":\"#4D5663\"}},\"xaxis\":{\"gridcolor\":\"#E1E5ED\",\"showgrid\":true,\"tickfont\":{\"color\":\"#4D5663\"},\"title\":{\"font\":{\"color\":\"#4D5663\"},\"text\":\"\"},\"zerolinecolor\":\"#E1E5ED\"},\"yaxis\":{\"domain\":[0.3,1],\"gridcolor\":\"#E1E5ED\",\"showgrid\":true,\"tickfont\":{\"color\":\"#4D5663\"},\"title\":{\"font\":{\"color\":\"#4D5663\"},\"text\":\"\"},\"zerolinecolor\":\"#E1E5ED\"},\"yaxis2\":{\"domain\":[0,0.25],\"gridcolor\":\"#E1E5ED\",\"showgrid\":true,\"tickfont\":{\"color\":\"#4D5663\"},\"title\":{\"font\":{\"color\":\"#4D5663\"},\"text\":\"Spread\"},\"zerolinecolor\":\"#E1E5ED\"},\"xaxis2\":{\"anchor\":\"y2\",\"gridcolor\":\"#E1E5ED\",\"showgrid\":true,\"showticklabels\":false,\"tickfont\":{\"color\":\"#4D5663\"},\"title\":{\"font\":{\"color\":\"#4D5663\"},\"text\":\"\"},\"zerolinecolor\":\"#E1E5ED\"}},                        {\"showLink\": true, \"linkText\": \"Export to plot.ly\", \"plotlyServerURL\": \"https://plot.ly\", \"responsive\": true}                    ).then(function(){\n",
       "                            \n",
       "var gd = document.getElementById('cefb8570-6167-4f98-be12-9d3c6eb5bad1');\n",
       "var x = new MutationObserver(function (mutations, observer) {{\n",
       "        var display = window.getComputedStyle(gd).display;\n",
       "        if (!display || display === 'none') {{\n",
       "            console.log([gd, 'removed!']);\n",
       "            Plotly.purge(gd);\n",
       "            observer.disconnect();\n",
       "        }}\n",
       "}});\n",
       "\n",
       "// Listen for the removal of the full notebook cells\n",
       "var notebookContainer = gd.closest('#notebook-container');\n",
       "if (notebookContainer) {{\n",
       "    x.observe(notebookContainer, {childList: true});\n",
       "}}\n",
       "\n",
       "// Listen for the clearing of the current output cell\n",
       "var outputEl = gd.closest('.output');\n",
       "if (outputEl) {{\n",
       "    x.observe(outputEl, {childList: true});\n",
       "}}\n",
       "\n",
       "                        })                };                });            </script>        </div>"
      ]
     },
     "metadata": {},
     "output_type": "display_data"
    }
   ],
   "source": [
    "df1.iplot(kind=\"spread\")"
   ]
  },
  {
   "cell_type": "code",
   "execution_count": 66,
   "id": "76ec29f8",
   "metadata": {},
   "outputs": [
    {
     "data": {
      "text/html": [
       "<div>\n",
       "<style scoped>\n",
       "    .dataframe tbody tr th:only-of-type {\n",
       "        vertical-align: middle;\n",
       "    }\n",
       "\n",
       "    .dataframe tbody tr th {\n",
       "        vertical-align: top;\n",
       "    }\n",
       "\n",
       "    .dataframe thead th {\n",
       "        text-align: right;\n",
       "    }\n",
       "</style>\n",
       "<table border=\"1\" class=\"dataframe\">\n",
       "  <thead>\n",
       "    <tr style=\"text-align: right;\">\n",
       "      <th></th>\n",
       "      <th>A</th>\n",
       "      <th>B</th>\n",
       "      <th>C</th>\n",
       "      <th>D</th>\n",
       "    </tr>\n",
       "  </thead>\n",
       "  <tbody>\n",
       "    <tr>\n",
       "      <th>0</th>\n",
       "      <td>0.224957</td>\n",
       "      <td>0.772933</td>\n",
       "      <td>-1.407704</td>\n",
       "      <td>0.687401</td>\n",
       "    </tr>\n",
       "    <tr>\n",
       "      <th>1</th>\n",
       "      <td>-0.142614</td>\n",
       "      <td>-0.295004</td>\n",
       "      <td>0.514033</td>\n",
       "      <td>1.292329</td>\n",
       "    </tr>\n",
       "    <tr>\n",
       "      <th>2</th>\n",
       "      <td>-0.255069</td>\n",
       "      <td>0.095209</td>\n",
       "      <td>1.313116</td>\n",
       "      <td>-1.445155</td>\n",
       "    </tr>\n",
       "    <tr>\n",
       "      <th>3</th>\n",
       "      <td>0.685613</td>\n",
       "      <td>1.441071</td>\n",
       "      <td>-2.212929</td>\n",
       "      <td>2.421265</td>\n",
       "    </tr>\n",
       "    <tr>\n",
       "      <th>4</th>\n",
       "      <td>1.669638</td>\n",
       "      <td>0.101665</td>\n",
       "      <td>0.517356</td>\n",
       "      <td>-0.599025</td>\n",
       "    </tr>\n",
       "  </tbody>\n",
       "</table>\n",
       "</div>"
      ],
      "text/plain": [
       "          A         B         C         D\n",
       "0  0.224957  0.772933 -1.407704  0.687401\n",
       "1 -0.142614 -0.295004  0.514033  1.292329\n",
       "2 -0.255069  0.095209  1.313116 -1.445155\n",
       "3  0.685613  1.441071 -2.212929  2.421265\n",
       "4  1.669638  0.101665  0.517356 -0.599025"
      ]
     },
     "execution_count": 66,
     "metadata": {},
     "output_type": "execute_result"
    }
   ],
   "source": [
    "df1.head()"
   ]
  },
  {
   "cell_type": "code",
   "execution_count": 69,
   "id": "54575c3b",
   "metadata": {},
   "outputs": [
    {
     "data": {
      "application/vnd.plotly.v1+json": {
       "config": {
        "linkText": "Export to plot.ly",
        "plotlyServerURL": "https://plot.ly",
        "showLink": true
       },
       "data": [
        {
         "histfunc": "count",
         "histnorm": "",
         "marker": {
          "color": "rgba(255, 153, 51, 1.0)",
          "line": {
           "color": "#4D5663",
           "width": 1.3
          }
         },
         "name": "A",
         "nbinsx": 10,
         "opacity": 0.8,
         "orientation": "v",
         "type": "histogram",
         "x": [
          0.2249574122485187,
          -0.14261442417502293,
          -0.2550693898234665,
          0.685612907940947,
          1.6696377029416647,
          -0.6276630448948421,
          -0.3675932197581956,
          0.8601065321997801,
          0.3029584160575629,
          1.4871959331592248,
          -1.1402052303681383,
          -0.10363052533320498,
          -1.227114249882769,
          1.0517098065952517,
          0.18111386197406235,
          -0.6224553189786596,
          -1.1914704485957508,
          0.6505610670402162,
          -1.0311546827111027,
          -0.3220045091127159,
          0.6201846864041929,
          -0.3136670563097545,
          0.3122077103270754,
          0.9019905430898144,
          0.7314170684298197,
          -0.840305166395734,
          -1.1196562155436376,
          0.22835011296288307,
          -0.21548374150626115,
          -0.07777464559266904,
          -2.197928658415042,
          -0.28835600690837554,
          -0.12235519259126607,
          -1.3580351035282827,
          0.2132605551579515,
          0.46070651683040154,
          0.7963444611084912,
          0.1094805824159229,
          -0.6102506779738078,
          1.1329129967541405,
          -0.5065961707940483,
          0.3745901537387485,
          0.7946114378721225,
          1.1465167276749233,
          -2.0553288125734057,
          0.10100751854400598,
          0.6645436919180743,
          -2.412988684855048,
          0.5122070039497443,
          1.4030992357915617,
          0.24913590252340764,
          -1.4870597006201085,
          -1.3661838507640083,
          -0.1519904820928337,
          0.4088874943908349,
          0.28921834149417314,
          -0.5477050903562732,
          -1.00334077408219,
          -1.9782068285772612,
          -1.559539636679243,
          1.1878319779769697,
          -0.5514926543266923,
          -1.239928895872855,
          1.361883671248535,
          0.6178324441029704,
          0.9377043609805684,
          0.403641750993754,
          -1.9264422169236457,
          -0.39329684106780577,
          -0.18962422021135977,
          0.4309102642418277,
          0.13416483620471115,
          -1.8475271675664917,
          1.276656958413032,
          0.5536066672322233,
          0.7451250480407975,
          -1.1885494428288137,
          0.808597310965037,
          -0.049207908473800556,
          0.1822632839586508,
          1.09853989816661,
          -1.9058038090611038,
          -0.538794190231828,
          0.28458672788291245,
          -1.7107356167627255,
          0.35184119723705537,
          -1.3012008916908282,
          -0.9108700963300996,
          -0.838242587698326,
          1.5118378297958461,
          -0.525715085033998,
          -0.5280227761153535,
          1.5009480547986114,
          -1.1882945291476716,
          -1.2722134708587935,
          -0.25068439424681555,
          -1.0076209780516017,
          -0.742483026883699,
          -0.5971237711770452,
          -0.06812184219397695
         ],
         "xaxis": "x",
         "yaxis": "y"
        },
        {
         "line": {
          "color": "rgba(128, 128, 128, 1.0)",
          "dash": "solid",
          "shape": "linear",
          "width": 1.3
         },
         "marker": {
          "size": 2,
          "symbol": "circle"
         },
         "mode": "markers",
         "name": "A",
         "text": "",
         "type": "scatter",
         "x": [
          0.7729328845998267,
          -0.2950040513273714,
          0.09520908744315867,
          1.441071495404537,
          0.10166534711461274,
          -0.8693316971690324,
          0.979562167355205,
          -0.8654708786854032,
          -0.2870011317161067,
          -1.5300959310749473,
          0.8368972285896891,
          1.8496175673476036,
          -1.2477780681015862,
          0.4215338133150978,
          0.4917663948454245,
          0.9781736006519686,
          0.9347198820348527,
          -0.36365393310839655,
          -1.5200057839806334,
          -0.8670452957430184,
          -0.788241493679069,
          -0.5477438420825249,
          0.04336683059551982,
          0.18091119066448572,
          0.10213061681864892,
          0.9561820138080441,
          0.6360305156843183,
          0.8148193265235719,
          -0.7243357866209025,
          -1.7094201272778604,
          0.7049069031486167,
          -1.6929017104546837,
          -1.351434770601901,
          0.5400726790334075,
          -0.9089948988816058,
          0.6865655449142279,
          0.07603430008983052,
          -0.9119736366526259,
          1.1017361476428449,
          0.3310632043893103,
          -0.668250051067514,
          0.485161547116454,
          0.3774165281634454,
          1.2433965952711497,
          -0.8535662136692201,
          0.9651085753827604,
          -0.12577055249933197,
          0.2315793282956873,
          1.094271953610481,
          0.45475229561547326,
          -0.1926373637868699,
          -0.32561960234374177,
          -2.1906627063088835,
          2.337836470426464,
          -0.8169000173085379,
          -1.0567080408048166,
          -2.137216564597913,
          2.8063834954575566,
          -0.9480034566417574,
          0.07441797086764544,
          -1.9894922466089366,
          1.6497669533081567,
          -0.12560768412915277,
          1.0167088823279065,
          1.2651059424362803,
          1.218624446338318,
          -2.5148357286791554,
          -0.6143555014834721,
          -2.1475638559430856,
          -0.9632014475924506,
          0.14276846625931602,
          0.35315951521897926,
          -0.4451647014676167,
          -1.344538665604799,
          1.5703460188585443,
          1.1649900207213846,
          -1.1327050573844177,
          0.30148592567161836,
          0.33369126307640595,
          -1.2513016080325425,
          -1.3740431730549505,
          0.6582137883417819,
          -0.3898943074688618,
          0.36245937168862513,
          0.47462451095442765,
          -2.077087683940318,
          -0.03158422387106401,
          0.3412955156808295,
          0.4860490073614476,
          -0.42109861637466595,
          1.2486711513798276,
          0.6810153620726337,
          0.21709393315480308,
          -0.7575392105538545,
          0.12553478007756078,
          0.33217504596304537,
          0.5983073107261221,
          -2.2161251644675217,
          0.5324550065592877,
          -0.5973104555594871
         ],
         "xaxis": "x2",
         "y": [
          0.2249574122485187,
          -0.14261442417502293,
          -0.2550693898234665,
          0.685612907940947,
          1.6696377029416647,
          -0.6276630448948421,
          -0.3675932197581956,
          0.8601065321997801,
          0.3029584160575629,
          1.4871959331592248,
          -1.1402052303681383,
          -0.10363052533320498,
          -1.227114249882769,
          1.0517098065952517,
          0.18111386197406235,
          -0.6224553189786596,
          -1.1914704485957508,
          0.6505610670402162,
          -1.0311546827111027,
          -0.3220045091127159,
          0.6201846864041929,
          -0.3136670563097545,
          0.3122077103270754,
          0.9019905430898144,
          0.7314170684298197,
          -0.840305166395734,
          -1.1196562155436376,
          0.22835011296288307,
          -0.21548374150626115,
          -0.07777464559266904,
          -2.197928658415042,
          -0.28835600690837554,
          -0.12235519259126607,
          -1.3580351035282827,
          0.2132605551579515,
          0.46070651683040154,
          0.7963444611084912,
          0.1094805824159229,
          -0.6102506779738078,
          1.1329129967541405,
          -0.5065961707940483,
          0.3745901537387485,
          0.7946114378721225,
          1.1465167276749233,
          -2.0553288125734057,
          0.10100751854400598,
          0.6645436919180743,
          -2.412988684855048,
          0.5122070039497443,
          1.4030992357915617,
          0.24913590252340764,
          -1.4870597006201085,
          -1.3661838507640083,
          -0.1519904820928337,
          0.4088874943908349,
          0.28921834149417314,
          -0.5477050903562732,
          -1.00334077408219,
          -1.9782068285772612,
          -1.559539636679243,
          1.1878319779769697,
          -0.5514926543266923,
          -1.239928895872855,
          1.361883671248535,
          0.6178324441029704,
          0.9377043609805684,
          0.403641750993754,
          -1.9264422169236457,
          -0.39329684106780577,
          -0.18962422021135977,
          0.4309102642418277,
          0.13416483620471115,
          -1.8475271675664917,
          1.276656958413032,
          0.5536066672322233,
          0.7451250480407975,
          -1.1885494428288137,
          0.808597310965037,
          -0.049207908473800556,
          0.1822632839586508,
          1.09853989816661,
          -1.9058038090611038,
          -0.538794190231828,
          0.28458672788291245,
          -1.7107356167627255,
          0.35184119723705537,
          -1.3012008916908282,
          -0.9108700963300996,
          -0.838242587698326,
          1.5118378297958461,
          -0.525715085033998,
          -0.5280227761153535,
          1.5009480547986114,
          -1.1882945291476716,
          -1.2722134708587935,
          -0.25068439424681555,
          -1.0076209780516017,
          -0.742483026883699,
          -0.5971237711770452,
          -0.06812184219397695
         ],
         "yaxis": "y2"
        },
        {
         "line": {
          "color": "rgba(128, 128, 128, 1.0)",
          "dash": "solid",
          "shape": "linear",
          "width": 1.3
         },
         "marker": {
          "size": 2,
          "symbol": "circle"
         },
         "mode": "markers",
         "name": "A",
         "text": "",
         "type": "scatter",
         "x": [
          -1.407703631343671,
          0.5140329231436118,
          1.3131158131992584,
          -2.212928852152698,
          0.5173563987333515,
          0.34706084032851675,
          -0.5929210703964634,
          0.13813863792706588,
          0.7003144907738252,
          0.8797191494749702,
          0.29137863584603657,
          0.412210553403753,
          -0.7917919162256702,
          0.23380419921599765,
          0.7006363554579161,
          -0.19401780265160595,
          0.0871652750797159,
          0.12109102906606106,
          -0.4856774751621975,
          -0.33503656199224263,
          0.989305797207836,
          0.15082348550530683,
          0.4704807568828661,
          1.0831894299838418,
          0.3586295958501063,
          0.1915945076598596,
          -1.5022291531005783,
          1.4038913461155493,
          -2.3201172843085103,
          -0.7850084055935527,
          1.6416898072599189,
          0.8740064232601772,
          0.5855214404280811,
          0.14953267259073877,
          -0.7168148311985317,
          -0.5110533822942064,
          -0.6965664504104578,
          -0.19578700620630154,
          0.14780867769351586,
          1.1463301563682267,
          -0.45084299243755643,
          -1.432352328786134,
          -2.0578758871075524,
          -0.6875762164963011,
          0.5095140262897756,
          -0.13186026363396183,
          -0.13804039155615058,
          0.41595434931612085,
          0.39940419070713673,
          0.1720714416492082,
          1.2358173790766753,
          0.2564077760910809,
          1.1783928031922872,
          -0.32641311365649067,
          0.23858826873596783,
          -0.14203601038533445,
          -0.3645621499967152,
          0.18016270082759867,
          -0.6928018108236371,
          -2.104313369439946,
          -0.3633633809793382,
          0.3020055011942023,
          0.7122464940533162,
          -0.8554495413250128,
          -0.01817109422354125,
          -1.0072561535251414,
          0.007045125592761505,
          -0.8047034046048044,
          -0.8133706531485041,
          -0.026216939791767715,
          -1.8034397312235693,
          0.13761848980876704,
          2.2825978897893187,
          0.0944423889260254,
          -0.6335379203958453,
          0.5293411405886458,
          -1.8191640037863301,
          0.26903546964548747,
          1.2290653193686019,
          -0.05392103233269685,
          -1.021614999145513,
          0.2492397807664952,
          0.5700615041724898,
          0.8501408763354436,
          -0.3152259965012949,
          2.080110221272923,
          -0.6302027942250683,
          0.8567247070030546,
          0.3127734152662034,
          1.2741981219816176,
          0.9127376031649637,
          0.5166083951090601,
          0.2475442944341499,
          -0.4239327618190913,
          -1.2485199555196693,
          0.47098675354359276,
          -0.6394284322963346,
          -2.755316239582588,
          0.9120545301067184,
          -0.7607109933566386
         ],
         "xaxis": "x3",
         "y": [
          0.2249574122485187,
          -0.14261442417502293,
          -0.2550693898234665,
          0.685612907940947,
          1.6696377029416647,
          -0.6276630448948421,
          -0.3675932197581956,
          0.8601065321997801,
          0.3029584160575629,
          1.4871959331592248,
          -1.1402052303681383,
          -0.10363052533320498,
          -1.227114249882769,
          1.0517098065952517,
          0.18111386197406235,
          -0.6224553189786596,
          -1.1914704485957508,
          0.6505610670402162,
          -1.0311546827111027,
          -0.3220045091127159,
          0.6201846864041929,
          -0.3136670563097545,
          0.3122077103270754,
          0.9019905430898144,
          0.7314170684298197,
          -0.840305166395734,
          -1.1196562155436376,
          0.22835011296288307,
          -0.21548374150626115,
          -0.07777464559266904,
          -2.197928658415042,
          -0.28835600690837554,
          -0.12235519259126607,
          -1.3580351035282827,
          0.2132605551579515,
          0.46070651683040154,
          0.7963444611084912,
          0.1094805824159229,
          -0.6102506779738078,
          1.1329129967541405,
          -0.5065961707940483,
          0.3745901537387485,
          0.7946114378721225,
          1.1465167276749233,
          -2.0553288125734057,
          0.10100751854400598,
          0.6645436919180743,
          -2.412988684855048,
          0.5122070039497443,
          1.4030992357915617,
          0.24913590252340764,
          -1.4870597006201085,
          -1.3661838507640083,
          -0.1519904820928337,
          0.4088874943908349,
          0.28921834149417314,
          -0.5477050903562732,
          -1.00334077408219,
          -1.9782068285772612,
          -1.559539636679243,
          1.1878319779769697,
          -0.5514926543266923,
          -1.239928895872855,
          1.361883671248535,
          0.6178324441029704,
          0.9377043609805684,
          0.403641750993754,
          -1.9264422169236457,
          -0.39329684106780577,
          -0.18962422021135977,
          0.4309102642418277,
          0.13416483620471115,
          -1.8475271675664917,
          1.276656958413032,
          0.5536066672322233,
          0.7451250480407975,
          -1.1885494428288137,
          0.808597310965037,
          -0.049207908473800556,
          0.1822632839586508,
          1.09853989816661,
          -1.9058038090611038,
          -0.538794190231828,
          0.28458672788291245,
          -1.7107356167627255,
          0.35184119723705537,
          -1.3012008916908282,
          -0.9108700963300996,
          -0.838242587698326,
          1.5118378297958461,
          -0.525715085033998,
          -0.5280227761153535,
          1.5009480547986114,
          -1.1882945291476716,
          -1.2722134708587935,
          -0.25068439424681555,
          -1.0076209780516017,
          -0.742483026883699,
          -0.5971237711770452,
          -0.06812184219397695
         ],
         "yaxis": "y3"
        },
        {
         "line": {
          "color": "rgba(128, 128, 128, 1.0)",
          "dash": "solid",
          "shape": "linear",
          "width": 1.3
         },
         "marker": {
          "size": 2,
          "symbol": "circle"
         },
         "mode": "markers",
         "name": "A",
         "text": "",
         "type": "scatter",
         "x": [
          0.687400710884295,
          1.292329185879667,
          -1.4451549140024476,
          2.4212652941715733,
          -0.5990245298654623,
          -0.14312718252640605,
          1.0341838284171945,
          0.9168533072372855,
          -0.5239881601798092,
          -3.4614694117290363,
          -0.547162749247495,
          -0.2954205384119188,
          -0.6762104379883643,
          0.17942177831626702,
          -0.446784254558779,
          3.152472667088559,
          0.05366938922946379,
          0.2925464108958577,
          -0.9260514076904133,
          0.8666434042745934,
          -0.6788493093657786,
          -0.928452920672083,
          0.7490743212798445,
          -0.9910217690371543,
          -0.5099780597741604,
          -0.7729878731471892,
          0.1261095837182957,
          -2.173997852739537,
          0.13380187326526857,
          -0.03383492214686325,
          -1.0540827763670386,
          0.5722797189713448,
          -0.10047293394388912,
          -1.4115711035698897,
          -1.123541015090475,
          -0.7485896007773215,
          1.1621777066193428,
          0.31034667529675075,
          -0.5478548465244522,
          1.1053754476640354,
          0.6724786658427715,
          1.417592390164073,
          0.1763335278094863,
          -0.4759008789741875,
          -0.529021806162886,
          -0.8780406205670047,
          -0.4670899375138714,
          0.12021124416462858,
          -1.1638589701666413,
          -0.2718286124947359,
          0.4944119559453498,
          0.612862017516745,
          2.0620936369339837,
          -0.5498957432666844,
          0.21091506283573025,
          0.8960109115496354,
          -0.08446203183891707,
          1.495063178165726,
          0.7921963932506242,
          0.9706531868794951,
          0.5442650593702897,
          -0.06695152379828094,
          -0.031671739135709996,
          -0.3282615102156579,
          -0.8570800998138681,
          -1.1631087687318071,
          1.319037497800597,
          0.010885976841033509,
          -0.16632739692236823,
          0.2784643719376399,
          -0.06477373031704924,
          -0.8110155425857067,
          0.46462041479311506,
          -0.29344170889783944,
          0.9418749445032143,
          -0.9145351980427542,
          1.5989467259671475,
          -0.3123143304487573,
          -1.7312174953372057,
          -0.9701391400874365,
          -1.263680840458927,
          1.6221377826941585,
          -1.929638890370037,
          -0.00807621149389771,
          -1.1116686536071216,
          -1.3142471793168062,
          -0.2677781320562748,
          -0.029451177327852074,
          0.6886728047322884,
          0.6228839741607755,
          1.048817636224244,
          -1.2720622979819218,
          -0.16208924811986883,
          -0.3442025567829724,
          0.05865786141098669,
          0.33630770910042346,
          -0.021898720384863044,
          -0.9402976316913524,
          -0.7092448432651228,
          0.6306365246150188
         ],
         "xaxis": "x4",
         "y": [
          0.2249574122485187,
          -0.14261442417502293,
          -0.2550693898234665,
          0.685612907940947,
          1.6696377029416647,
          -0.6276630448948421,
          -0.3675932197581956,
          0.8601065321997801,
          0.3029584160575629,
          1.4871959331592248,
          -1.1402052303681383,
          -0.10363052533320498,
          -1.227114249882769,
          1.0517098065952517,
          0.18111386197406235,
          -0.6224553189786596,
          -1.1914704485957508,
          0.6505610670402162,
          -1.0311546827111027,
          -0.3220045091127159,
          0.6201846864041929,
          -0.3136670563097545,
          0.3122077103270754,
          0.9019905430898144,
          0.7314170684298197,
          -0.840305166395734,
          -1.1196562155436376,
          0.22835011296288307,
          -0.21548374150626115,
          -0.07777464559266904,
          -2.197928658415042,
          -0.28835600690837554,
          -0.12235519259126607,
          -1.3580351035282827,
          0.2132605551579515,
          0.46070651683040154,
          0.7963444611084912,
          0.1094805824159229,
          -0.6102506779738078,
          1.1329129967541405,
          -0.5065961707940483,
          0.3745901537387485,
          0.7946114378721225,
          1.1465167276749233,
          -2.0553288125734057,
          0.10100751854400598,
          0.6645436919180743,
          -2.412988684855048,
          0.5122070039497443,
          1.4030992357915617,
          0.24913590252340764,
          -1.4870597006201085,
          -1.3661838507640083,
          -0.1519904820928337,
          0.4088874943908349,
          0.28921834149417314,
          -0.5477050903562732,
          -1.00334077408219,
          -1.9782068285772612,
          -1.559539636679243,
          1.1878319779769697,
          -0.5514926543266923,
          -1.239928895872855,
          1.361883671248535,
          0.6178324441029704,
          0.9377043609805684,
          0.403641750993754,
          -1.9264422169236457,
          -0.39329684106780577,
          -0.18962422021135977,
          0.4309102642418277,
          0.13416483620471115,
          -1.8475271675664917,
          1.276656958413032,
          0.5536066672322233,
          0.7451250480407975,
          -1.1885494428288137,
          0.808597310965037,
          -0.049207908473800556,
          0.1822632839586508,
          1.09853989816661,
          -1.9058038090611038,
          -0.538794190231828,
          0.28458672788291245,
          -1.7107356167627255,
          0.35184119723705537,
          -1.3012008916908282,
          -0.9108700963300996,
          -0.838242587698326,
          1.5118378297958461,
          -0.525715085033998,
          -0.5280227761153535,
          1.5009480547986114,
          -1.1882945291476716,
          -1.2722134708587935,
          -0.25068439424681555,
          -1.0076209780516017,
          -0.742483026883699,
          -0.5971237711770452,
          -0.06812184219397695
         ],
         "yaxis": "y4"
        },
        {
         "line": {
          "color": "rgba(128, 128, 128, 1.0)",
          "dash": "solid",
          "shape": "linear",
          "width": 1.3
         },
         "marker": {
          "size": 2,
          "symbol": "circle"
         },
         "mode": "markers",
         "name": "B",
         "text": "",
         "type": "scatter",
         "x": [
          0.2249574122485187,
          -0.14261442417502293,
          -0.2550693898234665,
          0.685612907940947,
          1.6696377029416647,
          -0.6276630448948421,
          -0.3675932197581956,
          0.8601065321997801,
          0.3029584160575629,
          1.4871959331592248,
          -1.1402052303681383,
          -0.10363052533320498,
          -1.227114249882769,
          1.0517098065952517,
          0.18111386197406235,
          -0.6224553189786596,
          -1.1914704485957508,
          0.6505610670402162,
          -1.0311546827111027,
          -0.3220045091127159,
          0.6201846864041929,
          -0.3136670563097545,
          0.3122077103270754,
          0.9019905430898144,
          0.7314170684298197,
          -0.840305166395734,
          -1.1196562155436376,
          0.22835011296288307,
          -0.21548374150626115,
          -0.07777464559266904,
          -2.197928658415042,
          -0.28835600690837554,
          -0.12235519259126607,
          -1.3580351035282827,
          0.2132605551579515,
          0.46070651683040154,
          0.7963444611084912,
          0.1094805824159229,
          -0.6102506779738078,
          1.1329129967541405,
          -0.5065961707940483,
          0.3745901537387485,
          0.7946114378721225,
          1.1465167276749233,
          -2.0553288125734057,
          0.10100751854400598,
          0.6645436919180743,
          -2.412988684855048,
          0.5122070039497443,
          1.4030992357915617,
          0.24913590252340764,
          -1.4870597006201085,
          -1.3661838507640083,
          -0.1519904820928337,
          0.4088874943908349,
          0.28921834149417314,
          -0.5477050903562732,
          -1.00334077408219,
          -1.9782068285772612,
          -1.559539636679243,
          1.1878319779769697,
          -0.5514926543266923,
          -1.239928895872855,
          1.361883671248535,
          0.6178324441029704,
          0.9377043609805684,
          0.403641750993754,
          -1.9264422169236457,
          -0.39329684106780577,
          -0.18962422021135977,
          0.4309102642418277,
          0.13416483620471115,
          -1.8475271675664917,
          1.276656958413032,
          0.5536066672322233,
          0.7451250480407975,
          -1.1885494428288137,
          0.808597310965037,
          -0.049207908473800556,
          0.1822632839586508,
          1.09853989816661,
          -1.9058038090611038,
          -0.538794190231828,
          0.28458672788291245,
          -1.7107356167627255,
          0.35184119723705537,
          -1.3012008916908282,
          -0.9108700963300996,
          -0.838242587698326,
          1.5118378297958461,
          -0.525715085033998,
          -0.5280227761153535,
          1.5009480547986114,
          -1.1882945291476716,
          -1.2722134708587935,
          -0.25068439424681555,
          -1.0076209780516017,
          -0.742483026883699,
          -0.5971237711770452,
          -0.06812184219397695
         ],
         "xaxis": "x5",
         "y": [
          0.7729328845998267,
          -0.2950040513273714,
          0.09520908744315867,
          1.441071495404537,
          0.10166534711461274,
          -0.8693316971690324,
          0.979562167355205,
          -0.8654708786854032,
          -0.2870011317161067,
          -1.5300959310749473,
          0.8368972285896891,
          1.8496175673476036,
          -1.2477780681015862,
          0.4215338133150978,
          0.4917663948454245,
          0.9781736006519686,
          0.9347198820348527,
          -0.36365393310839655,
          -1.5200057839806334,
          -0.8670452957430184,
          -0.788241493679069,
          -0.5477438420825249,
          0.04336683059551982,
          0.18091119066448572,
          0.10213061681864892,
          0.9561820138080441,
          0.6360305156843183,
          0.8148193265235719,
          -0.7243357866209025,
          -1.7094201272778604,
          0.7049069031486167,
          -1.6929017104546837,
          -1.351434770601901,
          0.5400726790334075,
          -0.9089948988816058,
          0.6865655449142279,
          0.07603430008983052,
          -0.9119736366526259,
          1.1017361476428449,
          0.3310632043893103,
          -0.668250051067514,
          0.485161547116454,
          0.3774165281634454,
          1.2433965952711497,
          -0.8535662136692201,
          0.9651085753827604,
          -0.12577055249933197,
          0.2315793282956873,
          1.094271953610481,
          0.45475229561547326,
          -0.1926373637868699,
          -0.32561960234374177,
          -2.1906627063088835,
          2.337836470426464,
          -0.8169000173085379,
          -1.0567080408048166,
          -2.137216564597913,
          2.8063834954575566,
          -0.9480034566417574,
          0.07441797086764544,
          -1.9894922466089366,
          1.6497669533081567,
          -0.12560768412915277,
          1.0167088823279065,
          1.2651059424362803,
          1.218624446338318,
          -2.5148357286791554,
          -0.6143555014834721,
          -2.1475638559430856,
          -0.9632014475924506,
          0.14276846625931602,
          0.35315951521897926,
          -0.4451647014676167,
          -1.344538665604799,
          1.5703460188585443,
          1.1649900207213846,
          -1.1327050573844177,
          0.30148592567161836,
          0.33369126307640595,
          -1.2513016080325425,
          -1.3740431730549505,
          0.6582137883417819,
          -0.3898943074688618,
          0.36245937168862513,
          0.47462451095442765,
          -2.077087683940318,
          -0.03158422387106401,
          0.3412955156808295,
          0.4860490073614476,
          -0.42109861637466595,
          1.2486711513798276,
          0.6810153620726337,
          0.21709393315480308,
          -0.7575392105538545,
          0.12553478007756078,
          0.33217504596304537,
          0.5983073107261221,
          -2.2161251644675217,
          0.5324550065592877,
          -0.5973104555594871
         ],
         "yaxis": "y5"
        },
        {
         "histfunc": "count",
         "histnorm": "",
         "marker": {
          "color": "rgba(55, 128, 191, 1.0)",
          "line": {
           "color": "#4D5663",
           "width": 1.3
          }
         },
         "name": "B",
         "nbinsx": 10,
         "opacity": 0.8,
         "orientation": "v",
         "type": "histogram",
         "x": [
          0.7729328845998267,
          -0.2950040513273714,
          0.09520908744315867,
          1.441071495404537,
          0.10166534711461274,
          -0.8693316971690324,
          0.979562167355205,
          -0.8654708786854032,
          -0.2870011317161067,
          -1.5300959310749473,
          0.8368972285896891,
          1.8496175673476036,
          -1.2477780681015862,
          0.4215338133150978,
          0.4917663948454245,
          0.9781736006519686,
          0.9347198820348527,
          -0.36365393310839655,
          -1.5200057839806334,
          -0.8670452957430184,
          -0.788241493679069,
          -0.5477438420825249,
          0.04336683059551982,
          0.18091119066448572,
          0.10213061681864892,
          0.9561820138080441,
          0.6360305156843183,
          0.8148193265235719,
          -0.7243357866209025,
          -1.7094201272778604,
          0.7049069031486167,
          -1.6929017104546837,
          -1.351434770601901,
          0.5400726790334075,
          -0.9089948988816058,
          0.6865655449142279,
          0.07603430008983052,
          -0.9119736366526259,
          1.1017361476428449,
          0.3310632043893103,
          -0.668250051067514,
          0.485161547116454,
          0.3774165281634454,
          1.2433965952711497,
          -0.8535662136692201,
          0.9651085753827604,
          -0.12577055249933197,
          0.2315793282956873,
          1.094271953610481,
          0.45475229561547326,
          -0.1926373637868699,
          -0.32561960234374177,
          -2.1906627063088835,
          2.337836470426464,
          -0.8169000173085379,
          -1.0567080408048166,
          -2.137216564597913,
          2.8063834954575566,
          -0.9480034566417574,
          0.07441797086764544,
          -1.9894922466089366,
          1.6497669533081567,
          -0.12560768412915277,
          1.0167088823279065,
          1.2651059424362803,
          1.218624446338318,
          -2.5148357286791554,
          -0.6143555014834721,
          -2.1475638559430856,
          -0.9632014475924506,
          0.14276846625931602,
          0.35315951521897926,
          -0.4451647014676167,
          -1.344538665604799,
          1.5703460188585443,
          1.1649900207213846,
          -1.1327050573844177,
          0.30148592567161836,
          0.33369126307640595,
          -1.2513016080325425,
          -1.3740431730549505,
          0.6582137883417819,
          -0.3898943074688618,
          0.36245937168862513,
          0.47462451095442765,
          -2.077087683940318,
          -0.03158422387106401,
          0.3412955156808295,
          0.4860490073614476,
          -0.42109861637466595,
          1.2486711513798276,
          0.6810153620726337,
          0.21709393315480308,
          -0.7575392105538545,
          0.12553478007756078,
          0.33217504596304537,
          0.5983073107261221,
          -2.2161251644675217,
          0.5324550065592877,
          -0.5973104555594871
         ],
         "xaxis": "x6",
         "yaxis": "y6"
        },
        {
         "line": {
          "color": "rgba(128, 128, 128, 1.0)",
          "dash": "solid",
          "shape": "linear",
          "width": 1.3
         },
         "marker": {
          "size": 2,
          "symbol": "circle"
         },
         "mode": "markers",
         "name": "B",
         "text": "",
         "type": "scatter",
         "x": [
          -1.407703631343671,
          0.5140329231436118,
          1.3131158131992584,
          -2.212928852152698,
          0.5173563987333515,
          0.34706084032851675,
          -0.5929210703964634,
          0.13813863792706588,
          0.7003144907738252,
          0.8797191494749702,
          0.29137863584603657,
          0.412210553403753,
          -0.7917919162256702,
          0.23380419921599765,
          0.7006363554579161,
          -0.19401780265160595,
          0.0871652750797159,
          0.12109102906606106,
          -0.4856774751621975,
          -0.33503656199224263,
          0.989305797207836,
          0.15082348550530683,
          0.4704807568828661,
          1.0831894299838418,
          0.3586295958501063,
          0.1915945076598596,
          -1.5022291531005783,
          1.4038913461155493,
          -2.3201172843085103,
          -0.7850084055935527,
          1.6416898072599189,
          0.8740064232601772,
          0.5855214404280811,
          0.14953267259073877,
          -0.7168148311985317,
          -0.5110533822942064,
          -0.6965664504104578,
          -0.19578700620630154,
          0.14780867769351586,
          1.1463301563682267,
          -0.45084299243755643,
          -1.432352328786134,
          -2.0578758871075524,
          -0.6875762164963011,
          0.5095140262897756,
          -0.13186026363396183,
          -0.13804039155615058,
          0.41595434931612085,
          0.39940419070713673,
          0.1720714416492082,
          1.2358173790766753,
          0.2564077760910809,
          1.1783928031922872,
          -0.32641311365649067,
          0.23858826873596783,
          -0.14203601038533445,
          -0.3645621499967152,
          0.18016270082759867,
          -0.6928018108236371,
          -2.104313369439946,
          -0.3633633809793382,
          0.3020055011942023,
          0.7122464940533162,
          -0.8554495413250128,
          -0.01817109422354125,
          -1.0072561535251414,
          0.007045125592761505,
          -0.8047034046048044,
          -0.8133706531485041,
          -0.026216939791767715,
          -1.8034397312235693,
          0.13761848980876704,
          2.2825978897893187,
          0.0944423889260254,
          -0.6335379203958453,
          0.5293411405886458,
          -1.8191640037863301,
          0.26903546964548747,
          1.2290653193686019,
          -0.05392103233269685,
          -1.021614999145513,
          0.2492397807664952,
          0.5700615041724898,
          0.8501408763354436,
          -0.3152259965012949,
          2.080110221272923,
          -0.6302027942250683,
          0.8567247070030546,
          0.3127734152662034,
          1.2741981219816176,
          0.9127376031649637,
          0.5166083951090601,
          0.2475442944341499,
          -0.4239327618190913,
          -1.2485199555196693,
          0.47098675354359276,
          -0.6394284322963346,
          -2.755316239582588,
          0.9120545301067184,
          -0.7607109933566386
         ],
         "xaxis": "x7",
         "y": [
          0.7729328845998267,
          -0.2950040513273714,
          0.09520908744315867,
          1.441071495404537,
          0.10166534711461274,
          -0.8693316971690324,
          0.979562167355205,
          -0.8654708786854032,
          -0.2870011317161067,
          -1.5300959310749473,
          0.8368972285896891,
          1.8496175673476036,
          -1.2477780681015862,
          0.4215338133150978,
          0.4917663948454245,
          0.9781736006519686,
          0.9347198820348527,
          -0.36365393310839655,
          -1.5200057839806334,
          -0.8670452957430184,
          -0.788241493679069,
          -0.5477438420825249,
          0.04336683059551982,
          0.18091119066448572,
          0.10213061681864892,
          0.9561820138080441,
          0.6360305156843183,
          0.8148193265235719,
          -0.7243357866209025,
          -1.7094201272778604,
          0.7049069031486167,
          -1.6929017104546837,
          -1.351434770601901,
          0.5400726790334075,
          -0.9089948988816058,
          0.6865655449142279,
          0.07603430008983052,
          -0.9119736366526259,
          1.1017361476428449,
          0.3310632043893103,
          -0.668250051067514,
          0.485161547116454,
          0.3774165281634454,
          1.2433965952711497,
          -0.8535662136692201,
          0.9651085753827604,
          -0.12577055249933197,
          0.2315793282956873,
          1.094271953610481,
          0.45475229561547326,
          -0.1926373637868699,
          -0.32561960234374177,
          -2.1906627063088835,
          2.337836470426464,
          -0.8169000173085379,
          -1.0567080408048166,
          -2.137216564597913,
          2.8063834954575566,
          -0.9480034566417574,
          0.07441797086764544,
          -1.9894922466089366,
          1.6497669533081567,
          -0.12560768412915277,
          1.0167088823279065,
          1.2651059424362803,
          1.218624446338318,
          -2.5148357286791554,
          -0.6143555014834721,
          -2.1475638559430856,
          -0.9632014475924506,
          0.14276846625931602,
          0.35315951521897926,
          -0.4451647014676167,
          -1.344538665604799,
          1.5703460188585443,
          1.1649900207213846,
          -1.1327050573844177,
          0.30148592567161836,
          0.33369126307640595,
          -1.2513016080325425,
          -1.3740431730549505,
          0.6582137883417819,
          -0.3898943074688618,
          0.36245937168862513,
          0.47462451095442765,
          -2.077087683940318,
          -0.03158422387106401,
          0.3412955156808295,
          0.4860490073614476,
          -0.42109861637466595,
          1.2486711513798276,
          0.6810153620726337,
          0.21709393315480308,
          -0.7575392105538545,
          0.12553478007756078,
          0.33217504596304537,
          0.5983073107261221,
          -2.2161251644675217,
          0.5324550065592877,
          -0.5973104555594871
         ],
         "yaxis": "y7"
        },
        {
         "line": {
          "color": "rgba(128, 128, 128, 1.0)",
          "dash": "solid",
          "shape": "linear",
          "width": 1.3
         },
         "marker": {
          "size": 2,
          "symbol": "circle"
         },
         "mode": "markers",
         "name": "B",
         "text": "",
         "type": "scatter",
         "x": [
          0.687400710884295,
          1.292329185879667,
          -1.4451549140024476,
          2.4212652941715733,
          -0.5990245298654623,
          -0.14312718252640605,
          1.0341838284171945,
          0.9168533072372855,
          -0.5239881601798092,
          -3.4614694117290363,
          -0.547162749247495,
          -0.2954205384119188,
          -0.6762104379883643,
          0.17942177831626702,
          -0.446784254558779,
          3.152472667088559,
          0.05366938922946379,
          0.2925464108958577,
          -0.9260514076904133,
          0.8666434042745934,
          -0.6788493093657786,
          -0.928452920672083,
          0.7490743212798445,
          -0.9910217690371543,
          -0.5099780597741604,
          -0.7729878731471892,
          0.1261095837182957,
          -2.173997852739537,
          0.13380187326526857,
          -0.03383492214686325,
          -1.0540827763670386,
          0.5722797189713448,
          -0.10047293394388912,
          -1.4115711035698897,
          -1.123541015090475,
          -0.7485896007773215,
          1.1621777066193428,
          0.31034667529675075,
          -0.5478548465244522,
          1.1053754476640354,
          0.6724786658427715,
          1.417592390164073,
          0.1763335278094863,
          -0.4759008789741875,
          -0.529021806162886,
          -0.8780406205670047,
          -0.4670899375138714,
          0.12021124416462858,
          -1.1638589701666413,
          -0.2718286124947359,
          0.4944119559453498,
          0.612862017516745,
          2.0620936369339837,
          -0.5498957432666844,
          0.21091506283573025,
          0.8960109115496354,
          -0.08446203183891707,
          1.495063178165726,
          0.7921963932506242,
          0.9706531868794951,
          0.5442650593702897,
          -0.06695152379828094,
          -0.031671739135709996,
          -0.3282615102156579,
          -0.8570800998138681,
          -1.1631087687318071,
          1.319037497800597,
          0.010885976841033509,
          -0.16632739692236823,
          0.2784643719376399,
          -0.06477373031704924,
          -0.8110155425857067,
          0.46462041479311506,
          -0.29344170889783944,
          0.9418749445032143,
          -0.9145351980427542,
          1.5989467259671475,
          -0.3123143304487573,
          -1.7312174953372057,
          -0.9701391400874365,
          -1.263680840458927,
          1.6221377826941585,
          -1.929638890370037,
          -0.00807621149389771,
          -1.1116686536071216,
          -1.3142471793168062,
          -0.2677781320562748,
          -0.029451177327852074,
          0.6886728047322884,
          0.6228839741607755,
          1.048817636224244,
          -1.2720622979819218,
          -0.16208924811986883,
          -0.3442025567829724,
          0.05865786141098669,
          0.33630770910042346,
          -0.021898720384863044,
          -0.9402976316913524,
          -0.7092448432651228,
          0.6306365246150188
         ],
         "xaxis": "x8",
         "y": [
          0.7729328845998267,
          -0.2950040513273714,
          0.09520908744315867,
          1.441071495404537,
          0.10166534711461274,
          -0.8693316971690324,
          0.979562167355205,
          -0.8654708786854032,
          -0.2870011317161067,
          -1.5300959310749473,
          0.8368972285896891,
          1.8496175673476036,
          -1.2477780681015862,
          0.4215338133150978,
          0.4917663948454245,
          0.9781736006519686,
          0.9347198820348527,
          -0.36365393310839655,
          -1.5200057839806334,
          -0.8670452957430184,
          -0.788241493679069,
          -0.5477438420825249,
          0.04336683059551982,
          0.18091119066448572,
          0.10213061681864892,
          0.9561820138080441,
          0.6360305156843183,
          0.8148193265235719,
          -0.7243357866209025,
          -1.7094201272778604,
          0.7049069031486167,
          -1.6929017104546837,
          -1.351434770601901,
          0.5400726790334075,
          -0.9089948988816058,
          0.6865655449142279,
          0.07603430008983052,
          -0.9119736366526259,
          1.1017361476428449,
          0.3310632043893103,
          -0.668250051067514,
          0.485161547116454,
          0.3774165281634454,
          1.2433965952711497,
          -0.8535662136692201,
          0.9651085753827604,
          -0.12577055249933197,
          0.2315793282956873,
          1.094271953610481,
          0.45475229561547326,
          -0.1926373637868699,
          -0.32561960234374177,
          -2.1906627063088835,
          2.337836470426464,
          -0.8169000173085379,
          -1.0567080408048166,
          -2.137216564597913,
          2.8063834954575566,
          -0.9480034566417574,
          0.07441797086764544,
          -1.9894922466089366,
          1.6497669533081567,
          -0.12560768412915277,
          1.0167088823279065,
          1.2651059424362803,
          1.218624446338318,
          -2.5148357286791554,
          -0.6143555014834721,
          -2.1475638559430856,
          -0.9632014475924506,
          0.14276846625931602,
          0.35315951521897926,
          -0.4451647014676167,
          -1.344538665604799,
          1.5703460188585443,
          1.1649900207213846,
          -1.1327050573844177,
          0.30148592567161836,
          0.33369126307640595,
          -1.2513016080325425,
          -1.3740431730549505,
          0.6582137883417819,
          -0.3898943074688618,
          0.36245937168862513,
          0.47462451095442765,
          -2.077087683940318,
          -0.03158422387106401,
          0.3412955156808295,
          0.4860490073614476,
          -0.42109861637466595,
          1.2486711513798276,
          0.6810153620726337,
          0.21709393315480308,
          -0.7575392105538545,
          0.12553478007756078,
          0.33217504596304537,
          0.5983073107261221,
          -2.2161251644675217,
          0.5324550065592877,
          -0.5973104555594871
         ],
         "yaxis": "y8"
        },
        {
         "line": {
          "color": "rgba(128, 128, 128, 1.0)",
          "dash": "solid",
          "shape": "linear",
          "width": 1.3
         },
         "marker": {
          "size": 2,
          "symbol": "circle"
         },
         "mode": "markers",
         "name": "C",
         "text": "",
         "type": "scatter",
         "x": [
          0.2249574122485187,
          -0.14261442417502293,
          -0.2550693898234665,
          0.685612907940947,
          1.6696377029416647,
          -0.6276630448948421,
          -0.3675932197581956,
          0.8601065321997801,
          0.3029584160575629,
          1.4871959331592248,
          -1.1402052303681383,
          -0.10363052533320498,
          -1.227114249882769,
          1.0517098065952517,
          0.18111386197406235,
          -0.6224553189786596,
          -1.1914704485957508,
          0.6505610670402162,
          -1.0311546827111027,
          -0.3220045091127159,
          0.6201846864041929,
          -0.3136670563097545,
          0.3122077103270754,
          0.9019905430898144,
          0.7314170684298197,
          -0.840305166395734,
          -1.1196562155436376,
          0.22835011296288307,
          -0.21548374150626115,
          -0.07777464559266904,
          -2.197928658415042,
          -0.28835600690837554,
          -0.12235519259126607,
          -1.3580351035282827,
          0.2132605551579515,
          0.46070651683040154,
          0.7963444611084912,
          0.1094805824159229,
          -0.6102506779738078,
          1.1329129967541405,
          -0.5065961707940483,
          0.3745901537387485,
          0.7946114378721225,
          1.1465167276749233,
          -2.0553288125734057,
          0.10100751854400598,
          0.6645436919180743,
          -2.412988684855048,
          0.5122070039497443,
          1.4030992357915617,
          0.24913590252340764,
          -1.4870597006201085,
          -1.3661838507640083,
          -0.1519904820928337,
          0.4088874943908349,
          0.28921834149417314,
          -0.5477050903562732,
          -1.00334077408219,
          -1.9782068285772612,
          -1.559539636679243,
          1.1878319779769697,
          -0.5514926543266923,
          -1.239928895872855,
          1.361883671248535,
          0.6178324441029704,
          0.9377043609805684,
          0.403641750993754,
          -1.9264422169236457,
          -0.39329684106780577,
          -0.18962422021135977,
          0.4309102642418277,
          0.13416483620471115,
          -1.8475271675664917,
          1.276656958413032,
          0.5536066672322233,
          0.7451250480407975,
          -1.1885494428288137,
          0.808597310965037,
          -0.049207908473800556,
          0.1822632839586508,
          1.09853989816661,
          -1.9058038090611038,
          -0.538794190231828,
          0.28458672788291245,
          -1.7107356167627255,
          0.35184119723705537,
          -1.3012008916908282,
          -0.9108700963300996,
          -0.838242587698326,
          1.5118378297958461,
          -0.525715085033998,
          -0.5280227761153535,
          1.5009480547986114,
          -1.1882945291476716,
          -1.2722134708587935,
          -0.25068439424681555,
          -1.0076209780516017,
          -0.742483026883699,
          -0.5971237711770452,
          -0.06812184219397695
         ],
         "xaxis": "x9",
         "y": [
          -1.407703631343671,
          0.5140329231436118,
          1.3131158131992584,
          -2.212928852152698,
          0.5173563987333515,
          0.34706084032851675,
          -0.5929210703964634,
          0.13813863792706588,
          0.7003144907738252,
          0.8797191494749702,
          0.29137863584603657,
          0.412210553403753,
          -0.7917919162256702,
          0.23380419921599765,
          0.7006363554579161,
          -0.19401780265160595,
          0.0871652750797159,
          0.12109102906606106,
          -0.4856774751621975,
          -0.33503656199224263,
          0.989305797207836,
          0.15082348550530683,
          0.4704807568828661,
          1.0831894299838418,
          0.3586295958501063,
          0.1915945076598596,
          -1.5022291531005783,
          1.4038913461155493,
          -2.3201172843085103,
          -0.7850084055935527,
          1.6416898072599189,
          0.8740064232601772,
          0.5855214404280811,
          0.14953267259073877,
          -0.7168148311985317,
          -0.5110533822942064,
          -0.6965664504104578,
          -0.19578700620630154,
          0.14780867769351586,
          1.1463301563682267,
          -0.45084299243755643,
          -1.432352328786134,
          -2.0578758871075524,
          -0.6875762164963011,
          0.5095140262897756,
          -0.13186026363396183,
          -0.13804039155615058,
          0.41595434931612085,
          0.39940419070713673,
          0.1720714416492082,
          1.2358173790766753,
          0.2564077760910809,
          1.1783928031922872,
          -0.32641311365649067,
          0.23858826873596783,
          -0.14203601038533445,
          -0.3645621499967152,
          0.18016270082759867,
          -0.6928018108236371,
          -2.104313369439946,
          -0.3633633809793382,
          0.3020055011942023,
          0.7122464940533162,
          -0.8554495413250128,
          -0.01817109422354125,
          -1.0072561535251414,
          0.007045125592761505,
          -0.8047034046048044,
          -0.8133706531485041,
          -0.026216939791767715,
          -1.8034397312235693,
          0.13761848980876704,
          2.2825978897893187,
          0.0944423889260254,
          -0.6335379203958453,
          0.5293411405886458,
          -1.8191640037863301,
          0.26903546964548747,
          1.2290653193686019,
          -0.05392103233269685,
          -1.021614999145513,
          0.2492397807664952,
          0.5700615041724898,
          0.8501408763354436,
          -0.3152259965012949,
          2.080110221272923,
          -0.6302027942250683,
          0.8567247070030546,
          0.3127734152662034,
          1.2741981219816176,
          0.9127376031649637,
          0.5166083951090601,
          0.2475442944341499,
          -0.4239327618190913,
          -1.2485199555196693,
          0.47098675354359276,
          -0.6394284322963346,
          -2.755316239582588,
          0.9120545301067184,
          -0.7607109933566386
         ],
         "yaxis": "y9"
        },
        {
         "line": {
          "color": "rgba(128, 128, 128, 1.0)",
          "dash": "solid",
          "shape": "linear",
          "width": 1.3
         },
         "marker": {
          "size": 2,
          "symbol": "circle"
         },
         "mode": "markers",
         "name": "C",
         "text": "",
         "type": "scatter",
         "x": [
          0.7729328845998267,
          -0.2950040513273714,
          0.09520908744315867,
          1.441071495404537,
          0.10166534711461274,
          -0.8693316971690324,
          0.979562167355205,
          -0.8654708786854032,
          -0.2870011317161067,
          -1.5300959310749473,
          0.8368972285896891,
          1.8496175673476036,
          -1.2477780681015862,
          0.4215338133150978,
          0.4917663948454245,
          0.9781736006519686,
          0.9347198820348527,
          -0.36365393310839655,
          -1.5200057839806334,
          -0.8670452957430184,
          -0.788241493679069,
          -0.5477438420825249,
          0.04336683059551982,
          0.18091119066448572,
          0.10213061681864892,
          0.9561820138080441,
          0.6360305156843183,
          0.8148193265235719,
          -0.7243357866209025,
          -1.7094201272778604,
          0.7049069031486167,
          -1.6929017104546837,
          -1.351434770601901,
          0.5400726790334075,
          -0.9089948988816058,
          0.6865655449142279,
          0.07603430008983052,
          -0.9119736366526259,
          1.1017361476428449,
          0.3310632043893103,
          -0.668250051067514,
          0.485161547116454,
          0.3774165281634454,
          1.2433965952711497,
          -0.8535662136692201,
          0.9651085753827604,
          -0.12577055249933197,
          0.2315793282956873,
          1.094271953610481,
          0.45475229561547326,
          -0.1926373637868699,
          -0.32561960234374177,
          -2.1906627063088835,
          2.337836470426464,
          -0.8169000173085379,
          -1.0567080408048166,
          -2.137216564597913,
          2.8063834954575566,
          -0.9480034566417574,
          0.07441797086764544,
          -1.9894922466089366,
          1.6497669533081567,
          -0.12560768412915277,
          1.0167088823279065,
          1.2651059424362803,
          1.218624446338318,
          -2.5148357286791554,
          -0.6143555014834721,
          -2.1475638559430856,
          -0.9632014475924506,
          0.14276846625931602,
          0.35315951521897926,
          -0.4451647014676167,
          -1.344538665604799,
          1.5703460188585443,
          1.1649900207213846,
          -1.1327050573844177,
          0.30148592567161836,
          0.33369126307640595,
          -1.2513016080325425,
          -1.3740431730549505,
          0.6582137883417819,
          -0.3898943074688618,
          0.36245937168862513,
          0.47462451095442765,
          -2.077087683940318,
          -0.03158422387106401,
          0.3412955156808295,
          0.4860490073614476,
          -0.42109861637466595,
          1.2486711513798276,
          0.6810153620726337,
          0.21709393315480308,
          -0.7575392105538545,
          0.12553478007756078,
          0.33217504596304537,
          0.5983073107261221,
          -2.2161251644675217,
          0.5324550065592877,
          -0.5973104555594871
         ],
         "xaxis": "x10",
         "y": [
          -1.407703631343671,
          0.5140329231436118,
          1.3131158131992584,
          -2.212928852152698,
          0.5173563987333515,
          0.34706084032851675,
          -0.5929210703964634,
          0.13813863792706588,
          0.7003144907738252,
          0.8797191494749702,
          0.29137863584603657,
          0.412210553403753,
          -0.7917919162256702,
          0.23380419921599765,
          0.7006363554579161,
          -0.19401780265160595,
          0.0871652750797159,
          0.12109102906606106,
          -0.4856774751621975,
          -0.33503656199224263,
          0.989305797207836,
          0.15082348550530683,
          0.4704807568828661,
          1.0831894299838418,
          0.3586295958501063,
          0.1915945076598596,
          -1.5022291531005783,
          1.4038913461155493,
          -2.3201172843085103,
          -0.7850084055935527,
          1.6416898072599189,
          0.8740064232601772,
          0.5855214404280811,
          0.14953267259073877,
          -0.7168148311985317,
          -0.5110533822942064,
          -0.6965664504104578,
          -0.19578700620630154,
          0.14780867769351586,
          1.1463301563682267,
          -0.45084299243755643,
          -1.432352328786134,
          -2.0578758871075524,
          -0.6875762164963011,
          0.5095140262897756,
          -0.13186026363396183,
          -0.13804039155615058,
          0.41595434931612085,
          0.39940419070713673,
          0.1720714416492082,
          1.2358173790766753,
          0.2564077760910809,
          1.1783928031922872,
          -0.32641311365649067,
          0.23858826873596783,
          -0.14203601038533445,
          -0.3645621499967152,
          0.18016270082759867,
          -0.6928018108236371,
          -2.104313369439946,
          -0.3633633809793382,
          0.3020055011942023,
          0.7122464940533162,
          -0.8554495413250128,
          -0.01817109422354125,
          -1.0072561535251414,
          0.007045125592761505,
          -0.8047034046048044,
          -0.8133706531485041,
          -0.026216939791767715,
          -1.8034397312235693,
          0.13761848980876704,
          2.2825978897893187,
          0.0944423889260254,
          -0.6335379203958453,
          0.5293411405886458,
          -1.8191640037863301,
          0.26903546964548747,
          1.2290653193686019,
          -0.05392103233269685,
          -1.021614999145513,
          0.2492397807664952,
          0.5700615041724898,
          0.8501408763354436,
          -0.3152259965012949,
          2.080110221272923,
          -0.6302027942250683,
          0.8567247070030546,
          0.3127734152662034,
          1.2741981219816176,
          0.9127376031649637,
          0.5166083951090601,
          0.2475442944341499,
          -0.4239327618190913,
          -1.2485199555196693,
          0.47098675354359276,
          -0.6394284322963346,
          -2.755316239582588,
          0.9120545301067184,
          -0.7607109933566386
         ],
         "yaxis": "y10"
        },
        {
         "histfunc": "count",
         "histnorm": "",
         "marker": {
          "color": "rgba(50, 171, 96, 1.0)",
          "line": {
           "color": "#4D5663",
           "width": 1.3
          }
         },
         "name": "C",
         "nbinsx": 10,
         "opacity": 0.8,
         "orientation": "v",
         "type": "histogram",
         "x": [
          -1.407703631343671,
          0.5140329231436118,
          1.3131158131992584,
          -2.212928852152698,
          0.5173563987333515,
          0.34706084032851675,
          -0.5929210703964634,
          0.13813863792706588,
          0.7003144907738252,
          0.8797191494749702,
          0.29137863584603657,
          0.412210553403753,
          -0.7917919162256702,
          0.23380419921599765,
          0.7006363554579161,
          -0.19401780265160595,
          0.0871652750797159,
          0.12109102906606106,
          -0.4856774751621975,
          -0.33503656199224263,
          0.989305797207836,
          0.15082348550530683,
          0.4704807568828661,
          1.0831894299838418,
          0.3586295958501063,
          0.1915945076598596,
          -1.5022291531005783,
          1.4038913461155493,
          -2.3201172843085103,
          -0.7850084055935527,
          1.6416898072599189,
          0.8740064232601772,
          0.5855214404280811,
          0.14953267259073877,
          -0.7168148311985317,
          -0.5110533822942064,
          -0.6965664504104578,
          -0.19578700620630154,
          0.14780867769351586,
          1.1463301563682267,
          -0.45084299243755643,
          -1.432352328786134,
          -2.0578758871075524,
          -0.6875762164963011,
          0.5095140262897756,
          -0.13186026363396183,
          -0.13804039155615058,
          0.41595434931612085,
          0.39940419070713673,
          0.1720714416492082,
          1.2358173790766753,
          0.2564077760910809,
          1.1783928031922872,
          -0.32641311365649067,
          0.23858826873596783,
          -0.14203601038533445,
          -0.3645621499967152,
          0.18016270082759867,
          -0.6928018108236371,
          -2.104313369439946,
          -0.3633633809793382,
          0.3020055011942023,
          0.7122464940533162,
          -0.8554495413250128,
          -0.01817109422354125,
          -1.0072561535251414,
          0.007045125592761505,
          -0.8047034046048044,
          -0.8133706531485041,
          -0.026216939791767715,
          -1.8034397312235693,
          0.13761848980876704,
          2.2825978897893187,
          0.0944423889260254,
          -0.6335379203958453,
          0.5293411405886458,
          -1.8191640037863301,
          0.26903546964548747,
          1.2290653193686019,
          -0.05392103233269685,
          -1.021614999145513,
          0.2492397807664952,
          0.5700615041724898,
          0.8501408763354436,
          -0.3152259965012949,
          2.080110221272923,
          -0.6302027942250683,
          0.8567247070030546,
          0.3127734152662034,
          1.2741981219816176,
          0.9127376031649637,
          0.5166083951090601,
          0.2475442944341499,
          -0.4239327618190913,
          -1.2485199555196693,
          0.47098675354359276,
          -0.6394284322963346,
          -2.755316239582588,
          0.9120545301067184,
          -0.7607109933566386
         ],
         "xaxis": "x11",
         "yaxis": "y11"
        },
        {
         "line": {
          "color": "rgba(128, 128, 128, 1.0)",
          "dash": "solid",
          "shape": "linear",
          "width": 1.3
         },
         "marker": {
          "size": 2,
          "symbol": "circle"
         },
         "mode": "markers",
         "name": "C",
         "text": "",
         "type": "scatter",
         "x": [
          0.687400710884295,
          1.292329185879667,
          -1.4451549140024476,
          2.4212652941715733,
          -0.5990245298654623,
          -0.14312718252640605,
          1.0341838284171945,
          0.9168533072372855,
          -0.5239881601798092,
          -3.4614694117290363,
          -0.547162749247495,
          -0.2954205384119188,
          -0.6762104379883643,
          0.17942177831626702,
          -0.446784254558779,
          3.152472667088559,
          0.05366938922946379,
          0.2925464108958577,
          -0.9260514076904133,
          0.8666434042745934,
          -0.6788493093657786,
          -0.928452920672083,
          0.7490743212798445,
          -0.9910217690371543,
          -0.5099780597741604,
          -0.7729878731471892,
          0.1261095837182957,
          -2.173997852739537,
          0.13380187326526857,
          -0.03383492214686325,
          -1.0540827763670386,
          0.5722797189713448,
          -0.10047293394388912,
          -1.4115711035698897,
          -1.123541015090475,
          -0.7485896007773215,
          1.1621777066193428,
          0.31034667529675075,
          -0.5478548465244522,
          1.1053754476640354,
          0.6724786658427715,
          1.417592390164073,
          0.1763335278094863,
          -0.4759008789741875,
          -0.529021806162886,
          -0.8780406205670047,
          -0.4670899375138714,
          0.12021124416462858,
          -1.1638589701666413,
          -0.2718286124947359,
          0.4944119559453498,
          0.612862017516745,
          2.0620936369339837,
          -0.5498957432666844,
          0.21091506283573025,
          0.8960109115496354,
          -0.08446203183891707,
          1.495063178165726,
          0.7921963932506242,
          0.9706531868794951,
          0.5442650593702897,
          -0.06695152379828094,
          -0.031671739135709996,
          -0.3282615102156579,
          -0.8570800998138681,
          -1.1631087687318071,
          1.319037497800597,
          0.010885976841033509,
          -0.16632739692236823,
          0.2784643719376399,
          -0.06477373031704924,
          -0.8110155425857067,
          0.46462041479311506,
          -0.29344170889783944,
          0.9418749445032143,
          -0.9145351980427542,
          1.5989467259671475,
          -0.3123143304487573,
          -1.7312174953372057,
          -0.9701391400874365,
          -1.263680840458927,
          1.6221377826941585,
          -1.929638890370037,
          -0.00807621149389771,
          -1.1116686536071216,
          -1.3142471793168062,
          -0.2677781320562748,
          -0.029451177327852074,
          0.6886728047322884,
          0.6228839741607755,
          1.048817636224244,
          -1.2720622979819218,
          -0.16208924811986883,
          -0.3442025567829724,
          0.05865786141098669,
          0.33630770910042346,
          -0.021898720384863044,
          -0.9402976316913524,
          -0.7092448432651228,
          0.6306365246150188
         ],
         "xaxis": "x12",
         "y": [
          -1.407703631343671,
          0.5140329231436118,
          1.3131158131992584,
          -2.212928852152698,
          0.5173563987333515,
          0.34706084032851675,
          -0.5929210703964634,
          0.13813863792706588,
          0.7003144907738252,
          0.8797191494749702,
          0.29137863584603657,
          0.412210553403753,
          -0.7917919162256702,
          0.23380419921599765,
          0.7006363554579161,
          -0.19401780265160595,
          0.0871652750797159,
          0.12109102906606106,
          -0.4856774751621975,
          -0.33503656199224263,
          0.989305797207836,
          0.15082348550530683,
          0.4704807568828661,
          1.0831894299838418,
          0.3586295958501063,
          0.1915945076598596,
          -1.5022291531005783,
          1.4038913461155493,
          -2.3201172843085103,
          -0.7850084055935527,
          1.6416898072599189,
          0.8740064232601772,
          0.5855214404280811,
          0.14953267259073877,
          -0.7168148311985317,
          -0.5110533822942064,
          -0.6965664504104578,
          -0.19578700620630154,
          0.14780867769351586,
          1.1463301563682267,
          -0.45084299243755643,
          -1.432352328786134,
          -2.0578758871075524,
          -0.6875762164963011,
          0.5095140262897756,
          -0.13186026363396183,
          -0.13804039155615058,
          0.41595434931612085,
          0.39940419070713673,
          0.1720714416492082,
          1.2358173790766753,
          0.2564077760910809,
          1.1783928031922872,
          -0.32641311365649067,
          0.23858826873596783,
          -0.14203601038533445,
          -0.3645621499967152,
          0.18016270082759867,
          -0.6928018108236371,
          -2.104313369439946,
          -0.3633633809793382,
          0.3020055011942023,
          0.7122464940533162,
          -0.8554495413250128,
          -0.01817109422354125,
          -1.0072561535251414,
          0.007045125592761505,
          -0.8047034046048044,
          -0.8133706531485041,
          -0.026216939791767715,
          -1.8034397312235693,
          0.13761848980876704,
          2.2825978897893187,
          0.0944423889260254,
          -0.6335379203958453,
          0.5293411405886458,
          -1.8191640037863301,
          0.26903546964548747,
          1.2290653193686019,
          -0.05392103233269685,
          -1.021614999145513,
          0.2492397807664952,
          0.5700615041724898,
          0.8501408763354436,
          -0.3152259965012949,
          2.080110221272923,
          -0.6302027942250683,
          0.8567247070030546,
          0.3127734152662034,
          1.2741981219816176,
          0.9127376031649637,
          0.5166083951090601,
          0.2475442944341499,
          -0.4239327618190913,
          -1.2485199555196693,
          0.47098675354359276,
          -0.6394284322963346,
          -2.755316239582588,
          0.9120545301067184,
          -0.7607109933566386
         ],
         "yaxis": "y12"
        },
        {
         "line": {
          "color": "rgba(128, 128, 128, 1.0)",
          "dash": "solid",
          "shape": "linear",
          "width": 1.3
         },
         "marker": {
          "size": 2,
          "symbol": "circle"
         },
         "mode": "markers",
         "name": "D",
         "text": "",
         "type": "scatter",
         "x": [
          0.2249574122485187,
          -0.14261442417502293,
          -0.2550693898234665,
          0.685612907940947,
          1.6696377029416647,
          -0.6276630448948421,
          -0.3675932197581956,
          0.8601065321997801,
          0.3029584160575629,
          1.4871959331592248,
          -1.1402052303681383,
          -0.10363052533320498,
          -1.227114249882769,
          1.0517098065952517,
          0.18111386197406235,
          -0.6224553189786596,
          -1.1914704485957508,
          0.6505610670402162,
          -1.0311546827111027,
          -0.3220045091127159,
          0.6201846864041929,
          -0.3136670563097545,
          0.3122077103270754,
          0.9019905430898144,
          0.7314170684298197,
          -0.840305166395734,
          -1.1196562155436376,
          0.22835011296288307,
          -0.21548374150626115,
          -0.07777464559266904,
          -2.197928658415042,
          -0.28835600690837554,
          -0.12235519259126607,
          -1.3580351035282827,
          0.2132605551579515,
          0.46070651683040154,
          0.7963444611084912,
          0.1094805824159229,
          -0.6102506779738078,
          1.1329129967541405,
          -0.5065961707940483,
          0.3745901537387485,
          0.7946114378721225,
          1.1465167276749233,
          -2.0553288125734057,
          0.10100751854400598,
          0.6645436919180743,
          -2.412988684855048,
          0.5122070039497443,
          1.4030992357915617,
          0.24913590252340764,
          -1.4870597006201085,
          -1.3661838507640083,
          -0.1519904820928337,
          0.4088874943908349,
          0.28921834149417314,
          -0.5477050903562732,
          -1.00334077408219,
          -1.9782068285772612,
          -1.559539636679243,
          1.1878319779769697,
          -0.5514926543266923,
          -1.239928895872855,
          1.361883671248535,
          0.6178324441029704,
          0.9377043609805684,
          0.403641750993754,
          -1.9264422169236457,
          -0.39329684106780577,
          -0.18962422021135977,
          0.4309102642418277,
          0.13416483620471115,
          -1.8475271675664917,
          1.276656958413032,
          0.5536066672322233,
          0.7451250480407975,
          -1.1885494428288137,
          0.808597310965037,
          -0.049207908473800556,
          0.1822632839586508,
          1.09853989816661,
          -1.9058038090611038,
          -0.538794190231828,
          0.28458672788291245,
          -1.7107356167627255,
          0.35184119723705537,
          -1.3012008916908282,
          -0.9108700963300996,
          -0.838242587698326,
          1.5118378297958461,
          -0.525715085033998,
          -0.5280227761153535,
          1.5009480547986114,
          -1.1882945291476716,
          -1.2722134708587935,
          -0.25068439424681555,
          -1.0076209780516017,
          -0.742483026883699,
          -0.5971237711770452,
          -0.06812184219397695
         ],
         "xaxis": "x13",
         "y": [
          0.687400710884295,
          1.292329185879667,
          -1.4451549140024476,
          2.4212652941715733,
          -0.5990245298654623,
          -0.14312718252640605,
          1.0341838284171945,
          0.9168533072372855,
          -0.5239881601798092,
          -3.4614694117290363,
          -0.547162749247495,
          -0.2954205384119188,
          -0.6762104379883643,
          0.17942177831626702,
          -0.446784254558779,
          3.152472667088559,
          0.05366938922946379,
          0.2925464108958577,
          -0.9260514076904133,
          0.8666434042745934,
          -0.6788493093657786,
          -0.928452920672083,
          0.7490743212798445,
          -0.9910217690371543,
          -0.5099780597741604,
          -0.7729878731471892,
          0.1261095837182957,
          -2.173997852739537,
          0.13380187326526857,
          -0.03383492214686325,
          -1.0540827763670386,
          0.5722797189713448,
          -0.10047293394388912,
          -1.4115711035698897,
          -1.123541015090475,
          -0.7485896007773215,
          1.1621777066193428,
          0.31034667529675075,
          -0.5478548465244522,
          1.1053754476640354,
          0.6724786658427715,
          1.417592390164073,
          0.1763335278094863,
          -0.4759008789741875,
          -0.529021806162886,
          -0.8780406205670047,
          -0.4670899375138714,
          0.12021124416462858,
          -1.1638589701666413,
          -0.2718286124947359,
          0.4944119559453498,
          0.612862017516745,
          2.0620936369339837,
          -0.5498957432666844,
          0.21091506283573025,
          0.8960109115496354,
          -0.08446203183891707,
          1.495063178165726,
          0.7921963932506242,
          0.9706531868794951,
          0.5442650593702897,
          -0.06695152379828094,
          -0.031671739135709996,
          -0.3282615102156579,
          -0.8570800998138681,
          -1.1631087687318071,
          1.319037497800597,
          0.010885976841033509,
          -0.16632739692236823,
          0.2784643719376399,
          -0.06477373031704924,
          -0.8110155425857067,
          0.46462041479311506,
          -0.29344170889783944,
          0.9418749445032143,
          -0.9145351980427542,
          1.5989467259671475,
          -0.3123143304487573,
          -1.7312174953372057,
          -0.9701391400874365,
          -1.263680840458927,
          1.6221377826941585,
          -1.929638890370037,
          -0.00807621149389771,
          -1.1116686536071216,
          -1.3142471793168062,
          -0.2677781320562748,
          -0.029451177327852074,
          0.6886728047322884,
          0.6228839741607755,
          1.048817636224244,
          -1.2720622979819218,
          -0.16208924811986883,
          -0.3442025567829724,
          0.05865786141098669,
          0.33630770910042346,
          -0.021898720384863044,
          -0.9402976316913524,
          -0.7092448432651228,
          0.6306365246150188
         ],
         "yaxis": "y13"
        },
        {
         "line": {
          "color": "rgba(128, 128, 128, 1.0)",
          "dash": "solid",
          "shape": "linear",
          "width": 1.3
         },
         "marker": {
          "size": 2,
          "symbol": "circle"
         },
         "mode": "markers",
         "name": "D",
         "text": "",
         "type": "scatter",
         "x": [
          0.7729328845998267,
          -0.2950040513273714,
          0.09520908744315867,
          1.441071495404537,
          0.10166534711461274,
          -0.8693316971690324,
          0.979562167355205,
          -0.8654708786854032,
          -0.2870011317161067,
          -1.5300959310749473,
          0.8368972285896891,
          1.8496175673476036,
          -1.2477780681015862,
          0.4215338133150978,
          0.4917663948454245,
          0.9781736006519686,
          0.9347198820348527,
          -0.36365393310839655,
          -1.5200057839806334,
          -0.8670452957430184,
          -0.788241493679069,
          -0.5477438420825249,
          0.04336683059551982,
          0.18091119066448572,
          0.10213061681864892,
          0.9561820138080441,
          0.6360305156843183,
          0.8148193265235719,
          -0.7243357866209025,
          -1.7094201272778604,
          0.7049069031486167,
          -1.6929017104546837,
          -1.351434770601901,
          0.5400726790334075,
          -0.9089948988816058,
          0.6865655449142279,
          0.07603430008983052,
          -0.9119736366526259,
          1.1017361476428449,
          0.3310632043893103,
          -0.668250051067514,
          0.485161547116454,
          0.3774165281634454,
          1.2433965952711497,
          -0.8535662136692201,
          0.9651085753827604,
          -0.12577055249933197,
          0.2315793282956873,
          1.094271953610481,
          0.45475229561547326,
          -0.1926373637868699,
          -0.32561960234374177,
          -2.1906627063088835,
          2.337836470426464,
          -0.8169000173085379,
          -1.0567080408048166,
          -2.137216564597913,
          2.8063834954575566,
          -0.9480034566417574,
          0.07441797086764544,
          -1.9894922466089366,
          1.6497669533081567,
          -0.12560768412915277,
          1.0167088823279065,
          1.2651059424362803,
          1.218624446338318,
          -2.5148357286791554,
          -0.6143555014834721,
          -2.1475638559430856,
          -0.9632014475924506,
          0.14276846625931602,
          0.35315951521897926,
          -0.4451647014676167,
          -1.344538665604799,
          1.5703460188585443,
          1.1649900207213846,
          -1.1327050573844177,
          0.30148592567161836,
          0.33369126307640595,
          -1.2513016080325425,
          -1.3740431730549505,
          0.6582137883417819,
          -0.3898943074688618,
          0.36245937168862513,
          0.47462451095442765,
          -2.077087683940318,
          -0.03158422387106401,
          0.3412955156808295,
          0.4860490073614476,
          -0.42109861637466595,
          1.2486711513798276,
          0.6810153620726337,
          0.21709393315480308,
          -0.7575392105538545,
          0.12553478007756078,
          0.33217504596304537,
          0.5983073107261221,
          -2.2161251644675217,
          0.5324550065592877,
          -0.5973104555594871
         ],
         "xaxis": "x14",
         "y": [
          0.687400710884295,
          1.292329185879667,
          -1.4451549140024476,
          2.4212652941715733,
          -0.5990245298654623,
          -0.14312718252640605,
          1.0341838284171945,
          0.9168533072372855,
          -0.5239881601798092,
          -3.4614694117290363,
          -0.547162749247495,
          -0.2954205384119188,
          -0.6762104379883643,
          0.17942177831626702,
          -0.446784254558779,
          3.152472667088559,
          0.05366938922946379,
          0.2925464108958577,
          -0.9260514076904133,
          0.8666434042745934,
          -0.6788493093657786,
          -0.928452920672083,
          0.7490743212798445,
          -0.9910217690371543,
          -0.5099780597741604,
          -0.7729878731471892,
          0.1261095837182957,
          -2.173997852739537,
          0.13380187326526857,
          -0.03383492214686325,
          -1.0540827763670386,
          0.5722797189713448,
          -0.10047293394388912,
          -1.4115711035698897,
          -1.123541015090475,
          -0.7485896007773215,
          1.1621777066193428,
          0.31034667529675075,
          -0.5478548465244522,
          1.1053754476640354,
          0.6724786658427715,
          1.417592390164073,
          0.1763335278094863,
          -0.4759008789741875,
          -0.529021806162886,
          -0.8780406205670047,
          -0.4670899375138714,
          0.12021124416462858,
          -1.1638589701666413,
          -0.2718286124947359,
          0.4944119559453498,
          0.612862017516745,
          2.0620936369339837,
          -0.5498957432666844,
          0.21091506283573025,
          0.8960109115496354,
          -0.08446203183891707,
          1.495063178165726,
          0.7921963932506242,
          0.9706531868794951,
          0.5442650593702897,
          -0.06695152379828094,
          -0.031671739135709996,
          -0.3282615102156579,
          -0.8570800998138681,
          -1.1631087687318071,
          1.319037497800597,
          0.010885976841033509,
          -0.16632739692236823,
          0.2784643719376399,
          -0.06477373031704924,
          -0.8110155425857067,
          0.46462041479311506,
          -0.29344170889783944,
          0.9418749445032143,
          -0.9145351980427542,
          1.5989467259671475,
          -0.3123143304487573,
          -1.7312174953372057,
          -0.9701391400874365,
          -1.263680840458927,
          1.6221377826941585,
          -1.929638890370037,
          -0.00807621149389771,
          -1.1116686536071216,
          -1.3142471793168062,
          -0.2677781320562748,
          -0.029451177327852074,
          0.6886728047322884,
          0.6228839741607755,
          1.048817636224244,
          -1.2720622979819218,
          -0.16208924811986883,
          -0.3442025567829724,
          0.05865786141098669,
          0.33630770910042346,
          -0.021898720384863044,
          -0.9402976316913524,
          -0.7092448432651228,
          0.6306365246150188
         ],
         "yaxis": "y14"
        },
        {
         "line": {
          "color": "rgba(128, 128, 128, 1.0)",
          "dash": "solid",
          "shape": "linear",
          "width": 1.3
         },
         "marker": {
          "size": 2,
          "symbol": "circle"
         },
         "mode": "markers",
         "name": "D",
         "text": "",
         "type": "scatter",
         "x": [
          -1.407703631343671,
          0.5140329231436118,
          1.3131158131992584,
          -2.212928852152698,
          0.5173563987333515,
          0.34706084032851675,
          -0.5929210703964634,
          0.13813863792706588,
          0.7003144907738252,
          0.8797191494749702,
          0.29137863584603657,
          0.412210553403753,
          -0.7917919162256702,
          0.23380419921599765,
          0.7006363554579161,
          -0.19401780265160595,
          0.0871652750797159,
          0.12109102906606106,
          -0.4856774751621975,
          -0.33503656199224263,
          0.989305797207836,
          0.15082348550530683,
          0.4704807568828661,
          1.0831894299838418,
          0.3586295958501063,
          0.1915945076598596,
          -1.5022291531005783,
          1.4038913461155493,
          -2.3201172843085103,
          -0.7850084055935527,
          1.6416898072599189,
          0.8740064232601772,
          0.5855214404280811,
          0.14953267259073877,
          -0.7168148311985317,
          -0.5110533822942064,
          -0.6965664504104578,
          -0.19578700620630154,
          0.14780867769351586,
          1.1463301563682267,
          -0.45084299243755643,
          -1.432352328786134,
          -2.0578758871075524,
          -0.6875762164963011,
          0.5095140262897756,
          -0.13186026363396183,
          -0.13804039155615058,
          0.41595434931612085,
          0.39940419070713673,
          0.1720714416492082,
          1.2358173790766753,
          0.2564077760910809,
          1.1783928031922872,
          -0.32641311365649067,
          0.23858826873596783,
          -0.14203601038533445,
          -0.3645621499967152,
          0.18016270082759867,
          -0.6928018108236371,
          -2.104313369439946,
          -0.3633633809793382,
          0.3020055011942023,
          0.7122464940533162,
          -0.8554495413250128,
          -0.01817109422354125,
          -1.0072561535251414,
          0.007045125592761505,
          -0.8047034046048044,
          -0.8133706531485041,
          -0.026216939791767715,
          -1.8034397312235693,
          0.13761848980876704,
          2.2825978897893187,
          0.0944423889260254,
          -0.6335379203958453,
          0.5293411405886458,
          -1.8191640037863301,
          0.26903546964548747,
          1.2290653193686019,
          -0.05392103233269685,
          -1.021614999145513,
          0.2492397807664952,
          0.5700615041724898,
          0.8501408763354436,
          -0.3152259965012949,
          2.080110221272923,
          -0.6302027942250683,
          0.8567247070030546,
          0.3127734152662034,
          1.2741981219816176,
          0.9127376031649637,
          0.5166083951090601,
          0.2475442944341499,
          -0.4239327618190913,
          -1.2485199555196693,
          0.47098675354359276,
          -0.6394284322963346,
          -2.755316239582588,
          0.9120545301067184,
          -0.7607109933566386
         ],
         "xaxis": "x15",
         "y": [
          0.687400710884295,
          1.292329185879667,
          -1.4451549140024476,
          2.4212652941715733,
          -0.5990245298654623,
          -0.14312718252640605,
          1.0341838284171945,
          0.9168533072372855,
          -0.5239881601798092,
          -3.4614694117290363,
          -0.547162749247495,
          -0.2954205384119188,
          -0.6762104379883643,
          0.17942177831626702,
          -0.446784254558779,
          3.152472667088559,
          0.05366938922946379,
          0.2925464108958577,
          -0.9260514076904133,
          0.8666434042745934,
          -0.6788493093657786,
          -0.928452920672083,
          0.7490743212798445,
          -0.9910217690371543,
          -0.5099780597741604,
          -0.7729878731471892,
          0.1261095837182957,
          -2.173997852739537,
          0.13380187326526857,
          -0.03383492214686325,
          -1.0540827763670386,
          0.5722797189713448,
          -0.10047293394388912,
          -1.4115711035698897,
          -1.123541015090475,
          -0.7485896007773215,
          1.1621777066193428,
          0.31034667529675075,
          -0.5478548465244522,
          1.1053754476640354,
          0.6724786658427715,
          1.417592390164073,
          0.1763335278094863,
          -0.4759008789741875,
          -0.529021806162886,
          -0.8780406205670047,
          -0.4670899375138714,
          0.12021124416462858,
          -1.1638589701666413,
          -0.2718286124947359,
          0.4944119559453498,
          0.612862017516745,
          2.0620936369339837,
          -0.5498957432666844,
          0.21091506283573025,
          0.8960109115496354,
          -0.08446203183891707,
          1.495063178165726,
          0.7921963932506242,
          0.9706531868794951,
          0.5442650593702897,
          -0.06695152379828094,
          -0.031671739135709996,
          -0.3282615102156579,
          -0.8570800998138681,
          -1.1631087687318071,
          1.319037497800597,
          0.010885976841033509,
          -0.16632739692236823,
          0.2784643719376399,
          -0.06477373031704924,
          -0.8110155425857067,
          0.46462041479311506,
          -0.29344170889783944,
          0.9418749445032143,
          -0.9145351980427542,
          1.5989467259671475,
          -0.3123143304487573,
          -1.7312174953372057,
          -0.9701391400874365,
          -1.263680840458927,
          1.6221377826941585,
          -1.929638890370037,
          -0.00807621149389771,
          -1.1116686536071216,
          -1.3142471793168062,
          -0.2677781320562748,
          -0.029451177327852074,
          0.6886728047322884,
          0.6228839741607755,
          1.048817636224244,
          -1.2720622979819218,
          -0.16208924811986883,
          -0.3442025567829724,
          0.05865786141098669,
          0.33630770910042346,
          -0.021898720384863044,
          -0.9402976316913524,
          -0.7092448432651228,
          0.6306365246150188
         ],
         "yaxis": "y15"
        },
        {
         "histfunc": "count",
         "histnorm": "",
         "marker": {
          "color": "rgba(128, 0, 128, 1.0)",
          "line": {
           "color": "#4D5663",
           "width": 1.3
          }
         },
         "name": "D",
         "nbinsx": 10,
         "opacity": 0.8,
         "orientation": "v",
         "type": "histogram",
         "x": [
          0.687400710884295,
          1.292329185879667,
          -1.4451549140024476,
          2.4212652941715733,
          -0.5990245298654623,
          -0.14312718252640605,
          1.0341838284171945,
          0.9168533072372855,
          -0.5239881601798092,
          -3.4614694117290363,
          -0.547162749247495,
          -0.2954205384119188,
          -0.6762104379883643,
          0.17942177831626702,
          -0.446784254558779,
          3.152472667088559,
          0.05366938922946379,
          0.2925464108958577,
          -0.9260514076904133,
          0.8666434042745934,
          -0.6788493093657786,
          -0.928452920672083,
          0.7490743212798445,
          -0.9910217690371543,
          -0.5099780597741604,
          -0.7729878731471892,
          0.1261095837182957,
          -2.173997852739537,
          0.13380187326526857,
          -0.03383492214686325,
          -1.0540827763670386,
          0.5722797189713448,
          -0.10047293394388912,
          -1.4115711035698897,
          -1.123541015090475,
          -0.7485896007773215,
          1.1621777066193428,
          0.31034667529675075,
          -0.5478548465244522,
          1.1053754476640354,
          0.6724786658427715,
          1.417592390164073,
          0.1763335278094863,
          -0.4759008789741875,
          -0.529021806162886,
          -0.8780406205670047,
          -0.4670899375138714,
          0.12021124416462858,
          -1.1638589701666413,
          -0.2718286124947359,
          0.4944119559453498,
          0.612862017516745,
          2.0620936369339837,
          -0.5498957432666844,
          0.21091506283573025,
          0.8960109115496354,
          -0.08446203183891707,
          1.495063178165726,
          0.7921963932506242,
          0.9706531868794951,
          0.5442650593702897,
          -0.06695152379828094,
          -0.031671739135709996,
          -0.3282615102156579,
          -0.8570800998138681,
          -1.1631087687318071,
          1.319037497800597,
          0.010885976841033509,
          -0.16632739692236823,
          0.2784643719376399,
          -0.06477373031704924,
          -0.8110155425857067,
          0.46462041479311506,
          -0.29344170889783944,
          0.9418749445032143,
          -0.9145351980427542,
          1.5989467259671475,
          -0.3123143304487573,
          -1.7312174953372057,
          -0.9701391400874365,
          -1.263680840458927,
          1.6221377826941585,
          -1.929638890370037,
          -0.00807621149389771,
          -1.1116686536071216,
          -1.3142471793168062,
          -0.2677781320562748,
          -0.029451177327852074,
          0.6886728047322884,
          0.6228839741607755,
          1.048817636224244,
          -1.2720622979819218,
          -0.16208924811986883,
          -0.3442025567829724,
          0.05865786141098669,
          0.33630770910042346,
          -0.021898720384863044,
          -0.9402976316913524,
          -0.7092448432651228,
          0.6306365246150188
         ],
         "xaxis": "x16",
         "yaxis": "y16"
        }
       ],
       "layout": {
        "bargap": 0.02,
        "legend": {
         "bgcolor": "#F5F6F9",
         "font": {
          "color": "#4D5663"
         }
        },
        "paper_bgcolor": "#F5F6F9",
        "plot_bgcolor": "#F5F6F9",
        "showlegend": false,
        "template": {
         "data": {
          "bar": [
           {
            "error_x": {
             "color": "#2a3f5f"
            },
            "error_y": {
             "color": "#2a3f5f"
            },
            "marker": {
             "line": {
              "color": "#E5ECF6",
              "width": 0.5
             },
             "pattern": {
              "fillmode": "overlay",
              "size": 10,
              "solidity": 0.2
             }
            },
            "type": "bar"
           }
          ],
          "barpolar": [
           {
            "marker": {
             "line": {
              "color": "#E5ECF6",
              "width": 0.5
             },
             "pattern": {
              "fillmode": "overlay",
              "size": 10,
              "solidity": 0.2
             }
            },
            "type": "barpolar"
           }
          ],
          "carpet": [
           {
            "aaxis": {
             "endlinecolor": "#2a3f5f",
             "gridcolor": "white",
             "linecolor": "white",
             "minorgridcolor": "white",
             "startlinecolor": "#2a3f5f"
            },
            "baxis": {
             "endlinecolor": "#2a3f5f",
             "gridcolor": "white",
             "linecolor": "white",
             "minorgridcolor": "white",
             "startlinecolor": "#2a3f5f"
            },
            "type": "carpet"
           }
          ],
          "choropleth": [
           {
            "colorbar": {
             "outlinewidth": 0,
             "ticks": ""
            },
            "type": "choropleth"
           }
          ],
          "contour": [
           {
            "colorbar": {
             "outlinewidth": 0,
             "ticks": ""
            },
            "colorscale": [
             [
              0,
              "#0d0887"
             ],
             [
              0.1111111111111111,
              "#46039f"
             ],
             [
              0.2222222222222222,
              "#7201a8"
             ],
             [
              0.3333333333333333,
              "#9c179e"
             ],
             [
              0.4444444444444444,
              "#bd3786"
             ],
             [
              0.5555555555555556,
              "#d8576b"
             ],
             [
              0.6666666666666666,
              "#ed7953"
             ],
             [
              0.7777777777777778,
              "#fb9f3a"
             ],
             [
              0.8888888888888888,
              "#fdca26"
             ],
             [
              1,
              "#f0f921"
             ]
            ],
            "type": "contour"
           }
          ],
          "contourcarpet": [
           {
            "colorbar": {
             "outlinewidth": 0,
             "ticks": ""
            },
            "type": "contourcarpet"
           }
          ],
          "heatmap": [
           {
            "colorbar": {
             "outlinewidth": 0,
             "ticks": ""
            },
            "colorscale": [
             [
              0,
              "#0d0887"
             ],
             [
              0.1111111111111111,
              "#46039f"
             ],
             [
              0.2222222222222222,
              "#7201a8"
             ],
             [
              0.3333333333333333,
              "#9c179e"
             ],
             [
              0.4444444444444444,
              "#bd3786"
             ],
             [
              0.5555555555555556,
              "#d8576b"
             ],
             [
              0.6666666666666666,
              "#ed7953"
             ],
             [
              0.7777777777777778,
              "#fb9f3a"
             ],
             [
              0.8888888888888888,
              "#fdca26"
             ],
             [
              1,
              "#f0f921"
             ]
            ],
            "type": "heatmap"
           }
          ],
          "heatmapgl": [
           {
            "colorbar": {
             "outlinewidth": 0,
             "ticks": ""
            },
            "colorscale": [
             [
              0,
              "#0d0887"
             ],
             [
              0.1111111111111111,
              "#46039f"
             ],
             [
              0.2222222222222222,
              "#7201a8"
             ],
             [
              0.3333333333333333,
              "#9c179e"
             ],
             [
              0.4444444444444444,
              "#bd3786"
             ],
             [
              0.5555555555555556,
              "#d8576b"
             ],
             [
              0.6666666666666666,
              "#ed7953"
             ],
             [
              0.7777777777777778,
              "#fb9f3a"
             ],
             [
              0.8888888888888888,
              "#fdca26"
             ],
             [
              1,
              "#f0f921"
             ]
            ],
            "type": "heatmapgl"
           }
          ],
          "histogram": [
           {
            "marker": {
             "pattern": {
              "fillmode": "overlay",
              "size": 10,
              "solidity": 0.2
             }
            },
            "type": "histogram"
           }
          ],
          "histogram2d": [
           {
            "colorbar": {
             "outlinewidth": 0,
             "ticks": ""
            },
            "colorscale": [
             [
              0,
              "#0d0887"
             ],
             [
              0.1111111111111111,
              "#46039f"
             ],
             [
              0.2222222222222222,
              "#7201a8"
             ],
             [
              0.3333333333333333,
              "#9c179e"
             ],
             [
              0.4444444444444444,
              "#bd3786"
             ],
             [
              0.5555555555555556,
              "#d8576b"
             ],
             [
              0.6666666666666666,
              "#ed7953"
             ],
             [
              0.7777777777777778,
              "#fb9f3a"
             ],
             [
              0.8888888888888888,
              "#fdca26"
             ],
             [
              1,
              "#f0f921"
             ]
            ],
            "type": "histogram2d"
           }
          ],
          "histogram2dcontour": [
           {
            "colorbar": {
             "outlinewidth": 0,
             "ticks": ""
            },
            "colorscale": [
             [
              0,
              "#0d0887"
             ],
             [
              0.1111111111111111,
              "#46039f"
             ],
             [
              0.2222222222222222,
              "#7201a8"
             ],
             [
              0.3333333333333333,
              "#9c179e"
             ],
             [
              0.4444444444444444,
              "#bd3786"
             ],
             [
              0.5555555555555556,
              "#d8576b"
             ],
             [
              0.6666666666666666,
              "#ed7953"
             ],
             [
              0.7777777777777778,
              "#fb9f3a"
             ],
             [
              0.8888888888888888,
              "#fdca26"
             ],
             [
              1,
              "#f0f921"
             ]
            ],
            "type": "histogram2dcontour"
           }
          ],
          "mesh3d": [
           {
            "colorbar": {
             "outlinewidth": 0,
             "ticks": ""
            },
            "type": "mesh3d"
           }
          ],
          "parcoords": [
           {
            "line": {
             "colorbar": {
              "outlinewidth": 0,
              "ticks": ""
             }
            },
            "type": "parcoords"
           }
          ],
          "pie": [
           {
            "automargin": true,
            "type": "pie"
           }
          ],
          "scatter": [
           {
            "fillpattern": {
             "fillmode": "overlay",
             "size": 10,
             "solidity": 0.2
            },
            "type": "scatter"
           }
          ],
          "scatter3d": [
           {
            "line": {
             "colorbar": {
              "outlinewidth": 0,
              "ticks": ""
             }
            },
            "marker": {
             "colorbar": {
              "outlinewidth": 0,
              "ticks": ""
             }
            },
            "type": "scatter3d"
           }
          ],
          "scattercarpet": [
           {
            "marker": {
             "colorbar": {
              "outlinewidth": 0,
              "ticks": ""
             }
            },
            "type": "scattercarpet"
           }
          ],
          "scattergeo": [
           {
            "marker": {
             "colorbar": {
              "outlinewidth": 0,
              "ticks": ""
             }
            },
            "type": "scattergeo"
           }
          ],
          "scattergl": [
           {
            "marker": {
             "colorbar": {
              "outlinewidth": 0,
              "ticks": ""
             }
            },
            "type": "scattergl"
           }
          ],
          "scattermapbox": [
           {
            "marker": {
             "colorbar": {
              "outlinewidth": 0,
              "ticks": ""
             }
            },
            "type": "scattermapbox"
           }
          ],
          "scatterpolar": [
           {
            "marker": {
             "colorbar": {
              "outlinewidth": 0,
              "ticks": ""
             }
            },
            "type": "scatterpolar"
           }
          ],
          "scatterpolargl": [
           {
            "marker": {
             "colorbar": {
              "outlinewidth": 0,
              "ticks": ""
             }
            },
            "type": "scatterpolargl"
           }
          ],
          "scatterternary": [
           {
            "marker": {
             "colorbar": {
              "outlinewidth": 0,
              "ticks": ""
             }
            },
            "type": "scatterternary"
           }
          ],
          "surface": [
           {
            "colorbar": {
             "outlinewidth": 0,
             "ticks": ""
            },
            "colorscale": [
             [
              0,
              "#0d0887"
             ],
             [
              0.1111111111111111,
              "#46039f"
             ],
             [
              0.2222222222222222,
              "#7201a8"
             ],
             [
              0.3333333333333333,
              "#9c179e"
             ],
             [
              0.4444444444444444,
              "#bd3786"
             ],
             [
              0.5555555555555556,
              "#d8576b"
             ],
             [
              0.6666666666666666,
              "#ed7953"
             ],
             [
              0.7777777777777778,
              "#fb9f3a"
             ],
             [
              0.8888888888888888,
              "#fdca26"
             ],
             [
              1,
              "#f0f921"
             ]
            ],
            "type": "surface"
           }
          ],
          "table": [
           {
            "cells": {
             "fill": {
              "color": "#EBF0F8"
             },
             "line": {
              "color": "white"
             }
            },
            "header": {
             "fill": {
              "color": "#C8D4E3"
             },
             "line": {
              "color": "white"
             }
            },
            "type": "table"
           }
          ]
         },
         "layout": {
          "annotationdefaults": {
           "arrowcolor": "#2a3f5f",
           "arrowhead": 0,
           "arrowwidth": 1
          },
          "autotypenumbers": "strict",
          "coloraxis": {
           "colorbar": {
            "outlinewidth": 0,
            "ticks": ""
           }
          },
          "colorscale": {
           "diverging": [
            [
             0,
             "#8e0152"
            ],
            [
             0.1,
             "#c51b7d"
            ],
            [
             0.2,
             "#de77ae"
            ],
            [
             0.3,
             "#f1b6da"
            ],
            [
             0.4,
             "#fde0ef"
            ],
            [
             0.5,
             "#f7f7f7"
            ],
            [
             0.6,
             "#e6f5d0"
            ],
            [
             0.7,
             "#b8e186"
            ],
            [
             0.8,
             "#7fbc41"
            ],
            [
             0.9,
             "#4d9221"
            ],
            [
             1,
             "#276419"
            ]
           ],
           "sequential": [
            [
             0,
             "#0d0887"
            ],
            [
             0.1111111111111111,
             "#46039f"
            ],
            [
             0.2222222222222222,
             "#7201a8"
            ],
            [
             0.3333333333333333,
             "#9c179e"
            ],
            [
             0.4444444444444444,
             "#bd3786"
            ],
            [
             0.5555555555555556,
             "#d8576b"
            ],
            [
             0.6666666666666666,
             "#ed7953"
            ],
            [
             0.7777777777777778,
             "#fb9f3a"
            ],
            [
             0.8888888888888888,
             "#fdca26"
            ],
            [
             1,
             "#f0f921"
            ]
           ],
           "sequentialminus": [
            [
             0,
             "#0d0887"
            ],
            [
             0.1111111111111111,
             "#46039f"
            ],
            [
             0.2222222222222222,
             "#7201a8"
            ],
            [
             0.3333333333333333,
             "#9c179e"
            ],
            [
             0.4444444444444444,
             "#bd3786"
            ],
            [
             0.5555555555555556,
             "#d8576b"
            ],
            [
             0.6666666666666666,
             "#ed7953"
            ],
            [
             0.7777777777777778,
             "#fb9f3a"
            ],
            [
             0.8888888888888888,
             "#fdca26"
            ],
            [
             1,
             "#f0f921"
            ]
           ]
          },
          "colorway": [
           "#636efa",
           "#EF553B",
           "#00cc96",
           "#ab63fa",
           "#FFA15A",
           "#19d3f3",
           "#FF6692",
           "#B6E880",
           "#FF97FF",
           "#FECB52"
          ],
          "font": {
           "color": "#2a3f5f"
          },
          "geo": {
           "bgcolor": "white",
           "lakecolor": "white",
           "landcolor": "#E5ECF6",
           "showlakes": true,
           "showland": true,
           "subunitcolor": "white"
          },
          "hoverlabel": {
           "align": "left"
          },
          "hovermode": "closest",
          "mapbox": {
           "style": "light"
          },
          "paper_bgcolor": "white",
          "plot_bgcolor": "#E5ECF6",
          "polar": {
           "angularaxis": {
            "gridcolor": "white",
            "linecolor": "white",
            "ticks": ""
           },
           "bgcolor": "#E5ECF6",
           "radialaxis": {
            "gridcolor": "white",
            "linecolor": "white",
            "ticks": ""
           }
          },
          "scene": {
           "xaxis": {
            "backgroundcolor": "#E5ECF6",
            "gridcolor": "white",
            "gridwidth": 2,
            "linecolor": "white",
            "showbackground": true,
            "ticks": "",
            "zerolinecolor": "white"
           },
           "yaxis": {
            "backgroundcolor": "#E5ECF6",
            "gridcolor": "white",
            "gridwidth": 2,
            "linecolor": "white",
            "showbackground": true,
            "ticks": "",
            "zerolinecolor": "white"
           },
           "zaxis": {
            "backgroundcolor": "#E5ECF6",
            "gridcolor": "white",
            "gridwidth": 2,
            "linecolor": "white",
            "showbackground": true,
            "ticks": "",
            "zerolinecolor": "white"
           }
          },
          "shapedefaults": {
           "line": {
            "color": "#2a3f5f"
           }
          },
          "ternary": {
           "aaxis": {
            "gridcolor": "white",
            "linecolor": "white",
            "ticks": ""
           },
           "baxis": {
            "gridcolor": "white",
            "linecolor": "white",
            "ticks": ""
           },
           "bgcolor": "#E5ECF6",
           "caxis": {
            "gridcolor": "white",
            "linecolor": "white",
            "ticks": ""
           }
          },
          "title": {
           "x": 0.05
          },
          "xaxis": {
           "automargin": true,
           "gridcolor": "white",
           "linecolor": "white",
           "ticks": "",
           "title": {
            "standoff": 15
           },
           "zerolinecolor": "white",
           "zerolinewidth": 2
          },
          "yaxis": {
           "automargin": true,
           "gridcolor": "white",
           "linecolor": "white",
           "ticks": "",
           "title": {
            "standoff": 15
           },
           "zerolinecolor": "white",
           "zerolinewidth": 2
          }
         }
        },
        "title": {
         "font": {
          "color": "#4D5663"
         }
        },
        "xaxis": {
         "anchor": "y",
         "domain": [
          0,
          0.2125
         ],
         "gridcolor": "#E1E5ED",
         "showgrid": false,
         "tickfont": {
          "color": "#4D5663"
         },
         "title": {
          "font": {
           "color": "#4D5663"
          },
          "text": ""
         },
         "zerolinecolor": "#E1E5ED"
        },
        "xaxis10": {
         "anchor": "y10",
         "domain": [
          0.2625,
          0.475
         ],
         "gridcolor": "#E1E5ED",
         "showgrid": false,
         "tickfont": {
          "color": "#4D5663"
         },
         "title": {
          "font": {
           "color": "#4D5663"
          },
          "text": ""
         },
         "zerolinecolor": "#E1E5ED"
        },
        "xaxis11": {
         "anchor": "y11",
         "domain": [
          0.525,
          0.7375
         ],
         "gridcolor": "#E1E5ED",
         "showgrid": false,
         "tickfont": {
          "color": "#4D5663"
         },
         "title": {
          "font": {
           "color": "#4D5663"
          },
          "text": ""
         },
         "zerolinecolor": "#E1E5ED"
        },
        "xaxis12": {
         "anchor": "y12",
         "domain": [
          0.7875,
          1
         ],
         "gridcolor": "#E1E5ED",
         "showgrid": false,
         "tickfont": {
          "color": "#4D5663"
         },
         "title": {
          "font": {
           "color": "#4D5663"
          },
          "text": ""
         },
         "zerolinecolor": "#E1E5ED"
        },
        "xaxis13": {
         "anchor": "y13",
         "domain": [
          0,
          0.2125
         ],
         "gridcolor": "#E1E5ED",
         "showgrid": false,
         "tickfont": {
          "color": "#4D5663"
         },
         "title": {
          "font": {
           "color": "#4D5663"
          },
          "text": ""
         },
         "zerolinecolor": "#E1E5ED"
        },
        "xaxis14": {
         "anchor": "y14",
         "domain": [
          0.2625,
          0.475
         ],
         "gridcolor": "#E1E5ED",
         "showgrid": false,
         "tickfont": {
          "color": "#4D5663"
         },
         "title": {
          "font": {
           "color": "#4D5663"
          },
          "text": ""
         },
         "zerolinecolor": "#E1E5ED"
        },
        "xaxis15": {
         "anchor": "y15",
         "domain": [
          0.525,
          0.7375
         ],
         "gridcolor": "#E1E5ED",
         "showgrid": false,
         "tickfont": {
          "color": "#4D5663"
         },
         "title": {
          "font": {
           "color": "#4D5663"
          },
          "text": ""
         },
         "zerolinecolor": "#E1E5ED"
        },
        "xaxis16": {
         "anchor": "y16",
         "domain": [
          0.7875,
          1
         ],
         "gridcolor": "#E1E5ED",
         "showgrid": false,
         "tickfont": {
          "color": "#4D5663"
         },
         "title": {
          "font": {
           "color": "#4D5663"
          },
          "text": ""
         },
         "zerolinecolor": "#E1E5ED"
        },
        "xaxis2": {
         "anchor": "y2",
         "domain": [
          0.2625,
          0.475
         ],
         "gridcolor": "#E1E5ED",
         "showgrid": false,
         "tickfont": {
          "color": "#4D5663"
         },
         "title": {
          "font": {
           "color": "#4D5663"
          },
          "text": ""
         },
         "zerolinecolor": "#E1E5ED"
        },
        "xaxis3": {
         "anchor": "y3",
         "domain": [
          0.525,
          0.7375
         ],
         "gridcolor": "#E1E5ED",
         "showgrid": false,
         "tickfont": {
          "color": "#4D5663"
         },
         "title": {
          "font": {
           "color": "#4D5663"
          },
          "text": ""
         },
         "zerolinecolor": "#E1E5ED"
        },
        "xaxis4": {
         "anchor": "y4",
         "domain": [
          0.7875,
          1
         ],
         "gridcolor": "#E1E5ED",
         "showgrid": false,
         "tickfont": {
          "color": "#4D5663"
         },
         "title": {
          "font": {
           "color": "#4D5663"
          },
          "text": ""
         },
         "zerolinecolor": "#E1E5ED"
        },
        "xaxis5": {
         "anchor": "y5",
         "domain": [
          0,
          0.2125
         ],
         "gridcolor": "#E1E5ED",
         "showgrid": false,
         "tickfont": {
          "color": "#4D5663"
         },
         "title": {
          "font": {
           "color": "#4D5663"
          },
          "text": ""
         },
         "zerolinecolor": "#E1E5ED"
        },
        "xaxis6": {
         "anchor": "y6",
         "domain": [
          0.2625,
          0.475
         ],
         "gridcolor": "#E1E5ED",
         "showgrid": false,
         "tickfont": {
          "color": "#4D5663"
         },
         "title": {
          "font": {
           "color": "#4D5663"
          },
          "text": ""
         },
         "zerolinecolor": "#E1E5ED"
        },
        "xaxis7": {
         "anchor": "y7",
         "domain": [
          0.525,
          0.7375
         ],
         "gridcolor": "#E1E5ED",
         "showgrid": false,
         "tickfont": {
          "color": "#4D5663"
         },
         "title": {
          "font": {
           "color": "#4D5663"
          },
          "text": ""
         },
         "zerolinecolor": "#E1E5ED"
        },
        "xaxis8": {
         "anchor": "y8",
         "domain": [
          0.7875,
          1
         ],
         "gridcolor": "#E1E5ED",
         "showgrid": false,
         "tickfont": {
          "color": "#4D5663"
         },
         "title": {
          "font": {
           "color": "#4D5663"
          },
          "text": ""
         },
         "zerolinecolor": "#E1E5ED"
        },
        "xaxis9": {
         "anchor": "y9",
         "domain": [
          0,
          0.2125
         ],
         "gridcolor": "#E1E5ED",
         "showgrid": false,
         "tickfont": {
          "color": "#4D5663"
         },
         "title": {
          "font": {
           "color": "#4D5663"
          },
          "text": ""
         },
         "zerolinecolor": "#E1E5ED"
        },
        "yaxis": {
         "anchor": "x",
         "domain": [
          0.8025,
          1
         ],
         "gridcolor": "#E1E5ED",
         "showgrid": false,
         "tickfont": {
          "color": "#4D5663"
         },
         "title": {
          "font": {
           "color": "#4D5663"
          },
          "text": ""
         },
         "zerolinecolor": "#E1E5ED"
        },
        "yaxis10": {
         "anchor": "x10",
         "domain": [
          0.2675,
          0.465
         ],
         "gridcolor": "#E1E5ED",
         "showgrid": false,
         "tickfont": {
          "color": "#4D5663"
         },
         "title": {
          "font": {
           "color": "#4D5663"
          },
          "text": ""
         },
         "zerolinecolor": "#E1E5ED"
        },
        "yaxis11": {
         "anchor": "x11",
         "domain": [
          0.2675,
          0.465
         ],
         "gridcolor": "#E1E5ED",
         "showgrid": false,
         "tickfont": {
          "color": "#4D5663"
         },
         "title": {
          "font": {
           "color": "#4D5663"
          },
          "text": ""
         },
         "zerolinecolor": "#E1E5ED"
        },
        "yaxis12": {
         "anchor": "x12",
         "domain": [
          0.2675,
          0.465
         ],
         "gridcolor": "#E1E5ED",
         "showgrid": false,
         "tickfont": {
          "color": "#4D5663"
         },
         "title": {
          "font": {
           "color": "#4D5663"
          },
          "text": ""
         },
         "zerolinecolor": "#E1E5ED"
        },
        "yaxis13": {
         "anchor": "x13",
         "domain": [
          0,
          0.1975
         ],
         "gridcolor": "#E1E5ED",
         "showgrid": false,
         "tickfont": {
          "color": "#4D5663"
         },
         "title": {
          "font": {
           "color": "#4D5663"
          },
          "text": ""
         },
         "zerolinecolor": "#E1E5ED"
        },
        "yaxis14": {
         "anchor": "x14",
         "domain": [
          0,
          0.1975
         ],
         "gridcolor": "#E1E5ED",
         "showgrid": false,
         "tickfont": {
          "color": "#4D5663"
         },
         "title": {
          "font": {
           "color": "#4D5663"
          },
          "text": ""
         },
         "zerolinecolor": "#E1E5ED"
        },
        "yaxis15": {
         "anchor": "x15",
         "domain": [
          0,
          0.1975
         ],
         "gridcolor": "#E1E5ED",
         "showgrid": false,
         "tickfont": {
          "color": "#4D5663"
         },
         "title": {
          "font": {
           "color": "#4D5663"
          },
          "text": ""
         },
         "zerolinecolor": "#E1E5ED"
        },
        "yaxis16": {
         "anchor": "x16",
         "domain": [
          0,
          0.1975
         ],
         "gridcolor": "#E1E5ED",
         "showgrid": false,
         "tickfont": {
          "color": "#4D5663"
         },
         "title": {
          "font": {
           "color": "#4D5663"
          },
          "text": ""
         },
         "zerolinecolor": "#E1E5ED"
        },
        "yaxis2": {
         "anchor": "x2",
         "domain": [
          0.8025,
          1
         ],
         "gridcolor": "#E1E5ED",
         "showgrid": false,
         "tickfont": {
          "color": "#4D5663"
         },
         "title": {
          "font": {
           "color": "#4D5663"
          },
          "text": ""
         },
         "zerolinecolor": "#E1E5ED"
        },
        "yaxis3": {
         "anchor": "x3",
         "domain": [
          0.8025,
          1
         ],
         "gridcolor": "#E1E5ED",
         "showgrid": false,
         "tickfont": {
          "color": "#4D5663"
         },
         "title": {
          "font": {
           "color": "#4D5663"
          },
          "text": ""
         },
         "zerolinecolor": "#E1E5ED"
        },
        "yaxis4": {
         "anchor": "x4",
         "domain": [
          0.8025,
          1
         ],
         "gridcolor": "#E1E5ED",
         "showgrid": false,
         "tickfont": {
          "color": "#4D5663"
         },
         "title": {
          "font": {
           "color": "#4D5663"
          },
          "text": ""
         },
         "zerolinecolor": "#E1E5ED"
        },
        "yaxis5": {
         "anchor": "x5",
         "domain": [
          0.535,
          0.7325
         ],
         "gridcolor": "#E1E5ED",
         "showgrid": false,
         "tickfont": {
          "color": "#4D5663"
         },
         "title": {
          "font": {
           "color": "#4D5663"
          },
          "text": ""
         },
         "zerolinecolor": "#E1E5ED"
        },
        "yaxis6": {
         "anchor": "x6",
         "domain": [
          0.535,
          0.7325
         ],
         "gridcolor": "#E1E5ED",
         "showgrid": false,
         "tickfont": {
          "color": "#4D5663"
         },
         "title": {
          "font": {
           "color": "#4D5663"
          },
          "text": ""
         },
         "zerolinecolor": "#E1E5ED"
        },
        "yaxis7": {
         "anchor": "x7",
         "domain": [
          0.535,
          0.7325
         ],
         "gridcolor": "#E1E5ED",
         "showgrid": false,
         "tickfont": {
          "color": "#4D5663"
         },
         "title": {
          "font": {
           "color": "#4D5663"
          },
          "text": ""
         },
         "zerolinecolor": "#E1E5ED"
        },
        "yaxis8": {
         "anchor": "x8",
         "domain": [
          0.535,
          0.7325
         ],
         "gridcolor": "#E1E5ED",
         "showgrid": false,
         "tickfont": {
          "color": "#4D5663"
         },
         "title": {
          "font": {
           "color": "#4D5663"
          },
          "text": ""
         },
         "zerolinecolor": "#E1E5ED"
        },
        "yaxis9": {
         "anchor": "x9",
         "domain": [
          0.2675,
          0.465
         ],
         "gridcolor": "#E1E5ED",
         "showgrid": false,
         "tickfont": {
          "color": "#4D5663"
         },
         "title": {
          "font": {
           "color": "#4D5663"
          },
          "text": ""
         },
         "zerolinecolor": "#E1E5ED"
        }
       }
      },
      "text/html": [
       "<div>                            <div id=\"2be5d5ea-9e3a-49e5-9eb2-19cd0f72f801\" class=\"plotly-graph-div\" style=\"height:525px; width:100%;\"></div>            <script type=\"text/javascript\">                require([\"plotly\"], function(Plotly) {                    window.PLOTLYENV=window.PLOTLYENV || {};\n",
       "                    window.PLOTLYENV.BASE_URL='https://plot.ly';                                    if (document.getElementById(\"2be5d5ea-9e3a-49e5-9eb2-19cd0f72f801\")) {                    Plotly.newPlot(                        \"2be5d5ea-9e3a-49e5-9eb2-19cd0f72f801\",                        [{\"histfunc\":\"count\",\"histnorm\":\"\",\"marker\":{\"color\":\"rgba(255, 153, 51, 1.0)\",\"line\":{\"color\":\"#4D5663\",\"width\":1.3}},\"name\":\"A\",\"nbinsx\":10,\"opacity\":0.8,\"orientation\":\"v\",\"x\":[0.2249574122485187,-0.14261442417502293,-0.2550693898234665,0.685612907940947,1.6696377029416647,-0.6276630448948421,-0.3675932197581956,0.8601065321997801,0.3029584160575629,1.4871959331592248,-1.1402052303681383,-0.10363052533320498,-1.227114249882769,1.0517098065952517,0.18111386197406235,-0.6224553189786596,-1.1914704485957508,0.6505610670402162,-1.0311546827111027,-0.3220045091127159,0.6201846864041929,-0.3136670563097545,0.3122077103270754,0.9019905430898144,0.7314170684298197,-0.840305166395734,-1.1196562155436376,0.22835011296288307,-0.21548374150626115,-0.07777464559266904,-2.197928658415042,-0.28835600690837554,-0.12235519259126607,-1.3580351035282827,0.2132605551579515,0.46070651683040154,0.7963444611084912,0.1094805824159229,-0.6102506779738078,1.1329129967541405,-0.5065961707940483,0.3745901537387485,0.7946114378721225,1.1465167276749233,-2.0553288125734057,0.10100751854400598,0.6645436919180743,-2.412988684855048,0.5122070039497443,1.4030992357915617,0.24913590252340764,-1.4870597006201085,-1.3661838507640083,-0.1519904820928337,0.4088874943908349,0.28921834149417314,-0.5477050903562732,-1.00334077408219,-1.9782068285772612,-1.559539636679243,1.1878319779769697,-0.5514926543266923,-1.239928895872855,1.361883671248535,0.6178324441029704,0.9377043609805684,0.403641750993754,-1.9264422169236457,-0.39329684106780577,-0.18962422021135977,0.4309102642418277,0.13416483620471115,-1.8475271675664917,1.276656958413032,0.5536066672322233,0.7451250480407975,-1.1885494428288137,0.808597310965037,-0.049207908473800556,0.1822632839586508,1.09853989816661,-1.9058038090611038,-0.538794190231828,0.28458672788291245,-1.7107356167627255,0.35184119723705537,-1.3012008916908282,-0.9108700963300996,-0.838242587698326,1.5118378297958461,-0.525715085033998,-0.5280227761153535,1.5009480547986114,-1.1882945291476716,-1.2722134708587935,-0.25068439424681555,-1.0076209780516017,-0.742483026883699,-0.5971237711770452,-0.06812184219397695],\"xaxis\":\"x\",\"yaxis\":\"y\",\"type\":\"histogram\"},{\"line\":{\"color\":\"rgba(128, 128, 128, 1.0)\",\"dash\":\"solid\",\"shape\":\"linear\",\"width\":1.3},\"marker\":{\"size\":2,\"symbol\":\"circle\"},\"mode\":\"markers\",\"name\":\"A\",\"text\":\"\",\"x\":[0.7729328845998267,-0.2950040513273714,0.09520908744315867,1.441071495404537,0.10166534711461274,-0.8693316971690324,0.979562167355205,-0.8654708786854032,-0.2870011317161067,-1.5300959310749473,0.8368972285896891,1.8496175673476036,-1.2477780681015862,0.4215338133150978,0.4917663948454245,0.9781736006519686,0.9347198820348527,-0.36365393310839655,-1.5200057839806334,-0.8670452957430184,-0.788241493679069,-0.5477438420825249,0.04336683059551982,0.18091119066448572,0.10213061681864892,0.9561820138080441,0.6360305156843183,0.8148193265235719,-0.7243357866209025,-1.7094201272778604,0.7049069031486167,-1.6929017104546837,-1.351434770601901,0.5400726790334075,-0.9089948988816058,0.6865655449142279,0.07603430008983052,-0.9119736366526259,1.1017361476428449,0.3310632043893103,-0.668250051067514,0.485161547116454,0.3774165281634454,1.2433965952711497,-0.8535662136692201,0.9651085753827604,-0.12577055249933197,0.2315793282956873,1.094271953610481,0.45475229561547326,-0.1926373637868699,-0.32561960234374177,-2.1906627063088835,2.337836470426464,-0.8169000173085379,-1.0567080408048166,-2.137216564597913,2.8063834954575566,-0.9480034566417574,0.07441797086764544,-1.9894922466089366,1.6497669533081567,-0.12560768412915277,1.0167088823279065,1.2651059424362803,1.218624446338318,-2.5148357286791554,-0.6143555014834721,-2.1475638559430856,-0.9632014475924506,0.14276846625931602,0.35315951521897926,-0.4451647014676167,-1.344538665604799,1.5703460188585443,1.1649900207213846,-1.1327050573844177,0.30148592567161836,0.33369126307640595,-1.2513016080325425,-1.3740431730549505,0.6582137883417819,-0.3898943074688618,0.36245937168862513,0.47462451095442765,-2.077087683940318,-0.03158422387106401,0.3412955156808295,0.4860490073614476,-0.42109861637466595,1.2486711513798276,0.6810153620726337,0.21709393315480308,-0.7575392105538545,0.12553478007756078,0.33217504596304537,0.5983073107261221,-2.2161251644675217,0.5324550065592877,-0.5973104555594871],\"xaxis\":\"x2\",\"y\":[0.2249574122485187,-0.14261442417502293,-0.2550693898234665,0.685612907940947,1.6696377029416647,-0.6276630448948421,-0.3675932197581956,0.8601065321997801,0.3029584160575629,1.4871959331592248,-1.1402052303681383,-0.10363052533320498,-1.227114249882769,1.0517098065952517,0.18111386197406235,-0.6224553189786596,-1.1914704485957508,0.6505610670402162,-1.0311546827111027,-0.3220045091127159,0.6201846864041929,-0.3136670563097545,0.3122077103270754,0.9019905430898144,0.7314170684298197,-0.840305166395734,-1.1196562155436376,0.22835011296288307,-0.21548374150626115,-0.07777464559266904,-2.197928658415042,-0.28835600690837554,-0.12235519259126607,-1.3580351035282827,0.2132605551579515,0.46070651683040154,0.7963444611084912,0.1094805824159229,-0.6102506779738078,1.1329129967541405,-0.5065961707940483,0.3745901537387485,0.7946114378721225,1.1465167276749233,-2.0553288125734057,0.10100751854400598,0.6645436919180743,-2.412988684855048,0.5122070039497443,1.4030992357915617,0.24913590252340764,-1.4870597006201085,-1.3661838507640083,-0.1519904820928337,0.4088874943908349,0.28921834149417314,-0.5477050903562732,-1.00334077408219,-1.9782068285772612,-1.559539636679243,1.1878319779769697,-0.5514926543266923,-1.239928895872855,1.361883671248535,0.6178324441029704,0.9377043609805684,0.403641750993754,-1.9264422169236457,-0.39329684106780577,-0.18962422021135977,0.4309102642418277,0.13416483620471115,-1.8475271675664917,1.276656958413032,0.5536066672322233,0.7451250480407975,-1.1885494428288137,0.808597310965037,-0.049207908473800556,0.1822632839586508,1.09853989816661,-1.9058038090611038,-0.538794190231828,0.28458672788291245,-1.7107356167627255,0.35184119723705537,-1.3012008916908282,-0.9108700963300996,-0.838242587698326,1.5118378297958461,-0.525715085033998,-0.5280227761153535,1.5009480547986114,-1.1882945291476716,-1.2722134708587935,-0.25068439424681555,-1.0076209780516017,-0.742483026883699,-0.5971237711770452,-0.06812184219397695],\"yaxis\":\"y2\",\"type\":\"scatter\"},{\"line\":{\"color\":\"rgba(128, 128, 128, 1.0)\",\"dash\":\"solid\",\"shape\":\"linear\",\"width\":1.3},\"marker\":{\"size\":2,\"symbol\":\"circle\"},\"mode\":\"markers\",\"name\":\"A\",\"text\":\"\",\"x\":[-1.407703631343671,0.5140329231436118,1.3131158131992584,-2.212928852152698,0.5173563987333515,0.34706084032851675,-0.5929210703964634,0.13813863792706588,0.7003144907738252,0.8797191494749702,0.29137863584603657,0.412210553403753,-0.7917919162256702,0.23380419921599765,0.7006363554579161,-0.19401780265160595,0.0871652750797159,0.12109102906606106,-0.4856774751621975,-0.33503656199224263,0.989305797207836,0.15082348550530683,0.4704807568828661,1.0831894299838418,0.3586295958501063,0.1915945076598596,-1.5022291531005783,1.4038913461155493,-2.3201172843085103,-0.7850084055935527,1.6416898072599189,0.8740064232601772,0.5855214404280811,0.14953267259073877,-0.7168148311985317,-0.5110533822942064,-0.6965664504104578,-0.19578700620630154,0.14780867769351586,1.1463301563682267,-0.45084299243755643,-1.432352328786134,-2.0578758871075524,-0.6875762164963011,0.5095140262897756,-0.13186026363396183,-0.13804039155615058,0.41595434931612085,0.39940419070713673,0.1720714416492082,1.2358173790766753,0.2564077760910809,1.1783928031922872,-0.32641311365649067,0.23858826873596783,-0.14203601038533445,-0.3645621499967152,0.18016270082759867,-0.6928018108236371,-2.104313369439946,-0.3633633809793382,0.3020055011942023,0.7122464940533162,-0.8554495413250128,-0.01817109422354125,-1.0072561535251414,0.007045125592761505,-0.8047034046048044,-0.8133706531485041,-0.026216939791767715,-1.8034397312235693,0.13761848980876704,2.2825978897893187,0.0944423889260254,-0.6335379203958453,0.5293411405886458,-1.8191640037863301,0.26903546964548747,1.2290653193686019,-0.05392103233269685,-1.021614999145513,0.2492397807664952,0.5700615041724898,0.8501408763354436,-0.3152259965012949,2.080110221272923,-0.6302027942250683,0.8567247070030546,0.3127734152662034,1.2741981219816176,0.9127376031649637,0.5166083951090601,0.2475442944341499,-0.4239327618190913,-1.2485199555196693,0.47098675354359276,-0.6394284322963346,-2.755316239582588,0.9120545301067184,-0.7607109933566386],\"xaxis\":\"x3\",\"y\":[0.2249574122485187,-0.14261442417502293,-0.2550693898234665,0.685612907940947,1.6696377029416647,-0.6276630448948421,-0.3675932197581956,0.8601065321997801,0.3029584160575629,1.4871959331592248,-1.1402052303681383,-0.10363052533320498,-1.227114249882769,1.0517098065952517,0.18111386197406235,-0.6224553189786596,-1.1914704485957508,0.6505610670402162,-1.0311546827111027,-0.3220045091127159,0.6201846864041929,-0.3136670563097545,0.3122077103270754,0.9019905430898144,0.7314170684298197,-0.840305166395734,-1.1196562155436376,0.22835011296288307,-0.21548374150626115,-0.07777464559266904,-2.197928658415042,-0.28835600690837554,-0.12235519259126607,-1.3580351035282827,0.2132605551579515,0.46070651683040154,0.7963444611084912,0.1094805824159229,-0.6102506779738078,1.1329129967541405,-0.5065961707940483,0.3745901537387485,0.7946114378721225,1.1465167276749233,-2.0553288125734057,0.10100751854400598,0.6645436919180743,-2.412988684855048,0.5122070039497443,1.4030992357915617,0.24913590252340764,-1.4870597006201085,-1.3661838507640083,-0.1519904820928337,0.4088874943908349,0.28921834149417314,-0.5477050903562732,-1.00334077408219,-1.9782068285772612,-1.559539636679243,1.1878319779769697,-0.5514926543266923,-1.239928895872855,1.361883671248535,0.6178324441029704,0.9377043609805684,0.403641750993754,-1.9264422169236457,-0.39329684106780577,-0.18962422021135977,0.4309102642418277,0.13416483620471115,-1.8475271675664917,1.276656958413032,0.5536066672322233,0.7451250480407975,-1.1885494428288137,0.808597310965037,-0.049207908473800556,0.1822632839586508,1.09853989816661,-1.9058038090611038,-0.538794190231828,0.28458672788291245,-1.7107356167627255,0.35184119723705537,-1.3012008916908282,-0.9108700963300996,-0.838242587698326,1.5118378297958461,-0.525715085033998,-0.5280227761153535,1.5009480547986114,-1.1882945291476716,-1.2722134708587935,-0.25068439424681555,-1.0076209780516017,-0.742483026883699,-0.5971237711770452,-0.06812184219397695],\"yaxis\":\"y3\",\"type\":\"scatter\"},{\"line\":{\"color\":\"rgba(128, 128, 128, 1.0)\",\"dash\":\"solid\",\"shape\":\"linear\",\"width\":1.3},\"marker\":{\"size\":2,\"symbol\":\"circle\"},\"mode\":\"markers\",\"name\":\"A\",\"text\":\"\",\"x\":[0.687400710884295,1.292329185879667,-1.4451549140024476,2.4212652941715733,-0.5990245298654623,-0.14312718252640605,1.0341838284171945,0.9168533072372855,-0.5239881601798092,-3.4614694117290363,-0.547162749247495,-0.2954205384119188,-0.6762104379883643,0.17942177831626702,-0.446784254558779,3.152472667088559,0.05366938922946379,0.2925464108958577,-0.9260514076904133,0.8666434042745934,-0.6788493093657786,-0.928452920672083,0.7490743212798445,-0.9910217690371543,-0.5099780597741604,-0.7729878731471892,0.1261095837182957,-2.173997852739537,0.13380187326526857,-0.03383492214686325,-1.0540827763670386,0.5722797189713448,-0.10047293394388912,-1.4115711035698897,-1.123541015090475,-0.7485896007773215,1.1621777066193428,0.31034667529675075,-0.5478548465244522,1.1053754476640354,0.6724786658427715,1.417592390164073,0.1763335278094863,-0.4759008789741875,-0.529021806162886,-0.8780406205670047,-0.4670899375138714,0.12021124416462858,-1.1638589701666413,-0.2718286124947359,0.4944119559453498,0.612862017516745,2.0620936369339837,-0.5498957432666844,0.21091506283573025,0.8960109115496354,-0.08446203183891707,1.495063178165726,0.7921963932506242,0.9706531868794951,0.5442650593702897,-0.06695152379828094,-0.031671739135709996,-0.3282615102156579,-0.8570800998138681,-1.1631087687318071,1.319037497800597,0.010885976841033509,-0.16632739692236823,0.2784643719376399,-0.06477373031704924,-0.8110155425857067,0.46462041479311506,-0.29344170889783944,0.9418749445032143,-0.9145351980427542,1.5989467259671475,-0.3123143304487573,-1.7312174953372057,-0.9701391400874365,-1.263680840458927,1.6221377826941585,-1.929638890370037,-0.00807621149389771,-1.1116686536071216,-1.3142471793168062,-0.2677781320562748,-0.029451177327852074,0.6886728047322884,0.6228839741607755,1.048817636224244,-1.2720622979819218,-0.16208924811986883,-0.3442025567829724,0.05865786141098669,0.33630770910042346,-0.021898720384863044,-0.9402976316913524,-0.7092448432651228,0.6306365246150188],\"xaxis\":\"x4\",\"y\":[0.2249574122485187,-0.14261442417502293,-0.2550693898234665,0.685612907940947,1.6696377029416647,-0.6276630448948421,-0.3675932197581956,0.8601065321997801,0.3029584160575629,1.4871959331592248,-1.1402052303681383,-0.10363052533320498,-1.227114249882769,1.0517098065952517,0.18111386197406235,-0.6224553189786596,-1.1914704485957508,0.6505610670402162,-1.0311546827111027,-0.3220045091127159,0.6201846864041929,-0.3136670563097545,0.3122077103270754,0.9019905430898144,0.7314170684298197,-0.840305166395734,-1.1196562155436376,0.22835011296288307,-0.21548374150626115,-0.07777464559266904,-2.197928658415042,-0.28835600690837554,-0.12235519259126607,-1.3580351035282827,0.2132605551579515,0.46070651683040154,0.7963444611084912,0.1094805824159229,-0.6102506779738078,1.1329129967541405,-0.5065961707940483,0.3745901537387485,0.7946114378721225,1.1465167276749233,-2.0553288125734057,0.10100751854400598,0.6645436919180743,-2.412988684855048,0.5122070039497443,1.4030992357915617,0.24913590252340764,-1.4870597006201085,-1.3661838507640083,-0.1519904820928337,0.4088874943908349,0.28921834149417314,-0.5477050903562732,-1.00334077408219,-1.9782068285772612,-1.559539636679243,1.1878319779769697,-0.5514926543266923,-1.239928895872855,1.361883671248535,0.6178324441029704,0.9377043609805684,0.403641750993754,-1.9264422169236457,-0.39329684106780577,-0.18962422021135977,0.4309102642418277,0.13416483620471115,-1.8475271675664917,1.276656958413032,0.5536066672322233,0.7451250480407975,-1.1885494428288137,0.808597310965037,-0.049207908473800556,0.1822632839586508,1.09853989816661,-1.9058038090611038,-0.538794190231828,0.28458672788291245,-1.7107356167627255,0.35184119723705537,-1.3012008916908282,-0.9108700963300996,-0.838242587698326,1.5118378297958461,-0.525715085033998,-0.5280227761153535,1.5009480547986114,-1.1882945291476716,-1.2722134708587935,-0.25068439424681555,-1.0076209780516017,-0.742483026883699,-0.5971237711770452,-0.06812184219397695],\"yaxis\":\"y4\",\"type\":\"scatter\"},{\"line\":{\"color\":\"rgba(128, 128, 128, 1.0)\",\"dash\":\"solid\",\"shape\":\"linear\",\"width\":1.3},\"marker\":{\"size\":2,\"symbol\":\"circle\"},\"mode\":\"markers\",\"name\":\"B\",\"text\":\"\",\"x\":[0.2249574122485187,-0.14261442417502293,-0.2550693898234665,0.685612907940947,1.6696377029416647,-0.6276630448948421,-0.3675932197581956,0.8601065321997801,0.3029584160575629,1.4871959331592248,-1.1402052303681383,-0.10363052533320498,-1.227114249882769,1.0517098065952517,0.18111386197406235,-0.6224553189786596,-1.1914704485957508,0.6505610670402162,-1.0311546827111027,-0.3220045091127159,0.6201846864041929,-0.3136670563097545,0.3122077103270754,0.9019905430898144,0.7314170684298197,-0.840305166395734,-1.1196562155436376,0.22835011296288307,-0.21548374150626115,-0.07777464559266904,-2.197928658415042,-0.28835600690837554,-0.12235519259126607,-1.3580351035282827,0.2132605551579515,0.46070651683040154,0.7963444611084912,0.1094805824159229,-0.6102506779738078,1.1329129967541405,-0.5065961707940483,0.3745901537387485,0.7946114378721225,1.1465167276749233,-2.0553288125734057,0.10100751854400598,0.6645436919180743,-2.412988684855048,0.5122070039497443,1.4030992357915617,0.24913590252340764,-1.4870597006201085,-1.3661838507640083,-0.1519904820928337,0.4088874943908349,0.28921834149417314,-0.5477050903562732,-1.00334077408219,-1.9782068285772612,-1.559539636679243,1.1878319779769697,-0.5514926543266923,-1.239928895872855,1.361883671248535,0.6178324441029704,0.9377043609805684,0.403641750993754,-1.9264422169236457,-0.39329684106780577,-0.18962422021135977,0.4309102642418277,0.13416483620471115,-1.8475271675664917,1.276656958413032,0.5536066672322233,0.7451250480407975,-1.1885494428288137,0.808597310965037,-0.049207908473800556,0.1822632839586508,1.09853989816661,-1.9058038090611038,-0.538794190231828,0.28458672788291245,-1.7107356167627255,0.35184119723705537,-1.3012008916908282,-0.9108700963300996,-0.838242587698326,1.5118378297958461,-0.525715085033998,-0.5280227761153535,1.5009480547986114,-1.1882945291476716,-1.2722134708587935,-0.25068439424681555,-1.0076209780516017,-0.742483026883699,-0.5971237711770452,-0.06812184219397695],\"xaxis\":\"x5\",\"y\":[0.7729328845998267,-0.2950040513273714,0.09520908744315867,1.441071495404537,0.10166534711461274,-0.8693316971690324,0.979562167355205,-0.8654708786854032,-0.2870011317161067,-1.5300959310749473,0.8368972285896891,1.8496175673476036,-1.2477780681015862,0.4215338133150978,0.4917663948454245,0.9781736006519686,0.9347198820348527,-0.36365393310839655,-1.5200057839806334,-0.8670452957430184,-0.788241493679069,-0.5477438420825249,0.04336683059551982,0.18091119066448572,0.10213061681864892,0.9561820138080441,0.6360305156843183,0.8148193265235719,-0.7243357866209025,-1.7094201272778604,0.7049069031486167,-1.6929017104546837,-1.351434770601901,0.5400726790334075,-0.9089948988816058,0.6865655449142279,0.07603430008983052,-0.9119736366526259,1.1017361476428449,0.3310632043893103,-0.668250051067514,0.485161547116454,0.3774165281634454,1.2433965952711497,-0.8535662136692201,0.9651085753827604,-0.12577055249933197,0.2315793282956873,1.094271953610481,0.45475229561547326,-0.1926373637868699,-0.32561960234374177,-2.1906627063088835,2.337836470426464,-0.8169000173085379,-1.0567080408048166,-2.137216564597913,2.8063834954575566,-0.9480034566417574,0.07441797086764544,-1.9894922466089366,1.6497669533081567,-0.12560768412915277,1.0167088823279065,1.2651059424362803,1.218624446338318,-2.5148357286791554,-0.6143555014834721,-2.1475638559430856,-0.9632014475924506,0.14276846625931602,0.35315951521897926,-0.4451647014676167,-1.344538665604799,1.5703460188585443,1.1649900207213846,-1.1327050573844177,0.30148592567161836,0.33369126307640595,-1.2513016080325425,-1.3740431730549505,0.6582137883417819,-0.3898943074688618,0.36245937168862513,0.47462451095442765,-2.077087683940318,-0.03158422387106401,0.3412955156808295,0.4860490073614476,-0.42109861637466595,1.2486711513798276,0.6810153620726337,0.21709393315480308,-0.7575392105538545,0.12553478007756078,0.33217504596304537,0.5983073107261221,-2.2161251644675217,0.5324550065592877,-0.5973104555594871],\"yaxis\":\"y5\",\"type\":\"scatter\"},{\"histfunc\":\"count\",\"histnorm\":\"\",\"marker\":{\"color\":\"rgba(55, 128, 191, 1.0)\",\"line\":{\"color\":\"#4D5663\",\"width\":1.3}},\"name\":\"B\",\"nbinsx\":10,\"opacity\":0.8,\"orientation\":\"v\",\"x\":[0.7729328845998267,-0.2950040513273714,0.09520908744315867,1.441071495404537,0.10166534711461274,-0.8693316971690324,0.979562167355205,-0.8654708786854032,-0.2870011317161067,-1.5300959310749473,0.8368972285896891,1.8496175673476036,-1.2477780681015862,0.4215338133150978,0.4917663948454245,0.9781736006519686,0.9347198820348527,-0.36365393310839655,-1.5200057839806334,-0.8670452957430184,-0.788241493679069,-0.5477438420825249,0.04336683059551982,0.18091119066448572,0.10213061681864892,0.9561820138080441,0.6360305156843183,0.8148193265235719,-0.7243357866209025,-1.7094201272778604,0.7049069031486167,-1.6929017104546837,-1.351434770601901,0.5400726790334075,-0.9089948988816058,0.6865655449142279,0.07603430008983052,-0.9119736366526259,1.1017361476428449,0.3310632043893103,-0.668250051067514,0.485161547116454,0.3774165281634454,1.2433965952711497,-0.8535662136692201,0.9651085753827604,-0.12577055249933197,0.2315793282956873,1.094271953610481,0.45475229561547326,-0.1926373637868699,-0.32561960234374177,-2.1906627063088835,2.337836470426464,-0.8169000173085379,-1.0567080408048166,-2.137216564597913,2.8063834954575566,-0.9480034566417574,0.07441797086764544,-1.9894922466089366,1.6497669533081567,-0.12560768412915277,1.0167088823279065,1.2651059424362803,1.218624446338318,-2.5148357286791554,-0.6143555014834721,-2.1475638559430856,-0.9632014475924506,0.14276846625931602,0.35315951521897926,-0.4451647014676167,-1.344538665604799,1.5703460188585443,1.1649900207213846,-1.1327050573844177,0.30148592567161836,0.33369126307640595,-1.2513016080325425,-1.3740431730549505,0.6582137883417819,-0.3898943074688618,0.36245937168862513,0.47462451095442765,-2.077087683940318,-0.03158422387106401,0.3412955156808295,0.4860490073614476,-0.42109861637466595,1.2486711513798276,0.6810153620726337,0.21709393315480308,-0.7575392105538545,0.12553478007756078,0.33217504596304537,0.5983073107261221,-2.2161251644675217,0.5324550065592877,-0.5973104555594871],\"xaxis\":\"x6\",\"yaxis\":\"y6\",\"type\":\"histogram\"},{\"line\":{\"color\":\"rgba(128, 128, 128, 1.0)\",\"dash\":\"solid\",\"shape\":\"linear\",\"width\":1.3},\"marker\":{\"size\":2,\"symbol\":\"circle\"},\"mode\":\"markers\",\"name\":\"B\",\"text\":\"\",\"x\":[-1.407703631343671,0.5140329231436118,1.3131158131992584,-2.212928852152698,0.5173563987333515,0.34706084032851675,-0.5929210703964634,0.13813863792706588,0.7003144907738252,0.8797191494749702,0.29137863584603657,0.412210553403753,-0.7917919162256702,0.23380419921599765,0.7006363554579161,-0.19401780265160595,0.0871652750797159,0.12109102906606106,-0.4856774751621975,-0.33503656199224263,0.989305797207836,0.15082348550530683,0.4704807568828661,1.0831894299838418,0.3586295958501063,0.1915945076598596,-1.5022291531005783,1.4038913461155493,-2.3201172843085103,-0.7850084055935527,1.6416898072599189,0.8740064232601772,0.5855214404280811,0.14953267259073877,-0.7168148311985317,-0.5110533822942064,-0.6965664504104578,-0.19578700620630154,0.14780867769351586,1.1463301563682267,-0.45084299243755643,-1.432352328786134,-2.0578758871075524,-0.6875762164963011,0.5095140262897756,-0.13186026363396183,-0.13804039155615058,0.41595434931612085,0.39940419070713673,0.1720714416492082,1.2358173790766753,0.2564077760910809,1.1783928031922872,-0.32641311365649067,0.23858826873596783,-0.14203601038533445,-0.3645621499967152,0.18016270082759867,-0.6928018108236371,-2.104313369439946,-0.3633633809793382,0.3020055011942023,0.7122464940533162,-0.8554495413250128,-0.01817109422354125,-1.0072561535251414,0.007045125592761505,-0.8047034046048044,-0.8133706531485041,-0.026216939791767715,-1.8034397312235693,0.13761848980876704,2.2825978897893187,0.0944423889260254,-0.6335379203958453,0.5293411405886458,-1.8191640037863301,0.26903546964548747,1.2290653193686019,-0.05392103233269685,-1.021614999145513,0.2492397807664952,0.5700615041724898,0.8501408763354436,-0.3152259965012949,2.080110221272923,-0.6302027942250683,0.8567247070030546,0.3127734152662034,1.2741981219816176,0.9127376031649637,0.5166083951090601,0.2475442944341499,-0.4239327618190913,-1.2485199555196693,0.47098675354359276,-0.6394284322963346,-2.755316239582588,0.9120545301067184,-0.7607109933566386],\"xaxis\":\"x7\",\"y\":[0.7729328845998267,-0.2950040513273714,0.09520908744315867,1.441071495404537,0.10166534711461274,-0.8693316971690324,0.979562167355205,-0.8654708786854032,-0.2870011317161067,-1.5300959310749473,0.8368972285896891,1.8496175673476036,-1.2477780681015862,0.4215338133150978,0.4917663948454245,0.9781736006519686,0.9347198820348527,-0.36365393310839655,-1.5200057839806334,-0.8670452957430184,-0.788241493679069,-0.5477438420825249,0.04336683059551982,0.18091119066448572,0.10213061681864892,0.9561820138080441,0.6360305156843183,0.8148193265235719,-0.7243357866209025,-1.7094201272778604,0.7049069031486167,-1.6929017104546837,-1.351434770601901,0.5400726790334075,-0.9089948988816058,0.6865655449142279,0.07603430008983052,-0.9119736366526259,1.1017361476428449,0.3310632043893103,-0.668250051067514,0.485161547116454,0.3774165281634454,1.2433965952711497,-0.8535662136692201,0.9651085753827604,-0.12577055249933197,0.2315793282956873,1.094271953610481,0.45475229561547326,-0.1926373637868699,-0.32561960234374177,-2.1906627063088835,2.337836470426464,-0.8169000173085379,-1.0567080408048166,-2.137216564597913,2.8063834954575566,-0.9480034566417574,0.07441797086764544,-1.9894922466089366,1.6497669533081567,-0.12560768412915277,1.0167088823279065,1.2651059424362803,1.218624446338318,-2.5148357286791554,-0.6143555014834721,-2.1475638559430856,-0.9632014475924506,0.14276846625931602,0.35315951521897926,-0.4451647014676167,-1.344538665604799,1.5703460188585443,1.1649900207213846,-1.1327050573844177,0.30148592567161836,0.33369126307640595,-1.2513016080325425,-1.3740431730549505,0.6582137883417819,-0.3898943074688618,0.36245937168862513,0.47462451095442765,-2.077087683940318,-0.03158422387106401,0.3412955156808295,0.4860490073614476,-0.42109861637466595,1.2486711513798276,0.6810153620726337,0.21709393315480308,-0.7575392105538545,0.12553478007756078,0.33217504596304537,0.5983073107261221,-2.2161251644675217,0.5324550065592877,-0.5973104555594871],\"yaxis\":\"y7\",\"type\":\"scatter\"},{\"line\":{\"color\":\"rgba(128, 128, 128, 1.0)\",\"dash\":\"solid\",\"shape\":\"linear\",\"width\":1.3},\"marker\":{\"size\":2,\"symbol\":\"circle\"},\"mode\":\"markers\",\"name\":\"B\",\"text\":\"\",\"x\":[0.687400710884295,1.292329185879667,-1.4451549140024476,2.4212652941715733,-0.5990245298654623,-0.14312718252640605,1.0341838284171945,0.9168533072372855,-0.5239881601798092,-3.4614694117290363,-0.547162749247495,-0.2954205384119188,-0.6762104379883643,0.17942177831626702,-0.446784254558779,3.152472667088559,0.05366938922946379,0.2925464108958577,-0.9260514076904133,0.8666434042745934,-0.6788493093657786,-0.928452920672083,0.7490743212798445,-0.9910217690371543,-0.5099780597741604,-0.7729878731471892,0.1261095837182957,-2.173997852739537,0.13380187326526857,-0.03383492214686325,-1.0540827763670386,0.5722797189713448,-0.10047293394388912,-1.4115711035698897,-1.123541015090475,-0.7485896007773215,1.1621777066193428,0.31034667529675075,-0.5478548465244522,1.1053754476640354,0.6724786658427715,1.417592390164073,0.1763335278094863,-0.4759008789741875,-0.529021806162886,-0.8780406205670047,-0.4670899375138714,0.12021124416462858,-1.1638589701666413,-0.2718286124947359,0.4944119559453498,0.612862017516745,2.0620936369339837,-0.5498957432666844,0.21091506283573025,0.8960109115496354,-0.08446203183891707,1.495063178165726,0.7921963932506242,0.9706531868794951,0.5442650593702897,-0.06695152379828094,-0.031671739135709996,-0.3282615102156579,-0.8570800998138681,-1.1631087687318071,1.319037497800597,0.010885976841033509,-0.16632739692236823,0.2784643719376399,-0.06477373031704924,-0.8110155425857067,0.46462041479311506,-0.29344170889783944,0.9418749445032143,-0.9145351980427542,1.5989467259671475,-0.3123143304487573,-1.7312174953372057,-0.9701391400874365,-1.263680840458927,1.6221377826941585,-1.929638890370037,-0.00807621149389771,-1.1116686536071216,-1.3142471793168062,-0.2677781320562748,-0.029451177327852074,0.6886728047322884,0.6228839741607755,1.048817636224244,-1.2720622979819218,-0.16208924811986883,-0.3442025567829724,0.05865786141098669,0.33630770910042346,-0.021898720384863044,-0.9402976316913524,-0.7092448432651228,0.6306365246150188],\"xaxis\":\"x8\",\"y\":[0.7729328845998267,-0.2950040513273714,0.09520908744315867,1.441071495404537,0.10166534711461274,-0.8693316971690324,0.979562167355205,-0.8654708786854032,-0.2870011317161067,-1.5300959310749473,0.8368972285896891,1.8496175673476036,-1.2477780681015862,0.4215338133150978,0.4917663948454245,0.9781736006519686,0.9347198820348527,-0.36365393310839655,-1.5200057839806334,-0.8670452957430184,-0.788241493679069,-0.5477438420825249,0.04336683059551982,0.18091119066448572,0.10213061681864892,0.9561820138080441,0.6360305156843183,0.8148193265235719,-0.7243357866209025,-1.7094201272778604,0.7049069031486167,-1.6929017104546837,-1.351434770601901,0.5400726790334075,-0.9089948988816058,0.6865655449142279,0.07603430008983052,-0.9119736366526259,1.1017361476428449,0.3310632043893103,-0.668250051067514,0.485161547116454,0.3774165281634454,1.2433965952711497,-0.8535662136692201,0.9651085753827604,-0.12577055249933197,0.2315793282956873,1.094271953610481,0.45475229561547326,-0.1926373637868699,-0.32561960234374177,-2.1906627063088835,2.337836470426464,-0.8169000173085379,-1.0567080408048166,-2.137216564597913,2.8063834954575566,-0.9480034566417574,0.07441797086764544,-1.9894922466089366,1.6497669533081567,-0.12560768412915277,1.0167088823279065,1.2651059424362803,1.218624446338318,-2.5148357286791554,-0.6143555014834721,-2.1475638559430856,-0.9632014475924506,0.14276846625931602,0.35315951521897926,-0.4451647014676167,-1.344538665604799,1.5703460188585443,1.1649900207213846,-1.1327050573844177,0.30148592567161836,0.33369126307640595,-1.2513016080325425,-1.3740431730549505,0.6582137883417819,-0.3898943074688618,0.36245937168862513,0.47462451095442765,-2.077087683940318,-0.03158422387106401,0.3412955156808295,0.4860490073614476,-0.42109861637466595,1.2486711513798276,0.6810153620726337,0.21709393315480308,-0.7575392105538545,0.12553478007756078,0.33217504596304537,0.5983073107261221,-2.2161251644675217,0.5324550065592877,-0.5973104555594871],\"yaxis\":\"y8\",\"type\":\"scatter\"},{\"line\":{\"color\":\"rgba(128, 128, 128, 1.0)\",\"dash\":\"solid\",\"shape\":\"linear\",\"width\":1.3},\"marker\":{\"size\":2,\"symbol\":\"circle\"},\"mode\":\"markers\",\"name\":\"C\",\"text\":\"\",\"x\":[0.2249574122485187,-0.14261442417502293,-0.2550693898234665,0.685612907940947,1.6696377029416647,-0.6276630448948421,-0.3675932197581956,0.8601065321997801,0.3029584160575629,1.4871959331592248,-1.1402052303681383,-0.10363052533320498,-1.227114249882769,1.0517098065952517,0.18111386197406235,-0.6224553189786596,-1.1914704485957508,0.6505610670402162,-1.0311546827111027,-0.3220045091127159,0.6201846864041929,-0.3136670563097545,0.3122077103270754,0.9019905430898144,0.7314170684298197,-0.840305166395734,-1.1196562155436376,0.22835011296288307,-0.21548374150626115,-0.07777464559266904,-2.197928658415042,-0.28835600690837554,-0.12235519259126607,-1.3580351035282827,0.2132605551579515,0.46070651683040154,0.7963444611084912,0.1094805824159229,-0.6102506779738078,1.1329129967541405,-0.5065961707940483,0.3745901537387485,0.7946114378721225,1.1465167276749233,-2.0553288125734057,0.10100751854400598,0.6645436919180743,-2.412988684855048,0.5122070039497443,1.4030992357915617,0.24913590252340764,-1.4870597006201085,-1.3661838507640083,-0.1519904820928337,0.4088874943908349,0.28921834149417314,-0.5477050903562732,-1.00334077408219,-1.9782068285772612,-1.559539636679243,1.1878319779769697,-0.5514926543266923,-1.239928895872855,1.361883671248535,0.6178324441029704,0.9377043609805684,0.403641750993754,-1.9264422169236457,-0.39329684106780577,-0.18962422021135977,0.4309102642418277,0.13416483620471115,-1.8475271675664917,1.276656958413032,0.5536066672322233,0.7451250480407975,-1.1885494428288137,0.808597310965037,-0.049207908473800556,0.1822632839586508,1.09853989816661,-1.9058038090611038,-0.538794190231828,0.28458672788291245,-1.7107356167627255,0.35184119723705537,-1.3012008916908282,-0.9108700963300996,-0.838242587698326,1.5118378297958461,-0.525715085033998,-0.5280227761153535,1.5009480547986114,-1.1882945291476716,-1.2722134708587935,-0.25068439424681555,-1.0076209780516017,-0.742483026883699,-0.5971237711770452,-0.06812184219397695],\"xaxis\":\"x9\",\"y\":[-1.407703631343671,0.5140329231436118,1.3131158131992584,-2.212928852152698,0.5173563987333515,0.34706084032851675,-0.5929210703964634,0.13813863792706588,0.7003144907738252,0.8797191494749702,0.29137863584603657,0.412210553403753,-0.7917919162256702,0.23380419921599765,0.7006363554579161,-0.19401780265160595,0.0871652750797159,0.12109102906606106,-0.4856774751621975,-0.33503656199224263,0.989305797207836,0.15082348550530683,0.4704807568828661,1.0831894299838418,0.3586295958501063,0.1915945076598596,-1.5022291531005783,1.4038913461155493,-2.3201172843085103,-0.7850084055935527,1.6416898072599189,0.8740064232601772,0.5855214404280811,0.14953267259073877,-0.7168148311985317,-0.5110533822942064,-0.6965664504104578,-0.19578700620630154,0.14780867769351586,1.1463301563682267,-0.45084299243755643,-1.432352328786134,-2.0578758871075524,-0.6875762164963011,0.5095140262897756,-0.13186026363396183,-0.13804039155615058,0.41595434931612085,0.39940419070713673,0.1720714416492082,1.2358173790766753,0.2564077760910809,1.1783928031922872,-0.32641311365649067,0.23858826873596783,-0.14203601038533445,-0.3645621499967152,0.18016270082759867,-0.6928018108236371,-2.104313369439946,-0.3633633809793382,0.3020055011942023,0.7122464940533162,-0.8554495413250128,-0.01817109422354125,-1.0072561535251414,0.007045125592761505,-0.8047034046048044,-0.8133706531485041,-0.026216939791767715,-1.8034397312235693,0.13761848980876704,2.2825978897893187,0.0944423889260254,-0.6335379203958453,0.5293411405886458,-1.8191640037863301,0.26903546964548747,1.2290653193686019,-0.05392103233269685,-1.021614999145513,0.2492397807664952,0.5700615041724898,0.8501408763354436,-0.3152259965012949,2.080110221272923,-0.6302027942250683,0.8567247070030546,0.3127734152662034,1.2741981219816176,0.9127376031649637,0.5166083951090601,0.2475442944341499,-0.4239327618190913,-1.2485199555196693,0.47098675354359276,-0.6394284322963346,-2.755316239582588,0.9120545301067184,-0.7607109933566386],\"yaxis\":\"y9\",\"type\":\"scatter\"},{\"line\":{\"color\":\"rgba(128, 128, 128, 1.0)\",\"dash\":\"solid\",\"shape\":\"linear\",\"width\":1.3},\"marker\":{\"size\":2,\"symbol\":\"circle\"},\"mode\":\"markers\",\"name\":\"C\",\"text\":\"\",\"x\":[0.7729328845998267,-0.2950040513273714,0.09520908744315867,1.441071495404537,0.10166534711461274,-0.8693316971690324,0.979562167355205,-0.8654708786854032,-0.2870011317161067,-1.5300959310749473,0.8368972285896891,1.8496175673476036,-1.2477780681015862,0.4215338133150978,0.4917663948454245,0.9781736006519686,0.9347198820348527,-0.36365393310839655,-1.5200057839806334,-0.8670452957430184,-0.788241493679069,-0.5477438420825249,0.04336683059551982,0.18091119066448572,0.10213061681864892,0.9561820138080441,0.6360305156843183,0.8148193265235719,-0.7243357866209025,-1.7094201272778604,0.7049069031486167,-1.6929017104546837,-1.351434770601901,0.5400726790334075,-0.9089948988816058,0.6865655449142279,0.07603430008983052,-0.9119736366526259,1.1017361476428449,0.3310632043893103,-0.668250051067514,0.485161547116454,0.3774165281634454,1.2433965952711497,-0.8535662136692201,0.9651085753827604,-0.12577055249933197,0.2315793282956873,1.094271953610481,0.45475229561547326,-0.1926373637868699,-0.32561960234374177,-2.1906627063088835,2.337836470426464,-0.8169000173085379,-1.0567080408048166,-2.137216564597913,2.8063834954575566,-0.9480034566417574,0.07441797086764544,-1.9894922466089366,1.6497669533081567,-0.12560768412915277,1.0167088823279065,1.2651059424362803,1.218624446338318,-2.5148357286791554,-0.6143555014834721,-2.1475638559430856,-0.9632014475924506,0.14276846625931602,0.35315951521897926,-0.4451647014676167,-1.344538665604799,1.5703460188585443,1.1649900207213846,-1.1327050573844177,0.30148592567161836,0.33369126307640595,-1.2513016080325425,-1.3740431730549505,0.6582137883417819,-0.3898943074688618,0.36245937168862513,0.47462451095442765,-2.077087683940318,-0.03158422387106401,0.3412955156808295,0.4860490073614476,-0.42109861637466595,1.2486711513798276,0.6810153620726337,0.21709393315480308,-0.7575392105538545,0.12553478007756078,0.33217504596304537,0.5983073107261221,-2.2161251644675217,0.5324550065592877,-0.5973104555594871],\"xaxis\":\"x10\",\"y\":[-1.407703631343671,0.5140329231436118,1.3131158131992584,-2.212928852152698,0.5173563987333515,0.34706084032851675,-0.5929210703964634,0.13813863792706588,0.7003144907738252,0.8797191494749702,0.29137863584603657,0.412210553403753,-0.7917919162256702,0.23380419921599765,0.7006363554579161,-0.19401780265160595,0.0871652750797159,0.12109102906606106,-0.4856774751621975,-0.33503656199224263,0.989305797207836,0.15082348550530683,0.4704807568828661,1.0831894299838418,0.3586295958501063,0.1915945076598596,-1.5022291531005783,1.4038913461155493,-2.3201172843085103,-0.7850084055935527,1.6416898072599189,0.8740064232601772,0.5855214404280811,0.14953267259073877,-0.7168148311985317,-0.5110533822942064,-0.6965664504104578,-0.19578700620630154,0.14780867769351586,1.1463301563682267,-0.45084299243755643,-1.432352328786134,-2.0578758871075524,-0.6875762164963011,0.5095140262897756,-0.13186026363396183,-0.13804039155615058,0.41595434931612085,0.39940419070713673,0.1720714416492082,1.2358173790766753,0.2564077760910809,1.1783928031922872,-0.32641311365649067,0.23858826873596783,-0.14203601038533445,-0.3645621499967152,0.18016270082759867,-0.6928018108236371,-2.104313369439946,-0.3633633809793382,0.3020055011942023,0.7122464940533162,-0.8554495413250128,-0.01817109422354125,-1.0072561535251414,0.007045125592761505,-0.8047034046048044,-0.8133706531485041,-0.026216939791767715,-1.8034397312235693,0.13761848980876704,2.2825978897893187,0.0944423889260254,-0.6335379203958453,0.5293411405886458,-1.8191640037863301,0.26903546964548747,1.2290653193686019,-0.05392103233269685,-1.021614999145513,0.2492397807664952,0.5700615041724898,0.8501408763354436,-0.3152259965012949,2.080110221272923,-0.6302027942250683,0.8567247070030546,0.3127734152662034,1.2741981219816176,0.9127376031649637,0.5166083951090601,0.2475442944341499,-0.4239327618190913,-1.2485199555196693,0.47098675354359276,-0.6394284322963346,-2.755316239582588,0.9120545301067184,-0.7607109933566386],\"yaxis\":\"y10\",\"type\":\"scatter\"},{\"histfunc\":\"count\",\"histnorm\":\"\",\"marker\":{\"color\":\"rgba(50, 171, 96, 1.0)\",\"line\":{\"color\":\"#4D5663\",\"width\":1.3}},\"name\":\"C\",\"nbinsx\":10,\"opacity\":0.8,\"orientation\":\"v\",\"x\":[-1.407703631343671,0.5140329231436118,1.3131158131992584,-2.212928852152698,0.5173563987333515,0.34706084032851675,-0.5929210703964634,0.13813863792706588,0.7003144907738252,0.8797191494749702,0.29137863584603657,0.412210553403753,-0.7917919162256702,0.23380419921599765,0.7006363554579161,-0.19401780265160595,0.0871652750797159,0.12109102906606106,-0.4856774751621975,-0.33503656199224263,0.989305797207836,0.15082348550530683,0.4704807568828661,1.0831894299838418,0.3586295958501063,0.1915945076598596,-1.5022291531005783,1.4038913461155493,-2.3201172843085103,-0.7850084055935527,1.6416898072599189,0.8740064232601772,0.5855214404280811,0.14953267259073877,-0.7168148311985317,-0.5110533822942064,-0.6965664504104578,-0.19578700620630154,0.14780867769351586,1.1463301563682267,-0.45084299243755643,-1.432352328786134,-2.0578758871075524,-0.6875762164963011,0.5095140262897756,-0.13186026363396183,-0.13804039155615058,0.41595434931612085,0.39940419070713673,0.1720714416492082,1.2358173790766753,0.2564077760910809,1.1783928031922872,-0.32641311365649067,0.23858826873596783,-0.14203601038533445,-0.3645621499967152,0.18016270082759867,-0.6928018108236371,-2.104313369439946,-0.3633633809793382,0.3020055011942023,0.7122464940533162,-0.8554495413250128,-0.01817109422354125,-1.0072561535251414,0.007045125592761505,-0.8047034046048044,-0.8133706531485041,-0.026216939791767715,-1.8034397312235693,0.13761848980876704,2.2825978897893187,0.0944423889260254,-0.6335379203958453,0.5293411405886458,-1.8191640037863301,0.26903546964548747,1.2290653193686019,-0.05392103233269685,-1.021614999145513,0.2492397807664952,0.5700615041724898,0.8501408763354436,-0.3152259965012949,2.080110221272923,-0.6302027942250683,0.8567247070030546,0.3127734152662034,1.2741981219816176,0.9127376031649637,0.5166083951090601,0.2475442944341499,-0.4239327618190913,-1.2485199555196693,0.47098675354359276,-0.6394284322963346,-2.755316239582588,0.9120545301067184,-0.7607109933566386],\"xaxis\":\"x11\",\"yaxis\":\"y11\",\"type\":\"histogram\"},{\"line\":{\"color\":\"rgba(128, 128, 128, 1.0)\",\"dash\":\"solid\",\"shape\":\"linear\",\"width\":1.3},\"marker\":{\"size\":2,\"symbol\":\"circle\"},\"mode\":\"markers\",\"name\":\"C\",\"text\":\"\",\"x\":[0.687400710884295,1.292329185879667,-1.4451549140024476,2.4212652941715733,-0.5990245298654623,-0.14312718252640605,1.0341838284171945,0.9168533072372855,-0.5239881601798092,-3.4614694117290363,-0.547162749247495,-0.2954205384119188,-0.6762104379883643,0.17942177831626702,-0.446784254558779,3.152472667088559,0.05366938922946379,0.2925464108958577,-0.9260514076904133,0.8666434042745934,-0.6788493093657786,-0.928452920672083,0.7490743212798445,-0.9910217690371543,-0.5099780597741604,-0.7729878731471892,0.1261095837182957,-2.173997852739537,0.13380187326526857,-0.03383492214686325,-1.0540827763670386,0.5722797189713448,-0.10047293394388912,-1.4115711035698897,-1.123541015090475,-0.7485896007773215,1.1621777066193428,0.31034667529675075,-0.5478548465244522,1.1053754476640354,0.6724786658427715,1.417592390164073,0.1763335278094863,-0.4759008789741875,-0.529021806162886,-0.8780406205670047,-0.4670899375138714,0.12021124416462858,-1.1638589701666413,-0.2718286124947359,0.4944119559453498,0.612862017516745,2.0620936369339837,-0.5498957432666844,0.21091506283573025,0.8960109115496354,-0.08446203183891707,1.495063178165726,0.7921963932506242,0.9706531868794951,0.5442650593702897,-0.06695152379828094,-0.031671739135709996,-0.3282615102156579,-0.8570800998138681,-1.1631087687318071,1.319037497800597,0.010885976841033509,-0.16632739692236823,0.2784643719376399,-0.06477373031704924,-0.8110155425857067,0.46462041479311506,-0.29344170889783944,0.9418749445032143,-0.9145351980427542,1.5989467259671475,-0.3123143304487573,-1.7312174953372057,-0.9701391400874365,-1.263680840458927,1.6221377826941585,-1.929638890370037,-0.00807621149389771,-1.1116686536071216,-1.3142471793168062,-0.2677781320562748,-0.029451177327852074,0.6886728047322884,0.6228839741607755,1.048817636224244,-1.2720622979819218,-0.16208924811986883,-0.3442025567829724,0.05865786141098669,0.33630770910042346,-0.021898720384863044,-0.9402976316913524,-0.7092448432651228,0.6306365246150188],\"xaxis\":\"x12\",\"y\":[-1.407703631343671,0.5140329231436118,1.3131158131992584,-2.212928852152698,0.5173563987333515,0.34706084032851675,-0.5929210703964634,0.13813863792706588,0.7003144907738252,0.8797191494749702,0.29137863584603657,0.412210553403753,-0.7917919162256702,0.23380419921599765,0.7006363554579161,-0.19401780265160595,0.0871652750797159,0.12109102906606106,-0.4856774751621975,-0.33503656199224263,0.989305797207836,0.15082348550530683,0.4704807568828661,1.0831894299838418,0.3586295958501063,0.1915945076598596,-1.5022291531005783,1.4038913461155493,-2.3201172843085103,-0.7850084055935527,1.6416898072599189,0.8740064232601772,0.5855214404280811,0.14953267259073877,-0.7168148311985317,-0.5110533822942064,-0.6965664504104578,-0.19578700620630154,0.14780867769351586,1.1463301563682267,-0.45084299243755643,-1.432352328786134,-2.0578758871075524,-0.6875762164963011,0.5095140262897756,-0.13186026363396183,-0.13804039155615058,0.41595434931612085,0.39940419070713673,0.1720714416492082,1.2358173790766753,0.2564077760910809,1.1783928031922872,-0.32641311365649067,0.23858826873596783,-0.14203601038533445,-0.3645621499967152,0.18016270082759867,-0.6928018108236371,-2.104313369439946,-0.3633633809793382,0.3020055011942023,0.7122464940533162,-0.8554495413250128,-0.01817109422354125,-1.0072561535251414,0.007045125592761505,-0.8047034046048044,-0.8133706531485041,-0.026216939791767715,-1.8034397312235693,0.13761848980876704,2.2825978897893187,0.0944423889260254,-0.6335379203958453,0.5293411405886458,-1.8191640037863301,0.26903546964548747,1.2290653193686019,-0.05392103233269685,-1.021614999145513,0.2492397807664952,0.5700615041724898,0.8501408763354436,-0.3152259965012949,2.080110221272923,-0.6302027942250683,0.8567247070030546,0.3127734152662034,1.2741981219816176,0.9127376031649637,0.5166083951090601,0.2475442944341499,-0.4239327618190913,-1.2485199555196693,0.47098675354359276,-0.6394284322963346,-2.755316239582588,0.9120545301067184,-0.7607109933566386],\"yaxis\":\"y12\",\"type\":\"scatter\"},{\"line\":{\"color\":\"rgba(128, 128, 128, 1.0)\",\"dash\":\"solid\",\"shape\":\"linear\",\"width\":1.3},\"marker\":{\"size\":2,\"symbol\":\"circle\"},\"mode\":\"markers\",\"name\":\"D\",\"text\":\"\",\"x\":[0.2249574122485187,-0.14261442417502293,-0.2550693898234665,0.685612907940947,1.6696377029416647,-0.6276630448948421,-0.3675932197581956,0.8601065321997801,0.3029584160575629,1.4871959331592248,-1.1402052303681383,-0.10363052533320498,-1.227114249882769,1.0517098065952517,0.18111386197406235,-0.6224553189786596,-1.1914704485957508,0.6505610670402162,-1.0311546827111027,-0.3220045091127159,0.6201846864041929,-0.3136670563097545,0.3122077103270754,0.9019905430898144,0.7314170684298197,-0.840305166395734,-1.1196562155436376,0.22835011296288307,-0.21548374150626115,-0.07777464559266904,-2.197928658415042,-0.28835600690837554,-0.12235519259126607,-1.3580351035282827,0.2132605551579515,0.46070651683040154,0.7963444611084912,0.1094805824159229,-0.6102506779738078,1.1329129967541405,-0.5065961707940483,0.3745901537387485,0.7946114378721225,1.1465167276749233,-2.0553288125734057,0.10100751854400598,0.6645436919180743,-2.412988684855048,0.5122070039497443,1.4030992357915617,0.24913590252340764,-1.4870597006201085,-1.3661838507640083,-0.1519904820928337,0.4088874943908349,0.28921834149417314,-0.5477050903562732,-1.00334077408219,-1.9782068285772612,-1.559539636679243,1.1878319779769697,-0.5514926543266923,-1.239928895872855,1.361883671248535,0.6178324441029704,0.9377043609805684,0.403641750993754,-1.9264422169236457,-0.39329684106780577,-0.18962422021135977,0.4309102642418277,0.13416483620471115,-1.8475271675664917,1.276656958413032,0.5536066672322233,0.7451250480407975,-1.1885494428288137,0.808597310965037,-0.049207908473800556,0.1822632839586508,1.09853989816661,-1.9058038090611038,-0.538794190231828,0.28458672788291245,-1.7107356167627255,0.35184119723705537,-1.3012008916908282,-0.9108700963300996,-0.838242587698326,1.5118378297958461,-0.525715085033998,-0.5280227761153535,1.5009480547986114,-1.1882945291476716,-1.2722134708587935,-0.25068439424681555,-1.0076209780516017,-0.742483026883699,-0.5971237711770452,-0.06812184219397695],\"xaxis\":\"x13\",\"y\":[0.687400710884295,1.292329185879667,-1.4451549140024476,2.4212652941715733,-0.5990245298654623,-0.14312718252640605,1.0341838284171945,0.9168533072372855,-0.5239881601798092,-3.4614694117290363,-0.547162749247495,-0.2954205384119188,-0.6762104379883643,0.17942177831626702,-0.446784254558779,3.152472667088559,0.05366938922946379,0.2925464108958577,-0.9260514076904133,0.8666434042745934,-0.6788493093657786,-0.928452920672083,0.7490743212798445,-0.9910217690371543,-0.5099780597741604,-0.7729878731471892,0.1261095837182957,-2.173997852739537,0.13380187326526857,-0.03383492214686325,-1.0540827763670386,0.5722797189713448,-0.10047293394388912,-1.4115711035698897,-1.123541015090475,-0.7485896007773215,1.1621777066193428,0.31034667529675075,-0.5478548465244522,1.1053754476640354,0.6724786658427715,1.417592390164073,0.1763335278094863,-0.4759008789741875,-0.529021806162886,-0.8780406205670047,-0.4670899375138714,0.12021124416462858,-1.1638589701666413,-0.2718286124947359,0.4944119559453498,0.612862017516745,2.0620936369339837,-0.5498957432666844,0.21091506283573025,0.8960109115496354,-0.08446203183891707,1.495063178165726,0.7921963932506242,0.9706531868794951,0.5442650593702897,-0.06695152379828094,-0.031671739135709996,-0.3282615102156579,-0.8570800998138681,-1.1631087687318071,1.319037497800597,0.010885976841033509,-0.16632739692236823,0.2784643719376399,-0.06477373031704924,-0.8110155425857067,0.46462041479311506,-0.29344170889783944,0.9418749445032143,-0.9145351980427542,1.5989467259671475,-0.3123143304487573,-1.7312174953372057,-0.9701391400874365,-1.263680840458927,1.6221377826941585,-1.929638890370037,-0.00807621149389771,-1.1116686536071216,-1.3142471793168062,-0.2677781320562748,-0.029451177327852074,0.6886728047322884,0.6228839741607755,1.048817636224244,-1.2720622979819218,-0.16208924811986883,-0.3442025567829724,0.05865786141098669,0.33630770910042346,-0.021898720384863044,-0.9402976316913524,-0.7092448432651228,0.6306365246150188],\"yaxis\":\"y13\",\"type\":\"scatter\"},{\"line\":{\"color\":\"rgba(128, 128, 128, 1.0)\",\"dash\":\"solid\",\"shape\":\"linear\",\"width\":1.3},\"marker\":{\"size\":2,\"symbol\":\"circle\"},\"mode\":\"markers\",\"name\":\"D\",\"text\":\"\",\"x\":[0.7729328845998267,-0.2950040513273714,0.09520908744315867,1.441071495404537,0.10166534711461274,-0.8693316971690324,0.979562167355205,-0.8654708786854032,-0.2870011317161067,-1.5300959310749473,0.8368972285896891,1.8496175673476036,-1.2477780681015862,0.4215338133150978,0.4917663948454245,0.9781736006519686,0.9347198820348527,-0.36365393310839655,-1.5200057839806334,-0.8670452957430184,-0.788241493679069,-0.5477438420825249,0.04336683059551982,0.18091119066448572,0.10213061681864892,0.9561820138080441,0.6360305156843183,0.8148193265235719,-0.7243357866209025,-1.7094201272778604,0.7049069031486167,-1.6929017104546837,-1.351434770601901,0.5400726790334075,-0.9089948988816058,0.6865655449142279,0.07603430008983052,-0.9119736366526259,1.1017361476428449,0.3310632043893103,-0.668250051067514,0.485161547116454,0.3774165281634454,1.2433965952711497,-0.8535662136692201,0.9651085753827604,-0.12577055249933197,0.2315793282956873,1.094271953610481,0.45475229561547326,-0.1926373637868699,-0.32561960234374177,-2.1906627063088835,2.337836470426464,-0.8169000173085379,-1.0567080408048166,-2.137216564597913,2.8063834954575566,-0.9480034566417574,0.07441797086764544,-1.9894922466089366,1.6497669533081567,-0.12560768412915277,1.0167088823279065,1.2651059424362803,1.218624446338318,-2.5148357286791554,-0.6143555014834721,-2.1475638559430856,-0.9632014475924506,0.14276846625931602,0.35315951521897926,-0.4451647014676167,-1.344538665604799,1.5703460188585443,1.1649900207213846,-1.1327050573844177,0.30148592567161836,0.33369126307640595,-1.2513016080325425,-1.3740431730549505,0.6582137883417819,-0.3898943074688618,0.36245937168862513,0.47462451095442765,-2.077087683940318,-0.03158422387106401,0.3412955156808295,0.4860490073614476,-0.42109861637466595,1.2486711513798276,0.6810153620726337,0.21709393315480308,-0.7575392105538545,0.12553478007756078,0.33217504596304537,0.5983073107261221,-2.2161251644675217,0.5324550065592877,-0.5973104555594871],\"xaxis\":\"x14\",\"y\":[0.687400710884295,1.292329185879667,-1.4451549140024476,2.4212652941715733,-0.5990245298654623,-0.14312718252640605,1.0341838284171945,0.9168533072372855,-0.5239881601798092,-3.4614694117290363,-0.547162749247495,-0.2954205384119188,-0.6762104379883643,0.17942177831626702,-0.446784254558779,3.152472667088559,0.05366938922946379,0.2925464108958577,-0.9260514076904133,0.8666434042745934,-0.6788493093657786,-0.928452920672083,0.7490743212798445,-0.9910217690371543,-0.5099780597741604,-0.7729878731471892,0.1261095837182957,-2.173997852739537,0.13380187326526857,-0.03383492214686325,-1.0540827763670386,0.5722797189713448,-0.10047293394388912,-1.4115711035698897,-1.123541015090475,-0.7485896007773215,1.1621777066193428,0.31034667529675075,-0.5478548465244522,1.1053754476640354,0.6724786658427715,1.417592390164073,0.1763335278094863,-0.4759008789741875,-0.529021806162886,-0.8780406205670047,-0.4670899375138714,0.12021124416462858,-1.1638589701666413,-0.2718286124947359,0.4944119559453498,0.612862017516745,2.0620936369339837,-0.5498957432666844,0.21091506283573025,0.8960109115496354,-0.08446203183891707,1.495063178165726,0.7921963932506242,0.9706531868794951,0.5442650593702897,-0.06695152379828094,-0.031671739135709996,-0.3282615102156579,-0.8570800998138681,-1.1631087687318071,1.319037497800597,0.010885976841033509,-0.16632739692236823,0.2784643719376399,-0.06477373031704924,-0.8110155425857067,0.46462041479311506,-0.29344170889783944,0.9418749445032143,-0.9145351980427542,1.5989467259671475,-0.3123143304487573,-1.7312174953372057,-0.9701391400874365,-1.263680840458927,1.6221377826941585,-1.929638890370037,-0.00807621149389771,-1.1116686536071216,-1.3142471793168062,-0.2677781320562748,-0.029451177327852074,0.6886728047322884,0.6228839741607755,1.048817636224244,-1.2720622979819218,-0.16208924811986883,-0.3442025567829724,0.05865786141098669,0.33630770910042346,-0.021898720384863044,-0.9402976316913524,-0.7092448432651228,0.6306365246150188],\"yaxis\":\"y14\",\"type\":\"scatter\"},{\"line\":{\"color\":\"rgba(128, 128, 128, 1.0)\",\"dash\":\"solid\",\"shape\":\"linear\",\"width\":1.3},\"marker\":{\"size\":2,\"symbol\":\"circle\"},\"mode\":\"markers\",\"name\":\"D\",\"text\":\"\",\"x\":[-1.407703631343671,0.5140329231436118,1.3131158131992584,-2.212928852152698,0.5173563987333515,0.34706084032851675,-0.5929210703964634,0.13813863792706588,0.7003144907738252,0.8797191494749702,0.29137863584603657,0.412210553403753,-0.7917919162256702,0.23380419921599765,0.7006363554579161,-0.19401780265160595,0.0871652750797159,0.12109102906606106,-0.4856774751621975,-0.33503656199224263,0.989305797207836,0.15082348550530683,0.4704807568828661,1.0831894299838418,0.3586295958501063,0.1915945076598596,-1.5022291531005783,1.4038913461155493,-2.3201172843085103,-0.7850084055935527,1.6416898072599189,0.8740064232601772,0.5855214404280811,0.14953267259073877,-0.7168148311985317,-0.5110533822942064,-0.6965664504104578,-0.19578700620630154,0.14780867769351586,1.1463301563682267,-0.45084299243755643,-1.432352328786134,-2.0578758871075524,-0.6875762164963011,0.5095140262897756,-0.13186026363396183,-0.13804039155615058,0.41595434931612085,0.39940419070713673,0.1720714416492082,1.2358173790766753,0.2564077760910809,1.1783928031922872,-0.32641311365649067,0.23858826873596783,-0.14203601038533445,-0.3645621499967152,0.18016270082759867,-0.6928018108236371,-2.104313369439946,-0.3633633809793382,0.3020055011942023,0.7122464940533162,-0.8554495413250128,-0.01817109422354125,-1.0072561535251414,0.007045125592761505,-0.8047034046048044,-0.8133706531485041,-0.026216939791767715,-1.8034397312235693,0.13761848980876704,2.2825978897893187,0.0944423889260254,-0.6335379203958453,0.5293411405886458,-1.8191640037863301,0.26903546964548747,1.2290653193686019,-0.05392103233269685,-1.021614999145513,0.2492397807664952,0.5700615041724898,0.8501408763354436,-0.3152259965012949,2.080110221272923,-0.6302027942250683,0.8567247070030546,0.3127734152662034,1.2741981219816176,0.9127376031649637,0.5166083951090601,0.2475442944341499,-0.4239327618190913,-1.2485199555196693,0.47098675354359276,-0.6394284322963346,-2.755316239582588,0.9120545301067184,-0.7607109933566386],\"xaxis\":\"x15\",\"y\":[0.687400710884295,1.292329185879667,-1.4451549140024476,2.4212652941715733,-0.5990245298654623,-0.14312718252640605,1.0341838284171945,0.9168533072372855,-0.5239881601798092,-3.4614694117290363,-0.547162749247495,-0.2954205384119188,-0.6762104379883643,0.17942177831626702,-0.446784254558779,3.152472667088559,0.05366938922946379,0.2925464108958577,-0.9260514076904133,0.8666434042745934,-0.6788493093657786,-0.928452920672083,0.7490743212798445,-0.9910217690371543,-0.5099780597741604,-0.7729878731471892,0.1261095837182957,-2.173997852739537,0.13380187326526857,-0.03383492214686325,-1.0540827763670386,0.5722797189713448,-0.10047293394388912,-1.4115711035698897,-1.123541015090475,-0.7485896007773215,1.1621777066193428,0.31034667529675075,-0.5478548465244522,1.1053754476640354,0.6724786658427715,1.417592390164073,0.1763335278094863,-0.4759008789741875,-0.529021806162886,-0.8780406205670047,-0.4670899375138714,0.12021124416462858,-1.1638589701666413,-0.2718286124947359,0.4944119559453498,0.612862017516745,2.0620936369339837,-0.5498957432666844,0.21091506283573025,0.8960109115496354,-0.08446203183891707,1.495063178165726,0.7921963932506242,0.9706531868794951,0.5442650593702897,-0.06695152379828094,-0.031671739135709996,-0.3282615102156579,-0.8570800998138681,-1.1631087687318071,1.319037497800597,0.010885976841033509,-0.16632739692236823,0.2784643719376399,-0.06477373031704924,-0.8110155425857067,0.46462041479311506,-0.29344170889783944,0.9418749445032143,-0.9145351980427542,1.5989467259671475,-0.3123143304487573,-1.7312174953372057,-0.9701391400874365,-1.263680840458927,1.6221377826941585,-1.929638890370037,-0.00807621149389771,-1.1116686536071216,-1.3142471793168062,-0.2677781320562748,-0.029451177327852074,0.6886728047322884,0.6228839741607755,1.048817636224244,-1.2720622979819218,-0.16208924811986883,-0.3442025567829724,0.05865786141098669,0.33630770910042346,-0.021898720384863044,-0.9402976316913524,-0.7092448432651228,0.6306365246150188],\"yaxis\":\"y15\",\"type\":\"scatter\"},{\"histfunc\":\"count\",\"histnorm\":\"\",\"marker\":{\"color\":\"rgba(128, 0, 128, 1.0)\",\"line\":{\"color\":\"#4D5663\",\"width\":1.3}},\"name\":\"D\",\"nbinsx\":10,\"opacity\":0.8,\"orientation\":\"v\",\"x\":[0.687400710884295,1.292329185879667,-1.4451549140024476,2.4212652941715733,-0.5990245298654623,-0.14312718252640605,1.0341838284171945,0.9168533072372855,-0.5239881601798092,-3.4614694117290363,-0.547162749247495,-0.2954205384119188,-0.6762104379883643,0.17942177831626702,-0.446784254558779,3.152472667088559,0.05366938922946379,0.2925464108958577,-0.9260514076904133,0.8666434042745934,-0.6788493093657786,-0.928452920672083,0.7490743212798445,-0.9910217690371543,-0.5099780597741604,-0.7729878731471892,0.1261095837182957,-2.173997852739537,0.13380187326526857,-0.03383492214686325,-1.0540827763670386,0.5722797189713448,-0.10047293394388912,-1.4115711035698897,-1.123541015090475,-0.7485896007773215,1.1621777066193428,0.31034667529675075,-0.5478548465244522,1.1053754476640354,0.6724786658427715,1.417592390164073,0.1763335278094863,-0.4759008789741875,-0.529021806162886,-0.8780406205670047,-0.4670899375138714,0.12021124416462858,-1.1638589701666413,-0.2718286124947359,0.4944119559453498,0.612862017516745,2.0620936369339837,-0.5498957432666844,0.21091506283573025,0.8960109115496354,-0.08446203183891707,1.495063178165726,0.7921963932506242,0.9706531868794951,0.5442650593702897,-0.06695152379828094,-0.031671739135709996,-0.3282615102156579,-0.8570800998138681,-1.1631087687318071,1.319037497800597,0.010885976841033509,-0.16632739692236823,0.2784643719376399,-0.06477373031704924,-0.8110155425857067,0.46462041479311506,-0.29344170889783944,0.9418749445032143,-0.9145351980427542,1.5989467259671475,-0.3123143304487573,-1.7312174953372057,-0.9701391400874365,-1.263680840458927,1.6221377826941585,-1.929638890370037,-0.00807621149389771,-1.1116686536071216,-1.3142471793168062,-0.2677781320562748,-0.029451177327852074,0.6886728047322884,0.6228839741607755,1.048817636224244,-1.2720622979819218,-0.16208924811986883,-0.3442025567829724,0.05865786141098669,0.33630770910042346,-0.021898720384863044,-0.9402976316913524,-0.7092448432651228,0.6306365246150188],\"xaxis\":\"x16\",\"yaxis\":\"y16\",\"type\":\"histogram\"}],                        {\"bargap\":0.02,\"legend\":{\"bgcolor\":\"#F5F6F9\",\"font\":{\"color\":\"#4D5663\"}},\"paper_bgcolor\":\"#F5F6F9\",\"plot_bgcolor\":\"#F5F6F9\",\"showlegend\":false,\"template\":{\"data\":{\"barpolar\":[{\"marker\":{\"line\":{\"color\":\"#E5ECF6\",\"width\":0.5},\"pattern\":{\"fillmode\":\"overlay\",\"size\":10,\"solidity\":0.2}},\"type\":\"barpolar\"}],\"bar\":[{\"error_x\":{\"color\":\"#2a3f5f\"},\"error_y\":{\"color\":\"#2a3f5f\"},\"marker\":{\"line\":{\"color\":\"#E5ECF6\",\"width\":0.5},\"pattern\":{\"fillmode\":\"overlay\",\"size\":10,\"solidity\":0.2}},\"type\":\"bar\"}],\"carpet\":[{\"aaxis\":{\"endlinecolor\":\"#2a3f5f\",\"gridcolor\":\"white\",\"linecolor\":\"white\",\"minorgridcolor\":\"white\",\"startlinecolor\":\"#2a3f5f\"},\"baxis\":{\"endlinecolor\":\"#2a3f5f\",\"gridcolor\":\"white\",\"linecolor\":\"white\",\"minorgridcolor\":\"white\",\"startlinecolor\":\"#2a3f5f\"},\"type\":\"carpet\"}],\"choropleth\":[{\"colorbar\":{\"outlinewidth\":0,\"ticks\":\"\"},\"type\":\"choropleth\"}],\"contourcarpet\":[{\"colorbar\":{\"outlinewidth\":0,\"ticks\":\"\"},\"type\":\"contourcarpet\"}],\"contour\":[{\"colorbar\":{\"outlinewidth\":0,\"ticks\":\"\"},\"colorscale\":[[0.0,\"#0d0887\"],[0.1111111111111111,\"#46039f\"],[0.2222222222222222,\"#7201a8\"],[0.3333333333333333,\"#9c179e\"],[0.4444444444444444,\"#bd3786\"],[0.5555555555555556,\"#d8576b\"],[0.6666666666666666,\"#ed7953\"],[0.7777777777777778,\"#fb9f3a\"],[0.8888888888888888,\"#fdca26\"],[1.0,\"#f0f921\"]],\"type\":\"contour\"}],\"heatmapgl\":[{\"colorbar\":{\"outlinewidth\":0,\"ticks\":\"\"},\"colorscale\":[[0.0,\"#0d0887\"],[0.1111111111111111,\"#46039f\"],[0.2222222222222222,\"#7201a8\"],[0.3333333333333333,\"#9c179e\"],[0.4444444444444444,\"#bd3786\"],[0.5555555555555556,\"#d8576b\"],[0.6666666666666666,\"#ed7953\"],[0.7777777777777778,\"#fb9f3a\"],[0.8888888888888888,\"#fdca26\"],[1.0,\"#f0f921\"]],\"type\":\"heatmapgl\"}],\"heatmap\":[{\"colorbar\":{\"outlinewidth\":0,\"ticks\":\"\"},\"colorscale\":[[0.0,\"#0d0887\"],[0.1111111111111111,\"#46039f\"],[0.2222222222222222,\"#7201a8\"],[0.3333333333333333,\"#9c179e\"],[0.4444444444444444,\"#bd3786\"],[0.5555555555555556,\"#d8576b\"],[0.6666666666666666,\"#ed7953\"],[0.7777777777777778,\"#fb9f3a\"],[0.8888888888888888,\"#fdca26\"],[1.0,\"#f0f921\"]],\"type\":\"heatmap\"}],\"histogram2dcontour\":[{\"colorbar\":{\"outlinewidth\":0,\"ticks\":\"\"},\"colorscale\":[[0.0,\"#0d0887\"],[0.1111111111111111,\"#46039f\"],[0.2222222222222222,\"#7201a8\"],[0.3333333333333333,\"#9c179e\"],[0.4444444444444444,\"#bd3786\"],[0.5555555555555556,\"#d8576b\"],[0.6666666666666666,\"#ed7953\"],[0.7777777777777778,\"#fb9f3a\"],[0.8888888888888888,\"#fdca26\"],[1.0,\"#f0f921\"]],\"type\":\"histogram2dcontour\"}],\"histogram2d\":[{\"colorbar\":{\"outlinewidth\":0,\"ticks\":\"\"},\"colorscale\":[[0.0,\"#0d0887\"],[0.1111111111111111,\"#46039f\"],[0.2222222222222222,\"#7201a8\"],[0.3333333333333333,\"#9c179e\"],[0.4444444444444444,\"#bd3786\"],[0.5555555555555556,\"#d8576b\"],[0.6666666666666666,\"#ed7953\"],[0.7777777777777778,\"#fb9f3a\"],[0.8888888888888888,\"#fdca26\"],[1.0,\"#f0f921\"]],\"type\":\"histogram2d\"}],\"histogram\":[{\"marker\":{\"pattern\":{\"fillmode\":\"overlay\",\"size\":10,\"solidity\":0.2}},\"type\":\"histogram\"}],\"mesh3d\":[{\"colorbar\":{\"outlinewidth\":0,\"ticks\":\"\"},\"type\":\"mesh3d\"}],\"parcoords\":[{\"line\":{\"colorbar\":{\"outlinewidth\":0,\"ticks\":\"\"}},\"type\":\"parcoords\"}],\"pie\":[{\"automargin\":true,\"type\":\"pie\"}],\"scatter3d\":[{\"line\":{\"colorbar\":{\"outlinewidth\":0,\"ticks\":\"\"}},\"marker\":{\"colorbar\":{\"outlinewidth\":0,\"ticks\":\"\"}},\"type\":\"scatter3d\"}],\"scattercarpet\":[{\"marker\":{\"colorbar\":{\"outlinewidth\":0,\"ticks\":\"\"}},\"type\":\"scattercarpet\"}],\"scattergeo\":[{\"marker\":{\"colorbar\":{\"outlinewidth\":0,\"ticks\":\"\"}},\"type\":\"scattergeo\"}],\"scattergl\":[{\"marker\":{\"colorbar\":{\"outlinewidth\":0,\"ticks\":\"\"}},\"type\":\"scattergl\"}],\"scattermapbox\":[{\"marker\":{\"colorbar\":{\"outlinewidth\":0,\"ticks\":\"\"}},\"type\":\"scattermapbox\"}],\"scatterpolargl\":[{\"marker\":{\"colorbar\":{\"outlinewidth\":0,\"ticks\":\"\"}},\"type\":\"scatterpolargl\"}],\"scatterpolar\":[{\"marker\":{\"colorbar\":{\"outlinewidth\":0,\"ticks\":\"\"}},\"type\":\"scatterpolar\"}],\"scatter\":[{\"fillpattern\":{\"fillmode\":\"overlay\",\"size\":10,\"solidity\":0.2},\"type\":\"scatter\"}],\"scatterternary\":[{\"marker\":{\"colorbar\":{\"outlinewidth\":0,\"ticks\":\"\"}},\"type\":\"scatterternary\"}],\"surface\":[{\"colorbar\":{\"outlinewidth\":0,\"ticks\":\"\"},\"colorscale\":[[0.0,\"#0d0887\"],[0.1111111111111111,\"#46039f\"],[0.2222222222222222,\"#7201a8\"],[0.3333333333333333,\"#9c179e\"],[0.4444444444444444,\"#bd3786\"],[0.5555555555555556,\"#d8576b\"],[0.6666666666666666,\"#ed7953\"],[0.7777777777777778,\"#fb9f3a\"],[0.8888888888888888,\"#fdca26\"],[1.0,\"#f0f921\"]],\"type\":\"surface\"}],\"table\":[{\"cells\":{\"fill\":{\"color\":\"#EBF0F8\"},\"line\":{\"color\":\"white\"}},\"header\":{\"fill\":{\"color\":\"#C8D4E3\"},\"line\":{\"color\":\"white\"}},\"type\":\"table\"}]},\"layout\":{\"annotationdefaults\":{\"arrowcolor\":\"#2a3f5f\",\"arrowhead\":0,\"arrowwidth\":1},\"autotypenumbers\":\"strict\",\"coloraxis\":{\"colorbar\":{\"outlinewidth\":0,\"ticks\":\"\"}},\"colorscale\":{\"diverging\":[[0,\"#8e0152\"],[0.1,\"#c51b7d\"],[0.2,\"#de77ae\"],[0.3,\"#f1b6da\"],[0.4,\"#fde0ef\"],[0.5,\"#f7f7f7\"],[0.6,\"#e6f5d0\"],[0.7,\"#b8e186\"],[0.8,\"#7fbc41\"],[0.9,\"#4d9221\"],[1,\"#276419\"]],\"sequential\":[[0.0,\"#0d0887\"],[0.1111111111111111,\"#46039f\"],[0.2222222222222222,\"#7201a8\"],[0.3333333333333333,\"#9c179e\"],[0.4444444444444444,\"#bd3786\"],[0.5555555555555556,\"#d8576b\"],[0.6666666666666666,\"#ed7953\"],[0.7777777777777778,\"#fb9f3a\"],[0.8888888888888888,\"#fdca26\"],[1.0,\"#f0f921\"]],\"sequentialminus\":[[0.0,\"#0d0887\"],[0.1111111111111111,\"#46039f\"],[0.2222222222222222,\"#7201a8\"],[0.3333333333333333,\"#9c179e\"],[0.4444444444444444,\"#bd3786\"],[0.5555555555555556,\"#d8576b\"],[0.6666666666666666,\"#ed7953\"],[0.7777777777777778,\"#fb9f3a\"],[0.8888888888888888,\"#fdca26\"],[1.0,\"#f0f921\"]]},\"colorway\":[\"#636efa\",\"#EF553B\",\"#00cc96\",\"#ab63fa\",\"#FFA15A\",\"#19d3f3\",\"#FF6692\",\"#B6E880\",\"#FF97FF\",\"#FECB52\"],\"font\":{\"color\":\"#2a3f5f\"},\"geo\":{\"bgcolor\":\"white\",\"lakecolor\":\"white\",\"landcolor\":\"#E5ECF6\",\"showlakes\":true,\"showland\":true,\"subunitcolor\":\"white\"},\"hoverlabel\":{\"align\":\"left\"},\"hovermode\":\"closest\",\"mapbox\":{\"style\":\"light\"},\"paper_bgcolor\":\"white\",\"plot_bgcolor\":\"#E5ECF6\",\"polar\":{\"angularaxis\":{\"gridcolor\":\"white\",\"linecolor\":\"white\",\"ticks\":\"\"},\"bgcolor\":\"#E5ECF6\",\"radialaxis\":{\"gridcolor\":\"white\",\"linecolor\":\"white\",\"ticks\":\"\"}},\"scene\":{\"xaxis\":{\"backgroundcolor\":\"#E5ECF6\",\"gridcolor\":\"white\",\"gridwidth\":2,\"linecolor\":\"white\",\"showbackground\":true,\"ticks\":\"\",\"zerolinecolor\":\"white\"},\"yaxis\":{\"backgroundcolor\":\"#E5ECF6\",\"gridcolor\":\"white\",\"gridwidth\":2,\"linecolor\":\"white\",\"showbackground\":true,\"ticks\":\"\",\"zerolinecolor\":\"white\"},\"zaxis\":{\"backgroundcolor\":\"#E5ECF6\",\"gridcolor\":\"white\",\"gridwidth\":2,\"linecolor\":\"white\",\"showbackground\":true,\"ticks\":\"\",\"zerolinecolor\":\"white\"}},\"shapedefaults\":{\"line\":{\"color\":\"#2a3f5f\"}},\"ternary\":{\"aaxis\":{\"gridcolor\":\"white\",\"linecolor\":\"white\",\"ticks\":\"\"},\"baxis\":{\"gridcolor\":\"white\",\"linecolor\":\"white\",\"ticks\":\"\"},\"bgcolor\":\"#E5ECF6\",\"caxis\":{\"gridcolor\":\"white\",\"linecolor\":\"white\",\"ticks\":\"\"}},\"title\":{\"x\":0.05},\"xaxis\":{\"automargin\":true,\"gridcolor\":\"white\",\"linecolor\":\"white\",\"ticks\":\"\",\"title\":{\"standoff\":15},\"zerolinecolor\":\"white\",\"zerolinewidth\":2},\"yaxis\":{\"automargin\":true,\"gridcolor\":\"white\",\"linecolor\":\"white\",\"ticks\":\"\",\"title\":{\"standoff\":15},\"zerolinecolor\":\"white\",\"zerolinewidth\":2}}},\"title\":{\"font\":{\"color\":\"#4D5663\"}},\"xaxis\":{\"anchor\":\"y\",\"domain\":[0.0,0.2125],\"gridcolor\":\"#E1E5ED\",\"showgrid\":false,\"tickfont\":{\"color\":\"#4D5663\"},\"title\":{\"font\":{\"color\":\"#4D5663\"},\"text\":\"\"},\"zerolinecolor\":\"#E1E5ED\"},\"yaxis\":{\"anchor\":\"x\",\"domain\":[0.8025,1.0],\"gridcolor\":\"#E1E5ED\",\"showgrid\":false,\"tickfont\":{\"color\":\"#4D5663\"},\"title\":{\"font\":{\"color\":\"#4D5663\"},\"text\":\"\"},\"zerolinecolor\":\"#E1E5ED\"},\"xaxis2\":{\"anchor\":\"y2\",\"domain\":[0.2625,0.475],\"gridcolor\":\"#E1E5ED\",\"showgrid\":false,\"tickfont\":{\"color\":\"#4D5663\"},\"title\":{\"font\":{\"color\":\"#4D5663\"},\"text\":\"\"},\"zerolinecolor\":\"#E1E5ED\"},\"yaxis2\":{\"anchor\":\"x2\",\"domain\":[0.8025,1.0],\"gridcolor\":\"#E1E5ED\",\"showgrid\":false,\"tickfont\":{\"color\":\"#4D5663\"},\"title\":{\"font\":{\"color\":\"#4D5663\"},\"text\":\"\"},\"zerolinecolor\":\"#E1E5ED\"},\"xaxis3\":{\"anchor\":\"y3\",\"domain\":[0.525,0.7375],\"gridcolor\":\"#E1E5ED\",\"showgrid\":false,\"tickfont\":{\"color\":\"#4D5663\"},\"title\":{\"font\":{\"color\":\"#4D5663\"},\"text\":\"\"},\"zerolinecolor\":\"#E1E5ED\"},\"yaxis3\":{\"anchor\":\"x3\",\"domain\":[0.8025,1.0],\"gridcolor\":\"#E1E5ED\",\"showgrid\":false,\"tickfont\":{\"color\":\"#4D5663\"},\"title\":{\"font\":{\"color\":\"#4D5663\"},\"text\":\"\"},\"zerolinecolor\":\"#E1E5ED\"},\"xaxis4\":{\"anchor\":\"y4\",\"domain\":[0.7875,1.0],\"gridcolor\":\"#E1E5ED\",\"showgrid\":false,\"tickfont\":{\"color\":\"#4D5663\"},\"title\":{\"font\":{\"color\":\"#4D5663\"},\"text\":\"\"},\"zerolinecolor\":\"#E1E5ED\"},\"yaxis4\":{\"anchor\":\"x4\",\"domain\":[0.8025,1.0],\"gridcolor\":\"#E1E5ED\",\"showgrid\":false,\"tickfont\":{\"color\":\"#4D5663\"},\"title\":{\"font\":{\"color\":\"#4D5663\"},\"text\":\"\"},\"zerolinecolor\":\"#E1E5ED\"},\"xaxis5\":{\"anchor\":\"y5\",\"domain\":[0.0,0.2125],\"gridcolor\":\"#E1E5ED\",\"showgrid\":false,\"tickfont\":{\"color\":\"#4D5663\"},\"title\":{\"font\":{\"color\":\"#4D5663\"},\"text\":\"\"},\"zerolinecolor\":\"#E1E5ED\"},\"yaxis5\":{\"anchor\":\"x5\",\"domain\":[0.535,0.7325],\"gridcolor\":\"#E1E5ED\",\"showgrid\":false,\"tickfont\":{\"color\":\"#4D5663\"},\"title\":{\"font\":{\"color\":\"#4D5663\"},\"text\":\"\"},\"zerolinecolor\":\"#E1E5ED\"},\"xaxis6\":{\"anchor\":\"y6\",\"domain\":[0.2625,0.475],\"gridcolor\":\"#E1E5ED\",\"showgrid\":false,\"tickfont\":{\"color\":\"#4D5663\"},\"title\":{\"font\":{\"color\":\"#4D5663\"},\"text\":\"\"},\"zerolinecolor\":\"#E1E5ED\"},\"yaxis6\":{\"anchor\":\"x6\",\"domain\":[0.535,0.7325],\"gridcolor\":\"#E1E5ED\",\"showgrid\":false,\"tickfont\":{\"color\":\"#4D5663\"},\"title\":{\"font\":{\"color\":\"#4D5663\"},\"text\":\"\"},\"zerolinecolor\":\"#E1E5ED\"},\"xaxis7\":{\"anchor\":\"y7\",\"domain\":[0.525,0.7375],\"gridcolor\":\"#E1E5ED\",\"showgrid\":false,\"tickfont\":{\"color\":\"#4D5663\"},\"title\":{\"font\":{\"color\":\"#4D5663\"},\"text\":\"\"},\"zerolinecolor\":\"#E1E5ED\"},\"yaxis7\":{\"anchor\":\"x7\",\"domain\":[0.535,0.7325],\"gridcolor\":\"#E1E5ED\",\"showgrid\":false,\"tickfont\":{\"color\":\"#4D5663\"},\"title\":{\"font\":{\"color\":\"#4D5663\"},\"text\":\"\"},\"zerolinecolor\":\"#E1E5ED\"},\"xaxis8\":{\"anchor\":\"y8\",\"domain\":[0.7875,1.0],\"gridcolor\":\"#E1E5ED\",\"showgrid\":false,\"tickfont\":{\"color\":\"#4D5663\"},\"title\":{\"font\":{\"color\":\"#4D5663\"},\"text\":\"\"},\"zerolinecolor\":\"#E1E5ED\"},\"yaxis8\":{\"anchor\":\"x8\",\"domain\":[0.535,0.7325],\"gridcolor\":\"#E1E5ED\",\"showgrid\":false,\"tickfont\":{\"color\":\"#4D5663\"},\"title\":{\"font\":{\"color\":\"#4D5663\"},\"text\":\"\"},\"zerolinecolor\":\"#E1E5ED\"},\"xaxis9\":{\"anchor\":\"y9\",\"domain\":[0.0,0.2125],\"gridcolor\":\"#E1E5ED\",\"showgrid\":false,\"tickfont\":{\"color\":\"#4D5663\"},\"title\":{\"font\":{\"color\":\"#4D5663\"},\"text\":\"\"},\"zerolinecolor\":\"#E1E5ED\"},\"yaxis9\":{\"anchor\":\"x9\",\"domain\":[0.2675,0.465],\"gridcolor\":\"#E1E5ED\",\"showgrid\":false,\"tickfont\":{\"color\":\"#4D5663\"},\"title\":{\"font\":{\"color\":\"#4D5663\"},\"text\":\"\"},\"zerolinecolor\":\"#E1E5ED\"},\"xaxis10\":{\"anchor\":\"y10\",\"domain\":[0.2625,0.475],\"gridcolor\":\"#E1E5ED\",\"showgrid\":false,\"tickfont\":{\"color\":\"#4D5663\"},\"title\":{\"font\":{\"color\":\"#4D5663\"},\"text\":\"\"},\"zerolinecolor\":\"#E1E5ED\"},\"yaxis10\":{\"anchor\":\"x10\",\"domain\":[0.2675,0.465],\"gridcolor\":\"#E1E5ED\",\"showgrid\":false,\"tickfont\":{\"color\":\"#4D5663\"},\"title\":{\"font\":{\"color\":\"#4D5663\"},\"text\":\"\"},\"zerolinecolor\":\"#E1E5ED\"},\"xaxis11\":{\"anchor\":\"y11\",\"domain\":[0.525,0.7375],\"gridcolor\":\"#E1E5ED\",\"showgrid\":false,\"tickfont\":{\"color\":\"#4D5663\"},\"title\":{\"font\":{\"color\":\"#4D5663\"},\"text\":\"\"},\"zerolinecolor\":\"#E1E5ED\"},\"yaxis11\":{\"anchor\":\"x11\",\"domain\":[0.2675,0.465],\"gridcolor\":\"#E1E5ED\",\"showgrid\":false,\"tickfont\":{\"color\":\"#4D5663\"},\"title\":{\"font\":{\"color\":\"#4D5663\"},\"text\":\"\"},\"zerolinecolor\":\"#E1E5ED\"},\"xaxis12\":{\"anchor\":\"y12\",\"domain\":[0.7875,1.0],\"gridcolor\":\"#E1E5ED\",\"showgrid\":false,\"tickfont\":{\"color\":\"#4D5663\"},\"title\":{\"font\":{\"color\":\"#4D5663\"},\"text\":\"\"},\"zerolinecolor\":\"#E1E5ED\"},\"yaxis12\":{\"anchor\":\"x12\",\"domain\":[0.2675,0.465],\"gridcolor\":\"#E1E5ED\",\"showgrid\":false,\"tickfont\":{\"color\":\"#4D5663\"},\"title\":{\"font\":{\"color\":\"#4D5663\"},\"text\":\"\"},\"zerolinecolor\":\"#E1E5ED\"},\"xaxis13\":{\"anchor\":\"y13\",\"domain\":[0.0,0.2125],\"gridcolor\":\"#E1E5ED\",\"showgrid\":false,\"tickfont\":{\"color\":\"#4D5663\"},\"title\":{\"font\":{\"color\":\"#4D5663\"},\"text\":\"\"},\"zerolinecolor\":\"#E1E5ED\"},\"yaxis13\":{\"anchor\":\"x13\",\"domain\":[0.0,0.1975],\"gridcolor\":\"#E1E5ED\",\"showgrid\":false,\"tickfont\":{\"color\":\"#4D5663\"},\"title\":{\"font\":{\"color\":\"#4D5663\"},\"text\":\"\"},\"zerolinecolor\":\"#E1E5ED\"},\"xaxis14\":{\"anchor\":\"y14\",\"domain\":[0.2625,0.475],\"gridcolor\":\"#E1E5ED\",\"showgrid\":false,\"tickfont\":{\"color\":\"#4D5663\"},\"title\":{\"font\":{\"color\":\"#4D5663\"},\"text\":\"\"},\"zerolinecolor\":\"#E1E5ED\"},\"yaxis14\":{\"anchor\":\"x14\",\"domain\":[0.0,0.1975],\"gridcolor\":\"#E1E5ED\",\"showgrid\":false,\"tickfont\":{\"color\":\"#4D5663\"},\"title\":{\"font\":{\"color\":\"#4D5663\"},\"text\":\"\"},\"zerolinecolor\":\"#E1E5ED\"},\"xaxis15\":{\"anchor\":\"y15\",\"domain\":[0.525,0.7375],\"gridcolor\":\"#E1E5ED\",\"showgrid\":false,\"tickfont\":{\"color\":\"#4D5663\"},\"title\":{\"font\":{\"color\":\"#4D5663\"},\"text\":\"\"},\"zerolinecolor\":\"#E1E5ED\"},\"yaxis15\":{\"anchor\":\"x15\",\"domain\":[0.0,0.1975],\"gridcolor\":\"#E1E5ED\",\"showgrid\":false,\"tickfont\":{\"color\":\"#4D5663\"},\"title\":{\"font\":{\"color\":\"#4D5663\"},\"text\":\"\"},\"zerolinecolor\":\"#E1E5ED\"},\"xaxis16\":{\"anchor\":\"y16\",\"domain\":[0.7875,1.0],\"gridcolor\":\"#E1E5ED\",\"showgrid\":false,\"tickfont\":{\"color\":\"#4D5663\"},\"title\":{\"font\":{\"color\":\"#4D5663\"},\"text\":\"\"},\"zerolinecolor\":\"#E1E5ED\"},\"yaxis16\":{\"anchor\":\"x16\",\"domain\":[0.0,0.1975],\"gridcolor\":\"#E1E5ED\",\"showgrid\":false,\"tickfont\":{\"color\":\"#4D5663\"},\"title\":{\"font\":{\"color\":\"#4D5663\"},\"text\":\"\"},\"zerolinecolor\":\"#E1E5ED\"}},                        {\"showLink\": true, \"linkText\": \"Export to plot.ly\", \"plotlyServerURL\": \"https://plot.ly\", \"responsive\": true}                    ).then(function(){\n",
       "                            \n",
       "var gd = document.getElementById('2be5d5ea-9e3a-49e5-9eb2-19cd0f72f801');\n",
       "var x = new MutationObserver(function (mutations, observer) {{\n",
       "        var display = window.getComputedStyle(gd).display;\n",
       "        if (!display || display === 'none') {{\n",
       "            console.log([gd, 'removed!']);\n",
       "            Plotly.purge(gd);\n",
       "            observer.disconnect();\n",
       "        }}\n",
       "}});\n",
       "\n",
       "// Listen for the removal of the full notebook cells\n",
       "var notebookContainer = gd.closest('#notebook-container');\n",
       "if (notebookContainer) {{\n",
       "    x.observe(notebookContainer, {childList: true});\n",
       "}}\n",
       "\n",
       "// Listen for the clearing of the current output cell\n",
       "var outputEl = gd.closest('.output');\n",
       "if (outputEl) {{\n",
       "    x.observe(outputEl, {childList: true});\n",
       "}}\n",
       "\n",
       "                        })                };                });            </script>        </div>"
      ]
     },
     "metadata": {},
     "output_type": "display_data"
    }
   ],
   "source": [
    "df1.scatter_matrix()"
   ]
  },
  {
   "cell_type": "code",
   "execution_count": null,
   "id": "88d8a020",
   "metadata": {},
   "outputs": [],
   "source": []
  }
 ],
 "metadata": {
  "kernelspec": {
   "display_name": "Python 3 (ipykernel)",
   "language": "python",
   "name": "python3"
  },
  "language_info": {
   "codemirror_mode": {
    "name": "ipython",
    "version": 3
   },
   "file_extension": ".py",
   "mimetype": "text/x-python",
   "name": "python",
   "nbconvert_exporter": "python",
   "pygments_lexer": "ipython3",
   "version": "3.9.13"
  }
 },
 "nbformat": 4,
 "nbformat_minor": 5
}
